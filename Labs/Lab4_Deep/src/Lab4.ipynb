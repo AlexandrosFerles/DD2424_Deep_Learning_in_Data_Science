{
 "cells": [
  {
   "cell_type": "markdown",
   "metadata": {},
   "source": [
    "#### Import everything you need"
   ]
  },
  {
   "cell_type": "code",
   "execution_count": 69,
   "metadata": {},
   "outputs": [],
   "source": [
    "import numpy as np\n",
    "import matplotlib.pyplot as plt\n",
    "import os"
   ]
  },
  {
   "cell_type": "code",
   "execution_count": 70,
   "metadata": {},
   "outputs": [],
   "source": [
    "#### Ring a bell!"
   ]
  },
  {
   "cell_type": "code",
   "execution_count": 79,
   "metadata": {},
   "outputs": [],
   "source": [
    "def inform_exit():\n",
    "    \n",
    "    os.system('say \"Training process is completed\"')"
   ]
  },
  {
   "cell_type": "code",
   "execution_count": 80,
   "metadata": {},
   "outputs": [],
   "source": [
    "inform_exit()"
   ]
  },
  {
   "cell_type": "markdown",
   "metadata": {},
   "source": [
    "#### Load Data"
   ]
  },
  {
   "cell_type": "code",
   "execution_count": 7,
   "metadata": {},
   "outputs": [],
   "source": [
    "def Load_Text_Data(file_path='../goblet_book.txt'):\n",
    "    \"\"\"\n",
    "    Reads the input data.\n",
    "\n",
    "    :param file_path: (Optional) Position of the txt file in the local system.\n",
    "\n",
    "    :return: book_data: all input characters and unique_characters: unique single characters of the input data.\n",
    "    \"\"\"\n",
    "    book_data = open(file_path, 'r').read()\n",
    "    unique_characters = list(set(book_data))\n",
    "\n",
    "    return book_data, unique_characters"
   ]
  },
  {
   "cell_type": "markdown",
   "metadata": {},
   "source": [
    "#### Characters to Index transformation"
   ]
  },
  {
   "cell_type": "code",
   "execution_count": 8,
   "metadata": {},
   "outputs": [],
   "source": [
    "def Char_to_Ind(chars_list, unique_chars):\n",
    "    \"\"\"\n",
    "    Maps the original characters to integers.\n",
    "\n",
    "    :param chars_list: The list of characters to be encoded into integers.\n",
    "    :param unique_chars: The set of unique characters available.\n",
    "\n",
    "    :return: A list of integers that correspond to the characters.\n",
    "    \"\"\"\n",
    "\n",
    "    encoded_characters = []\n",
    "\n",
    "    for char in chars_list:\n",
    "        for index, letter in enumerate(unique_chars):\n",
    "\n",
    "            if char == letter:\n",
    "\n",
    "                encoded_characters.append(index)\n",
    "\n",
    "    return encoded_characters"
   ]
  },
  {
   "cell_type": "markdown",
   "metadata": {},
   "source": [
    "#### Index to Char transformation"
   ]
  },
  {
   "cell_type": "code",
   "execution_count": 9,
   "metadata": {},
   "outputs": [],
   "source": [
    "def Ind_to_Char(one_hot_representation, unique_chars_list):\n",
    "    \"\"\"\n",
    "    Maps a list of integers to their corresponding characters,\n",
    "\n",
    "    :param one_hot_representation: A list of one_hot representations to be transformed to their correspoding characters.\n",
    "    :param unique_chars_list: The list of unique characters.\n",
    "\n",
    "    :return: The actual character sequence.\n",
    "    \"\"\"\n",
    "\n",
    "    actual_character_sequence = []\n",
    "\n",
    "    for i in range(one_hot_representation.shape[1]):\n",
    "\n",
    "        letter_pos = np.where(one_hot_representation[:,i] == 1.0)[0][0]\n",
    "        actual_character_sequence.append(unique_chars_list[letter_pos])\n",
    "\n",
    "    return actual_character_sequence"
   ]
  },
  {
   "cell_type": "code",
   "execution_count": 10,
   "metadata": {},
   "outputs": [],
   "source": [
    "def create_one_hot_endoding(x, K):\n",
    "    \"\"\"\n",
    "    Creates the one hot encoding representation of an array.\n",
    "\n",
    "\n",
    "    :param x: The array that we wish to map in an one-hot representation.\n",
    "    :param K: The number of distinct classes.\n",
    "\n",
    "    :return: One hot representation of this number.\n",
    "    \"\"\"\n",
    "\n",
    "    x_encoded = np.zeros((K, len(x)))\n",
    "    for index, elem in enumerate(x):\n",
    "\n",
    "        x_encoded[elem, index] = 1.0\n",
    "\n",
    "    return x_encoded"
   ]
  },
  {
   "cell_type": "markdown",
   "metadata": {},
   "source": [
    "#### Softmax"
   ]
  },
  {
   "cell_type": "code",
   "execution_count": 11,
   "metadata": {},
   "outputs": [],
   "source": [
    "def softmax(X, theta=1.0, axis=None):\n",
    "    \"\"\"\n",
    "    Softmax over numpy rows and columns, taking care for overflow cases\n",
    "    Many thanks to https://nolanbconaway.github.io/blog/2017/softmax-numpy\n",
    "    Usage: Softmax over rows-> axis =0, softmax over columns ->axis =1\n",
    "\n",
    "    :param X: ND-Array. Probably should be floats.\n",
    "    :param theta: float parameter, used as a multiplier prior to exponentiation. Default = 1.0\n",
    "    :param axis (optional): axis to compute values along. Default is the first non-singleton axis.\n",
    "\n",
    "    :return: An array the same size as X. The result will sum to 1 along the specified axis\n",
    "    \"\"\"\n",
    "\n",
    "    # make X at least 2d\n",
    "    y = np.atleast_2d(X)\n",
    "\n",
    "    # find axis\n",
    "    if axis is None:\n",
    "        axis = next(j[0] for j in enumerate(y.shape) if j[1] > 1)\n",
    "    # multiply y against the theta parameter,\n",
    "    y = y * float(theta)\n",
    "\n",
    "    # subtract the max for numerical stability\n",
    "    y = y - np.expand_dims(np.max(y, axis=axis), axis)\n",
    "\n",
    "    # exponentiate y\n",
    "    y = np.exp(y)\n",
    "\n",
    "    # take the sum along the specified axis\n",
    "    ax_sum = np.expand_dims(np.sum(y, axis=axis), axis)\n",
    "\n",
    "    # finally: divide elementwise\n",
    "    p = y / ax_sum\n",
    "\n",
    "    # flatten if X was 1D\n",
    "    if len(X.shape) == 1: p = p.flatten()\n",
    "\n",
    "    return p"
   ]
  },
  {
   "cell_type": "code",
   "execution_count": 93,
   "metadata": {},
   "outputs": [],
   "source": [
    "def visualize_smoothed_loss(smoothed_loss, display=False, title=None, save_name=None, save_path='../figures/'):\n",
    "    \"\"\"\n",
    "        Visualization and saving the loss of the network.\n",
    "\n",
    "        :param smoothed_loss: The smooth loss of the RNN network.\n",
    "        :param display: (Optional) Boolean, set to True for displaying the loss evolution plot.\n",
    "        :param title: (Optional) Title of the plot.\n",
    "        :param save_name: (Optional) name of the file to save the plot.\n",
    "        :param save_path: (Optional) Path of the folder to save the plot in your local computer.\n",
    "\n",
    "        :return: None\n",
    "\n",
    "        \"\"\"\n",
    "\n",
    "    if title is not None:\n",
    "        plt.title(title)\n",
    "\n",
    "    plt.plot(smoothed_loss)\n",
    "\n",
    "    if save_name is not None:\n",
    "        if save_path[-1] != '/':\n",
    "            save_path += '/'\n",
    "        plt.savefig(save_path + save_name + '.png')\n",
    "\n",
    "    if display:\n",
    "        plt.show()\n",
    "\n",
    "    plt.clf()"
   ]
  },
  {
   "cell_type": "markdown",
   "metadata": {},
   "source": [
    "### Vanilla Recurrent Neural Network Class"
   ]
  },
  {
   "cell_type": "code",
   "execution_count": 119,
   "metadata": {},
   "outputs": [],
   "source": [
    "class RNN:\n",
    "    \"\"\"\n",
    "    Recurrent Neural Network object\n",
    "    \"\"\"\n",
    "\n",
    "    def __init__(self, m, K, eta, seq_length, std, epsilon=1e-10):\n",
    "        \"\"\"\n",
    "        Initial setting of the RNN.\n",
    "\n",
    "        :param m: Dimensionality of the hidden state.\n",
    "        :param K: Number of unique classes to identify.\n",
    "        :param eta: The learning rate of the training process.\n",
    "        :param seq_length: The length of the input sequence.\n",
    "        :param std: the variance of the normal distribution that initializes the weight matrices.\n",
    "        :param epsilon: epsilon parameter of ada-grad.\n",
    "        \"\"\"\n",
    "\n",
    "        self.m = m\n",
    "        self.K = K\n",
    "        self.eta = eta\n",
    "        self.seq_length = seq_length\n",
    "        self.std = std\n",
    "        self.epsilon = epsilon\n",
    "\n",
    "    def init_weights(self):\n",
    "        \"\"\"\n",
    "        Initializes the weights and bias matrices\n",
    "        \"\"\"\n",
    "\n",
    "        U = np.random.normal(0, self.std, size=(self.m, self.K))\n",
    "        W = np.random.normal(0, self.std, size=(self.m, self.m))\n",
    "        V = np.random.normal(0, self.std, size=(self.K, self.m))\n",
    "\n",
    "        b = np.zeros((self.m, 1))\n",
    "        c = np.zeros((self.K, 1))\n",
    "\n",
    "        return [W, U, b, V, c]\n",
    "\n",
    "    def synthesize_sequence(self, h0, x0, weight_parameters, text_length):\n",
    "        \"\"\"\n",
    "        Synthesizes a sequence of characters under the RNN values.\n",
    "\n",
    "        :param self: The RNN.\n",
    "        :param h0: Hidden state at time 0.\n",
    "        :param x0: First (dummy) input vector of the RNN.\n",
    "        :param weight_parameters: The weighst and biases of the RNN, which are:\n",
    "            :param W: Hidden-to-Hidden weight matrix.\n",
    "            :param U: Input-to-Hidden weight matrix.\n",
    "            :param b: Bias vector of the hidden layer.\n",
    "            :param V: Hidden-to-Output weight matrix.\n",
    "            :param c: Bias vector of the output layer.\n",
    "        :param text_length: The length of the text you wish to generate\n",
    "\n",
    "        :return: Synthesized text through.\n",
    "        \"\"\"\n",
    "\n",
    "        W, U, b, V, c = weight_parameters\n",
    "        Y = np.zeros(shape=(x0.shape[0], text_length))\n",
    "\n",
    "        alpha = np.dot(W, h0) + np.dot(U, np.expand_dims(x0[:,0], axis=1)) + b\n",
    "        h = np.tanh(alpha)\n",
    "        o = np.dot(V, h) + c\n",
    "        p = softmax(o)\n",
    "\n",
    "        # Compute the cumulative sum of p and draw a random sample from [0,1)\n",
    "        cumulative_sum = np.cumsum(p)\n",
    "        draw_number = np.random.sample()\n",
    "\n",
    "        # Find the element that corresponds to this random sample\n",
    "        pos = np.where(cumulative_sum > draw_number)[0][0]\n",
    "\n",
    "        # Create one-hot representation of the found position\n",
    "        Y[pos, 0] = 1.0\n",
    "\n",
    "        h0 = np.copy(h)\n",
    "        x0 = np.expand_dims(np.copy(Y[:,0]), axis=1)\n",
    "\n",
    "        for index in range(1, text_length):\n",
    "\n",
    "            alpha = np.dot(W, h0) + np.dot(U, x0) + b\n",
    "            h = np.tanh(alpha)\n",
    "            o = np.dot(V, h) + c\n",
    "            p = softmax(o)\n",
    "\n",
    "            # Compute the cumulative sum of p and draw a random sample from [0,1)\n",
    "            cumulative_sum = np.cumsum(p)\n",
    "            draw_number = np.random.sample()\n",
    "\n",
    "            # Find the element that corresponds to this random sample\n",
    "            pos = np.where(cumulative_sum > draw_number)[0][0]\n",
    "\n",
    "            # Create one-hot representation of the found position\n",
    "            Y[pos, index] = 1.0\n",
    "\n",
    "            h0 = np.copy(h)\n",
    "            x0 = np.expand_dims(np.copy(Y[:, index]), axis=1)\n",
    "\n",
    "        return Y\n",
    "\n",
    "    def ComputeLoss(self, input_sequence, Y, weight_parameters):\n",
    "        \"\"\"\n",
    "        Computes the cross-entropy loss of the RNN.\n",
    "\n",
    "        :param input_sequence: The input sequence.\n",
    "        :param weight_parameters: Weights and matrices of the RNN, which in particularly are:\n",
    "            :param W: Hidden-to-Hidden weight matrix.\n",
    "            :param U: Input-to-Hidden weight matrix.\n",
    "            :param b: Bias vector of the hidden layer.\n",
    "            :param V: Hidden-to-Output weight matrix.\n",
    "            :param c: Bias vector of the output layer.\n",
    "\n",
    "        :return: Cross entropy loss (divergence between the predictions and the true output)\n",
    "        \"\"\"\n",
    "\n",
    "        p = self.ForwardPass(input_sequence, weight_parameters)[2]\n",
    "\n",
    "        cross_entropy_loss = -np.log(np.diag(np.dot(Y.T, p))).sum()\n",
    "\n",
    "        return cross_entropy_loss\n",
    "\n",
    "    def ForwardPass(self, input_sequence, weight_parameters, h0 = None):\n",
    "        \"\"\"\n",
    "        Evaluates the predictions that the RNN does in an input character sequence.\n",
    "\n",
    "        :param input_sequence: The one-hot representation of the input sequence.\n",
    "        :param weight_parameters: The weights and biases of the network, which are:\n",
    "            :param W: Hidden-to-Hidden weight matrix.\n",
    "            :param U: Input-to-Hidden weight matrix.\n",
    "            :param b: Bias vector of the hidden layer.\n",
    "            :param V: Hidden-to-Output weight matrix.\n",
    "            :param c: Bias vector of the output layer.\n",
    "        :param h0: Initial hidden state value.\n",
    "\n",
    "        :return: The predicted character sequence based on the input one.\n",
    "        \"\"\"\n",
    "\n",
    "        W, U, b, V, c = weight_parameters\n",
    "\n",
    "        p = np.zeros(input_sequence.shape)\n",
    "        if h0 is None:\n",
    "            h_list = [np.zeros((self.m, 1))]\n",
    "        else:\n",
    "            h_list = [h0]\n",
    "\n",
    "        a_list = []\n",
    "\n",
    "        for index in range(0, input_sequence.shape[1]):\n",
    "\n",
    "            alpha = np.dot(W, h_list[-1]) + np.dot(U, np.expand_dims(input_sequence[:,index], axis=1)) + b\n",
    "            a_list.append(alpha)\n",
    "            h = np.tanh(alpha)\n",
    "            h_list.append(h)\n",
    "            o = np.dot(V, h) + c\n",
    "            p[:, index] = softmax(o).reshape(p.shape[0],)\n",
    "\n",
    "        return a_list, h_list[1:], p\n",
    "\n",
    "    def BackwardPass(self, x, Y, p, W, V, a, h, with_clipping=True):\n",
    "        \"\"\"\n",
    "        Computes the gradient updates of the network's weight and bias matrices based on the divergence between the\n",
    "        prediction and the true output.\n",
    "\n",
    "        :param x: Input data to the network.\n",
    "        :param p: Predictions of the network.\n",
    "        :param Y: One-hot representation of the correct sequence.\n",
    "        :param W: Hidden-to-Hidden weight matrix.\n",
    "        :param V: Hidden-to-Output weight matrix.\n",
    "        :param a: Hidden states before non-linearity.\n",
    "        :param h: Hidden states of the network at each time step.\n",
    "        :param with_clipping: (Optional) Set to False for not clipping in he gradients\n",
    "\n",
    "        :return:  Gradient updates.\n",
    "        \"\"\"\n",
    "\n",
    "        # grad_W, grad_U, grad_b, grad_V, grad_c = \\\n",
    "        #     np.zeros(W.shape), np.zeros((W.shape[0], x.shape[1])), np.zeros((W.shape[0], 1)), np.zeros(V), np.zeros((x.shape[0], 1))\n",
    "\n",
    "        # Computing the gradients for the last time step\n",
    "\n",
    "        grad_c = np.expand_dims((p[:, x.shape[1]- 1] - Y[:, x.shape[1]- 1]).T, axis=1)\n",
    "        grad_V = np.dot(grad_c, h[-1].T)\n",
    "\n",
    "        grad_h = np.dot(V.T, grad_c)\n",
    "\n",
    "        grad_b = np.expand_dims(np.dot(grad_h.reshape((grad_h.shape[0],)), np.diag(1 - np.tanh(a[-1].reshape((a[-1].shape[0],))) ** 2)), axis=1)\n",
    "\n",
    "        grad_W = np.dot(grad_b, h[-2].T)\n",
    "        grad_U = np.dot(grad_b, np.expand_dims(x[:,-1], axis=0))\n",
    "\n",
    "        grad_a = grad_b\n",
    "\n",
    "        for time_step in reversed(range(x.shape[1]- 1)):\n",
    "\n",
    "            grad_o = np.expand_dims((p[:, time_step] - Y[:, time_step]).T, axis=1)\n",
    "            grad_V += np.dot(grad_o, np.transpose(h[time_step]))\n",
    "            grad_c += grad_o\n",
    "\n",
    "            grad_h = np.dot(V.T, grad_o) + np.dot(grad_a.T, W).T\n",
    "\n",
    "            grad_a = np.expand_dims(np.dot(grad_h.reshape((grad_h.shape[0],)), np.diag(1 - np.tanh(a[time_step].reshape((a[time_step].shape[0],))) ** 2)), axis=1)\n",
    "\n",
    "            grad_W += np.dot(grad_a, h[time_step-1].T)\n",
    "            grad_U += np.dot(grad_a, np.expand_dims(x[:,time_step], axis=1).T)\n",
    "\n",
    "            grad_b += grad_a\n",
    "\n",
    "        gradients = [grad_W, grad_U, grad_b, grad_V, grad_c]\n",
    "\n",
    "        if with_clipping:\n",
    "\n",
    "            for index, elem in enumerate(gradients):\n",
    "\n",
    "                gradients[index] = np.maximum(-5, np.minimum(elem, 5))\n",
    "\n",
    "        return gradients\n",
    "\n",
    "    def initialize_ada_grad(self, weight_parameters):\n",
    "        \"\"\"\n",
    "        Initializes the ada_grads of the weights parameters.\n",
    "\n",
    "        :param weight_parameters: The weights and biases of the RNN\n",
    "\n",
    "        :return: Initialized ada-grad parameters.\n",
    "        \"\"\"\n",
    "\n",
    "        ada_grads = []\n",
    "\n",
    "        for elem in weight_parameters:\n",
    "\n",
    "            ada_grads.append(np.zeros(shape=elem.shape))\n",
    "\n",
    "        return ada_grads\n",
    "\n",
    "    def ada_grad_update(self, weight_parameters, ada_grads, gradients, eta):\n",
    "        \"\"\"\n",
    "        Conducts one update step of the ada-grants and weights parameters based on the currently estimated gradient updates.\n",
    "\n",
    "        :param weight_parameters: Weights and biases of the RNN network.\n",
    "        :param ada_grads: Ada grad parameters.\n",
    "        :param gradients: Gradient updates of a training step.\n",
    "        :param eta: Learning rate of the training process.\n",
    "\n",
    "        :return: Updated weight and ada_grad parameters.\n",
    "        \"\"\"\n",
    "\n",
    "        # Update ada-grads\n",
    "        for index, elem in enumerate(ada_grads):\n",
    "\n",
    "            elem += gradients[index] ** 2\n",
    "\n",
    "        for index, weight_elem in enumerate(weight_parameters):\n",
    "\n",
    "            weight_elem -= eta * gradients[index] / np.sqrt(ada_grads[index] + self.epsilon)\n",
    "\n",
    "        return weight_parameters, ada_grads\n",
    "\n",
    "\n",
    "    def fit(self, X, Y, epoches, unique_characters, verbose=True, with_break=False):\n",
    "        \"\"\"\n",
    "        Comnducts the training pprocess of the RNN nad estimates the model.\n",
    "\n",
    "        :param X: Input data (one-hot representation).\n",
    "        :param Y: Treu labels (one-hot representation).\n",
    "        :param epoches: Number of training epochs.\n",
    "        :param unique_characters: The unique characters that can be generated from the training process.\n",
    "        :param verbose: (Optional) Set to False if you do not wish to print synthesized texts during training.\n",
    "        :param with_break: (Optional) Set to True if you want to break after 100 000 update steps.\n",
    "\n",
    "        :return: The trained model.\n",
    "        \"\"\"\n",
    "\n",
    "        weight_parameters = self.init_weights()\n",
    "        gradient_object = Gradients(self)\n",
    "\n",
    "        # Number of distinct training sequences per epoch\n",
    "        training_sequences_per_epoch = X.shape[1] - self.seq_length\n",
    "\n",
    "        ada_grads = self.initialize_ada_grad(weight_parameters)\n",
    "\n",
    "        for epoch in range(epoches):\n",
    "\n",
    "            hprev = np.zeros(shape=(self.m, 1))\n",
    "\n",
    "            if epoch == 0 and verbose:\n",
    "                synthesized_text = Ind_to_Char(\n",
    "                    self.synthesize_sequence(h0=hprev, x0=X, weight_parameters=weight_parameters, text_length=200),\n",
    "                    unique_characters)\n",
    "                print('---------------------------------------------------------')\n",
    "                print(f'Synthesized before any update step:')\n",
    "                print(''.join(synthesized_text))\n",
    "\n",
    "            for e in range(training_sequences_per_epoch):\n",
    "\n",
    "                current_update_step = epoch * training_sequences_per_epoch + e\n",
    "\n",
    "                x = X[:, e:e + self.seq_length]\n",
    "                y = Y[:, e + 1:e + self.seq_length + 1]\n",
    "\n",
    "                gradient_updates, hprev = gradient_object.ComputeGradients(x, y, weight_parameters, hprev)\n",
    "\n",
    "                weight_parameters, ada_grads = self.ada_grad_update(weight_parameters, ada_grads, gradient_updates,\n",
    "                                                                    eta=self.eta)\n",
    "\n",
    "                if epoch == 0 and e == 0:\n",
    "                    smooth_loss_evolution = [self.ComputeLoss(x, y, weight_parameters)]\n",
    "                    minimum_loss = smooth_loss_evolution[0]\n",
    "\n",
    "                else:\n",
    "                    current_loss = 0.999 * smooth_loss_evolution[-1] + 0.001 * self.ComputeLoss(x, y, weight_parameters)\n",
    "                    smooth_loss_evolution.append(current_loss)\n",
    "                    if current_loss < minimum_loss:\n",
    "                        best_weights = weight_parameters\n",
    "                    best_h_prev = hprev\n",
    "\n",
    "                if verbose:\n",
    "\n",
    "                    if len(smooth_loss_evolution) % 1000 == 0 and len(smooth_loss_evolution) > 0:\n",
    "                        print('---------------------------------------------------------')\n",
    "                        print(f'Smooth loss at update step no.{current_update_step}: {smooth_loss_evolution[-1]}')\n",
    "\n",
    "                        # Also generate synthesized text if 500 updates steps have been conducted\n",
    "                        if len(smooth_loss_evolution) % 10000 == 0 and len(smooth_loss_evolution) > 0:\n",
    "                            synthesized_text = Ind_to_Char(\n",
    "                                self.synthesize_sequence(h0=hprev, x0=X, weight_parameters=weight_parameters,\n",
    "                                                         text_length=200), unique_characters)\n",
    "                            print('---------------------------------------------------------')\n",
    "                            print(f'Synthesized text of update step no.{current_update_step}')\n",
    "                            print(''.join(synthesized_text))\n",
    "\n",
    "                if with_break and current_update_step == 100000:\n",
    "                    return best_weights, best_h_prev, smooth_loss_evolution\n",
    "\n",
    "        return best_weights, best_h_prev, smooth_loss_evolution"
   ]
  },
  {
   "cell_type": "markdown",
   "metadata": {},
   "source": [
    "### Gradients Class"
   ]
  },
  {
   "cell_type": "code",
   "execution_count": 88,
   "metadata": {},
   "outputs": [],
   "source": [
    "class Gradients:\n",
    "\n",
    "    def __init__(self, RNN):\n",
    "        self.RNN = RNN\n",
    "\n",
    "    def ComputeGradients(self, X, Y, weight_parameters, hprev, with_clipping=True):\n",
    "        \"\"\"\n",
    "        Computes the analytical gradient updates of the network.\n",
    "        :param X: Input sequence.\n",
    "        :param Y: True output\n",
    "        :param weight_parameters: Weights and bias matrices of the network.\n",
    "        :param hprev: Initial hidden state to be used in the forward and backwward pass of the RNN.\n",
    "        :param with_clipping: (Optional) Set ot False if you don't wish to apply clipping in the gradients.\n",
    "\n",
    "        :return: Gradients updates.\n",
    "        \"\"\"\n",
    "\n",
    "        a_list, h_list, p = self.RNN.ForwardPass(X, weight_parameters, h0=hprev)\n",
    "        gradients = self.RNN.BackwardPass(X, Y, p, weight_parameters[0], weight_parameters[3], a_list, h_list, with_clipping)\n",
    "\n",
    "        return gradients, h_list[0]\n",
    "\n",
    "    def ComputeGradsNumSlow(self, X, Y, weight_parameters, h=1e-4):\n",
    "\n",
    "        from tqdm import tqdm\n",
    "        all_grads_num = []\n",
    "\n",
    "        for index, elem in enumerate(weight_parameters):\n",
    "\n",
    "            grad_elem = np.zeros(elem.shape)\n",
    "            # h_prev = np.zeros((W.shape[1], 1))\n",
    "\n",
    "            for i in tqdm(range(elem.shape[0])):\n",
    "                for j in range(elem.shape[1]):\n",
    "\n",
    "                    elem_try = np.copy(elem)\n",
    "                    elem_try[i, j] -= h\n",
    "                    all_weights_try = weight_parameters.copy()\n",
    "                    all_weights_try[index] = elem_try\n",
    "                    c1 = self.RNN.ComputeLoss(X, Y, weight_parameters=all_weights_try)\n",
    "\n",
    "                    elem_try = np.copy(elem)\n",
    "                    elem_try[i, j] += h\n",
    "                    all_weights_try = weight_parameters.copy()\n",
    "                    all_weights_try[index] = elem_try\n",
    "                    c2 = self.RNN.ComputeLoss(X, Y, weight_parameters=all_weights_try)\n",
    "\n",
    "                    grad_elem[i, j] = (c2-c1) / (2*h)\n",
    "\n",
    "            all_grads_num.append(grad_elem)\n",
    "\n",
    "        return all_grads_num\n",
    "\n",
    "    def check_similarity(self, X, Y, weight_parameters, with_cliping = False):\n",
    "        \"\"\"\n",
    "        Computes and compares the analytical and numerical gradients.\n",
    "\n",
    "        :param X: Input sequence.\n",
    "        :param Y: True output\n",
    "        :param weight_parameters: Weights and bias matrices of the network.\n",
    "        :param with_cliping: (Optional) Set to True to apply clipping in the gradients\n",
    "\n",
    "        :return: None.\n",
    "        \"\"\"\n",
    "\n",
    "        analytical_gradients, _ = self.ComputeGradients(X, Y, weight_parameters, hprev=np.zeros(shape=(self.RNN.m, 1)))\n",
    "        numerical_gradients = self.ComputeGradsNumSlow(X, Y, weight_parameters)\n",
    "\n",
    "        for weight_index in range(len(analytical_gradients)):\n",
    "            print('-----------------')\n",
    "            print(f'Weight parameter no. {weight_index+1}:')\n",
    "\n",
    "            weight_abs = np.abs(analytical_gradients[weight_index] - numerical_gradients[weight_index])\n",
    "\n",
    "            weight_nominator = np.average(weight_abs)\n",
    "\n",
    "            grad_weight_abs = np.absolute(analytical_gradients[weight_index])\n",
    "            grad_weight_num_abs = np.absolute(numerical_gradients[weight_index])\n",
    "\n",
    "            sum_weight = grad_weight_abs + grad_weight_num_abs\n",
    "\n",
    "            print(f'Deviation between analytical and numerical gradients: {weight_nominator / np.amax(sum_weight)}')"
   ]
  },
  {
   "cell_type": "markdown",
   "metadata": {},
   "source": [
    "## EXERCISES"
   ]
  },
  {
   "cell_type": "markdown",
   "metadata": {},
   "source": [
    "### 0.1 Read in the data"
   ]
  },
  {
   "cell_type": "code",
   "execution_count": 14,
   "metadata": {},
   "outputs": [],
   "source": [
    "book_data, unique_characters = Load_Text_Data()"
   ]
  },
  {
   "cell_type": "markdown",
   "metadata": {},
   "source": [
    "### 0.2 Set hyper-parameters & initialize the RNN’s parameters"
   ]
  },
  {
   "cell_type": "code",
   "execution_count": 46,
   "metadata": {},
   "outputs": [],
   "source": [
    "rnn = RNN(m=100, K=len(unique_characters), eta=0.01, seq_length=25, std=0.1)\n",
    "\n",
    "weight_parameters = rnn.init_weights()"
   ]
  },
  {
   "cell_type": "markdown",
   "metadata": {},
   "source": [
    "### 0.3 Synthesize text from your randomly initialized RNN"
   ]
  },
  {
   "cell_type": "code",
   "execution_count": 50,
   "metadata": {},
   "outputs": [
    {
     "name": "stdout",
     "output_type": "stream",
     "text": [
      "6}Cf}KL9D qSWzI;)Jv}J\"!'A\n"
     ]
    }
   ],
   "source": [
    "input_sequence = book_data[:rnn.seq_length]\n",
    "\n",
    "integer_encoding = Char_to_Ind(input_sequence, unique_characters)\n",
    "input_sequence_one_hot = create_one_hot_endoding(integer_encoding, len(unique_characters))\n",
    "\n",
    "test = rnn.synthesize_sequence(h0=np.zeros((rnn.m, 1)), x0=input_sequence_one_hot, weight_parameters=weight_parameters, text_length=rnn.seq_length)\n",
    "test2 = Ind_to_Char(test, unique_characters)\n",
    "print(''.join(test2))"
   ]
  },
  {
   "cell_type": "markdown",
   "metadata": {},
   "source": [
    "### 0.4 Implement the forward and backward pass"
   ]
  },
  {
   "cell_type": "markdown",
   "metadata": {},
   "source": [
    "We vallidate the correct performance of the forward and backward pass by comparing with the numerical gradients"
   ]
  },
  {
   "cell_type": "code",
   "execution_count": 65,
   "metadata": {},
   "outputs": [],
   "source": [
    "book_data, unique_characters = Load_Text_Data()\n",
    "\n",
    "rnn_object = RNN(m=5, K=len(unique_characters), eta=0.01, seq_length=25, std=0.01)\n",
    "gradient_object = Gradients(rnn_object)\n",
    "\n",
    "weight_parameters = rnn_object.init_weights()\n",
    "\n",
    "input_sequence = book_data[:rnn_object.seq_length]\n",
    "integer_encoding = Char_to_Ind(input_sequence, unique_characters)\n",
    "input_sequence_one_hot = create_one_hot_endoding(integer_encoding, len(unique_characters))\n",
    "\n",
    "output_sequence = book_data[1:1 + rnn_object.seq_length]\n",
    "output_encoding = Char_to_Ind(output_sequence, unique_characters)\n",
    "output_sequence_one_hot = create_one_hot_endoding(output_encoding, len(unique_characters))"
   ]
  },
  {
   "cell_type": "markdown",
   "metadata": {},
   "source": [
    "Check similarity:"
   ]
  },
  {
   "cell_type": "code",
   "execution_count": 66,
   "metadata": {},
   "outputs": [
    {
     "name": "stderr",
     "output_type": "stream",
     "text": [
      "100%|██████████| 5/5 [00:00<00:00, 79.17it/s]\n",
      "100%|██████████| 5/5 [00:00<00:00,  6.70it/s]\n",
      "100%|██████████| 5/5 [00:00<00:00, 398.28it/s]\n",
      "100%|██████████| 80/80 [00:00<00:00, 102.19it/s]\n",
      "100%|██████████| 80/80 [00:00<00:00, 508.64it/s]"
     ]
    },
    {
     "name": "stdout",
     "output_type": "stream",
     "text": [
      "-----------------\n",
      "Weight parameter no. 1:\n",
      "Deviation between analytical and numerical gradients: 0.01530391399828311\n",
      "-----------------\n",
      "Weight parameter no. 2:\n",
      "Deviation between analytical and numerical gradients: 9.347829544732643e-11\n",
      "-----------------\n",
      "Weight parameter no. 3:\n",
      "Deviation between analytical and numerical gradients: 6.028087082473465e-10\n",
      "-----------------\n",
      "Weight parameter no. 4:\n",
      "Deviation between analytical and numerical gradients: 8.20341705132328e-10\n",
      "-----------------\n",
      "Weight parameter no. 5:\n",
      "Deviation between analytical and numerical gradients: 6.804348250238339e-11\n"
     ]
    },
    {
     "name": "stderr",
     "output_type": "stream",
     "text": [
      "\n"
     ]
    }
   ],
   "source": [
    "gradient_object.check_similarity(input_sequence_one_hot, output_sequence_one_hot, weight_parameters)"
   ]
  },
  {
   "cell_type": "markdown",
   "metadata": {},
   "source": [
    "Done!"
   ]
  },
  {
   "cell_type": "markdown",
   "metadata": {},
   "source": [
    "### 0.5 Train your RNN using AdaGrad"
   ]
  },
  {
   "cell_type": "markdown",
   "metadata": {},
   "source": [
    "#### Include a graph of the smooth loss function for a longish training run (at least 2 epochs)."
   ]
  },
  {
   "cell_type": "code",
   "execution_count": 89,
   "metadata": {},
   "outputs": [],
   "source": [
    "rnn = RNN(m=100, K=len(unique_characters), eta=0.01, seq_length=25, std=0.01)\n",
    "\n",
    "# Create one-hot data\n",
    "integer_encoding = Char_to_Ind(book_data, unique_characters)\n",
    "input_sequence_one_hot = create_one_hot_endoding(integer_encoding, len(unique_characters))\n",
    "output_sequence_one_hot = create_one_hot_endoding(integer_encoding, len(unique_characters))\n",
    "\n",
    "weight_parameters, smoothed_loss_evolution, h_prev = rnn.fit(X=input_sequence_one_hot, Y=output_sequence_one_hot, epoches=3, unique_characters=unique_characters, verbose=False)\n",
    "inform_exit()"
   ]
  },
  {
   "cell_type": "markdown",
   "metadata": {},
   "source": [
    "Let's plot the smooth loss evolution for 3 epochs"
   ]
  },
  {
   "cell_type": "code",
   "execution_count": 97,
   "metadata": {},
   "outputs": [
    {
     "data": {
      "image/png": "[encoded data removed]",
      "text/plain": [
       "<Figure size 432x288 with 1 Axes>"
      ]
     },
     "metadata": {},
     "output_type": "display_data"
    },
    {
     "data": {
      "text/plain": [
       "<Figure size 432x288 with 0 Axes>"
      ]
     },
     "metadata": {},
     "output_type": "display_data"
    }
   ],
   "source": [
    "visualize_smoothed_loss(smoothed_loss_evolution, display=True, title='Smooth loss evolution', save_name='sm_loss')"
   ]
  },
  {
   "cell_type": "markdown",
   "metadata": {},
   "source": [
    "Minimum loss achieved:"
   ]
  },
  {
   "cell_type": "code",
   "execution_count": 100,
   "metadata": {},
   "outputs": [
    {
     "data": {
      "text/plain": [
       "52.37968904174163"
      ]
     },
     "execution_count": 100,
     "metadata": {},
     "output_type": "execute_result"
    }
   ],
   "source": [
    "min(smoothed_loss_evolution)"
   ]
  },
  {
   "cell_type": "markdown",
   "metadata": {},
   "source": [
    "The text generated by the learnt weights parameters is:"
   ]
  },
  {
   "cell_type": "code",
   "execution_count": 105,
   "metadata": {},
   "outputs": [
    {
     "name": "stdout",
     "output_type": "stream",
     "text": [
      "ermars tighe, ins belento the was iplowl the Harryon Yourbed modont \"y hise Dabllemelled Molfic artin, Indey pparee toryy's ofirg?\" shi ghefoin Mrtaco mone, snst\n",
      "her yo?  Harged fery,\"'stor, of oo tia\n"
     ]
    }
   ],
   "source": [
    "synthesized_text = Ind_to_Char(rnn.synthesize_sequence(np.zeros((rnn.m, 1)), input_sequence_one_hot, weight_parameters=weight_parameters, text_length=200), unique_characters)\n",
    "print(''.join(synthesized_text))"
   ]
  },
  {
   "cell_type": "markdown",
   "metadata": {},
   "source": [
    "####  Show the evolution of the text synthesized by your RNN during training by including a sample of synthesized text (200 characters long) before the first and before every 10,000th update steps when you train for 100,000 update steps."
   ]
  },
  {
   "cell_type": "code",
   "execution_count": 120,
   "metadata": {},
   "outputs": [
    {
     "name": "stdout",
     "output_type": "stream",
     "text": [
      "---------------------------------------------------------\n",
      "Synthesized before any update step:\n",
      "KmInD;Me(R.DdbzDByXSbb•^\"^uSo2)b9,duWe/vmC?eFoeIUNK:4N!ol:\"oEj•J6p_UüOG}RF9AupIv.G;?iFtXBF):nPa401WDP0;c,BotwG:G-std,PfOF'pRFfHHJa^zWewfN)hjkFN)'f7QU\n",
      "7h2rün9GühnBp_HG\n",
      "UU7E3'PZZVfjX\"p^Qq?\t'P16p'2ACebTQ\n",
      "---------------------------------------------------------\n",
      "Smooth loss at update step no.999: 94.90170425180797\n",
      "---------------------------------------------------------\n",
      "Smooth loss at update step no.1999: 85.43124390976648\n",
      "---------------------------------------------------------\n",
      "Smooth loss at update step no.2999: 81.27946399189537\n",
      "---------------------------------------------------------\n",
      "Smooth loss at update step no.3999: 77.15339622157197\n",
      "---------------------------------------------------------\n",
      "Smooth loss at update step no.4999: 73.91599468892989\n",
      "---------------------------------------------------------\n",
      "Smooth loss at update step no.5999: 77.47131140824555\n",
      "---------------------------------------------------------\n",
      "Smooth loss at update step no.6999: 76.41810661654567\n",
      "---------------------------------------------------------\n",
      "Smooth loss at update step no.7999: 73.39839689018854\n",
      "---------------------------------------------------------\n",
      "Smooth loss at update step no.8999: 69.53735134413351\n",
      "---------------------------------------------------------\n",
      "Smooth loss at update step no.9999: 69.37443900750188\n",
      "---------------------------------------------------------\n",
      "Synthesized text of update step no.9999\n",
      "ing, roug cam al thik thinc.. \"o\" Fhang waok  phlrer rallnurlar or tham,  alery ured td antend mohe. \tf ad hle think fpfan.  Frend oy ee therto , arc dank (ithe n\n",
      "dsunde thicg thednc thes the reaf the\n",
      "---------------------------------------------------------\n",
      "Smooth loss at update step no.10999: 67.21312788128476\n",
      "---------------------------------------------------------\n",
      "Smooth loss at update step no.11999: 64.0275403405609\n",
      "---------------------------------------------------------\n",
      "Smooth loss at update step no.12999: 63.50432088975183\n",
      "---------------------------------------------------------\n",
      "Smooth loss at update step no.13999: 64.88173143653769\n",
      "---------------------------------------------------------\n",
      "Smooth loss at update step no.14999: 65.52470610577076\n",
      "---------------------------------------------------------\n",
      "Smooth loss at update step no.15999: 65.71091545904778\n",
      "---------------------------------------------------------\n",
      "Smooth loss at update step no.16999: 65.02054286334914\n",
      "---------------------------------------------------------\n",
      "Smooth loss at update step no.17999: 67.4560878325103\n",
      "---------------------------------------------------------\n",
      "Smooth loss at update step no.18999: 66.10341155863033\n",
      "---------------------------------------------------------\n",
      "Smooth loss at update step no.19999: 61.97599532712699\n",
      "---------------------------------------------------------\n",
      "Synthesized text of update step no.19999\n",
      "on.  Frolk anthea mt masyo' he wrald sumt ittitt tankryan..\"\tOphind wat an rorect, an way coasnHt athe knstls co thinfrishe -As thy and rat af ingigmvilkongo\n",
      "n\"I- wnrtcus hand inithe pad Frann an minc\n",
      "---------------------------------------------------------\n",
      "Smooth loss at update step no.20999: 60.241208108912744\n",
      "---------------------------------------------------------\n",
      "Smooth loss at update step no.21999: 60.23732569688767\n",
      "---------------------------------------------------------\n",
      "Smooth loss at update step no.22999: 60.36607834533919\n",
      "---------------------------------------------------------\n",
      "Smooth loss at update step no.23999: 59.718727293368886\n",
      "---------------------------------------------------------\n",
      "Smooth loss at update step no.24999: 59.50303549917517\n",
      "---------------------------------------------------------\n",
      "Smooth loss at update step no.25999: 57.87566503585283\n",
      "---------------------------------------------------------\n",
      "Smooth loss at update step no.26999: 59.356047430500126\n",
      "---------------------------------------------------------\n",
      "Smooth loss at update step no.27999: 60.79837862432151\n",
      "---------------------------------------------------------\n",
      "Smooth loss at update step no.28999: 59.9607926205079\n",
      "---------------------------------------------------------\n",
      "Smooth loss at update step no.29999: 59.182330873252276\n",
      "---------------------------------------------------------\n",
      "Synthesized text of update step no.29999\n",
      "ly be an tharrsqbore Fryin rodelle the ece ond.  Ha ne thoubls withe wicunt s ancoro, Howas haor hir', Ah ane Hat bees wat urll sunlwchitt Nore han.  Hurking woas tot ium popro cfot anl of obenk tpen \n",
      "---------------------------------------------------------\n",
      "Smooth loss at update step no.30999: 59.19968434616823\n",
      "---------------------------------------------------------\n",
      "Smooth loss at update step no.31999: 62.54857797157748\n",
      "---------------------------------------------------------\n",
      "Smooth loss at update step no.32999: 62.01440335460598\n",
      "---------------------------------------------------------\n",
      "Smooth loss at update step no.33999: 63.575438075681745\n",
      "---------------------------------------------------------\n",
      "Smooth loss at update step no.34999: 61.99228858470831\n",
      "---------------------------------------------------------\n",
      "Smooth loss at update step no.35999: 60.89134594531514\n",
      "---------------------------------------------------------\n",
      "Smooth loss at update step no.36999: 59.07627843040076\n",
      "---------------------------------------------------------\n",
      "Smooth loss at update step no.37999: 59.59279757437919\n",
      "---------------------------------------------------------\n",
      "Smooth loss at update step no.38999: 62.8277965582598\n",
      "---------------------------------------------------------\n",
      "Smooth loss at update step no.39999: 72.57450315962508\n",
      "---------------------------------------------------------\n",
      "Synthesized text of update step no.39999\n",
      "lol bette harnlin wit aid se souve'k in Ha war hard hh ray Das rak har Pe B wit  tI tha s as wim  a  The tar ho he fad Su whit  how wa th o ko ds s ar ha 'a nennewarg ta we has te cat he fa urd an he \n",
      "---------------------------------------------------------\n",
      "Smooth loss at update step no.40999: 69.54484181016309\n",
      "---------------------------------------------------------\n",
      "Smooth loss at update step no.41999: 66.07183864358215\n",
      "---------------------------------------------------------\n",
      "Smooth loss at update step no.42999: 63.17489417066686\n",
      "---------------------------------------------------------\n",
      "Smooth loss at update step no.43999: 65.8727744951956\n",
      "---------------------------------------------------------\n",
      "Smooth loss at update step no.44999: 62.434649704748246\n",
      "---------------------------------------------------------\n",
      "Smooth loss at update step no.45999: 64.21951191772649\n",
      "---------------------------------------------------------\n",
      "Smooth loss at update step no.46999: 65.21155637282365\n",
      "---------------------------------------------------------\n",
      "Smooth loss at update step no.47999: 62.39426854366761\n",
      "---------------------------------------------------------\n",
      "Smooth loss at update step no.48999: 61.42845389436116\n",
      "---------------------------------------------------------\n",
      "Smooth loss at update step no.49999: 61.91959189912365\n",
      "---------------------------------------------------------\n",
      "Synthesized text of update step no.49999\n",
      "es leopeantan.  Undacl ho dledlet lo Htad if laiched comlecoue boeclees wame sif the heotn thed sick feinlinge touss nule tiut isto f houlook.\" lo sorDing urow of thaure whan thea lor sson thigghe wan\n",
      "---------------------------------------------------------\n",
      "Smooth loss at update step no.50999: 62.72609634165095\n",
      "---------------------------------------------------------\n",
      "Smooth loss at update step no.51999: 62.93046012961803\n",
      "---------------------------------------------------------\n",
      "Smooth loss at update step no.52999: 61.0977625023377\n",
      "---------------------------------------------------------\n",
      "Smooth loss at update step no.53999: 59.99823088269322\n",
      "---------------------------------------------------------\n",
      "Smooth loss at update step no.54999: 61.761914584127005\n",
      "---------------------------------------------------------\n",
      "Smooth loss at update step no.55999: 63.36352059858804\n",
      "---------------------------------------------------------\n",
      "Smooth loss at update step no.56999: 62.99787447330653\n"
     ]
    },
    {
     "name": "stdout",
     "output_type": "stream",
     "text": [
      "---------------------------------------------------------\n",
      "Smooth loss at update step no.57999: 65.69446736638152\n",
      "---------------------------------------------------------\n",
      "Smooth loss at update step no.58999: 62.688786079324046\n",
      "---------------------------------------------------------\n",
      "Smooth loss at update step no.59999: 60.34838670788607\n",
      "---------------------------------------------------------\n",
      "Synthesized text of update step no.59999\n",
      "e vit tha undtre st blof tilt; re Drengad at thea win's somt be,\n",
      " hand ay thius in toop to thendly.  Swerat lakce to there kits Qurkiim.  by net Iitn on afing tour inon fo mived tokceuo the rinind to \n",
      "---------------------------------------------------------\n",
      "Smooth loss at update step no.60999: 60.500594894155\n",
      "---------------------------------------------------------\n",
      "Smooth loss at update step no.61999: 58.56201967167257\n",
      "---------------------------------------------------------\n",
      "Smooth loss at update step no.62999: 60.43890845924481\n",
      "---------------------------------------------------------\n",
      "Smooth loss at update step no.63999: 61.14530090602712\n",
      "---------------------------------------------------------\n",
      "Smooth loss at update step no.64999: 62.78423771238982\n",
      "---------------------------------------------------------\n",
      "Smooth loss at update step no.65999: 60.72269873926506\n",
      "---------------------------------------------------------\n",
      "Smooth loss at update step no.66999: 61.24092310760296\n",
      "---------------------------------------------------------\n",
      "Smooth loss at update step no.67999: 59.8451631497824\n",
      "---------------------------------------------------------\n",
      "Smooth loss at update step no.68999: 58.99710705027517\n",
      "---------------------------------------------------------\n",
      "Smooth loss at update step no.69999: 57.39738717954684\n",
      "---------------------------------------------------------\n",
      "Synthesized text of update step no.69999\n",
      "o anly dedos.\n",
      "Herst.. Harr, Dudedigh seld meided ghe tlecatatt f\"\n",
      "Uncling ang.\n",
      " Theyt dict goome --whery ther csmind inkliscirit trou, ant Mrcenly Vermer, they lasliy rutlancar, Drscidk an\"ld.  rnon l\n",
      "---------------------------------------------------------\n",
      "Smooth loss at update step no.70999: 57.937703585389364\n",
      "---------------------------------------------------------\n",
      "Smooth loss at update step no.71999: 57.83079041689758\n",
      "---------------------------------------------------------\n",
      "Smooth loss at update step no.72999: 58.9105710900516\n",
      "---------------------------------------------------------\n",
      "Smooth loss at update step no.73999: 59.885734017442594\n",
      "---------------------------------------------------------\n",
      "Smooth loss at update step no.74999: 57.945098842863864\n",
      "---------------------------------------------------------\n",
      "Smooth loss at update step no.75999: 63.86272741432277\n",
      "---------------------------------------------------------\n",
      "Smooth loss at update step no.76999: 64.48478681000547\n",
      "---------------------------------------------------------\n",
      "Smooth loss at update step no.77999: 62.230437009425025\n",
      "---------------------------------------------------------\n",
      "Smooth loss at update step no.78999: 63.528687257526066\n",
      "---------------------------------------------------------\n",
      "Smooth loss at update step no.79999: 64.20703182513934\n",
      "---------------------------------------------------------\n",
      "Synthesized text of update step no.79999\n",
      "e slcislrygxs-p toom.\n",
      "\"Bes meinged Bo thad yore.\"\"Sbe singhin's nghinn Died camme,\"Syee-seepbed the! Hised mot ixtasled,\"R veis, thel cace Viughing?\" Thom sy stid irythind Houry tize\"\n",
      "Qgaver pinge hea\n",
      "---------------------------------------------------------\n",
      "Smooth loss at update step no.80999: 62.20031504059947\n",
      "---------------------------------------------------------\n",
      "Smooth loss at update step no.81999: 64.49957072373415\n",
      "---------------------------------------------------------\n",
      "Smooth loss at update step no.82999: 62.71423187053372\n",
      "---------------------------------------------------------\n",
      "Smooth loss at update step no.83999: 61.335181268964696\n",
      "---------------------------------------------------------\n",
      "Smooth loss at update step no.84999: 61.39918499734579\n",
      "---------------------------------------------------------\n",
      "Smooth loss at update step no.85999: 62.53037790806711\n",
      "---------------------------------------------------------\n",
      "Smooth loss at update step no.86999: 61.422877843821816\n",
      "---------------------------------------------------------\n",
      "Smooth loss at update step no.87999: 60.08778386370453\n",
      "---------------------------------------------------------\n",
      "Smooth loss at update step no.88999: 60.82335030789687\n",
      "---------------------------------------------------------\n",
      "Smooth loss at update step no.89999: 59.56707802909729\n",
      "---------------------------------------------------------\n",
      "Synthesized text of update step no.89999\n",
      "a lat!\"\n",
      "H\"I kong fed peand,\n",
      "s ther'.  't and chaved witghithed PonchI Hond Mrmurd.)\"H rugk, arabley.\"\n",
      "\"Og'sing at Shed havd ytowa dpemong ondingo checurry,?\" houmhiny ward,\"F ce tozdey'p siadby bickon\n",
      "---------------------------------------------------------\n",
      "Smooth loss at update step no.90999: 61.0316366696053\n",
      "---------------------------------------------------------\n",
      "Smooth loss at update step no.91999: 62.871118559421824\n",
      "---------------------------------------------------------\n",
      "Smooth loss at update step no.92999: 63.36621775510624\n",
      "---------------------------------------------------------\n",
      "Smooth loss at update step no.93999: 66.0063613418561\n",
      "---------------------------------------------------------\n",
      "Smooth loss at update step no.94999: 65.73407896469455\n",
      "---------------------------------------------------------\n",
      "Smooth loss at update step no.95999: 62.3040771645989\n",
      "---------------------------------------------------------\n",
      "Smooth loss at update step no.96999: 65.56447019951814\n",
      "---------------------------------------------------------\n",
      "Smooth loss at update step no.97999: 61.890816721154586\n",
      "---------------------------------------------------------\n",
      "Smooth loss at update step no.98999: 59.820539809169475\n",
      "---------------------------------------------------------\n",
      "Smooth loss at update step no.99999: 59.888617848764426\n",
      "---------------------------------------------------------\n",
      "Synthesized text of update step no.99999\n",
      "arry'n hid veryild ofordeng ingas hal whid. Rack gath peercescong\n",
      "ith Gouptors of owpottisf.\n",
      "\"Lilged be japsincundemanl -toup wase's Myy arecedly, wesund yam ye's fat.\n",
      "\"Ymine ha'nd anc(id At'cry tapey\n"
     ]
    }
   ],
   "source": [
    "rnn = RNN(m=100, K=len(unique_characters), eta=0.01, seq_length=25, std=0.01)\n",
    "\n",
    "# Create one-hot data\n",
    "integer_encoding = Char_to_Ind(book_data, unique_characters)\n",
    "input_sequence_one_hot = create_one_hot_endoding(integer_encoding, len(unique_characters))\n",
    "output_sequence_one_hot = create_one_hot_endoding(integer_encoding, len(unique_characters))\n",
    "\n",
    "weight_parameters, h_prev, smoothed_loss_evolution = rnn.fit(X=input_sequence_one_hot, Y=output_sequence_one_hot, epoches=3, unique_characters=unique_characters, with_break = True)\n",
    "inform_exit()"
   ]
  },
  {
   "cell_type": "markdown",
   "metadata": {},
   "source": [
    "Smoothed loss evolution:"
   ]
  },
  {
   "cell_type": "code",
   "execution_count": 121,
   "metadata": {},
   "outputs": [
    {
     "data": {
      "image/png": "[encoded data removed]",
      "text/plain": [
       "<Figure size 432x288 with 1 Axes>"
      ]
     },
     "metadata": {},
     "output_type": "display_data"
    },
    {
     "data": {
      "text/plain": [
       "<Figure size 432x288 with 0 Axes>"
      ]
     },
     "metadata": {},
     "output_type": "display_data"
    }
   ],
   "source": [
    "visualize_smoothed_loss(smoothed_loss_evolution, display=True, title='Smooth loss evolution', save_name='sm_loss_small')"
   ]
  },
  {
   "cell_type": "markdown",
   "metadata": {},
   "source": [
    "Minimum loss achieved:"
   ]
  },
  {
   "cell_type": "code",
   "execution_count": 122,
   "metadata": {},
   "outputs": [
    {
     "data": {
      "text/plain": [
       "56.505959327263554"
      ]
     },
     "execution_count": 122,
     "metadata": {},
     "output_type": "execute_result"
    }
   ],
   "source": [
    "min(smoothed_loss_evolution)"
   ]
  },
  {
   "cell_type": "markdown",
   "metadata": {},
   "source": [
    "Synthesized text by best learnt parameters:"
   ]
  },
  {
   "cell_type": "code",
   "execution_count": 125,
   "metadata": {},
   "outputs": [
    {
     "name": "stdout",
     "output_type": "stream",
     "text": [
      "erey voo gat Rte towet.\"\n",
      "As sposs thtobed hoursss. Weuscieg wit, t poreaned,\"s ded, sewone he pimas ap fpaastl, Un! \"Roig goot R Poug, Rot hid thea's,\" sice koucke tabeer ferly.  Tho gail os ofRivga dey pazats on thingsinpint, saced forly nhedney. wrs, thet, thecly out whing thead had Iped yow souct dica of)paaking al Remourilg,\" hin werly chtole hay re't otton cay.  Hay bid vey, brinkok.\n",
      "\"Yle saim.\n",
      "?\"We fuckint jf am ince pad tovertewest bouve Rist Harry.. Weat licl ubctmettoisiwt. \"Yo warlt tis awh miofand in Harry, the seas?\" h tamled yes Harly,\" has hewe'tter, ang te?v dith Leurdy.\" fat he ppeplaclnd, blit bothen (o keGropsling, foo hiv, cpasllyyapssty'ped Co tice spalfongel. asy'sis the stomKed war! Wpy, pipcevernint Couthe sauthey piig ytonon-d wht und evey ithered dtapgetpyf ove stoteroy inne pot sus'll they apd'd saad on\n",
      "\"Jomt ippey's for yive dari-,\"r tA of t eukl?.\n",
      "\"The daed anon hou lea wad?\"\n",
      "\"\"xessin's pay asleyg.  \"Oid I'?\" cne. .- Weackign, H's saik,\" sou't phemt, tho kre\n"
     ]
    }
   ],
   "source": [
    "synthesized_text = Ind_to_Char(rnn.synthesize_sequence(h_prev, input_sequence_one_hot, weight_parameters=weight_parameters, text_length=1000), unique_characters)\n",
    "print(''.join(synthesized_text))"
   ]
  },
  {
   "cell_type": "code",
   "execution_count": null,
   "metadata": {},
   "outputs": [],
   "source": []
  },
  {
   "cell_type": "code",
   "execution_count": null,
   "metadata": {},
   "outputs": [],
   "source": []
  }
 ],
 "metadata": {
  "kernelspec": {
   "display_name": "Python 3",
   "language": "python",
   "name": "python3"
  },
  "language_info": {
   "codemirror_mode": {
    "name": "ipython",
    "version": 3
   },
   "file_extension": ".py",
   "mimetype": "text/x-python",
   "name": "python",
   "nbconvert_exporter": "python",
   "pygments_lexer": "ipython3",
   "version": "3.6.5"
  }
 },
 "nbformat": 4,
 "nbformat_minor": 2
}
