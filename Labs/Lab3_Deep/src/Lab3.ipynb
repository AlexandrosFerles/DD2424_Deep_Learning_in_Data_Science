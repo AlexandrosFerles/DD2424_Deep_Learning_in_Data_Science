{
 "cells": [
  {
   "cell_type": "code",
   "execution_count": 1,
   "metadata": {},
   "outputs": [
    {
     "name": "stderr",
     "output_type": "stream",
     "text": [
      "Using TensorFlow backend.\n"
     ]
    }
   ],
   "source": [
    "import numpy as np\n",
    "import matplotlib.pyplot as plt\n",
    "from keras.utils import to_categorical as make_class_categorical\n",
    "import _pickle as pickle\n",
    "from tqdm import tqdm"
   ]
  },
  {
   "cell_type": "code",
   "execution_count": 2,
   "metadata": {},
   "outputs": [],
   "source": [
    "def LoadBatch(filename):\n",
    "    \"\"\"\n",
    "    Loads batch based on the given filename and produces the X, Y, and y arrays\n",
    "\n",
    "    :param filename: Path of the file\n",
    "    :return: X, Y and y arrays\n",
    "    \"\"\"\n",
    "\n",
    "    # borrowed from https://www.cs.toronto.edu/~kriz/cifar.html\n",
    "    def unpickle(file):\n",
    "        with open(file, 'rb') as fo:\n",
    "            dict = pickle.load(fo, encoding='bytes')\n",
    "        return dict\n",
    "\n",
    "    dictionary = unpickle(filename)\n",
    "\n",
    "    # borrowed from https://stackoverflow.com/questions/16977385/extract-the-nth-key-in-a-python-dictionary?utm_medium=organic&utm_source=google_rich_qa&utm_campaign=google_rich_qa\n",
    "    def ix(dic, n):  # don't use dict as  a variable name\n",
    "        try:\n",
    "            return list(dic)[n]  # or sorted(dic)[n] if you want the keys to be sorted\n",
    "        except IndexError:\n",
    "            print('not enough keys')\n",
    "\n",
    "    garbage = ix(dictionary, 1)\n",
    "    y = dictionary[garbage]\n",
    "    Y = np.transpose(make_class_categorical(y, 10))\n",
    "    garbage = ix(dictionary, 2)\n",
    "    X = np.transpose(dictionary[garbage]) / 255\n",
    "\n",
    "    return X, Y, y"
   ]
  },
  {
   "cell_type": "markdown",
   "metadata": {},
   "source": [
    "#### Weight initialization"
   ]
  },
  {
   "cell_type": "code",
   "execution_count": 3,
   "metadata": {},
   "outputs": [],
   "source": [
    "def initialize_weights(shapes_list, std=0.001):\n",
    "    \"\"\"\n",
    "    Initializes the weight and bias arrays for the 2 layers of the network\n",
    "\n",
    "    :param shapes_list: List that contains the shapes of the weight matrices of each layer. The number of layers can be found through\n",
    "                        estimating the length of this list.\n",
    "    :param variance (optional): The variance of the normal distribution that will be used for the initialization of the weights\n",
    "\n",
    "    :return: Weights and bias arrays for each layer of the network stored in lists\n",
    "    \"\"\"\n",
    "\n",
    "    np.random.seed(400)\n",
    "\n",
    "    weights = []\n",
    "    biases = []\n",
    "\n",
    "    for shape in shapes_list:\n",
    "\n",
    "        W = np.random.normal(0, std, size=(shape[0], shape[1]))\n",
    "        b = np.zeros(shape=(shape[0], 1))\n",
    "\n",
    "        weights.append(W)\n",
    "        biases.append(b)\n",
    "\n",
    "    return weights, biases"
   ]
  },
  {
   "cell_type": "code",
   "execution_count": 4,
   "metadata": {},
   "outputs": [],
   "source": [
    "def he_initialization_k_layers(shapes_list):\n",
    "    \"\"\"\n",
    "    He initialization on the weight matrices.\n",
    "\n",
    "    :param shapes_list: List that contains the dimensions of each layer of the network.\n",
    "\n",
    "    :return: Initialized weight and bias matrices based on He initialization of the weights.\n",
    "    \"\"\"\n",
    "\n",
    "    weights = []\n",
    "    biases = []\n",
    "\n",
    "    for pair in shapes_list:\n",
    "\n",
    "        weights.append(np.random.randn(pair[0], pair[1]) * np.sqrt(2 / float(pair[0])))\n",
    "        biases.append(np.zeros(shape=(pair[0], 1)))\n",
    "\n",
    "    return weights, biases\n"
   ]
  },
  {
   "cell_type": "markdown",
   "metadata": {},
   "source": [
    "#### Activation function"
   ]
  },
  {
   "cell_type": "code",
   "execution_count": 5,
   "metadata": {},
   "outputs": [],
   "source": [
    "def ReLU(x):\n",
    "    \"\"\"\n",
    "    Rectified Linear Unit function\n",
    "\n",
    "    :param x: Input to the function\n",
    "\n",
    "    :return: Output of ReLU(x)\n",
    "    \"\"\"\n",
    "\n",
    "    return np.maximum(x, 0)"
   ]
  },
  {
   "cell_type": "markdown",
   "metadata": {},
   "source": [
    "#### Classifier Evaluation"
   ]
  },
  {
   "cell_type": "code",
   "execution_count": 6,
   "metadata": {},
   "outputs": [],
   "source": [
    "def softmax(X, theta=1.0, axis=None):\n",
    "    \"\"\"\n",
    "    Softmax over numpy rows and columns, taking care for overflow cases\n",
    "    Many thanks to https://nolanbconaway.github.io/blog/2017/softmax-numpy\n",
    "    Usage: Softmax over rows-> axis =0, softmax over columns ->axis =1\n",
    "\n",
    "    :param X: ND-Array. Probably should be floats.\n",
    "    :param theta: float parameter, used as a multiplier prior to exponentiation. Default = 1.0\n",
    "    :param axis (optional): axis to compute values along. Default is the first non-singleton axis.\n",
    "\n",
    "    :return: An array the same size as X. The result will sum to 1 along the specified axis\n",
    "    \"\"\"\n",
    "\n",
    "    # make X at least 2d\n",
    "    y = np.atleast_2d(X)\n",
    "\n",
    "    # find axis\n",
    "    if axis is None:\n",
    "        axis = next(j[0] for j in enumerate(y.shape) if j[1] > 1)\n",
    "\n",
    "    # multiply y against the theta parameter,\n",
    "    y = y * float(theta)\n",
    "\n",
    "    # subtract the max for numerical stability\n",
    "    y = y - np.expand_dims(np.max(y, axis=axis), axis)\n",
    "\n",
    "    # exponentiate y\n",
    "    y = np.exp(y)\n",
    "\n",
    "    # take the sum along the specified axis\n",
    "    ax_sum = np.expand_dims(np.sum(y, axis=axis), axis)\n",
    "\n",
    "    # finally: divide elementwise\n",
    "    p = y / ax_sum\n",
    "\n",
    "    # flatten if X was 1D\n",
    "    if len(X.shape) == 1: p = p.flatten()\n",
    "\n",
    "    return p"
   ]
  },
  {
   "cell_type": "code",
   "execution_count": 88,
   "metadata": {},
   "outputs": [],
   "source": [
    "def EvaluateClassifier(X, weights, biases):\n",
    "    \"\"\"\n",
    "    Computes the Softmax output of the k-layer network, based on input data X and trained weight and bias arrays\n",
    "\n",
    "    :param X: Input data\n",
    "    :param weights: Weights arrays of the k layers\n",
    "    :param biases: Bias vectors of the k layers\n",
    "\n",
    "    :return: Softmax output of the trained network, along with the intermediate layer outpouts and activations\n",
    "    \"\"\"\n",
    "\n",
    "    intermediate_outputs = [] # s's\n",
    "    intermediate_activations = [] #h's\n",
    "\n",
    "    s = np.dot(weights[0], X) + biases[0]\n",
    "    intermediate_outputs.append(s)\n",
    "    h = ReLU(s)\n",
    "    intermediate_activations.append(h)\n",
    "\n",
    "    for i in range(1, len(weights) - 1):\n",
    "\n",
    "        s = np.dot(weights[i], intermediate_activations[-1]) + biases[i]\n",
    "        intermediate_outputs.append(s)\n",
    "        h = ReLU(s)\n",
    "        intermediate_activations.append(h)\n",
    "\n",
    "    s = np.dot(weights[-1], intermediate_activations[-1]) + biases[-1]\n",
    "    p = softmax(s, axis=0)\n",
    "\n",
    "    return p, intermediate_activations, intermediate_outputs"
   ]
  },
  {
   "cell_type": "markdown",
   "metadata": {},
   "source": [
    "#### Compute Accuracy"
   ]
  },
  {
   "cell_type": "code",
   "execution_count": 7,
   "metadata": {},
   "outputs": [],
   "source": [
    "def predictClasses(p):\n",
    "    \"\"\"\n",
    "    Predicts classes based on the softmax output of the network\n",
    "\n",
    "    :param p: Softmax output of the network\n",
    "    :return: Predicted classes\n",
    "    \"\"\"\n",
    "\n",
    "    return np.argmax(p, axis=0)"
   ]
  },
  {
   "cell_type": "code",
   "execution_count": 8,
   "metadata": {},
   "outputs": [],
   "source": [
    "def ComputeAccuracy(X, y, weights, biases):\n",
    "    \"\"\"\n",
    "    Computes the accuracy of the feed-forward 2-layer network\n",
    "\n",
    "    :param X: Input data\n",
    "    :param weights: Weights arrays of the k layers\n",
    "    :param biases: Bias vectors of the k layers\n",
    "\n",
    "    :return: Accuracy performance of the neural network.\n",
    "    \"\"\"\n",
    "    p, _, _ = EvaluateClassifier(X, weights, biases)\n",
    "    predictions = predictClasses(p)\n",
    "\n",
    "    accuracy = round(np.sum(np.where(predictions - y == 0, 1, 0)) * 100 / len(y), 2)\n",
    "\n",
    "    return accuracy"
   ]
  },
  {
   "cell_type": "markdown",
   "metadata": {},
   "source": [
    "#### Compute Cost "
   ]
  },
  {
   "cell_type": "code",
   "execution_count": 9,
   "metadata": {},
   "outputs": [],
   "source": [
    "def ComputeCost(X, Y, weights, biases, regularization_term=0):\n",
    "    \"\"\"\n",
    "    Computes the cross-entropy loss on a batch of data.\n",
    "\n",
    "    :param X: Input data\n",
    "    :param y: Labels of the ground truth\n",
    "    :param weights: Weights arrays of the k layers\n",
    "    :param biases: Bias vectors of the k layers\n",
    "    :param regularization_term: Amount of regularization applied.\n",
    "\n",
    "    :return: Cross-entropy loss.\n",
    "    \"\"\"\n",
    "\n",
    "    p, _, _ = EvaluateClassifier(X, weights, biases)\n",
    "\n",
    "    cross_entropy_loss = -np.log(np.diag(np.dot(Y.T, p))).sum() / float(X.shape[1])\n",
    "\n",
    "    weight_sum = 0\n",
    "    for weight in weights:\n",
    "\n",
    "        weight_sum += np.power(weight, 2).sum()\n",
    "\n",
    "    return cross_entropy_loss + regularization_term * weight_sum"
   ]
  },
  {
   "cell_type": "markdown",
   "metadata": {},
   "source": [
    "#### Compute Gradients"
   ]
  },
  {
   "cell_type": "code",
   "execution_count": 10,
   "metadata": {},
   "outputs": [],
   "source": [
    "def ComputeGradsNumSlow(X, Y, weights, biases, start_index=0, h=1e-5):\n",
    "    \"\"\"\n",
    "    Computes gradient descent updates on a batch of data with numerical computations of great precision, thus slower computations.\n",
    "    Contributed by Josephine Sullivan for educational purposes for the DD2424 Deep Learning in Data Science course.\n",
    "\n",
    "    :param X: Input data.\n",
    "    :param Y: One-hot representation of the true labels of input data X.\n",
    "    :param weights: Weights arrays of the k layers.\n",
    "    :param biases: Bias vectors of the k layers.\n",
    "    :param start_index: In case there are already some weights and bias precomputed, we need to compute the numerical gradients for \n",
    "                        those weights and bias that have other shapes (the 2 last layers in fact).\n",
    "\n",
    "    :return: Weight and bias updates of the k layers of our network computed with numerical computations with high precision.\n",
    "    \"\"\"\n",
    "    \n",
    "    grad_weights = []\n",
    "    grad_biases = []\n",
    "    \n",
    "    for layer_index in range(start_index, len(weights)):\n",
    "        \n",
    "        W = weights[layer_index]\n",
    "        b = biases[layer_index]\n",
    "        \n",
    "        grad_W = np.zeros(W.shape)\n",
    "        grad_b = np.zeros(b.shape)\n",
    "\n",
    "        for i in tqdm(range(b.shape[0])):\n",
    "            b_try = np.copy(b)\n",
    "            b_try[i, 0] -= h\n",
    "            temp_biases = biases.copy()\n",
    "            temp_biases[layer_index] = b_try\n",
    "            c1 = ComputeCost(X=X, Y=Y, weights=weights, biases=temp_biases)\n",
    "            b_try = np.copy(b)\n",
    "            b_try[i, 0] += h\n",
    "            temp_biases = biases.copy()\n",
    "            temp_biases[layer_index] = b_try\n",
    "            c2 = ComputeCost(X=X, Y=Y, weights=weights, biases=temp_biases)\n",
    "\n",
    "            grad_b[i, 0] = (c2 - c1) / (2 * h)\n",
    "\n",
    "        grad_biases.append(grad_b)\n",
    "\n",
    "        for i in tqdm(range(W.shape[0])):\n",
    "            for j in range(W.shape[1]):\n",
    "                W_try = np.copy(W)\n",
    "                W_try[i, j] -= h\n",
    "                temp_weights = weights.copy()\n",
    "                temp_weights[layer_index] = W_try\n",
    "                c1 = ComputeCost(X=X, Y=Y, weights=temp_weights, biases=biases)\n",
    "                W_try = np.copy(W)\n",
    "                W_try[i, j] += h\n",
    "                temp_weights = weights.copy()\n",
    "                temp_weights[layer_index] = W_try\n",
    "                c2 = ComputeCost(X=X, Y=Y, weights=temp_weights, biases=biases)\n",
    "\n",
    "                grad_W[i, j] = (c2 - c1) / (2 * h)\n",
    "\n",
    "        grad_weights.append(grad_W)\n",
    "\n",
    "    return grad_weights, grad_biases"
   ]
  },
  {
   "cell_type": "code",
   "execution_count": 11,
   "metadata": {},
   "outputs": [],
   "source": [
    "def ComputeGradients(X, Y, weights, biases, p, outputs, activations, regularization_term=0):\n",
    "    \"\"\"\n",
    "    Computes gradient descent updates on a batch of data\n",
    "\n",
    "    :param X: Input data\n",
    "    :param Y: One-hot representation of the true labels of input data X\n",
    "    :param weights: Weight matrices of the k layers\n",
    "    :param biases: Bias vectors of the k layers\n",
    "    :param p: Softmax probabilities (predictions) of the network over classes.\n",
    "    :param outputs: True outputs of the intermediate layers of the network.\n",
    "    :param activations: ReLU activations of the intermediate layers of the network.\n",
    "    :param regularization_term: Contribution of the regularization in the weight updates\n",
    "\n",
    "    :return: Weight and bias updates of the first and second layer of our network\n",
    "    \"\"\"\n",
    "\n",
    "    # Back-propagate output layer at first\n",
    "\n",
    "    weight_updates = []\n",
    "    bias_updates = []\n",
    "\n",
    "    g = p - Y\n",
    "    bias_updates.append(g.sum(axis=1).reshape(biases[-1].shape))\n",
    "    weight_updates.append(np.dot(g, activations[-1].T))\n",
    "\n",
    "    for i in reversed(range(len(weights) -1)):\n",
    "    # Back-propagate the gradient vector g to the layer before\n",
    "\n",
    "        g = np.dot(g.T, weights[i+1])\n",
    "        ind = 1 * (outputs[i] > 0)\n",
    "        g = g.T * ind\n",
    "\n",
    "        if i == 0:\n",
    "            weight_updates.append(np.dot(g, X.T))\n",
    "        else:\n",
    "            weight_updates.append(np.dot(g, activations[i-1].T))\n",
    "\n",
    "        bias_updates.append(np.sum(g, axis=1).reshape(biases[i].shape))\n",
    "\n",
    "    for elem in weight_updates:\n",
    "        elem /= X.shape[1]\n",
    "\n",
    "    for elem in bias_updates:\n",
    "        elem /= X.shape[1]\n",
    "\n",
    "    # Reverse the updates to match the order of the layers\n",
    "    weight_updates = list(reversed(weight_updates)).copy()\n",
    "    bias_updates = list(reversed(bias_updates)).copy()\n",
    "\n",
    "    # Add regularizers\n",
    "    for index in range(len(weight_updates)):\n",
    "        weight_updates[index] += 2*regularization_term * weight_updates[index]\n",
    "\n",
    "    return weight_updates, bias_updates"
   ]
  },
  {
   "cell_type": "code",
   "execution_count": 12,
   "metadata": {},
   "outputs": [],
   "source": [
    "def check_similarity(grad_weights, grad_biases, num_weights, num_biases):\n",
    "    \"\"\"\n",
    "    Compares the gradients of both the analytical and numerical method and prints out a message of result\n",
    "    or failure, depending on how close these gradients are between each other.\n",
    "\n",
    "    :param grad_weights: Analytically computed gradients of the weights\n",
    "    :param grad_biases: Analytically computed gradients of the biases\n",
    "    :param num_weights: Numerically computed gradients of the weights\n",
    "    :param num_biases: Numerically computed gradients of the biases\n",
    "\n",
    "    :return: None\n",
    "    \"\"\"\n",
    "\n",
    "    for layer_index in range(len(grad_weights)):\n",
    "\n",
    "        print('-----------------')\n",
    "        print(f'Layer no. {layer_index+1}:')\n",
    "\n",
    "        weight_abs = np.abs(grad_weights[layer_index] - num_weights[layer_index])\n",
    "        bias_abs = np.abs(grad_biases[layer_index] - num_biases[layer_index])\n",
    "\n",
    "        weight_nominator = np.average(weight_abs)\n",
    "        bias_nominator = np.average(bias_abs)\n",
    "\n",
    "        grad_weight_abs = np.absolute(grad_weights[layer_index])\n",
    "        grad_weight_num_abs = np.absolute(num_weights[layer_index])\n",
    "\n",
    "        grad_bias_abs = np.absolute(grad_biases[layer_index])\n",
    "        grad_bias_num_abs = np.absolute(num_biases[layer_index])\n",
    "\n",
    "        sum_weight = grad_weight_abs + grad_weight_num_abs\n",
    "        sum_bias = grad_bias_abs + grad_bias_num_abs\n",
    "\n",
    "        print(f'Deviation on weight matrix: {weight_nominator / np.amax(sum_weight)}')\n",
    "        print(f'Deviation on bias vector: {bias_nominator / np.amax(sum_bias)}')"
   ]
  },
  {
   "cell_type": "markdown",
   "metadata": {},
   "source": [
    "#### Momentum"
   ]
  },
  {
   "cell_type": "code",
   "execution_count": 13,
   "metadata": {},
   "outputs": [],
   "source": [
    "def initialize_momentum(arrays):\n",
    "    \"\"\"\n",
    "    Initializes the momentum arrays to zero numpy arrays.\n",
    "    \n",
    "    :param matrices: Weights or bias that need corresponding momentum arrays.\n",
    "    :return: Numpy zeros for each layer of the same shape\n",
    "    \"\"\"\n",
    "    momentum_matrices = []\n",
    "    for elem in arrays:\n",
    "        momentum_matrices.append(np.zeros(elem.shape))\n",
    "    return momentum_matrices"
   ]
  },
  {
   "cell_type": "code",
   "execution_count": 14,
   "metadata": {},
   "outputs": [],
   "source": [
    "def add_momentum(weights, grad_weights, momentum_weights, biases, grad_biases, momentum_biases, eta, momentum_term):\n",
    "    \"\"\"\n",
    "    Add momentum to an array (weight or bias) of the network.\n",
    "\n",
    "    :param weights: The weight matrices of the k layers.\n",
    "    :param grad_weights: The gradient updatea of the weights.\n",
    "    :param momentum_weights: Momentum arrays (v) of the weights.\n",
    "    :param biases: The bias vector of the k layers.\n",
    "    :param grad_biases: The gradient updates for the biases.\n",
    "    :param momentum_biases: Momentum vectors (v) of the weights.\n",
    "    :param eta: Learning rate of the network.\n",
    "    :param momentum_term: Amount of momentum to be taken into account in the updates.\n",
    "\n",
    "    :return: Updated weights and biases of the network with momentum contribution, updated momentumm arrays for the\n",
    "             weights and biases of the network.\n",
    "    \"\"\"\n",
    "\n",
    "    updated_weights = []\n",
    "    updated_biases = []\n",
    "\n",
    "    for index in range(len(weights)):\n",
    "\n",
    "        new_momentum_weight = momentum_term * momentum_weights[index] + eta * grad_weights[index]\n",
    "        momentum_weights[index] = new_momentum_weight\n",
    "        updated_weights.append(weights[index] - new_momentum_weight)\n",
    "\n",
    "        new_momentum_bias = momentum_term * momentum_biases[index] + eta * grad_biases[index]\n",
    "        momentum_biases[index] = new_momentum_bias\n",
    "        updated_biases.append(biases[index] - new_momentum_bias)\n",
    "\n",
    "\n",
    "    return updated_weights, updated_biases, momentum_weights, momentum_biases\n"
   ]
  },
  {
   "cell_type": "markdown",
   "metadata": {},
   "source": [
    "#### MiniBatch Gradient Descent"
   ]
  },
  {
   "cell_type": "code",
   "execution_count": 15,
   "metadata": {},
   "outputs": [],
   "source": [
    "def MiniBatchGDwithMomentum(X, Y, X_validation, Y_validation, y_validation, GDparams, weights, biases,\n",
    "                            regularization_term=0, momentum_term=0.9):\n",
    "    \"\"\"\n",
    "    Performs mini batch-gradient descent computations.\n",
    "\n",
    "    :param X: Input batch of data\n",
    "    :param Y: One-hot representation of the true labels of the data.\n",
    "    :param X_validation: Input batch of validation data.\n",
    "    :param Y_validation: One-hot representation of the true labels of the validation data.\n",
    "    :param y_validation: True labels of the validation data.\n",
    "    :param GDparams: Gradient descent parameters (number of mini batches to construct, learning rate, epochs)\n",
    "    :param weights: Weight matrices of the k layers\n",
    "    :param biases: Bias vectors of the k layers\n",
    "    :param regularization_term: Amount of regularization applied.\n",
    "\n",
    "    :return: The weight and bias matrices learnt (trained) from the training process, loss in training and validation set.\n",
    "    \"\"\"\n",
    "    number_of_mini_batches = GDparams[0]\n",
    "    eta = GDparams[1]\n",
    "    epoches = GDparams[2]\n",
    "\n",
    "    cost = []\n",
    "    val_cost = []\n",
    "\n",
    "    momentum_weights = initialize_momentum(weights)\n",
    "    momentum_biases = initialize_momentum(biases)\n",
    "\n",
    "    original_training_cost= ComputeCost(X, Y, weights, biases, regularization_term)\n",
    "    # print('Training set loss before start of training process: '+str(ComputeCost(X, Y, W1, W2, b1, b2, regularization_term)))\n",
    "\n",
    "    best_weights = weights\n",
    "    best_biases = biases\n",
    "\n",
    "    best_validation_set_accuracy = 0\n",
    "\n",
    "    for _ in tqdm(range(epoches)):\n",
    "        # for epoch in range(epoches):\n",
    "\n",
    "        for batch in range(1, int(X.shape[1] / number_of_mini_batches)):\n",
    "            start = (batch - 1) * number_of_mini_batches + 1\n",
    "            end = batch * number_of_mini_batches + 1\n",
    "\n",
    "            p, intermediate_activations, intermediate_outputs = EvaluateClassifier(X[:, start:end], weights, biases)\n",
    "\n",
    "            grad_weights, grad_biases = ComputeGradients(X[:, start:end], Y[:, start:end], weights, biases, p, intermediate_outputs, intermediate_activations, regularization_term)\n",
    "\n",
    "            weights, biases, momentum_weights, momentum_biases = add_momentum(weights, grad_weights, momentum_weights, biases, grad_biases, momentum_biases, eta, momentum_term)\n",
    "\n",
    "        validation_set_accuracy = ComputeAccuracy(X_validation, y_validation, weights, biases)\n",
    "\n",
    "        if validation_set_accuracy > best_validation_set_accuracy:\n",
    "\n",
    "            best_weights = weights\n",
    "            best_biases = biases\n",
    "            best_validation_set_accuracy = validation_set_accuracy\n",
    "\n",
    "        epoch_cost = ComputeCost(X, Y, weights, biases, regularization_term)\n",
    "        # print('Training set loss after epoch number '+str(epoch)+' is: '+str(epoch_cost))\n",
    "        if epoch_cost > 3 * original_training_cost:\n",
    "            break\n",
    "        val_epoch_cost = ComputeCost(X_validation, Y_validation, weights, biases, regularization_term)\n",
    "\n",
    "        cost.append(epoch_cost)\n",
    "        val_cost.append(val_epoch_cost)\n",
    "\n",
    "        # Decay the learning rate\n",
    "        eta *= 0.95\n",
    "\n",
    "    return best_weights, best_biases, cost, val_cost"
   ]
  },
  {
   "cell_type": "markdown",
   "metadata": {},
   "source": [
    "#### Visualization functions"
   ]
  },
  {
   "cell_type": "code",
   "execution_count": 16,
   "metadata": {},
   "outputs": [],
   "source": [
    "def visualize_costs(loss, val_loss, display=False, title=None, save_name=None, save_path='../figures/'):\n",
    "    \"\"\"\n",
    "    Visualization and saving the losses of the network.\n",
    "\n",
    "    :param loss: Loss of the network.\n",
    "    :param val_loss: Loss of the network in the validation set.\n",
    "    :param display: (Optional) Boolean, set to True for displaying the loss evolution plot.\n",
    "    :param title: (Optional) Title of the plot.\n",
    "    :param save_name: (Optional) name of the file to save the plot.\n",
    "    :param save_path: (Optional) Path of the folder to save the plot in your local computer.\n",
    "\n",
    "    :return: None\n",
    "\n",
    "    \"\"\"\n",
    "\n",
    "    if title is not None:\n",
    "        plt.title(title)\n",
    "\n",
    "    plt.plot(loss, 'g', label='Training set ')\n",
    "    plt.plot(val_loss, 'r', label='Validation set')\n",
    "    plt.legend(loc='upper right')\n",
    "\n",
    "    if save_name is not None:\n",
    "        if save_path[-1] != '/':\n",
    "            save_path += '/'\n",
    "        plt.savefig(save_path + save_name)\n",
    "\n",
    "    if display:\n",
    "        plt.show()\n",
    "\n",
    "    plt.clf()"
   ]
  },
  {
   "cell_type": "markdown",
   "metadata": {},
   "source": [
    "#### Batch normalization"
   ]
  },
  {
   "cell_type": "code",
   "execution_count": 17,
   "metadata": {},
   "outputs": [],
   "source": [
    "def BatchNormalize(s, mean_s, var_s, epsilon=1e-6):\n",
    "    \"\"\"\n",
    "    Normalizes the scores of a batch based on their mean and variance.\n",
    "\n",
    "    :param s: Scores evaluated as output of a layer of the network.\n",
    "    :param mean_s: Mean of the scores.\n",
    "    :param var_s: Variance of the scores.\n",
    "    :param epsilon: A small number that is present to ensure that no division by zero will be performed.\n",
    "\n",
    "    :return: The normalized scores,\n",
    "    \"\"\"\n",
    "\n",
    "    temp = np.diag(np.power((var_s + epsilon), -0.5 ))\n",
    "    diff = s- mean_s\n",
    "\n",
    "    return temp * (s - mean_s)"
   ]
  },
  {
   "cell_type": "code",
   "execution_count": 18,
   "metadata": {},
   "outputs": [],
   "source": [
    "def ForwardPassBatchNormalization(X, weights, biases, exponentials= None):\n",
    "    \"\"\"\n",
    "    Evalueates the forward pass result of the classifier network using batch normalization.\n",
    "\n",
    "    :param X: Input data.\n",
    "    :param weights: Weight arrays of the k-layer network.\n",
    "    :param biases: Bias vectors of the k-layer network.\n",
    "\n",
    "    :return: Softmax probabilities (predictions) of the true labels of the data.\n",
    "    \"\"\"\n",
    "\n",
    "    s = np.dot(weights[0], X) + biases[0]\n",
    "\n",
    "    intermediate_outputs = [s]\n",
    "    intermediate_activations = [ReLU(s)]\n",
    "\n",
    "    if exponentials is not None:\n",
    "        exponential_means = exponentials[0]\n",
    "        exponential_variances = exponentials[1]\n",
    "\n",
    "        mean_s = exponential_means[0]\n",
    "        var_s = exponential_variances[0]\n",
    "    else:\n",
    "\n",
    "        mean_s = s.mean(axis=1).reshape(s.shape[0], 1)\n",
    "        var_s = s.var(axis=1).reshape(s.shape[0], 1)\n",
    "\n",
    "        means = [mean_s]\n",
    "        variances = [var_s]\n",
    "\n",
    "    normalized_score = BatchNormalize(s, mean_s, var_s)\n",
    "    # normalized_score = (s - mean_s) / np.sqrt(var_s)\n",
    "\n",
    "    batch_normalization_outputs = [normalized_score]\n",
    "    batch_normalization_activations = [ReLU(normalized_score)]\n",
    "\n",
    "    for index in range(1, len(weights) - 1):\n",
    "        s = np.dot(weights[index], batch_normalization_activations[-1]) + biases[index]\n",
    "\n",
    "        intermediate_outputs.append(s)\n",
    "        intermediate_activations.append(ReLU(s))\n",
    "\n",
    "        if exponentials is None:\n",
    "            mean_s = s.mean(axis=1).reshape(s.shape[0], 1)\n",
    "            var_s = s.var(axis=1).reshape(s.shape[0], 1)\n",
    "\n",
    "            means.append(mean_s)\n",
    "            variances.append(var_s)\n",
    "\n",
    "        else:\n",
    "\n",
    "            mean_s = exponential_means[index]\n",
    "            var_s = exponential_variances[index]\n",
    "\n",
    "        normalized_score = BatchNormalize(s, mean_s, var_s)\n",
    "        # normalized_score = (s - mean_s) / np.sqrt(var_s)\n",
    "\n",
    "        batch_normalization_outputs.append(normalized_score)\n",
    "        batch_normalization_activations.append(ReLU(normalized_score))\n",
    "\n",
    "    s = np.dot(weights[-1], batch_normalization_activations[-1]) + biases[-1]\n",
    "    p = softmax(s, axis=0)\n",
    "\n",
    "    if exponentials is not None:\n",
    "        return p\n",
    "    else:\n",
    "        return p, batch_normalization_activations, batch_normalization_outputs, means, variances, intermediate_activations, intermediate_outputs"
   ]
  },
  {
   "cell_type": "code",
   "execution_count": 19,
   "metadata": {},
   "outputs": [],
   "source": [
    "def ComputeAccuracyBatchNormalization(X, y, weights, biases, exponentials = None):\n",
    "    \"\"\"\n",
    "    Computes the accuracy of the feed-forward k-layer network\n",
    "\n",
    "    :param X: Input data\n",
    "    :param weights: Weights arrays of the k layers\n",
    "    :param biases: Bias vectors of the k layers\n",
    "    :param exponentials: Contains the exponential means and variances computed, they are used in call after training.\n",
    "\n",
    "    :return: Accuracy performance of the neural network.\n",
    "    \"\"\"\n",
    "    if exponentials is not None:\n",
    "        p = ForwardPassBatchNormalization(X, weights, biases, exponentials)\n",
    "    else:\n",
    "        p = ForwardPassBatchNormalization(X, weights, biases, exponentials)[0]\n",
    "    predictions = predictClasses(p)\n",
    "\n",
    "    accuracy = round(np.sum(np.where(predictions - y == 0, 1, 0)) * 100 / len(y), 2)\n",
    "\n",
    "    return accuracy"
   ]
  },
  {
   "cell_type": "code",
   "execution_count": 20,
   "metadata": {},
   "outputs": [],
   "source": [
    "def ComputeCostBatchNormalization(X, Y, weights, biases, regularization_term, exponentials=None):\n",
    "    \"\"\"\n",
    "    Computes the cross-entropy loss on a batch of data.\n",
    "\n",
    "    :param X: Input data\n",
    "    :param y: Labels of the ground truth\n",
    "    :param weights: Weights arrays of the k layers\n",
    "    :param biases: Bias vectors of the k layers\n",
    "    :param regularization_term: Amount of regularization applied.\n",
    "    :param exponentials: Contains the exponential means and variances computed, they are used in call after training.\n",
    "\n",
    "    :return: Cross-entropy loss.\n",
    "    \"\"\"\n",
    "\n",
    "    if exponentials is not None:\n",
    "        p = ForwardPassBatchNormalization(X, weights, biases, exponentials)\n",
    "    else:\n",
    "        p = ForwardPassBatchNormalization(X, weights, biases, exponentials)[0]\n",
    "\n",
    "    cross_entropy_loss = -np.log(np.diag(np.dot(Y.T, p))).sum() / float(X.shape[1])\n",
    "\n",
    "    weight_sum = 0\n",
    "    for weight in weights:\n",
    "\n",
    "        weight_sum += np.power(weight, 2).sum()\n",
    "\n",
    "    return cross_entropy_loss + regularization_term * weight_sum"
   ]
  },
  {
   "cell_type": "code",
   "execution_count": 21,
   "metadata": {},
   "outputs": [],
   "source": [
    "def BatchNormBackPass(g, s, mean_s, var_s, epsilon=1e-5):\n",
    "\n",
    "    t1 = (g) * np.power(var_s, -1.5)\n",
    "    diff = s - mean_s\n",
    "    t2 = t1 * diff\n",
    "    grad_v = -0.5 * t2\n",
    "    grad_v = np.copy(grad_v.sum(axis=1)).reshape(grad_v.shape[0], 1)\n",
    "\n",
    "    grad_m = - g * (np.power(var_s, -0.5))\n",
    "    grad_m = np.copy(grad_m.sum(axis=1)).reshape(grad_m.shape[0], 1)\n",
    "\n",
    "    grad_s = (g * np.power(var_s, -0.5)) + (2/float(s.shape[1])) * grad_v * (s - mean_s) + grad_m / s.shape[1]\n",
    "\n",
    "    return grad_s"
   ]
  },
  {
   "cell_type": "code",
   "execution_count": 22,
   "metadata": {},
   "outputs": [],
   "source": [
    "def BackwardPassBatchNormalization(X, Y, weights, biases, p, intermediate_outputs, intermediate_activations, means, variances, regularization_term):\n",
    "\n",
    "    # Back-propagate output layer at first\n",
    "\n",
    "    weight_updates = []\n",
    "    bias_updates = []\n",
    "\n",
    "    g = p - Y\n",
    "\n",
    "    weight_updates.append(np.dot(g, intermediate_activations[-1].T))\n",
    "    bias_updates.append(g.sum(axis=1).reshape(biases[-1].shape))\n",
    "\n",
    "    g = np.dot(g.T, weights[-1])\n",
    "    ind = 1 * (intermediate_activations[-1] > 0)\n",
    "    g = g.T * ind\n",
    "\n",
    "    for i in reversed(range(len(weights) -1)):\n",
    "    # Back-propagate the gradient vector g to the layer before\n",
    "\n",
    "        g = BatchNormBackPass(g, intermediate_outputs[i], means[i], variances[i])\n",
    "\n",
    "        if i == 0:\n",
    "            weight_updates.append(np.dot(g, X.T))\n",
    "            bias_updates.append(np.sum(g, axis=1).reshape(biases[i].shape))\n",
    "            break\n",
    "        else:\n",
    "            weight_updates.append(np.dot(g, intermediate_activations[i-1].T))\n",
    "\n",
    "        bias_updates.append(np.sum(g, axis=1).reshape(biases[i].shape))\n",
    "\n",
    "        g = np.dot(g.T, weights[i])\n",
    "        ind = 1 * (intermediate_outputs[i-1] > 0)\n",
    "        g = g.T * ind\n",
    "\n",
    "    for elem in weight_updates:\n",
    "        elem /= X.shape[1]\n",
    "\n",
    "    for elem in bias_updates:\n",
    "        elem /= X.shape[1]\n",
    "\n",
    "    # Reverse the updates to match the order of the layers\n",
    "    weight_updates = list(reversed(weight_updates)).copy()\n",
    "    bias_updates = list(reversed(bias_updates)).copy()\n",
    "\n",
    "    for index in range(len(weight_updates)):\n",
    "        weight_updates[index] += 2*regularization_term * weight_updates[index]\n",
    "\n",
    "    return weight_updates, bias_updates"
   ]
  },
  {
   "cell_type": "code",
   "execution_count": 23,
   "metadata": {},
   "outputs": [],
   "source": [
    "def ExponentialMovingAverage(means, exponential_means, variances, exponential_variances, a=0.99):\n",
    "\n",
    "    for index, elem in enumerate(exponential_means):\n",
    "\n",
    "        exponential_means[index] = a * elem + (1-a) * means[index]\n",
    "        exponential_variances[index] = a * exponential_variances[index] + (1-a) * variances[index]\n",
    "\n",
    "    return exponential_means, exponential_variances"
   ]
  },
  {
   "cell_type": "code",
   "execution_count": 24,
   "metadata": {},
   "outputs": [],
   "source": [
    "def MiniBatchGDBatchNormalization(X, Y, X_validation, Y_validation, y_validation, GDparams, weights, biases,\n",
    "                                    regularization_term, momentum_term=0.9):\n",
    "    \"\"\"\n",
    "    Performs mini batch-gradient descent computations with batch normalization.\n",
    "\n",
    "    :param X: Input batch of data\n",
    "    :param Y: One-hot representation of the true labels of the data.\n",
    "    :param X_validation: Input batch of validation data.\n",
    "    :param Y_validation: One-hot representation of the true labels of the validation data.\n",
    "    :param y_validation: True labels of the validation data.\n",
    "    :param GDparams: Gradient descent parameters (number of mini batches to construct, learning rate, epochs)\n",
    "    :param weights: Weight matrices of the k layers\n",
    "    :param biases: Bias vectors of the k layers\n",
    "    :param regularization_term: Amount of regularization applied.\n",
    "\n",
    "    :return: The weight and bias matrices learnt (trained) from the training process, loss in training and validation set.\n",
    "    \"\"\"\n",
    "    number_of_mini_batches = GDparams[0]\n",
    "    eta = GDparams[1]\n",
    "    epoches = GDparams[2]\n",
    "\n",
    "    cost = []\n",
    "    val_cost = []\n",
    "\n",
    "    momentum_weights = initialize_momentum(weights)\n",
    "    momentum_biases = initialize_momentum(biases)\n",
    "\n",
    "    original_training_cost= ComputeCost(X, Y, weights, biases, regularization_term)\n",
    "    # print('Training set loss before start of training process: '+str(ComputeCost(X, Y, W1, W2, b1, b2, regularization_term)))\n",
    "\n",
    "    best_weights = weights\n",
    "    best_biases = biases\n",
    "\n",
    "    best_validation_set_accuracy = 0\n",
    "\n",
    "    for epoch in tqdm(range(epoches)):\n",
    "        # for epoch in range(epoches):\n",
    "\n",
    "        for batch in range(1, int(X.shape[1] / number_of_mini_batches)):\n",
    "            start = (batch - 1) * number_of_mini_batches\n",
    "            end = batch * number_of_mini_batches\n",
    "\n",
    "            p, batch_norm_activations, batch_norm_outputs, means, variances, intermediate_activations, intermediate_outputs = ForwardPassBatchNormalization(X[:, start:end], weights, biases)\n",
    "\n",
    "            grad_weights, grad_biases = BackwardPassBatchNormalization(X[:, start:end], Y[:, start:end], weights, biases, p, intermediate_outputs, intermediate_activations, means, variances, regularization_term)\n",
    "\n",
    "            weights, biases, momentum_weights, momentum_biases = add_momentum(weights, grad_weights, momentum_weights, biases, grad_biases, momentum_biases, eta, momentum_term)\n",
    "\n",
    "            if epoch == 0 and start == 0:\n",
    "                exponential_means = means.copy()\n",
    "                exponential_variances = variances.copy()\n",
    "            else:\n",
    "                exponential_means, exponential_variances = ExponentialMovingAverage(means, exponential_means, variances, exponential_variances)\n",
    "\n",
    "        epoch_cost = ComputeCostBatchNormalization(X, Y, weights, biases, regularization_term, exponentials=[exponential_means, exponential_variances])\n",
    "        if epoch_cost > 3 * original_training_cost:\n",
    "            break\n",
    "        val_epoch_cost = ComputeCostBatchNormalization(X_validation, Y_validation, weights, biases, regularization_term, exponentials=[exponential_means, exponential_variances])\n",
    "\n",
    "        cost.append(epoch_cost)\n",
    "        val_cost.append(val_epoch_cost)\n",
    "\n",
    "        validation_set_accuracy = ComputeAccuracyBatchNormalization(X_validation, y_validation, weights, biases, exponentials=[exponential_means, exponential_variances])\n",
    "\n",
    "        if validation_set_accuracy > best_validation_set_accuracy:\n",
    "\n",
    "            best_weights = weights\n",
    "            best_biases = biases\n",
    "            best_validation_set_accuracy = validation_set_accuracy\n",
    "\n",
    "        # Decay the learning rate\n",
    "        eta *= 0.95\n",
    "\n",
    "    print(f'Best validation set accuracy: {best_validation_set_accuracy}')\n",
    "    return best_weights, best_biases, cost, val_cost, exponential_means, exponential_variances"
   ]
  },
  {
   "cell_type": "markdown",
   "metadata": {},
   "source": [
    "### EXERCISE 1: Upgrade your code from assignment 2 so that you can train a k-layer network."
   ]
  },
  {
   "cell_type": "markdown",
   "metadata": {},
   "source": [
    "#### Compare with numerically computed gradients of a 2-layer network"
   ]
  },
  {
   "cell_type": "code",
   "execution_count": 55,
   "metadata": {},
   "outputs": [],
   "source": [
    "weights, biases = initialize_weights([[50, 3072], [10, 50]])"
   ]
  },
  {
   "cell_type": "code",
   "execution_count": 22,
   "metadata": {},
   "outputs": [],
   "source": [
    "X_training_1, Y_training_1, y_training_1 = LoadBatch('../../cifar-10-batches-py/data_batch_1')\n",
    "X_training_2, Y_training_2, y_training_2 = LoadBatch('../../cifar-10-batches-py/data_batch_2')\n",
    "X_test, _, y_test = LoadBatch('../../cifar-10-batches-py/test_batch')\n",
    "\n",
    "mean = np.mean(X_training_1)\n",
    "X_training_1 -= mean\n",
    "X_training_2 -= mean\n",
    "X_test -= mean"
   ]
  },
  {
   "cell_type": "markdown",
   "metadata": {},
   "source": [
    "We have already available the numerical gradients for 2 layers:"
   ]
  },
  {
   "cell_type": "code",
   "execution_count": 56,
   "metadata": {},
   "outputs": [],
   "source": [
    "W1_num = np.load('grad_W1_num.npy')\n",
    "W2_num = np.load('grad_W2_num.npy')\n",
    "\n",
    "b1_num = np.load('grad_b1_num.npy')\n",
    "b2_num = np.load('grad_b2_num.npy')"
   ]
  },
  {
   "cell_type": "code",
   "execution_count": 77,
   "metadata": {},
   "outputs": [],
   "source": [
    "num_weights = [W1_num, W2_num]\n",
    "num_biases = [b1_num, b2_num]\n",
    "\n",
    "p, activations, outputs = EvaluateClassifier(X_training_1[:, 0:2], weights, biases)\n",
    "grad_weights, grad_biases = ComputeGradients(X_training_1[:, 0:2], Y_training_1[:, 0:2], weights, biases, p, outputs, activations)"
   ]
  },
  {
   "cell_type": "code",
   "execution_count": 58,
   "metadata": {},
   "outputs": [
    {
     "name": "stdout",
     "output_type": "stream",
     "text": [
      "-----------------\n",
      "Layer no. 1:\n",
      "Deviation on weight matrix: 7.52283628908819e-09\n",
      "Deviation on bias vector: 4.602426291547493e-09\n",
      "-----------------\n",
      "Layer no. 2:\n",
      "Deviation on weight matrix: 3.0747216543846533e-10\n",
      "Deviation on bias vector: 1.1936382115255306e-11\n"
     ]
    }
   ],
   "source": [
    "check_similarity(grad_weights, grad_biases, num_weights, num_biases)"
   ]
  },
  {
   "cell_type": "markdown",
   "metadata": {},
   "source": [
    "Deviation of at most $10^{-9}$, all good to this point!"
   ]
  },
  {
   "cell_type": "markdown",
   "metadata": {},
   "source": [
    "We proceed with computing gradients for a 3-layer network"
   ]
  },
  {
   "cell_type": "code",
   "execution_count": 63,
   "metadata": {},
   "outputs": [],
   "source": [
    "weights, biases = initialize_weights([[50, 3072], [20, 50], [10, 20]])"
   ]
  },
  {
   "cell_type": "code",
   "execution_count": 71,
   "metadata": {},
   "outputs": [
    {
     "name": "stderr",
     "output_type": "stream",
     "text": [
      "100%|██████████| 50/50 [00:00<00:00, 99.05it/s]\n",
      "100%|██████████| 50/50 [24:35<00:00, 29.50s/it]\n",
      "100%|██████████| 20/20 [00:00<00:00, 112.14it/s]\n",
      "100%|██████████| 20/20 [00:09<00:00,  2.20it/s]\n",
      "100%|██████████| 10/10 [00:00<00:00, 111.00it/s]\n",
      "100%|██████████| 10/10 [00:01<00:00,  5.53it/s]\n"
     ]
    }
   ],
   "source": [
    "grad_weights_3_num, grad_bias_3_num = ComputeGradsNumSlow(X_training_1[:, 0:2], Y_training_1[:, 0:2], weights, biases)"
   ]
  },
  {
   "cell_type": "code",
   "execution_count": 78,
   "metadata": {},
   "outputs": [],
   "source": [
    "for weight_index in range(len(grad_weights_3_num)):\n",
    "    \n",
    "    np.save(f'3_layers_num_weights{weight_index}', grad_weights_3_num[weight_index])\n",
    "    np.save(f'3_layers_num_bias{weight_index}', grad_bias_3_num[weight_index])"
   ]
  },
  {
   "cell_type": "code",
   "execution_count": 90,
   "metadata": {},
   "outputs": [],
   "source": [
    "p, activations, outputs = EvaluateClassifier(X_training_1[:, 0:2], weights, biases)\n",
    "grad_weights, grad_biases = ComputeGradients(X_training_1[:, 0:2], Y_training_1[:, 0:2], weights, biases, p, outputs, activations)"
   ]
  },
  {
   "cell_type": "code",
   "execution_count": 91,
   "metadata": {},
   "outputs": [
    {
     "name": "stdout",
     "output_type": "stream",
     "text": [
      "-----------------\n",
      "Layer no. 1:\n",
      "Deviation on weight matrix: 2.1237177447134792e-06\n",
      "Deviation on bias vector: 1.047827661340416e-06\n",
      "-----------------\n",
      "Layer no. 2:\n",
      "Deviation on weight matrix: 1.197615459525251e-07\n",
      "Deviation on bias vector: 0.0032312506974258464\n",
      "-----------------\n",
      "Layer no. 3:\n",
      "Deviation on weight matrix: 7.368229647407527e-08\n",
      "Deviation on bias vector: 1.677023298915395e-11\n"
     ]
    }
   ],
   "source": [
    "check_similarity(grad_weights, grad_biases, grad_weights_3_num, grad_bias_3_num)"
   ]
  },
  {
   "cell_type": "markdown",
   "metadata": {},
   "source": [
    "So far so good! Let's check 4 layers."
   ]
  },
  {
   "cell_type": "code",
   "execution_count": 121,
   "metadata": {},
   "outputs": [],
   "source": [
    "weights, biases = initialize_weights([[50, 3072], [20, 50], [15, 20], [10,15]])"
   ]
  },
  {
   "cell_type": "markdown",
   "metadata": {},
   "source": [
    "Form the correctly shaped matrices to check"
   ]
  },
  {
   "cell_type": "code",
   "execution_count": 118,
   "metadata": {},
   "outputs": [
    {
     "name": "stderr",
     "output_type": "stream",
     "text": [
      "100%|██████████| 50/50 [00:00<00:00, 97.39it/s]\n",
      "100%|██████████| 50/50 [25:01<00:00, 30.02s/it]\n",
      "100%|██████████| 20/20 [00:00<00:00, 101.33it/s]\n",
      "100%|██████████| 20/20 [00:08<00:00,  2.31it/s]\n",
      "100%|██████████| 15/15 [00:00<00:00, 111.27it/s]\n",
      "100%|██████████| 15/15 [00:02<00:00,  5.65it/s]\n",
      "100%|██████████| 10/10 [00:00<00:00, 110.81it/s]\n",
      "100%|██████████| 10/10 [00:01<00:00,  7.57it/s]\n"
     ]
    }
   ],
   "source": [
    "grad_weights_4_num, grad_bias_4_num = ComputeGradsNumSlow(X_training_1[:, 0:2], Y_training_1[:, 0:2], weights, biases)"
   ]
  },
  {
   "cell_type": "code",
   "execution_count": 127,
   "metadata": {},
   "outputs": [],
   "source": [
    "for weight_index in range(len(grad_weights_4_num)):\n",
    "    \n",
    "    np.save(f'4_layers_num_weights{weight_index}', grad_weights_4_num[weight_index])\n",
    "    np.save(f'4_layers_num_bias{weight_index}', grad_bias_4_num[weight_index])"
   ]
  },
  {
   "cell_type": "code",
   "execution_count": 122,
   "metadata": {},
   "outputs": [],
   "source": [
    "p, activations, outputs = EvaluateClassifier(X_training_1[:, 0:2], weights, biases)\n",
    "grad_weights, grad_biases = ComputeGradients(X_training_1[:, 0:2], Y_training_1[:, 0:2], weights, biases, p, outputs, activations)"
   ]
  },
  {
   "cell_type": "code",
   "execution_count": 123,
   "metadata": {},
   "outputs": [
    {
     "name": "stdout",
     "output_type": "stream",
     "text": [
      "-----------------\n",
      "Layer no. 1:\n",
      "Deviation on weight matrix: 0.0004455622900617491\n",
      "Deviation on bias vector: 0.00021413577255454145\n",
      "-----------------\n",
      "Layer no. 2:\n",
      "Deviation on weight matrix: 2.8193570737353638e-05\n",
      "Deviation on bias vector: 0.014347056990204365\n",
      "-----------------\n",
      "Layer no. 3:\n",
      "Deviation on weight matrix: 8.838559097221378e-06\n",
      "Deviation on bias vector: 0.17027488699016166\n",
      "-----------------\n",
      "Layer no. 4:\n",
      "Deviation on weight matrix: 2.0539890893159423e-05\n",
      "Deviation on bias vector: 9.891207642802771e-12\n"
     ]
    }
   ],
   "source": [
    "check_similarity(grad_weights, grad_biases, grad_weights_4_num, grad_bias_4_num)"
   ]
  },
  {
   "cell_type": "markdown",
   "metadata": {},
   "source": [
    "### EXERCISE 2: Can I train a 3-layer network?"
   ]
  },
  {
   "cell_type": "markdown",
   "metadata": {},
   "source": [
    "#### Test that you are able to replicate the results of a 2-layer network"
   ]
  },
  {
   "cell_type": "code",
   "execution_count": 23,
   "metadata": {},
   "outputs": [],
   "source": [
    "weights, biases = initialize_weights([[50, 3072], [10, 50]])"
   ]
  },
  {
   "cell_type": "markdown",
   "metadata": {},
   "source": [
    "We will try to replicate the performance of 44.44% for 10 epochs of training and $(\\eta, \\lambda) = (0.01713848118474131, 0.0001)$"
   ]
  },
  {
   "cell_type": "code",
   "execution_count": 43,
   "metadata": {},
   "outputs": [
    {
     "name": "stderr",
     "output_type": "stream",
     "text": [
      "100%|██████████| 10/10 [01:03<00:00,  6.33s/it]\n"
     ]
    }
   ],
   "source": [
    "GD_params = [100, 0.0171384811847413, 10]\n",
    "\n",
    "weights, biases, training_cost, validation_cost =  MiniBatchGDwithMomentum(  X_training_1,\n",
    "                                                                             Y_training_1,\n",
    "                                                                             X_training_2,\n",
    "                                                                             Y_training_2,\n",
    "                                                                             y_training_2,\n",
    "                                                                             GD_params,\n",
    "                                                                             weights, biases,\n",
    "                                                                             regularization_term=0.0001)"
   ]
  },
  {
   "cell_type": "code",
   "execution_count": 44,
   "metadata": {},
   "outputs": [],
   "source": [
    "validation_set_accuracy = ComputeAccuracy(X_training_2, y_training_2, weights, biases)"
   ]
  },
  {
   "cell_type": "code",
   "execution_count": 45,
   "metadata": {},
   "outputs": [
    {
     "data": {
      "text/plain": [
       "44.16"
      ]
     },
     "execution_count": 45,
     "metadata": {},
     "output_type": "execute_result"
    }
   ],
   "source": [
    "validation_set_accuracy"
   ]
  },
  {
   "cell_type": "markdown",
   "metadata": {},
   "source": [
    "Due to the randomness of the initialization on the weights, the deviation is well justified"
   ]
  },
  {
   "cell_type": "markdown",
   "metadata": {},
   "source": [
    "#### What happens after a few epochs? Are you learning anything?"
   ]
  },
  {
   "cell_type": "code",
   "execution_count": 129,
   "metadata": {},
   "outputs": [
    {
     "name": "stderr",
     "output_type": "stream",
     "text": [
      "100%|██████████| 15/15 [00:24<00:00,  1.66s/it]"
     ]
    },
    {
     "name": "stdout",
     "output_type": "stream",
     "text": [
      "Cost at training epoch 1 is 2.3022672535670137\n",
      "Cost at training epoch 2 is 2.3022666352616192\n",
      "Cost at training epoch 3 is 2.302262164108896\n",
      "Cost at training epoch 4 is 2.302256330131588\n",
      "Cost at training epoch 5 is 2.3022509063293954\n",
      "Cost at training epoch 6 is 2.302246087045059\n",
      "Cost at training epoch 7 is 2.30224183447161\n",
      "Cost at training epoch 8 is 2.3022380835454994\n",
      "Cost at training epoch 9 is 2.3022347717577407\n",
      "Cost at training epoch 10 is 2.3022318440902114\n",
      "Cost at training epoch 11 is 2.3022292524125856\n",
      "Cost at training epoch 12 is 2.3022269539491447\n",
      "Cost at training epoch 13 is 2.3022249115918183\n",
      "Cost at training epoch 14 is 2.302223092730126\n",
      "Cost at training epoch 15 is 2.3022214685589133\n"
     ]
    },
    {
     "name": "stderr",
     "output_type": "stream",
     "text": [
      "\n"
     ]
    }
   ],
   "source": [
    "weights, biases = initialize_weights([[50, 3072], [30, 50], [10,30]])\n",
    "\n",
    "GD_params = [100, 0.0171384811847413, 15]\n",
    "\n",
    "weights, biases, training_cost, validation_cost = MiniBatchGDwithMomentum(X_training_1,\n",
    "                                                                          Y_training_1,\n",
    "                                                                          X_training_2,\n",
    "                                                                          Y_training_2,\n",
    "                                                                          y_training_2,\n",
    "                                                                          GD_params,\n",
    "                                                                          weights, biases,\n",
    "                                                                          regularization_term=0.0001)\n",
    "\n",
    "for i in range(len(training_cost)):\n",
    "\n",
    "    print(f'Cost at training epoch {i+1} is {training_cost[i]}')"
   ]
  },
  {
   "cell_type": "markdown",
   "metadata": {},
   "source": [
    "The training loss after at each one of the 15 epochs of training is almost stable at 2.3! "
   ]
  },
  {
   "cell_type": "markdown",
   "metadata": {},
   "source": [
    "#### What happens if you play around with the learning rate?"
   ]
  },
  {
   "cell_type": "code",
   "execution_count": 131,
   "metadata": {},
   "outputs": [
    {
     "name": "stdout",
     "output_type": "stream",
     "text": [
      "------------------\n",
      "Eta:  1e-06\n"
     ]
    },
    {
     "name": "stderr",
     "output_type": "stream",
     "text": [
      "100%|██████████| 10/10 [00:18<00:00,  1.89s/it]\n"
     ]
    },
    {
     "name": "stdout",
     "output_type": "stream",
     "text": [
      "Cost at training epoch 1 is 2.30260046125\n",
      "Cost at training epoch 2 is 2.3026003916138555\n",
      "Cost at training epoch 3 is 2.302600325471149\n",
      "Cost at training epoch 4 is 2.3026002626463438\n",
      "Cost at training epoch 5 is 2.3026002029724792\n",
      "Cost at training epoch 6 is 2.3026001462910486\n",
      "Cost at training epoch 7 is 2.3026000924515975\n",
      "Cost at training epoch 8 is 2.302600041311279\n",
      "Cost at training epoch 9 is 2.3025999927344216\n",
      "Cost at training epoch 10 is 2.3025999465922684\n",
      "------------------\n",
      "Eta:  1e-05\n"
     ]
    },
    {
     "name": "stderr",
     "output_type": "stream",
     "text": [
      "100%|██████████| 10/10 [00:17<00:00,  1.73s/it]\n"
     ]
    },
    {
     "name": "stdout",
     "output_type": "stream",
     "text": [
      "Cost at training epoch 1 is 2.3025999005718703\n",
      "Cost at training epoch 2 is 2.302599205749114\n",
      "Cost at training epoch 3 is 2.3025985468529453\n",
      "Cost at training epoch 4 is 2.3025979219724637\n",
      "Cost at training epoch 5 is 2.302597329300965\n",
      "Cost at training epoch 6 is 2.302596767131986\n",
      "Cost at training epoch 7 is 2.3025962338540733\n",
      "Cost at training epoch 8 is 2.302595727947948\n",
      "Cost at training epoch 9 is 2.3025952479739393\n",
      "Cost at training epoch 10 is 2.3025947925707957\n",
      "------------------\n",
      "Eta:  0.0001\n"
     ]
    },
    {
     "name": "stderr",
     "output_type": "stream",
     "text": [
      "100%|██████████| 10/10 [00:17<00:00,  1.72s/it]\n"
     ]
    },
    {
     "name": "stdout",
     "output_type": "stream",
     "text": [
      "Cost at training epoch 1 is 2.3025943342251414\n",
      "Cost at training epoch 2 is 2.30258753778816\n",
      "Cost at training epoch 3 is 2.3025811965366985\n",
      "Cost at training epoch 4 is 2.302575274681294\n",
      "Cost at training epoch 5 is 2.3025697397215943\n",
      "Cost at training epoch 6 is 2.3025645621776087\n",
      "Cost at training epoch 7 is 2.3025597151526602\n",
      "Cost at training epoch 8 is 2.302555174170237\n",
      "Cost at training epoch 9 is 2.302550916949251\n",
      "Cost at training epoch 10 is 2.302546923101441\n",
      "------------------\n",
      "Eta:  0.001\n"
     ]
    },
    {
     "name": "stderr",
     "output_type": "stream",
     "text": [
      "100%|██████████| 10/10 [00:16<00:00,  1.70s/it]\n"
     ]
    },
    {
     "name": "stdout",
     "output_type": "stream",
     "text": [
      "Cost at training epoch 1 is 2.302542530097267\n",
      "Cost at training epoch 2 is 2.3024880377323287\n",
      "Cost at training epoch 3 is 2.302444833211863\n",
      "Cost at training epoch 4 is 2.3024102404890057\n",
      "Cost at training epoch 5 is 2.302382282712888\n",
      "Cost at training epoch 6 is 2.3023594877124416\n",
      "Cost at training epoch 7 is 2.3023407475778948\n",
      "Cost at training epoch 8 is 2.302325219905004\n",
      "Cost at training epoch 9 is 2.3023122586043185\n",
      "Cost at training epoch 10 is 2.3023013637986485\n",
      "------------------\n",
      "Eta:  0.01\n"
     ]
    },
    {
     "name": "stderr",
     "output_type": "stream",
     "text": [
      "100%|██████████| 10/10 [00:17<00:00,  1.73s/it]\n"
     ]
    },
    {
     "name": "stdout",
     "output_type": "stream",
     "text": [
      "Cost at training epoch 1 is 2.3022832235898933\n",
      "Cost at training epoch 2 is 2.3022314934409445\n",
      "Cost at training epoch 3 is 2.3022246500421755\n",
      "Cost at training epoch 4 is 2.302222636213854\n",
      "Cost at training epoch 5 is 2.302221210438927\n",
      "Cost at training epoch 6 is 2.302219944464948\n",
      "Cost at training epoch 7 is 2.3022188047640544\n",
      "Cost at training epoch 8 is 2.3022177857331054\n",
      "Cost at training epoch 9 is 2.3022168786733173\n",
      "Cost at training epoch 10 is 2.3022160723738483\n",
      "------------------\n",
      "Eta:  0.1\n"
     ]
    },
    {
     "name": "stderr",
     "output_type": "stream",
     "text": [
      "100%|██████████| 10/10 [00:18<00:00,  1.90s/it]"
     ]
    },
    {
     "name": "stdout",
     "output_type": "stream",
     "text": [
      "Cost at training epoch 1 is 2.304083147255321\n",
      "Cost at training epoch 2 is 2.3040527762143457\n",
      "Cost at training epoch 3 is 2.3040247984649436\n",
      "Cost at training epoch 4 is 2.303963513926076\n",
      "Cost at training epoch 5 is 2.1974427096362485\n",
      "Cost at training epoch 6 is 2.007216352396664\n",
      "Cost at training epoch 7 is 1.8656019902160936\n",
      "Cost at training epoch 8 is 1.7714920839464587\n",
      "Cost at training epoch 9 is 1.6672864486126826\n",
      "Cost at training epoch 10 is 1.593195430942723\n"
     ]
    },
    {
     "name": "stderr",
     "output_type": "stream",
     "text": [
      "\n"
     ]
    }
   ],
   "source": [
    "for eta in [1e-6, 1e-5, 1e-4, 1e-3, 1e-2, 0.1]:\n",
    "\n",
    "    weights, biases = initialize_weights([[50, 3072], [30, 50], [10,30]])\n",
    "\n",
    "    print('------------------')\n",
    "    print('Eta: ', eta)\n",
    "    GD_params = [100, eta, 10]\n",
    "\n",
    "    weights, biases, training_cost, validation_cost = MiniBatchGDwithMomentum(X_training_1,\n",
    "                                                                              Y_training_1,\n",
    "                                                                              X_training_2,\n",
    "                                                                              Y_training_2,\n",
    "                                                                              y_training_2,\n",
    "                                                                              GD_params,\n",
    "                                                                              weights, biases,\n",
    "                                                                              regularization_term=0.0001)\n",
    "\n",
    "    for i in range(len(training_cost)):\n",
    "        print(f'Cost at training epoch {i+1} is {training_cost[i]}')"
   ]
  },
  {
   "cell_type": "markdown",
   "metadata": {},
   "source": [
    "Again, the loss remains at the same levels no matter how many update steps take part in the training! Only with a fairly big learning rate of 0.1 we can see a small drop in the loss, but again a few epochs in the beginning where the loss remain stable can be observed! We can also suspect that with such a big learning rate, the learning might be unstable. The last experiment is conducted for more epochs:"
   ]
  },
  {
   "cell_type": "code",
   "execution_count": 132,
   "metadata": {},
   "outputs": [
    {
     "name": "stdout",
     "output_type": "stream",
     "text": [
      "------------------\n",
      "Eta:  0.1\n"
     ]
    },
    {
     "name": "stderr",
     "output_type": "stream",
     "text": [
      "100%|██████████| 40/40 [01:09<00:00,  1.74s/it]"
     ]
    },
    {
     "name": "stdout",
     "output_type": "stream",
     "text": [
      "Cost at training epoch 1 is 2.304083147255321\n",
      "Cost at training epoch 2 is 2.3040527762143457\n",
      "Cost at training epoch 3 is 2.3040247984649436\n",
      "Cost at training epoch 4 is 2.303963513926076\n",
      "Cost at training epoch 5 is 2.1974427096362485\n",
      "Cost at training epoch 6 is 2.007216352396664\n",
      "Cost at training epoch 7 is 1.8656019902160936\n",
      "Cost at training epoch 8 is 1.7714920839464587\n",
      "Cost at training epoch 9 is 1.6672864486126826\n",
      "Cost at training epoch 10 is 1.593195430942723\n",
      "Cost at training epoch 11 is 1.5485123476073677\n",
      "Cost at training epoch 12 is 1.4758706564115107\n",
      "Cost at training epoch 13 is 1.4193924744826478\n",
      "Cost at training epoch 14 is 1.3805438066881317\n",
      "Cost at training epoch 15 is 1.368697249854167\n",
      "Cost at training epoch 16 is 1.3265087669239681\n",
      "Cost at training epoch 17 is 1.2723064324945854\n",
      "Cost at training epoch 18 is 1.2625014563672678\n",
      "Cost at training epoch 19 is 1.2666867686005\n",
      "Cost at training epoch 20 is 1.25163518706638\n",
      "Cost at training epoch 21 is 1.1950692780730536\n",
      "Cost at training epoch 22 is 1.1405550951346806\n",
      "Cost at training epoch 23 is 1.0933375948769273\n",
      "Cost at training epoch 24 is 1.0584354555304865\n",
      "Cost at training epoch 25 is 1.0211788369490433\n",
      "Cost at training epoch 26 is 1.0002588070688778\n",
      "Cost at training epoch 27 is 0.9777619847054716\n",
      "Cost at training epoch 28 is 0.9753313784903359\n",
      "Cost at training epoch 29 is 0.9558171620564835\n",
      "Cost at training epoch 30 is 0.9544156273418551\n",
      "Cost at training epoch 31 is 0.9515871093045444\n",
      "Cost at training epoch 32 is 0.93641149448918\n",
      "Cost at training epoch 33 is 0.9511512546042148\n",
      "Cost at training epoch 34 is 0.8900400762553463\n",
      "Cost at training epoch 35 is 0.891207534551131\n",
      "Cost at training epoch 36 is 0.840768908056229\n",
      "Cost at training epoch 37 is 0.8274775595253576\n",
      "Cost at training epoch 38 is 0.799688813021933\n",
      "Cost at training epoch 39 is 0.7950914142037012\n",
      "Cost at training epoch 40 is 0.7716458010015995\n"
     ]
    },
    {
     "name": "stderr",
     "output_type": "stream",
     "text": [
      "\n"
     ]
    }
   ],
   "source": [
    "weights, biases = initialize_weights([[50, 3072], [30, 50], [10,30]])\n",
    "\n",
    "print('------------------')\n",
    "print('Eta: ', 0.1)\n",
    "GD_params = [100, 0.1, 40]\n",
    "\n",
    "weights, biases, training_cost, validation_cost = MiniBatchGDwithMomentum(X_training_1,\n",
    "                                                                          Y_training_1,\n",
    "                                                                          X_training_2,\n",
    "                                                                          Y_training_2,\n",
    "                                                                          y_training_2,\n",
    "                                                                          GD_params,\n",
    "                                                                          weights, biases,\n",
    "                                                                          regularization_term=0.0001)\n",
    "\n",
    "for i in range(len(training_cost)):\n",
    "    print(f'Cost at training epoch {i+1} is {training_cost[i]}')"
   ]
  },
  {
   "cell_type": "code",
   "execution_count": 134,
   "metadata": {},
   "outputs": [
    {
     "data": {
      "image/png": "[encoded data removed]",
      "text/plain": [
       "<Figure size 432x288 with 1 Axes>"
      ]
     },
     "metadata": {},
     "output_type": "display_data"
    },
    {
     "data": {
      "text/plain": [
       "<Figure size 432x288 with 0 Axes>"
      ]
     },
     "metadata": {},
     "output_type": "display_data"
    }
   ],
   "source": [
    "visualize_costs(training_cost, validation_cost, display=True)"
   ]
  },
  {
   "cell_type": "markdown",
   "metadata": {},
   "source": [
    "Overfitting with this setting, and it occurs very fast!"
   ]
  },
  {
   "cell_type": "markdown",
   "metadata": {},
   "source": [
    "#### What happens if you use He initialization?"
   ]
  },
  {
   "cell_type": "code",
   "execution_count": 139,
   "metadata": {},
   "outputs": [
    {
     "name": "stderr",
     "output_type": "stream",
     "text": [
      "100%|██████████| 10/10 [00:16<00:00,  1.66s/it]"
     ]
    },
    {
     "name": "stdout",
     "output_type": "stream",
     "text": [
      "Cost of training with He initialization at epoch 1 is 2.573371144365728\n",
      "Cost of training with He initialization at epoch 2 is 2.4388440346442506\n",
      "Cost of training with He initialization at epoch 3 is 2.3685662732480903\n",
      "Cost of training with He initialization at epoch 4 is 2.3142257340862384\n",
      "Cost of training with He initialization at epoch 5 is 2.272922477058916\n",
      "Cost of training with He initialization at epoch 6 is 2.236912218216597\n",
      "Cost of training with He initialization at epoch 7 is 2.2052890641621268\n",
      "Cost of training with He initialization at epoch 8 is 2.1762496203378463\n",
      "Cost of training with He initialization at epoch 9 is 2.1514607505444694\n",
      "Cost of training with He initialization at epoch 10 is 2.1297865298452456\n"
     ]
    },
    {
     "name": "stderr",
     "output_type": "stream",
     "text": [
      "\n"
     ]
    }
   ],
   "source": [
    "weights_he, biases_he = he_initialization_k_layers([[50, 3072], [30, 50], [10, 30]])\n",
    "\n",
    "GD_params = [100, 0.0171384811847413, 10]\n",
    "\n",
    "weights_he, biases_he, training_cost_he, validation_cost_he = MiniBatchGDwithMomentum(X_training_1,\n",
    "                                                                          Y_training_1,\n",
    "                                                                          X_training_2,\n",
    "                                                                          Y_training_2,\n",
    "                                                                          y_training_2,\n",
    "                                                                          GD_params,\n",
    "                                                                          weights_he, biases_he,\n",
    "                                                                          regularization_term=0.0001)\n",
    "\n",
    "for i in range(len(training_cost_he)):\n",
    "    print(f'Cost of training with He initialization at epoch {i+1} is {training_cost_he[i]}')"
   ]
  },
  {
   "cell_type": "markdown",
   "metadata": {},
   "source": [
    "Although the loss does not remain stable, we don't observe much of a change. Again, we try for some more epochs and now plot the evolution:"
   ]
  },
  {
   "cell_type": "code",
   "execution_count": 140,
   "metadata": {},
   "outputs": [
    {
     "name": "stderr",
     "output_type": "stream",
     "text": [
      "100%|██████████| 40/40 [01:06<00:00,  1.67s/it]\n"
     ]
    }
   ],
   "source": [
    "weights_he, biases_he = he_initialization_k_layers([[50, 3072], [30, 50], [10, 30]])\n",
    "\n",
    "GD_params = [100, 0.0171384811847413, 40]\n",
    "\n",
    "weights_he, biases_he, training_cost_he, validation_cost_he = MiniBatchGDwithMomentum(X_training_1,\n",
    "                                                                          Y_training_1,\n",
    "                                                                          X_training_2,\n",
    "                                                                          Y_training_2,\n",
    "                                                                          y_training_2,\n",
    "                                                                          GD_params,\n",
    "                                                                          weights_he, biases_he,\n",
    "                                                                          regularization_term=0.0001)\n",
    "\n"
   ]
  },
  {
   "cell_type": "code",
   "execution_count": 141,
   "metadata": {},
   "outputs": [
    {
     "data": {
      "image/png": "[encoded data removed]",
      "text/plain": [
       "<Figure size 432x288 with 1 Axes>"
      ]
     },
     "metadata": {},
     "output_type": "display_data"
    },
    {
     "data": {
      "text/plain": [
       "<Figure size 432x288 with 0 Axes>"
      ]
     },
     "metadata": {},
     "output_type": "display_data"
    }
   ],
   "source": [
    "visualize_costs(training_cost_he, validation_cost_he, display=True)"
   ]
  },
  {
   "cell_type": "markdown",
   "metadata": {},
   "source": [
    "Smoother than earlier tries, but still overfitting after few epochs."
   ]
  },
  {
   "cell_type": "markdown",
   "metadata": {},
   "source": [
    "### EXERCISE 3: Implement batch normalization"
   ]
  },
  {
   "cell_type": "code",
   "execution_count": 179,
   "metadata": {},
   "outputs": [
    {
     "name": "stderr",
     "output_type": "stream",
     "text": [
      "100%|██████████| 40/40 [01:18<00:00,  1.97s/it]"
     ]
    },
    {
     "name": "stdout",
     "output_type": "stream",
     "text": [
      "Best validation set accuracy: 41.55\n"
     ]
    },
    {
     "name": "stderr",
     "output_type": "stream",
     "text": [
      "\n"
     ]
    }
   ],
   "source": [
    "GD_params = [100, 0.1, 40]\n",
    "\n",
    "weights, biases = initialize_weights([[50, 3072], [30, 50], [10,30]])\n",
    "\n",
    "weights, biases, training_cost, validation_cost, exponential_means, exponential_variances = MiniBatchGDBatchNormalization(X_training_1,\n",
    "                                                                                            Y_training_1,\n",
    "                                                                                            X_training_2,\n",
    "                                                                                            Y_training_2,\n",
    "                                                                                            y_training_2,\n",
    "                                                                                            GD_params,\n",
    "                                                                                            weights, biases,\n",
    "                                                                                            regularization_term=0.0001)"
   ]
  },
  {
   "cell_type": "code",
   "execution_count": 180,
   "metadata": {},
   "outputs": [
    {
     "data": {
      "image/png": "[encoded data removed]",
      "text/plain": [
       "<Figure size 432x288 with 1 Axes>"
      ]
     },
     "metadata": {},
     "output_type": "display_data"
    },
    {
     "data": {
      "text/plain": [
       "<Figure size 432x288 with 0 Axes>"
      ]
     },
     "metadata": {},
     "output_type": "display_data"
    }
   ],
   "source": [
    "visualize_costs(training_cost, validation_cost, True)"
   ]
  },
  {
   "cell_type": "code",
   "execution_count": 181,
   "metadata": {},
   "outputs": [],
   "source": [
    "test_set_accuracy = ComputeAccuracyBatchNormalization(X_test, y_test, weights, biases, exponentials = [exponential_means, exponential_variances])"
   ]
  },
  {
   "cell_type": "code",
   "execution_count": 182,
   "metadata": {},
   "outputs": [
    {
     "data": {
      "text/plain": [
       "32.46"
      ]
     },
     "execution_count": 182,
     "metadata": {},
     "output_type": "execute_result"
    }
   ],
   "source": [
    "test_set_accuracy"
   ]
  },
  {
   "cell_type": "code",
   "execution_count": null,
   "metadata": {},
   "outputs": [],
   "source": []
  },
  {
   "cell_type": "code",
   "execution_count": null,
   "metadata": {},
   "outputs": [],
   "source": []
  }
 ],
 "metadata": {
  "kernelspec": {
   "display_name": "Python 3",
   "language": "python",
   "name": "python3"
  },
  "language_info": {
   "codemirror_mode": {
    "name": "ipython",
    "version": 3
   },
   "file_extension": ".py",
   "mimetype": "text/x-python",
   "name": "python",
   "nbconvert_exporter": "python",
   "pygments_lexer": "ipython3",
   "version": "3.6.5"
  }
 },
 "nbformat": 4,
 "nbformat_minor": 2
}
