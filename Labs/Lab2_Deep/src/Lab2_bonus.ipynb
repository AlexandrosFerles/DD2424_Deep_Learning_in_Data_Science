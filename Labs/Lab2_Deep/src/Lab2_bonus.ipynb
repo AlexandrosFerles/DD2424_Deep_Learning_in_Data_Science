{
 "cells": [
  {
   "cell_type": "markdown",
   "metadata": {},
   "source": [
    "### Imports"
   ]
  },
  {
   "cell_type": "code",
   "execution_count": 1,
   "metadata": {},
   "outputs": [
    {
     "name": "stderr",
     "output_type": "stream",
     "text": [
      "Using TensorFlow backend.\n"
     ]
    }
   ],
   "source": [
    "import numpy as np\n",
    "from matplotlib import pyplot as plt\n",
    "from keras.utils import to_categorical as make_class_categorical\n",
    "import _pickle as pickle\n",
    "from tqdm import tqdm\n",
    "import pdb\n",
    "import skimage as sk\n",
    "from skimage import util\n",
    "from keras.preprocessing.image import ImageDataGenerator\n",
    "import random"
   ]
  },
  {
   "cell_type": "markdown",
   "metadata": {},
   "source": [
    "### Assignment 2 functions"
   ]
  },
  {
   "cell_type": "markdown",
   "metadata": {},
   "source": [
    "#### Initialize weights"
   ]
  },
  {
   "cell_type": "code",
   "execution_count": 2,
   "metadata": {},
   "outputs": [],
   "source": [
    "def initialize_weights(d=3072, m=50, K=10, std=0.001):\n",
    "    \"\"\"\n",
    "    Initializes the weight and bias arrays for the 2 layers of the network\n",
    "\n",
    "    :param d: Dimensionality of the input data\n",
    "    :param m: Number of nodes in the first layer\n",
    "    :param K: Number of different classes (K=10 for the CIFAR-10 dataset)\n",
    "    :param variance (optional): The variance of the normal distribution that will be used for the initialization of the weights\n",
    "\n",
    "    :return: Weights and bias arrays for the first and second layer of the neural network\n",
    "    \"\"\"\n",
    "\n",
    "    np.random.seed(400)\n",
    "\n",
    "    W1 = np.random.normal(0, std, size=(m, d))\n",
    "    b1 = np.zeros(shape=(m, 1))\n",
    "\n",
    "    W2 = np.random.normal(0, std, size=(K, m))\n",
    "    b2 = np.zeros(shape=(K, 1))\n",
    "\n",
    "    return W1, b1, W2, b2"
   ]
  },
  {
   "cell_type": "code",
   "execution_count": 3,
   "metadata": {},
   "outputs": [],
   "source": [
    "def he_initialization(d=3072, m=50, K=10):\n",
    "    \"\"\"\n",
    "    He initialization on the weight matrices.\n",
    "\n",
    "    :param d: Dimensionality of input data.\n",
    "    :param m: Number of nodes in the hidden layer.\n",
    "    :param K: Number of classes.\n",
    "\n",
    "    :return: Initialized weight and bias matrices based on He initialization of the weights.\n",
    "    \"\"\"\n",
    "    np.random.seed(400)\n",
    "\n",
    "    W1 = np.random.randn(m, d) * np.sqrt(2 / float(m))\n",
    "    W2 = np.random.randn(K, m) * np.sqrt(2 / float(K))\n",
    "\n",
    "    b1 = np.zeros(shape=(m, 1))\n",
    "    b2 = np.zeros(shape=(K, 1))\n",
    "\n",
    "    return W1, b1, W2, b2"
   ]
  },
  {
   "cell_type": "markdown",
   "metadata": {},
   "source": [
    "#### Load Batch"
   ]
  },
  {
   "cell_type": "code",
   "execution_count": 4,
   "metadata": {},
   "outputs": [],
   "source": [
    "def LoadBatch(filename):\n",
    "    \"\"\"\n",
    "    Loads batch based on the given filename and produces the X, Y, and y arrays\n",
    "\n",
    "    :param filename: Path of the file\n",
    "    :return: X, Y and y arrays\n",
    "    \"\"\"\n",
    "\n",
    "    # borrowed from https://www.cs.toronto.edu/~kriz/cifar.html\n",
    "    def unpickle(file):\n",
    "        with open(file, 'rb') as fo:\n",
    "            dict = pickle.load(fo, encoding='bytes')\n",
    "        return dict\n",
    "\n",
    "    dictionary = unpickle(filename)\n",
    "\n",
    "    # borrowed from https://stackoverflow.com/questions/16977385/extract-the-nth-key-in-a-python-dictionary?utm_medium=organic&utm_source=google_rich_qa&utm_campaign=google_rich_qa\n",
    "    def ix(dic, n):  # don't use dict as  a variable name\n",
    "        try:\n",
    "            return list(dic)[n]  # or sorted(dic)[n] if you want the keys to be sorted\n",
    "        except IndexError:\n",
    "            print('not enough keys')\n",
    "\n",
    "    garbage = ix(dictionary, 1)\n",
    "    y = dictionary[garbage]\n",
    "    Y = np.transpose(make_class_categorical(y, 10))\n",
    "    garbage = ix(dictionary, 2)\n",
    "    X = np.transpose(dictionary[garbage]) / 255\n",
    "\n",
    "    return X, Y, y"
   ]
  },
  {
   "cell_type": "markdown",
   "metadata": {},
   "source": [
    "#### ReLU's"
   ]
  },
  {
   "cell_type": "code",
   "execution_count": 5,
   "metadata": {},
   "outputs": [],
   "source": [
    "def ReLU(x):\n",
    "    \"\"\"\n",
    "    Rectified Linear Unit function\n",
    "\n",
    "    :param x: Input to the function\n",
    "\n",
    "    :return: Output of ReLU(x)\n",
    "    \"\"\"\n",
    "\n",
    "    return np.maximum(x, 0)"
   ]
  },
  {
   "cell_type": "code",
   "execution_count": 6,
   "metadata": {},
   "outputs": [],
   "source": [
    "def Leaky_ReLU(x):\n",
    "    \"\"\"\n",
    "    Leaky Rectified Linear Unit function\n",
    "\n",
    "    :param x: Input to the function\n",
    "\n",
    "    :return: Output of ReLU(x)\n",
    "    \"\"\"\n",
    "\n",
    "    return np.maximum(0.01*x, x)"
   ]
  },
  {
   "cell_type": "markdown",
   "metadata": {},
   "source": [
    "#### Softmax"
   ]
  },
  {
   "cell_type": "code",
   "execution_count": 7,
   "metadata": {},
   "outputs": [],
   "source": [
    "def softmax(X, theta=1.0, axis=None):\n",
    "\n",
    "    # Softmax over numpy rows and columns, taking care for overflow cases\n",
    "    # Many thanks to https://nolanbconaway.github.io/blog/2017/softmax-numpy\n",
    "    # Usage: Softmax over rows-> axis =0, softmax over columns ->axis =1\n",
    "\n",
    "    \"\"\"\n",
    "    Compute the softmax of each element along an axis of X.\n",
    "    Parameters\n",
    "    ----------\n",
    "    X: ND-Array. Probably should be floats.\n",
    "    theta (optional): float parameter, used as a multiplier\n",
    "        prior to exponentiation. Default = 1.0\n",
    "    axis (optional): axis to compute values along. Default is the\n",
    "        first non-singleton axis.\n",
    "    Returns an array the same size as X. The result will sum to 1\n",
    "    along the specified axis.\n",
    "    \"\"\"\n",
    "\n",
    "    # make X at least 2d\n",
    "    y = np.atleast_2d(X)\n",
    "\n",
    "    # find axis\n",
    "    if axis is None:\n",
    "        axis = next(j[0] for j in enumerate(y.shape) if j[1] > 1)\n",
    "\n",
    "    # multiply y against the theta parameter,\n",
    "    y = y * float(theta)\n",
    "\n",
    "    # subtract the max for numerical stability\n",
    "    y = y - np.expand_dims(np.max(y, axis=axis), axis)\n",
    "\n",
    "    # exponentiate y\n",
    "    y = np.exp(y)\n",
    "\n",
    "    # take the sum along the specified axis\n",
    "    ax_sum = np.expand_dims(np.sum(y, axis=axis), axis)\n",
    "\n",
    "    # finally: divide elementwise\n",
    "    p = y / ax_sum\n",
    "\n",
    "    # flatten if X was 1D\n",
    "    if len(X.shape) == 1: p = p.flatten()\n",
    "\n",
    "    return p"
   ]
  },
  {
   "cell_type": "markdown",
   "metadata": {},
   "source": [
    "#### Evaluate Classifier"
   ]
  },
  {
   "cell_type": "code",
   "execution_count": 8,
   "metadata": {},
   "outputs": [],
   "source": [
    "def EvaluateClassifier(X, W1, b1, W2, b2, with_leaky_relu= False):\n",
    "    \"\"\"\n",
    "    Computes the Softmax output of the 2 layer network, based on input data X and trained weight and bias arrays\n",
    "\n",
    "    :param X: Input data\n",
    "    :param W1: Weight array of the first layer\n",
    "    :param b1: Bias vector of the first layer\n",
    "    :param W2: Weight array of the second layer\n",
    "    :param b2: Bias vector of the second layer\n",
    "\n",
    "    :return: Softmax output of the trained network\n",
    "    \"\"\"\n",
    "\n",
    "    s1 = np.dot(W1, X) + b1\n",
    "    if not with_leaky_relu:\n",
    "        h = ReLU(s1)\n",
    "    else:\n",
    "        h = Leaky_ReLU(s1)\n",
    "    s = np.dot(W2, h) + b2\n",
    "    p = softmax(s, axis=0)\n",
    "\n",
    "    return p, h, s1"
   ]
  },
  {
   "cell_type": "markdown",
   "metadata": {},
   "source": [
    "#### Predict classes"
   ]
  },
  {
   "cell_type": "code",
   "execution_count": 9,
   "metadata": {},
   "outputs": [],
   "source": [
    "def predictClasses(p):\n",
    "    \"\"\"\n",
    "    Predicts classes based on the softmax output of the network\n",
    "\n",
    "    :param p: Softmax output of the network\n",
    "    :return: Predicted classes\n",
    "    \"\"\"\n",
    "\n",
    "    return np.argmax(p, axis=0)"
   ]
  },
  {
   "cell_type": "markdown",
   "metadata": {},
   "source": [
    "#### Compute Accuracy"
   ]
  },
  {
   "cell_type": "code",
   "execution_count": 10,
   "metadata": {},
   "outputs": [],
   "source": [
    "def ComputeAccuracy(X, y, W1, b1, W2, b2):\n",
    "    \"\"\"\n",
    "    Computes the accuracy of the feed-forward 2-layer network\n",
    "\n",
    "    :param X: Input data\n",
    "    :param y: Labels of the ground truth\n",
    "    :param W1: Weight matrix of the first layer\n",
    "    :param b1: Bias vector of the first layer\n",
    "    :param W2: Weight matrix of the second layer\n",
    "    :param b2: Bias vector of the second layer\n",
    "\n",
    "    :return: Accuracy metric of the neural network.\n",
    "    \"\"\"\n",
    "    p, _, _ = EvaluateClassifier(X=X, W1=W1, b1=b1, W2=W2, b2=b2)\n",
    "    predictions = predictClasses(p)\n",
    "\n",
    "    accuracy = round(np.sum(np.where(predictions - y == 0, 1, 0)) * 100 / len(y), 2)\n",
    "\n",
    "    return accuracy"
   ]
  },
  {
   "cell_type": "markdown",
   "metadata": {},
   "source": [
    "#### Compute Cost"
   ]
  },
  {
   "cell_type": "code",
   "execution_count": 11,
   "metadata": {},
   "outputs": [],
   "source": [
    "def ComputeCost(X, Y, W1, W2, b1, b2, regularization_term= 0):\n",
    "    \"\"\"\n",
    "    Computes the cross-entropy loss on a batch of data.\n",
    "\n",
    "    :param X: Input data\n",
    "    :param y: Labels of the ground truth\n",
    "    :param W1: Weight matrix of the first layer\n",
    "    :param b1: Bias vector of the first layer\n",
    "    :param W2: Weight matrix of the second layer\n",
    "    :param b2: Bias vector of the second layer\n",
    "    :param regularization_term: Amount of regularization applied.\n",
    "\n",
    "    :return: Cross-entropy loss.\n",
    "    \"\"\"\n",
    "    p, _, _ = EvaluateClassifier(X=X, W1=W1, b1=b1, W2=W2, b2=b2)\n",
    "\n",
    "    cross_entropy_loss = -np.log(np.diag(np.dot(Y.T, p))).sum() / float(X.shape[1])\n",
    "\n",
    "    weight_sum = np.power(W1, 2).sum() + np.power(W2, 2).sum()\n",
    "\n",
    "    return cross_entropy_loss + regularization_term * weight_sum"
   ]
  },
  {
   "cell_type": "markdown",
   "metadata": {},
   "source": [
    "#### Compute Gradients"
   ]
  },
  {
   "cell_type": "code",
   "execution_count": 34,
   "metadata": {},
   "outputs": [],
   "source": [
    "def ComputeGradients(X, Y, W1, b1, W2, b2, p, h, s1, regularization_term= 0, with_leaky_relu= False):\n",
    "    \"\"\"\n",
    "    Computes gradient descent updates on a batch of data\n",
    "\n",
    "    :param X: Input data\n",
    "    :param Y: One-hot representation of the true labels of input data X\n",
    "    :param W1: Weight matrix of the first layer\n",
    "    :param b1: Bias vector of the first layer\n",
    "    :param W2: Weight matrix of the second layer\n",
    "    :param b2: Bias vector of the second layer\n",
    "    :param p: Softmax probabilities (predictions) of the network over classes.\n",
    "    :param h: ReLU activations of the network.\n",
    "    :param s1: True outout of the first layer of the network.\n",
    "    :param regularization_term: Contribution of the regularization in the weight updates\n",
    "\n",
    "    :return: Weight and bias updates of the first and second layer of our network\n",
    "    \"\"\"\n",
    "\n",
    "    # Back-propagate second layer at first\n",
    "\n",
    "    g = p - Y\n",
    "    grad_b2 = g.sum(axis=1).reshape(b2.shape)\n",
    "    grad_W2 = np.dot(g, h.T)\n",
    "\n",
    "    # Back-propagate the gradient vector g to the first layer\n",
    "    g = np.dot(g.T, W2)\n",
    "    if with_leaky_relu:\n",
    "        ind =(1 * (s1 > 0) + 0.01 * (s1 < 0))\n",
    "    else:\n",
    "        ind = 1 * (s1 > 0)\n",
    "    g = g.T * ind\n",
    "\n",
    "    grad_b1 = np.sum(g, axis=1).reshape(b1.shape)\n",
    "    grad_W1 = np.dot(g, X.T)\n",
    "\n",
    "    grad_W1 /= X.shape[1]\n",
    "    grad_b1 /= X.shape[1]\n",
    "    grad_W2 /= X.shape[1]\n",
    "    grad_b2 /= X.shape[1]\n",
    "\n",
    "    # Add regularizers\n",
    "    grad_W1 = grad_W1 + 2 * regularization_term * W1\n",
    "    grad_W2 = grad_W2 +2 * regularization_term * W2\n",
    "\n",
    "    return grad_W1, grad_b1, grad_W2, grad_b2"
   ]
  },
  {
   "cell_type": "markdown",
   "metadata": {},
   "source": [
    "#### Momentum Update"
   ]
  },
  {
   "cell_type": "code",
   "execution_count": 16,
   "metadata": {},
   "outputs": [],
   "source": [
    "def initialize_momentum(hyperparameter):\n",
    "    \"\"\"\n",
    "    Initializes the corresponding momentum of a hyperparameter matrix or vector\n",
    "\n",
    "    :param hyperparameter: The hyperparameter\n",
    "    :return: The corresponding momentum\n",
    "    \"\"\"\n",
    "\n",
    "    return np.zeros(hyperparameter.shape)"
   ]
  },
  {
   "cell_type": "code",
   "execution_count": 17,
   "metadata": {},
   "outputs": [],
   "source": [
    "def add_momentum(v_t_prev, hyperpatameter, gradient, eta, momentum_term=0.99):\n",
    "    \"\"\"\n",
    "    Add momentum to the update of the hyperparameter at each update step, in order to speed up training\n",
    "\n",
    "    :param v_t_prev: The momentum update of the previous time step\n",
    "    :param hyperpatameter: The corresponding hyperparameters\n",
    "    :param gradient: The value of the gradient update as computed in each time step\n",
    "    :param eta: The learning rate of the training process\n",
    "    :param r (optional): The momentum factor, typically 0.9 or 0.99\n",
    "\n",
    "    :return: The updated hyperparameter based on the momentum update, and the  momentum update itself\n",
    "    \"\"\"\n",
    "\n",
    "    v_t = momentum_term * v_t_prev + eta * gradient\n",
    "\n",
    "    return hyperpatameter - v_t, v_t"
   ]
  },
  {
   "cell_type": "markdown",
   "metadata": {},
   "source": [
    "\n",
    "\n",
    "#### Mini-Batch Gradient Descent"
   ]
  },
  {
   "cell_type": "code",
   "execution_count": 25,
   "metadata": {},
   "outputs": [],
   "source": [
    "def MiniBatchGDwithMomentum(X, Y, X_validation, Y_validation, y_validation, GDparams, W1, b1, W2, b2,\n",
    "                            regularization_term=0, with_annealing = False, with_leaky_relu= False, momentum_term=0.9):\n",
    "    \"\"\"\n",
    "    Performs mini batch-gradient descent computations.\n",
    "\n",
    "    :param X: Input batch of data\n",
    "    :param Y: One-hot representation of the true labels of the data.\n",
    "    :param X_validation: Input batch of validation data.\n",
    "    :param Y_validation: One-hot representation of the true labels of the validation data.\n",
    "    :param GDparams: Gradient descent parameters (number of mini batches to construct, learning rate, epochs)\n",
    "    :param W1: Weight matrix of the first layer of the network.\n",
    "    :param b1: Bias vector of the first layer of the network.\n",
    "    :param W2: Weight matrix of the second layer of the network.\n",
    "    :param b2: Bias vector of the second layer of the network.\n",
    "    :param regularization_term: Amount of regularization applied.\n",
    "    :param with_annealing: Set to true to allow decaying the learning rate by half every 5 epochs.\n",
    "\n",
    "    :return: The weight and bias matrices learnt (trained) from the training process, loss in training and validation set.\n",
    "    \"\"\"\n",
    "    number_of_mini_batches = GDparams[0]\n",
    "    eta = GDparams[1]\n",
    "    epoches = GDparams[2]\n",
    "\n",
    "    cost = []\n",
    "    val_cost = []\n",
    "\n",
    "    v_W1 = initialize_momentum(W1)\n",
    "    v_b1 = initialize_momentum(b1)\n",
    "    v_W2 = initialize_momentum(W2)\n",
    "    v_b2 = initialize_momentum(b2)\n",
    "\n",
    "    # print('Training set loss before start of training process: '+str(ComputeCost(X, Y, W1, W2, b1, b2, regularization_term)))\n",
    "\n",
    "    original_training_cost = ComputeCost(X, Y, W1, W2, b1, b2, regularization_term)\n",
    "\n",
    "    best_W1 = np.copy(W1)\n",
    "    best_b1 = np.copy(b1)\n",
    "    best_W2 = np.copy(W2)\n",
    "    best_b2 = np.copy(b2)\n",
    "\n",
    "    best_validation_set_accuracy = 0\n",
    "\n",
    "    for epoch in tqdm(range(epoches)):\n",
    "        # for epoch in range(epoches):\n",
    "\n",
    "        for batch in range(1, int(X.shape[1] / number_of_mini_batches)):\n",
    "            start = (batch - 1) * number_of_mini_batches + 1\n",
    "            end = batch * number_of_mini_batches + 1\n",
    "\n",
    "            p, h, s1 = EvaluateClassifier(X[:, start:end], W1, b1, W2, b2, with_leaky_relu)\n",
    "\n",
    "            grad_W1, grad_b1, grad_W2, grad_b2 = ComputeGradients(X[:, start:end], Y[:, start:end], W1, b1, W2, b2, p,\n",
    "                                                                  h, s1, regularization_term, with_leaky_relu)\n",
    "\n",
    "            W1, v_W1 = add_momentum(v_W1, W1, grad_W1, eta, momentum_term)\n",
    "            b1, v_b1 = add_momentum(v_b1, b1, grad_b1, eta, momentum_term)\n",
    "            W2, v_W2 = add_momentum(v_W2, W2, grad_W2, eta, momentum_term)\n",
    "            b2, v_b2 = add_momentum(v_b2, b2, grad_b2, eta, momentum_term)\n",
    "\n",
    "        validation_set_accuracy = ComputeAccuracy(X_validation, y_validation, W1, b1, W2, b2)\n",
    "\n",
    "        if validation_set_accuracy > best_validation_set_accuracy:\n",
    "            best_W1 = np.copy(W1)\n",
    "            best_b1 = np.copy(b1)\n",
    "            best_W2 = np.copy(W2)\n",
    "            best_b2 = np.copy(b2)\n",
    "\n",
    "            best_validation_set_accuracy = validation_set_accuracy\n",
    "\n",
    "        epoch_cost = ComputeCost(X, Y, W1, W2, b1, b2, regularization_term)\n",
    "        # print('Training set loss after epoch number '+str(epoch)+' is: '+str(epoch_cost))\n",
    "        if epoch_cost > 3 * original_training_cost:\n",
    "            break\n",
    "        val_epoch_cost = ComputeCost(X_validation, Y_validation, W1, W2, b1, b2, regularization_term)\n",
    "\n",
    "        cost.append(epoch_cost)\n",
    "        val_cost.append(val_epoch_cost)\n",
    "\n",
    "        # Decay the learning rate\n",
    "        if with_annealing:\n",
    "            if epoch > 1 and epoch // 5 == 0:\n",
    "                eta /= 2.0\n",
    "        else:\n",
    "            eta *= 0.95\n",
    "\n",
    "    # return W1, b1, W2, b2, cost, val_cost\n",
    "    return best_W1, best_b1, best_W2, best_b2, cost, val_cost"
   ]
  },
  {
   "cell_type": "markdown",
   "metadata": {},
   "source": [
    "#### Visualizing functions"
   ]
  },
  {
   "cell_type": "code",
   "execution_count": 18,
   "metadata": {},
   "outputs": [],
   "source": [
    "def visualize_costs(loss, val_loss, display= False, title = None, save_name= None, save_path='../figures/'):\n",
    "    \"\"\"\n",
    "    Visualization and saving the losses of the network.\n",
    "\n",
    "    :param loss: Loss of the network.\n",
    "    :param val_loss: Loss of the network in the validation set.\n",
    "    :param display: (Optional) Boolean, set to True for displaying the loss evolution plot.\n",
    "    :param title: (Optional) Title of the plot.\n",
    "    :param save_name: (Optional) name of the file to save the plot.\n",
    "    :param save_path: (Optional) Path of the folder to save the plot in your local computer.\n",
    "\n",
    "    :return: None\n",
    "\n",
    "    \"\"\"\n",
    "\n",
    "    if title is not None:\n",
    "        plt.title(title)\n",
    "\n",
    "    plt.plot(loss, 'g', label='Training set ')\n",
    "    plt.plot(val_loss, 'r', label='Validation set')\n",
    "    plt.legend(loc='upper right')\n",
    "\n",
    "    if save_name is not None:\n",
    "        if save_path[-1] !='/':\n",
    "            save_path+='/'\n",
    "        plt.savefig(save_path + save_name)\n",
    "\n",
    "    if display:\n",
    "        plt.show()\n",
    "\n",
    "    plt.clf()"
   ]
  },
  {
   "cell_type": "code",
   "execution_count": 19,
   "metadata": {},
   "outputs": [],
   "source": [
    "def visualize_raw_image(image_array, display=True):\n",
    "    img = image_array.reshape(3,32,32).transpose([1, 2, 0])\n",
    "    if display:\n",
    "        plt.imshow(img)"
   ]
  },
  {
   "cell_type": "markdown",
   "metadata": {},
   "source": [
    "#### Create dataset function"
   ]
  },
  {
   "cell_type": "code",
   "execution_count": 20,
   "metadata": {},
   "outputs": [],
   "source": [
    "def create_sets():\n",
    "\n",
    "    X_training_1, Y_training_1, y_training_1 = LoadBatch('../../cifar-10-batches-py/data_batch_1')\n",
    "    X_training_2, Y_training_2, y_training_2 = LoadBatch('../../cifar-10-batches-py/data_batch_2')\n",
    "    X_training_3, Y_training_3, y_training_3 = LoadBatch('../../cifar-10-batches-py/data_batch_3')\n",
    "    X_training_4, Y_training_4, y_training_4 = LoadBatch('../../cifar-10-batches-py/data_batch_4')\n",
    "    X_training_5, Y_training_5, y_training_5 = LoadBatch('../../cifar-10-batches-py/data_batch_5')\n",
    "\n",
    "    X_training = np.concatenate((X_training_1, X_training_3), axis=1)\n",
    "    X_training = np.copy(np.concatenate((X_training, X_training_4), axis=1))\n",
    "    X_training = np.copy(np.concatenate((X_training, X_training_5), axis=1))\n",
    "\n",
    "    X_training = np.concatenate((X_training, X_training_2[:, :9000]), axis=1)\n",
    "\n",
    "    Y_training = np.concatenate((Y_training_1, Y_training_3), axis=1)\n",
    "    Y_training = np.copy(np.concatenate((Y_training, Y_training_4), axis=1))\n",
    "    Y_training = np.copy(np.concatenate((Y_training, Y_training_5), axis=1))\n",
    "\n",
    "    Y_training = np.concatenate((Y_training, Y_training_2[:, :9000]), axis=1)\n",
    "\n",
    "    y_training = y_training_1 + y_training_3 + y_training_4 + y_training_5 + y_training_2[:9000]\n",
    "\n",
    "    X_validation = np.copy(X_training_2[:, 9000:])\n",
    "    Y_validation = np.copy(Y_training_2[:, 9000:])\n",
    "    y_validation = y_training_2[9000:]\n",
    "\n",
    "    X_test, _, y_test = LoadBatch('../../cifar-10-batches-py/test_batch')\n",
    "\n",
    "    mean = np.mean(X_training)\n",
    "    X_training -= mean\n",
    "    X_validation -= mean\n",
    "    X_test -= mean\n",
    "\n",
    "    return [X_training, Y_training, y_training], [X_validation, Y_validation, y_validation], [X_test, y_test]\n"
   ]
  },
  {
   "cell_type": "code",
   "execution_count": 21,
   "metadata": {},
   "outputs": [],
   "source": [
    "training, validation, test = create_sets()\n",
    "\n",
    "X_training, Y_training, y_training = training\n",
    "X_validation, Y_validation, y_validation = validation\n",
    "X_test, y_test = test"
   ]
  },
  {
   "cell_type": "markdown",
   "metadata": {},
   "source": [
    "#### Image augmentation function"
   ]
  },
  {
   "cell_type": "code",
   "execution_count": 22,
   "metadata": {},
   "outputs": [],
   "source": [
    "def random_noise(image_array):\n",
    "    return sk.util.random_noise(image_array)"
   ]
  },
  {
   "cell_type": "code",
   "execution_count": 23,
   "metadata": {},
   "outputs": [],
   "source": [
    "def create_augmented_dataset(X, y):\n",
    "    \n",
    "    X_augmented = np.zeros(X.shape)\n",
    "    \n",
    "    from keras.preprocessing.image import ImageDataGenerator\n",
    "    datagen = ImageDataGenerator( \n",
    "        rotation_range=90, \n",
    "        width_shift_range=0.1, \n",
    "        height_shift_range=0.1, \n",
    "        horizontal_flip=True) \n",
    "\n",
    "    data = np.ndarray(shape=(X.shape[1], 32, 32, 3))\n",
    "    for datum in range(X.shape[1]):\n",
    "        data[datum, :] = X[:, datum].reshape(3, 32, 32).transpose(1, 2, 0)\n",
    "        for X_batch, _ in datagen.flow(data[datum:datum+1], y[datum:datum+1], batch_size=1):\n",
    "            X_augmented[:, datum] = X_batch[0].transpose(2, 1, 0).reshape(3072)\n",
    "            break\n",
    "\n",
    "    return X_augmented"
   ]
  },
  {
   "cell_type": "code",
   "execution_count": 24,
   "metadata": {},
   "outputs": [],
   "source": [
    "def jitter_batch(X, y):\n",
    "    \"\"\"\n",
    "    Jitters a batch of images\n",
    "    \"\"\"\n",
    "\n",
    "    X_jittered = create_augmented_dataset(X, y)\n",
    "\n",
    "    # With probability 50% we add random noise to an image along with other permutations\n",
    "    for datum in range(X_jittered.shape[1]):\n",
    "        add_noise = random.random()\n",
    "        if add_noise > 0.5:\n",
    "            X_jittered[:,datum] = random_noise(X_jittered[:,datum])\n",
    "\n",
    "    return X_jittered"
   ]
  },
  {
   "cell_type": "code",
   "execution_count": 26,
   "metadata": {},
   "outputs": [],
   "source": [
    "def MiniBatchGDwithAugmenting(X, Y, X_validation, Y_validation, y_training, y_validation, GDparams, W1, b1, W2, b2,\n",
    "                            regularization_term=0, with_annealing = False, with_leaky_relu= False, momentum_term=0.9):\n",
    "    \"\"\"\n",
    "    Performs mini batch-gradient descent computations on augmented images.\n",
    "\n",
    "    :param X: Input batch of data\n",
    "    :param Y: One-hot representation of the true labels of the data.\n",
    "    :param X_validation: Input batch of validation data.\n",
    "    :param Y_validation: One-hot representation of the true labels of the validation data.\n",
    "    :param y_training: True labels of the training data.\n",
    "    :param y_validation: True labels of the validation data. \n",
    "    :param GDparams: Gradient descent parameters (number of mini batches to construct, learning rate, epochs)\n",
    "    :param W1: Weight matrix of the first layer of the network.\n",
    "    :param b1: Bias vector of the first layer of the network.\n",
    "    :param W2: Weight matrix of the second layer of the network.\n",
    "    :param b2: Bias vector of the second layer of the network.\n",
    "    :param regularization_term: Amount of regularization applied.\n",
    "    :param with_annealing: Set to true to allow decaying the learning rate by half every 5 epochs.\n",
    "\n",
    "    :return: The weight and bias matrices learnt (trained) from the training process, loss in training and validation set.\n",
    "    \"\"\"\n",
    "    number_of_mini_batches = GDparams[0]\n",
    "    eta = GDparams[1]\n",
    "    epoches = GDparams[2]\n",
    "\n",
    "    cost = []\n",
    "    val_cost = []\n",
    "\n",
    "    v_W1 = initialize_momentum(W1)\n",
    "    v_b1 = initialize_momentum(b1)\n",
    "    v_W2 = initialize_momentum(W2)\n",
    "    v_b2 = initialize_momentum(b2)\n",
    "\n",
    "    # print('Training set loss before start of training process: '+str(ComputeCost(X, Y, W1, W2, b1, b2, regularization_term)))\n",
    "\n",
    "    original_training_cost = ComputeCost(X, Y, W1, W2, b1, b2, regularization_term)\n",
    "\n",
    "    best_W1 = np.copy(W1)\n",
    "    best_b1 = np.copy(b1)\n",
    "    best_W2 = np.copy(W2)\n",
    "    best_b2 = np.copy(b2)\n",
    "\n",
    "    best_validation_set_accuracy = 0\n",
    "\n",
    "    for epoch in tqdm(range(epoches)):\n",
    "        # for epoch in range(epoches):\n",
    "        \n",
    "        # augmented_X = np.copy(jitter_batch(X, y_training))\n",
    "        augmented_X = np.copy(random_noise(X))\n",
    "\n",
    "        for batch in range(1, int(X.shape[1] / number_of_mini_batches)):\n",
    "            start = (batch - 1) * number_of_mini_batches + 1\n",
    "            end = batch * number_of_mini_batches + 1\n",
    "\n",
    "            p, h, s1 = EvaluateClassifier(augmented_X[:, start:end], W1, b1, W2, b2, with_leaky_relu)\n",
    "\n",
    "            grad_W1, grad_b1, grad_W2, grad_b2 = ComputeGradients(augmented_X[:, start:end], Y[:, start:end], W1, b1, W2, b2, p,\n",
    "                                                                  h, s1, regularization_term, with_leaky_relu)\n",
    "\n",
    "            W1, v_W1 = add_momentum(v_W1, W1, grad_W1, eta, momentum_term)\n",
    "            b1, v_b1 = add_momentum(v_b1, b1, grad_b1, eta, momentum_term)\n",
    "            W2, v_W2 = add_momentum(v_W2, W2, grad_W2, eta, momentum_term)\n",
    "            b2, v_b2 = add_momentum(v_b2, b2, grad_b2, eta, momentum_term)\n",
    "\n",
    "        validation_set_accuracy = ComputeAccuracy(X_validation, y_validation, W1, b1, W2, b2)\n",
    "\n",
    "        if validation_set_accuracy > best_validation_set_accuracy:\n",
    "            best_W1 = np.copy(W1)\n",
    "            best_b1 = np.copy(b1)\n",
    "            best_W2 = np.copy(W2)\n",
    "            best_b2 = np.copy(b2)\n",
    "\n",
    "            best_validation_set_accuracy = validation_set_accuracy\n",
    "\n",
    "        epoch_cost = ComputeCost(augmented_X, Y, W1, W2, b1, b2, regularization_term)\n",
    "        # print('Training set loss after epoch number '+str(epoch)+' is: '+str(epoch_cost))\n",
    "        if epoch_cost > 3 * original_training_cost:\n",
    "            break\n",
    "        val_epoch_cost = ComputeCost(X_validation, Y_validation, W1, W2, b1, b2, regularization_term)\n",
    "\n",
    "        cost.append(epoch_cost)\n",
    "        val_cost.append(val_epoch_cost)\n",
    "\n",
    "        # Decay the learning rate\n",
    "        if with_annealing:\n",
    "            if epoch > 1 and epoch // 5 == 0:\n",
    "                eta /= 2.0\n",
    "        else:\n",
    "            eta *= 0.95\n",
    "\n",
    "    # return W1, b1, W2, b2, cost, val_cost\n",
    "    return best_W1, best_b1, best_W2, best_b2, cost, val_cost"
   ]
  },
  {
   "cell_type": "markdown",
   "metadata": {},
   "source": [
    "## Bonus point part"
   ]
  },
  {
   "cell_type": "markdown",
   "metadata": {},
   "source": [
    "### Exercise 1: Optimize the performance of the network"
   ]
  },
  {
   "cell_type": "markdown",
   "metadata": {},
   "source": [
    "#### Improvement 1: Keep track of the best model based on validation set performance along with training for more steps"
   ]
  },
  {
   "cell_type": "code",
   "execution_count": 1,
   "metadata": {},
   "outputs": [],
   "source": [
    "def improvement_1(eta, regularization_term):\n",
    "    \"\"\"\n",
    "     Use all the available data from training, train for more update steps and use your validation set to make \n",
    "    sure you don’t overfit or keep a record of the best model before you begin to overfit\n",
    "\n",
    "    :return: Learnt weight matrices, training and validation set loss evolution \n",
    "    \"\"\"\n",
    "\n",
    "    W1, b1, W2, b2 = initialize_weights()\n",
    "\n",
    "    GD_params = [100, eta, 50]\n",
    "\n",
    "    W1, b1, W2, b2, training_set_loss, validation_set_loss = MiniBatchGDwithMomentum(X_training,\n",
    "                                                                                     Y_training,\n",
    "                                                                                     X_validation,\n",
    "                                                                                     Y_validation,\n",
    "                                                                                     y_validation,\n",
    "                                                                                     GD_params,\n",
    "                                                                                     W1, b1, W2, b2,\n",
    "                                                                                     regularization_term)\n",
    "\n",
    "    return W1, b1, W2, b2, training_set_loss, validation_set_loss"
   ]
  },
  {
   "cell_type": "code",
   "execution_count": 125,
   "metadata": {},
   "outputs": [
    {
     "name": "stderr",
     "output_type": "stream",
     "text": [
      "\n",
      "  0%|          | 0/40 [00:00<?, ?it/s]\u001b[A\n",
      "  2%|▎         | 1/40 [01:15<49:02, 75.46s/it]\u001b[A\n",
      "  5%|▌         | 2/40 [02:32<48:11, 76.10s/it]\u001b[A\n",
      "  8%|▊         | 3/40 [03:49<47:16, 76.66s/it]\u001b[A\n",
      " 10%|█         | 4/40 [05:06<46:00, 76.69s/it]\u001b[A\n",
      " 12%|█▎        | 5/40 [06:25<45:00, 77.16s/it]\u001b[A\n",
      " 15%|█▌        | 6/40 [07:45<43:58, 77.61s/it]\u001b[A\n",
      " 18%|█▊        | 7/40 [09:01<42:33, 77.39s/it]\u001b[A\n",
      " 20%|██        | 8/40 [10:16<41:07, 77.10s/it]\u001b[A\n",
      " 22%|██▎       | 9/40 [11:33<39:50, 77.10s/it]\u001b[A\n",
      " 25%|██▌       | 10/40 [12:53<38:41, 77.37s/it]\u001b[A\n",
      " 28%|██▊       | 11/40 [14:11<37:25, 77.43s/it]\u001b[A\n",
      " 30%|███       | 12/40 [15:32<36:15, 77.70s/it]\u001b[A\n",
      " 32%|███▎      | 13/40 [16:51<35:00, 77.80s/it]\u001b[A\n",
      " 35%|███▌      | 14/40 [18:07<33:39, 77.67s/it]\u001b[A\n",
      " 38%|███▊      | 15/40 [19:26<32:24, 77.79s/it]\u001b[A\n",
      " 40%|████      | 16/40 [20:46<31:09, 77.89s/it]\u001b[A\n",
      " 42%|████▎     | 17/40 [22:02<29:49, 77.81s/it]\u001b[A\n",
      " 45%|████▌     | 18/40 [23:20<28:31, 77.79s/it]\u001b[A\n",
      " 48%|████▊     | 19/40 [24:40<27:16, 77.94s/it]\u001b[A\n",
      " 50%|█████     | 20/40 [26:00<26:00, 78.01s/it]\u001b[A\n",
      " 52%|█████▎    | 21/40 [27:18<24:42, 78.03s/it]\u001b[A\n",
      " 55%|█████▌    | 22/40 [28:45<23:31, 78.43s/it]\u001b[A\n",
      " 57%|█████▊    | 23/40 [30:12<22:19, 78.82s/it]\u001b[A\n",
      " 60%|██████    | 24/40 [31:33<21:02, 78.88s/it]\u001b[A\n",
      " 62%|██████▎   | 25/40 [32:54<19:44, 78.97s/it]\u001b[A\n",
      " 65%|██████▌   | 26/40 [34:12<18:25, 78.94s/it]\u001b[A\n",
      " 68%|██████▊   | 27/40 [35:32<17:06, 78.99s/it]\u001b[A\n",
      " 70%|███████   | 28/40 [36:54<15:48, 79.08s/it]\u001b[A\n",
      " 72%|███████▎  | 29/40 [38:14<14:30, 79.12s/it]\u001b[A\n",
      " 75%|███████▌  | 30/40 [39:32<13:10, 79.08s/it]\u001b[A\n",
      " 78%|███████▊  | 31/40 [40:52<11:52, 79.11s/it]\u001b[A\n",
      " 80%|████████  | 32/40 [42:15<10:33, 79.22s/it]\u001b[A\n",
      " 82%|████████▎ | 33/40 [43:36<09:15, 79.29s/it]\u001b[A\n",
      " 85%|████████▌ | 34/40 [44:53<07:55, 79.21s/it]\u001b[A\n",
      " 88%|████████▊ | 35/40 [46:10<06:35, 79.17s/it]\u001b[A\n",
      " 90%|█████████ | 36/40 [47:31<05:16, 79.21s/it]\u001b[A\n",
      " 92%|█████████▎| 37/40 [48:50<03:57, 79.20s/it]\u001b[A\n",
      " 95%|█████████▌| 38/40 [50:08<02:38, 79.17s/it]\u001b[A\n",
      " 98%|█████████▊| 39/40 [51:30<01:19, 79.24s/it]\u001b[A\n",
      "100%|██████████| 40/40 [52:48<00:00, 79.21s/it]\u001b[A\n",
      "\u001b[A"
     ]
    }
   ],
   "source": [
    "W1_improvement_1, b1_improvement_1, W2_improvement_1, b2_improvement_1, training_set_loss_improvement_1, validation_set_loss_improvement_1 = improvement_1(eta=0.02878809988519304, regularization_term=0.001)"
   ]
  },
  {
   "cell_type": "code",
   "execution_count": 126,
   "metadata": {},
   "outputs": [
    {
     "data": {
      "image/png": "[encoded data removed]",
      "text/plain": [
       "<Figure size 432x288 with 1 Axes>"
      ]
     },
     "metadata": {},
     "output_type": "display_data"
    },
    {
     "data": {
      "text/plain": [
       "<Figure size 432x288 with 0 Axes>"
      ]
     },
     "metadata": {},
     "output_type": "display_data"
    }
   ],
   "source": [
    "visualize_costs(training_set_loss_improvement_1, validation_set_loss_improvement_1, display=True,\n",
    "                title='Cross Entropy Loss Evolution, improvement 1', save_name='improvement_1')"
   ]
  },
  {
   "cell_type": "code",
   "execution_count": 29,
   "metadata": {
    "collapsed": true
   },
   "outputs": [
    {
     "ename": "NameError",
     "evalue": "name 'W1_improvement_1' is not defined",
     "output_type": "error",
     "traceback": [
      "\u001b[0;31m---------------------------------------------------------------------------\u001b[0m",
      "\u001b[0;31mNameError\u001b[0m                                 Traceback (most recent call last)",
      "\u001b[0;32m<ipython-input-29-02fcce49b5c4>\u001b[0m in \u001b[0;36m<module>\u001b[0;34m()\u001b[0m\n\u001b[0;32m----> 1\u001b[0;31m \u001b[0maccuracy_improvement_1\u001b[0m \u001b[0;34m=\u001b[0m \u001b[0mComputeAccuracy\u001b[0m\u001b[0;34m(\u001b[0m\u001b[0mX_test\u001b[0m\u001b[0;34m,\u001b[0m \u001b[0my_test\u001b[0m\u001b[0;34m,\u001b[0m \u001b[0mW1_improvement_1\u001b[0m\u001b[0;34m,\u001b[0m \u001b[0mb1_improvement_1\u001b[0m\u001b[0;34m,\u001b[0m \u001b[0mW2_improvement_1\u001b[0m\u001b[0;34m,\u001b[0m \u001b[0mb2_improvement_1\u001b[0m\u001b[0;34m)\u001b[0m\u001b[0;34m\u001b[0m\u001b[0m\n\u001b[0m",
      "\u001b[0;31mNameError\u001b[0m: name 'W1_improvement_1' is not defined"
     ]
    }
   ],
   "source": [
    "accuracy_improvement_1 = ComputeAccuracy(X_test, y_test, W1_improvement_1, b1_improvement_1, W2_improvement_1, b2_improvement_1)"
   ]
  },
  {
   "cell_type": "markdown",
   "metadata": {},
   "source": [
    "The accuracy of the first improvement for $\\eta=0.02878809988519304$ and $\\lambda=0.001$ is $51.53\\%$"
   ]
  },
  {
   "cell_type": "code",
   "execution_count": 128,
   "metadata": {},
   "outputs": [
    {
     "data": {
      "text/plain": [
       "51.53"
      ]
     },
     "execution_count": 128,
     "metadata": {},
     "output_type": "execute_result"
    }
   ],
   "source": [
    "accuracy_improvement_1"
   ]
  },
  {
   "cell_type": "markdown",
   "metadata": {},
   "source": [
    "We will also try the first setting with this improvement so that we can define a pair for $(\\eta, \\lambda)$ that has the best test set accuracy performance and use it for other improvements"
   ]
  },
  {
   "cell_type": "code",
   "execution_count": 27,
   "metadata": {},
   "outputs": [
    {
     "name": "stderr",
     "output_type": "stream",
     "text": [
      "100%|██████████| 50/50 [1:04:20<00:00, 77.21s/it]\n"
     ]
    }
   ],
   "source": [
    "W1_improvement_1_2, b1_improvement_1_2, W2_improvement_1_2, b2_improvement_1_2, training_set_loss_improvement_1_2, validation_set_loss_improvement_1_2 = improvement_1(eta=0.018920249916784752, regularization_term=0.0001)"
   ]
  },
  {
   "cell_type": "code",
   "execution_count": 33,
   "metadata": {},
   "outputs": [
    {
     "data": {
      "image/png": "[encoded data removed]",
      "text/plain": [
       "<Figure size 432x288 with 1 Axes>"
      ]
     },
     "metadata": {},
     "output_type": "display_data"
    },
    {
     "data": {
      "text/plain": [
       "<Figure size 432x288 with 0 Axes>"
      ]
     },
     "metadata": {},
     "output_type": "display_data"
    }
   ],
   "source": [
    "visualize_costs(training_set_loss_improvement_1_2, validation_set_loss_improvement_1_2, display=True, save_name='Improvement_1_2')"
   ]
  },
  {
   "cell_type": "code",
   "execution_count": null,
   "metadata": {},
   "outputs": [],
   "source": [
    "accuracy_improvement_1_2 = ComputeAccuracy(X_test, y_test, W1_improvement_1_2, b1_improvement_1_2, W2_improvement_1_2, b2_improvement_1_2)"
   ]
  },
  {
   "cell_type": "markdown",
   "metadata": {},
   "source": [
    "The accuracy of this setting for the first improvement is $51.94\\%$"
   ]
  },
  {
   "cell_type": "code",
   "execution_count": 31,
   "metadata": {},
   "outputs": [
    {
     "data": {
      "text/plain": [
       "51.94"
      ]
     },
     "execution_count": 31,
     "metadata": {},
     "output_type": "execute_result"
    }
   ],
   "source": [
    "accuracy_improvement_1_2"
   ]
  },
  {
   "cell_type": "markdown",
   "metadata": {},
   "source": [
    "Try no.3: Same settings, smaller amount of regularization"
   ]
  },
  {
   "cell_type": "code",
   "execution_count": 53,
   "metadata": {},
   "outputs": [
    {
     "name": "stderr",
     "output_type": "stream",
     "text": [
      "100%|██████████| 50/50 [1:02:45<00:00, 75.30s/it]\n"
     ]
    }
   ],
   "source": [
    "W1_improvement_1_3, b1_improvement_1_3, W2_improvement_1_3, b2_improvement_1_3, training_set_loss_improvement_1_3, validation_set_loss_improvement_1_3 = improvement_1(eta=0.018920249916784752, regularization_term=0.0001)"
   ]
  },
  {
   "cell_type": "code",
   "execution_count": 58,
   "metadata": {},
   "outputs": [
    {
     "data": {
      "image/png": "[encoded data removed]",
      "text/plain": [
       "<Figure size 432x288 with 1 Axes>"
      ]
     },
     "metadata": {},
     "output_type": "display_data"
    },
    {
     "data": {
      "text/plain": [
       "<Figure size 432x288 with 0 Axes>"
      ]
     },
     "metadata": {},
     "output_type": "display_data"
    }
   ],
   "source": [
    "visualize_costs(training_set_loss_improvement_1_3, validation_set_loss_improvement_1_3, display=True, save_name='Improvement_1_3')"
   ]
  },
  {
   "cell_type": "code",
   "execution_count": 59,
   "metadata": {},
   "outputs": [],
   "source": [
    "accuracy_improvement_1_3 = ComputeAccuracy(X_test, y_test, W1_improvement_1_3, b1_improvement_1_3, W2_improvement_1_3, b2_improvement_1_3)"
   ]
  },
  {
   "cell_type": "markdown",
   "metadata": {},
   "source": [
    "The accuracy performance of this setting is 49.94%"
   ]
  },
  {
   "cell_type": "code",
   "execution_count": 60,
   "metadata": {},
   "outputs": [
    {
     "data": {
      "text/plain": [
       "49.94"
      ]
     },
     "execution_count": 60,
     "metadata": {},
     "output_type": "execute_result"
    }
   ],
   "source": [
    "accuracy_improvement_1_3"
   ]
  },
  {
   "cell_type": "markdown",
   "metadata": {},
   "source": [
    "#### Improvement 2: Switch to He initialization and see the effect it has on training. "
   ]
  },
  {
   "cell_type": "code",
   "execution_count": 44,
   "metadata": {},
   "outputs": [],
   "source": [
    "def improvement_2(eta=0.018920249916784752, regularization_term=0.001):\n",
    "    \"\"\"\n",
    "    Switch to He-initialization\n",
    "    \"\"\"\n",
    "    W1_he, b1_he, W2_he, b2_he = he_initialization()\n",
    "\n",
    "    GD_params = [100, eta, 40]\n",
    "\n",
    "    W1_he, b1_he, W2_he, b2_he, training_set_loss_he, validation_set_loss_he = MiniBatchGDwithMomentum(X_training,\n",
    "                                                                                     Y_training,\n",
    "                                                                                     X_validation,\n",
    "                                                                                     Y_validation,\n",
    "                                                                                     y_validation,\n",
    "                                                                                     GD_params,\n",
    "                                                                                     W1_he, b1_he, W2_he, b2_he,\n",
    "                                                                                     regularization_term)\n",
    "\n",
    "    return W1_he, b1_he, W2_he, b2_he, training_set_loss_he, validation_set_loss_he"
   ]
  },
  {
   "cell_type": "code",
   "execution_count": 45,
   "metadata": {},
   "outputs": [
    {
     "name": "stderr",
     "output_type": "stream",
     "text": [
      "100%|██████████| 40/40 [51:06<00:00, 76.67s/it]\n"
     ]
    }
   ],
   "source": [
    "W1_improvement_2, b1_improvement_2, W2_improvement_2, b2_improvement_2, \\\n",
    "training_set_loss_improvement_2, validation_set_loss_improvement_2 = improvement_2()"
   ]
  },
  {
   "cell_type": "code",
   "execution_count": 48,
   "metadata": {},
   "outputs": [
    {
     "data": {
      "image/png": "[encoded data removed]",
      "text/plain": [
       "<Figure size 432x288 with 1 Axes>"
      ]
     },
     "metadata": {},
     "output_type": "display_data"
    },
    {
     "data": {
      "text/plain": [
       "<Figure size 432x288 with 0 Axes>"
      ]
     },
     "metadata": {},
     "output_type": "display_data"
    }
   ],
   "source": [
    "visualize_costs(training_set_loss_improvement_2, validation_set_loss_improvement_2, display=True, save_name='Improvement_1_2')"
   ]
  },
  {
   "cell_type": "code",
   "execution_count": 49,
   "metadata": {},
   "outputs": [],
   "source": [
    "accuracy_improvement_2 = ComputeAccuracy(X_test, y_test, W1_improvement_2, b1_improvement_2, W2_improvement_2, b2_improvement_2)"
   ]
  },
  {
   "cell_type": "markdown",
   "metadata": {},
   "source": [
    "The accuracy of this setting is 51.44%"
   ]
  },
  {
   "cell_type": "code",
   "execution_count": 50,
   "metadata": {},
   "outputs": [
    {
     "data": {
      "text/plain": [
       "51.44"
      ]
     },
     "execution_count": 50,
     "metadata": {},
     "output_type": "execute_result"
    }
   ],
   "source": [
    "accuracy_improvement_2"
   ]
  },
  {
   "cell_type": "markdown",
   "metadata": {},
   "source": [
    "#### Improvement 3: You could also explore whether having more hidden nodes improves the final classification rate. One would expect that with more hidden nodes then the amount of regularization would have to increase."
   ]
  },
  {
   "cell_type": "code",
   "execution_count": 63,
   "metadata": {},
   "outputs": [],
   "source": [
    "def improvement_3(eta=0.018920249916784752, regularization_term=0.001):\n",
    "    \"\"\"\n",
    "     You could also explore whether having more hidden nodes improves the final classification rate. \n",
    "    One would expect that with more hidden nodes then the amount of regularization would have to increase.\n",
    "    \"\"\"\n",
    "\n",
    "    W1_100, b1_100, W2_100, b2_100 = initialize_weights(m=100)\n",
    "\n",
    "    GD_params = [100, eta, 30]\n",
    "\n",
    "    W1_100, b1_100, W2_100, b2_100, training_set_loss_100, validation_set_loss_100 = MiniBatchGDwithMomentum(X_training,\n",
    "                                                                                     Y_training,\n",
    "                                                                                     X_validation,\n",
    "                                                                                     Y_validation,\n",
    "                                                                                     y_validation,\n",
    "                                                                                     GD_params,\n",
    "                                                                                     W1_100, b1_100, W2_100, b2_100,\n",
    "                                                                                     regularization_term)\n",
    "\n",
    "    return W1_100, b1_100, W2_100, b2_100, training_set_loss_100, validation_set_loss_100"
   ]
  },
  {
   "cell_type": "code",
   "execution_count": 64,
   "metadata": {},
   "outputs": [
    {
     "name": "stderr",
     "output_type": "stream",
     "text": [
      "100%|██████████| 30/30 [37:43<00:00, 75.45s/it]\n"
     ]
    }
   ],
   "source": [
    "W1_improvement_3, b1_improvement_3, W3_improvement_3, b3_improvement_3, \\\n",
    "training_set_loss_improvement_3, validation_set_loss_improvement_3 = improvement_3()"
   ]
  },
  {
   "cell_type": "code",
   "execution_count": 65,
   "metadata": {},
   "outputs": [
    {
     "data": {
      "image/png": "[encoded data removed]",
      "text/plain": [
       "<Figure size 432x288 with 1 Axes>"
      ]
     },
     "metadata": {},
     "output_type": "display_data"
    },
    {
     "data": {
      "text/plain": [
       "<Figure size 432x288 with 0 Axes>"
      ]
     },
     "metadata": {},
     "output_type": "display_data"
    }
   ],
   "source": [
    "visualize_costs(training_set_loss_improvement_3, validation_set_loss_improvement_3, display=True,\n",
    "                title='Cross Entropy Loss Evolution, improvement 3', save_name='improvement_3')"
   ]
  },
  {
   "cell_type": "code",
   "execution_count": 66,
   "metadata": {},
   "outputs": [],
   "source": [
    "accuracy_improvement_3 = ComputeAccuracy(X_test, y_test, W1_improvement_3, b1_improvement_3, W3_improvement_3, b3_improvement_3)"
   ]
  },
  {
   "cell_type": "markdown",
   "metadata": {},
   "source": [
    "The accuracy achieved is 53.48%"
   ]
  },
  {
   "cell_type": "code",
   "execution_count": 67,
   "metadata": {},
   "outputs": [
    {
     "data": {
      "text/plain": [
       "53.48"
      ]
     },
     "execution_count": 67,
     "metadata": {},
     "output_type": "execute_result"
    }
   ],
   "source": [
    "accuracy_improvement_3"
   ]
  },
  {
   "cell_type": "markdown",
   "metadata": {},
   "source": [
    "#### Improvement 4: Play around with different approaches to anneal the learning rate. For example you can keep the learning rate fixed over several epochs then decay it by a factor of 10 after n epochs."
   ]
  },
  {
   "cell_type": "code",
   "execution_count": 68,
   "metadata": {},
   "outputs": [],
   "source": [
    "    def improvement_4(eta=0.018920249916784752, regularization_term=0.001):\n",
    "        \"\"\"\n",
    "        ﻿Play around with different approaches to anneal the learning rate.\n",
    "        For example you can keep the learning rate fixed over several epochs then decay it by a factor of 10 after n epochs.\n",
    "        \"\"\"\n",
    "        \n",
    "        W1_annealing, b1_annealing, W2_annealing, b2_annealing = initialize_weights()\n",
    "        \n",
    "        GD_params = [100, eta, 30]\n",
    "\n",
    "        W1_annealing, b1_annealing, W2_annealing, b2_annealing, training_set_loss_annealing, validation_set_loss_annealing = \\\n",
    "            MiniBatchGDwithMomentum( X_training,\n",
    "                                     Y_training,\n",
    "                                     X_validation,\n",
    "                                     Y_validation,\n",
    "                                     y_validation,\n",
    "                                     GD_params,\n",
    "                                     W1_annealing, b1_annealing, W2_annealing, b2_annealing,\n",
    "                                     regularization_term,\n",
    "                                     with_annealing=True)\n",
    "\n",
    "        return W1_annealing, b1_annealing, W2_annealing, b2_annealing, training_set_loss_annealing, validation_set_loss_annealing"
   ]
  },
  {
   "cell_type": "code",
   "execution_count": 69,
   "metadata": {},
   "outputs": [
    {
     "name": "stderr",
     "output_type": "stream",
     "text": [
      "100%|██████████| 30/30 [36:44<00:00, 73.49s/it]\n"
     ]
    }
   ],
   "source": [
    "W1_improvement_4, b1_improvement_4, W4_improvement_4, b4_improvement_4, \\\n",
    "training_set_loss_improvement_4, validation_set_loss_improvement_4 = improvement_4()"
   ]
  },
  {
   "cell_type": "code",
   "execution_count": 70,
   "metadata": {},
   "outputs": [
    {
     "data": {
      "image/png": "[encoded data removed]",
      "text/plain": [
       "<Figure size 432x288 with 1 Axes>"
      ]
     },
     "metadata": {},
     "output_type": "display_data"
    },
    {
     "data": {
      "text/plain": [
       "<Figure size 432x288 with 0 Axes>"
      ]
     },
     "metadata": {},
     "output_type": "display_data"
    }
   ],
   "source": [
    "visualize_costs(training_set_loss_improvement_4, validation_set_loss_improvement_4, display=True,\n",
    "                title='Cross Entropy Loss Evolution, improvement 4', save_name='improvement_4')"
   ]
  },
  {
   "cell_type": "code",
   "execution_count": 71,
   "metadata": {},
   "outputs": [],
   "source": [
    "accuracy_improvement_4 = ComputeAccuracy(X_test, y_test, W1_improvement_4, b1_improvement_4, W4_improvement_4, b4_improvement_4)"
   ]
  },
  {
   "cell_type": "markdown",
   "metadata": {},
   "source": [
    "Test set accuracy performance achieved: 51.34%"
   ]
  },
  {
   "cell_type": "code",
   "execution_count": 72,
   "metadata": {},
   "outputs": [
    {
     "data": {
      "text/plain": [
       "51.34"
      ]
     },
     "execution_count": 72,
     "metadata": {},
     "output_type": "execute_result"
    }
   ],
   "source": [
    "accuracy_improvement_4"
   ]
  },
  {
   "cell_type": "markdown",
   "metadata": {},
   "source": [
    "#### Improvement 5: Augmenting the training data on the fly, applying random transformations to them before doing the forward and backward pass"
   ]
  },
  {
   "cell_type": "code",
   "execution_count": 184,
   "metadata": {},
   "outputs": [],
   "source": [
    "def improvement_5(eta=0.018920249916784752, regularization_term=0.001):\n",
    "    \"\"\"\n",
    "    Apply random transformations to the images.\n",
    "    \"\"\"\n",
    "\n",
    "    W1_jittering, b1_jittering, W2_jittering, b2_jittering = initialize_weights()\n",
    "\n",
    "    GD_params = [100, eta, 30]\n",
    "\n",
    "    W1_jittering, b1_jittering, W2_jittering, b2_jittering, training_set_loss_jittering, validation_set_loss_jittering = \\\n",
    "        MiniBatchGDwithAugmenting(X_training,\n",
    "                                Y_training,\n",
    "                                X_validation,\n",
    "                                Y_validation,\n",
    "                                y_training,  \n",
    "                                y_validation,\n",
    "                                GD_params,\n",
    "                                W1_jittering, b1_jittering, W2_jittering, b2_jittering,\n",
    "                                regularization_term)\n",
    "\n",
    "    return W1_jittering, b1_jittering, W2_jittering, b2_jittering, training_set_loss_jittering, validation_set_loss_jittering"
   ]
  },
  {
   "cell_type": "code",
   "execution_count": 185,
   "metadata": {},
   "outputs": [
    {
     "name": "stderr",
     "output_type": "stream",
     "text": [
      "\n",
      "\n",
      "  0%|          | 0/30 [00:00<?, ?it/s]\u001b[A\u001b[A\n",
      "\n",
      "  3%|▎         | 1/30 [02:18<1:06:43, 138.05s/it]\u001b[A\u001b[A\n",
      "\n",
      "  7%|▋         | 2/30 [04:37<1:04:50, 138.93s/it]\u001b[A\u001b[A\n",
      "\n",
      " 10%|█         | 3/30 [06:56<1:02:27, 138.80s/it]\u001b[A\u001b[A\n",
      "\n",
      " 13%|█▎        | 4/30 [09:17<1:00:25, 139.43s/it]\u001b[A\u001b[A\n",
      "\n",
      " 17%|█▋        | 5/30 [11:25<57:07, 137.09s/it]  \u001b[A\u001b[A\n",
      "\n",
      " 20%|██        | 6/30 [13:42<54:50, 137.12s/it]\u001b[A\u001b[A\n",
      "\n",
      " 23%|██▎       | 7/30 [15:52<52:08, 136.00s/it]\u001b[A\u001b[A\n",
      "\n",
      " 27%|██▋       | 8/30 [17:56<49:21, 134.59s/it]\u001b[A\u001b[A\n",
      "\n",
      " 30%|███       | 9/30 [20:06<46:54, 134.03s/it]\u001b[A\u001b[A\n",
      "\n",
      " 33%|███▎      | 10/30 [22:21<44:42, 134.10s/it]\u001b[A\u001b[A\n",
      "\n",
      " 37%|███▋      | 11/30 [24:29<42:18, 133.58s/it]\u001b[A\u001b[A\n",
      "\n",
      " 40%|████      | 12/30 [26:37<39:56, 133.11s/it]\u001b[A\u001b[A\n",
      "\n",
      " 43%|████▎     | 13/30 [28:51<37:44, 133.21s/it]\u001b[A\u001b[A\n",
      "\n",
      " 47%|████▋     | 14/30 [30:52<35:17, 132.35s/it]\u001b[A\u001b[A\n",
      "\n",
      " 50%|█████     | 15/30 [33:06<33:06, 132.43s/it]\u001b[A\u001b[A\n",
      "\n",
      " 53%|█████▎    | 16/30 [35:27<31:01, 132.97s/it]\u001b[A\u001b[A\n",
      "\n",
      " 57%|█████▋    | 17/30 [37:41<28:49, 133.02s/it]\u001b[A\u001b[A\n",
      "\n",
      " 60%|██████    | 18/30 [39:49<26:33, 132.75s/it]\u001b[A\u001b[A\n",
      "\n",
      " 63%|██████▎   | 19/30 [42:02<24:20, 132.74s/it]\u001b[A\u001b[A\n",
      "\n",
      " 67%|██████▋   | 20/30 [44:20<22:10, 133.00s/it]\u001b[A\u001b[A\n",
      "\n",
      " 70%|███████   | 21/30 [46:34<19:57, 133.06s/it]\u001b[A\u001b[A\n",
      "\n",
      " 73%|███████▎  | 22/30 [48:50<17:45, 133.22s/it]\u001b[A\u001b[A\n",
      "\n",
      " 77%|███████▋  | 23/30 [51:02<15:32, 133.15s/it]\u001b[A\u001b[A\n",
      "\n",
      " 80%|████████  | 24/30 [53:10<13:17, 132.96s/it]\u001b[A\u001b[A\n",
      "\n",
      " 83%|████████▎ | 25/30 [55:22<11:04, 132.90s/it]\u001b[A\u001b[A\n",
      "\n",
      " 87%|████████▋ | 26/30 [57:24<08:49, 132.49s/it]\u001b[A\u001b[A\n",
      "\n",
      " 90%|█████████ | 27/30 [59:23<06:35, 132.00s/it]\u001b[A\u001b[A\n",
      "\n",
      " 93%|█████████▎| 28/30 [1:01:27<04:23, 131.70s/it]\u001b[A\u001b[A\n",
      "\n",
      " 97%|█████████▋| 29/30 [1:03:25<02:11, 131.24s/it]\u001b[A\u001b[A\n",
      "\n",
      "100%|██████████| 30/30 [1:05:32<00:00, 131.09s/it]\u001b[A\u001b[A\n",
      "\n",
      "\u001b[A\u001b[A"
     ]
    },
    {
     "data": {
      "image/png": "[encoded data removed]",
      "text/plain": [
       "<Figure size 432x288 with 1 Axes>"
      ]
     },
     "metadata": {},
     "output_type": "display_data"
    },
    {
     "data": {
      "text/plain": [
       "<Figure size 432x288 with 0 Axes>"
      ]
     },
     "metadata": {},
     "output_type": "display_data"
    }
   ],
   "source": [
    "W1_improvement_5, b1_improvement_5, W2_improvement_5, b2_improvement_5, \\\n",
    "training_set_loss_improvement_5, validation_set_loss_improvement_5 = improvement_5()\n",
    "\n",
    "visualize_costs(training_set_loss_improvement_5, validation_set_loss_improvement_5, display=True,\n",
    "                title='Cross Entropy Loss Evolution, improvement 5', save_name='improvement_5')"
   ]
  },
  {
   "cell_type": "code",
   "execution_count": 186,
   "metadata": {},
   "outputs": [],
   "source": [
    "accuracy_improvement_5 = ComputeAccuracy(X_test, y_test, W1_improvement_5, b1_improvement_5, W2_improvement_5, b2_improvement_5)"
   ]
  },
  {
   "cell_type": "markdown",
   "metadata": {},
   "source": [
    "Test set accuracy  performance: 40.35%"
   ]
  },
  {
   "cell_type": "code",
   "execution_count": 187,
   "metadata": {},
   "outputs": [
    {
     "data": {
      "text/plain": [
       "40.35"
      ]
     },
     "execution_count": 187,
     "metadata": {},
     "output_type": "execute_result"
    }
   ],
   "source": [
    "accuracy_improvement_5"
   ]
  },
  {
   "cell_type": "markdown",
   "metadata": {},
   "source": [
    "### Exercise 2: Train network using a different activation to ReLu "
   ]
  },
  {
   "cell_type": "markdown",
   "metadata": {},
   "source": [
    "We make use of the leaky ReLu function in order to observe any possible differences in the training process"
   ]
  },
  {
   "cell_type": "markdown",
   "metadata": {},
   "source": [
    "First try:"
   ]
  },
  {
   "cell_type": "code",
   "execution_count": 42,
   "metadata": {},
   "outputs": [],
   "source": [
    "def try_1(eta=0.018920249916784752, regularization_term=0.001):\n",
    "\n",
    "    W1_leaky_1, b1_leaky_1, W2_leaky_1, b2_leaky_1 = initialize_weights()\n",
    "\n",
    "    GD_params = [100, eta, 30]\n",
    "\n",
    "    W1_leaky_1, b1_leaky_1, W2_leaky_1, b2_leaky_1, training_set_loss_leaky_1, validation_set_loss_leaky_1 = \\\n",
    "        MiniBatchGDwithMomentum(X_training,\n",
    "                                Y_training,\n",
    "                                X_validation,\n",
    "                                Y_validation,\n",
    "                                y_validation,\n",
    "                                GD_params,\n",
    "                                W1_leaky_1, b1_leaky_1, W2_leaky_1, b2_leaky_1,\n",
    "                                regularization_term,\n",
    "                                with_leaky_relu=True)\n",
    "\n",
    "    return W1_leaky_1, b1_leaky_1, W2_leaky_1, b2_leaky_1, training_set_loss_leaky_1, validation_set_loss_leaky_1"
   ]
  },
  {
   "cell_type": "code",
   "execution_count": 43,
   "metadata": {},
   "outputs": [
    {
     "name": "stderr",
     "output_type": "stream",
     "text": [
      "\n",
      "  0%|          | 0/30 [00:00<?, ?it/s]\u001b[A\n",
      "  3%|▎         | 1/30 [01:20<38:41, 80.05s/it]\u001b[A\n",
      "  7%|▋         | 2/30 [02:46<38:45, 83.06s/it]\u001b[A\n",
      " 10%|█         | 3/30 [04:08<37:12, 82.69s/it]\u001b[A\n",
      " 13%|█▎        | 4/30 [05:46<37:31, 86.59s/it]\u001b[A\n",
      " 17%|█▋        | 5/30 [07:15<36:16, 87.07s/it]\u001b[A\n",
      " 20%|██        | 6/30 [08:43<34:52, 87.19s/it]\u001b[A\n",
      " 23%|██▎       | 7/30 [10:14<33:39, 87.79s/it]\u001b[A\n",
      " 27%|██▋       | 8/30 [11:46<32:22, 88.30s/it]\u001b[A\n",
      " 30%|███       | 9/30 [13:18<31:02, 88.68s/it]\u001b[A\n",
      " 33%|███▎      | 10/30 [14:51<29:43, 89.17s/it]\u001b[A\n",
      " 37%|███▋      | 11/30 [16:25<28:21, 89.57s/it]\u001b[A\n",
      " 40%|████      | 12/30 [17:51<26:47, 89.32s/it]\u001b[A\n",
      " 43%|████▎     | 13/30 [19:18<25:14, 89.10s/it]\u001b[A\n",
      " 47%|████▋     | 14/30 [20:48<23:46, 89.14s/it]\u001b[A\n",
      " 50%|█████     | 15/30 [22:16<22:16, 89.10s/it]\u001b[A\n",
      " 53%|█████▎    | 16/30 [23:43<20:45, 88.98s/it]\u001b[A\n",
      " 57%|█████▋    | 17/30 [25:08<19:13, 88.75s/it]\u001b[A\n",
      " 60%|██████    | 18/30 [26:38<17:45, 88.82s/it]\u001b[A\n",
      " 63%|██████▎   | 19/30 [28:08<16:17, 88.89s/it]\u001b[A\n",
      " 67%|██████▋   | 20/30 [29:41<14:50, 89.09s/it]\u001b[A\n",
      " 70%|███████   | 21/30 [31:16<13:24, 89.37s/it]\u001b[A\n",
      " 73%|███████▎  | 22/30 [32:44<11:54, 89.29s/it]\u001b[A\n",
      " 77%|███████▋  | 23/30 [34:18<10:26, 89.49s/it]\u001b[A\n",
      " 80%|████████  | 24/30 [35:44<08:56, 89.37s/it]\u001b[A\n",
      " 83%|████████▎ | 25/30 [37:09<07:25, 89.17s/it]\u001b[A\n",
      " 87%|████████▋ | 26/30 [38:34<05:56, 89.00s/it]\u001b[A\n",
      " 90%|█████████ | 27/30 [39:55<04:26, 88.72s/it]\u001b[A\n",
      " 93%|█████████▎| 28/30 [41:26<02:57, 88.80s/it]\u001b[A\n",
      " 97%|█████████▋| 29/30 [42:54<01:28, 88.79s/it]\u001b[A\n",
      "100%|██████████| 30/30 [44:18<00:00, 88.62s/it]\u001b[A\n",
      "\u001b[A"
     ]
    }
   ],
   "source": [
    "W1_try_1, b1_try_1, W2_try_1, b2_try_1, \\\n",
    "training_set_loss_try_1, validation_set_loss_try_1 = try_1()"
   ]
  },
  {
   "cell_type": "code",
   "execution_count": 44,
   "metadata": {},
   "outputs": [
    {
     "data": {
      "image/png": "[encoded data removed]",
      "text/plain": [
       "<Figure size 432x288 with 1 Axes>"
      ]
     },
     "metadata": {},
     "output_type": "display_data"
    },
    {
     "data": {
      "text/plain": [
       "<Figure size 432x288 with 0 Axes>"
      ]
     },
     "metadata": {},
     "output_type": "display_data"
    }
   ],
   "source": [
    "visualize_costs(training_set_loss_try_1, validation_set_loss_try_1, display=True,\n",
    "                title='Cross Entropy Loss Evolution, Leaky ReLU, try 1', save_name='try_1')"
   ]
  },
  {
   "cell_type": "code",
   "execution_count": 45,
   "metadata": {},
   "outputs": [],
   "source": [
    "accuracy_try_1 = ComputeAccuracy(X_test, y_test, W1_try_1, b1_try_1, W2_try_1, b2_try_1)"
   ]
  },
  {
   "cell_type": "markdown",
   "metadata": {},
   "source": [
    "Test set accuracy performance: 51.53%"
   ]
  },
  {
   "cell_type": "code",
   "execution_count": 46,
   "metadata": {},
   "outputs": [
    {
     "data": {
      "text/plain": [
       "51.53"
      ]
     },
     "execution_count": 46,
     "metadata": {},
     "output_type": "execute_result"
    }
   ],
   "source": [
    "accuracy_try_1"
   ]
  },
  {
   "cell_type": "markdown",
   "metadata": {},
   "source": [
    "Second try:"
   ]
  },
  {
   "cell_type": "code",
   "execution_count": 47,
   "metadata": {},
   "outputs": [],
   "source": [
    "def try_2(eta=0.018920249916784752, regularization_term=0.0001):\n",
    "    W1_leaky_2, b1_leaky_2, W2_leaky_2, b2_leaky_2 = initialize_weights()\n",
    "\n",
    "    GD_params = [100, eta, 30]\n",
    "\n",
    "    W1_leaky_2, b1_leaky_2, W2_leaky_2, b2_leaky_2, training_set_loss_leaky_2, validation_set_loss_leaky_2 = \\\n",
    "        MiniBatchGDwithMomentum(X_training,\n",
    "                                Y_training,\n",
    "                                X_validation,\n",
    "                                Y_validation,\n",
    "                                y_validation,\n",
    "                                GD_params,\n",
    "                                W1_leaky_2, b1_leaky_2, W2_leaky_2, b2_leaky_2,\n",
    "                                regularization_term,\n",
    "                                with_leaky_relu=True)\n",
    "\n",
    "    return W1_leaky_2, b1_leaky_2, W2_leaky_2, b2_leaky_2, training_set_loss_leaky_2, validation_set_loss_leaky_2"
   ]
  },
  {
   "cell_type": "code",
   "execution_count": 48,
   "metadata": {},
   "outputs": [
    {
     "name": "stderr",
     "output_type": "stream",
     "text": [
      "\n",
      "  0%|          | 0/30 [00:00<?, ?it/s]\u001b[A\n",
      "  3%|▎         | 1/30 [01:28<42:44, 88.44s/it]\u001b[A\n",
      "  7%|▋         | 2/30 [03:03<42:52, 91.87s/it]\u001b[A\n",
      " 10%|█         | 3/30 [04:28<40:14, 89.44s/it]\u001b[A\n",
      " 13%|█▎        | 4/30 [05:53<38:15, 88.28s/it]\u001b[A\n",
      " 17%|█▋        | 5/30 [07:19<36:37, 87.90s/it]\u001b[A\n",
      " 20%|██        | 6/30 [08:47<35:10, 87.93s/it]\u001b[A\n",
      " 23%|██▎       | 7/30 [10:12<33:33, 87.53s/it]\u001b[A\n",
      " 27%|██▋       | 8/30 [11:41<32:08, 87.67s/it]\u001b[A\n",
      " 30%|███       | 9/30 [13:06<30:34, 87.34s/it]\u001b[A\n",
      " 33%|███▎      | 10/30 [14:26<28:52, 86.64s/it]\u001b[A\n",
      " 37%|███▋      | 11/30 [15:57<27:33, 87.01s/it]\u001b[A\n",
      " 40%|████      | 12/30 [17:22<26:03, 86.86s/it]\u001b[A\n",
      " 43%|████▎     | 13/30 [18:43<24:29, 86.42s/it]\u001b[A\n",
      " 47%|████▋     | 14/30 [20:04<22:56, 86.04s/it]\u001b[A\n",
      " 50%|█████     | 15/30 [21:29<21:29, 85.97s/it]\u001b[A\n",
      " 53%|█████▎    | 16/30 [22:48<19:57, 85.51s/it]\u001b[A\n",
      " 57%|█████▋    | 17/30 [24:13<18:31, 85.48s/it]\u001b[A\n",
      " 60%|██████    | 18/30 [25:32<17:01, 85.15s/it]\u001b[A\n",
      " 63%|██████▎   | 19/30 [26:50<15:32, 84.79s/it]\u001b[A\n",
      " 67%|██████▋   | 20/30 [28:19<14:09, 84.97s/it]\u001b[A\n",
      " 70%|███████   | 21/30 [29:40<12:43, 84.80s/it]\u001b[A\n",
      " 73%|███████▎  | 22/30 [31:05<11:18, 84.80s/it]\u001b[A\n",
      " 77%|███████▋  | 23/30 [32:27<09:52, 84.68s/it]\u001b[A\n",
      " 80%|████████  | 24/30 [33:45<08:26, 84.39s/it]\u001b[A\n",
      " 83%|████████▎ | 25/30 [35:01<07:00, 84.06s/it]\u001b[A\n",
      " 87%|████████▋ | 26/30 [36:21<05:35, 83.89s/it]\u001b[A\n",
      " 90%|█████████ | 27/30 [37:40<04:11, 83.71s/it]\u001b[A\n",
      " 93%|█████████▎| 28/30 [38:58<02:47, 83.53s/it]\u001b[A\n",
      " 97%|█████████▋| 29/30 [40:20<01:23, 83.45s/it]\u001b[A\n",
      "100%|██████████| 30/30 [41:38<00:00, 83.30s/it]\u001b[A\n",
      "\u001b[A"
     ]
    }
   ],
   "source": [
    "W1_try_2, b1_try_2, W2_try_2, b2_try_2, training_set_loss_try_2, validation_set_loss_try_2 = try_2()"
   ]
  },
  {
   "cell_type": "code",
   "execution_count": 49,
   "metadata": {},
   "outputs": [
    {
     "data": {
      "image/png": "[encoded data removed]",
      "text/plain": [
       "<Figure size 432x288 with 1 Axes>"
      ]
     },
     "metadata": {},
     "output_type": "display_data"
    },
    {
     "data": {
      "text/plain": [
       "<Figure size 432x288 with 0 Axes>"
      ]
     },
     "metadata": {},
     "output_type": "display_data"
    }
   ],
   "source": [
    "visualize_costs(training_set_loss_try_2, validation_set_loss_try_2, display=True,\n",
    "                title='Cross Entropy Loss Evolution, Leaky ReLU, try 2', save_name='try_2')"
   ]
  },
  {
   "cell_type": "code",
   "execution_count": 50,
   "metadata": {},
   "outputs": [],
   "source": [
    "accuracy_try_2 = ComputeAccuracy(X_test, y_test, W1_try_2, b1_try_2, W2_try_2, b2_try_2)"
   ]
  },
  {
   "cell_type": "markdown",
   "metadata": {},
   "source": [
    "The accuracy achieved is 49.77%"
   ]
  },
  {
   "cell_type": "code",
   "execution_count": 51,
   "metadata": {},
   "outputs": [
    {
     "data": {
      "text/plain": [
       "49.77"
      ]
     },
     "execution_count": 51,
     "metadata": {},
     "output_type": "execute_result"
    }
   ],
   "source": [
    "accuracy_try_2"
   ]
  },
  {
   "cell_type": "markdown",
   "metadata": {},
   "source": [
    "Third try:"
   ]
  },
  {
   "cell_type": "code",
   "execution_count": 52,
   "metadata": {},
   "outputs": [
    {
     "name": "stderr",
     "output_type": "stream",
     "text": [
      "\n",
      "  0%|          | 0/30 [00:00<?, ?it/s]\u001b[A\n",
      "  3%|▎         | 1/30 [01:21<39:25, 81.58s/it]\u001b[A\n",
      "  7%|▋         | 2/30 [02:43<38:05, 81.63s/it]\u001b[A\n",
      " 10%|█         | 3/30 [04:03<36:28, 81.05s/it]\u001b[A\n",
      " 13%|█▎        | 4/30 [05:20<34:45, 80.21s/it]\u001b[A\n",
      " 17%|█▋        | 5/30 [06:41<33:25, 80.22s/it]\u001b[A\n",
      " 20%|██        | 6/30 [08:03<32:15, 80.63s/it]\u001b[A\n",
      " 23%|██▎       | 7/30 [09:22<30:49, 80.40s/it]\u001b[A\n",
      " 27%|██▋       | 8/30 [10:40<29:21, 80.08s/it]\u001b[A\n",
      " 30%|███       | 9/30 [12:07<28:18, 80.87s/it]\u001b[A\n",
      " 33%|███▎      | 10/30 [13:27<26:55, 80.78s/it]\u001b[A\n",
      " 37%|███▋      | 11/30 [14:55<25:46, 81.40s/it]\u001b[A\n",
      " 40%|████      | 12/30 [16:17<24:25, 81.43s/it]\u001b[A\n",
      " 43%|████▎     | 13/30 [17:33<22:58, 81.07s/it]\u001b[A\n",
      " 47%|████▋     | 14/30 [18:52<21:34, 80.89s/it]\u001b[A\n",
      " 50%|█████     | 15/30 [20:11<20:11, 80.76s/it]\u001b[A\n",
      " 53%|█████▎    | 16/30 [21:36<18:54, 81.03s/it]\u001b[A\n",
      " 57%|█████▋    | 17/30 [22:56<17:32, 81.00s/it]\u001b[A\n",
      " 60%|██████    | 18/30 [24:17<16:11, 80.98s/it]\u001b[A\n",
      " 63%|██████▎   | 19/30 [25:46<14:55, 81.38s/it]\u001b[A\n",
      " 67%|██████▋   | 20/30 [27:10<13:35, 81.50s/it]\u001b[A\n",
      " 70%|███████   | 21/30 [28:29<12:12, 81.42s/it]\u001b[A\n",
      " 73%|███████▎  | 22/30 [29:51<10:51, 81.42s/it]\u001b[A\n",
      " 77%|███████▋  | 23/30 [31:13<09:30, 81.46s/it]\u001b[A\n",
      " 80%|████████  | 24/30 [32:42<08:10, 81.77s/it]\u001b[A\n",
      " 83%|████████▎ | 25/30 [34:02<06:48, 81.69s/it]\u001b[A\n",
      " 87%|████████▋ | 26/30 [35:27<05:27, 81.82s/it]\u001b[A\n",
      " 90%|█████████ | 27/30 [36:50<04:05, 81.86s/it]\u001b[A\n",
      " 93%|█████████▎| 28/30 [38:14<02:43, 81.93s/it]\u001b[A\n",
      " 97%|█████████▋| 29/30 [39:40<01:22, 82.08s/it]\u001b[A\n",
      "100%|██████████| 30/30 [41:07<00:00, 82.25s/it]\u001b[A\n",
      "\u001b[A"
     ]
    },
    {
     "data": {
      "image/png": "[encoded data removed]",
      "text/plain": [
       "<Figure size 432x288 with 1 Axes>"
      ]
     },
     "metadata": {},
     "output_type": "display_data"
    },
    {
     "data": {
      "text/plain": [
       "<Figure size 432x288 with 0 Axes>"
      ]
     },
     "metadata": {},
     "output_type": "display_data"
    }
   ],
   "source": [
    "def try_3(eta=0.02878809988519304, regularization_term=0.001):\n",
    "    W1_leaky_3, b1_leaky_3, W2_leaky_3, b2_leaky_3 = initialize_weights()\n",
    "\n",
    "    GD_params = [100, eta, 30]\n",
    "\n",
    "    W1_leaky_3, b1_leaky_3, W2_leaky_3, b2_leaky_3, training_set_loss_leaky_3, validation_set_loss_leaky_3 = \\\n",
    "        MiniBatchGDwithMomentum(X_training,\n",
    "                                Y_training,\n",
    "                                X_validation,\n",
    "                                Y_validation,\n",
    "                                y_validation,\n",
    "                                GD_params,\n",
    "                                W1_leaky_3, b1_leaky_3, W2_leaky_3, b2_leaky_3,\n",
    "                                regularization_term,\n",
    "                                with_leaky_relu=True)\n",
    "\n",
    "    return W1_leaky_3, b1_leaky_3, W2_leaky_3, b2_leaky_3, training_set_loss_leaky_3, validation_set_loss_leaky_3\n",
    "\n",
    "\"\"\"\n",
    "Uncomment for third try\n",
    "\"\"\"\n",
    "W1_try_3, b1_try_3, W2_try_3, b2_try_3, training_set_loss_try_3, validation_set_loss_try_3 = try_3()\n",
    "\n",
    "visualize_costs(training_set_loss_try_3, validation_set_loss_try_3, display=True,\n",
    "                title='Cross Entropy Loss Evolution, Leaky ReLU, try 3', save_name='try_3')"
   ]
  },
  {
   "cell_type": "code",
   "execution_count": 53,
   "metadata": {},
   "outputs": [],
   "source": [
    "accuracy_try_3 = ComputeAccuracy(X_test, y_test, W1_try_3, b1_try_3, W2_try_3, b2_try_3)"
   ]
  },
  {
   "cell_type": "markdown",
   "metadata": {},
   "source": [
    "The accuracy achieved on the test set is 52.57%"
   ]
  },
  {
   "cell_type": "code",
   "execution_count": 54,
   "metadata": {},
   "outputs": [
    {
     "data": {
      "text/plain": [
       "52.57"
      ]
     },
     "execution_count": 54,
     "metadata": {},
     "output_type": "execute_result"
    }
   ],
   "source": [
    "accuracy_try_3"
   ]
  },
  {
   "cell_type": "markdown",
   "metadata": {},
   "source": [
    "Fourth try: Combining Leaky Relu with annealing the learning rate:"
   ]
  },
  {
   "cell_type": "code",
   "execution_count": 55,
   "metadata": {},
   "outputs": [
    {
     "name": "stderr",
     "output_type": "stream",
     "text": [
      "\n",
      "  0%|          | 0/30 [00:00<?, ?it/s]\u001b[A\n",
      "  3%|▎         | 1/30 [01:27<42:12, 87.32s/it]\u001b[A\n",
      "  7%|▋         | 2/30 [02:48<39:16, 84.18s/it]\u001b[A\n",
      " 10%|█         | 3/30 [04:15<38:15, 85.02s/it]\u001b[A\n",
      " 13%|█▎        | 4/30 [05:40<36:52, 85.11s/it]\u001b[A\n",
      " 17%|█▋        | 5/30 [07:03<35:17, 84.70s/it]\u001b[A\n",
      " 20%|██        | 6/30 [08:26<33:46, 84.43s/it]\u001b[A\n",
      " 23%|██▎       | 7/30 [09:48<32:12, 84.01s/it]\u001b[A\n",
      " 27%|██▋       | 8/30 [11:16<30:59, 84.53s/it]\u001b[A\n",
      " 30%|███       | 9/30 [12:43<29:41, 84.86s/it]\u001b[A\n",
      " 33%|███▎      | 10/30 [14:13<28:27, 85.39s/it]\u001b[A\n",
      " 37%|███▋      | 11/30 [15:42<27:07, 85.65s/it]\u001b[A\n",
      " 40%|████      | 12/30 [17:05<25:38, 85.46s/it]\u001b[A\n",
      " 43%|████▎     | 13/30 [18:24<24:04, 84.99s/it]\u001b[A\n",
      " 47%|████▋     | 14/30 [19:50<22:41, 85.07s/it]\u001b[A\n",
      " 50%|█████     | 15/30 [21:19<21:19, 85.30s/it]\u001b[A\n",
      " 53%|█████▎    | 16/30 [22:44<19:54, 85.30s/it]\u001b[A\n",
      " 57%|█████▋    | 17/30 [24:08<18:27, 85.22s/it]\u001b[A\n",
      " 60%|██████    | 18/30 [25:29<16:59, 84.99s/it]\u001b[A\n",
      " 63%|██████▎   | 19/30 [27:01<15:38, 85.32s/it]\u001b[A\n",
      " 67%|██████▋   | 20/30 [28:25<14:12, 85.29s/it]\u001b[A\n",
      " 70%|███████   | 21/30 [29:55<12:49, 85.48s/it]\u001b[A\n",
      " 73%|███████▎  | 22/30 [31:23<11:24, 85.62s/it]\u001b[A\n",
      " 77%|███████▋  | 23/30 [32:44<09:57, 85.41s/it]\u001b[A\n",
      " 80%|████████  | 24/30 [34:11<08:32, 85.48s/it]\u001b[A\n",
      " 83%|████████▎ | 25/30 [35:37<07:07, 85.49s/it]\u001b[A\n",
      " 87%|████████▋ | 26/30 [37:06<05:42, 85.65s/it]\u001b[A\n",
      " 90%|█████████ | 27/30 [38:35<04:17, 85.78s/it]\u001b[A\n",
      " 93%|█████████▎| 28/30 [40:04<02:51, 85.88s/it]\u001b[A\n",
      " 97%|█████████▋| 29/30 [41:28<01:25, 85.81s/it]\u001b[A\n",
      "100%|██████████| 30/30 [42:58<00:00, 85.95s/it]\u001b[A\n",
      "\u001b[A"
     ]
    },
    {
     "data": {
      "image/png": "[encoded data removed]",
      "text/plain": [
       "<Figure size 432x288 with 1 Axes>"
      ]
     },
     "metadata": {},
     "output_type": "display_data"
    },
    {
     "data": {
      "text/plain": [
       "<Figure size 432x288 with 0 Axes>"
      ]
     },
     "metadata": {},
     "output_type": "display_data"
    }
   ],
   "source": [
    "def try_4(eta=0.018920249916784752, regularization_term=0.001):\n",
    "    W1_leaky_4, b1_leaky_4, W2_leaky_4, b2_leaky_4 = initialize_weights()\n",
    "\n",
    "    GD_params = [100, eta, 30]\n",
    "\n",
    "    W1_leaky_4, b1_leaky_4, W2_leaky_4, b2_leaky_4, training_set_loss_leaky_4, validation_set_loss_leaky_4 = \\\n",
    "        MiniBatchGDwithMomentum(X_training,\n",
    "                                Y_training,\n",
    "                                X_validation,\n",
    "                                Y_validation,\n",
    "                                y_validation,\n",
    "                                GD_params,\n",
    "                                W1_leaky_4, b1_leaky_4, W2_leaky_4, b2_leaky_4,\n",
    "                                regularization_term,\n",
    "                                with_annealing=True,\n",
    "                                with_leaky_relu=True)\n",
    "\n",
    "    return W1_leaky_4, b1_leaky_4, W2_leaky_4, b2_leaky_4, training_set_loss_leaky_4, validation_set_loss_leaky_4\n",
    "\n",
    "\"\"\"\n",
    "Uncomment for fourth try\n",
    "\"\"\"\n",
    "W1_try_4, b1_try_4, W2_try_4, b2_try_4, \\\n",
    "training_set_loss_try_4, validation_set_loss_try_4 = try_4()\n",
    "\n",
    "visualize_costs(training_set_loss_try_4, validation_set_loss_try_4, display=True,\n",
    "                title='Cross Entropy Loss Evolution, Leaky ReLU, Learning rate annealing', save_name='try_4')"
   ]
  },
  {
   "cell_type": "code",
   "execution_count": 56,
   "metadata": {},
   "outputs": [],
   "source": [
    "accuracy_try_4 = ComputeAccuracy(X_test, y_test, W1_try_4, b1_try_4, W2_try_4, b2_try_4)"
   ]
  },
  {
   "cell_type": "markdown",
   "metadata": {},
   "source": [
    "The accuracy achieved on the test set is 51.04%"
   ]
  },
  {
   "cell_type": "code",
   "execution_count": 57,
   "metadata": {},
   "outputs": [
    {
     "data": {
      "text/plain": [
       "51.04"
      ]
     },
     "execution_count": 57,
     "metadata": {},
     "output_type": "execute_result"
    }
   ],
   "source": [
    "accuracy_try_4"
   ]
  },
  {
   "cell_type": "markdown",
   "metadata": {},
   "source": [
    "Fifth try: Leaky ReLU and He initialization:"
   ]
  },
  {
   "cell_type": "code",
   "execution_count": 58,
   "metadata": {},
   "outputs": [
    {
     "name": "stderr",
     "output_type": "stream",
     "text": [
      "\n",
      "  0%|          | 0/30 [00:00<?, ?it/s]\u001b[A\n",
      "  3%|▎         | 1/30 [01:23<40:16, 83.32s/it]\u001b[A\n",
      "  7%|▋         | 2/30 [02:58<41:37, 89.21s/it]\u001b[A\n",
      " 10%|█         | 3/30 [04:28<40:19, 89.60s/it]\u001b[A\n",
      " 13%|█▎        | 4/30 [05:50<38:00, 87.70s/it]\u001b[A\n",
      " 17%|█▋        | 5/30 [07:14<36:10, 86.83s/it]\u001b[A\n",
      " 20%|██        | 6/30 [08:43<34:52, 87.19s/it]\u001b[A\n",
      " 23%|██▎       | 7/30 [10:10<33:25, 87.18s/it]\u001b[A\n",
      " 27%|██▋       | 8/30 [11:32<31:44, 86.57s/it]\u001b[A\n",
      " 30%|███       | 9/30 [13:02<30:26, 86.99s/it]\u001b[A\n",
      " 33%|███▎      | 10/30 [14:32<29:04, 87.24s/it]\u001b[A\n",
      " 37%|███▋      | 11/30 [15:56<27:31, 86.92s/it]\u001b[A\n",
      " 40%|████      | 12/30 [17:26<26:09, 87.19s/it]\u001b[A\n",
      " 43%|████▎     | 13/30 [18:55<24:45, 87.36s/it]\u001b[A\n",
      " 47%|████▋     | 14/30 [20:19<23:13, 87.09s/it]\u001b[A\n",
      " 50%|█████     | 15/30 [21:43<21:43, 86.88s/it]\u001b[A\n",
      " 53%|█████▎    | 16/30 [23:06<20:13, 86.66s/it]\u001b[A\n",
      " 57%|█████▋    | 17/30 [24:29<18:43, 86.44s/it]\u001b[A\n",
      " 60%|██████    | 18/30 [25:56<17:17, 86.50s/it]\u001b[A\n",
      " 63%|██████▎   | 19/30 [27:18<15:48, 86.26s/it]\u001b[A\n",
      " 67%|██████▋   | 20/30 [28:40<14:20, 86.04s/it]\u001b[A\n",
      " 70%|███████   | 21/30 [30:03<12:53, 85.89s/it]\u001b[A\n",
      " 73%|███████▎  | 22/30 [31:30<11:27, 85.92s/it]\u001b[A\n",
      " 77%|███████▋  | 23/30 [32:59<10:02, 86.04s/it]\u001b[A\n",
      " 80%|████████  | 24/30 [34:26<08:36, 86.08s/it]\u001b[A\n",
      " 83%|████████▎ | 25/30 [35:52<07:10, 86.09s/it]\u001b[A\n",
      " 87%|████████▋ | 26/30 [37:18<05:44, 86.08s/it]\u001b[A\n",
      " 90%|█████████ | 27/30 [38:42<04:18, 86.02s/it]\u001b[A\n",
      " 93%|█████████▎| 28/30 [40:02<02:51, 85.80s/it]\u001b[A\n",
      " 97%|█████████▋| 29/30 [41:29<01:25, 85.83s/it]\u001b[A\n",
      "100%|██████████| 30/30 [42:55<00:00, 85.85s/it]\u001b[A\n",
      "\u001b[A"
     ]
    },
    {
     "data": {
      "image/png": "[encoded data removed]",
      "text/plain": [
       "<Figure size 432x288 with 1 Axes>"
      ]
     },
     "metadata": {},
     "output_type": "display_data"
    },
    {
     "data": {
      "text/plain": [
       "<Figure size 432x288 with 0 Axes>"
      ]
     },
     "metadata": {},
     "output_type": "display_data"
    }
   ],
   "source": [
    "def try_5(eta=0.018920249916784752, regularization_term=0.001):\n",
    "    \"\"\"\n",
    "    Leaky ReLU with He initialization\n",
    "    \"\"\"\n",
    "    W1_leaky_5, b1_leaky_5, W2_leaky_5, b2_leaky_5 = he_initialization()\n",
    "\n",
    "    GD_params = [100, eta, 30]\n",
    "\n",
    "    W1_leaky_5, b1_leaky_5, W2_leaky_5, b2_leaky_5, training_set_loss_leaky_5, validation_set_loss_leaky_5 = \\\n",
    "        MiniBatchGDwithMomentum(X_training,\n",
    "                                Y_training,\n",
    "                                X_validation,\n",
    "                                Y_validation,\n",
    "                                y_validation,\n",
    "                                GD_params,\n",
    "                                W1_leaky_5, b1_leaky_5, W2_leaky_5, b2_leaky_5,\n",
    "                                regularization_term,\n",
    "                                with_annealing=False,\n",
    "                                with_leaky_relu=True)\n",
    "\n",
    "    return W1_leaky_5, b1_leaky_5, W2_leaky_5, b2_leaky_5, training_set_loss_leaky_5, validation_set_loss_leaky_5\n",
    "\n",
    "W1_try_5, b1_try_5, W2_try_5, b2_try_5, \\\n",
    "training_set_loss_try_5, validation_set_loss_try_5 = try_5()\n",
    "\n",
    "visualize_costs(training_set_loss_try_5, validation_set_loss_try_5, display=True,\n",
    "                title='Cross Entropy Loss Evolution, Leaky ReLU, He initialization', save_name='try_5')"
   ]
  },
  {
   "cell_type": "code",
   "execution_count": 59,
   "metadata": {},
   "outputs": [],
   "source": [
    "accuracy_try_5 = ComputeAccuracy(X_test, y_test, W1_try_5, b1_try_5, W2_try_5, b2_try_5)"
   ]
  },
  {
   "cell_type": "markdown",
   "metadata": {},
   "source": [
    "Test set accuracy performance is 52.07%"
   ]
  },
  {
   "cell_type": "code",
   "execution_count": 60,
   "metadata": {},
   "outputs": [
    {
     "data": {
      "text/plain": [
       "52.07"
      ]
     },
     "execution_count": 60,
     "metadata": {},
     "output_type": "execute_result"
    }
   ],
   "source": [
    "accuracy_try_5"
   ]
  },
  {
   "cell_type": "markdown",
   "metadata": {},
   "source": [
    "Sixth try: Leaky Relu with 100 nodes in the hidden layer:"
   ]
  },
  {
   "cell_type": "code",
   "execution_count": 61,
   "metadata": {},
   "outputs": [
    {
     "name": "stderr",
     "output_type": "stream",
     "text": [
      "\n",
      "  0%|          | 0/30 [00:00<?, ?it/s]\u001b[A\n",
      "  3%|▎         | 1/30 [01:25<41:23, 85.63s/it]\u001b[A\n",
      "  7%|▋         | 2/30 [02:50<39:40, 85.03s/it]\u001b[A\n",
      " 10%|█         | 3/30 [04:13<37:58, 84.40s/it]\u001b[A\n",
      " 13%|█▎        | 4/30 [05:39<36:44, 84.79s/it]\u001b[A\n",
      " 17%|█▋        | 5/30 [07:05<35:28, 85.13s/it]\u001b[A\n",
      " 20%|██        | 6/30 [08:31<34:04, 85.18s/it]\u001b[A\n",
      " 23%|██▎       | 7/30 [09:58<32:45, 85.47s/it]\u001b[A\n",
      " 27%|██▋       | 8/30 [11:24<31:22, 85.59s/it]\u001b[A\n",
      " 30%|███       | 9/30 [12:45<29:47, 85.11s/it]\u001b[A\n",
      " 33%|███▎      | 10/30 [14:21<28:43, 86.20s/it]\u001b[A\n",
      " 37%|███▋      | 11/30 [15:53<27:26, 86.65s/it]\u001b[A\n",
      " 40%|████      | 12/30 [17:18<25:58, 86.57s/it]\u001b[A\n",
      " 43%|████▎     | 13/30 [18:46<24:33, 86.65s/it]\u001b[A\n",
      " 47%|████▋     | 14/30 [20:10<23:03, 86.50s/it]\u001b[A\n",
      " 50%|█████     | 15/30 [21:43<21:43, 86.89s/it]\u001b[A\n",
      " 53%|█████▎    | 16/30 [23:11<20:17, 86.94s/it]\u001b[A\n",
      " 57%|█████▋    | 17/30 [24:35<18:48, 86.82s/it]\u001b[A\n",
      " 60%|██████    | 18/30 [25:59<17:19, 86.65s/it]\u001b[A\n",
      " 63%|██████▎   | 19/30 [27:29<15:54, 86.80s/it]\u001b[A\n",
      " 67%|██████▋   | 20/30 [28:55<14:27, 86.78s/it]\u001b[A\n",
      " 70%|███████   | 21/30 [30:19<12:59, 86.64s/it]\u001b[A\n",
      " 73%|███████▎  | 22/30 [31:43<11:32, 86.51s/it]\u001b[A\n",
      " 77%|███████▋  | 23/30 [33:06<10:04, 86.39s/it]\u001b[A\n",
      " 80%|████████  | 24/30 [34:32<08:38, 86.36s/it]\u001b[A\n",
      " 83%|████████▎ | 25/30 [35:59<07:11, 86.39s/it]\u001b[A\n",
      " 87%|████████▋ | 26/30 [37:28<05:45, 86.47s/it]\u001b[A\n",
      " 90%|█████████ | 27/30 [38:57<04:19, 86.56s/it]\u001b[A\n",
      " 93%|█████████▎| 28/30 [40:24<02:53, 86.58s/it]\u001b[A\n",
      " 97%|█████████▋| 29/30 [41:55<01:26, 86.73s/it]\u001b[A\n",
      "100%|██████████| 30/30 [43:22<00:00, 86.74s/it]\u001b[A\n",
      "\u001b[A"
     ]
    },
    {
     "data": {
      "image/png": "[encoded data removed]",
      "text/plain": [
       "<Figure size 432x288 with 1 Axes>"
      ]
     },
     "metadata": {},
     "output_type": "display_data"
    },
    {
     "data": {
      "text/plain": [
       "<Figure size 432x288 with 0 Axes>"
      ]
     },
     "metadata": {},
     "output_type": "display_data"
    }
   ],
   "source": [
    "def try_6(eta=0.018920249916784752, regularization_term=0.001):\n",
    "    \"\"\"\n",
    "    Leaky ReLU with He initialization\n",
    "    \"\"\"\n",
    "    W1_leaky_6, b1_leaky_6, W2_leaky_6, b2_leaky_6 = initialize_weights(m=100)\n",
    "\n",
    "    GD_params = [100, eta, 30]\n",
    "\n",
    "    W1_leaky_6, b1_leaky_6, W2_leaky_6, b2_leaky_6, training_set_loss_leaky_6, validation_set_loss_leaky_6 = \\\n",
    "        MiniBatchGDwithMomentum(X_training,\n",
    "                                Y_training,\n",
    "                                X_validation,\n",
    "                                Y_validation,\n",
    "                                y_validation,\n",
    "                                GD_params,\n",
    "                                W1_leaky_6, b1_leaky_6, W2_leaky_6, b2_leaky_6,\n",
    "                                regularization_term,\n",
    "                                with_annealing=False,\n",
    "                                with_leaky_relu=True)\n",
    "\n",
    "    return W1_leaky_6, b1_leaky_6, W2_leaky_6, b2_leaky_6, training_set_loss_leaky_6, validation_set_loss_leaky_6\n",
    "\n",
    "\"\"\"\n",
    "Uncomment for sixth try\n",
    "\"\"\"\n",
    "W1_try_6, b1_try_6, W2_try_6, b2_try_6, \\\n",
    "training_set_loss_try_6, validation_set_loss_try_6 = try_6()\n",
    "\n",
    "visualize_costs(training_set_loss_try_6, validation_set_loss_try_6, display=True,\n",
    "                title='Cross Entropy Loss Evolution, Leaky ReLU, 100 nodes in the hidden layer', save_name='try_6')"
   ]
  },
  {
   "cell_type": "code",
   "execution_count": 62,
   "metadata": {},
   "outputs": [],
   "source": [
    "accuracy_try_6 = ComputeAccuracy(X_test, y_test, W1_try_6, b1_try_6, W2_try_6, b2_try_6)"
   ]
  },
  {
   "cell_type": "markdown",
   "metadata": {},
   "source": [
    "The accuracy achieved on the test set from this setting is 53.34%"
   ]
  },
  {
   "cell_type": "code",
   "execution_count": 63,
   "metadata": {},
   "outputs": [
    {
     "data": {
      "text/plain": [
       "53.34"
      ]
     },
     "execution_count": 63,
     "metadata": {},
     "output_type": "execute_result"
    }
   ],
   "source": [
    "accuracy_try_6"
   ]
  },
  {
   "cell_type": "markdown",
   "metadata": {},
   "source": [
    "Seventh try: Leaky ReLU with He initialization AND 100 nodes in the hidden layer"
   ]
  },
  {
   "cell_type": "code",
   "execution_count": 64,
   "metadata": {},
   "outputs": [],
   "source": [
    "def try_7(eta=0.018920249916784752, regularization_term=0.001):\n",
    "    \"\"\"\n",
    "    Leaky ReLU with jittering\n",
    "    \"\"\"\n",
    "    W1_leaky_7, b1_leaky_7, W2_leaky_7, b2_leaky_7 = he_initialization(m=100)\n",
    "\n",
    "    GD_params = [100, eta, 30]\n",
    "\n",
    "    W1_leaky_7, b1_leaky_7, W2_leaky_7, b2_leaky_7, training_set_loss_leaky_7, validation_set_loss_leaky_7 = \\\n",
    "        MiniBatchGDwithMomentum(X_training,\n",
    "                                  Y_training,\n",
    "                                  X_validation,\n",
    "                                  Y_validation,\n",
    "                                  y_validation,\n",
    "                                  GD_params,\n",
    "                                  W1_leaky_7, b1_leaky_7, W2_leaky_7, b2_leaky_7,\n",
    "                                  regularization_term,\n",
    "                                  with_annealing=False,\n",
    "                                  with_leaky_relu=True)\n",
    "\n",
    "    return W1_leaky_7, b1_leaky_7, W2_leaky_7, b2_leaky_7, training_set_loss_leaky_7, validation_set_loss_leaky_7"
   ]
  },
  {
   "cell_type": "code",
   "execution_count": 65,
   "metadata": {},
   "outputs": [
    {
     "name": "stderr",
     "output_type": "stream",
     "text": [
      "\n",
      "  0%|          | 0/30 [00:00<?, ?it/s]\u001b[A\n",
      "  3%|▎         | 1/30 [01:34<45:41, 94.53s/it]\u001b[A\n",
      "  7%|▋         | 2/30 [03:05<43:14, 92.65s/it]\u001b[A\n",
      " 10%|█         | 3/30 [04:36<41:32, 92.32s/it]\u001b[A\n",
      " 13%|█▎        | 4/30 [06:06<39:43, 91.69s/it]\u001b[A\n",
      " 17%|█▋        | 5/30 [07:34<37:51, 90.84s/it]\u001b[A\n",
      " 20%|██        | 6/30 [09:05<36:22, 90.93s/it]\u001b[A\n",
      " 23%|██▎       | 7/30 [10:37<34:53, 91.01s/it]\u001b[A\n",
      " 27%|██▋       | 8/30 [12:09<33:25, 91.16s/it]\u001b[A\n",
      " 30%|███       | 9/30 [13:37<31:46, 90.79s/it]\u001b[A\n",
      " 33%|███▎      | 10/30 [14:58<29:57, 89.87s/it]\u001b[A\n",
      " 37%|███▋      | 11/30 [16:19<28:11, 89.02s/it]\u001b[A\n",
      " 40%|████      | 12/30 [17:48<26:43, 89.06s/it]\u001b[A\n",
      " 43%|████▎     | 13/30 [19:17<25:13, 89.01s/it]\u001b[A\n",
      " 47%|████▋     | 14/30 [20:42<23:40, 88.78s/it]\u001b[A\n",
      " 50%|█████     | 15/30 [22:16<22:16, 89.10s/it]\u001b[A\n",
      " 53%|█████▎    | 16/30 [23:45<20:47, 89.08s/it]\u001b[A\n",
      " 57%|█████▋    | 17/30 [25:17<19:20, 89.25s/it]\u001b[A\n",
      " 60%|██████    | 18/30 [26:41<17:47, 88.96s/it]\u001b[A\n",
      " 63%|██████▎   | 19/30 [28:08<16:17, 88.85s/it]\u001b[A\n",
      " 67%|██████▋   | 20/30 [29:41<14:50, 89.07s/it]\u001b[A\n",
      " 70%|███████   | 21/30 [31:12<13:22, 89.17s/it]\u001b[A\n",
      " 73%|███████▎  | 22/30 [32:44<11:54, 89.28s/it]\u001b[A\n",
      " 77%|███████▋  | 23/30 [34:13<10:24, 89.27s/it]\u001b[A\n",
      " 80%|████████  | 24/30 [35:37<08:54, 89.08s/it]\u001b[A\n",
      " 83%|████████▎ | 25/30 [37:05<07:25, 89.02s/it]\u001b[A\n",
      " 87%|████████▋ | 26/30 [38:35<05:56, 89.07s/it]\u001b[A\n",
      " 90%|█████████ | 27/30 [40:06<04:27, 89.12s/it]\u001b[A\n",
      " 93%|█████████▎| 28/30 [41:34<02:58, 89.11s/it]\u001b[A\n",
      " 97%|█████████▋| 29/30 [43:04<01:29, 89.13s/it]\u001b[A\n",
      "100%|██████████| 30/30 [44:30<00:00, 89.01s/it]\u001b[A\n",
      "\u001b[A"
     ]
    },
    {
     "data": {
      "image/png": "[encoded data removed]",
      "text/plain": [
       "<Figure size 432x288 with 1 Axes>"
      ]
     },
     "metadata": {},
     "output_type": "display_data"
    },
    {
     "data": {
      "text/plain": [
       "<Figure size 432x288 with 0 Axes>"
      ]
     },
     "metadata": {},
     "output_type": "display_data"
    }
   ],
   "source": [
    "W1_try_7, b1_try_7, W2_try_7, b2_try_7, \\\n",
    "    training_set_loss_try_7, validation_set_loss_try_7 = try_7()\n",
    "\n",
    "visualize_costs(training_set_loss_try_7, validation_set_loss_try_7, display=True,\n",
    "                    title='Cross Entropy Loss Evolution, Leaky ReLU, He initialization and 100 nodes in the hidden layer', save_name='try_7')"
   ]
  },
  {
   "cell_type": "code",
   "execution_count": 67,
   "metadata": {},
   "outputs": [],
   "source": [
    "accuracy_try_7 = ComputeAccuracy(X_test, y_test, W1_try_7, b1_try_7, W2_try_7, b2_try_7)"
   ]
  },
  {
   "cell_type": "markdown",
   "metadata": {},
   "source": [
    "Test set accuracy performance of this setting: 53.51%"
   ]
  },
  {
   "cell_type": "code",
   "execution_count": 68,
   "metadata": {},
   "outputs": [
    {
     "data": {
      "text/plain": [
       "53.51"
      ]
     },
     "execution_count": 68,
     "metadata": {},
     "output_type": "execute_result"
    }
   ],
   "source": [
    "accuracy_try_7"
   ]
  },
  {
   "cell_type": "markdown",
   "metadata": {},
   "source": [
    "Eighth try:"
   ]
  },
  {
   "cell_type": "code",
   "execution_count": 72,
   "metadata": {},
   "outputs": [],
   "source": [
    "def try_8(eta=0.02878809988519304, regularization_term=0.001):\n",
    "    W1_leaky_8, b1_leaky_8, W2_leaky_8, b2_leaky_8 = he_initialization()\n",
    "\n",
    "    GD_params = [100, eta, 30]\n",
    "\n",
    "    W1_leaky_8, b1_leaky_8, W2_leaky_8, b2_leaky_8, training_set_loss_leaky_8, validation_set_loss_leaky_8 = \\\n",
    "        MiniBatchGDwithMomentum(X_training,\n",
    "                                Y_training,\n",
    "                                X_validation,\n",
    "                                Y_validation,\n",
    "                                y_validation,\n",
    "                                GD_params,\n",
    "                                W1_leaky_8, b1_leaky_8, W2_leaky_8, b2_leaky_8,\n",
    "                                regularization_term,\n",
    "                                with_leaky_relu=True)\n",
    "\n",
    "    return W1_leaky_8, b1_leaky_8, W2_leaky_8, b2_leaky_8, training_set_loss_leaky_8, validation_set_loss_leaky_8"
   ]
  },
  {
   "cell_type": "code",
   "execution_count": 73,
   "metadata": {},
   "outputs": [
    {
     "name": "stderr",
     "output_type": "stream",
     "text": [
      "\n",
      "  0%|          | 0/30 [00:00<?, ?it/s]\u001b[A\n",
      "  3%|▎         | 1/30 [01:26<41:42, 86.30s/it]\u001b[A\n",
      "  7%|▋         | 2/30 [02:57<41:31, 88.97s/it]\u001b[A\n",
      " 10%|█         | 3/30 [04:26<40:01, 88.94s/it]\u001b[A\n",
      " 13%|█▎        | 4/30 [05:53<38:19, 88.44s/it]\u001b[A\n",
      " 17%|█▋        | 5/30 [07:38<38:10, 91.63s/it]\u001b[A\n",
      " 20%|██        | 6/30 [09:12<36:51, 92.15s/it]\u001b[A\n",
      " 23%|██▎       | 7/30 [10:54<35:49, 93.45s/it]\u001b[A\n",
      " 27%|██▋       | 8/30 [12:29<34:21, 93.70s/it]\u001b[A\n",
      " 30%|███       | 9/30 [13:55<32:30, 92.88s/it]\u001b[A\n",
      " 33%|███▎      | 10/30 [15:38<31:17, 93.86s/it]\u001b[A\n",
      " 37%|███▋      | 11/30 [17:13<29:44, 93.95s/it]\u001b[A\n",
      " 40%|████      | 12/30 [18:50<28:15, 94.19s/it]\u001b[A\n",
      " 43%|████▎     | 13/30 [20:24<26:40, 94.16s/it]\u001b[A\n",
      " 47%|████▋     | 14/30 [22:03<25:13, 94.57s/it]\u001b[A\n",
      " 50%|█████     | 15/30 [24:01<24:01, 96.07s/it]\u001b[A\n",
      " 53%|█████▎    | 16/30 [25:49<22:36, 96.87s/it]\u001b[A\n",
      " 57%|█████▋    | 17/30 [27:32<21:03, 97.21s/it]\u001b[A\n",
      " 60%|██████    | 18/30 [29:17<19:31, 97.64s/it]\u001b[A\n",
      " 63%|██████▎   | 19/30 [30:58<17:55, 97.81s/it]\u001b[A\n",
      " 67%|██████▋   | 20/30 [32:37<16:18, 97.90s/it]\u001b[A\n",
      " 70%|███████   | 21/30 [34:13<14:40, 97.79s/it]\u001b[A\n",
      " 73%|███████▎  | 22/30 [36:05<13:07, 98.44s/it]\u001b[A\n",
      " 77%|███████▋  | 23/30 [37:38<11:27, 98.21s/it]\u001b[A\n",
      " 80%|████████  | 24/30 [39:00<09:45, 97.51s/it]\u001b[A\n",
      " 83%|████████▎ | 25/30 [40:22<08:04, 96.91s/it]\u001b[A\n",
      " 87%|████████▋ | 26/30 [41:47<06:25, 96.45s/it]\u001b[A\n",
      " 90%|█████████ | 27/30 [43:29<04:49, 96.64s/it]\u001b[A\n",
      " 93%|█████████▎| 28/30 [45:07<03:13, 96.70s/it]\u001b[A\n",
      " 97%|█████████▋| 29/30 [46:47<01:36, 96.80s/it]\u001b[A\n",
      "100%|██████████| 30/30 [48:25<00:00, 96.84s/it]\u001b[A\n",
      "\u001b[A"
     ]
    },
    {
     "data": {
      "image/png": "[encoded data removed]",
      "text/plain": [
       "<Figure size 432x288 with 1 Axes>"
      ]
     },
     "metadata": {},
     "output_type": "display_data"
    },
    {
     "data": {
      "text/plain": [
       "<Figure size 432x288 with 0 Axes>"
      ]
     },
     "metadata": {},
     "output_type": "display_data"
    }
   ],
   "source": [
    "W1_try_8, b1_try_8, W2_try_8, b2_try_8, training_set_loss_try_8, validation_set_loss_try_8 = try_8()\n",
    "\n",
    "visualize_costs(training_set_loss_try_8, validation_set_loss_try_8, display=True,\n",
    "                title='Cross Entropy Loss Evolution, Leaky ReLU, try 8', save_name='try_8')"
   ]
  },
  {
   "cell_type": "code",
   "execution_count": 74,
   "metadata": {},
   "outputs": [],
   "source": [
    "accuracy_try_8 = ComputeAccuracy(X_test, y_test, W1_try_8, b1_try_8, W2_try_8, b2_try_8)"
   ]
  },
  {
   "cell_type": "markdown",
   "metadata": {},
   "source": [
    "Accuracy of this setting 51.68%:"
   ]
  },
  {
   "cell_type": "code",
   "execution_count": 75,
   "metadata": {},
   "outputs": [
    {
     "data": {
      "text/plain": [
       "51.68"
      ]
     },
     "execution_count": 75,
     "metadata": {},
     "output_type": "execute_result"
    }
   ],
   "source": [
    "accuracy_try_8"
   ]
  },
  {
   "cell_type": "markdown",
   "metadata": {},
   "source": [
    "Ninth try:"
   ]
  },
  {
   "cell_type": "code",
   "execution_count": 76,
   "metadata": {},
   "outputs": [],
   "source": [
    "def try_9(eta=0.02878809988519304, regularization_term=0.001):\n",
    "    \"\"\"\n",
    "    Best pair of eta, lambda with He initialization AND 100 nodes in the hidden layer\n",
    "    :return: \n",
    "    \"\"\"\n",
    "    W1_leaky_9, b1_leaky_9, W2_leaky_9, b2_leaky_9 = he_initialization(m=100)\n",
    "\n",
    "    GD_params = [100, eta, 30]\n",
    "\n",
    "    W1_leaky_9, b1_leaky_9, W2_leaky_9, b2_leaky_9, training_set_loss_leaky_9, validation_set_loss_leaky_9 = \\\n",
    "        MiniBatchGDwithMomentum(X_training,\n",
    "                                Y_training,\n",
    "                                X_validation,\n",
    "                                Y_validation,\n",
    "                                y_validation,\n",
    "                                GD_params,\n",
    "                                W1_leaky_9, b1_leaky_9, W2_leaky_9, b2_leaky_9,\n",
    "                                regularization_term,\n",
    "                                with_leaky_relu=True)\n",
    "\n",
    "    return W1_leaky_9, b1_leaky_9, W2_leaky_9, b2_leaky_9, training_set_loss_leaky_9, validation_set_loss_leaky_9"
   ]
  },
  {
   "cell_type": "code",
   "execution_count": 77,
   "metadata": {},
   "outputs": [
    {
     "name": "stderr",
     "output_type": "stream",
     "text": [
      "\n",
      "  0%|          | 0/30 [00:00<?, ?it/s]\u001b[A\n",
      "  3%|▎         | 1/30 [01:40<48:36, 100.58s/it]\u001b[A\n",
      "  7%|▋         | 2/30 [03:22<47:18, 101.36s/it]\u001b[A\n",
      " 10%|█         | 3/30 [05:05<45:45, 101.70s/it]\u001b[A\n",
      " 13%|█▎        | 4/30 [06:43<43:45, 100.97s/it]\u001b[A\n",
      " 17%|█▋        | 5/30 [08:32<42:42, 102.51s/it]\u001b[A\n",
      " 20%|██        | 6/30 [10:09<40:37, 101.55s/it]\u001b[A\n",
      " 23%|██▎       | 7/30 [11:39<38:19, 99.97s/it] \u001b[A\n",
      " 27%|██▋       | 8/30 [13:17<36:33, 99.69s/it]\u001b[A\n",
      " 30%|███       | 9/30 [15:01<35:03, 100.15s/it]\u001b[A\n",
      " 33%|███▎      | 10/30 [16:51<33:43, 101.16s/it]\u001b[A\n",
      " 37%|███▋      | 11/30 [18:32<32:01, 101.12s/it]\u001b[A\n",
      " 40%|████      | 12/30 [20:15<30:23, 101.31s/it]\u001b[A\n",
      " 43%|████▎     | 13/30 [21:59<28:44, 101.46s/it]\u001b[A\n",
      " 47%|████▋     | 14/30 [23:43<27:06, 101.65s/it]\u001b[A\n",
      " 50%|█████     | 15/30 [25:20<25:20, 101.38s/it]\u001b[A\n",
      " 53%|█████▎    | 16/30 [27:15<23:51, 102.22s/it]\u001b[A\n",
      " 57%|█████▋    | 17/30 [28:47<22:01, 101.63s/it]\u001b[A\n",
      " 60%|██████    | 18/30 [30:22<20:14, 101.24s/it]\u001b[A\n",
      " 63%|██████▎   | 19/30 [31:56<18:29, 100.89s/it]\u001b[A\n",
      " 67%|██████▋   | 20/30 [33:54<16:57, 101.72s/it]\u001b[A\n",
      " 70%|███████   | 21/30 [35:32<15:13, 101.55s/it]\u001b[A\n",
      " 73%|███████▎  | 22/30 [37:09<13:30, 101.33s/it]\u001b[A\n",
      " 77%|███████▋  | 23/30 [38:38<11:45, 100.79s/it]\u001b[A\n",
      " 80%|████████  | 24/30 [40:15<10:03, 100.66s/it]\u001b[A\n",
      " 83%|████████▎ | 25/30 [41:53<08:22, 100.52s/it]\u001b[A\n",
      " 87%|████████▋ | 26/30 [43:25<06:40, 100.20s/it]\u001b[A\n",
      " 90%|█████████ | 27/30 [45:01<05:00, 100.06s/it]\u001b[A\n",
      " 93%|█████████▎| 28/30 [46:29<03:19, 99.61s/it] \u001b[A\n",
      " 97%|█████████▋| 29/30 [48:06<01:39, 99.55s/it]\u001b[A\n",
      "100%|██████████| 30/30 [49:32<00:00, 99.07s/it]\u001b[A\n",
      "\u001b[A"
     ]
    },
    {
     "data": {
      "image/png": "[encoded data removed]",
      "text/plain": [
       "<Figure size 432x288 with 1 Axes>"
      ]
     },
     "metadata": {},
     "output_type": "display_data"
    },
    {
     "data": {
      "text/plain": [
       "<Figure size 432x288 with 0 Axes>"
      ]
     },
     "metadata": {},
     "output_type": "display_data"
    }
   ],
   "source": [
    "W1_try_9, b1_try_9, W2_try_9, b2_try_9, training_set_loss_try_9, validation_set_loss_try_9 = try_9()\n",
    "\n",
    "visualize_costs(training_set_loss_try_9, validation_set_loss_try_9, display=True,\n",
    "                title='Cross Entropy Loss Evolution, Leaky ReLU, try 9', save_name='try_9')"
   ]
  },
  {
   "cell_type": "code",
   "execution_count": 78,
   "metadata": {},
   "outputs": [],
   "source": [
    "accuracy_try_9 = ComputeAccuracy(X_test, y_test, W1_try_9, b1_try_9, W2_try_9, b2_try_9)"
   ]
  },
  {
   "cell_type": "markdown",
   "metadata": {},
   "source": [
    "Accuracy performance of this setting 53.46:"
   ]
  },
  {
   "cell_type": "code",
   "execution_count": 79,
   "metadata": {},
   "outputs": [
    {
     "data": {
      "text/plain": [
       "53.46"
      ]
     },
     "execution_count": 79,
     "metadata": {},
     "output_type": "execute_result"
    }
   ],
   "source": [
    "accuracy_try_9"
   ]
  }
 ],
 "metadata": {
  "kernelspec": {
   "display_name": "Python 3",
   "language": "python",
   "name": "python3"
  },
  "language_info": {
   "codemirror_mode": {
    "name": "ipython",
    "version": 3
   },
   "file_extension": ".py",
   "mimetype": "text/x-python",
   "name": "python",
   "nbconvert_exporter": "python",
   "pygments_lexer": "ipython3",
   "version": "3.6.5"
  }
 },
 "nbformat": 4,
 "nbformat_minor": 2
}
