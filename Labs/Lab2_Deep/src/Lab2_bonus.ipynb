{
 "cells": [
  {
   "cell_type": "markdown",
   "metadata": {},
   "source": [
    "### Imports"
   ]
  },
  {
   "cell_type": "code",
   "execution_count": 30,
   "metadata": {},
   "outputs": [],
   "source": [
    "import numpy as np\n",
    "from matplotlib import pyplot as plt\n",
    "from keras.utils import to_categorical as make_class_categorical\n",
    "import _pickle as pickle\n",
    "from tqdm import tqdm\n",
    "import pdb"
   ]
  },
  {
   "cell_type": "markdown",
   "metadata": {},
   "source": [
    "### Assignment 2 functions"
   ]
  },
  {
   "cell_type": "markdown",
   "metadata": {},
   "source": [
    "#### Initialize weights"
   ]
  },
  {
   "cell_type": "code",
   "execution_count": 31,
   "metadata": {},
   "outputs": [],
   "source": [
    "def initialize_weights(d=3072, m=50, K=10, std=0.001):\n",
    "    \"\"\"\n",
    "    Initializes the weight and bias arrays for the 2 layers of the network\n",
    "\n",
    "    :param d: Dimensionality of the input data\n",
    "    :param m: Number of nodes in the first layer\n",
    "    :param K: Number of different classes (K=10 for the CIFAR-10 dataset)\n",
    "    :param variance (optional): The variance of the normal distribution that will be used for the initialization of the weights\n",
    "\n",
    "    :return: Weights and bias arrays for the first and second layer of the neural network\n",
    "    \"\"\"\n",
    "\n",
    "    np.random.seed(400)\n",
    "\n",
    "    W1 = np.random.normal(0, std, size=(m, d))\n",
    "    b1 = np.zeros(shape=(m, 1))\n",
    "\n",
    "    W2 = np.random.normal(0, std, size=(K, m))\n",
    "    b2 = np.zeros(shape=(K, 1))\n",
    "\n",
    "    return W1, b1, W2, b2"
   ]
  },
  {
   "cell_type": "code",
   "execution_count": 32,
   "metadata": {},
   "outputs": [],
   "source": [
    "def he_initialization(d=3072, m=50, K=10):\n",
    "    \"\"\"\n",
    "    He initialization on the weight matrices.\n",
    "\n",
    "    :param d: Dimensionality of input data.\n",
    "    :param m: Number of nodes in the hidden layer.\n",
    "    :param K: Number of classes.\n",
    "\n",
    "    :return: Initialized weight and bias matrices based on He initialization of the weights.\n",
    "    \"\"\"\n",
    "    np.random.seed(400)\n",
    "\n",
    "    W1 = np.random.randn(m, d) * np.sqrt(2 / float(m))\n",
    "    W2 = np.random.randn(K, m) * np.sqrt(2 / float(K))\n",
    "\n",
    "    b1 = np.zeros(shape=(m, 1))\n",
    "    b2 = np.zeros(shape=(K, 1))\n",
    "\n",
    "    return W1, b1, W2, b2"
   ]
  },
  {
   "cell_type": "markdown",
   "metadata": {},
   "source": [
    "#### Load Batch"
   ]
  },
  {
   "cell_type": "code",
   "execution_count": 33,
   "metadata": {},
   "outputs": [],
   "source": [
    "def LoadBatch(filename):\n",
    "    \"\"\"\n",
    "    Loads batch based on the given filename and produces the X, Y, and y arrays\n",
    "\n",
    "    :param filename: Path of the file\n",
    "    :return: X, Y and y arrays\n",
    "    \"\"\"\n",
    "\n",
    "    # borrowed from https://www.cs.toronto.edu/~kriz/cifar.html\n",
    "    def unpickle(file):\n",
    "        with open(file, 'rb') as fo:\n",
    "            dict = pickle.load(fo, encoding='bytes')\n",
    "        return dict\n",
    "\n",
    "    dictionary = unpickle(filename)\n",
    "\n",
    "    # borrowed from https://stackoverflow.com/questions/16977385/extract-the-nth-key-in-a-python-dictionary?utm_medium=organic&utm_source=google_rich_qa&utm_campaign=google_rich_qa\n",
    "    def ix(dic, n):  # don't use dict as  a variable name\n",
    "        try:\n",
    "            return list(dic)[n]  # or sorted(dic)[n] if you want the keys to be sorted\n",
    "        except IndexError:\n",
    "            print('not enough keys')\n",
    "\n",
    "    garbage = ix(dictionary, 1)\n",
    "    y = dictionary[garbage]\n",
    "    Y = np.transpose(make_class_categorical(y, 10))\n",
    "    garbage = ix(dictionary, 2)\n",
    "    X = np.transpose(dictionary[garbage]) / 255\n",
    "\n",
    "    return X, Y, y"
   ]
  },
  {
   "cell_type": "markdown",
   "metadata": {},
   "source": [
    "#### ReLU's"
   ]
  },
  {
   "cell_type": "code",
   "execution_count": 34,
   "metadata": {},
   "outputs": [],
   "source": [
    "def ReLU(x):\n",
    "    \"\"\"\n",
    "    Rectified Linear Unit function\n",
    "\n",
    "    :param x: Input to the function\n",
    "\n",
    "    :return: Output of ReLU(x)\n",
    "    \"\"\"\n",
    "\n",
    "    return np.maximum(x, 0)"
   ]
  },
  {
   "cell_type": "code",
   "execution_count": 35,
   "metadata": {},
   "outputs": [],
   "source": [
    "def Leaky_ReLU(x):\n",
    "    \"\"\"\n",
    "    Leaky Rectified Linear Unit function\n",
    "\n",
    "    :param x: Input to the function\n",
    "\n",
    "    :return: Output of ReLU(x)\n",
    "    \"\"\"\n",
    "\n",
    "    return np.maximum(0.01*x, x)"
   ]
  },
  {
   "cell_type": "markdown",
   "metadata": {},
   "source": [
    "#### Softmax"
   ]
  },
  {
   "cell_type": "code",
   "execution_count": 36,
   "metadata": {},
   "outputs": [],
   "source": [
    "def softmax(X, theta=1.0, axis=None):\n",
    "\n",
    "    # Softmax over numpy rows and columns, taking care for overflow cases\n",
    "    # Many thanks to https://nolanbconaway.github.io/blog/2017/softmax-numpy\n",
    "    # Usage: Softmax over rows-> axis =0, softmax over columns ->axis =1\n",
    "\n",
    "    \"\"\"\n",
    "    Compute the softmax of each element along an axis of X.\n",
    "    Parameters\n",
    "    ----------\n",
    "    X: ND-Array. Probably should be floats.\n",
    "    theta (optional): float parameter, used as a multiplier\n",
    "        prior to exponentiation. Default = 1.0\n",
    "    axis (optional): axis to compute values along. Default is the\n",
    "        first non-singleton axis.\n",
    "    Returns an array the same size as X. The result will sum to 1\n",
    "    along the specified axis.\n",
    "    \"\"\"\n",
    "\n",
    "    # make X at least 2d\n",
    "    y = np.atleast_2d(X)\n",
    "\n",
    "    # find axis\n",
    "    if axis is None:\n",
    "        axis = next(j[0] for j in enumerate(y.shape) if j[1] > 1)\n",
    "\n",
    "    # multiply y against the theta parameter,\n",
    "    y = y * float(theta)\n",
    "\n",
    "    # subtract the max for numerical stability\n",
    "    y = y - np.expand_dims(np.max(y, axis=axis), axis)\n",
    "\n",
    "    # exponentiate y\n",
    "    y = np.exp(y)\n",
    "\n",
    "    # take the sum along the specified axis\n",
    "    ax_sum = np.expand_dims(np.sum(y, axis=axis), axis)\n",
    "\n",
    "    # finally: divide elementwise\n",
    "    p = y / ax_sum\n",
    "\n",
    "    # flatten if X was 1D\n",
    "    if len(X.shape) == 1: p = p.flatten()\n",
    "\n",
    "    return p"
   ]
  },
  {
   "cell_type": "markdown",
   "metadata": {},
   "source": [
    "#### Evaluate Classifier"
   ]
  },
  {
   "cell_type": "code",
   "execution_count": 37,
   "metadata": {},
   "outputs": [],
   "source": [
    "def EvaluateClassifier(X, W1, b1, W2, b2, with_leaky_relu= False):\n",
    "    \"\"\"\n",
    "    Computes the Softmax output of the 2 layer network, based on input data X and trained weight and bias arrays\n",
    "\n",
    "    :param X: Input data\n",
    "    :param W1: Weight array of the first layer\n",
    "    :param b1: Bias vector of the first layer\n",
    "    :param W2: Weight array of the second layer\n",
    "    :param b2: Bias vector of the second layer\n",
    "\n",
    "    :return: Softmax output of the trained network\n",
    "    \"\"\"\n",
    "\n",
    "    s1 = np.dot(W1, X) + b1\n",
    "    if not with_leaky_relu:\n",
    "        h = ReLU(s1)\n",
    "    else:\n",
    "        h = Leaky_ReLU(s1)\n",
    "    s = np.dot(W2, h) + b2\n",
    "    p = softmax(s, axis=0)\n",
    "\n",
    "    return p, h, s1"
   ]
  },
  {
   "cell_type": "markdown",
   "metadata": {},
   "source": [
    "#### Predict classes"
   ]
  },
  {
   "cell_type": "code",
   "execution_count": 38,
   "metadata": {},
   "outputs": [],
   "source": [
    "def predictClasses(p):\n",
    "    \"\"\"\n",
    "    Predicts classes based on the softmax output of the network\n",
    "\n",
    "    :param p: Softmax output of the network\n",
    "    :return: Predicted classes\n",
    "    \"\"\"\n",
    "\n",
    "    return np.argmax(p, axis=0)"
   ]
  },
  {
   "cell_type": "markdown",
   "metadata": {},
   "source": [
    "#### Compute Accuracy"
   ]
  },
  {
   "cell_type": "code",
   "execution_count": 39,
   "metadata": {},
   "outputs": [],
   "source": [
    "def ComputeAccuracy(X, y, W1, b1, W2, b2):\n",
    "    \"\"\"\n",
    "    Computes the accuracy of the feed-forward 2-layer network\n",
    "\n",
    "    :param X: Input data\n",
    "    :param y: Labels of the ground truth\n",
    "    :param W1: Weight matrix of the first layer\n",
    "    :param b1: Bias vector of the first layer\n",
    "    :param W2: Weight matrix of the second layer\n",
    "    :param b2: Bias vector of the second layer\n",
    "\n",
    "    :return: Accuracy metric of the neural network.\n",
    "    \"\"\"\n",
    "    p, _, _ = EvaluateClassifier(X=X, W1=W1, b1=b1, W2=W2, b2=b2)\n",
    "    predictions = predictClasses(p)\n",
    "\n",
    "    accuracy = round(np.sum(np.where(predictions - y == 0, 1, 0)) * 100 / len(y), 2)\n",
    "\n",
    "    return accuracy"
   ]
  },
  {
   "cell_type": "markdown",
   "metadata": {},
   "source": [
    "#### Compute Cost"
   ]
  },
  {
   "cell_type": "code",
   "execution_count": 40,
   "metadata": {},
   "outputs": [],
   "source": [
    "def ComputeCost(X, Y, W1, W2, b1, b2, regularization_term= 0):\n",
    "    \"\"\"\n",
    "    Computes the cross-entropy loss on a batch of data.\n",
    "\n",
    "    :param X: Input data\n",
    "    :param y: Labels of the ground truth\n",
    "    :param W1: Weight matrix of the first layer\n",
    "    :param b1: Bias vector of the first layer\n",
    "    :param W2: Weight matrix of the second layer\n",
    "    :param b2: Bias vector of the second layer\n",
    "    :param regularization_term: Amount of regularization applied.\n",
    "\n",
    "    :return: Cross-entropy loss.\n",
    "    \"\"\"\n",
    "    p, _, _ = EvaluateClassifier(X=X, W1=W1, b1=b1, W2=W2, b2=b2)\n",
    "\n",
    "    cross_entropy_loss = -np.log(np.diag(np.dot(Y.T, p))).sum() / float(X.shape[1])\n",
    "\n",
    "    weight_sum = np.power(W1, 2).sum() + np.power(W2, 2).sum()\n",
    "\n",
    "    return cross_entropy_loss + regularization_term * weight_sum"
   ]
  },
  {
   "cell_type": "markdown",
   "metadata": {},
   "source": [
    "#### Compute Gradients"
   ]
  },
  {
   "cell_type": "code",
   "execution_count": 41,
   "metadata": {},
   "outputs": [],
   "source": [
    "def ComputeGradients(X, Y, W1, b1, W2, b2, p, h, s1, regularization_term= 0):\n",
    "    \"\"\"\n",
    "    Computes gradient descent updates on a batch of data\n",
    "\n",
    "    :param X: Input data\n",
    "    :param Y: One-hot representation of the true labels of input data X\n",
    "    :param W1: Weight matrix of the first layer\n",
    "    :param b1: Bias vector of the first layer\n",
    "    :param W2: Weight matrix of the second layer\n",
    "    :param b2: Bias vector of the second layer\n",
    "    :param p: Softmax probabilities (predictions) of the network over classes.\n",
    "    :param h: ReLU activations of the network.\n",
    "    :param s1: True outout of the first layer of the network.\n",
    "    :param regularization_term: Contribution of the regularization in the weight updates\n",
    "\n",
    "    :return: Weight and bias updates of the first and second layer of our network\n",
    "    \"\"\"\n",
    "\n",
    "    # Back-propagate second layer at first\n",
    "\n",
    "    g = p - Y\n",
    "    grad_b2 = g.sum(axis=1).reshape(b2.shape)\n",
    "    grad_W2 = np.dot(g, h.T)\n",
    "\n",
    "    # Back-propagate the gradient vector g to the first layer\n",
    "    g = np.dot(g.T, W2)\n",
    "    ind = 1 * (s1 > 0)\n",
    "    g = g.T * ind\n",
    "\n",
    "    grad_b1 = np.sum(g, axis=1).reshape(b1.shape)\n",
    "    grad_W1 = np.dot(g, X.T)\n",
    "\n",
    "    grad_W1 /= X.shape[1]\n",
    "    grad_b1 /= X.shape[1]\n",
    "    grad_W2 /= X.shape[1]\n",
    "    grad_b2 /= X.shape[1]\n",
    "\n",
    "    # Add regularizers\n",
    "    grad_W1 = grad_W1 + 2 * regularization_term * W1\n",
    "    grad_W2 = grad_W2 +2 * regularization_term * W2\n",
    "\n",
    "    return grad_W1, grad_b1, grad_W2, grad_b2"
   ]
  },
  {
   "cell_type": "markdown",
   "metadata": {},
   "source": [
    "#### Momentum Update"
   ]
  },
  {
   "cell_type": "code",
   "execution_count": 42,
   "metadata": {},
   "outputs": [],
   "source": [
    "def initialize_momentum(hyperparameter):\n",
    "    \"\"\"\n",
    "    Initializes the corresponding momentum of a hyperparameter matrix or vector\n",
    "\n",
    "    :param hyperparameter: The hyperparameter\n",
    "    :return: The corresponding momentum\n",
    "    \"\"\"\n",
    "\n",
    "    return np.zeros(hyperparameter.shape)"
   ]
  },
  {
   "cell_type": "code",
   "execution_count": 43,
   "metadata": {},
   "outputs": [],
   "source": [
    "def add_momentum(v_t_prev, hyperpatameter, gradient, eta, momentum_term=0.99):\n",
    "    \"\"\"\n",
    "    Add momentum to the update of the hyperparameter at each update step, in order to speed up training\n",
    "\n",
    "    :param v_t_prev: The momentum update of the previous time step\n",
    "    :param hyperpatameter: The corresponding hyperparameters\n",
    "    :param gradient: The value of the gradient update as computed in each time step\n",
    "    :param eta: The learning rate of the training process\n",
    "    :param r (optional): The momentum factor, typically 0.9 or 0.99\n",
    "\n",
    "    :return: The updated hyperparameter based on the momentum update, and the  momentum update itself\n",
    "    \"\"\"\n",
    "\n",
    "    v_t = momentum_term * v_t_prev + eta * gradient\n",
    "\n",
    "    return hyperpatameter - v_t, v_t"
   ]
  },
  {
   "cell_type": "markdown",
   "metadata": {},
   "source": [
    "\n",
    "\n",
    "#### Mini-Batch Gradient Descent"
   ]
  },
  {
   "cell_type": "code",
   "execution_count": 44,
   "metadata": {},
   "outputs": [],
   "source": [
    "def MiniBatchGDwithMomentum(X, Y, X_validation, Y_validation, y_validation, GDparams, W1, b1, W2, b2,\n",
    "                            regularization_term=0, with_annealing = False, with_leaky_relu= False, momentum_term=0.9):\n",
    "    \"\"\"\n",
    "    Performs mini batch-gradient descent computations.\n",
    "\n",
    "    :param X: Input batch of data\n",
    "    :param Y: One-hot representation of the true labels of the data.\n",
    "    :param X_validation: Input batch of validation data.\n",
    "    :param Y_validation: One-hot representation of the true labels of the validation data.\n",
    "    :param GDparams: Gradient descent parameters (number of mini batches to construct, learning rate, epochs)\n",
    "    :param W1: Weight matrix of the first layer of the network.\n",
    "    :param b1: Bias vector of the first layer of the network.\n",
    "    :param W2: Weight matrix of the second layer of the network.\n",
    "    :param b2: Bias vector of the second layer of the network.\n",
    "    :param regularization_term: Amount of regularization applied.\n",
    "    :param with_annealing: Set to true to allow decaying the learning rate by half every 5 epochs.\n",
    "\n",
    "    :return: The weight and bias matrices learnt (trained) from the training process, loss in training and validation set.\n",
    "    \"\"\"\n",
    "    number_of_mini_batches = GDparams[0]\n",
    "    eta = GDparams[1]\n",
    "    epoches = GDparams[2]\n",
    "\n",
    "    cost = []\n",
    "    val_cost = []\n",
    "\n",
    "    v_W1 = initialize_momentum(W1)\n",
    "    v_b1 = initialize_momentum(b1)\n",
    "    v_W2 = initialize_momentum(W2)\n",
    "    v_b2 = initialize_momentum(b2)\n",
    "\n",
    "    # print('Training set loss before start of training process: '+str(ComputeCost(X, Y, W1, W2, b1, b2, regularization_term)))\n",
    "\n",
    "    original_training_cost = ComputeCost(X, Y, W1, W2, b1, b2, regularization_term)\n",
    "\n",
    "    best_W1 = np.copy(W1)\n",
    "    best_b1 = np.copy(b1)\n",
    "    best_W2 = np.copy(W2)\n",
    "    best_b2 = np.copy(b2)\n",
    "\n",
    "    best_validation_set_accuracy = 0\n",
    "\n",
    "    for epoch in tqdm(range(epoches)):\n",
    "        # for epoch in range(epoches):\n",
    "\n",
    "        for batch in range(1, int(X.shape[1] / number_of_mini_batches)):\n",
    "            start = (batch - 1) * number_of_mini_batches + 1\n",
    "            end = batch * number_of_mini_batches + 1\n",
    "\n",
    "            p, h, s1 = EvaluateClassifier(X[:, start:end], W1, b1, W2, b2, with_leaky_relu)\n",
    "\n",
    "            grad_W1, grad_b1, grad_W2, grad_b2 = ComputeGradients(X[:, start:end], Y[:, start:end], W1, b1, W2, b2, p,\n",
    "                                                                  h, s1, regularization_term)\n",
    "\n",
    "            W1, v_W1 = add_momentum(v_W1, W1, grad_W1, eta, momentum_term)\n",
    "            b1, v_b1 = add_momentum(v_b1, b1, grad_b1, eta, momentum_term)\n",
    "            W2, v_W2 = add_momentum(v_W2, W2, grad_W2, eta, momentum_term)\n",
    "            b2, v_b2 = add_momentum(v_b2, b2, grad_b2, eta, momentum_term)\n",
    "\n",
    "        validation_set_accuracy = ComputeAccuracy(X_validation, y_validation, W1, b1, W2, b2)\n",
    "\n",
    "        if validation_set_accuracy > best_validation_set_accuracy:\n",
    "            best_W1 = np.copy(W1)\n",
    "            best_b1 = np.copy(b1)\n",
    "            best_W2 = np.copy(W2)\n",
    "            best_b2 = np.copy(b2)\n",
    "\n",
    "            best_validation_set_accuracy = validation_set_accuracy\n",
    "\n",
    "        epoch_cost = ComputeCost(X, Y, W1, W2, b1, b2)\n",
    "        # print('Training set loss after epoch number '+str(epoch)+' is: '+str(epoch_cost))\n",
    "        if epoch_cost > 3 * original_training_cost:\n",
    "            break\n",
    "        val_epoch_cost = ComputeCost(X_validation, Y_validation, W1, W2, b1, b2)\n",
    "\n",
    "        cost.append(epoch_cost)\n",
    "        val_cost.append(val_epoch_cost)\n",
    "\n",
    "        # Decay the learning rate\n",
    "        if with_annealing:\n",
    "            if epoch > 1 and epoch // 5 == 0:\n",
    "                eta /= 2.0\n",
    "        else:\n",
    "            eta *= 0.95\n",
    "\n",
    "    # return W1, b1, W2, b2, cost, val_cost\n",
    "    return best_W1, best_b1, best_W2, best_b2, cost, val_cost"
   ]
  },
  {
   "cell_type": "markdown",
   "metadata": {},
   "source": [
    "#### Visualizing functions"
   ]
  },
  {
   "cell_type": "code",
   "execution_count": 45,
   "metadata": {},
   "outputs": [],
   "source": [
    "def visualize_costs(loss, val_loss, display= False, title = None, save_name= None, save_path='../figures/'):\n",
    "    \"\"\"\n",
    "    Visualization and saving the losses of the network.\n",
    "\n",
    "    :param loss: Loss of the network.\n",
    "    :param val_loss: Loss of the network in the validation set.\n",
    "    :param display: (Optional) Boolean, set to True for displaying the loss evolution plot.\n",
    "    :param title: (Optional) Title of the plot.\n",
    "    :param save_name: (Optional) name of the file to save the plot.\n",
    "    :param save_path: (Optional) Path of the folder to save the plot in your local computer.\n",
    "\n",
    "    :return: None\n",
    "\n",
    "    \"\"\"\n",
    "\n",
    "    if title is not None:\n",
    "        plt.title(title)\n",
    "\n",
    "    plt.plot(loss, 'g', label='Training set ')\n",
    "    plt.plot(val_loss, 'r', label='Validation set')\n",
    "    plt.legend(loc='upper right')\n",
    "\n",
    "    if save_name is not None:\n",
    "        if save_path[-1] !='/':\n",
    "            save_path+='/'\n",
    "        plt.savefig(save_path + save_name)\n",
    "\n",
    "    if display:\n",
    "        plt.show()\n",
    "\n",
    "    plt.clf()"
   ]
  },
  {
   "cell_type": "code",
   "execution_count": 46,
   "metadata": {},
   "outputs": [],
   "source": [
    "def create_sets():\n",
    "\n",
    "    X_training_1, Y_training_1, y_training_1 = LoadBatch('../../cifar-10-batches-py/data_batch_1')\n",
    "    X_training_2, Y_training_2, y_training_2 = LoadBatch('../../cifar-10-batches-py/data_batch_2')\n",
    "    X_training_3, Y_training_3, y_training_3 = LoadBatch('../../cifar-10-batches-py/data_batch_3')\n",
    "    X_training_4, Y_training_4, y_training_4 = LoadBatch('../../cifar-10-batches-py/data_batch_4')\n",
    "    X_training_5, Y_training_5, y_training_5 = LoadBatch('../../cifar-10-batches-py/data_batch_5')\n",
    "\n",
    "    X_training = np.concatenate((X_training_1, X_training_3), axis=1)\n",
    "    X_training = np.copy(np.concatenate((X_training, X_training_4), axis=1))\n",
    "    X_training = np.copy(np.concatenate((X_training, X_training_5), axis=1))\n",
    "\n",
    "    X_training = np.concatenate((X_training, X_training_2[:, :9000]), axis=1)\n",
    "\n",
    "    Y_training = np.concatenate((Y_training_1, Y_training_3), axis=1)\n",
    "    Y_training = np.copy(np.concatenate((Y_training, Y_training_4), axis=1))\n",
    "    Y_training = np.copy(np.concatenate((Y_training, Y_training_5), axis=1))\n",
    "\n",
    "    Y_training = np.concatenate((Y_training, Y_training_2[:, :9000]), axis=1)\n",
    "\n",
    "    y_training = y_training_1 + y_training_3 + y_training_4 + y_training_5 + y_training_2[:9000]\n",
    "\n",
    "    X_validation = np.copy(X_training_2[:, 9000:])\n",
    "    Y_validation = np.copy(Y_training_2[:, 9000:])\n",
    "    y_validation = y_training_2[9000:]\n",
    "\n",
    "    X_test, _, y_test = LoadBatch('../../cifar-10-batches-py/test_batch')\n",
    "\n",
    "    mean = np.mean(X_training)\n",
    "    X_training -= mean\n",
    "    X_validation -= mean\n",
    "    X_test -= mean\n",
    "\n",
    "    return [X_training, Y_training, y_training], [X_validation, Y_validation, y_validation], [X_test, y_test]\n"
   ]
  },
  {
   "cell_type": "code",
   "execution_count": 47,
   "metadata": {},
   "outputs": [],
   "source": [
    "training, validation, test = create_sets()\n",
    "\n",
    "X_training, Y_training, y_training = training\n",
    "X_validation, Y_validation, y_validation = validation\n",
    "X_test, y_test = test"
   ]
  },
  {
   "cell_type": "markdown",
   "metadata": {},
   "source": [
    "## Bonus point part"
   ]
  },
  {
   "cell_type": "markdown",
   "metadata": {},
   "source": [
    "### Exercise 1: Optimize the performance of the network"
   ]
  },
  {
   "cell_type": "markdown",
   "metadata": {},
   "source": [
    "#### Improvement 1: Keep track of the best model based on validation set performance along with training for more steps"
   ]
  },
  {
   "cell_type": "code",
   "execution_count": 1,
   "metadata": {},
   "outputs": [],
   "source": [
    "def improvement_1(eta, regularization_term):\n",
    "    \"\"\"\n",
    "     Use all the available data from training, train for more update steps and use your validation set to make \n",
    "    sure you don’t overfit or keep a record of the best model before you begin to overfit\n",
    "\n",
    "    :return: Learnt weight matrices, training and validation set loss evolution \n",
    "    \"\"\"\n",
    "\n",
    "    W1, b1, W2, b2 = initialize_weights()\n",
    "\n",
    "    GD_params = [100, eta, 50]\n",
    "\n",
    "    W1, b1, W2, b2, training_set_loss, validation_set_loss = MiniBatchGDwithMomentum(X_training,\n",
    "                                                                                     Y_training,\n",
    "                                                                                     X_validation,\n",
    "                                                                                     Y_validation,\n",
    "                                                                                     y_validation,\n",
    "                                                                                     GD_params,\n",
    "                                                                                     W1, b1, W2, b2,\n",
    "                                                                                     regularization_term)\n",
    "\n",
    "    return W1, b1, W2, b2, training_set_loss, validation_set_loss"
   ]
  },
  {
   "cell_type": "code",
   "execution_count": 125,
   "metadata": {},
   "outputs": [
    {
     "name": "stderr",
     "output_type": "stream",
     "text": [
      "\n",
      "  0%|          | 0/40 [00:00<?, ?it/s]\u001b[A\n",
      "  2%|▎         | 1/40 [01:15<49:02, 75.46s/it]\u001b[A\n",
      "  5%|▌         | 2/40 [02:32<48:11, 76.10s/it]\u001b[A\n",
      "  8%|▊         | 3/40 [03:49<47:16, 76.66s/it]\u001b[A\n",
      " 10%|█         | 4/40 [05:06<46:00, 76.69s/it]\u001b[A\n",
      " 12%|█▎        | 5/40 [06:25<45:00, 77.16s/it]\u001b[A\n",
      " 15%|█▌        | 6/40 [07:45<43:58, 77.61s/it]\u001b[A\n",
      " 18%|█▊        | 7/40 [09:01<42:33, 77.39s/it]\u001b[A\n",
      " 20%|██        | 8/40 [10:16<41:07, 77.10s/it]\u001b[A\n",
      " 22%|██▎       | 9/40 [11:33<39:50, 77.10s/it]\u001b[A\n",
      " 25%|██▌       | 10/40 [12:53<38:41, 77.37s/it]\u001b[A\n",
      " 28%|██▊       | 11/40 [14:11<37:25, 77.43s/it]\u001b[A\n",
      " 30%|███       | 12/40 [15:32<36:15, 77.70s/it]\u001b[A\n",
      " 32%|███▎      | 13/40 [16:51<35:00, 77.80s/it]\u001b[A\n",
      " 35%|███▌      | 14/40 [18:07<33:39, 77.67s/it]\u001b[A\n",
      " 38%|███▊      | 15/40 [19:26<32:24, 77.79s/it]\u001b[A\n",
      " 40%|████      | 16/40 [20:46<31:09, 77.89s/it]\u001b[A\n",
      " 42%|████▎     | 17/40 [22:02<29:49, 77.81s/it]\u001b[A\n",
      " 45%|████▌     | 18/40 [23:20<28:31, 77.79s/it]\u001b[A\n",
      " 48%|████▊     | 19/40 [24:40<27:16, 77.94s/it]\u001b[A\n",
      " 50%|█████     | 20/40 [26:00<26:00, 78.01s/it]\u001b[A\n",
      " 52%|█████▎    | 21/40 [27:18<24:42, 78.03s/it]\u001b[A\n",
      " 55%|█████▌    | 22/40 [28:45<23:31, 78.43s/it]\u001b[A\n",
      " 57%|█████▊    | 23/40 [30:12<22:19, 78.82s/it]\u001b[A\n",
      " 60%|██████    | 24/40 [31:33<21:02, 78.88s/it]\u001b[A\n",
      " 62%|██████▎   | 25/40 [32:54<19:44, 78.97s/it]\u001b[A\n",
      " 65%|██████▌   | 26/40 [34:12<18:25, 78.94s/it]\u001b[A\n",
      " 68%|██████▊   | 27/40 [35:32<17:06, 78.99s/it]\u001b[A\n",
      " 70%|███████   | 28/40 [36:54<15:48, 79.08s/it]\u001b[A\n",
      " 72%|███████▎  | 29/40 [38:14<14:30, 79.12s/it]\u001b[A\n",
      " 75%|███████▌  | 30/40 [39:32<13:10, 79.08s/it]\u001b[A\n",
      " 78%|███████▊  | 31/40 [40:52<11:52, 79.11s/it]\u001b[A\n",
      " 80%|████████  | 32/40 [42:15<10:33, 79.22s/it]\u001b[A\n",
      " 82%|████████▎ | 33/40 [43:36<09:15, 79.29s/it]\u001b[A\n",
      " 85%|████████▌ | 34/40 [44:53<07:55, 79.21s/it]\u001b[A\n",
      " 88%|████████▊ | 35/40 [46:10<06:35, 79.17s/it]\u001b[A\n",
      " 90%|█████████ | 36/40 [47:31<05:16, 79.21s/it]\u001b[A\n",
      " 92%|█████████▎| 37/40 [48:50<03:57, 79.20s/it]\u001b[A\n",
      " 95%|█████████▌| 38/40 [50:08<02:38, 79.17s/it]\u001b[A\n",
      " 98%|█████████▊| 39/40 [51:30<01:19, 79.24s/it]\u001b[A\n",
      "100%|██████████| 40/40 [52:48<00:00, 79.21s/it]\u001b[A\n",
      "\u001b[A"
     ]
    }
   ],
   "source": [
    "W1_improvement_1, b1_improvement_1, W2_improvement_1, b2_improvement_1, training_set_loss_improvement_1, validation_set_loss_improvement_1 = improvement_1(eta=0.02878809988519304, regularization_term=0.001)"
   ]
  },
  {
   "cell_type": "code",
   "execution_count": 126,
   "metadata": {},
   "outputs": [
    {
     "data": {
      "image/png": "[encoded data removed]",
      "text/plain": [
       "<Figure size 432x288 with 1 Axes>"
      ]
     },
     "metadata": {},
     "output_type": "display_data"
    },
    {
     "data": {
      "text/plain": [
       "<Figure size 432x288 with 0 Axes>"
      ]
     },
     "metadata": {},
     "output_type": "display_data"
    }
   ],
   "source": [
    "visualize_costs(training_set_loss_improvement_1, validation_set_loss_improvement_1, display=True,\n",
    "                title='Cross Entropy Loss Evolution, improvement 1', save_name='improvement_1')"
   ]
  },
  {
   "cell_type": "code",
   "execution_count": 29,
   "metadata": {
    "collapsed": true
   },
   "outputs": [
    {
     "ename": "NameError",
     "evalue": "name 'W1_improvement_1' is not defined",
     "output_type": "error",
     "traceback": [
      "\u001b[0;31m---------------------------------------------------------------------------\u001b[0m",
      "\u001b[0;31mNameError\u001b[0m                                 Traceback (most recent call last)",
      "\u001b[0;32m<ipython-input-29-02fcce49b5c4>\u001b[0m in \u001b[0;36m<module>\u001b[0;34m()\u001b[0m\n\u001b[0;32m----> 1\u001b[0;31m \u001b[0maccuracy_improvement_1\u001b[0m \u001b[0;34m=\u001b[0m \u001b[0mComputeAccuracy\u001b[0m\u001b[0;34m(\u001b[0m\u001b[0mX_test\u001b[0m\u001b[0;34m,\u001b[0m \u001b[0my_test\u001b[0m\u001b[0;34m,\u001b[0m \u001b[0mW1_improvement_1\u001b[0m\u001b[0;34m,\u001b[0m \u001b[0mb1_improvement_1\u001b[0m\u001b[0;34m,\u001b[0m \u001b[0mW2_improvement_1\u001b[0m\u001b[0;34m,\u001b[0m \u001b[0mb2_improvement_1\u001b[0m\u001b[0;34m)\u001b[0m\u001b[0;34m\u001b[0m\u001b[0m\n\u001b[0m",
      "\u001b[0;31mNameError\u001b[0m: name 'W1_improvement_1' is not defined"
     ]
    }
   ],
   "source": [
    "accuracy_improvement_1 = ComputeAccuracy(X_test, y_test, W1_improvement_1, b1_improvement_1, W2_improvement_1, b2_improvement_1)"
   ]
  },
  {
   "cell_type": "markdown",
   "metadata": {},
   "source": [
    "The accuracy of the first improvement for $\\eta=0.02878809988519304$ and $\\lambda=0.001$ is $51.53\\%$"
   ]
  },
  {
   "cell_type": "code",
   "execution_count": 128,
   "metadata": {},
   "outputs": [
    {
     "data": {
      "text/plain": [
       "51.53"
      ]
     },
     "execution_count": 128,
     "metadata": {},
     "output_type": "execute_result"
    }
   ],
   "source": [
    "accuracy_improvement_1"
   ]
  },
  {
   "cell_type": "markdown",
   "metadata": {},
   "source": [
    "We will also try the first setting with this improvement so that we can define a pair for $(\\eta, \\lambda)$ that has the best test set accuracy performance and use it for other improvements"
   ]
  },
  {
   "cell_type": "code",
   "execution_count": 27,
   "metadata": {},
   "outputs": [
    {
     "name": "stderr",
     "output_type": "stream",
     "text": [
      "100%|██████████| 50/50 [1:04:20<00:00, 77.21s/it]\n"
     ]
    }
   ],
   "source": [
    "W1_improvement_1_2, b1_improvement_1_2, W2_improvement_1_2, b2_improvement_1_2, training_set_loss_improvement_1_2, validation_set_loss_improvement_1_2 = improvement_1(eta=0.018920249916784752, regularization_term=0.0001)"
   ]
  },
  {
   "cell_type": "code",
   "execution_count": 33,
   "metadata": {},
   "outputs": [
    {
     "data": {
      "image/png": "[encoded data removed]",
      "text/plain": [
       "<Figure size 432x288 with 1 Axes>"
      ]
     },
     "metadata": {},
     "output_type": "display_data"
    },
    {
     "data": {
      "text/plain": [
       "<Figure size 432x288 with 0 Axes>"
      ]
     },
     "metadata": {},
     "output_type": "display_data"
    }
   ],
   "source": [
    "visualize_costs(training_set_loss_improvement_1_2, validation_set_loss_improvement_1_2, display=True, save_name='Improvement_1_2')"
   ]
  },
  {
   "cell_type": "code",
   "execution_count": null,
   "metadata": {},
   "outputs": [],
   "source": [
    "accuracy_improvement_1_2 = ComputeAccuracy(X_test, y_test, W1_improvement_1_2, b1_improvement_1_2, W2_improvement_1_2, b2_improvement_1_2)"
   ]
  },
  {
   "cell_type": "markdown",
   "metadata": {},
   "source": [
    "The accuracy of this setting for the first improvement is $51.94\\%$"
   ]
  },
  {
   "cell_type": "code",
   "execution_count": 31,
   "metadata": {},
   "outputs": [
    {
     "data": {
      "text/plain": [
       "51.94"
      ]
     },
     "execution_count": 31,
     "metadata": {},
     "output_type": "execute_result"
    }
   ],
   "source": [
    "accuracy_improvement_1_2"
   ]
  },
  {
   "cell_type": "markdown",
   "metadata": {},
   "source": [
    "Try no.3: Same settings, smaller amount of regularization"
   ]
  },
  {
   "cell_type": "code",
   "execution_count": 53,
   "metadata": {},
   "outputs": [
    {
     "name": "stderr",
     "output_type": "stream",
     "text": [
      "100%|██████████| 50/50 [1:02:45<00:00, 75.30s/it]\n"
     ]
    }
   ],
   "source": [
    "W1_improvement_1_3, b1_improvement_1_3, W2_improvement_1_3, b2_improvement_1_3, training_set_loss_improvement_1_3, validation_set_loss_improvement_1_3 = improvement_1(eta=0.018920249916784752, regularization_term=0.0001)"
   ]
  },
  {
   "cell_type": "code",
   "execution_count": 58,
   "metadata": {},
   "outputs": [
    {
     "data": {
      "image/png": "[encoded data removed]",
      "text/plain": [
       "<Figure size 432x288 with 1 Axes>"
      ]
     },
     "metadata": {},
     "output_type": "display_data"
    },
    {
     "data": {
      "text/plain": [
       "<Figure size 432x288 with 0 Axes>"
      ]
     },
     "metadata": {},
     "output_type": "display_data"
    }
   ],
   "source": [
    "visualize_costs(training_set_loss_improvement_1_3, validation_set_loss_improvement_1_3, display=True, save_name='Improvement_1_3')"
   ]
  },
  {
   "cell_type": "code",
   "execution_count": 59,
   "metadata": {},
   "outputs": [],
   "source": [
    "accuracy_improvement_1_3 = ComputeAccuracy(X_test, y_test, W1_improvement_1_3, b1_improvement_1_3, W2_improvement_1_3, b2_improvement_1_3)"
   ]
  },
  {
   "cell_type": "markdown",
   "metadata": {},
   "source": [
    "The accuracy performance of this setting is 49.94%"
   ]
  },
  {
   "cell_type": "code",
   "execution_count": 60,
   "metadata": {},
   "outputs": [
    {
     "data": {
      "text/plain": [
       "49.94"
      ]
     },
     "execution_count": 60,
     "metadata": {},
     "output_type": "execute_result"
    }
   ],
   "source": [
    "accuracy_improvement_1_3"
   ]
  },
  {
   "cell_type": "markdown",
   "metadata": {},
   "source": [
    "#### Improvement 2: Switch to He initialization and see the effect it has on training. "
   ]
  },
  {
   "cell_type": "code",
   "execution_count": 44,
   "metadata": {},
   "outputs": [],
   "source": [
    "def improvement_2(eta=0.018920249916784752, regularization_term=0.001):\n",
    "    \"\"\"\n",
    "    Switch to He-initialization\n",
    "    \"\"\"\n",
    "    W1_he, b1_he, W2_he, b2_he = he_initialization()\n",
    "\n",
    "    GD_params = [100, eta, 40]\n",
    "\n",
    "    W1_he, b1_he, W2_he, b2_he, training_set_loss_he, validation_set_loss_he = MiniBatchGDwithMomentum(X_training,\n",
    "                                                                                     Y_training,\n",
    "                                                                                     X_validation,\n",
    "                                                                                     Y_validation,\n",
    "                                                                                     y_validation,\n",
    "                                                                                     GD_params,\n",
    "                                                                                     W1_he, b1_he, W2_he, b2_he,\n",
    "                                                                                     regularization_term)\n",
    "\n",
    "    return W1_he, b1_he, W2_he, b2_he, training_set_loss_he, validation_set_loss_he"
   ]
  },
  {
   "cell_type": "code",
   "execution_count": 45,
   "metadata": {},
   "outputs": [
    {
     "name": "stderr",
     "output_type": "stream",
     "text": [
      "100%|██████████| 40/40 [51:06<00:00, 76.67s/it]\n"
     ]
    }
   ],
   "source": [
    "W1_improvement_2, b1_improvement_2, W2_improvement_2, b2_improvement_2, \\\n",
    "training_set_loss_improvement_2, validation_set_loss_improvement_2 = improvement_2()"
   ]
  },
  {
   "cell_type": "code",
   "execution_count": 48,
   "metadata": {},
   "outputs": [
    {
     "data": {
      "image/png": "[encoded data removed]",
      "text/plain": [
       "<Figure size 432x288 with 1 Axes>"
      ]
     },
     "metadata": {},
     "output_type": "display_data"
    },
    {
     "data": {
      "text/plain": [
       "<Figure size 432x288 with 0 Axes>"
      ]
     },
     "metadata": {},
     "output_type": "display_data"
    }
   ],
   "source": [
    "visualize_costs(training_set_loss_improvement_2, validation_set_loss_improvement_2, display=True, save_name='Improvement_1_2')"
   ]
  },
  {
   "cell_type": "code",
   "execution_count": 49,
   "metadata": {},
   "outputs": [],
   "source": [
    "accuracy_improvement_2 = ComputeAccuracy(X_test, y_test, W1_improvement_2, b1_improvement_2, W2_improvement_2, b2_improvement_2)"
   ]
  },
  {
   "cell_type": "markdown",
   "metadata": {},
   "source": [
    "The accuracy of this setting is 51.44%"
   ]
  },
  {
   "cell_type": "code",
   "execution_count": 50,
   "metadata": {},
   "outputs": [
    {
     "data": {
      "text/plain": [
       "51.44"
      ]
     },
     "execution_count": 50,
     "metadata": {},
     "output_type": "execute_result"
    }
   ],
   "source": [
    "accuracy_improvement_2"
   ]
  },
  {
   "cell_type": "markdown",
   "metadata": {},
   "source": [
    "#### Improvement 3: You could also explore whether having more hidden nodes improves the final classification rate. One would expect that with more hidden nodes then the amount of regularization would have to increase."
   ]
  },
  {
   "cell_type": "code",
   "execution_count": 63,
   "metadata": {},
   "outputs": [],
   "source": [
    "def improvement_3(eta=0.018920249916784752, regularization_term=0.001):\n",
    "    \"\"\"\n",
    "     You could also explore whether having more hidden nodes improves the final classification rate. \n",
    "    One would expect that with more hidden nodes then the amount of regularization would have to increase.\n",
    "    \"\"\"\n",
    "\n",
    "    W1_100, b1_100, W2_100, b2_100 = initialize_weights(m=100)\n",
    "\n",
    "    GD_params = [100, eta, 30]\n",
    "\n",
    "    W1_100, b1_100, W2_100, b2_100, training_set_loss_100, validation_set_loss_100 = MiniBatchGDwithMomentum(X_training,\n",
    "                                                                                     Y_training,\n",
    "                                                                                     X_validation,\n",
    "                                                                                     Y_validation,\n",
    "                                                                                     y_validation,\n",
    "                                                                                     GD_params,\n",
    "                                                                                     W1_100, b1_100, W2_100, b2_100,\n",
    "                                                                                     regularization_term)\n",
    "\n",
    "    return W1_100, b1_100, W2_100, b2_100, training_set_loss_100, validation_set_loss_100"
   ]
  },
  {
   "cell_type": "code",
   "execution_count": 64,
   "metadata": {},
   "outputs": [
    {
     "name": "stderr",
     "output_type": "stream",
     "text": [
      "100%|██████████| 30/30 [37:43<00:00, 75.45s/it]\n"
     ]
    }
   ],
   "source": [
    "W1_improvement_3, b1_improvement_3, W3_improvement_3, b3_improvement_3, \\\n",
    "training_set_loss_improvement_3, validation_set_loss_improvement_3 = improvement_3()"
   ]
  },
  {
   "cell_type": "code",
   "execution_count": 65,
   "metadata": {},
   "outputs": [
    {
     "data": {
      "image/png": "[encoded data removed]",
      "text/plain": [
       "<Figure size 432x288 with 1 Axes>"
      ]
     },
     "metadata": {},
     "output_type": "display_data"
    },
    {
     "data": {
      "text/plain": [
       "<Figure size 432x288 with 0 Axes>"
      ]
     },
     "metadata": {},
     "output_type": "display_data"
    }
   ],
   "source": [
    "visualize_costs(training_set_loss_improvement_3, validation_set_loss_improvement_3, display=True,\n",
    "                title='Cross Entropy Loss Evolution, improvement 3', save_name='improvement_3')"
   ]
  },
  {
   "cell_type": "code",
   "execution_count": 66,
   "metadata": {},
   "outputs": [],
   "source": [
    "accuracy_improvement_3 = ComputeAccuracy(X_test, y_test, W1_improvement_3, b1_improvement_3, W3_improvement_3, b3_improvement_3)"
   ]
  },
  {
   "cell_type": "markdown",
   "metadata": {},
   "source": [
    "The accuracy achieved is 53.48%"
   ]
  },
  {
   "cell_type": "code",
   "execution_count": 67,
   "metadata": {},
   "outputs": [
    {
     "data": {
      "text/plain": [
       "53.48"
      ]
     },
     "execution_count": 67,
     "metadata": {},
     "output_type": "execute_result"
    }
   ],
   "source": [
    "accuracy_improvement_3"
   ]
  },
  {
   "cell_type": "markdown",
   "metadata": {},
   "source": [
    "#### Improvement 4: Play around with different approaches to anneal the learning rate. For example you can keep the learning rate fixed over several epochs then decay it by a factor of 10 after n epochs."
   ]
  },
  {
   "cell_type": "code",
   "execution_count": 68,
   "metadata": {},
   "outputs": [],
   "source": [
    "    def improvement_4(eta=0.018920249916784752, regularization_term=0.001):\n",
    "        \"\"\"\n",
    "        ﻿Play around with different approaches to anneal the learning rate.\n",
    "        For example you can keep the learning rate fixed over several epochs then decay it by a factor of 10 after n epochs.\n",
    "        \"\"\"\n",
    "        \n",
    "        W1_annealing, b1_annealing, W2_annealing, b2_annealing = initialize_weights()\n",
    "        \n",
    "        GD_params = [100, eta, 30]\n",
    "\n",
    "        W1_annealing, b1_annealing, W2_annealing, b2_annealing, training_set_loss_annealing, validation_set_loss_annealing = \\\n",
    "            MiniBatchGDwithMomentum( X_training,\n",
    "                                     Y_training,\n",
    "                                     X_validation,\n",
    "                                     Y_validation,\n",
    "                                     y_validation,\n",
    "                                     GD_params,\n",
    "                                     W1_annealing, b1_annealing, W2_annealing, b2_annealing,\n",
    "                                     regularization_term,\n",
    "                                     with_annealing=True)\n",
    "\n",
    "        return W1_annealing, b1_annealing, W2_annealing, b2_annealing, training_set_loss_annealing, validation_set_loss_annealing"
   ]
  },
  {
   "cell_type": "code",
   "execution_count": 69,
   "metadata": {},
   "outputs": [
    {
     "name": "stderr",
     "output_type": "stream",
     "text": [
      "100%|██████████| 30/30 [36:44<00:00, 73.49s/it]\n"
     ]
    }
   ],
   "source": [
    "W1_improvement_4, b1_improvement_4, W4_improvement_4, b4_improvement_4, \\\n",
    "training_set_loss_improvement_4, validation_set_loss_improvement_4 = improvement_4()"
   ]
  },
  {
   "cell_type": "code",
   "execution_count": 70,
   "metadata": {},
   "outputs": [
    {
     "data": {
      "image/png": "[encoded data removed]",
      "text/plain": [
       "<Figure size 432x288 with 1 Axes>"
      ]
     },
     "metadata": {},
     "output_type": "display_data"
    },
    {
     "data": {
      "text/plain": [
       "<Figure size 432x288 with 0 Axes>"
      ]
     },
     "metadata": {},
     "output_type": "display_data"
    }
   ],
   "source": [
    "visualize_costs(training_set_loss_improvement_4, validation_set_loss_improvement_4, display=True,\n",
    "                title='Cross Entropy Loss Evolution, improvement 4', save_name='improvement_4')"
   ]
  },
  {
   "cell_type": "code",
   "execution_count": 71,
   "metadata": {},
   "outputs": [],
   "source": [
    "accuracy_improvement_4 = ComputeAccuracy(X_test, y_test, W1_improvement_4, b1_improvement_4, W4_improvement_4, b4_improvement_4)"
   ]
  },
  {
   "cell_type": "markdown",
   "metadata": {},
   "source": [
    "Test set accuracy performance achieved: %"
   ]
  },
  {
   "cell_type": "code",
   "execution_count": 72,
   "metadata": {},
   "outputs": [
    {
     "data": {
      "text/plain": [
       "51.34"
      ]
     },
     "execution_count": 72,
     "metadata": {},
     "output_type": "execute_result"
    }
   ],
   "source": [
    "accuracy_improvement_4"
   ]
  },
  {
   "cell_type": "markdown",
   "metadata": {},
   "source": [
    "### Exercise 2: Train network using a different activation to ReLu "
   ]
  },
  {
   "cell_type": "markdown",
   "metadata": {},
   "source": [
    "We make use of the leaky ReLu function in order to observe any possible differences in the training process"
   ]
  },
  {
   "cell_type": "markdown",
   "metadata": {},
   "source": [
    "First try:"
   ]
  },
  {
   "cell_type": "code",
   "execution_count": 73,
   "metadata": {},
   "outputs": [],
   "source": [
    "    def try_1(eta=0.018920249916784752, regularization_term=0.001):\n",
    "        \n",
    "        W1_leaky_1, b1_leaky_1, W2_leaky_1, b2_leaky_1 = initialize_weights()\n",
    "\n",
    "        GD_params = [100, eta, 30]\n",
    "\n",
    "        W1_leaky_1, b1_leaky_1, W2_leaky_1, b2_leaky_1, training_set_loss_leaky_1, validation_set_loss_leaky_1 = \\\n",
    "            MiniBatchGDwithMomentum(X_training,\n",
    "                                    Y_training,\n",
    "                                    X_validation,\n",
    "                                    Y_validation,\n",
    "                                    y_validation,\n",
    "                                    GD_params,\n",
    "                                    W1_leaky_1, b1_leaky_1, W2_leaky_1, b2_leaky_1,\n",
    "                                    regularization_term,\n",
    "                                    with_leaky_relu=True)\n",
    "\n",
    "        return W1_leaky_1, b1_leaky_1, W2_leaky_1, b2_leaky_1, training_set_loss_leaky_1, validation_set_loss_leaky_1"
   ]
  },
  {
   "cell_type": "code",
   "execution_count": 74,
   "metadata": {},
   "outputs": [
    {
     "name": "stderr",
     "output_type": "stream",
     "text": [
      "100%|██████████| 30/30 [37:30<00:00, 75.03s/it]\n"
     ]
    }
   ],
   "source": [
    "W1_try_1, b1_try_1, W2_try_1, b2_try_1, \\\n",
    "training_set_loss_try_1, validation_set_loss_try_1 = try_1()"
   ]
  },
  {
   "cell_type": "code",
   "execution_count": 75,
   "metadata": {},
   "outputs": [
    {
     "data": {
      "image/png": "[encoded data removed]",
      "text/plain": [
       "<Figure size 432x288 with 1 Axes>"
      ]
     },
     "metadata": {},
     "output_type": "display_data"
    },
    {
     "data": {
      "text/plain": [
       "<Figure size 432x288 with 0 Axes>"
      ]
     },
     "metadata": {},
     "output_type": "display_data"
    }
   ],
   "source": [
    "visualize_costs(training_set_loss_try_1, validation_set_loss_try_1, display=True,\n",
    "                title='Cross Entropy Loss Evolution, Leaky ReLU, try 1', save_name='try_1')"
   ]
  },
  {
   "cell_type": "code",
   "execution_count": 76,
   "metadata": {},
   "outputs": [],
   "source": [
    "accuracy_try_1 = ComputeAccuracy(X_test, y_test, W1_try_1, b1_try_1, W2_try_1, b2_try_1)"
   ]
  },
  {
   "cell_type": "code",
   "execution_count": 77,
   "metadata": {},
   "outputs": [
    {
     "data": {
      "text/plain": [
       "51.47"
      ]
     },
     "execution_count": 77,
     "metadata": {},
     "output_type": "execute_result"
    }
   ],
   "source": [
    "accuracy_try_1"
   ]
  },
  {
   "cell_type": "markdown",
   "metadata": {},
   "source": [
    "Second try:"
   ]
  },
  {
   "cell_type": "code",
   "execution_count": 78,
   "metadata": {},
   "outputs": [],
   "source": [
    "def try_2(eta=0.018920249916784752, regularization_term=0.0001):\n",
    "    W1_leaky_2, b1_leaky_2, W2_leaky_2, b2_leaky_2 = initialize_weights()\n",
    "\n",
    "    GD_params = [100, eta, 30]\n",
    "\n",
    "    W1_leaky_2, b1_leaky_2, W2_leaky_2, b2_leaky_2, training_set_loss_leaky_2, validation_set_loss_leaky_2 = \\\n",
    "        MiniBatchGDwithMomentum(X_training,\n",
    "                                Y_training,\n",
    "                                X_validation,\n",
    "                                Y_validation,\n",
    "                                y_validation,\n",
    "                                GD_params,\n",
    "                                W1_leaky_2, b1_leaky_2, W2_leaky_2, b2_leaky_2,\n",
    "                                regularization_term,\n",
    "                                with_leaky_relu=True)\n",
    "\n",
    "    return W1_leaky_2, b1_leaky_2, W2_leaky_2, b2_leaky_2, training_set_loss_leaky_2, validation_set_loss_leaky_2"
   ]
  },
  {
   "cell_type": "code",
   "execution_count": 79,
   "metadata": {},
   "outputs": [
    {
     "name": "stderr",
     "output_type": "stream",
     "text": [
      "100%|██████████| 30/30 [40:53<00:00, 81.80s/it]\n"
     ]
    }
   ],
   "source": [
    "W1_try_2, b1_try_2, W2_try_2, b2_try_2, training_set_loss_try_2, validation_set_loss_try_2 = try_2()"
   ]
  },
  {
   "cell_type": "code",
   "execution_count": 80,
   "metadata": {},
   "outputs": [
    {
     "data": {
      "image/png": "[encoded data removed]",
      "text/plain": [
       "<Figure size 432x288 with 1 Axes>"
      ]
     },
     "metadata": {},
     "output_type": "display_data"
    },
    {
     "data": {
      "text/plain": [
       "<Figure size 432x288 with 0 Axes>"
      ]
     },
     "metadata": {},
     "output_type": "display_data"
    }
   ],
   "source": [
    "visualize_costs(training_set_loss_try_2, validation_set_loss_try_2, display=True,\n",
    "                title='Cross Entropy Loss Evolution, Leaky ReLU, try 2', save_name='try_2')"
   ]
  },
  {
   "cell_type": "code",
   "execution_count": 81,
   "metadata": {},
   "outputs": [],
   "source": [
    "accuracy_try_2 = ComputeAccuracy(X_test, y_test, W1_try_2, b1_try_2, W2_try_2, b2_try_2)"
   ]
  },
  {
   "cell_type": "markdown",
   "metadata": {},
   "source": [
    "The accuracy achieved is 50.28%"
   ]
  },
  {
   "cell_type": "code",
   "execution_count": 82,
   "metadata": {},
   "outputs": [
    {
     "data": {
      "text/plain": [
       "50.28"
      ]
     },
     "execution_count": 82,
     "metadata": {},
     "output_type": "execute_result"
    }
   ],
   "source": [
    "accuracy_try_2"
   ]
  },
  {
   "cell_type": "markdown",
   "metadata": {},
   "source": [
    "Third try:"
   ]
  },
  {
   "cell_type": "code",
   "execution_count": 20,
   "metadata": {},
   "outputs": [
    {
     "name": "stderr",
     "output_type": "stream",
     "text": [
      "100%|██████████| 30/30 [46:37<00:00, 93.23s/it]\n"
     ]
    },
    {
     "data": {
      "image/png": "[encoded data removed]",
      "text/plain": [
       "<Figure size 432x288 with 1 Axes>"
      ]
     },
     "metadata": {},
     "output_type": "display_data"
    },
    {
     "data": {
      "text/plain": [
       "<Figure size 432x288 with 0 Axes>"
      ]
     },
     "metadata": {},
     "output_type": "display_data"
    }
   ],
   "source": [
    "def try_3(eta=0.02878809988519304, regularization_term=0.001):\n",
    "    W1_leaky_3, b1_leaky_3, W2_leaky_3, b2_leaky_3 = initialize_weights()\n",
    "\n",
    "    GD_params = [100, eta, 30]\n",
    "\n",
    "    W1_leaky_3, b1_leaky_3, W2_leaky_3, b2_leaky_3, training_set_loss_leaky_3, validation_set_loss_leaky_3 = \\\n",
    "        MiniBatchGDwithMomentum(X_training,\n",
    "                                Y_training,\n",
    "                                X_validation,\n",
    "                                Y_validation,\n",
    "                                y_validation,\n",
    "                                GD_params,\n",
    "                                W1_leaky_3, b1_leaky_3, W2_leaky_3, b2_leaky_3,\n",
    "                                regularization_term,\n",
    "                                with_leaky_relu=True)\n",
    "\n",
    "    return W1_leaky_3, b1_leaky_3, W2_leaky_3, b2_leaky_3, training_set_loss_leaky_3, validation_set_loss_leaky_3\n",
    "\n",
    "\"\"\"\n",
    "Uncomment for third try\n",
    "\"\"\"\n",
    "W1_try_3, b1_try_3, W2_try_3, b2_try_3, training_set_loss_try_3, validation_set_loss_try_3 = try_3()\n",
    "\n",
    "visualize_costs(training_set_loss_try_3, validation_set_loss_try_3, display=True,\n",
    "                title='Cross Entropy Loss Evolution, Leaky ReLU, try 3', save_name='try_3')"
   ]
  },
  {
   "cell_type": "code",
   "execution_count": 21,
   "metadata": {},
   "outputs": [],
   "source": [
    "accuracy_try_3 = ComputeAccuracy(X_test, y_test, W1_try_3, b1_try_3, W2_try_3, b2_try_3)"
   ]
  },
  {
   "cell_type": "markdown",
   "metadata": {},
   "source": [
    "The accuracy achieved on the test set is 51.86%"
   ]
  },
  {
   "cell_type": "code",
   "execution_count": 22,
   "metadata": {},
   "outputs": [
    {
     "data": {
      "text/plain": [
       "51.86"
      ]
     },
     "execution_count": 22,
     "metadata": {},
     "output_type": "execute_result"
    }
   ],
   "source": [
    "accuracy_try_3"
   ]
  },
  {
   "cell_type": "markdown",
   "metadata": {},
   "source": [
    "Fourth try: Combining Leaky Relu with annealing the learning rate:"
   ]
  },
  {
   "cell_type": "code",
   "execution_count": 23,
   "metadata": {},
   "outputs": [
    {
     "name": "stderr",
     "output_type": "stream",
     "text": [
      "100%|██████████| 30/30 [50:33<00:00, 101.12s/it]\n"
     ]
    },
    {
     "data": {
      "image/png": "[encoded data removed]",
      "text/plain": [
       "<Figure size 432x288 with 1 Axes>"
      ]
     },
     "metadata": {},
     "output_type": "display_data"
    },
    {
     "data": {
      "text/plain": [
       "<Figure size 432x288 with 0 Axes>"
      ]
     },
     "metadata": {},
     "output_type": "display_data"
    }
   ],
   "source": [
    "def try_4(eta=0.018920249916784752, regularization_term=0.001):\n",
    "    W1_leaky_4, b1_leaky_4, W2_leaky_4, b2_leaky_4 = initialize_weights()\n",
    "\n",
    "    GD_params = [100, eta, 30]\n",
    "\n",
    "    W1_leaky_4, b1_leaky_4, W2_leaky_4, b2_leaky_4, training_set_loss_leaky_4, validation_set_loss_leaky_4 = \\\n",
    "        MiniBatchGDwithMomentum(X_training,\n",
    "                                Y_training,\n",
    "                                X_validation,\n",
    "                                Y_validation,\n",
    "                                y_validation,\n",
    "                                GD_params,\n",
    "                                W1_leaky_4, b1_leaky_4, W2_leaky_4, b2_leaky_4,\n",
    "                                regularization_term,\n",
    "                                with_annealing=True,\n",
    "                                with_leaky_relu=True)\n",
    "\n",
    "    return W1_leaky_4, b1_leaky_4, W2_leaky_4, b2_leaky_4, training_set_loss_leaky_4, validation_set_loss_leaky_4\n",
    "\n",
    "\"\"\"\n",
    "Uncomment for fourth try\n",
    "\"\"\"\n",
    "W1_try_4, b1_try_4, W2_try_4, b2_try_4, \\\n",
    "training_set_loss_try_4, validation_set_loss_try_4 = try_4()\n",
    "\n",
    "visualize_costs(training_set_loss_try_4, validation_set_loss_try_4, display=True,\n",
    "                title='Cross Entropy Loss Evolution, Leaky ReLU, Learning rate annealing', save_name='try_4')"
   ]
  },
  {
   "cell_type": "code",
   "execution_count": 24,
   "metadata": {},
   "outputs": [],
   "source": [
    "accuracy_try_4 = ComputeAccuracy(X_test, y_test, W1_try_4, b1_try_4, W2_try_4, b2_try_4)"
   ]
  },
  {
   "cell_type": "markdown",
   "metadata": {},
   "source": [
    "The accuracy achieved on the test set is 51.24%"
   ]
  },
  {
   "cell_type": "code",
   "execution_count": 25,
   "metadata": {},
   "outputs": [
    {
     "data": {
      "text/plain": [
       "51.24"
      ]
     },
     "execution_count": 25,
     "metadata": {},
     "output_type": "execute_result"
    }
   ],
   "source": [
    "accuracy_try_4"
   ]
  },
  {
   "cell_type": "markdown",
   "metadata": {},
   "source": [
    "Fifth try: Leaky ReLU and He initialization:"
   ]
  },
  {
   "cell_type": "code",
   "execution_count": 48,
   "metadata": {},
   "outputs": [
    {
     "name": "stderr",
     "output_type": "stream",
     "text": [
      "\n",
      "  0%|          | 0/30 [00:00<?, ?it/s]\u001b[A\n",
      "  3%|▎         | 1/30 [01:54<55:09, 114.12s/it]\u001b[A\n",
      "  7%|▋         | 2/30 [03:46<52:48, 113.16s/it]\u001b[A\n",
      " 10%|█         | 3/30 [05:34<50:14, 111.66s/it]\u001b[A\n",
      " 13%|█▎        | 4/30 [07:29<48:42, 112.39s/it]\u001b[A\n",
      " 17%|█▋        | 5/30 [09:19<46:37, 111.90s/it]\u001b[A\n",
      " 20%|██        | 6/30 [11:08<44:32, 111.37s/it]\u001b[A\n",
      " 23%|██▎       | 7/30 [13:08<43:11, 112.65s/it]\u001b[A\n",
      " 27%|██▋       | 8/30 [15:04<41:27, 113.09s/it]\u001b[A\n",
      " 30%|███       | 9/30 [17:06<39:54, 114.01s/it]\u001b[A\n",
      " 33%|███▎      | 10/30 [19:01<38:03, 114.18s/it]\u001b[A\n",
      " 37%|███▋      | 11/30 [20:51<36:00, 113.73s/it]\u001b[A\n",
      " 40%|████      | 12/30 [22:45<34:08, 113.82s/it]\u001b[A\n",
      " 43%|████▎     | 13/30 [24:33<32:07, 113.36s/it]\u001b[A\n",
      " 47%|████▋     | 14/30 [26:14<29:59, 112.47s/it]\u001b[A\n",
      " 50%|█████     | 15/30 [28:31<28:31, 114.13s/it]\u001b[A\n",
      " 53%|█████▎    | 16/30 [30:33<26:43, 114.56s/it]\u001b[A\n",
      " 57%|█████▋    | 17/30 [32:20<24:44, 114.17s/it]\u001b[A\n",
      " 60%|██████    | 18/30 [34:20<22:53, 114.49s/it]\u001b[A\n",
      " 63%|██████▎   | 19/30 [36:20<21:02, 114.79s/it]\u001b[A\n",
      " 67%|██████▋   | 20/30 [38:07<19:03, 114.38s/it]\u001b[A\n",
      " 70%|███████   | 21/30 [40:11<17:13, 114.86s/it]\u001b[A\n",
      " 73%|███████▎  | 22/30 [42:08<15:19, 114.91s/it]\u001b[A\n",
      " 77%|███████▋  | 23/30 [44:12<13:27, 115.33s/it]\u001b[A\n",
      " 80%|████████  | 24/30 [46:10<11:32, 115.43s/it]\u001b[A\n",
      " 83%|████████▎ | 25/30 [48:01<09:36, 115.28s/it]\u001b[A\n",
      " 87%|████████▋ | 26/30 [49:38<07:38, 114.55s/it]\u001b[A\n",
      " 90%|█████████ | 27/30 [51:11<05:41, 113.77s/it]\u001b[A\n",
      " 93%|█████████▎| 28/30 [52:32<03:45, 112.59s/it]\u001b[A\n",
      " 97%|█████████▋| 29/30 [53:53<01:51, 111.49s/it]\u001b[A\n",
      "100%|██████████| 30/30 [55:17<00:00, 110.57s/it]\u001b[A\n",
      "\u001b[A"
     ]
    },
    {
     "data": {
      "image/png": "[encoded data removed]",
      "text/plain": [
       "<Figure size 432x288 with 1 Axes>"
      ]
     },
     "metadata": {},
     "output_type": "display_data"
    },
    {
     "data": {
      "text/plain": [
       "<Figure size 432x288 with 0 Axes>"
      ]
     },
     "metadata": {},
     "output_type": "display_data"
    }
   ],
   "source": [
    "def try_5(eta=0.018920249916784752, regularization_term=0.001):\n",
    "    \"\"\"\n",
    "    Leaky ReLU with He initialization\n",
    "    \"\"\"\n",
    "    W1_leaky_5, b1_leaky_5, W2_leaky_5, b2_leaky_5 = he_initialization()\n",
    "\n",
    "    GD_params = [100, eta, 30]\n",
    "\n",
    "    W1_leaky_5, b1_leaky_5, W2_leaky_5, b2_leaky_5, training_set_loss_leaky_5, validation_set_loss_leaky_5 = \\\n",
    "        MiniBatchGDwithMomentum(X_training,\n",
    "                                Y_training,\n",
    "                                X_validation,\n",
    "                                Y_validation,\n",
    "                                y_validation,\n",
    "                                GD_params,\n",
    "                                W1_leaky_5, b1_leaky_5, W2_leaky_5, b2_leaky_5,\n",
    "                                regularization_term,\n",
    "                                with_annealing=False,\n",
    "                                with_leaky_relu=True)\n",
    "\n",
    "    return W1_leaky_5, b1_leaky_5, W2_leaky_5, b2_leaky_5, training_set_loss_leaky_5, validation_set_loss_leaky_5\n",
    "\n",
    "W1_try_5, b1_try_5, W2_try_5, b2_try_5, \\\n",
    "training_set_loss_try_5, validation_set_loss_try_5 = try_5()\n",
    "\n",
    "visualize_costs(training_set_loss_try_5, validation_set_loss_try_5, display=True,\n",
    "                title='Cross Entropy Loss Evolution, Leaky ReLU, He initialization', save_name='try_5')"
   ]
  },
  {
   "cell_type": "code",
   "execution_count": 49,
   "metadata": {},
   "outputs": [],
   "source": [
    "accuracy_try_5 = ComputeAccuracy(X_test, y_test, W1_try_5, b1_try_5, W2_try_5, b2_try_5)"
   ]
  },
  {
   "cell_type": "markdown",
   "metadata": {},
   "source": [
    "Test set accuracy performance is 51.53%"
   ]
  },
  {
   "cell_type": "code",
   "execution_count": 50,
   "metadata": {},
   "outputs": [
    {
     "data": {
      "text/plain": [
       "51.53"
      ]
     },
     "execution_count": 50,
     "metadata": {},
     "output_type": "execute_result"
    }
   ],
   "source": [
    "accuracy_try_5"
   ]
  },
  {
   "cell_type": "markdown",
   "metadata": {},
   "source": [
    "Sixth try: Leaky Relu with 100 nodes in the hidden layer:"
   ]
  },
  {
   "cell_type": "code",
   "execution_count": 51,
   "metadata": {},
   "outputs": [
    {
     "name": "stderr",
     "output_type": "stream",
     "text": [
      "\n",
      "  0%|          | 0/30 [00:00<?, ?it/s]\u001b[A\n",
      "  3%|▎         | 1/30 [01:35<45:57, 95.09s/it]\u001b[A\n",
      "  7%|▋         | 2/30 [03:05<43:15, 92.68s/it]\u001b[A\n",
      " 10%|█         | 3/30 [04:36<41:27, 92.13s/it]\u001b[A\n",
      " 13%|█▎        | 4/30 [06:10<40:10, 92.70s/it]\u001b[A\n",
      " 17%|█▋        | 5/30 [07:33<37:47, 90.71s/it]\u001b[A\n",
      " 20%|██        | 6/30 [08:58<35:52, 89.71s/it]\u001b[A\n",
      " 23%|██▎       | 7/30 [10:23<34:09, 89.13s/it]\u001b[A\n",
      " 27%|██▋       | 8/30 [11:46<32:23, 88.34s/it]\u001b[A\n",
      " 30%|███       | 9/30 [13:12<30:49, 88.09s/it]\u001b[A\n",
      " 33%|███▎      | 10/30 [14:36<29:13, 87.67s/it]\u001b[A\n",
      " 37%|███▋      | 11/30 [16:01<27:40, 87.37s/it]\u001b[A\n",
      " 40%|████      | 12/30 [17:25<26:08, 87.14s/it]\u001b[A\n",
      " 43%|████▎     | 13/30 [18:53<24:42, 87.21s/it]\u001b[A\n",
      " 47%|████▋     | 14/30 [20:20<23:14, 87.18s/it]\u001b[A\n",
      " 50%|█████     | 15/30 [21:50<21:50, 87.40s/it]\u001b[A\n",
      " 53%|█████▎    | 16/30 [23:12<20:18, 87.01s/it]\u001b[A\n",
      " 57%|█████▋    | 17/30 [24:39<18:51, 87.00s/it]\u001b[A\n",
      " 60%|██████    | 18/30 [26:05<17:23, 87.00s/it]\u001b[A\n",
      " 63%|██████▎   | 19/30 [27:30<15:55, 86.86s/it]\u001b[A\n",
      " 67%|██████▋   | 20/30 [28:55<14:27, 86.76s/it]\u001b[A\n",
      " 70%|███████   | 21/30 [30:24<13:01, 86.86s/it]\u001b[A\n",
      " 73%|███████▎  | 22/30 [32:03<11:39, 87.44s/it]\u001b[A\n",
      " 77%|███████▋  | 23/30 [33:38<10:14, 87.76s/it]\u001b[A\n",
      " 80%|████████  | 24/30 [35:14<08:48, 88.11s/it]\u001b[A\n",
      " 83%|████████▎ | 25/30 [36:38<07:19, 87.93s/it]\u001b[A\n",
      " 87%|████████▋ | 26/30 [38:39<05:56, 89.19s/it]\u001b[A\n",
      " 90%|█████████ | 27/30 [40:02<04:26, 88.99s/it]\u001b[A\n",
      " 93%|█████████▎| 28/30 [41:32<02:58, 89.03s/it]\u001b[A\n",
      " 97%|█████████▋| 29/30 [42:54<01:28, 88.79s/it]\u001b[A\n",
      "100%|██████████| 30/30 [44:13<00:00, 88.46s/it]\u001b[A\n",
      "\u001b[A"
     ]
    },
    {
     "data": {
      "image/png": "[encoded data removed]",
      "text/plain": [
       "<Figure size 432x288 with 1 Axes>"
      ]
     },
     "metadata": {},
     "output_type": "display_data"
    },
    {
     "data": {
      "text/plain": [
       "<Figure size 432x288 with 0 Axes>"
      ]
     },
     "metadata": {},
     "output_type": "display_data"
    }
   ],
   "source": [
    "def try_6(eta=0.018920249916784752, regularization_term=0.001):\n",
    "    \"\"\"\n",
    "    Leaky ReLU with He initialization\n",
    "    \"\"\"\n",
    "    W1_leaky_6, b1_leaky_6, W2_leaky_6, b2_leaky_6 = initialize_weights(m=100)\n",
    "\n",
    "    GD_params = [100, eta, 30]\n",
    "\n",
    "    W1_leaky_6, b1_leaky_6, W2_leaky_6, b2_leaky_6, training_set_loss_leaky_6, validation_set_loss_leaky_6 = \\\n",
    "        MiniBatchGDwithMomentum(X_training,\n",
    "                                Y_training,\n",
    "                                X_validation,\n",
    "                                Y_validation,\n",
    "                                y_validation,\n",
    "                                GD_params,\n",
    "                                W1_leaky_6, b1_leaky_6, W2_leaky_6, b2_leaky_6,\n",
    "                                regularization_term,\n",
    "                                with_annealing=False,\n",
    "                                with_leaky_relu=True)\n",
    "\n",
    "    return W1_leaky_6, b1_leaky_6, W2_leaky_6, b2_leaky_6, training_set_loss_leaky_6, validation_set_loss_leaky_6\n",
    "\n",
    "\"\"\"\n",
    "Uncomment for sixth try\n",
    "\"\"\"\n",
    "W1_try_6, b1_try_6, W2_try_6, b2_try_6, \\\n",
    "training_set_loss_try_6, validation_set_loss_try_6 = try_6()\n",
    "\n",
    "visualize_costs(training_set_loss_try_6, validation_set_loss_try_6, display=True,\n",
    "                title='Cross Entropy Loss Evolution, Leaky ReLU, 100 nodes in the hidden layer', save_name='try_6')"
   ]
  },
  {
   "cell_type": "code",
   "execution_count": 52,
   "metadata": {},
   "outputs": [],
   "source": [
    "accuracy_try_6 = ComputeAccuracy(X_test, y_test, W1_try_6, b1_try_6, W2_try_6, b2_try_6)"
   ]
  },
  {
   "cell_type": "code",
   "execution_count": null,
   "metadata": {},
   "outputs": [],
   "source": [
    "The accuracy achieved on the test set from th"
   ]
  },
  {
   "cell_type": "code",
   "execution_count": 53,
   "metadata": {},
   "outputs": [
    {
     "data": {
      "text/plain": [
       "53.62"
      ]
     },
     "execution_count": 53,
     "metadata": {},
     "output_type": "execute_result"
    }
   ],
   "source": [
    "accuracy_try_6"
   ]
  }
 ],
 "metadata": {
  "kernelspec": {
   "display_name": "Python 3",
   "language": "python",
   "name": "python3"
  },
  "language_info": {
   "codemirror_mode": {
    "name": "ipython",
    "version": 3
   },
   "file_extension": ".py",
   "mimetype": "text/x-python",
   "name": "python",
   "nbconvert_exporter": "python",
   "pygments_lexer": "ipython3",
   "version": "3.6.5"
  }
 },
 "nbformat": 4,
 "nbformat_minor": 2
}
