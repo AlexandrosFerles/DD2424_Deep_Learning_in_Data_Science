{
 "cells": [
  {
   "cell_type": "markdown",
   "metadata": {},
   "source": [
    "### Imports"
   ]
  },
  {
   "cell_type": "code",
   "execution_count": 10,
   "metadata": {},
   "outputs": [
    {
     "name": "stderr",
     "output_type": "stream",
     "text": [
      "Using TensorFlow backend.\n"
     ]
    }
   ],
   "source": [
    "import numpy as np\n",
    "from matplotlib import pyplot as plt\n",
    "from keras.utils import to_categorical as make_class_categorical\n",
    "import _pickle as pickle\n",
    "from tqdm import tqdm\n",
    "import pdb"
   ]
  },
  {
   "cell_type": "markdown",
   "metadata": {},
   "source": [
    "### Assignment 2 functions"
   ]
  },
  {
   "cell_type": "markdown",
   "metadata": {},
   "source": [
    "#### Initialize weights"
   ]
  },
  {
   "cell_type": "code",
   "execution_count": 11,
   "metadata": {},
   "outputs": [],
   "source": [
    "def initialize_weights(d, m, K, std=0.001):\n",
    "    \"\"\"\n",
    "    Initializes the weight and bias arrays for the 2 layers of the network\n",
    "\n",
    "    :param d: Dimensionality of the input data\n",
    "    :param m: Number of nodes in the first layer\n",
    "    :param K: Number of different classes (K=10 for the CIFAR-10 dataset)\n",
    "    :param variance (optional): The variance of the normal distribution that will be used for the initialization of the weights\n",
    "\n",
    "    :return: Weights and bias arrays for the first and second layer of the neural network\n",
    "    \"\"\"\n",
    "\n",
    "    np.random.seed(400)\n",
    "\n",
    "    W1 = np.random.normal(0, std, size=(m, d))\n",
    "    b1 = np.zeros(shape=(m, 1))\n",
    "\n",
    "    W2 = np.random.normal(0, std, size=(K, m))\n",
    "    b2 = np.zeros(shape=(K, 1))\n",
    "\n",
    "    return W1, b1, W2, b2"
   ]
  },
  {
   "cell_type": "markdown",
   "metadata": {},
   "source": [
    "#### Load Batch"
   ]
  },
  {
   "cell_type": "code",
   "execution_count": 12,
   "metadata": {},
   "outputs": [],
   "source": [
    "def LoadBatch(filename):\n",
    "    \"\"\"\n",
    "    Loads batch based on the given filename and produces the X, Y, and y arrays\n",
    "\n",
    "    :param filename: Path of the file\n",
    "    :return: X, Y and y arrays\n",
    "    \"\"\"\n",
    "\n",
    "    # borrowed from https://www.cs.toronto.edu/~kriz/cifar.html\n",
    "    def unpickle(file):\n",
    "        with open(file, 'rb') as fo:\n",
    "            dict = pickle.load(fo, encoding='bytes')\n",
    "        return dict\n",
    "\n",
    "    dictionary = unpickle(filename)\n",
    "\n",
    "    # borrowed from https://stackoverflow.com/questions/16977385/extract-the-nth-key-in-a-python-dictionary?utm_medium=organic&utm_source=google_rich_qa&utm_campaign=google_rich_qa\n",
    "    def ix(dic, n):  # don't use dict as  a variable name\n",
    "        try:\n",
    "            return list(dic)[n]  # or sorted(dic)[n] if you want the keys to be sorted\n",
    "        except IndexError:\n",
    "            print('not enough keys')\n",
    "\n",
    "    garbage = ix(dictionary, 1)\n",
    "    y = dictionary[garbage]\n",
    "    Y = np.transpose(make_class_categorical(y, 10))\n",
    "    garbage = ix(dictionary, 2)\n",
    "    X = np.transpose(dictionary[garbage]) / 255\n",
    "\n",
    "    return X, Y, y"
   ]
  },
  {
   "cell_type": "markdown",
   "metadata": {},
   "source": [
    "#### ReLU\n"
   ]
  },
  {
   "cell_type": "code",
   "execution_count": 13,
   "metadata": {},
   "outputs": [],
   "source": [
    "def ReLU(x):\n",
    "    \"\"\"\n",
    "    Rectified Linear Unit function\n",
    "\n",
    "    :param x: Input to the function\n",
    "\n",
    "    :return: Output of ReLU(x)\n",
    "    \"\"\"\n",
    "\n",
    "    return np.maximum(x, 0)"
   ]
  },
  {
   "cell_type": "markdown",
   "metadata": {},
   "source": [
    "#### Softmax"
   ]
  },
  {
   "cell_type": "code",
   "execution_count": 14,
   "metadata": {},
   "outputs": [],
   "source": [
    "def softmax(X, theta=1.0, axis=None):\n",
    "\n",
    "    # Softmax over numpy rows and columns, taking care for overflow cases\n",
    "    # Many thanks to https://nolanbconaway.github.io/blog/2017/softmax-numpy\n",
    "    # Usage: Softmax over rows-> axis =0, softmax over columns ->axis =1\n",
    "\n",
    "    \"\"\"\n",
    "    Compute the softmax of each element along an axis of X.\n",
    "    Parameters\n",
    "    ----------\n",
    "    X: ND-Array. Probably should be floats.\n",
    "    theta (optional): float parameter, used as a multiplier\n",
    "        prior to exponentiation. Default = 1.0\n",
    "    axis (optional): axis to compute values along. Default is the\n",
    "        first non-singleton axis.\n",
    "    Returns an array the same size as X. The result will sum to 1\n",
    "    along the specified axis.\n",
    "    \"\"\"\n",
    "\n",
    "    # make X at least 2d\n",
    "    y = np.atleast_2d(X)\n",
    "\n",
    "    # find axis\n",
    "    if axis is None:\n",
    "        axis = next(j[0] for j in enumerate(y.shape) if j[1] > 1)\n",
    "\n",
    "    # multiply y against the theta parameter,\n",
    "    y = y * float(theta)\n",
    "\n",
    "    # subtract the max for numerical stability\n",
    "    y = y - np.expand_dims(np.max(y, axis=axis), axis)\n",
    "\n",
    "    # exponentiate y\n",
    "    y = np.exp(y)\n",
    "\n",
    "    # take the sum along the specified axis\n",
    "    ax_sum = np.expand_dims(np.sum(y, axis=axis), axis)\n",
    "\n",
    "    # finally: divide elementwise\n",
    "    p = y / ax_sum\n",
    "\n",
    "    # flatten if X was 1D\n",
    "    if len(X.shape) == 1: p = p.flatten()\n",
    "\n",
    "    return p"
   ]
  },
  {
   "cell_type": "markdown",
   "metadata": {},
   "source": [
    "#### Evaluate Classifier"
   ]
  },
  {
   "cell_type": "code",
   "execution_count": 15,
   "metadata": {},
   "outputs": [],
   "source": [
    "def EvaluateClassifier(X, W1, b1, W2, b2):\n",
    "    \"\"\"\n",
    "    Computes the Softmax output of the 2 layer network, based on input data X and trained weight and bias arrays\n",
    "\n",
    "    :param X: Input data\n",
    "    :param W1: Weight array of the first layer\n",
    "    :param b1: Bias vector of the first layer\n",
    "    :param W2: Weight array of the second layer\n",
    "    :param b2: Bias vector of the second layer\n",
    "\n",
    "    :return: Softmax output of the trained network\n",
    "    \"\"\"\n",
    "    s1 = np.dot(W1, X) + b1\n",
    "    h = ReLU(s1)\n",
    "    s = np.dot(W2, h) + b2\n",
    "    p = softmax(s, axis=0)\n",
    "\n",
    "    return p, h, s1"
   ]
  },
  {
   "cell_type": "markdown",
   "metadata": {},
   "source": [
    "#### Predict classes"
   ]
  },
  {
   "cell_type": "code",
   "execution_count": 16,
   "metadata": {},
   "outputs": [],
   "source": [
    "def predictClasses(p):\n",
    "    \"\"\"\n",
    "    Predicts classes based on the softmax output of the network\n",
    "\n",
    "    :param p: Softmax output of the network\n",
    "    :return: Predicted classes\n",
    "    \"\"\"\n",
    "\n",
    "    return np.argmax(p, axis=0)"
   ]
  },
  {
   "cell_type": "markdown",
   "metadata": {},
   "source": [
    "#### Compute Accuracy"
   ]
  },
  {
   "cell_type": "code",
   "execution_count": 37,
   "metadata": {},
   "outputs": [],
   "source": [
    "def ComputeAccuracy(X, y, W1, b1, W2, b2):\n",
    "    \"\"\"\n",
    "    Computes the accuracy of the feed-forward 2-layer network\n",
    "\n",
    "    :param X: Input data\n",
    "    :param y: Labels of the ground truth\n",
    "    :param W1: Weight matrix of the first layer\n",
    "    :param b1: Bias vector of the first layer\n",
    "    :param W2: Weight matrix of the second layer\n",
    "    :param b2: Bias vector of the second layer\n",
    "\n",
    "    :return: Accuracy metric of the neural network.\n",
    "    \"\"\"\n",
    "    p, _, _ = EvaluateClassifier(X=X, W1=W1, b1=b1, W2=W2, b2=b2)\n",
    "    predictions = predictClasses(p)\n",
    "\n",
    "    accuracy = round(np.sum(np.where(predictions - y == 0, 1, 0)) * 100 / len(y), 2)\n",
    "\n",
    "    return accuracy"
   ]
  },
  {
   "cell_type": "markdown",
   "metadata": {},
   "source": [
    "#### Compute Cost"
   ]
  },
  {
   "cell_type": "code",
   "execution_count": 18,
   "metadata": {},
   "outputs": [],
   "source": [
    "def ComputeCost(X, Y, W1, W2, b1, b2, regularization_term= 0):\n",
    "    \"\"\"\n",
    "    Computes the cross-entropy loss on a batch of data.\n",
    "\n",
    "    :param X: Input data\n",
    "    :param y: Labels of the ground truth\n",
    "    :param W1: Weight matrix of the first layer\n",
    "    :param b1: Bias vector of the first layer\n",
    "    :param W2: Weight matrix of the second layer\n",
    "    :param b2: Bias vector of the second layer\n",
    "    :param regularization_term: Amount of regularization applied.\n",
    "\n",
    "    :return: Cross-entropy loss.\n",
    "    \"\"\"\n",
    "    p, _, _ = EvaluateClassifier(X=X, W1=W1, b1=b1, W2=W2, b2=b2)\n",
    "\n",
    "    cross_entropy_loss = -np.log(np.diag(np.dot(Y.T, p))).sum() / float(X.shape[1])\n",
    "\n",
    "    weight_sum = np.power(W1, 2).sum() + np.power(W2, 2).sum()\n",
    "\n",
    "    return cross_entropy_loss + regularization_term * weight_sum"
   ]
  },
  {
   "cell_type": "markdown",
   "metadata": {},
   "source": [
    "#### Compute Gradients"
   ]
  },
  {
   "cell_type": "code",
   "execution_count": 19,
   "metadata": {},
   "outputs": [],
   "source": [
    "def ComputeGradsNum(X, Y, W1, b1, W2, b2, regularization_term, h=1e-5):\n",
    "\n",
    "    \"\"\"\n",
    "    Computes gradient descent updates on a batch of data with numerical computations.\n",
    "    Contributed by Josephine Sullivan for educational purposes for the DD2424 Deep Learning in Data Science course.\n",
    "\n",
    "    :param X: Input data\n",
    "    :param Y: One-hot representation of the true labels of input data X\n",
    "    :param W1: Weight matrix of the first layer\n",
    "    :param b1: Bias vector of the first layer\n",
    "    :param W2: Weight matrix of the second layer\n",
    "    :param b2: Bias vector of the second layer\n",
    "    :param regularization_term: Contribution of the regularization in the weight updates\n",
    "\n",
    "    :return: Weight and bias updates of the first and second layer of our network computed with numerical computations\n",
    "    \"\"\"\n",
    "\n",
    "    grad_W1= np.zeros((W1.shape[0], W1.shape[1]))\n",
    "    grad_b1= np.zeros((W1.shape[0], 1))\n",
    "    grad_W2= np.zeros((W2.shape[0], W2.shape[1]))\n",
    "    grad_b2= np.zeros((W2.shape[0], 1))\n",
    "    \n",
    "    c = ComputeCost(X=X, Y=Y, W1=W1, b1=b1, W2=W2, b2=b2, regularization_term=regularization_term)\n",
    "    \n",
    "    for i in range(b1.shape[0]):\n",
    "        b1_try = np.copy(b1)\n",
    "        b1_try[i, 0] += h\n",
    "        c2 = ComputeCost(X=X, Y=Y, W1=W1, b1=b1_try, W2=W2, b2=b2, regularization_term=regularization_term)\n",
    "        grad_b1[i,0] = (c2-c) / h\n",
    "\n",
    "    for i in range(b2.shape[0]):\n",
    "        b2_try= np.copy(b2)\n",
    "        b2_try[i, 0] += h\n",
    "        c2 = ComputeCost(X=X, Y=Y, W1=W1, b1=b1, W2=W2, b2=b2_try, regularization_term=regularization_term)\n",
    "        grad_b2[i,0] = (c2-c) / h\n",
    "        \n",
    "    for i in range(W1.shape[0]):\n",
    "        for j in range(W1.shape[1]):\n",
    "            \n",
    "            W1_try= np.copy(W1)\n",
    "            W1_try[i,j] += h\n",
    "            c2= ComputeCost(X=X, Y=Y, W1=W1_try, b1=b1, W2=W2, regularization_term=regularization_term)\n",
    "            \n",
    "            grad_W1[i,j] = (c2-c) / h\n",
    "\n",
    "    for i in range(W2.shape[0]):\n",
    "        for j in range(W2.shape[1]):\n",
    "            W2_try = np.copy(W2)\n",
    "            W2_try[i, j] += h\n",
    "            c2 = ComputeCost(X=X, Y=Y, W1=W1, b1=b1, W2=W2_try, regularization_term=regularization_term)\n",
    "\n",
    "            grad_W2[i, j] = (c2 - c) / h\n",
    "\n",
    "    return W1, b1, W2, b2"
   ]
  },
  {
   "cell_type": "code",
   "execution_count": 20,
   "metadata": {},
   "outputs": [],
   "source": [
    "def ComputeGradsNumSlow(X, Y, W1, b1, W2, b2, regularization_term, h=1e-5):\n",
    "    \"\"\"\n",
    "    Computes gradient descent updates on a batch of data with numerical computations of great precision, thus slower computations.\n",
    "    Contributed by Josephine Sullivan for educational purposes for the DD2424 Deep Learning in Data Science course.\n",
    "\n",
    "    :param X: Input data\n",
    "    :param Y: One-hot representation of the true labels of input data X\n",
    "    :param W1: Weight matrix of the first layer\n",
    "    :param b1: Bias vector of the first layer\n",
    "    :param W2: Weight matrix of the second layer\n",
    "    :param b2: Bias vector of the second layer\n",
    "    :param regularization_term: Contribution of the regularization in the weight updates\n",
    "\n",
    "    :return: Weight and bias updates of the first and second layer of our network computed with numerical computations with high precision.\n",
    "    \"\"\"\n",
    "\n",
    "    grad_W1= np.zeros((W1.shape[0], W1.shape[1]))\n",
    "    grad_b1= np.zeros((b1.shape[0], 1))\n",
    "    grad_W2= np.zeros((W2.shape[0], W2.shape[1]))\n",
    "    grad_b2= np.zeros((b2.shape[0], 1))\n",
    "    \n",
    "    for i in tqdm(range(b1.shape[0])):\n",
    "\n",
    "        b1_try = np.copy(b1)\n",
    "        b1_try[i,0] -= h\n",
    "        c1 = ComputeCost(X=X, Y=Y, W1=W1, b1=b1_try, W2=W2, b2=b2, regularization_term=regularization_term)\n",
    "        b1_try = np.copy(b1)\n",
    "        b1_try[i,0] += h\n",
    "        c2 = ComputeCost(X=X, Y=Y, W1=W1, b1=b1_try, W2=W2, b2=b2, regularization_term=regularization_term)\n",
    "        grad_b1[i,0] = (c2-c1)/(2*h)\n",
    "\n",
    "    for i in tqdm(range(b2.shape[0])):\n",
    "        b2_try = np.copy(b2)\n",
    "        b2_try[i, 0] -= h\n",
    "        c1 = ComputeCost(X=X, Y=Y, W1=W1, b1=b1, W2=W2, b2=b2_try, regularization_term=regularization_term)\n",
    "\n",
    "        b2_try = np.copy(b2)\n",
    "        b2_try[i, 0] += h\n",
    "        c2 = ComputeCost(X=X, Y=Y, W1=W1, b1=b1, W2=W2, b2=b2_try, regularization_term=regularization_term)\n",
    "        grad_b2[i, 0] = (c2 - c1) / (2 * h)\n",
    "\n",
    "    for i in tqdm(range(W1.shape[0])):\n",
    "        for j in tqdm(range(W1.shape[1])):\n",
    "\n",
    "            W1_try = np.copy(W1)\n",
    "            W1_try[i, j] -= h\n",
    "            c1 = ComputeCost(X=X, Y=Y, W1=W1_try, b1=b1, W2=W2, b2=b2, regularization_term=regularization_term)\n",
    "\n",
    "            W1_try = np.copy(W1)\n",
    "            W1_try[i, j] += h\n",
    "            c2 = ComputeCost(X=X, Y=Y, W1=W1_try, b1=b1, W2=W2, b2=b2, regularization_term=regularization_term)\n",
    "\n",
    "            grad_W1[i, j] = (c2 - c1) / (2 * h)\n",
    "\n",
    "    for i in tqdm(range(W2.shape[0])):\n",
    "        for j in tqdm(range(W2.shape[1])):\n",
    "\n",
    "            W2_try = np.copy(W2)\n",
    "            W2_try[i, j] -= h\n",
    "            c1 = ComputeCost(X=X, Y=Y, W1=W1, b1=b1, W2=W2_try, b2=b2, regularization_term=regularization_term)\n",
    "\n",
    "            W2_try = np.copy(W2)\n",
    "            W2_try[i, j] += h\n",
    "            c2 = ComputeCost(X=X, Y=Y, W1=W1, b1=b1, W2=W2_try, b2=b2, regularization_term=regularization_term)\n",
    "\n",
    "            grad_W2[i, j] = (c2 - c1) / (2 * h)\n",
    "\n",
    "    return W1, b1, W2, b2"
   ]
  },
  {
   "cell_type": "code",
   "execution_count": 21,
   "metadata": {},
   "outputs": [],
   "source": [
    "def ComputeGradients(X, Y, W1, b1, W2, b2, p, h, s1, regularization_term= 0):\n",
    "    \"\"\"\n",
    "    Computes gradient descent updates on a batch of data\n",
    "\n",
    "    :param X: Input data\n",
    "    :param Y: One-hot representation of the true labels of input data X\n",
    "    :param W1: Weight matrix of the first layer\n",
    "    :param b1: Bias vector of the first layer\n",
    "    :param W2: Weight matrix of the second layer\n",
    "    :param b2: Bias vector of the second layer\n",
    "    :param p: Softmax probabilities (predictions) of the network over classes.\n",
    "    :param h: ReLU activations of the network.\n",
    "    :param s1: True outout of the first layer of the network.\n",
    "    :param regularization_term: Contribution of the regularization in the weight updates\n",
    "\n",
    "    :return: Weight and bias updates of the first and second layer of our network\n",
    "    \"\"\"\n",
    "\n",
    "    # Back-propagate second layer at first\n",
    "\n",
    "    g = p - Y\n",
    "    grad_b2 = g.sum(axis=1).reshape(b2.shape)\n",
    "    grad_W2 = np.dot(g, h.T)\n",
    "\n",
    "    # Back-propagate the gradient vector g to the first layer\n",
    "    g = np.dot(g.T, W2)\n",
    "    ind = 1 * (s1 > 0)\n",
    "    g = g.T * ind\n",
    "\n",
    "    grad_b1 = np.sum(g, axis=1).reshape(b1.shape)\n",
    "    grad_W1 = np.dot(g, X.T)\n",
    "\n",
    "    grad_W1 /= X.shape[1]\n",
    "    grad_b1 /= X.shape[1]\n",
    "    grad_W2 /= X.shape[1]\n",
    "    grad_b2 /= X.shape[1]\n",
    "\n",
    "    # Add regularizers\n",
    "    grad_W1 = grad_W1 + 2 * regularization_term * W1\n",
    "    grad_W2 = grad_W2 +2 * regularization_term * W2\n",
    "\n",
    "    return grad_W1, grad_b1, grad_W2, grad_b2"
   ]
  },
  {
   "cell_type": "code",
   "execution_count": 22,
   "metadata": {},
   "outputs": [],
   "source": [
    "def check_similarity(gradW1, gradb1, gradW2, gradb2, gradW1_num, gradb1_num, gradW2_num, gradb2_num, threshold = 1e-4):\n",
    "\n",
    "    \"\"\"\n",
    "    Compares the gradients of both the analytical and numerical method and prints out a message of result \n",
    "    or failure, depending on how close these gradients are between each other.\n",
    "    \n",
    "    :param gradW1: Gradient of W1, analytically computed\n",
    "    :param gradb1: Gradient of b1, analytically computed\n",
    "    :param gradW2: Gradient of W2, analytically computed\n",
    "    :param gradb2: Gradient of b2, analytically computed\n",
    "    :param gradW1_num: Gradient of W1, numerically computed\n",
    "    :param gradb1_num: Gradient of b1, numerically computed\n",
    "    :param gradW2_num: Gradient of W2, numerically computed\n",
    "    :param gradb2_num: Gradient of b2, numerically computed\n",
    "\n",
    "    :return: None\n",
    "    \"\"\"\n",
    "    \n",
    "    W1_abs = np.abs(gradW1 - gradW1_num)\n",
    "    b1_abs = np.abs(gradb1 - gradb1_num)\n",
    "    \n",
    "    W2_abs = np.abs(gradW2 - gradW2_num)\n",
    "    b2_abs = np.abs(gradb2 - gradb2_num)\n",
    "    \n",
    "    W1_nominator = np.average(W1_abs)\n",
    "    b1_nominator = np.average(b1_abs)\n",
    "    \n",
    "    W2_nominator = np.average(W2_abs)\n",
    "    b2_nominator = np.average(b2_abs)\n",
    "\n",
    "\n",
    "    gradW1_abs = np.absolute(gradW1)\n",
    "    gradW1_num_abs = np.absolute(gradW1_num)\n",
    "    \n",
    "    gradW2_abs = np.absolute(gradW2)\n",
    "    gradW2_num_abs = np.absolute(gradW2_num)\n",
    "\n",
    "    gradb1_abs = np.absolute(gradb1)\n",
    "    gradb1_num_abs = np.absolute(gradb1)\n",
    "    \n",
    "    gradb2_abs = np.absolute(gradb2)\n",
    "    gradb2_num_abs = np.absolute(gradb2)\n",
    "\n",
    "    sum_W1 = gradW1_abs + gradW1_num_abs\n",
    "    sum_W2 = gradW2_abs + gradW2_num_abs\n",
    "    sum_b1 = gradb1_abs + gradb1_num_abs\n",
    "    sum_b2 = gradb2_abs + gradb2_num_abs\n",
    "\n",
    "    check_W1 = W1_nominator / np.amax(sum_W1)\n",
    "    check_b1 = b1_nominator / np.amax(sum_b1)\n",
    "\n",
    "    check_W2 = W2_nominator / np.amax(sum_W2)\n",
    "    check_b2 = b2_nominator / np.amax(sum_b2)\n",
    "\n",
    "\n",
    "    if check_W1 < threshold and check_b1 < threshold and check_W2 < threshold and check_b2 < threshold:\n",
    "        print( \"Success!!\")\n",
    "        print(\"Average error on weights of first layer= \", check_W1)\n",
    "        print(\"Average error on bias of first layer=\", check_b1)\n",
    "        print(\"Average error on weights of second layer= \", check_W2)\n",
    "        print(\"Average error on bias of second layer= \", check_b2)\n",
    "    else:\n",
    "        print(\"Failure\")\n",
    "        print(\"Average error on weights of first layer= \", check_W1)\n",
    "        print(\"Average error on bias of first layer=\", check_b1)\n",
    "        print(\"Average error on weights of second layer= \", check_W2)\n",
    "        print(\"Average error on bias of second layer= \", check_b2)\n"
   ]
  },
  {
   "cell_type": "markdown",
   "metadata": {},
   "source": [
    "#### Momentum Update"
   ]
  },
  {
   "cell_type": "code",
   "execution_count": 23,
   "metadata": {},
   "outputs": [],
   "source": [
    "def initialize_momentum(hyperparameter):\n",
    "    \"\"\"\n",
    "    Initializes the corresponding momentum of a hyperparameter matrix or vector\n",
    "\n",
    "    :param hyperparameter: The hyperparameter\n",
    "    :return: The corresponding momentum\n",
    "    \"\"\"\n",
    "\n",
    "    return np.zeros(hyperparameter.shape)"
   ]
  },
  {
   "cell_type": "code",
   "execution_count": 24,
   "metadata": {},
   "outputs": [],
   "source": [
    "def add_momentum(v_t_prev, hyperpatameter, gradient, eta, momentum_term=0.99):\n",
    "    \"\"\"\n",
    "    Add momentum to the update of the hyperparameter at each update step, in order to speed up training\n",
    "\n",
    "    :param v_t_prev: The momentum update of the previous time step\n",
    "    :param hyperpatameter: The corresponding hyperparameters\n",
    "    :param gradient: The value of the gradient update as computed in each time step\n",
    "    :param eta: The learning rate of the training process\n",
    "    :param r (optional): The momentum factor, typically 0.9 or 0.99\n",
    "\n",
    "    :return: The updated hyperparameter based on the momentum update, and the  momentum update itself\n",
    "    \"\"\"\n",
    "\n",
    "    v_t = momentum_term * v_t_prev + eta * gradient\n",
    "\n",
    "    return hyperpatameter - v_t, v_t"
   ]
  },
  {
   "cell_type": "markdown",
   "metadata": {},
   "source": [
    "\n",
    "\n",
    "#### Mini-Batch Gradient Descent"
   ]
  },
  {
   "cell_type": "code",
   "execution_count": 25,
   "metadata": {},
   "outputs": [],
   "source": [
    "def MiniBatchGD(X, Y, X_validation, Y_validation, GDparams, W1, b1, W2, b2, regularization_term = 0):\n",
    "    \"\"\"\n",
    "    Performs mini batch-gradient descent computations.\n",
    "\n",
    "    :param X: Input batch of data\n",
    "    :param Y: One-hot representation of the true labels of the data.\n",
    "    :param X_validation: Input batch of validation data.\n",
    "    :param Y_validation: One-hot representation of the true labels of the validation data.\n",
    "    :param GDparams: Gradient descent parameters (number of mini batches to construct, learning rate, epochs)\n",
    "    :param W1: Weight matrix of the first layer of the network.\n",
    "    :param b1: Bias vector of the first layer of the network.\n",
    "    :param W2: Weight matrix of the second layer of the network.\n",
    "    :param b2: Bias vector of the second layer of the network.\n",
    "    :param regularization_term: Amount of regularization applied.\n",
    "\n",
    "    :return: The weight and bias matrices learnt (trained) from the training process, loss in training and validation set.\n",
    "    \"\"\"\n",
    "    number_of_mini_batches = GDparams[0]\n",
    "    eta = GDparams[1]\n",
    "    epoches = GDparams[2]\n",
    "\n",
    "    cost = []\n",
    "    val_cost = []\n",
    "\n",
    "    for _ in tqdm(range(epoches)):\n",
    "\n",
    "        for batch in range(1, int(X.shape[1] / number_of_mini_batches)):\n",
    "            start = (batch - 1) * number_of_mini_batches + 1\n",
    "            end = batch * number_of_mini_batches + 1\n",
    "\n",
    "            p, h, s1 = EvaluateClassifier(X[:,start:end], W1, b1, W2, b2)\n",
    "\n",
    "            grad_W1, grad_b1, grad_W2, grad_b2 = ComputeGradients(X[:,start:end], Y[:,start:end], W1, b1, W2, b2, p, h ,s1, regularization_term)\n",
    "\n",
    "            W1 -= eta * grad_W1\n",
    "            b1 -= eta * grad_b1\n",
    "            W2 -= eta * grad_W2\n",
    "            b2 -= eta * grad_b2\n",
    "\n",
    "        epoch_cost = ComputeCost(X, Y, W1, W2, b1, b2, 0)\n",
    "        val_epoch_cost = ComputeCost(X_validation, Y_validation, W1, W2, b1, b2)\n",
    "\n",
    "        cost.append(epoch_cost)\n",
    "        val_cost.append(val_epoch_cost)\n",
    "\n",
    "    return W1, b1, W2, b2, cost, val_cost\n"
   ]
  },
  {
   "cell_type": "code",
   "execution_count": 35,
   "metadata": {},
   "outputs": [],
   "source": [
    "def MiniBatchGDwithMomentum(X, Y, X_validation, Y_validation, GDparams, W1, b1, W2, b2, regularization_term = 0, momentum_term=0.9):\n",
    "    \"\"\"\n",
    "    Performs mini batch-gradient descent computations.\n",
    "\n",
    "    :param X: Input batch of data\n",
    "    :param Y: One-hot representation of the true labels of the data.\n",
    "    :param X_validation: Input batch of validation data.\n",
    "    :param Y_validation: One-hot representation of the true labels of the validation data.\n",
    "    :param GDparams: Gradient descent parameters (number of mini batches to construct, learning rate, epochs)\n",
    "    :param W1: Weight matrix of the first layer of the network.\n",
    "    :param b1: Bias vector of the first layer of the network.\n",
    "    :param W2: Weight matrix of the second layer of the network.\n",
    "    :param b2: Bias vector of the second layer of the network.\n",
    "    :param regularization_term: Amount of regularization applied.\n",
    "\n",
    "    :return: The weight and bias matrices learnt (trained) from the training process, loss in training and validation set.\n",
    "    \"\"\"\n",
    "    number_of_mini_batches = GDparams[0]\n",
    "    eta = GDparams[1]\n",
    "    epoches = GDparams[2]\n",
    "\n",
    "    cost = []\n",
    "    val_cost = []\n",
    "\n",
    "    v_W1 = initialize_momentum(W1)\n",
    "    v_b1 = initialize_momentum(b1)\n",
    "    v_W2 = initialize_momentum(W2)\n",
    "    v_b2 = initialize_momentum(b2)\n",
    "\n",
    "    # print('Training set loss before start of training process: '+str(ComputeCost(X, Y, W1, W2, b1, b2, regularization_term)))\n",
    "\n",
    "    original_training_cost = ComputeCost(X, Y, W1, W2, b1, b2, regularization_term)\n",
    "\n",
    "    # for epoch in tqdm(range(epoches)):\n",
    "    for epoch in range(epoches):\n",
    "\n",
    "        for batch in range(1, int(X.shape[1] / number_of_mini_batches)):\n",
    "            start = (batch - 1) * number_of_mini_batches + 1\n",
    "            end = batch * number_of_mini_batches + 1\n",
    "\n",
    "            p, h, s1 = EvaluateClassifier(X[:,start:end], W1, b1, W2, b2)\n",
    "\n",
    "            grad_W1, grad_b1, grad_W2, grad_b2 = ComputeGradients(X[:,start:end], Y[:,start:end], W1, b1, W2, b2, p, h ,s1, regularization_term)\n",
    "\n",
    "            W1, v_W1 = add_momentum(v_W1, W1, grad_W1, eta, momentum_term)\n",
    "            b1, v_b1 = add_momentum(v_b1, b1, grad_b1, eta, momentum_term)\n",
    "            W2, v_W2 = add_momentum(v_W2, W2, grad_W2, eta, momentum_term)\n",
    "            b2, v_b2 = add_momentum(v_b2, b2, grad_b2, eta, momentum_term)\n",
    "\n",
    "        epoch_cost = ComputeCost(X, Y, W1, W2, b1, b2)\n",
    "        # print('Training set loss after epoch number '+str(epoch)+' is: '+str(epoch_cost))\n",
    "        if epoch_cost > 3 * original_training_cost:\n",
    "            break\n",
    "        val_epoch_cost = ComputeCost(X_validation, Y_validation, W1, W2, b1, b2)\n",
    "\n",
    "        cost.append(epoch_cost)\n",
    "        val_cost.append(val_epoch_cost)\n",
    "\n",
    "        # Decay the learning rate\n",
    "        eta *= 0.95\n",
    "\n",
    "    return W1, b1, W2, b2, cost, val_cost\n"
   ]
  },
  {
   "cell_type": "markdown",
   "metadata": {},
   "source": [
    "#### Visualizing functions"
   ]
  },
  {
   "cell_type": "code",
   "execution_count": 27,
   "metadata": {},
   "outputs": [],
   "source": [
    "def visualize_single_cost(loss, display= False, title = None, save_name= None, save_path='../figures/'):\n",
    "    \"\"\"\n",
    "        Visualization and saving the loss of the network.\n",
    "\n",
    "        :param loss: Loss of the network.\n",
    "        :param display: (Optional) Boolean, set to True for displaying the loss evolution plot.\n",
    "        :param title: (Optional) Title of the plot.\n",
    "        :param save_name: (Optional) name of the file to save the plot.\n",
    "        :param save_path: (Optional) Path of the folder to save the plot in your local computer.\n",
    "\n",
    "        :return: None\n",
    "\n",
    "        \"\"\"\n",
    "\n",
    "    if title is not None:\n",
    "        plt.title(title)\n",
    "\n",
    "    plt.plot(loss)\n",
    "\n",
    "    if save_name is not None:\n",
    "        if save_path[-1] != '/':\n",
    "            save_path += '/'\n",
    "        plt.savefig(save_path + save_name+'.png')\n",
    "\n",
    "    if display:\n",
    "        plt.show()\n",
    "\n",
    "    plt.clf()"
   ]
  },
  {
   "cell_type": "code",
   "execution_count": 28,
   "metadata": {},
   "outputs": [],
   "source": [
    "def visualize_costs(loss, val_loss, display= False, title = None, save_name= None, save_path='../figures/'):\n",
    "    \"\"\"\n",
    "    Visualization and saving the losses of the network.\n",
    "\n",
    "    :param loss: Loss of the network.\n",
    "    :param val_loss: Loss of the network in the validation set.\n",
    "    :param display: (Optional) Boolean, set to True for displaying the loss evolution plot.\n",
    "    :param title: (Optional) Title of the plot.\n",
    "    :param save_name: (Optional) name of the file to save the plot.\n",
    "    :param save_path: (Optional) Path of the folder to save the plot in your local computer.\n",
    "\n",
    "    :return: None\n",
    "\n",
    "    \"\"\"\n",
    "\n",
    "    if title is not None:\n",
    "        plt.title(title)\n",
    "\n",
    "    plt.plot(loss, 'g', label='Training set ')\n",
    "    plt.plot(val_loss, 'r', label='Validation set')\n",
    "    plt.legend(loc='upper right')\n",
    "\n",
    "    if save_name is not None:\n",
    "        if save_path[-1] !='/':\n",
    "            save_path+='/'\n",
    "        plt.savefig(save_path + save_name)\n",
    "\n",
    "    if display:\n",
    "        plt.show()\n",
    "\n",
    "    plt.clf()"
   ]
  },
  {
   "cell_type": "markdown",
   "metadata": {},
   "source": [
    "### ASSIGNMENT 2 EXERCISES"
   ]
  },
  {
   "cell_type": "markdown",
   "metadata": {},
   "source": [
    "####  Exercise 1: Read in the data & initialize the parameters ofthe network"
   ]
  },
  {
   "cell_type": "code",
   "execution_count": 29,
   "metadata": {},
   "outputs": [],
   "source": [
    "def exercise_1():\n",
    "    \"\"\"\n",
    "    DD2424 Assignemnt 2, Exercise 1: Read the data & initialize the parameters of the network\n",
    "\n",
    "    :return: Data of the tarining and testing process and initialized parameters for the weights and bias of the network\n",
    "    \"\"\"\n",
    "    X_training_1, Y_training_1, y_training_1 = LoadBatch('../../cifar-10-batches-py/data_batch_1')\n",
    "    X_training_2, Y_training_2, y_training_2 = LoadBatch('../../cifar-10-batches-py/data_batch_2')\n",
    "    X_test, _, y_test = LoadBatch('../../cifar-10-batches-py/test_batch')\n",
    "\n",
    "    mean = np.mean(X_training_1)\n",
    "    X_training_1 -= mean\n",
    "    X_training_2 -= mean\n",
    "    X_test -= mean\n",
    "\n",
    "    training_data = [X_training_1, Y_training_1, y_training_1]\n",
    "    validation_data = [X_training_2, Y_training_2, y_training_2]\n",
    "    test_data = [X_test, y_test]\n",
    "\n",
    "    W1, b1, W2, b2 = initialize_weights(d=X_training_1.shape[0], m=50, K=Y_training_1.shape[0])\n",
    "\n",
    "    return training_data, validation_data, test_data, W1, b1, W2, b2"
   ]
  },
  {
   "cell_type": "code",
   "execution_count": 30,
   "metadata": {},
   "outputs": [],
   "source": [
    "training_data, validation_data, test_data, W1, b1, W2, b2 = exercise_1()\n",
    "X_training, Y_training, y_training = training_data\n",
    "X_validation, Y_validation, y_validation = validation_data\n",
    "X_test, y_test = test_data"
   ]
  },
  {
   "cell_type": "markdown",
   "metadata": {},
   "source": [
    "#### Exercise 2: Compute the gradients for the network parameters"
   ]
  },
  {
   "cell_type": "code",
   "execution_count": 23,
   "metadata": {},
   "outputs": [],
   "source": [
    "p, h, s1 = EvaluateClassifier(X_training_1[:,0:2], W1, b1, W2, b2)\n",
    "grad_W1, grad_b1, grad_W2, grad_b2 = ComputeGradients(X_training[:,0:2], Y_training[:,0:2], W1, b1, W2, b2, p, h, s1)"
   ]
  },
  {
   "cell_type": "markdown",
   "metadata": {},
   "source": [
    "Test no.1: Compare with numerically computed gradients"
   ]
  },
  {
   "cell_type": "code",
   "execution_count": 24,
   "metadata": {},
   "outputs": [],
   "source": [
    "grad_W1_num = np.load('grad_W1_num.npy')\n",
    "grad_b1_num = np.load('grad_b1_num.npy')\n",
    "grad_W2_num = np.load('grad_W2_num.npy')\n",
    "grad_b2_num = np.load('grad_b2_num.npy')"
   ]
  },
  {
   "cell_type": "code",
   "execution_count": 25,
   "metadata": {},
   "outputs": [
    {
     "name": "stdout",
     "output_type": "stream",
     "text": [
      "Success!!\n",
      "Average error on weights of first layer=  7.52283628908819e-09\n",
      "Average error on bias of first layer= 4.602426280088195e-09\n",
      "Average error on weights of second layer=  3.0747216543846533e-10\n",
      "Average error on bias of second layer=  1.193638211533644e-11\n"
     ]
    }
   ],
   "source": [
    "check_similarity(grad_W1, grad_b1, grad_W2, grad_b2, grad_W1_num, grad_b1_num, grad_W2_num, grad_b2_num)"
   ]
  },
  {
   "cell_type": "markdown",
   "metadata": {},
   "source": [
    "Test no.2: Overfit on a small subset of training data"
   ]
  },
  {
   "cell_type": "code",
   "execution_count": 26,
   "metadata": {
    "collapsed": true
   },
   "outputs": [
    {
     "name": "stderr",
     "output_type": "stream",
     "text": [
      "100%|██████████| 200/200 [00:09<00:00, 21.68it/s]\n"
     ]
    },
    {
     "data": {
      "image/png": "[encoded data removed]",
      "text/plain": [
       "<Figure size 432x288 with 1 Axes>"
      ]
     },
     "metadata": {},
     "output_type": "display_data"
    }
   ],
   "source": [
    "W1, b1, W2, b2 = initialize_weights(d=X_training_1.shape[0], m=50, K=Y_training_1.shape[0])\n",
    "GD_params = [100, 0.05, 200]\n",
    "\n",
    "W1, b1, W2, b2, training_set_loss, validation_set_loss = MiniBatchGD(   X_training[:, :1000],\n",
    "                                                                        Y_training[:, :1000],\n",
    "                                                                        X_validation[:, :1000],\n",
    "                                                                        Y_validation[:, :1000],\n",
    "                                                                        [], [],\n",
    "                                                                        GD_params,\n",
    "                                                                        W1, b1, W2, b2)\n",
    "\n",
    "visualize_costs(training_set_loss, validation_set_loss, display=True, title='Cross Entropy Loss Evolution')"
   ]
  },
  {
   "cell_type": "markdown",
   "metadata": {},
   "source": [
    "We observe overfitting in the training data, as the loss on the training set gets pretty small values, while the loss on the validation set starts increasing after a few number of epochs. "
   ]
  },
  {
   "cell_type": "markdown",
   "metadata": {},
   "source": [
    "#### Exercise 3: Add momentum to your update step"
   ]
  },
  {
   "cell_type": "code",
   "execution_count": 34,
   "metadata": {
    "collapsed": true
   },
   "outputs": [
    {
     "name": "stderr",
     "output_type": "stream",
     "text": [
      "100%|██████████| 200/200 [00:20<00:00,  9.59it/s]\n"
     ]
    }
   ],
   "source": [
    "W1, b1, W2, b2 = initialize_weights(d=X_training.shape[0], m=50, K=Y_training.shape[0])\n",
    "\n",
    "W1, b1, W2, b2, training_set_loss, validation_set_loss = MiniBatchGDwithMomentum(   X_training[:, :2000],\n",
    "                                                                                    Y_training[:, :2000],\n",
    "                                                                                    X_validation[:, :2000],\n",
    "                                                                                    Y_validation[:, :2000],\n",
    "                                                                                    [], [],\n",
    "                                                                                    GD_params,\n",
    "                                                                                    W1, b1, W2, b2,\n",
    "                                                                                    regularization_term=0,\n",
    "                                                                                    momentum_term=0.99)"
   ]
  },
  {
   "cell_type": "code",
   "execution_count": 37,
   "metadata": {},
   "outputs": [
    {
     "data": {
      "image/png": "[encoded data removed]",
      "text/plain": [
       "<Figure size 432x288 with 1 Axes>"
      ]
     },
     "metadata": {},
     "output_type": "display_data"
    },
    {
     "data": {
      "text/plain": [
       "<Figure size 432x288 with 0 Axes>"
      ]
     },
     "metadata": {},
     "output_type": "display_data"
    }
   ],
   "source": [
    "visualize_costs(training_set_loss, validation_set_loss, display=True, title='Cross Entropy Loss Evolution with momentum value: 0.99')"
   ]
  },
  {
   "cell_type": "code",
   "execution_count": 44,
   "metadata": {
    "collapsed": true
   },
   "outputs": [
    {
     "name": "stderr",
     "output_type": "stream",
     "text": [
      "\n",
      "  0%|          | 0/200 [00:00<?, ?it/s]\u001b[A\n",
      "  0%|          | 1/200 [00:00<00:25,  7.76it/s]\u001b[A\n",
      "  1%|          | 2/200 [00:00<00:25,  7.81it/s]\u001b[A\n",
      "  2%|▏         | 3/200 [00:00<00:25,  7.86it/s]\u001b[A\n",
      "  2%|▏         | 4/200 [00:00<00:24,  7.95it/s]\u001b[A\n",
      "  2%|▎         | 5/200 [00:00<00:24,  8.01it/s]\u001b[A\n",
      "  3%|▎         | 6/200 [00:00<00:24,  8.06it/s]\u001b[A\n",
      "  4%|▎         | 7/200 [00:00<00:23,  8.06it/s]\u001b[A\n",
      "  4%|▍         | 8/200 [00:00<00:23,  8.08it/s]\u001b[A\n",
      "  4%|▍         | 9/200 [00:01<00:23,  8.07it/s]\u001b[A\n",
      "  5%|▌         | 10/200 [00:01<00:23,  8.07it/s]\u001b[A\n",
      "  6%|▌         | 11/200 [00:01<00:23,  8.06it/s]\u001b[A\n",
      "  6%|▌         | 12/200 [00:01<00:23,  7.99it/s]\u001b[A\n",
      "  6%|▋         | 13/200 [00:01<00:23,  7.80it/s]\u001b[A\n",
      "  7%|▋         | 14/200 [00:01<00:24,  7.63it/s]\u001b[A\n",
      "  8%|▊         | 15/200 [00:02<00:24,  7.49it/s]\u001b[A\n",
      "  8%|▊         | 16/200 [00:02<00:24,  7.39it/s]\u001b[A\n",
      "  8%|▊         | 17/200 [00:02<00:25,  7.23it/s]\u001b[A\n",
      "  9%|▉         | 18/200 [00:02<00:25,  7.22it/s]\u001b[A\n",
      " 10%|▉         | 19/200 [00:02<00:25,  7.20it/s]\u001b[A\n",
      " 10%|█         | 20/200 [00:02<00:25,  7.13it/s]\u001b[A\n",
      " 10%|█         | 21/200 [00:02<00:25,  7.11it/s]\u001b[A\n",
      " 11%|█         | 22/200 [00:03<00:25,  7.04it/s]\u001b[A\n",
      " 12%|█▏        | 23/200 [00:03<00:25,  6.99it/s]\u001b[A\n",
      " 12%|█▏        | 24/200 [00:03<00:25,  6.95it/s]\u001b[A\n",
      " 12%|█▎        | 25/200 [00:03<00:25,  6.97it/s]\u001b[A\n",
      " 13%|█▎        | 26/200 [00:03<00:24,  7.01it/s]\u001b[A\n",
      " 14%|█▎        | 27/200 [00:03<00:24,  7.03it/s]\u001b[A\n",
      " 14%|█▍        | 28/200 [00:03<00:24,  7.05it/s]\u001b[A\n",
      " 14%|█▍        | 29/200 [00:04<00:24,  7.08it/s]\u001b[A\n",
      " 15%|█▌        | 30/200 [00:04<00:23,  7.11it/s]\u001b[A\n",
      " 16%|█▌        | 31/200 [00:04<00:23,  7.12it/s]\u001b[A\n",
      " 16%|█▌        | 32/200 [00:04<00:23,  7.09it/s]\u001b[A\n",
      " 16%|█▋        | 33/200 [00:04<00:23,  7.05it/s]\u001b[A\n",
      " 17%|█▋        | 34/200 [00:04<00:23,  7.08it/s]\u001b[A\n",
      " 18%|█▊        | 35/200 [00:04<00:23,  7.04it/s]\u001b[A\n",
      " 18%|█▊        | 36/200 [00:05<00:23,  7.06it/s]\u001b[A\n",
      " 18%|█▊        | 37/200 [00:05<00:23,  7.08it/s]\u001b[A\n",
      " 19%|█▉        | 38/200 [00:05<00:22,  7.10it/s]\u001b[A\n",
      " 20%|█▉        | 39/200 [00:05<00:22,  7.11it/s]\u001b[A\n",
      " 20%|██        | 40/200 [00:05<00:22,  7.07it/s]\u001b[A\n",
      " 20%|██        | 41/200 [00:05<00:22,  7.05it/s]\u001b[A\n",
      " 21%|██        | 42/200 [00:05<00:22,  7.02it/s]\u001b[A\n",
      " 22%|██▏       | 43/200 [00:06<00:22,  7.03it/s]\u001b[A\n",
      " 22%|██▏       | 44/200 [00:06<00:22,  7.05it/s]\u001b[A\n",
      " 22%|██▎       | 45/200 [00:06<00:21,  7.05it/s]\u001b[A\n",
      " 23%|██▎       | 46/200 [00:06<00:21,  7.03it/s]\u001b[A\n",
      " 24%|██▎       | 47/200 [00:06<00:21,  7.04it/s]\u001b[A\n",
      " 24%|██▍       | 48/200 [00:06<00:21,  7.05it/s]\u001b[A\n",
      " 24%|██▍       | 49/200 [00:06<00:21,  7.06it/s]\u001b[A\n",
      " 25%|██▌       | 50/200 [00:07<00:21,  7.04it/s]\u001b[A\n",
      " 26%|██▌       | 51/200 [00:07<00:21,  7.04it/s]\u001b[A\n",
      " 26%|██▌       | 52/200 [00:07<00:21,  7.04it/s]\u001b[A\n",
      " 26%|██▋       | 53/200 [00:07<00:20,  7.03it/s]\u001b[A\n",
      " 27%|██▋       | 54/200 [00:07<00:20,  7.02it/s]\u001b[A\n",
      " 28%|██▊       | 55/200 [00:07<00:20,  7.01it/s]\u001b[A\n",
      " 28%|██▊       | 56/200 [00:07<00:20,  7.02it/s]\u001b[A\n",
      " 28%|██▊       | 57/200 [00:08<00:20,  7.01it/s]\u001b[A\n",
      " 29%|██▉       | 58/200 [00:08<00:20,  7.01it/s]\u001b[A\n",
      " 30%|██▉       | 59/200 [00:08<00:20,  7.01it/s]\u001b[A\n",
      " 30%|███       | 60/200 [00:08<00:20,  6.99it/s]\u001b[A\n",
      " 30%|███       | 61/200 [00:08<00:19,  7.00it/s]\u001b[A\n",
      " 31%|███       | 62/200 [00:08<00:19,  7.00it/s]\u001b[A\n",
      " 32%|███▏      | 63/200 [00:09<00:19,  6.98it/s]\u001b[A\n",
      " 32%|███▏      | 64/200 [00:09<00:19,  6.98it/s]\u001b[A\n",
      " 32%|███▎      | 65/200 [00:09<00:19,  6.97it/s]\u001b[A\n",
      " 33%|███▎      | 66/200 [00:09<00:19,  6.95it/s]\u001b[A\n",
      " 34%|███▎      | 67/200 [00:09<00:19,  6.94it/s]\u001b[A\n",
      " 34%|███▍      | 68/200 [00:09<00:19,  6.93it/s]\u001b[A\n",
      " 34%|███▍      | 69/200 [00:09<00:18,  6.93it/s]\u001b[A\n",
      " 35%|███▌      | 70/200 [00:10<00:18,  6.94it/s]\u001b[A\n",
      " 36%|███▌      | 71/200 [00:10<00:18,  6.95it/s]\u001b[A\n",
      " 36%|███▌      | 72/200 [00:10<00:18,  6.93it/s]\u001b[A\n",
      " 36%|███▋      | 73/200 [00:10<00:18,  6.93it/s]\u001b[A\n",
      " 37%|███▋      | 74/200 [00:10<00:18,  6.91it/s]\u001b[A\n",
      " 38%|███▊      | 75/200 [00:10<00:18,  6.90it/s]\u001b[A\n",
      " 38%|███▊      | 76/200 [00:11<00:17,  6.91it/s]\u001b[A\n",
      " 38%|███▊      | 77/200 [00:11<00:17,  6.92it/s]\u001b[A\n",
      " 39%|███▉      | 78/200 [00:11<00:17,  6.93it/s]\u001b[A\n",
      " 40%|███▉      | 79/200 [00:11<00:17,  6.95it/s]\u001b[A\n",
      " 40%|████      | 80/200 [00:11<00:17,  6.96it/s]\u001b[A\n",
      " 40%|████      | 81/200 [00:11<00:17,  6.97it/s]\u001b[A\n",
      " 41%|████      | 82/200 [00:11<00:16,  6.98it/s]\u001b[A\n",
      " 42%|████▏     | 83/200 [00:11<00:16,  6.99it/s]\u001b[A\n",
      " 42%|████▏     | 84/200 [00:12<00:16,  7.00it/s]\u001b[A\n",
      " 42%|████▎     | 85/200 [00:12<00:16,  7.01it/s]\u001b[A\n",
      " 43%|████▎     | 86/200 [00:12<00:16,  7.01it/s]\u001b[A\n",
      " 44%|████▎     | 87/200 [00:12<00:16,  7.02it/s]\u001b[A\n",
      " 44%|████▍     | 88/200 [00:12<00:15,  7.03it/s]\u001b[A\n",
      " 44%|████▍     | 89/200 [00:12<00:15,  7.04it/s]\u001b[A\n",
      " 45%|████▌     | 90/200 [00:12<00:15,  7.04it/s]\u001b[A\n",
      " 46%|████▌     | 91/200 [00:12<00:15,  7.05it/s]\u001b[A\n",
      " 46%|████▌     | 92/200 [00:13<00:15,  7.06it/s]\u001b[A\n",
      " 46%|████▋     | 93/200 [00:13<00:15,  7.07it/s]\u001b[A\n",
      " 47%|████▋     | 94/200 [00:13<00:14,  7.08it/s]\u001b[A\n",
      " 48%|████▊     | 95/200 [00:13<00:14,  7.08it/s]\u001b[A\n",
      " 48%|████▊     | 96/200 [00:13<00:14,  7.09it/s]\u001b[A\n",
      " 48%|████▊     | 97/200 [00:13<00:14,  7.10it/s]\u001b[A\n",
      " 49%|████▉     | 98/200 [00:13<00:14,  7.10it/s]\u001b[A\n",
      " 50%|████▉     | 99/200 [00:13<00:14,  7.11it/s]\u001b[A\n",
      " 50%|█████     | 100/200 [00:14<00:14,  7.12it/s]\u001b[A\n",
      " 50%|█████     | 101/200 [00:14<00:13,  7.13it/s]\u001b[A\n",
      " 51%|█████     | 102/200 [00:14<00:13,  7.13it/s]\u001b[A\n",
      " 52%|█████▏    | 103/200 [00:14<00:13,  7.14it/s]\u001b[A\n",
      " 52%|█████▏    | 104/200 [00:14<00:13,  7.14it/s]\u001b[A\n",
      " 52%|█████▎    | 105/200 [00:14<00:13,  7.15it/s]\u001b[A\n",
      " 53%|█████▎    | 106/200 [00:14<00:13,  7.16it/s]\u001b[A\n",
      " 54%|█████▎    | 107/200 [00:14<00:12,  7.16it/s]\u001b[A\n",
      " 54%|█████▍    | 108/200 [00:15<00:12,  7.17it/s]\u001b[A\n",
      " 55%|█████▍    | 109/200 [00:15<00:12,  7.18it/s]\u001b[A\n",
      " 55%|█████▌    | 110/200 [00:15<00:12,  7.19it/s]\u001b[A\n",
      " 56%|█████▌    | 111/200 [00:15<00:12,  7.20it/s]\u001b[A\n",
      " 56%|█████▌    | 112/200 [00:15<00:12,  7.21it/s]\u001b[A\n",
      " 56%|█████▋    | 113/200 [00:15<00:12,  7.21it/s]\u001b[A\n",
      " 57%|█████▋    | 114/200 [00:15<00:11,  7.22it/s]\u001b[A\n",
      " 57%|█████▊    | 115/200 [00:15<00:11,  7.23it/s]\u001b[A\n",
      " 58%|█████▊    | 116/200 [00:16<00:11,  7.24it/s]\u001b[A\n",
      " 58%|█████▊    | 117/200 [00:16<00:11,  7.25it/s]\u001b[A\n",
      " 59%|█████▉    | 118/200 [00:16<00:11,  7.26it/s]\u001b[A\n",
      " 60%|█████▉    | 119/200 [00:16<00:11,  7.27it/s]\u001b[A\n",
      " 60%|██████    | 120/200 [00:16<00:10,  7.28it/s]\u001b[A\n",
      " 60%|██████    | 121/200 [00:16<00:10,  7.29it/s]\u001b[A\n",
      " 61%|██████    | 122/200 [00:16<00:10,  7.30it/s]\u001b[A\n",
      " 62%|██████▏   | 123/200 [00:16<00:10,  7.30it/s]\u001b[A\n",
      " 62%|██████▏   | 124/200 [00:16<00:10,  7.31it/s]\u001b[A\n",
      " 62%|██████▎   | 125/200 [00:17<00:10,  7.32it/s]\u001b[A\n",
      " 63%|██████▎   | 126/200 [00:17<00:10,  7.33it/s]\u001b[A\n",
      " 64%|██████▎   | 127/200 [00:17<00:09,  7.33it/s]\u001b[A\n",
      " 64%|██████▍   | 128/200 [00:17<00:09,  7.34it/s]\u001b[A\n",
      " 64%|██████▍   | 129/200 [00:17<00:09,  7.35it/s]\u001b[A\n",
      " 65%|██████▌   | 130/200 [00:17<00:09,  7.36it/s]\u001b[A\n",
      " 66%|██████▌   | 131/200 [00:17<00:09,  7.36it/s]\u001b[A\n",
      " 66%|██████▌   | 132/200 [00:17<00:09,  7.37it/s]\u001b[A\n",
      " 66%|██████▋   | 133/200 [00:18<00:09,  7.38it/s]\u001b[A\n",
      " 67%|██████▋   | 134/200 [00:18<00:08,  7.38it/s]\u001b[A\n",
      " 68%|██████▊   | 135/200 [00:18<00:08,  7.39it/s]\u001b[A\n",
      " 68%|██████▊   | 136/200 [00:18<00:08,  7.39it/s]\u001b[A\n",
      " 68%|██████▊   | 137/200 [00:18<00:08,  7.40it/s]\u001b[A\n",
      " 69%|██████▉   | 138/200 [00:18<00:08,  7.41it/s]\u001b[A\n",
      " 70%|██████▉   | 139/200 [00:18<00:08,  7.41it/s]\u001b[A\n",
      " 70%|███████   | 140/200 [00:18<00:08,  7.42it/s]\u001b[A\n",
      " 70%|███████   | 141/200 [00:18<00:07,  7.43it/s]\u001b[A\n",
      " 71%|███████   | 142/200 [00:19<00:07,  7.43it/s]\u001b[A\n",
      " 72%|███████▏  | 143/200 [00:19<00:07,  7.44it/s]\u001b[A\n",
      " 72%|███████▏  | 144/200 [00:19<00:07,  7.44it/s]\u001b[A\n",
      " 72%|███████▎  | 145/200 [00:19<00:07,  7.45it/s]\u001b[A\n",
      " 73%|███████▎  | 146/200 [00:19<00:07,  7.46it/s]\u001b[A\n",
      " 74%|███████▎  | 147/200 [00:19<00:07,  7.46it/s]\u001b[A\n",
      " 74%|███████▍  | 148/200 [00:19<00:06,  7.47it/s]\u001b[A\n",
      " 74%|███████▍  | 149/200 [00:19<00:06,  7.47it/s]\u001b[A\n",
      " 75%|███████▌  | 150/200 [00:20<00:06,  7.48it/s]\u001b[A\n",
      " 76%|███████▌  | 151/200 [00:20<00:06,  7.48it/s]\u001b[A\n",
      " 76%|███████▌  | 152/200 [00:20<00:06,  7.49it/s]\u001b[A\n",
      " 76%|███████▋  | 153/200 [00:20<00:06,  7.49it/s]\u001b[A\n",
      " 77%|███████▋  | 154/200 [00:20<00:06,  7.50it/s]\u001b[A\n",
      " 78%|███████▊  | 155/200 [00:20<00:05,  7.50it/s]\u001b[A\n",
      " 78%|███████▊  | 156/200 [00:20<00:05,  7.51it/s]\u001b[A\n",
      " 78%|███████▊  | 157/200 [00:20<00:05,  7.51it/s]\u001b[A\n",
      " 79%|███████▉  | 158/200 [00:21<00:05,  7.52it/s]\u001b[A\n",
      " 80%|███████▉  | 159/200 [00:21<00:05,  7.52it/s]\u001b[A\n",
      " 80%|████████  | 160/200 [00:21<00:05,  7.53it/s]\u001b[A\n",
      " 80%|████████  | 161/200 [00:21<00:05,  7.54it/s]\u001b[A\n",
      " 81%|████████  | 162/200 [00:21<00:05,  7.54it/s]\u001b[A\n",
      " 82%|████████▏ | 163/200 [00:21<00:04,  7.55it/s]\u001b[A\n",
      " 82%|████████▏ | 164/200 [00:21<00:04,  7.55it/s]\u001b[A\n",
      " 82%|████████▎ | 165/200 [00:21<00:04,  7.56it/s]\u001b[A\n",
      " 83%|████████▎ | 166/200 [00:21<00:04,  7.56it/s]\u001b[A\n",
      " 84%|████████▎ | 167/200 [00:22<00:04,  7.57it/s]\u001b[A\n",
      " 84%|████████▍ | 168/200 [00:22<00:04,  7.58it/s]\u001b[A\n",
      " 84%|████████▍ | 169/200 [00:22<00:04,  7.58it/s]\u001b[A\n",
      " 85%|████████▌ | 170/200 [00:22<00:03,  7.59it/s]\u001b[A\n",
      " 86%|████████▌ | 171/200 [00:22<00:03,  7.59it/s]\u001b[A\n",
      " 86%|████████▌ | 172/200 [00:22<00:03,  7.60it/s]\u001b[A\n",
      " 86%|████████▋ | 173/200 [00:22<00:03,  7.60it/s]\u001b[A\n",
      " 87%|████████▋ | 174/200 [00:22<00:03,  7.61it/s]\u001b[A\n",
      " 88%|████████▊ | 175/200 [00:22<00:03,  7.61it/s]\u001b[A\n",
      " 88%|████████▊ | 176/200 [00:23<00:03,  7.62it/s]\u001b[A\n",
      " 88%|████████▊ | 177/200 [00:23<00:03,  7.62it/s]\u001b[A\n",
      " 89%|████████▉ | 178/200 [00:23<00:02,  7.63it/s]\u001b[A\n",
      " 90%|████████▉ | 179/200 [00:23<00:02,  7.63it/s]\u001b[A\n",
      " 90%|█████████ | 180/200 [00:23<00:02,  7.64it/s]\u001b[A\n",
      " 90%|█████████ | 181/200 [00:23<00:02,  7.64it/s]\u001b[A\n",
      " 91%|█████████ | 182/200 [00:23<00:02,  7.65it/s]\u001b[A\n",
      " 92%|█████████▏| 183/200 [00:23<00:02,  7.65it/s]\u001b[A\n",
      " 92%|█████████▏| 184/200 [00:24<00:02,  7.66it/s]\u001b[A\n",
      " 92%|█████████▎| 185/200 [00:24<00:01,  7.66it/s]\u001b[A\n",
      " 93%|█████████▎| 186/200 [00:24<00:01,  7.66it/s]\u001b[A\n",
      " 94%|█████████▎| 187/200 [00:24<00:01,  7.67it/s]\u001b[A\n",
      " 94%|█████████▍| 188/200 [00:24<00:01,  7.67it/s]\u001b[A\n",
      " 94%|█████████▍| 189/200 [00:24<00:01,  7.68it/s]\u001b[A\n",
      " 95%|█████████▌| 190/200 [00:24<00:01,  7.68it/s]\u001b[A\n",
      " 96%|█████████▌| 191/200 [00:24<00:01,  7.69it/s]\u001b[A\n",
      " 96%|█████████▌| 192/200 [00:24<00:01,  7.69it/s]\u001b[A\n",
      " 96%|█████████▋| 193/200 [00:25<00:00,  7.70it/s]\u001b[A\n",
      " 97%|█████████▋| 194/200 [00:25<00:00,  7.70it/s]\u001b[A\n",
      " 98%|█████████▊| 195/200 [00:25<00:00,  7.70it/s]\u001b[A\n",
      " 98%|█████████▊| 196/200 [00:25<00:00,  7.71it/s]\u001b[A\n",
      " 98%|█████████▊| 197/200 [00:25<00:00,  7.71it/s]\u001b[A\n",
      " 99%|█████████▉| 198/200 [00:25<00:00,  7.72it/s]\u001b[A\n",
      "100%|█████████▉| 199/200 [00:25<00:00,  7.72it/s]\u001b[A\n",
      "100%|██████████| 200/200 [00:25<00:00,  7.72it/s]\u001b[A\n",
      "\u001b[A"
     ]
    }
   ],
   "source": [
    "W1, b1, W2, b2 = initialize_weights(d=X_training.shape[0], m=50, K=Y_training.shape[0])\n",
    "\n",
    "W1, b1, W2, b2, training_set_loss, validation_set_loss = MiniBatchGDwithMomentum(   X_training[:, :2000],\n",
    "                                                                                    Y_training[:, :2000],\n",
    "                                                                                    X_validation[:, :2000],\n",
    "                                                                                    Y_validation[:, :2000],\n",
    "                                                                                    [], [],\n",
    "                                                                                    GD_params,\n",
    "                                                                                    W1, b1, W2, b2,\n",
    "                                                                                    regularization_term=0,\n",
    "                                                                                    momentum_term=0.9)"
   ]
  },
  {
   "cell_type": "code",
   "execution_count": 45,
   "metadata": {},
   "outputs": [
    {
     "data": {
      "image/png": "[encoded data removed]",
      "text/plain": [
       "<Figure size 432x288 with 1 Axes>"
      ]
     },
     "metadata": {},
     "output_type": "display_data"
    },
    {
     "data": {
      "text/plain": [
       "<Figure size 432x288 with 0 Axes>"
      ]
     },
     "metadata": {},
     "output_type": "display_data"
    }
   ],
   "source": [
    "visualize_costs(training_set_loss, validation_set_loss, display=True, title='Cross Entropy Loss Evolution with momentum value: 0.9')"
   ]
  },
  {
   "cell_type": "code",
   "execution_count": 46,
   "metadata": {
    "collapsed": true
   },
   "outputs": [
    {
     "name": "stderr",
     "output_type": "stream",
     "text": [
      "\n",
      "  0%|          | 0/200 [00:00<?, ?it/s]\u001b[A\n",
      "  2%|▏         | 4/200 [00:00<00:05, 37.19it/s]\u001b[A\n",
      "  4%|▍         | 8/200 [00:00<00:05, 37.51it/s]\u001b[A\n",
      "  6%|▌         | 12/200 [00:00<00:05, 37.55it/s]\u001b[A\n",
      "  8%|▊         | 16/200 [00:00<00:04, 37.75it/s]\u001b[A\n",
      " 10%|█         | 20/200 [00:00<00:04, 37.94it/s]\u001b[A\n",
      " 12%|█▏        | 24/200 [00:00<00:04, 38.20it/s]\u001b[A\n",
      " 14%|█▍        | 28/200 [00:00<00:04, 38.40it/s]\u001b[A\n",
      " 16%|█▌        | 32/200 [00:00<00:04, 38.53it/s]\u001b[A\n",
      " 18%|█▊        | 36/200 [00:00<00:04, 38.65it/s]\u001b[A\n",
      " 20%|██        | 40/200 [00:01<00:04, 38.78it/s]\u001b[A\n",
      " 22%|██▏       | 44/200 [00:01<00:04, 38.56it/s]\u001b[A\n",
      " 24%|██▍       | 48/200 [00:01<00:04, 37.81it/s]\u001b[A\n",
      " 26%|██▌       | 52/200 [00:01<00:03, 37.07it/s]\u001b[A\n",
      " 28%|██▊       | 56/200 [00:01<00:03, 36.58it/s]\u001b[A\n",
      " 30%|███       | 60/200 [00:01<00:03, 36.01it/s]\u001b[A\n",
      " 32%|███▏      | 64/200 [00:01<00:03, 36.06it/s]\u001b[A\n",
      " 34%|███▍      | 68/200 [00:01<00:03, 36.17it/s]\u001b[A\n",
      " 36%|███▌      | 72/200 [00:01<00:03, 36.27it/s]\u001b[A\n",
      " 38%|███▊      | 76/200 [00:02<00:03, 35.96it/s]\u001b[A\n",
      " 40%|████      | 80/200 [00:02<00:03, 36.05it/s]\u001b[A\n",
      " 42%|████▏     | 84/200 [00:02<00:03, 36.21it/s]\u001b[A\n",
      " 44%|████▍     | 88/200 [00:02<00:03, 36.33it/s]\u001b[A\n",
      " 46%|████▌     | 92/200 [00:02<00:02, 36.36it/s]\u001b[A\n",
      " 48%|████▊     | 96/200 [00:02<00:02, 36.41it/s]\u001b[A\n",
      " 50%|█████     | 101/200 [00:02<00:02, 36.60it/s]\u001b[A\n",
      " 52%|█████▎    | 105/200 [00:02<00:02, 36.68it/s]\u001b[A\n",
      " 55%|█████▍    | 109/200 [00:02<00:02, 36.78it/s]\u001b[A\n",
      " 56%|█████▋    | 113/200 [00:03<00:02, 36.86it/s]\u001b[A\n",
      " 58%|█████▊    | 117/200 [00:03<00:02, 36.91it/s]\u001b[A\n",
      " 60%|██████    | 121/200 [00:03<00:02, 36.99it/s]\u001b[A\n",
      " 62%|██████▎   | 125/200 [00:03<00:02, 37.05it/s]\u001b[A\n",
      " 64%|██████▍   | 129/200 [00:03<00:01, 37.10it/s]\u001b[A\n",
      " 66%|██████▋   | 133/200 [00:03<00:01, 37.16it/s]\u001b[A\n",
      " 68%|██████▊   | 137/200 [00:03<00:01, 37.22it/s]\u001b[A\n",
      " 70%|███████   | 141/200 [00:03<00:01, 37.12it/s]\u001b[A\n",
      " 72%|███████▎  | 145/200 [00:03<00:01, 36.90it/s]\u001b[A\n",
      " 74%|███████▍  | 149/200 [00:04<00:01, 36.68it/s]\u001b[A\n",
      " 76%|███████▋  | 153/200 [00:04<00:01, 36.47it/s]\u001b[A\n",
      " 78%|███████▊  | 157/200 [00:04<00:01, 36.52it/s]\u001b[A\n",
      " 80%|████████  | 161/200 [00:04<00:01, 36.39it/s]\u001b[A\n",
      " 82%|████████▎ | 165/200 [00:04<00:00, 36.25it/s]\u001b[A\n",
      " 84%|████████▍ | 169/200 [00:04<00:00, 36.31it/s]\u001b[A\n",
      " 86%|████████▋ | 173/200 [00:04<00:00, 36.35it/s]\u001b[A\n",
      " 88%|████████▊ | 177/200 [00:04<00:00, 36.40it/s]\u001b[A\n",
      " 90%|█████████ | 181/200 [00:04<00:00, 36.39it/s]\u001b[A\n",
      " 92%|█████████▎| 185/200 [00:05<00:00, 36.35it/s]\u001b[A\n",
      " 94%|█████████▍| 189/200 [00:05<00:00, 36.32it/s]\u001b[A\n",
      " 96%|█████████▋| 193/200 [00:05<00:00, 36.32it/s]\u001b[A\n",
      " 98%|█████████▊| 197/200 [00:05<00:00, 36.34it/s]\u001b[A\n",
      "100%|██████████| 200/200 [00:05<00:00, 36.37it/s]\u001b[A"
     ]
    }
   ],
   "source": [
    "W1, b1, W2, b2 = initialize_weights(d=X_training.shape[0], m=50, K=Y_training.shape[0])\n",
    "\n",
    "W1, b1, W2, b2, training_set_loss, validation_set_loss = MiniBatchGDwithMomentum(   X_training[:, :500],\n",
    "                                                                                    Y_training[:, :500],\n",
    "                                                                                    X_validation[:, :500],\n",
    "                                                                                    Y_validation[:, :500],\n",
    "                                                                                    [], [],\n",
    "                                                                                    GD_params,\n",
    "                                                                                    W1, b1, W2, b2,\n",
    "                                                                                    regularization_term=0,\n",
    "                                                                                    momentum_term=0.)"
   ]
  },
  {
   "cell_type": "code",
   "execution_count": 47,
   "metadata": {},
   "outputs": [
    {
     "data": {
      "image/png": "[encoded data removed]",
      "text/plain": [
       "<Figure size 432x288 with 1 Axes>"
      ]
     },
     "metadata": {},
     "output_type": "display_data"
    },
    {
     "data": {
      "text/plain": [
       "<Figure size 432x288 with 0 Axes>"
      ]
     },
     "metadata": {},
     "output_type": "display_data"
    }
   ],
   "source": [
    "visualize_costs(training_set_loss, validation_set_loss, display=True, title='Cross Entropy Loss Evolution with momentum value: 0.5', save_name='3_momentum_0-5', save_path='../figures')"
   ]
  },
  {
   "cell_type": "markdown",
   "metadata": {},
   "source": [
    "#### Exercise 4: Training your network"
   ]
  },
  {
   "cell_type": "code",
   "execution_count": 31,
   "metadata": {},
   "outputs": [],
   "source": [
    "    def random_search():\n",
    "        \"\"\"\n",
    "        Random search to estimate the rough bounds for the values to eta to look for later in the coarse search.\n",
    "\n",
    "        :return:\n",
    "        \"\"\"\n",
    "\n",
    "        training_data, validation_data, test_data, W1, b1, W2, b2 = exercise_1()\n",
    "        X_training, Y_training, y_training = training_data\n",
    "        X_validation, Y_validation, y_validation = validation_data\n",
    "\n",
    "        for eta in [0.00001, 0.00005, 0.0001, 0.0005, 0.001, 0.005, 0.01, 0.05, 0.1]:\n",
    "\n",
    "            print('-----------------------')\n",
    "            print('eta: ', eta)\n",
    "\n",
    "            GD_params = [100, eta, 5]\n",
    "\n",
    "            W1, b1, W2, b2, training_set_loss, validation_set_loss = MiniBatchGDwithMomentum(X_training,\n",
    "                                                                                             Y_training,\n",
    "                                                                                             X_validation,\n",
    "                                                                                             Y_validation,\n",
    "                                                                                             GD_params,\n",
    "                                                                                             W1, b1, W2, b2,\n",
    "                                                                                             regularization_term=0.000001,\n",
    "                                                                                             momentum_term=0.9)\n",
    "\n",
    "            W1, b1, W2, b2 = initialize_weights(d=X_training.shape[0], m=50, K=Y_training.shape[0])\n",
    "\n",
    "#             visualize_single_cost(training_set_loss, display=False, title='Training set loss evolution for eta: '+str(eta), save_name='Eta_random_'+str(eta).replace('.', '-'))\n",
    "\n",
    "        for eta in np.arange(0.2, 0.5, 0.05):\n",
    "\n",
    "            print('-----------------------')\n",
    "            print('eta: ', eta)\n",
    "\n",
    "            GD_params = [100, eta, 5]\n",
    "\n",
    "            W1, b1, W2, b2, training_set_loss, validation_set_loss = MiniBatchGDwithMomentum(X_training,\n",
    "                                                                                             Y_training,\n",
    "                                                                                             X_validation,\n",
    "                                                                                             Y_validation,\n",
    "                                                                                             GD_params,\n",
    "                                                                                             W1, b1, W2, b2,\n",
    "                                                                                             regularization_term=0.000001,\n",
    "                                                                                             momentum_term=0.9)\n",
    "\n",
    "            W1, b1, W2, b2 = initialize_weights(d=X_training.shape[0], m=50, K=Y_training.shape[0])\n",
    "\n",
    "#             visualize_single_cost(training_set_loss, display=False, title='Training set loss evolution for eta: '+str(eta), save_name='Eta_random_'+str(eta).replace('.', '-'))"
   ]
  },
  {
   "cell_type": "code",
   "execution_count": 32,
   "metadata": {
    "collapsed": true
   },
   "outputs": [
    {
     "name": "stdout",
     "output_type": "stream",
     "text": [
      "-----------------------\n",
      "eta:  1e-05\n",
      "Training set loss after epoch number 0 is: 2.3025848506920643\n",
      "Training set loss after epoch number 1 is: 2.302583841443368\n",
      "Training set loss after epoch number 2 is: 2.3025828840707727\n",
      "Training set loss after epoch number 3 is: 2.3025819761862096\n",
      "Training set loss after epoch number 4 is: 2.3025811148946467\n",
      "-----------------------\n",
      "eta:  5e-05\n",
      "Training set loss after epoch number 0 is: 2.302581166802597\n",
      "Training set loss after epoch number 1 is: 2.3025761599923698\n",
      "Training set loss after epoch number 2 is: 2.3025714319240826\n",
      "Training set loss after epoch number 3 is: 2.302566964345669\n",
      "Training set loss after epoch number 4 is: 2.3025627410959992\n",
      "-----------------------\n",
      "eta:  0.0001\n",
      "Training set loss after epoch number 0 is: 2.30257658291642\n",
      "Training set loss after epoch number 1 is: 2.302566649200436\n",
      "Training set loss after epoch number 2 is: 2.3025573099186\n",
      "Training set loss after epoch number 3 is: 2.302548512635035\n",
      "Training set loss after epoch number 4 is: 2.3025401957678024\n",
      "-----------------------\n",
      "eta:  0.0005\n",
      "Training set loss after epoch number 0 is: 2.302540587592968\n",
      "Training set loss after epoch number 1 is: 2.302491988907828\n",
      "Training set loss after epoch number 2 is: 2.3024428255480847\n",
      "Training set loss after epoch number 3 is: 2.3023886927860806\n",
      "Training set loss after epoch number 4 is: 2.3023246072972063\n",
      "-----------------------\n",
      "eta:  0.001\n",
      "Training set loss after epoch number 0 is: 2.3024961118640817\n",
      "Training set loss after epoch number 1 is: 2.302385974069006\n",
      "Training set loss after epoch number 2 is: 2.3022182701771743\n",
      "Training set loss after epoch number 3 is: 2.301887819606671\n",
      "Training set loss after epoch number 4 is: 2.3011638049174845\n",
      "-----------------------\n",
      "eta:  0.005\n",
      "Training set loss after epoch number 0 is: 2.3016173556298125\n",
      "Training set loss after epoch number 1 is: 2.2550413596396766\n",
      "Training set loss after epoch number 2 is: 2.1146773986603358\n",
      "Training set loss after epoch number 3 is: 2.017094492085483\n",
      "Training set loss after epoch number 4 is: 1.9535316378904555\n",
      "-----------------------\n",
      "eta:  0.01\n",
      "Training set loss after epoch number 0 is: 2.2827034244596045\n",
      "Training set loss after epoch number 1 is: 2.0367023475847756\n",
      "Training set loss after epoch number 2 is: 1.9087574123414015\n",
      "Training set loss after epoch number 3 is: 1.8115696768818903\n",
      "Training set loss after epoch number 4 is: 1.746466464568492\n",
      "-----------------------\n",
      "eta:  0.05\n",
      "Training set loss after epoch number 0 is: 1.8631283357230615\n",
      "Training set loss after epoch number 1 is: 1.6802545089198524\n",
      "Training set loss after epoch number 2 is: 1.5561225480297545\n",
      "Training set loss after epoch number 3 is: 1.48447438398465\n",
      "Training set loss after epoch number 4 is: 1.3948883159995926\n",
      "-----------------------\n",
      "eta:  0.1\n",
      "Training set loss after epoch number 0 is: 1.7809084849468708\n",
      "Training set loss after epoch number 1 is: 1.647158691489011\n",
      "Training set loss after epoch number 2 is: 1.576782693391572\n",
      "Training set loss after epoch number 3 is: 1.5048117377048429\n",
      "Training set loss after epoch number 4 is: 1.4282937238930191\n",
      "-----------------------\n",
      "eta:  0.2\n",
      "Training set loss after epoch number 0 is: 1.896857875221071\n",
      "Training set loss after epoch number 1 is: 1.8297946613480636\n",
      "Training set loss after epoch number 2 is: 1.8206863209161308\n",
      "Training set loss after epoch number 3 is: 1.7364877149056364\n",
      "Training set loss after epoch number 4 is: 1.6740169282547976\n",
      "-----------------------\n",
      "eta:  0.25\n",
      "Training set loss after epoch number 0 is: 2.1669436732078977\n",
      "Training set loss after epoch number 1 is: 2.1036145243458817\n",
      "Training set loss after epoch number 2 is: 1.8602258627275428\n",
      "Training set loss after epoch number 3 is: 1.8931909598326608\n",
      "Training set loss after epoch number 4 is: 1.7214404964776455\n",
      "-----------------------\n",
      "eta:  0.3\n",
      "Training set loss after epoch number 0 is: 3.8002923593685707\n",
      "Training set loss after epoch number 1 is: 2.373464657161541\n",
      "Training set loss after epoch number 2 is: 2.0204059748019203\n",
      "Training set loss after epoch number 3 is: 1.9318048338288314\n",
      "Training set loss after epoch number 4 is: 1.9017615995219335\n",
      "-----------------------\n",
      "eta:  0.35\n",
      "Training set loss after epoch number 0 is: 7.4996254964050575\n",
      "-----------------------\n",
      "eta:  0.39999999999999997\n"
     ]
    },
    {
     "name": "stderr",
     "output_type": "stream",
     "text": [
      "/usr/local/lib/python3.6/site-packages/ipykernel_launcher.py:17: RuntimeWarning: divide by zero encountered in log\n"
     ]
    },
    {
     "name": "stdout",
     "output_type": "stream",
     "text": [
      "Training set loss after epoch number 0 is: inf\n",
      "-----------------------\n",
      "eta:  0.44999999999999996\n",
      "Training set loss after epoch number 0 is: inf\n"
     ]
    }
   ],
   "source": [
    "random_search()"
   ]
  },
  {
   "cell_type": "code",
   "execution_count": 38,
   "metadata": {},
   "outputs": [],
   "source": [
    "def coarse_search(e_min= np.log(0.01), e_max=np.log(0.15)):\n",
    "    \"\"\"\n",
    "    First step of coarse search, optimal value for the learning rate may be found between 0.01 and 0.15\n",
    "\n",
    "    :return: Best pair of eta and lambda based on validation set accuracy performance\n",
    "    \"\"\"\n",
    "\n",
    "    training_data, validation_data, test_data, W1, b1, W2, b2 = exercise_1()\n",
    "    X_training, Y_training, y_training = training_data\n",
    "    X_validation, Y_validation, y_validation = validation_data\n",
    "\n",
    "    accuracies = []\n",
    "    etas = []\n",
    "    lambdas = []\n",
    "\n",
    "    for regularization_term in [0, 1e-6, 1e-5, 1e-4, 1e-3, 1e-3, 1e-1, 1]:\n",
    "\n",
    "        for _ in range(12):\n",
    "            np.random.seed()\n",
    "            eta_term = np.random.rand(1, 1).flatten()[0]\n",
    "            e = e_min + (e_max - e_min) * eta_term\n",
    "            eta = np.exp(e)\n",
    "            etas.append(eta)\n",
    "\n",
    "            lambdas.append(regularization_term)\n",
    "\n",
    "            GD_params = [100, eta, 10]\n",
    "\n",
    "            W1, b1, W2, b2, training_set_loss, validation_set_loss = MiniBatchGDwithMomentum(X_training,\n",
    "                                                                                             Y_training,\n",
    "                                                                                             X_validation,\n",
    "                                                                                             Y_validation,\n",
    "                                                                                             GD_params,\n",
    "                                                                                             W1, b1, W2, b2,\n",
    "                                                                                             regularization_term=regularization_term)\n",
    "            print('---------------------------------')\n",
    "            print('Learning rate: '+str(eta)+', amount of regularization term: '+str(regularization_term))\n",
    "            accuracy_on_validation_set = ComputeAccuracy(X_validation, y_validation, W1, b1, W2, b2)\n",
    "            accuracies.append(accuracy_on_validation_set)\n",
    "            print('Accuracy performance on the validation set: ', accuracy_on_validation_set)\n",
    "\n",
    "            W1, b1, W2, b2 = initialize_weights(d=X_training.shape[0], m=50, K=Y_training.shape[0])\n",
    "\n",
    "    sort_them_all = sorted(zip(accuracies, etas, lambdas))\n",
    "\n",
    "    best_accuracies = [x for x, _ , _ in sort_them_all]\n",
    "    best_etas = [y for _, y , _ in sort_them_all]\n",
    "    best_lambdas = [z for _, _ , z in sort_them_all]\n",
    "\n",
    "    print('---------------------------------')\n",
    "    print('BEST PERFORMANCE: ', str(best_accuracies[-1]))\n",
    "    print('Best eta: ', best_etas[-1])\n",
    "    print('Best lambda: ', best_lambdas[-1])\n",
    "\n",
    "    print('---------------------------------')\n",
    "    print('SECOND BEST PERFORMANCE: ', str(best_accuracies[-2]))\n",
    "    print('Second best eta: ', best_etas[-2])\n",
    "    print('Second best lambda: ', best_lambdas[-2])\n",
    "\n",
    "    print('---------------------------------')\n",
    "    print('THIRD BEST PERFORMANCE: ', str(best_accuracies[-3]))\n",
    "    print('Third best eta: ', best_etas[-3])\n",
    "    print('Third best lambda: ', best_lambdas[-3])"
   ]
  },
  {
   "cell_type": "code",
   "execution_count": null,
   "metadata": {},
   "outputs": [
    {
     "name": "stdout",
     "output_type": "stream",
     "text": [
      "---------------------------------\n",
      "Learning rate: 0.01682656011091022, amount of regularization term: 0\n",
      "Accuracy performance on the validation set:  42.83\n"
     ]
    }
   ],
   "source": [
    "coarse_search()"
   ]
  },
  {
   "cell_type": "code",
   "execution_count": null,
   "metadata": {},
   "outputs": [],
   "source": []
  }
 ],
 "metadata": {
  "kernelspec": {
   "display_name": "Python 3",
   "language": "python",
   "name": "python3"
  },
  "language_info": {
   "codemirror_mode": {
    "name": "ipython",
    "version": 3
   },
   "file_extension": ".py",
   "mimetype": "text/x-python",
   "name": "python",
   "nbconvert_exporter": "python",
   "pygments_lexer": "ipython3",
   "version": "3.6.5"
  }
 },
 "nbformat": 4,
 "nbformat_minor": 2
}
