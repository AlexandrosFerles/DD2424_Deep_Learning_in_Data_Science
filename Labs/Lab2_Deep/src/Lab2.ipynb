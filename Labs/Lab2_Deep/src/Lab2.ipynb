{
 "cells": [
  {
   "cell_type": "markdown",
   "metadata": {},
   "source": [
    "### Imports"
   ]
  },
  {
   "cell_type": "code",
   "execution_count": 3,
   "metadata": {},
   "outputs": [
    {
     "name": "stderr",
     "output_type": "stream",
     "text": [
      "Using TensorFlow backend.\n"
     ]
    }
   ],
   "source": [
    "import numpy as np\n",
    "from matplotlib import pyplot as plt\n",
    "from keras.utils import to_categorical as make_class_categorical\n",
    "import _pickle as pickle\n",
    "from tqdm import tqdm\n",
    "import pdb"
   ]
  },
  {
   "cell_type": "markdown",
   "metadata": {},
   "source": [
    "### Assignment 2 functions"
   ]
  },
  {
   "cell_type": "markdown",
   "metadata": {},
   "source": [
    "#### Initialize weights"
   ]
  },
  {
   "cell_type": "code",
   "execution_count": 47,
   "metadata": {},
   "outputs": [],
   "source": [
    "def initialize_weights(d=3072, m=50, K=10, std=0.001):\n",
    "    \"\"\"\n",
    "    Initializes the weight and bias arrays for the 2 layers of the network\n",
    "\n",
    "    :param d: Dimensionality of the input data\n",
    "    :param m: Number of nodes in the first layer\n",
    "    :param K: Number of different classes (K=10 for the CIFAR-10 dataset)\n",
    "    :param variance (optional): The variance of the normal distribution that will be used for the initialization of the weights\n",
    "\n",
    "    :return: Weights and bias arrays for the first and second layer of the neural network\n",
    "    \"\"\"\n",
    "\n",
    "    np.random.seed(400)\n",
    "\n",
    "    W1 = np.random.normal(0, std, size=(m, d))\n",
    "    b1 = np.zeros(shape=(m, 1))\n",
    "\n",
    "    W2 = np.random.normal(0, std, size=(K, m))\n",
    "    b2 = np.zeros(shape=(K, 1))\n",
    "\n",
    "    return W1, b1, W2, b2"
   ]
  },
  {
   "cell_type": "code",
   "execution_count": 46,
   "metadata": {},
   "outputs": [],
   "source": [
    "def he_initialization(d=3072, m=50, K=10):\n",
    "    \"\"\"\n",
    "    He initialization on the weight matrices.\n",
    "\n",
    "    :param d: Dimensionality of input data.\n",
    "    :param m: Number of nodes in the hidden layer.\n",
    "    :param K: Number of classes.\n",
    "\n",
    "    :return: Initialized weight and bias matrices based on He initialization of the weights.\n",
    "    \"\"\"\n",
    "    np.random.seed(400)\n",
    "\n",
    "    W1 = np.random.randn(m, d) * np.sqrt(2 / float(m))\n",
    "    W2 = np.random.randn(K, m) * np.sqrt(2 / float(K))\n",
    "\n",
    "    b1 = np.zeros(shape=(m, 1))\n",
    "    b2 = np.zeros(shape=(K, 1))\n",
    "\n",
    "    return W1, b1, W2, b2"
   ]
  },
  {
   "cell_type": "markdown",
   "metadata": {},
   "source": [
    "#### Load Batch"
   ]
  },
  {
   "cell_type": "code",
   "execution_count": 5,
   "metadata": {},
   "outputs": [],
   "source": [
    "def LoadBatch(filename):\n",
    "    \"\"\"\n",
    "    Loads batch based on the given filename and produces the X, Y, and y arrays\n",
    "\n",
    "    :param filename: Path of the file\n",
    "    :return: X, Y and y arrays\n",
    "    \"\"\"\n",
    "\n",
    "    # borrowed from https://www.cs.toronto.edu/~kriz/cifar.html\n",
    "    def unpickle(file):\n",
    "        with open(file, 'rb') as fo:\n",
    "            dict = pickle.load(fo, encoding='bytes')\n",
    "        return dict\n",
    "\n",
    "    dictionary = unpickle(filename)\n",
    "\n",
    "    # borrowed from https://stackoverflow.com/questions/16977385/extract-the-nth-key-in-a-python-dictionary?utm_medium=organic&utm_source=google_rich_qa&utm_campaign=google_rich_qa\n",
    "    def ix(dic, n):  # don't use dict as  a variable name\n",
    "        try:\n",
    "            return list(dic)[n]  # or sorted(dic)[n] if you want the keys to be sorted\n",
    "        except IndexError:\n",
    "            print('not enough keys')\n",
    "\n",
    "    garbage = ix(dictionary, 1)\n",
    "    y = dictionary[garbage]\n",
    "    Y = np.transpose(make_class_categorical(y, 10))\n",
    "    garbage = ix(dictionary, 2)\n",
    "    X = np.transpose(dictionary[garbage]) / 255\n",
    "\n",
    "    return X, Y, y"
   ]
  },
  {
   "cell_type": "markdown",
   "metadata": {},
   "source": [
    "#### ReLU's"
   ]
  },
  {
   "cell_type": "code",
   "execution_count": 6,
   "metadata": {},
   "outputs": [],
   "source": [
    "def ReLU(x):\n",
    "    \"\"\"\n",
    "    Rectified Linear Unit function\n",
    "\n",
    "    :param x: Input to the function\n",
    "\n",
    "    :return: Output of ReLU(x)\n",
    "    \"\"\"\n",
    "\n",
    "    return np.maximum(x, 0)"
   ]
  },
  {
   "cell_type": "code",
   "execution_count": 62,
   "metadata": {},
   "outputs": [],
   "source": [
    "def Leaky_ReLU(x):\n",
    "    \"\"\"\n",
    "    Leaky Rectified Linear Unit function\n",
    "\n",
    "    :param x: Input to the function\n",
    "\n",
    "    :return: Output of ReLU(x)\n",
    "    \"\"\"\n",
    "\n",
    "    return np.maximum(0.01*x, x)"
   ]
  },
  {
   "cell_type": "markdown",
   "metadata": {},
   "source": [
    "#### Softmax"
   ]
  },
  {
   "cell_type": "code",
   "execution_count": 7,
   "metadata": {},
   "outputs": [],
   "source": [
    "def softmax(X, theta=1.0, axis=None):\n",
    "\n",
    "    # Softmax over numpy rows and columns, taking care for overflow cases\n",
    "    # Many thanks to https://nolanbconaway.github.io/blog/2017/softmax-numpy\n",
    "    # Usage: Softmax over rows-> axis =0, softmax over columns ->axis =1\n",
    "\n",
    "    \"\"\"\n",
    "    Compute the softmax of each element along an axis of X.\n",
    "    Parameters\n",
    "    ----------\n",
    "    X: ND-Array. Probably should be floats.\n",
    "    theta (optional): float parameter, used as a multiplier\n",
    "        prior to exponentiation. Default = 1.0\n",
    "    axis (optional): axis to compute values along. Default is the\n",
    "        first non-singleton axis.\n",
    "    Returns an array the same size as X. The result will sum to 1\n",
    "    along the specified axis.\n",
    "    \"\"\"\n",
    "\n",
    "    # make X at least 2d\n",
    "    y = np.atleast_2d(X)\n",
    "\n",
    "    # find axis\n",
    "    if axis is None:\n",
    "        axis = next(j[0] for j in enumerate(y.shape) if j[1] > 1)\n",
    "\n",
    "    # multiply y against the theta parameter,\n",
    "    y = y * float(theta)\n",
    "\n",
    "    # subtract the max for numerical stability\n",
    "    y = y - np.expand_dims(np.max(y, axis=axis), axis)\n",
    "\n",
    "    # exponentiate y\n",
    "    y = np.exp(y)\n",
    "\n",
    "    # take the sum along the specified axis\n",
    "    ax_sum = np.expand_dims(np.sum(y, axis=axis), axis)\n",
    "\n",
    "    # finally: divide elementwise\n",
    "    p = y / ax_sum\n",
    "\n",
    "    # flatten if X was 1D\n",
    "    if len(X.shape) == 1: p = p.flatten()\n",
    "\n",
    "    return p"
   ]
  },
  {
   "cell_type": "markdown",
   "metadata": {},
   "source": [
    "#### Evaluate Classifier"
   ]
  },
  {
   "cell_type": "code",
   "execution_count": 61,
   "metadata": {},
   "outputs": [],
   "source": [
    "def EvaluateClassifier(X, W1, b1, W2, b2, with_leaky_relu= False):\n",
    "    \"\"\"\n",
    "    Computes the Softmax output of the 2 layer network, based on input data X and trained weight and bias arrays\n",
    "\n",
    "    :param X: Input data\n",
    "    :param W1: Weight array of the first layer\n",
    "    :param b1: Bias vector of the first layer\n",
    "    :param W2: Weight array of the second layer\n",
    "    :param b2: Bias vector of the second layer\n",
    "\n",
    "    :return: Softmax output of the trained network\n",
    "    \"\"\"\n",
    "\n",
    "    s1 = np.dot(W1, X) + b1\n",
    "    if not with_leaky_relu:\n",
    "        h = ReLU(s1)\n",
    "    else:\n",
    "        h = Leaky_ReLU(s1)\n",
    "    s = np.dot(W2, h) + b2\n",
    "    p = softmax(s, axis=0)\n",
    "\n",
    "    return p, h, s1"
   ]
  },
  {
   "cell_type": "markdown",
   "metadata": {},
   "source": [
    "#### Predict classes"
   ]
  },
  {
   "cell_type": "code",
   "execution_count": 9,
   "metadata": {},
   "outputs": [],
   "source": [
    "def predictClasses(p):\n",
    "    \"\"\"\n",
    "    Predicts classes based on the softmax output of the network\n",
    "\n",
    "    :param p: Softmax output of the network\n",
    "    :return: Predicted classes\n",
    "    \"\"\"\n",
    "\n",
    "    return np.argmax(p, axis=0)"
   ]
  },
  {
   "cell_type": "markdown",
   "metadata": {},
   "source": [
    "#### Compute Accuracy"
   ]
  },
  {
   "cell_type": "code",
   "execution_count": 10,
   "metadata": {},
   "outputs": [],
   "source": [
    "def ComputeAccuracy(X, y, W1, b1, W2, b2):\n",
    "    \"\"\"\n",
    "    Computes the accuracy of the feed-forward 2-layer network\n",
    "\n",
    "    :param X: Input data\n",
    "    :param y: Labels of the ground truth\n",
    "    :param W1: Weight matrix of the first layer\n",
    "    :param b1: Bias vector of the first layer\n",
    "    :param W2: Weight matrix of the second layer\n",
    "    :param b2: Bias vector of the second layer\n",
    "\n",
    "    :return: Accuracy metric of the neural network.\n",
    "    \"\"\"\n",
    "    p, _, _ = EvaluateClassifier(X=X, W1=W1, b1=b1, W2=W2, b2=b2)\n",
    "    predictions = predictClasses(p)\n",
    "\n",
    "    accuracy = round(np.sum(np.where(predictions - y == 0, 1, 0)) * 100 / len(y), 2)\n",
    "\n",
    "    return accuracy"
   ]
  },
  {
   "cell_type": "markdown",
   "metadata": {},
   "source": [
    "#### Compute Cost"
   ]
  },
  {
   "cell_type": "code",
   "execution_count": 11,
   "metadata": {},
   "outputs": [],
   "source": [
    "def ComputeCost(X, Y, W1, W2, b1, b2, regularization_term= 0):\n",
    "    \"\"\"\n",
    "    Computes the cross-entropy loss on a batch of data.\n",
    "\n",
    "    :param X: Input data\n",
    "    :param y: Labels of the ground truth\n",
    "    :param W1: Weight matrix of the first layer\n",
    "    :param b1: Bias vector of the first layer\n",
    "    :param W2: Weight matrix of the second layer\n",
    "    :param b2: Bias vector of the second layer\n",
    "    :param regularization_term: Amount of regularization applied.\n",
    "\n",
    "    :return: Cross-entropy loss.\n",
    "    \"\"\"\n",
    "    p, _, _ = EvaluateClassifier(X=X, W1=W1, b1=b1, W2=W2, b2=b2)\n",
    "\n",
    "    cross_entropy_loss = -np.log(np.diag(np.dot(Y.T, p))).sum() / float(X.shape[1])\n",
    "\n",
    "    weight_sum = np.power(W1, 2).sum() + np.power(W2, 2).sum()\n",
    "\n",
    "    return cross_entropy_loss + regularization_term * weight_sum"
   ]
  },
  {
   "cell_type": "markdown",
   "metadata": {},
   "source": [
    "#### Compute Gradients"
   ]
  },
  {
   "cell_type": "code",
   "execution_count": 14,
   "metadata": {},
   "outputs": [],
   "source": [
    "def ComputeGradients(X, Y, W1, b1, W2, b2, p, h, s1, regularization_term= 0):\n",
    "    \"\"\"\n",
    "    Computes gradient descent updates on a batch of data\n",
    "\n",
    "    :param X: Input data\n",
    "    :param Y: One-hot representation of the true labels of input data X\n",
    "    :param W1: Weight matrix of the first layer\n",
    "    :param b1: Bias vector of the first layer\n",
    "    :param W2: Weight matrix of the second layer\n",
    "    :param b2: Bias vector of the second layer\n",
    "    :param p: Softmax probabilities (predictions) of the network over classes.\n",
    "    :param h: ReLU activations of the network.\n",
    "    :param s1: True outout of the first layer of the network.\n",
    "    :param regularization_term: Contribution of the regularization in the weight updates\n",
    "\n",
    "    :return: Weight and bias updates of the first and second layer of our network\n",
    "    \"\"\"\n",
    "\n",
    "    # Back-propagate second layer at first\n",
    "\n",
    "    g = p - Y\n",
    "    grad_b2 = g.sum(axis=1).reshape(b2.shape)\n",
    "    grad_W2 = np.dot(g, h.T)\n",
    "\n",
    "    # Back-propagate the gradient vector g to the first layer\n",
    "    g = np.dot(g.T, W2)\n",
    "    ind = 1 * (s1 > 0)\n",
    "    g = g.T * ind\n",
    "\n",
    "    grad_b1 = np.sum(g, axis=1).reshape(b1.shape)\n",
    "    grad_W1 = np.dot(g, X.T)\n",
    "\n",
    "    grad_W1 /= X.shape[1]\n",
    "    grad_b1 /= X.shape[1]\n",
    "    grad_W2 /= X.shape[1]\n",
    "    grad_b2 /= X.shape[1]\n",
    "\n",
    "    # Add regularizers\n",
    "    grad_W1 = grad_W1 + 2 * regularization_term * W1\n",
    "    grad_W2 = grad_W2 +2 * regularization_term * W2\n",
    "\n",
    "    return grad_W1, grad_b1, grad_W2, grad_b2"
   ]
  },
  {
   "cell_type": "markdown",
   "metadata": {},
   "source": [
    "#### Momentum Update"
   ]
  },
  {
   "cell_type": "code",
   "execution_count": 16,
   "metadata": {},
   "outputs": [],
   "source": [
    "def initialize_momentum(hyperparameter):\n",
    "    \"\"\"\n",
    "    Initializes the corresponding momentum of a hyperparameter matrix or vector\n",
    "\n",
    "    :param hyperparameter: The hyperparameter\n",
    "    :return: The corresponding momentum\n",
    "    \"\"\"\n",
    "\n",
    "    return np.zeros(hyperparameter.shape)"
   ]
  },
  {
   "cell_type": "code",
   "execution_count": 17,
   "metadata": {},
   "outputs": [],
   "source": [
    "def add_momentum(v_t_prev, hyperpatameter, gradient, eta, momentum_term=0.99):\n",
    "    \"\"\"\n",
    "    Add momentum to the update of the hyperparameter at each update step, in order to speed up training\n",
    "\n",
    "    :param v_t_prev: The momentum update of the previous time step\n",
    "    :param hyperpatameter: The corresponding hyperparameters\n",
    "    :param gradient: The value of the gradient update as computed in each time step\n",
    "    :param eta: The learning rate of the training process\n",
    "    :param r (optional): The momentum factor, typically 0.9 or 0.99\n",
    "\n",
    "    :return: The updated hyperparameter based on the momentum update, and the  momentum update itself\n",
    "    \"\"\"\n",
    "\n",
    "    v_t = momentum_term * v_t_prev + eta * gradient\n",
    "\n",
    "    return hyperpatameter - v_t, v_t"
   ]
  },
  {
   "cell_type": "markdown",
   "metadata": {},
   "source": [
    "\n",
    "\n",
    "#### Mini-Batch Gradient Descent"
   ]
  },
  {
   "cell_type": "code",
   "execution_count": 57,
   "metadata": {},
   "outputs": [],
   "source": [
    "def MiniBatchGDwithMomentum(X, Y, X_validation, Y_validation, y_validation, GDparams, W1, b1, W2, b2,\n",
    "                            regularization_term=0, with_annealing = False, with_leaky_relu= False, momentum_term=0.9):\n",
    "    \"\"\"\n",
    "    Performs mini batch-gradient descent computations.\n",
    "\n",
    "    :param X: Input batch of data\n",
    "    :param Y: One-hot representation of the true labels of the data.\n",
    "    :param X_validation: Input batch of validation data.\n",
    "    :param Y_validation: One-hot representation of the true labels of the validation data.\n",
    "    :param GDparams: Gradient descent parameters (number of mini batches to construct, learning rate, epochs)\n",
    "    :param W1: Weight matrix of the first layer of the network.\n",
    "    :param b1: Bias vector of the first layer of the network.\n",
    "    :param W2: Weight matrix of the second layer of the network.\n",
    "    :param b2: Bias vector of the second layer of the network.\n",
    "    :param regularization_term: Amount of regularization applied.\n",
    "    :param with_annealing: Set to true to allow decaying the learning rate by half every 5 epochs.\n",
    "\n",
    "    :return: The weight and bias matrices learnt (trained) from the training process, loss in training and validation set.\n",
    "    \"\"\"\n",
    "    number_of_mini_batches = GDparams[0]\n",
    "    eta = GDparams[1]\n",
    "    epoches = GDparams[2]\n",
    "\n",
    "    cost = []\n",
    "    val_cost = []\n",
    "\n",
    "    v_W1 = initialize_momentum(W1)\n",
    "    v_b1 = initialize_momentum(b1)\n",
    "    v_W2 = initialize_momentum(W2)\n",
    "    v_b2 = initialize_momentum(b2)\n",
    "\n",
    "    # print('Training set loss before start of training process: '+str(ComputeCost(X, Y, W1, W2, b1, b2, regularization_term)))\n",
    "\n",
    "    original_training_cost = ComputeCost(X, Y, W1, W2, b1, b2, regularization_term)\n",
    "\n",
    "    best_W1 = np.copy(W1)\n",
    "    best_b1 = np.copy(b1)\n",
    "    best_W2 = np.copy(W2)\n",
    "    best_b2 = np.copy(b2)\n",
    "\n",
    "    best_validation_set_accuracy = 0\n",
    "\n",
    "    for epoch in tqdm(range(epoches)):\n",
    "        # for epoch in range(epoches):\n",
    "\n",
    "        for batch in range(1, int(X.shape[1] / number_of_mini_batches)):\n",
    "            start = (batch - 1) * number_of_mini_batches + 1\n",
    "            end = batch * number_of_mini_batches + 1\n",
    "\n",
    "            p, h, s1 = EvaluateClassifier(X[:, start:end], W1, b1, W2, b2, with_leaky_relu)\n",
    "\n",
    "            grad_W1, grad_b1, grad_W2, grad_b2 = ComputeGradients(X[:, start:end], Y[:, start:end], W1, b1, W2, b2, p,\n",
    "                                                                  h, s1, regularization_term)\n",
    "\n",
    "            W1, v_W1 = add_momentum(v_W1, W1, grad_W1, eta, momentum_term)\n",
    "            b1, v_b1 = add_momentum(v_b1, b1, grad_b1, eta, momentum_term)\n",
    "            W2, v_W2 = add_momentum(v_W2, W2, grad_W2, eta, momentum_term)\n",
    "            b2, v_b2 = add_momentum(v_b2, b2, grad_b2, eta, momentum_term)\n",
    "\n",
    "        validation_set_accuracy = ComputeAccuracy(X_validation, y_validation, W1, b1, W2, b2)\n",
    "\n",
    "        if validation_set_accuracy > best_validation_set_accuracy:\n",
    "            best_W1 = np.copy(W1)\n",
    "            best_b1 = np.copy(b1)\n",
    "            best_W2 = np.copy(W2)\n",
    "            best_b2 = np.copy(b2)\n",
    "\n",
    "            best_validation_set_accuracy = validation_set_accuracy\n",
    "\n",
    "        epoch_cost = ComputeCost(X, Y, W1, W2, b1, b2)\n",
    "        # print('Training set loss after epoch number '+str(epoch)+' is: '+str(epoch_cost))\n",
    "        if epoch_cost > 3 * original_training_cost:\n",
    "            break\n",
    "        val_epoch_cost = ComputeCost(X_validation, Y_validation, W1, W2, b1, b2)\n",
    "\n",
    "        cost.append(epoch_cost)\n",
    "        val_cost.append(val_epoch_cost)\n",
    "\n",
    "        # Decay the learning rate\n",
    "        if with_annealing:\n",
    "            if epoch > 1 and epoch // 5 == 0:\n",
    "                eta /= 2.0\n",
    "        else:\n",
    "            eta *= 0.95\n",
    "\n",
    "    # return W1, b1, W2, b2, cost, val_cost\n",
    "    return best_W1, best_b1, best_W2, best_b2, cost, val_cost"
   ]
  },
  {
   "cell_type": "markdown",
   "metadata": {},
   "source": [
    "#### Visualizing functions"
   ]
  },
  {
   "cell_type": "code",
   "execution_count": 20,
   "metadata": {},
   "outputs": [],
   "source": [
    "def visualize_single_cost(loss, display= False, title = None, save_name= None, save_path='../figures/'):\n",
    "    \"\"\"\n",
    "        Visualization and saving the loss of the network.\n",
    "\n",
    "        :param loss: Loss of the network.\n",
    "        :param display: (Optional) Boolean, set to True for displaying the loss evolution plot.\n",
    "        :param title: (Optional) Title of the plot.\n",
    "        :param save_name: (Optional) name of the file to save the plot.\n",
    "        :param save_path: (Optional) Path of the folder to save the plot in your local computer.\n",
    "\n",
    "        :return: None\n",
    "\n",
    "        \"\"\"\n",
    "\n",
    "    if title is not None:\n",
    "        plt.title(title)\n",
    "\n",
    "    plt.plot(loss)\n",
    "\n",
    "    if save_name is not None:\n",
    "        if save_path[-1] != '/':\n",
    "            save_path += '/'\n",
    "        plt.savefig(save_path + save_name+'.png')\n",
    "\n",
    "    if display:\n",
    "        plt.show()\n",
    "\n",
    "    plt.clf()"
   ]
  },
  {
   "cell_type": "code",
   "execution_count": 21,
   "metadata": {},
   "outputs": [],
   "source": [
    "def visualize_costs(loss, val_loss, display= False, title = None, save_name= None, save_path='../figures/'):\n",
    "    \"\"\"\n",
    "    Visualization and saving the losses of the network.\n",
    "\n",
    "    :param loss: Loss of the network.\n",
    "    :param val_loss: Loss of the network in the validation set.\n",
    "    :param display: (Optional) Boolean, set to True for displaying the loss evolution plot.\n",
    "    :param title: (Optional) Title of the plot.\n",
    "    :param save_name: (Optional) name of the file to save the plot.\n",
    "    :param save_path: (Optional) Path of the folder to save the plot in your local computer.\n",
    "\n",
    "    :return: None\n",
    "\n",
    "    \"\"\"\n",
    "\n",
    "    if title is not None:\n",
    "        plt.title(title)\n",
    "\n",
    "    plt.plot(loss, 'g', label='Training set ')\n",
    "    plt.plot(val_loss, 'r', label='Validation set')\n",
    "    plt.legend(loc='upper right')\n",
    "\n",
    "    if save_name is not None:\n",
    "        if save_path[-1] !='/':\n",
    "            save_path+='/'\n",
    "        plt.savefig(save_path + save_name)\n",
    "\n",
    "    if display:\n",
    "        plt.show()\n",
    "\n",
    "    plt.clf()"
   ]
  },
  {
   "cell_type": "markdown",
   "metadata": {},
   "source": [
    "### ASSIGNMENT 2 EXERCISES"
   ]
  },
  {
   "cell_type": "markdown",
   "metadata": {},
   "source": [
    "####  Exercise 1: Read in the data & initialize the parameters ofthe network"
   ]
  },
  {
   "cell_type": "code",
   "execution_count": 22,
   "metadata": {},
   "outputs": [],
   "source": [
    "def exercise_1():\n",
    "    \"\"\"\n",
    "    DD2424 Assignemnt 2, Exercise 1: Read the data & initialize the parameters of the network\n",
    "\n",
    "    :return: Data of the tarining and testing process and initialized parameters for the weights and bias of the network\n",
    "    \"\"\"\n",
    "    X_training_1, Y_training_1, y_training_1 = LoadBatch('../../cifar-10-batches-py/data_batch_1')\n",
    "    X_training_2, Y_training_2, y_training_2 = LoadBatch('../../cifar-10-batches-py/data_batch_2')\n",
    "    X_test, _, y_test = LoadBatch('../../cifar-10-batches-py/test_batch')\n",
    "\n",
    "    mean = np.mean(X_training_1)\n",
    "    X_training_1 -= mean\n",
    "    X_training_2 -= mean\n",
    "    X_test -= mean\n",
    "\n",
    "    training_data = [X_training_1, Y_training_1, y_training_1]\n",
    "    validation_data = [X_training_2, Y_training_2, y_training_2]\n",
    "    test_data = [X_test, y_test]\n",
    "\n",
    "    W1, b1, W2, b2 = initialize_weights(d=X_training_1.shape[0], m=50, K=Y_training_1.shape[0])\n",
    "\n",
    "    return training_data, validation_data, test_data, W1, b1, W2, b2"
   ]
  },
  {
   "cell_type": "code",
   "execution_count": 87,
   "metadata": {},
   "outputs": [],
   "source": [
    "training_data, validation_data, test_data, W1, b1, W2, b2 = exercise_1()\n",
    "X_training, Y_training, y_training = training_data\n",
    "X_validation, Y_validation, y_validation = validation_data\n",
    "X_test, y_test = test_data"
   ]
  },
  {
   "cell_type": "markdown",
   "metadata": {},
   "source": [
    "#### Exercise 2: Compute the gradients for the network parameters"
   ]
  },
  {
   "cell_type": "code",
   "execution_count": 23,
   "metadata": {},
   "outputs": [],
   "source": [
    "p, h, s1 = EvaluateClassifier(X_training_1[:,0:2], W1, b1, W2, b2)\n",
    "grad_W1, grad_b1, grad_W2, grad_b2 = ComputeGradients(X_training[:,0:2], Y_training[:,0:2], W1, b1, W2, b2, p, h, s1)"
   ]
  },
  {
   "cell_type": "markdown",
   "metadata": {},
   "source": [
    "Test no.1: Compare with numerically computed gradients"
   ]
  },
  {
   "cell_type": "code",
   "execution_count": 24,
   "metadata": {},
   "outputs": [],
   "source": [
    "grad_W1_num = np.load('grad_W1_num.npy')\n",
    "grad_b1_num = np.load('grad_b1_num.npy')\n",
    "grad_W2_num = np.load('grad_W2_num.npy')\n",
    "grad_b2_num = np.load('grad_b2_num.npy')"
   ]
  },
  {
   "cell_type": "code",
   "execution_count": 25,
   "metadata": {},
   "outputs": [
    {
     "name": "stdout",
     "output_type": "stream",
     "text": [
      "Success!!\n",
      "Average error on weights of first layer=  7.52283628908819e-09\n",
      "Average error on bias of first layer= 4.602426280088195e-09\n",
      "Average error on weights of second layer=  3.0747216543846533e-10\n",
      "Average error on bias of second layer=  1.193638211533644e-11\n"
     ]
    }
   ],
   "source": [
    "check_similarity(grad_W1, grad_b1, grad_W2, grad_b2, grad_W1_num, grad_b1_num, grad_W2_num, grad_b2_num)"
   ]
  },
  {
   "cell_type": "markdown",
   "metadata": {},
   "source": [
    "Test no.2: Overfit on a small subset of training data"
   ]
  },
  {
   "cell_type": "code",
   "execution_count": 26,
   "metadata": {
    "collapsed": true
   },
   "outputs": [
    {
     "name": "stderr",
     "output_type": "stream",
     "text": [
      "100%|██████████| 200/200 [00:09<00:00, 21.68it/s]\n"
     ]
    },
    {
     "data": {
      "image/png": "[encoded data removed]",
      "text/plain": [
       "<Figure size 432x288 with 1 Axes>"
      ]
     },
     "metadata": {},
     "output_type": "display_data"
    }
   ],
   "source": [
    "W1, b1, W2, b2 = initialize_weights(d=X_training_1.shape[0], m=50, K=Y_training_1.shape[0])\n",
    "GD_params = [100, 0.05, 200]\n",
    "\n",
    "W1, b1, W2, b2, training_set_loss, validation_set_loss = MiniBatchGD(   X_training[:, :1000],\n",
    "                                                                        Y_training[:, :1000],\n",
    "                                                                        X_validation[:, :1000],\n",
    "                                                                        Y_validation[:, :1000],\n",
    "                                                                        y_validation,\n",
    "                                                                        GD_params,\n",
    "                                                                        W1, b1, W2, b2)\n",
    "\n",
    "visualize_costs(training_set_loss, validation_set_loss, display=True, title='Cross Entropy Loss Evolution')"
   ]
  },
  {
   "cell_type": "markdown",
   "metadata": {},
   "source": [
    "We observe overfitting in the training data, as the loss on the training set gets pretty small values, while the loss on the validation set starts increasing after a few number of epochs. "
   ]
  },
  {
   "cell_type": "markdown",
   "metadata": {},
   "source": [
    "#### Exercise 3: Add momentum to your update step"
   ]
  },
  {
   "cell_type": "code",
   "execution_count": 34,
   "metadata": {
    "collapsed": true
   },
   "outputs": [
    {
     "name": "stderr",
     "output_type": "stream",
     "text": [
      "100%|██████████| 200/200 [00:20<00:00,  9.59it/s]\n"
     ]
    }
   ],
   "source": [
    "W1, b1, W2, b2 = initialize_weights(d=X_training.shape[0], m=50, K=Y_training.shape[0])\n",
    "\n",
    "W1, b1, W2, b2, training_set_loss, validation_set_loss = MiniBatchGDwithMomentum(   X_training[:, :2000],\n",
    "                                                                                    Y_training[:, :2000],\n",
    "                                                                                    X_validation[:, :2000],\n",
    "                                                                                    Y_validation[:, :2000],\n",
    "                                                                                    y_validation,\n",
    "                                                                                    GD_params,\n",
    "                                                                                    W1, b1, W2, b2,\n",
    "                                                                                    regularization_term=0,\n",
    "                                                                                    momentum_term=0.99)"
   ]
  },
  {
   "cell_type": "code",
   "execution_count": 37,
   "metadata": {},
   "outputs": [
    {
     "data": {
      "image/png": "[encoded data removed]",
      "text/plain": [
       "<Figure size 432x288 with 1 Axes>"
      ]
     },
     "metadata": {},
     "output_type": "display_data"
    },
    {
     "data": {
      "text/plain": [
       "<Figure size 432x288 with 0 Axes>"
      ]
     },
     "metadata": {},
     "output_type": "display_data"
    }
   ],
   "source": [
    "visualize_costs(training_set_loss, validation_set_loss, display=True, title='Cross Entropy Loss Evolution with momentum value: 0.99')"
   ]
  },
  {
   "cell_type": "code",
   "execution_count": 44,
   "metadata": {
    "collapsed": true
   },
   "outputs": [
    {
     "name": "stderr",
     "output_type": "stream",
     "text": [
      "\n",
      "  0%|          | 0/200 [00:00<?, ?it/s]\u001b[A\n",
      "  0%|          | 1/200 [00:00<00:25,  7.76it/s]\u001b[A\n",
      "  1%|          | 2/200 [00:00<00:25,  7.81it/s]\u001b[A\n",
      "  2%|▏         | 3/200 [00:00<00:25,  7.86it/s]\u001b[A\n",
      "  2%|▏         | 4/200 [00:00<00:24,  7.95it/s]\u001b[A\n",
      "  2%|▎         | 5/200 [00:00<00:24,  8.01it/s]\u001b[A\n",
      "  3%|▎         | 6/200 [00:00<00:24,  8.06it/s]\u001b[A\n",
      "  4%|▎         | 7/200 [00:00<00:23,  8.06it/s]\u001b[A\n",
      "  4%|▍         | 8/200 [00:00<00:23,  8.08it/s]\u001b[A\n",
      "  4%|▍         | 9/200 [00:01<00:23,  8.07it/s]\u001b[A\n",
      "  5%|▌         | 10/200 [00:01<00:23,  8.07it/s]\u001b[A\n",
      "  6%|▌         | 11/200 [00:01<00:23,  8.06it/s]\u001b[A\n",
      "  6%|▌         | 12/200 [00:01<00:23,  7.99it/s]\u001b[A\n",
      "  6%|▋         | 13/200 [00:01<00:23,  7.80it/s]\u001b[A\n",
      "  7%|▋         | 14/200 [00:01<00:24,  7.63it/s]\u001b[A\n",
      "  8%|▊         | 15/200 [00:02<00:24,  7.49it/s]\u001b[A\n",
      "  8%|▊         | 16/200 [00:02<00:24,  7.39it/s]\u001b[A\n",
      "  8%|▊         | 17/200 [00:02<00:25,  7.23it/s]\u001b[A\n",
      "  9%|▉         | 18/200 [00:02<00:25,  7.22it/s]\u001b[A\n",
      " 10%|▉         | 19/200 [00:02<00:25,  7.20it/s]\u001b[A\n",
      " 10%|█         | 20/200 [00:02<00:25,  7.13it/s]\u001b[A\n",
      " 10%|█         | 21/200 [00:02<00:25,  7.11it/s]\u001b[A\n",
      " 11%|█         | 22/200 [00:03<00:25,  7.04it/s]\u001b[A\n",
      " 12%|█▏        | 23/200 [00:03<00:25,  6.99it/s]\u001b[A\n",
      " 12%|█▏        | 24/200 [00:03<00:25,  6.95it/s]\u001b[A\n",
      " 12%|█▎        | 25/200 [00:03<00:25,  6.97it/s]\u001b[A\n",
      " 13%|█▎        | 26/200 [00:03<00:24,  7.01it/s]\u001b[A\n",
      " 14%|█▎        | 27/200 [00:03<00:24,  7.03it/s]\u001b[A\n",
      " 14%|█▍        | 28/200 [00:03<00:24,  7.05it/s]\u001b[A\n",
      " 14%|█▍        | 29/200 [00:04<00:24,  7.08it/s]\u001b[A\n",
      " 15%|█▌        | 30/200 [00:04<00:23,  7.11it/s]\u001b[A\n",
      " 16%|█▌        | 31/200 [00:04<00:23,  7.12it/s]\u001b[A\n",
      " 16%|█▌        | 32/200 [00:04<00:23,  7.09it/s]\u001b[A\n",
      " 16%|█▋        | 33/200 [00:04<00:23,  7.05it/s]\u001b[A\n",
      " 17%|█▋        | 34/200 [00:04<00:23,  7.08it/s]\u001b[A\n",
      " 18%|█▊        | 35/200 [00:04<00:23,  7.04it/s]\u001b[A\n",
      " 18%|█▊        | 36/200 [00:05<00:23,  7.06it/s]\u001b[A\n",
      " 18%|█▊        | 37/200 [00:05<00:23,  7.08it/s]\u001b[A\n",
      " 19%|█▉        | 38/200 [00:05<00:22,  7.10it/s]\u001b[A\n",
      " 20%|█▉        | 39/200 [00:05<00:22,  7.11it/s]\u001b[A\n",
      " 20%|██        | 40/200 [00:05<00:22,  7.07it/s]\u001b[A\n",
      " 20%|██        | 41/200 [00:05<00:22,  7.05it/s]\u001b[A\n",
      " 21%|██        | 42/200 [00:05<00:22,  7.02it/s]\u001b[A\n",
      " 22%|██▏       | 43/200 [00:06<00:22,  7.03it/s]\u001b[A\n",
      " 22%|██▏       | 44/200 [00:06<00:22,  7.05it/s]\u001b[A\n",
      " 22%|██▎       | 45/200 [00:06<00:21,  7.05it/s]\u001b[A\n",
      " 23%|██▎       | 46/200 [00:06<00:21,  7.03it/s]\u001b[A\n",
      " 24%|██▎       | 47/200 [00:06<00:21,  7.04it/s]\u001b[A\n",
      " 24%|██▍       | 48/200 [00:06<00:21,  7.05it/s]\u001b[A\n",
      " 24%|██▍       | 49/200 [00:06<00:21,  7.06it/s]\u001b[A\n",
      " 25%|██▌       | 50/200 [00:07<00:21,  7.04it/s]\u001b[A\n",
      " 26%|██▌       | 51/200 [00:07<00:21,  7.04it/s]\u001b[A\n",
      " 26%|██▌       | 52/200 [00:07<00:21,  7.04it/s]\u001b[A\n",
      " 26%|██▋       | 53/200 [00:07<00:20,  7.03it/s]\u001b[A\n",
      " 27%|██▋       | 54/200 [00:07<00:20,  7.02it/s]\u001b[A\n",
      " 28%|██▊       | 55/200 [00:07<00:20,  7.01it/s]\u001b[A\n",
      " 28%|██▊       | 56/200 [00:07<00:20,  7.02it/s]\u001b[A\n",
      " 28%|██▊       | 57/200 [00:08<00:20,  7.01it/s]\u001b[A\n",
      " 29%|██▉       | 58/200 [00:08<00:20,  7.01it/s]\u001b[A\n",
      " 30%|██▉       | 59/200 [00:08<00:20,  7.01it/s]\u001b[A\n",
      " 30%|███       | 60/200 [00:08<00:20,  6.99it/s]\u001b[A\n",
      " 30%|███       | 61/200 [00:08<00:19,  7.00it/s]\u001b[A\n",
      " 31%|███       | 62/200 [00:08<00:19,  7.00it/s]\u001b[A\n",
      " 32%|███▏      | 63/200 [00:09<00:19,  6.98it/s]\u001b[A\n",
      " 32%|███▏      | 64/200 [00:09<00:19,  6.98it/s]\u001b[A\n",
      " 32%|███▎      | 65/200 [00:09<00:19,  6.97it/s]\u001b[A\n",
      " 33%|███▎      | 66/200 [00:09<00:19,  6.95it/s]\u001b[A\n",
      " 34%|███▎      | 67/200 [00:09<00:19,  6.94it/s]\u001b[A\n",
      " 34%|███▍      | 68/200 [00:09<00:19,  6.93it/s]\u001b[A\n",
      " 34%|███▍      | 69/200 [00:09<00:18,  6.93it/s]\u001b[A\n",
      " 35%|███▌      | 70/200 [00:10<00:18,  6.94it/s]\u001b[A\n",
      " 36%|███▌      | 71/200 [00:10<00:18,  6.95it/s]\u001b[A\n",
      " 36%|███▌      | 72/200 [00:10<00:18,  6.93it/s]\u001b[A\n",
      " 36%|███▋      | 73/200 [00:10<00:18,  6.93it/s]\u001b[A\n",
      " 37%|███▋      | 74/200 [00:10<00:18,  6.91it/s]\u001b[A\n",
      " 38%|███▊      | 75/200 [00:10<00:18,  6.90it/s]\u001b[A\n",
      " 38%|███▊      | 76/200 [00:11<00:17,  6.91it/s]\u001b[A\n",
      " 38%|███▊      | 77/200 [00:11<00:17,  6.92it/s]\u001b[A\n",
      " 39%|███▉      | 78/200 [00:11<00:17,  6.93it/s]\u001b[A\n",
      " 40%|███▉      | 79/200 [00:11<00:17,  6.95it/s]\u001b[A\n",
      " 40%|████      | 80/200 [00:11<00:17,  6.96it/s]\u001b[A\n",
      " 40%|████      | 81/200 [00:11<00:17,  6.97it/s]\u001b[A\n",
      " 41%|████      | 82/200 [00:11<00:16,  6.98it/s]\u001b[A\n",
      " 42%|████▏     | 83/200 [00:11<00:16,  6.99it/s]\u001b[A\n",
      " 42%|████▏     | 84/200 [00:12<00:16,  7.00it/s]\u001b[A\n",
      " 42%|████▎     | 85/200 [00:12<00:16,  7.01it/s]\u001b[A\n",
      " 43%|████▎     | 86/200 [00:12<00:16,  7.01it/s]\u001b[A\n",
      " 44%|████▎     | 87/200 [00:12<00:16,  7.02it/s]\u001b[A\n",
      " 44%|████▍     | 88/200 [00:12<00:15,  7.03it/s]\u001b[A\n",
      " 44%|████▍     | 89/200 [00:12<00:15,  7.04it/s]\u001b[A\n",
      " 45%|████▌     | 90/200 [00:12<00:15,  7.04it/s]\u001b[A\n",
      " 46%|████▌     | 91/200 [00:12<00:15,  7.05it/s]\u001b[A\n",
      " 46%|████▌     | 92/200 [00:13<00:15,  7.06it/s]\u001b[A\n",
      " 46%|████▋     | 93/200 [00:13<00:15,  7.07it/s]\u001b[A\n",
      " 47%|████▋     | 94/200 [00:13<00:14,  7.08it/s]\u001b[A\n",
      " 48%|████▊     | 95/200 [00:13<00:14,  7.08it/s]\u001b[A\n",
      " 48%|████▊     | 96/200 [00:13<00:14,  7.09it/s]\u001b[A\n",
      " 48%|████▊     | 97/200 [00:13<00:14,  7.10it/s]\u001b[A\n",
      " 49%|████▉     | 98/200 [00:13<00:14,  7.10it/s]\u001b[A\n",
      " 50%|████▉     | 99/200 [00:13<00:14,  7.11it/s]\u001b[A\n",
      " 50%|█████     | 100/200 [00:14<00:14,  7.12it/s]\u001b[A\n",
      " 50%|█████     | 101/200 [00:14<00:13,  7.13it/s]\u001b[A\n",
      " 51%|█████     | 102/200 [00:14<00:13,  7.13it/s]\u001b[A\n",
      " 52%|█████▏    | 103/200 [00:14<00:13,  7.14it/s]\u001b[A\n",
      " 52%|█████▏    | 104/200 [00:14<00:13,  7.14it/s]\u001b[A\n",
      " 52%|█████▎    | 105/200 [00:14<00:13,  7.15it/s]\u001b[A\n",
      " 53%|█████▎    | 106/200 [00:14<00:13,  7.16it/s]\u001b[A\n",
      " 54%|█████▎    | 107/200 [00:14<00:12,  7.16it/s]\u001b[A\n",
      " 54%|█████▍    | 108/200 [00:15<00:12,  7.17it/s]\u001b[A\n",
      " 55%|█████▍    | 109/200 [00:15<00:12,  7.18it/s]\u001b[A\n",
      " 55%|█████▌    | 110/200 [00:15<00:12,  7.19it/s]\u001b[A\n",
      " 56%|█████▌    | 111/200 [00:15<00:12,  7.20it/s]\u001b[A\n",
      " 56%|█████▌    | 112/200 [00:15<00:12,  7.21it/s]\u001b[A\n",
      " 56%|█████▋    | 113/200 [00:15<00:12,  7.21it/s]\u001b[A\n",
      " 57%|█████▋    | 114/200 [00:15<00:11,  7.22it/s]\u001b[A\n",
      " 57%|█████▊    | 115/200 [00:15<00:11,  7.23it/s]\u001b[A\n",
      " 58%|█████▊    | 116/200 [00:16<00:11,  7.24it/s]\u001b[A\n",
      " 58%|█████▊    | 117/200 [00:16<00:11,  7.25it/s]\u001b[A\n",
      " 59%|█████▉    | 118/200 [00:16<00:11,  7.26it/s]\u001b[A\n",
      " 60%|█████▉    | 119/200 [00:16<00:11,  7.27it/s]\u001b[A\n",
      " 60%|██████    | 120/200 [00:16<00:10,  7.28it/s]\u001b[A\n",
      " 60%|██████    | 121/200 [00:16<00:10,  7.29it/s]\u001b[A\n",
      " 61%|██████    | 122/200 [00:16<00:10,  7.30it/s]\u001b[A\n",
      " 62%|██████▏   | 123/200 [00:16<00:10,  7.30it/s]\u001b[A\n",
      " 62%|██████▏   | 124/200 [00:16<00:10,  7.31it/s]\u001b[A\n",
      " 62%|██████▎   | 125/200 [00:17<00:10,  7.32it/s]\u001b[A\n",
      " 63%|██████▎   | 126/200 [00:17<00:10,  7.33it/s]\u001b[A\n",
      " 64%|██████▎   | 127/200 [00:17<00:09,  7.33it/s]\u001b[A\n",
      " 64%|██████▍   | 128/200 [00:17<00:09,  7.34it/s]\u001b[A\n",
      " 64%|██████▍   | 129/200 [00:17<00:09,  7.35it/s]\u001b[A\n",
      " 65%|██████▌   | 130/200 [00:17<00:09,  7.36it/s]\u001b[A\n",
      " 66%|██████▌   | 131/200 [00:17<00:09,  7.36it/s]\u001b[A\n",
      " 66%|██████▌   | 132/200 [00:17<00:09,  7.37it/s]\u001b[A\n",
      " 66%|██████▋   | 133/200 [00:18<00:09,  7.38it/s]\u001b[A\n",
      " 67%|██████▋   | 134/200 [00:18<00:08,  7.38it/s]\u001b[A\n",
      " 68%|██████▊   | 135/200 [00:18<00:08,  7.39it/s]\u001b[A\n",
      " 68%|██████▊   | 136/200 [00:18<00:08,  7.39it/s]\u001b[A\n",
      " 68%|██████▊   | 137/200 [00:18<00:08,  7.40it/s]\u001b[A\n",
      " 69%|██████▉   | 138/200 [00:18<00:08,  7.41it/s]\u001b[A\n",
      " 70%|██████▉   | 139/200 [00:18<00:08,  7.41it/s]\u001b[A\n",
      " 70%|███████   | 140/200 [00:18<00:08,  7.42it/s]\u001b[A\n",
      " 70%|███████   | 141/200 [00:18<00:07,  7.43it/s]\u001b[A\n",
      " 71%|███████   | 142/200 [00:19<00:07,  7.43it/s]\u001b[A\n",
      " 72%|███████▏  | 143/200 [00:19<00:07,  7.44it/s]\u001b[A\n",
      " 72%|███████▏  | 144/200 [00:19<00:07,  7.44it/s]\u001b[A\n",
      " 72%|███████▎  | 145/200 [00:19<00:07,  7.45it/s]\u001b[A\n",
      " 73%|███████▎  | 146/200 [00:19<00:07,  7.46it/s]\u001b[A\n",
      " 74%|███████▎  | 147/200 [00:19<00:07,  7.46it/s]\u001b[A\n",
      " 74%|███████▍  | 148/200 [00:19<00:06,  7.47it/s]\u001b[A\n",
      " 74%|███████▍  | 149/200 [00:19<00:06,  7.47it/s]\u001b[A\n",
      " 75%|███████▌  | 150/200 [00:20<00:06,  7.48it/s]\u001b[A\n",
      " 76%|███████▌  | 151/200 [00:20<00:06,  7.48it/s]\u001b[A\n",
      " 76%|███████▌  | 152/200 [00:20<00:06,  7.49it/s]\u001b[A\n",
      " 76%|███████▋  | 153/200 [00:20<00:06,  7.49it/s]\u001b[A\n",
      " 77%|███████▋  | 154/200 [00:20<00:06,  7.50it/s]\u001b[A\n",
      " 78%|███████▊  | 155/200 [00:20<00:05,  7.50it/s]\u001b[A\n",
      " 78%|███████▊  | 156/200 [00:20<00:05,  7.51it/s]\u001b[A\n",
      " 78%|███████▊  | 157/200 [00:20<00:05,  7.51it/s]\u001b[A\n",
      " 79%|███████▉  | 158/200 [00:21<00:05,  7.52it/s]\u001b[A\n",
      " 80%|███████▉  | 159/200 [00:21<00:05,  7.52it/s]\u001b[A\n",
      " 80%|████████  | 160/200 [00:21<00:05,  7.53it/s]\u001b[A\n",
      " 80%|████████  | 161/200 [00:21<00:05,  7.54it/s]\u001b[A\n",
      " 81%|████████  | 162/200 [00:21<00:05,  7.54it/s]\u001b[A\n",
      " 82%|████████▏ | 163/200 [00:21<00:04,  7.55it/s]\u001b[A\n",
      " 82%|████████▏ | 164/200 [00:21<00:04,  7.55it/s]\u001b[A\n",
      " 82%|████████▎ | 165/200 [00:21<00:04,  7.56it/s]\u001b[A\n",
      " 83%|████████▎ | 166/200 [00:21<00:04,  7.56it/s]\u001b[A\n",
      " 84%|████████▎ | 167/200 [00:22<00:04,  7.57it/s]\u001b[A\n",
      " 84%|████████▍ | 168/200 [00:22<00:04,  7.58it/s]\u001b[A\n",
      " 84%|████████▍ | 169/200 [00:22<00:04,  7.58it/s]\u001b[A\n",
      " 85%|████████▌ | 170/200 [00:22<00:03,  7.59it/s]\u001b[A\n",
      " 86%|████████▌ | 171/200 [00:22<00:03,  7.59it/s]\u001b[A\n",
      " 86%|████████▌ | 172/200 [00:22<00:03,  7.60it/s]\u001b[A\n",
      " 86%|████████▋ | 173/200 [00:22<00:03,  7.60it/s]\u001b[A\n",
      " 87%|████████▋ | 174/200 [00:22<00:03,  7.61it/s]\u001b[A\n",
      " 88%|████████▊ | 175/200 [00:22<00:03,  7.61it/s]\u001b[A\n",
      " 88%|████████▊ | 176/200 [00:23<00:03,  7.62it/s]\u001b[A\n",
      " 88%|████████▊ | 177/200 [00:23<00:03,  7.62it/s]\u001b[A\n",
      " 89%|████████▉ | 178/200 [00:23<00:02,  7.63it/s]\u001b[A\n",
      " 90%|████████▉ | 179/200 [00:23<00:02,  7.63it/s]\u001b[A\n",
      " 90%|█████████ | 180/200 [00:23<00:02,  7.64it/s]\u001b[A\n",
      " 90%|█████████ | 181/200 [00:23<00:02,  7.64it/s]\u001b[A\n",
      " 91%|█████████ | 182/200 [00:23<00:02,  7.65it/s]\u001b[A\n",
      " 92%|█████████▏| 183/200 [00:23<00:02,  7.65it/s]\u001b[A\n",
      " 92%|█████████▏| 184/200 [00:24<00:02,  7.66it/s]\u001b[A\n",
      " 92%|█████████▎| 185/200 [00:24<00:01,  7.66it/s]\u001b[A\n",
      " 93%|█████████▎| 186/200 [00:24<00:01,  7.66it/s]\u001b[A\n",
      " 94%|█████████▎| 187/200 [00:24<00:01,  7.67it/s]\u001b[A\n",
      " 94%|█████████▍| 188/200 [00:24<00:01,  7.67it/s]\u001b[A\n",
      " 94%|█████████▍| 189/200 [00:24<00:01,  7.68it/s]\u001b[A\n",
      " 95%|█████████▌| 190/200 [00:24<00:01,  7.68it/s]\u001b[A\n",
      " 96%|█████████▌| 191/200 [00:24<00:01,  7.69it/s]\u001b[A\n",
      " 96%|█████████▌| 192/200 [00:24<00:01,  7.69it/s]\u001b[A\n",
      " 96%|█████████▋| 193/200 [00:25<00:00,  7.70it/s]\u001b[A\n",
      " 97%|█████████▋| 194/200 [00:25<00:00,  7.70it/s]\u001b[A\n",
      " 98%|█████████▊| 195/200 [00:25<00:00,  7.70it/s]\u001b[A\n",
      " 98%|█████████▊| 196/200 [00:25<00:00,  7.71it/s]\u001b[A\n",
      " 98%|█████████▊| 197/200 [00:25<00:00,  7.71it/s]\u001b[A\n",
      " 99%|█████████▉| 198/200 [00:25<00:00,  7.72it/s]\u001b[A\n",
      "100%|█████████▉| 199/200 [00:25<00:00,  7.72it/s]\u001b[A\n",
      "100%|██████████| 200/200 [00:25<00:00,  7.72it/s]\u001b[A\n",
      "\u001b[A"
     ]
    }
   ],
   "source": [
    "W1, b1, W2, b2 = initialize_weights(d=X_training.shape[0], m=50, K=Y_training.shape[0])\n",
    "\n",
    "W1, b1, W2, b2, training_set_loss, validation_set_loss = MiniBatchGDwithMomentum(   X_training[:, :2000],\n",
    "                                                                                    Y_training[:, :2000],\n",
    "                                                                                    X_validation[:, :2000],\n",
    "                                                                                    Y_validation[:, :2000],\n",
    "                                                                                    [], [],\n",
    "                                                                                    GD_params,\n",
    "                                                                                    W1, b1, W2, b2,\n",
    "                                                                                    regularization_term=0,\n",
    "                                                                                    momentum_term=0.9)"
   ]
  },
  {
   "cell_type": "code",
   "execution_count": 45,
   "metadata": {},
   "outputs": [
    {
     "data": {
      "image/png": "[encoded data removed]",
      "text/plain": [
       "<Figure size 432x288 with 1 Axes>"
      ]
     },
     "metadata": {},
     "output_type": "display_data"
    },
    {
     "data": {
      "text/plain": [
       "<Figure size 432x288 with 0 Axes>"
      ]
     },
     "metadata": {},
     "output_type": "display_data"
    }
   ],
   "source": [
    "visualize_costs(training_set_loss, validation_set_loss, display=True, title='Cross Entropy Loss Evolution with momentum value: 0.9')"
   ]
  },
  {
   "cell_type": "code",
   "execution_count": 46,
   "metadata": {
    "collapsed": true
   },
   "outputs": [
    {
     "name": "stderr",
     "output_type": "stream",
     "text": [
      "\n",
      "  0%|          | 0/200 [00:00<?, ?it/s]\u001b[A\n",
      "  2%|▏         | 4/200 [00:00<00:05, 37.19it/s]\u001b[A\n",
      "  4%|▍         | 8/200 [00:00<00:05, 37.51it/s]\u001b[A\n",
      "  6%|▌         | 12/200 [00:00<00:05, 37.55it/s]\u001b[A\n",
      "  8%|▊         | 16/200 [00:00<00:04, 37.75it/s]\u001b[A\n",
      " 10%|█         | 20/200 [00:00<00:04, 37.94it/s]\u001b[A\n",
      " 12%|█▏        | 24/200 [00:00<00:04, 38.20it/s]\u001b[A\n",
      " 14%|█▍        | 28/200 [00:00<00:04, 38.40it/s]\u001b[A\n",
      " 16%|█▌        | 32/200 [00:00<00:04, 38.53it/s]\u001b[A\n",
      " 18%|█▊        | 36/200 [00:00<00:04, 38.65it/s]\u001b[A\n",
      " 20%|██        | 40/200 [00:01<00:04, 38.78it/s]\u001b[A\n",
      " 22%|██▏       | 44/200 [00:01<00:04, 38.56it/s]\u001b[A\n",
      " 24%|██▍       | 48/200 [00:01<00:04, 37.81it/s]\u001b[A\n",
      " 26%|██▌       | 52/200 [00:01<00:03, 37.07it/s]\u001b[A\n",
      " 28%|██▊       | 56/200 [00:01<00:03, 36.58it/s]\u001b[A\n",
      " 30%|███       | 60/200 [00:01<00:03, 36.01it/s]\u001b[A\n",
      " 32%|███▏      | 64/200 [00:01<00:03, 36.06it/s]\u001b[A\n",
      " 34%|███▍      | 68/200 [00:01<00:03, 36.17it/s]\u001b[A\n",
      " 36%|███▌      | 72/200 [00:01<00:03, 36.27it/s]\u001b[A\n",
      " 38%|███▊      | 76/200 [00:02<00:03, 35.96it/s]\u001b[A\n",
      " 40%|████      | 80/200 [00:02<00:03, 36.05it/s]\u001b[A\n",
      " 42%|████▏     | 84/200 [00:02<00:03, 36.21it/s]\u001b[A\n",
      " 44%|████▍     | 88/200 [00:02<00:03, 36.33it/s]\u001b[A\n",
      " 46%|████▌     | 92/200 [00:02<00:02, 36.36it/s]\u001b[A\n",
      " 48%|████▊     | 96/200 [00:02<00:02, 36.41it/s]\u001b[A\n",
      " 50%|█████     | 101/200 [00:02<00:02, 36.60it/s]\u001b[A\n",
      " 52%|█████▎    | 105/200 [00:02<00:02, 36.68it/s]\u001b[A\n",
      " 55%|█████▍    | 109/200 [00:02<00:02, 36.78it/s]\u001b[A\n",
      " 56%|█████▋    | 113/200 [00:03<00:02, 36.86it/s]\u001b[A\n",
      " 58%|█████▊    | 117/200 [00:03<00:02, 36.91it/s]\u001b[A\n",
      " 60%|██████    | 121/200 [00:03<00:02, 36.99it/s]\u001b[A\n",
      " 62%|██████▎   | 125/200 [00:03<00:02, 37.05it/s]\u001b[A\n",
      " 64%|██████▍   | 129/200 [00:03<00:01, 37.10it/s]\u001b[A\n",
      " 66%|██████▋   | 133/200 [00:03<00:01, 37.16it/s]\u001b[A\n",
      " 68%|██████▊   | 137/200 [00:03<00:01, 37.22it/s]\u001b[A\n",
      " 70%|███████   | 141/200 [00:03<00:01, 37.12it/s]\u001b[A\n",
      " 72%|███████▎  | 145/200 [00:03<00:01, 36.90it/s]\u001b[A\n",
      " 74%|███████▍  | 149/200 [00:04<00:01, 36.68it/s]\u001b[A\n",
      " 76%|███████▋  | 153/200 [00:04<00:01, 36.47it/s]\u001b[A\n",
      " 78%|███████▊  | 157/200 [00:04<00:01, 36.52it/s]\u001b[A\n",
      " 80%|████████  | 161/200 [00:04<00:01, 36.39it/s]\u001b[A\n",
      " 82%|████████▎ | 165/200 [00:04<00:00, 36.25it/s]\u001b[A\n",
      " 84%|████████▍ | 169/200 [00:04<00:00, 36.31it/s]\u001b[A\n",
      " 86%|████████▋ | 173/200 [00:04<00:00, 36.35it/s]\u001b[A\n",
      " 88%|████████▊ | 177/200 [00:04<00:00, 36.40it/s]\u001b[A\n",
      " 90%|█████████ | 181/200 [00:04<00:00, 36.39it/s]\u001b[A\n",
      " 92%|█████████▎| 185/200 [00:05<00:00, 36.35it/s]\u001b[A\n",
      " 94%|█████████▍| 189/200 [00:05<00:00, 36.32it/s]\u001b[A\n",
      " 96%|█████████▋| 193/200 [00:05<00:00, 36.32it/s]\u001b[A\n",
      " 98%|█████████▊| 197/200 [00:05<00:00, 36.34it/s]\u001b[A\n",
      "100%|██████████| 200/200 [00:05<00:00, 36.37it/s]\u001b[A"
     ]
    }
   ],
   "source": [
    "W1, b1, W2, b2 = initialize_weights(d=X_training.shape[0], m=50, K=Y_training.shape[0])\n",
    "\n",
    "W1, b1, W2, b2, training_set_loss, validation_set_loss = MiniBatchGDwithMomentum(   X_training[:, :500],\n",
    "                                                                                    Y_training[:, :500],\n",
    "                                                                                    X_validation[:, :500],\n",
    "                                                                                    Y_validation[:, :500],\n",
    "                                                                                    [], [],\n",
    "                                                                                    GD_params,\n",
    "                                                                                    W1, b1, W2, b2,\n",
    "                                                                                    regularization_term=0,\n",
    "                                                                                    momentum_term=0.)"
   ]
  },
  {
   "cell_type": "code",
   "execution_count": 47,
   "metadata": {},
   "outputs": [
    {
     "data": {
      "image/png": "[encoded data removed]",
      "text/plain": [
       "<Figure size 432x288 with 1 Axes>"
      ]
     },
     "metadata": {},
     "output_type": "display_data"
    },
    {
     "data": {
      "text/plain": [
       "<Figure size 432x288 with 0 Axes>"
      ]
     },
     "metadata": {},
     "output_type": "display_data"
    }
   ],
   "source": [
    "visualize_costs(training_set_loss, validation_set_loss, display=True, title='Cross Entropy Loss Evolution with momentum value: 0.5', save_name='3_momentum_0-5', save_path='../figures')"
   ]
  },
  {
   "cell_type": "markdown",
   "metadata": {},
   "source": [
    "#### Exercise 4: Training your network"
   ]
  },
  {
   "cell_type": "markdown",
   "metadata": {},
   "source": [
    "#### Random search"
   ]
  },
  {
   "cell_type": "code",
   "execution_count": 88,
   "metadata": {},
   "outputs": [],
   "source": [
    "def random_search():\n",
    "    \"\"\"\n",
    "    Random search to estimate the rough bounds for the values to eta to look for later in the coarse search.\n",
    "\n",
    "    :return:\n",
    "    \"\"\"\n",
    "\n",
    "    training_data, validation_data, test_data, W1, b1, W2, b2 = exercise_1()\n",
    "    X_training, Y_training, y_training = training_data\n",
    "    X_validation, Y_validation, y_validation = validation_data\n",
    "\n",
    "    for eta in [0.00001, 0.00005, 0.0001, 0.0005, 0.001, 0.005, 0.01, 0.05, 0.1]:\n",
    "\n",
    "        print('-----------------------')\n",
    "        print('eta: ', eta)\n",
    "\n",
    "        GD_params = [100, eta, 5]\n",
    "\n",
    "        W1, b1, W2, b2, training_set_loss, validation_set_loss = MiniBatchGDwithMomentum(X_training,\n",
    "                                                                                         Y_training,\n",
    "                                                                                         X_validation,\n",
    "                                                                                         Y_validation,\n",
    "                                                                                         y_validation,\n",
    "                                                                                         GD_params,\n",
    "                                                                                         W1, b1, W2, b2,\n",
    "                                                                                         regularization_term=0.000001,\n",
    "                                                                                         momentum_term=0.9)\n",
    "\n",
    "        W1, b1, W2, b2 = initialize_weights(d=X_training.shape[0], m=50, K=Y_training.shape[0])\n",
    "\n",
    "#             visualize_single_cost(training_set_loss, display=False, title='Training set loss evolution for eta: '+str(eta), save_name='Eta_random_'+str(eta).replace('.', '-'))\n",
    "\n",
    "    for eta in np.arange(0.2, 0.5, 0.05):\n",
    "\n",
    "        print('-----------------------')\n",
    "        print('eta: ', eta)\n",
    "\n",
    "        GD_params = [100, eta, 5]\n",
    "\n",
    "        W1, b1, W2, b2, training_set_loss, validation_set_loss = MiniBatchGDwithMomentum(X_training,\n",
    "                                                                                         Y_training,\n",
    "                                                                                         X_validation,\n",
    "                                                                                         Y_validation,\n",
    "                                                                                         y_validation,\n",
    "                                                                                         GD_params,\n",
    "                                                                                         W1, b1, W2, b2,\n",
    "                                                                                         regularization_term=0.000001,\n",
    "                                                                                         momentum_term=0.9)\n",
    "\n",
    "        W1, b1, W2, b2 = initialize_weights(d=X_training.shape[0], m=50, K=Y_training.shape[0])\n",
    "\n",
    "#             visualize_single_cost(training_set_loss, display=False, title='Training set loss evolution for eta: '+str(eta), save_name='Eta_random_'+str(eta).replace('.', '-'))"
   ]
  },
  {
   "cell_type": "code",
   "execution_count": 32,
   "metadata": {},
   "outputs": [
    {
     "name": "stdout",
     "output_type": "stream",
     "text": [
      "-----------------------\n",
      "eta:  1e-05\n",
      "Training set loss after epoch number 0 is: 2.3025848506920643\n",
      "Training set loss after epoch number 1 is: 2.302583841443368\n",
      "Training set loss after epoch number 2 is: 2.3025828840707727\n",
      "Training set loss after epoch number 3 is: 2.3025819761862096\n",
      "Training set loss after epoch number 4 is: 2.3025811148946467\n",
      "-----------------------\n",
      "eta:  5e-05\n",
      "Training set loss after epoch number 0 is: 2.302581166802597\n",
      "Training set loss after epoch number 1 is: 2.3025761599923698\n",
      "Training set loss after epoch number 2 is: 2.3025714319240826\n",
      "Training set loss after epoch number 3 is: 2.302566964345669\n",
      "Training set loss after epoch number 4 is: 2.3025627410959992\n",
      "-----------------------\n",
      "eta:  0.0001\n",
      "Training set loss after epoch number 0 is: 2.30257658291642\n",
      "Training set loss after epoch number 1 is: 2.302566649200436\n",
      "Training set loss after epoch number 2 is: 2.3025573099186\n",
      "Training set loss after epoch number 3 is: 2.302548512635035\n",
      "Training set loss after epoch number 4 is: 2.3025401957678024\n",
      "-----------------------\n",
      "eta:  0.0005\n",
      "Training set loss after epoch number 0 is: 2.302540587592968\n",
      "Training set loss after epoch number 1 is: 2.302491988907828\n",
      "Training set loss after epoch number 2 is: 2.3024428255480847\n",
      "Training set loss after epoch number 3 is: 2.3023886927860806\n",
      "Training set loss after epoch number 4 is: 2.3023246072972063\n",
      "-----------------------\n",
      "eta:  0.001\n",
      "Training set loss after epoch number 0 is: 2.3024961118640817\n",
      "Training set loss after epoch number 1 is: 2.302385974069006\n",
      "Training set loss after epoch number 2 is: 2.3022182701771743\n",
      "Training set loss after epoch number 3 is: 2.301887819606671\n",
      "Training set loss after epoch number 4 is: 2.3011638049174845\n",
      "-----------------------\n",
      "eta:  0.005\n",
      "Training set loss after epoch number 0 is: 2.3016173556298125\n",
      "Training set loss after epoch number 1 is: 2.2550413596396766\n",
      "Training set loss after epoch number 2 is: 2.1146773986603358\n",
      "Training set loss after epoch number 3 is: 2.017094492085483\n",
      "Training set loss after epoch number 4 is: 1.9535316378904555\n",
      "-----------------------\n",
      "eta:  0.01\n",
      "Training set loss after epoch number 0 is: 2.2827034244596045\n",
      "Training set loss after epoch number 1 is: 2.0367023475847756\n",
      "Training set loss after epoch number 2 is: 1.9087574123414015\n",
      "Training set loss after epoch number 3 is: 1.8115696768818903\n",
      "Training set loss after epoch number 4 is: 1.746466464568492\n",
      "-----------------------\n",
      "eta:  0.05\n",
      "Training set loss after epoch number 0 is: 1.8631283357230615\n",
      "Training set loss after epoch number 1 is: 1.6802545089198524\n",
      "Training set loss after epoch number 2 is: 1.5561225480297545\n",
      "Training set loss after epoch number 3 is: 1.48447438398465\n",
      "Training set loss after epoch number 4 is: 1.3948883159995926\n",
      "-----------------------\n",
      "eta:  0.1\n",
      "Training set loss after epoch number 0 is: 1.7809084849468708\n",
      "Training set loss after epoch number 1 is: 1.647158691489011\n",
      "Training set loss after epoch number 2 is: 1.576782693391572\n",
      "Training set loss after epoch number 3 is: 1.5048117377048429\n",
      "Training set loss after epoch number 4 is: 1.4282937238930191\n",
      "-----------------------\n",
      "eta:  0.2\n",
      "Training set loss after epoch number 0 is: 1.896857875221071\n",
      "Training set loss after epoch number 1 is: 1.8297946613480636\n",
      "Training set loss after epoch number 2 is: 1.8206863209161308\n",
      "Training set loss after epoch number 3 is: 1.7364877149056364\n",
      "Training set loss after epoch number 4 is: 1.6740169282547976\n",
      "-----------------------\n",
      "eta:  0.25\n",
      "Training set loss after epoch number 0 is: 2.1669436732078977\n",
      "Training set loss after epoch number 1 is: 2.1036145243458817\n",
      "Training set loss after epoch number 2 is: 1.8602258627275428\n",
      "Training set loss after epoch number 3 is: 1.8931909598326608\n",
      "Training set loss after epoch number 4 is: 1.7214404964776455\n",
      "-----------------------\n",
      "eta:  0.3\n",
      "Training set loss after epoch number 0 is: 3.8002923593685707\n",
      "Training set loss after epoch number 1 is: 2.373464657161541\n",
      "Training set loss after epoch number 2 is: 2.0204059748019203\n",
      "Training set loss after epoch number 3 is: 1.9318048338288314\n",
      "Training set loss after epoch number 4 is: 1.9017615995219335\n",
      "-----------------------\n",
      "eta:  0.35\n",
      "Training set loss after epoch number 0 is: 7.4996254964050575\n",
      "-----------------------\n",
      "eta:  0.39999999999999997\n"
     ]
    },
    {
     "name": "stderr",
     "output_type": "stream",
     "text": [
      "/usr/local/lib/python3.6/site-packages/ipykernel_launcher.py:17: RuntimeWarning: divide by zero encountered in log\n"
     ]
    },
    {
     "name": "stdout",
     "output_type": "stream",
     "text": [
      "Training set loss after epoch number 0 is: inf\n",
      "-----------------------\n",
      "eta:  0.44999999999999996\n",
      "Training set loss after epoch number 0 is: inf\n"
     ]
    }
   ],
   "source": [
    "random_search()"
   ]
  },
  {
   "cell_type": "markdown",
   "metadata": {},
   "source": [
    "#### Coarse search"
   ]
  },
  {
   "cell_type": "code",
   "execution_count": 89,
   "metadata": {},
   "outputs": [],
   "source": [
    "def coarse_search(e_min= np.log(0.01), e_max=np.log(0.15)):\n",
    "    \"\"\"\n",
    "    Coarse search, optimal value for the learning rate may be found between 0.01 and 0.15\n",
    "\n",
    "    :return: Best pair of eta and lambda based on validation set accuracy performance\n",
    "    \"\"\"\n",
    "\n",
    "    training_data, validation_data, test_data, W1, b1, W2, b2 = exercise_1()\n",
    "    X_training, Y_training, y_training = training_data\n",
    "    X_validation, Y_validation, y_validation = validation_data\n",
    "\n",
    "    accuracies = []\n",
    "    etas = []\n",
    "    lambdas = []\n",
    "\n",
    "    for regularization_term in [0, 1e-6, 1e-5, 1e-4, 1e-3, 1e-3, 1e-1, 1]:\n",
    "\n",
    "        for _ in range(12):\n",
    "            np.random.seed()\n",
    "            eta_term = np.random.rand(1, 1).flatten()[0]\n",
    "            e = e_min + (e_max - e_min) * eta_term\n",
    "            eta = np.exp(e)\n",
    "            etas.append(eta)\n",
    "\n",
    "            lambdas.append(regularization_term)\n",
    "\n",
    "            GD_params = [100, eta, 10]\n",
    "\n",
    "            W1, b1, W2, b2, training_set_loss, validation_set_loss = MiniBatchGDwithMomentum(X_training,\n",
    "                                                                                             Y_training,\n",
    "                                                                                             X_validation,\n",
    "                                                                                             Y_validation,\n",
    "                                                                                             GD_params,\n",
    "                                                                                             W1, b1, W2, b2,\n",
    "                                                                                             regularization_term=regularization_term)\n",
    "            print('---------------------------------')\n",
    "            print('Learning rate: '+str(eta)+', amount of regularization term: '+str(regularization_term))\n",
    "            accuracy_on_validation_set = ComputeAccuracy(X_validation, y_validation, W1, b1, W2, b2)\n",
    "            accuracies.append(accuracy_on_validation_set)\n",
    "            print('Accuracy performance on the validation set: ', accuracy_on_validation_set)\n",
    "\n",
    "            W1, b1, W2, b2 = initialize_weights(d=X_training.shape[0], m=50, K=Y_training.shape[0])\n",
    "\n",
    "    sort_them_all = sorted(zip(accuracies, etas, lambdas))\n",
    "\n",
    "    best_accuracies = [x for x, _ , _ in sort_them_all]\n",
    "    best_etas = [y for _, y , _ in sort_them_all]\n",
    "    best_lambdas = [z for _, _ , z in sort_them_all]\n",
    "\n",
    "    print('---------------------------------')\n",
    "    print('BEST PERFORMANCE: ', str(best_accuracies[-1]))\n",
    "    print('Best eta: ', best_etas[-1])\n",
    "    print('Best lambda: ', best_lambdas[-1])\n",
    "\n",
    "    print('---------------------------------')\n",
    "    print('SECOND BEST PERFORMANCE: ', str(best_accuracies[-2]))\n",
    "    print('Second best eta: ', best_etas[-2])\n",
    "    print('Second best lambda: ', best_lambdas[-2])\n",
    "\n",
    "    print('---------------------------------')\n",
    "    print('THIRD BEST PERFORMANCE: ', str(best_accuracies[-3]))\n",
    "    print('Third best eta: ', best_etas[-3])\n",
    "    print('Third best lambda: ', best_lambdas[-3])"
   ]
  },
  {
   "cell_type": "code",
   "execution_count": 39,
   "metadata": {},
   "outputs": [
    {
     "name": "stdout",
     "output_type": "stream",
     "text": [
      "---------------------------------\n",
      "Learning rate: 0.01682656011091022, amount of regularization term: 0\n",
      "Accuracy performance on the validation set:  42.83\n",
      "---------------------------------\n",
      "Learning rate: 0.08147359655297683, amount of regularization term: 0\n",
      "Accuracy performance on the validation set:  39.43\n",
      "---------------------------------\n",
      "Learning rate: 0.0475448802275006, amount of regularization term: 0\n",
      "Accuracy performance on the validation set:  41.67\n",
      "---------------------------------\n",
      "Learning rate: 0.043287479050267516, amount of regularization term: 0\n",
      "Accuracy performance on the validation set:  42.23\n",
      "---------------------------------\n",
      "Learning rate: 0.038164956302654054, amount of regularization term: 0\n",
      "Accuracy performance on the validation set:  42.99\n",
      "---------------------------------\n",
      "Learning rate: 0.04900996226997768, amount of regularization term: 0\n",
      "Accuracy performance on the validation set:  41.29\n",
      "---------------------------------\n",
      "Learning rate: 0.09907513432084375, amount of regularization term: 0\n",
      "Accuracy performance on the validation set:  39.41\n",
      "---------------------------------\n",
      "Learning rate: 0.011686139933991247, amount of regularization term: 0\n",
      "Accuracy performance on the validation set:  41.68\n",
      "---------------------------------\n",
      "Learning rate: 0.017519035299645536, amount of regularization term: 0\n",
      "Accuracy performance on the validation set:  43.08\n",
      "---------------------------------\n",
      "Learning rate: 0.04733163471721282, amount of regularization term: 0\n",
      "Accuracy performance on the validation set:  41.17\n",
      "---------------------------------\n",
      "Learning rate: 0.05656525549039319, amount of regularization term: 0\n",
      "Accuracy performance on the validation set:  40.68\n",
      "---------------------------------\n",
      "Learning rate: 0.14319412422134728, amount of regularization term: 0\n",
      "Accuracy performance on the validation set:  37.3\n",
      "---------------------------------\n",
      "Learning rate: 0.04019804454500277, amount of regularization term: 1e-06\n",
      "Accuracy performance on the validation set:  42.98\n",
      "---------------------------------\n",
      "Learning rate: 0.016794085685579822, amount of regularization term: 1e-06\n",
      "Accuracy performance on the validation set:  42.76\n",
      "---------------------------------\n",
      "Learning rate: 0.016083881828390555, amount of regularization term: 1e-06\n",
      "Accuracy performance on the validation set:  43.17\n",
      "---------------------------------\n",
      "Learning rate: 0.07571438698597516, amount of regularization term: 1e-06\n",
      "Accuracy performance on the validation set:  40.09\n",
      "---------------------------------\n",
      "Learning rate: 0.05360049225223563, amount of regularization term: 1e-06\n",
      "Accuracy performance on the validation set:  41.37\n",
      "---------------------------------\n",
      "Learning rate: 0.04900355912791014, amount of regularization term: 1e-06\n",
      "Accuracy performance on the validation set:  42.31\n",
      "---------------------------------\n",
      "Learning rate: 0.028146826880188, amount of regularization term: 1e-06\n",
      "Accuracy performance on the validation set:  43.52\n",
      "---------------------------------\n",
      "Learning rate: 0.048629891920509975, amount of regularization term: 1e-06\n",
      "Accuracy performance on the validation set:  42.05\n",
      "---------------------------------\n",
      "Learning rate: 0.05921185474237473, amount of regularization term: 1e-06\n",
      "Accuracy performance on the validation set:  40.38\n",
      "---------------------------------\n",
      "Learning rate: 0.024547983475131686, amount of regularization term: 1e-06\n",
      "Accuracy performance on the validation set:  43.03\n",
      "---------------------------------\n",
      "Learning rate: 0.017653247956974486, amount of regularization term: 1e-06\n",
      "Accuracy performance on the validation set:  42.94\n",
      "---------------------------------\n",
      "Learning rate: 0.018928620403206566, amount of regularization term: 1e-06\n",
      "Accuracy performance on the validation set:  43.43\n",
      "---------------------------------\n",
      "Learning rate: 0.031164324760240503, amount of regularization term: 1e-05\n",
      "Accuracy performance on the validation set:  43.16\n",
      "---------------------------------\n",
      "Learning rate: 0.033973230476599725, amount of regularization term: 1e-05\n",
      "Accuracy performance on the validation set:  42.69\n",
      "---------------------------------\n",
      "Learning rate: 0.10254166570899542, amount of regularization term: 1e-05\n",
      "Accuracy performance on the validation set:  39.08\n",
      "---------------------------------\n",
      "Learning rate: 0.023202317163829908, amount of regularization term: 1e-05\n",
      "Accuracy performance on the validation set:  43.56\n",
      "---------------------------------\n",
      "Learning rate: 0.10855752415441641, amount of regularization term: 1e-05\n",
      "Accuracy performance on the validation set:  38.52\n",
      "---------------------------------\n",
      "Learning rate: 0.049486840179501376, amount of regularization term: 1e-05\n",
      "Accuracy performance on the validation set:  41.19\n",
      "---------------------------------\n",
      "Learning rate: 0.03179840421420566, amount of regularization term: 1e-05\n",
      "Accuracy performance on the validation set:  43.55\n",
      "---------------------------------\n",
      "Learning rate: 0.01551083226516291, amount of regularization term: 1e-05\n",
      "Accuracy performance on the validation set:  42.73\n",
      "---------------------------------\n",
      "Learning rate: 0.02534053640834971, amount of regularization term: 1e-05\n",
      "Accuracy performance on the validation set:  43.91\n",
      "---------------------------------\n",
      "Learning rate: 0.04210638332625914, amount of regularization term: 1e-05\n",
      "Accuracy performance on the validation set:  42.66\n",
      "---------------------------------\n",
      "Learning rate: 0.015178329624306229, amount of regularization term: 1e-05\n",
      "Accuracy performance on the validation set:  42.82\n",
      "---------------------------------\n",
      "Learning rate: 0.03291033617986169, amount of regularization term: 1e-05\n",
      "Accuracy performance on the validation set:  42.97\n",
      "---------------------------------\n",
      "Learning rate: 0.054879625730251035, amount of regularization term: 0.0001\n",
      "Accuracy performance on the validation set:  40.95\n",
      "---------------------------------\n",
      "Learning rate: 0.010861663856138104, amount of regularization term: 0.0001\n",
      "Accuracy performance on the validation set:  41.24\n",
      "---------------------------------\n",
      "Learning rate: 0.010379502644722469, amount of regularization term: 0.0001\n",
      "Accuracy performance on the validation set:  41.42\n",
      "---------------------------------\n",
      "Learning rate: 0.06053548823296675, amount of regularization term: 0.0001\n",
      "Accuracy performance on the validation set:  40.7\n",
      "---------------------------------\n",
      "Learning rate: 0.01837583023272926, amount of regularization term: 0.0001\n",
      "Accuracy performance on the validation set:  43.31\n",
      "---------------------------------\n",
      "Learning rate: 0.056858783704962716, amount of regularization term: 0.0001\n",
      "Accuracy performance on the validation set:  40.67\n",
      "---------------------------------\n",
      "Learning rate: 0.06009443887505436, amount of regularization term: 0.0001\n",
      "Accuracy performance on the validation set:  41.39\n",
      "---------------------------------\n",
      "Learning rate: 0.019167560702978606, amount of regularization term: 0.0001\n",
      "Accuracy performance on the validation set:  43.14\n",
      "---------------------------------\n",
      "Learning rate: 0.04539492448976539, amount of regularization term: 0.0001\n",
      "Accuracy performance on the validation set:  42.29\n",
      "---------------------------------\n",
      "Learning rate: 0.138688787102051, amount of regularization term: 0.0001\n",
      "Accuracy performance on the validation set:  38.5\n",
      "---------------------------------\n",
      "Learning rate: 0.015908661291381975, amount of regularization term: 0.0001\n",
      "Accuracy performance on the validation set:  42.94\n",
      "---------------------------------\n",
      "Learning rate: 0.018907791676209398, amount of regularization term: 0.0001\n",
      "Accuracy performance on the validation set:  43.43\n",
      "---------------------------------\n",
      "Learning rate: 0.04994912409378349, amount of regularization term: 0.001\n",
      "Accuracy performance on the validation set:  42.53\n",
      "---------------------------------\n",
      "Learning rate: 0.04826242372420252, amount of regularization term: 0.001\n",
      "Accuracy performance on the validation set:  42.27\n",
      "---------------------------------\n",
      "Learning rate: 0.02943170892939651, amount of regularization term: 0.001\n",
      "Accuracy performance on the validation set:  43.09\n",
      "---------------------------------\n",
      "Learning rate: 0.014913600850622337, amount of regularization term: 0.001\n",
      "Accuracy performance on the validation set:  42.65\n"
     ]
    },
    {
     "name": "stdout",
     "output_type": "stream",
     "text": [
      "---------------------------------\n",
      "Learning rate: 0.04521203024064449, amount of regularization term: 0.001\n",
      "Accuracy performance on the validation set:  42.36\n",
      "---------------------------------\n",
      "Learning rate: 0.05676789861851565, amount of regularization term: 0.001\n",
      "Accuracy performance on the validation set:  41.22\n",
      "---------------------------------\n",
      "Learning rate: 0.018800130793788727, amount of regularization term: 0.001\n",
      "Accuracy performance on the validation set:  43.22\n",
      "---------------------------------\n",
      "Learning rate: 0.03081995705702969, amount of regularization term: 0.001\n",
      "Accuracy performance on the validation set:  43.77\n",
      "---------------------------------\n",
      "Learning rate: 0.01843306331980966, amount of regularization term: 0.001\n",
      "Accuracy performance on the validation set:  43.12\n",
      "---------------------------------\n",
      "Learning rate: 0.012499263976140852, amount of regularization term: 0.001\n",
      "Accuracy performance on the validation set:  42.22\n",
      "---------------------------------\n",
      "Learning rate: 0.030378861572303927, amount of regularization term: 0.001\n",
      "Accuracy performance on the validation set:  43.56\n",
      "---------------------------------\n",
      "Learning rate: 0.05079411511126532, amount of regularization term: 0.001\n",
      "Accuracy performance on the validation set:  42.12\n",
      "---------------------------------\n",
      "Learning rate: 0.030687177183315043, amount of regularization term: 0.001\n",
      "Accuracy performance on the validation set:  43.99\n",
      "---------------------------------\n",
      "Learning rate: 0.010189665662864767, amount of regularization term: 0.001\n",
      "Accuracy performance on the validation set:  41.03\n",
      "---------------------------------\n",
      "Learning rate: 0.021318066304353626, amount of regularization term: 0.001\n",
      "Accuracy performance on the validation set:  43.39\n",
      "---------------------------------\n",
      "Learning rate: 0.022467027269745574, amount of regularization term: 0.001\n",
      "Accuracy performance on the validation set:  43.66\n",
      "---------------------------------\n",
      "Learning rate: 0.027321758826846766, amount of regularization term: 0.001\n",
      "Accuracy performance on the validation set:  43.6\n",
      "---------------------------------\n",
      "Learning rate: 0.09891438553772101, amount of regularization term: 0.001\n",
      "Accuracy performance on the validation set:  39.55\n",
      "---------------------------------\n",
      "Learning rate: 0.10174727962157734, amount of regularization term: 0.001\n",
      "Accuracy performance on the validation set:  38.78\n",
      "---------------------------------\n",
      "Learning rate: 0.05593741729160568, amount of regularization term: 0.001\n",
      "Accuracy performance on the validation set:  41.94\n",
      "---------------------------------\n",
      "Learning rate: 0.016495023956004305, amount of regularization term: 0.001\n",
      "Accuracy performance on the validation set:  42.87\n",
      "---------------------------------\n",
      "Learning rate: 0.02878809988519304, amount of regularization term: 0.001\n",
      "Accuracy performance on the validation set:  44.07\n",
      "---------------------------------\n",
      "Learning rate: 0.12550474812525625, amount of regularization term: 0.001\n",
      "Accuracy performance on the validation set:  39.27\n",
      "---------------------------------\n",
      "Learning rate: 0.07333912687434561, amount of regularization term: 0.001\n",
      "Accuracy performance on the validation set:  40.41\n",
      "---------------------------------\n",
      "Learning rate: 0.028255036480758507, amount of regularization term: 0.1\n",
      "Accuracy performance on the validation set:  24.7\n",
      "---------------------------------\n",
      "Learning rate: 0.010708396479081962, amount of regularization term: 0.1\n",
      "Accuracy performance on the validation set:  23.46\n",
      "---------------------------------\n",
      "Learning rate: 0.06379632007013931, amount of regularization term: 0.1\n",
      "Accuracy performance on the validation set:  23.13\n",
      "---------------------------------\n",
      "Learning rate: 0.13795807934911353, amount of regularization term: 0.1\n",
      "Accuracy performance on the validation set:  20.77\n",
      "---------------------------------\n",
      "Learning rate: 0.07588635931581976, amount of regularization term: 0.1\n",
      "Accuracy performance on the validation set:  22.37\n",
      "---------------------------------\n",
      "Learning rate: 0.13178990760457537, amount of regularization term: 0.1\n",
      "Accuracy performance on the validation set:  20.84\n",
      "---------------------------------\n",
      "Learning rate: 0.08452665757283993, amount of regularization term: 0.1\n",
      "Accuracy performance on the validation set:  21.88\n",
      "---------------------------------\n",
      "Learning rate: 0.05023907690676868, amount of regularization term: 0.1\n",
      "Accuracy performance on the validation set:  23.62\n",
      "---------------------------------\n",
      "Learning rate: 0.10363623467898764, amount of regularization term: 0.1\n",
      "Accuracy performance on the validation set:  22.39\n",
      "---------------------------------\n",
      "Learning rate: 0.03464417283015146, amount of regularization term: 0.1\n",
      "Accuracy performance on the validation set:  25.0\n",
      "---------------------------------\n",
      "Learning rate: 0.06593471633768254, amount of regularization term: 0.1\n",
      "Accuracy performance on the validation set:  23.17\n",
      "---------------------------------\n",
      "Learning rate: 0.02743138636427112, amount of regularization term: 0.1\n",
      "Accuracy performance on the validation set:  24.79\n",
      "---------------------------------\n",
      "Learning rate: 0.04202972648929199, amount of regularization term: 1\n",
      "Accuracy performance on the validation set:  9.95\n",
      "---------------------------------\n",
      "Learning rate: 0.05008693593833101, amount of regularization term: 1\n",
      "Accuracy performance on the validation set:  9.95\n",
      "---------------------------------\n",
      "Learning rate: 0.08897933057626109, amount of regularization term: 1\n",
      "Accuracy performance on the validation set:  9.95\n",
      "---------------------------------\n",
      "Learning rate: 0.03762429744581556, amount of regularization term: 1\n",
      "Accuracy performance on the validation set:  9.95\n",
      "---------------------------------\n",
      "Learning rate: 0.09389941977949179, amount of regularization term: 1\n",
      "Accuracy performance on the validation set:  9.95\n",
      "---------------------------------\n",
      "Learning rate: 0.14756332290319127, amount of regularization term: 1\n",
      "Accuracy performance on the validation set:  10.07\n",
      "---------------------------------\n",
      "Learning rate: 0.021494380249831607, amount of regularization term: 1\n",
      "Accuracy performance on the validation set:  9.87\n",
      "---------------------------------\n",
      "Learning rate: 0.028875238745669603, amount of regularization term: 1\n",
      "Accuracy performance on the validation set:  9.95\n",
      "---------------------------------\n",
      "Learning rate: 0.026433831992196736, amount of regularization term: 1\n",
      "Accuracy performance on the validation set:  9.87\n",
      "---------------------------------\n",
      "Learning rate: 0.048884766775920005, amount of regularization term: 1\n",
      "Accuracy performance on the validation set:  9.95\n",
      "---------------------------------\n",
      "Learning rate: 0.01962453073060799, amount of regularization term: 1\n",
      "Accuracy performance on the validation set:  9.87\n",
      "---------------------------------\n",
      "Learning rate: 0.015795002915286058, amount of regularization term: 1\n",
      "Accuracy performance on the validation set:  9.87\n",
      "---------------------------------\n",
      "BEST PERFORMANCE:  44.07\n",
      "Best eta:  0.02878809988519304\n",
      "Best lambda:  0.001\n",
      "---------------------------------\n",
      "SECOND BEST PERFORMANCE:  43.99\n",
      "Second best eta:  0.030687177183315043\n",
      "Second best lambda:  0.001\n",
      "---------------------------------\n",
      "THIRD BEST PERFORMANCE:  43.91\n",
      "Third best eta:  0.02534053640834971\n",
      "Third best lambda:  1e-05\n"
     ]
    }
   ],
   "source": [
    "coarse_search()"
   ]
  },
  {
   "cell_type": "markdown",
   "metadata": {},
   "source": [
    "#### Fine search"
   ]
  },
  {
   "cell_type": "code",
   "execution_count": 60,
   "metadata": {},
   "outputs": [],
   "source": [
    "def fine_search():\n",
    "    \"\"\"\n",
    "    Fine search, where we examine the most interesting pairings that were observed during the coarse search.\n",
    "\n",
    "    :return: accuracies, etas and lambdas of the search\n",
    "    \"\"\"\n",
    "\n",
    "    training_data, validation_data, test_data, W1, b1, W2, b2 = exercise_1()\n",
    "    X_training, Y_training, y_training = training_data\n",
    "    X_validation, Y_validation, y_validation = validation_data\n",
    "\n",
    "    accuracies = []\n",
    "    etas = []\n",
    "    lambdas = []\n",
    "\n",
    "    # For a regularization amount as small as 1e-6, the closest to a 44% validation set\n",
    "    # accuracy performance was spotted for values of eta ~[0.18, 0.28]\n",
    "    regularization_term = 1e-6\n",
    "\n",
    "    W1, b1, W2, b2 = initialize_weights(d=X_training.shape[0], m=50, K=Y_training.shape[0])\n",
    "\n",
    "    for _ in range(10):\n",
    "        np.random.seed()\n",
    "        eta_term = np.random.rand(1, 1).flatten()[0]\n",
    "        e_min = np.log(0.017)\n",
    "        e_max = np.log(0.019)\n",
    "        e = e_min + (e_max - e_min) * eta_term\n",
    "        eta = np.exp(e)\n",
    "        etas.append(eta)\n",
    "\n",
    "        lambdas.append(regularization_term)\n",
    "\n",
    "        GD_params = [100, eta, 10]\n",
    "\n",
    "        W1, b1, W2, b2, training_set_loss, validation_set_loss = MiniBatchGDwithMomentum(X_training,\n",
    "                                                                                         Y_training,\n",
    "                                                                                         X_validation,\n",
    "                                                                                         Y_validation,\n",
    "                                                                                         y_validation,\n",
    "                                                                                         GD_params,\n",
    "                                                                                         W1, b1, W2, b2,\n",
    "                                                                                         regularization_term=regularization_term)\n",
    "        print('---------------------------------')\n",
    "        print('Learning rate: ' + str(eta) + ', amount of regularization term: ' + str(regularization_term))\n",
    "        accuracy_on_validation_set = ComputeAccuracy(X_validation, y_validation, W1, b1, W2, b2)\n",
    "        accuracies.append(accuracy_on_validation_set)\n",
    "        print('Accuracy performance on the validation set: ', accuracy_on_validation_set)\n",
    "        \n",
    "    W1, b1, W2, b2 = initialize_weights(d=X_training.shape[0], m=50, K=Y_training.shape[0])\n",
    "\n",
    "    for _ in range(10):\n",
    "        np.random.seed()\n",
    "        eta_term = np.random.rand(1, 1).flatten()[0]\n",
    "        e_min = np.log(0.027)\n",
    "        e_max = np.log(0.029)\n",
    "        e = e_min + (e_max - e_min) * eta_term\n",
    "        eta = np.exp(e)\n",
    "        etas.append(eta)\n",
    "\n",
    "        lambdas.append(regularization_term)\n",
    "\n",
    "        GD_params = [100, eta, 10]\n",
    "\n",
    "        W1, b1, W2, b2, training_set_loss, validation_set_loss = MiniBatchGDwithMomentum(X_training,\n",
    "                                                                                         Y_training,\n",
    "                                                                                         X_validation,\n",
    "                                                                                         Y_validation,\n",
    "                                                                                         y_validation,\n",
    "                                                                                         GD_params,\n",
    "                                                                                         W1, b1, W2, b2,\n",
    "                                                                                         regularization_term=regularization_term)\n",
    "        print('---------------------------------')\n",
    "        print('Learning rate: ' + str(eta) + ', amount of regularization term: ' + str(regularization_term))\n",
    "        accuracy_on_validation_set = ComputeAccuracy(X_validation, y_validation, W1, b1, W2, b2)\n",
    "        accuracies.append(accuracy_on_validation_set)\n",
    "        print('Accuracy performance on the validation set: ', accuracy_on_validation_set)\n",
    "        \n",
    "    # For a regularization amount as small as 1e-5, the closest to a 44% validation set\n",
    "    # accuracy performance was spotted for values of eta ~[0.22, 0.25]\n",
    "    regularization_term = 1e-5\n",
    "    \n",
    "    W1, b1, W2, b2 = initialize_weights(d=X_training.shape[0], m=50, K=Y_training.shape[0])\n",
    "\n",
    "    for _ in range(20):\n",
    "        np.random.seed()\n",
    "        eta_term = np.random.rand(1, 1).flatten()[0]\n",
    "        e_min = np.log(0.022)\n",
    "        e_max = np.log(0.027)\n",
    "        e = e_min + (e_max - e_min) * eta_term\n",
    "        eta = np.exp(e)\n",
    "        etas.append(eta)\n",
    "\n",
    "        lambdas.append(regularization_term)\n",
    "\n",
    "        GD_params = [100, eta, 10]\n",
    "\n",
    "        W1, b1, W2, b2, training_set_loss, validation_set_loss = MiniBatchGDwithMomentum(X_training,\n",
    "                                                                                         Y_training,\n",
    "                                                                                         X_validation,\n",
    "                                                                                         Y_validation,\n",
    "                                                                                         y_validation,\n",
    "                                                                                         GD_params,\n",
    "                                                                                         W1, b1, W2, b2,\n",
    "                                                                                         regularization_term=regularization_term)\n",
    "        print('---------------------------------')\n",
    "        print('Learning rate: ' + str(eta) + ', amount of regularization term: ' + str(regularization_term))\n",
    "        accuracy_on_validation_set = ComputeAccuracy(X_validation, y_validation, W1, b1, W2, b2)\n",
    "        accuracies.append(accuracy_on_validation_set)\n",
    "        print('Accuracy performance on the validation set: ', accuracy_on_validation_set)\n",
    "\n",
    "    # For a regularization amount as high as 1e-4, the closest to a 44% validation set\n",
    "    # accuracy performance was spotted for values of eta ~0.18\n",
    "    regularization_term = 1e-4\n",
    "    \n",
    "    W1, b1, W2, b2 = initialize_weights(d=X_training.shape[0], m=50, K=Y_training.shape[0])\n",
    "\n",
    "    for _ in range(10):\n",
    "        np.random.seed()\n",
    "        eta_term = np.random.rand(1, 1).flatten()[0]\n",
    "        e_min = np.log(0.017)\n",
    "        e_max = np.log(0.019)\n",
    "        e = e_min + (e_max - e_min) * eta_term\n",
    "        eta = np.exp(e)\n",
    "        etas.append(eta)\n",
    "\n",
    "        lambdas.append(regularization_term)\n",
    "\n",
    "        GD_params = [100, eta, 10]\n",
    "\n",
    "        W1, b1, W2, b2, training_set_loss, validation_set_loss = MiniBatchGDwithMomentum(X_training,\n",
    "                                                                                         Y_training,\n",
    "                                                                                         X_validation,\n",
    "                                                                                         Y_validation,\n",
    "                                                                                         y_validation,\n",
    "                                                                                         GD_params,\n",
    "                                                                                         W1, b1, W2, b2,\n",
    "                                                                                         regularization_term=regularization_term)\n",
    "        print('---------------------------------')\n",
    "        print('Learning rate: ' + str(eta) + ', amount of regularization term: ' + str(regularization_term))\n",
    "        accuracy_on_validation_set = ComputeAccuracy(X_validation, y_validation, W1, b1, W2, b2)\n",
    "        accuracies.append(accuracy_on_validation_set)\n",
    "        print('Accuracy performance on the validation set: ', accuracy_on_validation_set)\n",
    "        \n",
    "    # For a regularization amount as high as 1e-3, the closest to a 44% validation set\n",
    "    # accuracy performance was spotted for values of eta ~0.28 and eta ~0.3\n",
    "    regularization_term = 1e-3\n",
    "    \n",
    "    W1, b1, W2, b2 = initialize_weights(d=X_training.shape[0], m=50, K=Y_training.shape[0])\n",
    "\n",
    "    for _ in range(20):\n",
    "        np.random.seed()\n",
    "        eta_term = np.random.rand(1, 1).flatten()[0]\n",
    "        e_min = np.log(0.028)\n",
    "        e_max = np.log(0.032)\n",
    "        e = e_min + (e_max - e_min) * eta_term\n",
    "        eta = np.exp(e)\n",
    "        etas.append(eta)\n",
    "\n",
    "        lambdas.append(regularization_term)\n",
    "\n",
    "        GD_params = [100, eta, 10]\n",
    "\n",
    "        W1, b1, W2, b2, training_set_loss, validation_set_loss = MiniBatchGDwithMomentum(X_training,\n",
    "                                                                                         Y_training,\n",
    "                                                                                         X_validation,\n",
    "                                                                                         Y_validation,\n",
    "                                                                                         y_validation,\n",
    "                                                                                         GD_params,\n",
    "                                                                                         W1, b1, W2, b2,\n",
    "                                                                                         regularization_term=regularization_term)\n",
    "        print('---------------------------------')\n",
    "        print('Learning rate: ' + str(eta) + ', amount of regularization term: ' + str(regularization_term))\n",
    "        accuracy_on_validation_set = ComputeAccuracy(X_validation, y_validation, W1, b1, W2, b2)\n",
    "        accuracies.append(accuracy_on_validation_set)\n",
    "        print('Accuracy performance on the validation set: ', accuracy_on_validation_set)\n",
    "        \n",
    "    sort_them_all = sorted(zip(accuracies, etas, lambdas))\n",
    "\n",
    "    best_accuracies = [x for x, _, _ in sort_them_all]\n",
    "    best_etas = [y for _, y, _ in sort_them_all]\n",
    "    best_lambdas = [z for _, _, z in sort_them_all]\n",
    "\n",
    "    print('---------------------------------')\n",
    "    print('BEST PERFORMANCE: ', str(best_accuracies[-1]))\n",
    "    print('Best eta: ', best_etas[-1])\n",
    "    print('Best lambda: ', best_lambdas[-1])\n",
    "    \n",
    "    print('---------------------------------')\n",
    "    print('SECOND BEST PERFORMANCE: ', str(best_accuracies[-2]))\n",
    "    print('Second best eta: ', best_etas[-2])\n",
    "    print('Second best lambda: ', best_lambdas[-2])\n",
    "    \n",
    "    print('---------------------------------')\n",
    "    print('THIRD BEST PERFORMANCE: ', str(best_accuracies[-3]))\n",
    "    print('Third best eta: ', best_etas[-3])\n",
    "    print('Third best lambda: ', best_lambdas[-3])"
   ]
  },
  {
   "cell_type": "markdown",
   "metadata": {},
   "source": [
    "First run of fine search, with stable weight initialization of np.random.seed(400)"
   ]
  },
  {
   "cell_type": "code",
   "execution_count": 61,
   "metadata": {},
   "outputs": [
    {
     "name": "stdout",
     "output_type": "stream",
     "text": [
      "---------------------------------\n",
      "Learning rate: 0.018551777558089223, amount of regularization term: 1e-06\n",
      "Accuracy performance on the validation set:  43.11\n",
      "---------------------------------\n",
      "Learning rate: 0.018394727031491028, amount of regularization term: 1e-06\n",
      "Accuracy performance on the validation set:  43.91\n",
      "---------------------------------\n",
      "Learning rate: 0.018794276687985924, amount of regularization term: 1e-06\n",
      "Accuracy performance on the validation set:  42.25\n",
      "---------------------------------\n",
      "Learning rate: 0.018241269856306787, amount of regularization term: 1e-06\n",
      "Accuracy performance on the validation set:  41.24\n",
      "---------------------------------\n",
      "Learning rate: 0.018524400049430092, amount of regularization term: 1e-06\n",
      "Accuracy performance on the validation set:  39.84\n",
      "---------------------------------\n",
      "Learning rate: 0.018965984141744892, amount of regularization term: 1e-06\n",
      "Accuracy performance on the validation set:  38.28\n",
      "---------------------------------\n",
      "Learning rate: 0.01833161258277227, amount of regularization term: 1e-06\n",
      "Accuracy performance on the validation set:  37.31\n",
      "---------------------------------\n",
      "Learning rate: 0.017482713735581825, amount of regularization term: 1e-06\n",
      "Accuracy performance on the validation set:  39.51\n",
      "---------------------------------\n",
      "Learning rate: 0.017203967182204252, amount of regularization term: 1e-06\n",
      "Accuracy performance on the validation set:  39.66\n",
      "---------------------------------\n",
      "Learning rate: 0.0177339958883317, amount of regularization term: 1e-06\n",
      "Accuracy performance on the validation set:  38.9\n",
      "---------------------------------\n",
      "Learning rate: 0.027294804035699335, amount of regularization term: 1e-06\n",
      "Accuracy performance on the validation set:  43.59\n",
      "---------------------------------\n",
      "Learning rate: 0.02768614807009409, amount of regularization term: 1e-06\n",
      "Accuracy performance on the validation set:  42.73\n",
      "---------------------------------\n",
      "Learning rate: 0.027433248352692476, amount of regularization term: 1e-06\n",
      "Accuracy performance on the validation set:  41.06\n",
      "---------------------------------\n",
      "Learning rate: 0.028291304100121397, amount of regularization term: 1e-06\n",
      "Accuracy performance on the validation set:  39.71\n",
      "---------------------------------\n",
      "Learning rate: 0.0281266471986095, amount of regularization term: 1e-06\n",
      "Accuracy performance on the validation set:  37.09\n",
      "---------------------------------\n",
      "Learning rate: 0.027381577145452658, amount of regularization term: 1e-06\n",
      "Accuracy performance on the validation set:  37.18\n",
      "---------------------------------\n",
      "Learning rate: 0.02872811086425426, amount of regularization term: 1e-06\n",
      "Accuracy performance on the validation set:  37.68\n",
      "---------------------------------\n",
      "Learning rate: 0.027145182713308166, amount of regularization term: 1e-06\n",
      "Accuracy performance on the validation set:  37.25\n",
      "---------------------------------\n",
      "Learning rate: 0.027445041032857696, amount of regularization term: 1e-06\n",
      "Accuracy performance on the validation set:  37.38\n",
      "---------------------------------\n",
      "Learning rate: 0.0277807530524516, amount of regularization term: 1e-06\n",
      "Accuracy performance on the validation set:  38.48\n",
      "---------------------------------\n",
      "Learning rate: 0.024114800100445442, amount of regularization term: 1e-05\n",
      "Accuracy performance on the validation set:  43.34\n",
      "---------------------------------\n",
      "Learning rate: 0.02440283052983749, amount of regularization term: 1e-05\n",
      "Accuracy performance on the validation set:  42.62\n",
      "---------------------------------\n",
      "Learning rate: 0.02348139055456041, amount of regularization term: 1e-05\n",
      "Accuracy performance on the validation set:  41.51\n",
      "---------------------------------\n",
      "Learning rate: 0.025620780601725342, amount of regularization term: 1e-05\n",
      "Accuracy performance on the validation set:  40.28\n",
      "---------------------------------\n",
      "Learning rate: 0.025664861368040564, amount of regularization term: 1e-05\n",
      "Accuracy performance on the validation set:  38.22\n",
      "---------------------------------\n",
      "Learning rate: 0.026037686941377255, amount of regularization term: 1e-05\n",
      "Accuracy performance on the validation set:  38.58\n",
      "---------------------------------\n",
      "Learning rate: 0.02274944648471371, amount of regularization term: 1e-05\n",
      "Accuracy performance on the validation set:  38.5\n",
      "---------------------------------\n",
      "Learning rate: 0.022884723661039094, amount of regularization term: 1e-05\n",
      "Accuracy performance on the validation set:  39.07\n",
      "---------------------------------\n",
      "Learning rate: 0.02202774075754058, amount of regularization term: 1e-05\n",
      "Accuracy performance on the validation set:  38.94\n",
      "---------------------------------\n",
      "Learning rate: 0.022819700438746923, amount of regularization term: 1e-05\n",
      "Accuracy performance on the validation set:  38.43\n",
      "---------------------------------\n",
      "Learning rate: 0.026497140092720067, amount of regularization term: 1e-05\n",
      "Accuracy performance on the validation set:  38.48\n",
      "---------------------------------\n",
      "Learning rate: 0.025354656912322908, amount of regularization term: 1e-05\n",
      "Accuracy performance on the validation set:  38.69\n",
      "---------------------------------\n",
      "Learning rate: 0.026017548708873777, amount of regularization term: 1e-05\n",
      "Accuracy performance on the validation set:  38.46\n",
      "---------------------------------\n",
      "Learning rate: 0.02286874976414767, amount of regularization term: 1e-05\n",
      "Accuracy performance on the validation set:  38.13\n",
      "---------------------------------\n",
      "Learning rate: 0.02403351061617675, amount of regularization term: 1e-05\n",
      "Accuracy performance on the validation set:  38.35\n",
      "---------------------------------\n",
      "Learning rate: 0.02384434332088455, amount of regularization term: 1e-05\n",
      "Accuracy performance on the validation set:  37.67\n",
      "---------------------------------\n",
      "Learning rate: 0.023733628607507103, amount of regularization term: 1e-05\n",
      "Accuracy performance on the validation set:  37.89\n",
      "---------------------------------\n",
      "Learning rate: 0.022559062001778266, amount of regularization term: 1e-05\n",
      "Accuracy performance on the validation set:  38.48\n",
      "---------------------------------\n",
      "Learning rate: 0.024628749820408274, amount of regularization term: 1e-05\n",
      "Accuracy performance on the validation set:  39.02\n",
      "---------------------------------\n",
      "Learning rate: 0.026362034980347383, amount of regularization term: 1e-05\n",
      "Accuracy performance on the validation set:  38.99\n",
      "---------------------------------\n",
      "Learning rate: 0.017826300783925608, amount of regularization term: 0.0001\n",
      "Accuracy performance on the validation set:  43.0\n",
      "---------------------------------\n",
      "Learning rate: 0.01713848118474131, amount of regularization term: 0.0001\n",
      "Accuracy performance on the validation set:  44.44\n",
      "---------------------------------\n",
      "Learning rate: 0.017883358434445367, amount of regularization term: 0.0001\n",
      "Accuracy performance on the validation set:  42.76\n",
      "---------------------------------\n",
      "Learning rate: 0.017902511492594277, amount of regularization term: 0.0001\n",
      "Accuracy performance on the validation set:  40.66\n",
      "---------------------------------\n",
      "Learning rate: 0.018280745344583287, amount of regularization term: 0.0001\n",
      "Accuracy performance on the validation set:  39.6\n",
      "---------------------------------\n",
      "Learning rate: 0.017444045108426447, amount of regularization term: 0.0001\n",
      "Accuracy performance on the validation set:  38.53\n",
      "---------------------------------\n",
      "Learning rate: 0.018930170037312778, amount of regularization term: 0.0001\n",
      "Accuracy performance on the validation set:  38.26\n",
      "---------------------------------\n",
      "Learning rate: 0.0172392255955838, amount of regularization term: 0.0001\n",
      "Accuracy performance on the validation set:  37.44\n",
      "---------------------------------\n",
      "Learning rate: 0.017209158123335837, amount of regularization term: 0.0001\n",
      "Accuracy performance on the validation set:  38.82\n",
      "---------------------------------\n",
      "Learning rate: 0.01768423975275892, amount of regularization term: 0.0001\n",
      "Accuracy performance on the validation set:  38.72\n",
      "---------------------------------\n",
      "Learning rate: 0.029193158018971287, amount of regularization term: 0.001\n",
      "Accuracy performance on the validation set:  43.71\n",
      "---------------------------------\n",
      "Learning rate: 0.03122032892461537, amount of regularization term: 0.001\n",
      "Accuracy performance on the validation set:  42.91\n"
     ]
    },
    {
     "name": "stdout",
     "output_type": "stream",
     "text": [
      "---------------------------------\n",
      "Learning rate: 0.03158470815148951, amount of regularization term: 0.001\n",
      "Accuracy performance on the validation set:  41.79\n",
      "---------------------------------\n",
      "Learning rate: 0.028971755173387584, amount of regularization term: 0.001\n",
      "Accuracy performance on the validation set:  40.61\n",
      "---------------------------------\n",
      "Learning rate: 0.029276101740644846, amount of regularization term: 0.001\n",
      "Accuracy performance on the validation set:  40.32\n",
      "---------------------------------\n",
      "Learning rate: 0.030082938532698444, amount of regularization term: 0.001\n",
      "Accuracy performance on the validation set:  40.35\n",
      "---------------------------------\n",
      "Learning rate: 0.029764805685603024, amount of regularization term: 0.001\n",
      "Accuracy performance on the validation set:  40.01\n",
      "---------------------------------\n",
      "Learning rate: 0.029477122315135385, amount of regularization term: 0.001\n",
      "Accuracy performance on the validation set:  39.67\n",
      "---------------------------------\n",
      "Learning rate: 0.030766947091804962, amount of regularization term: 0.001\n",
      "Accuracy performance on the validation set:  39.37\n",
      "---------------------------------\n",
      "Learning rate: 0.030384684033102898, amount of regularization term: 0.001\n",
      "Accuracy performance on the validation set:  39.41\n",
      "---------------------------------\n",
      "Learning rate: 0.030683234921777255, amount of regularization term: 0.001\n",
      "Accuracy performance on the validation set:  39.66\n",
      "---------------------------------\n",
      "Learning rate: 0.028582157678265174, amount of regularization term: 0.001\n",
      "Accuracy performance on the validation set:  39.11\n",
      "---------------------------------\n",
      "Learning rate: 0.03196654743302206, amount of regularization term: 0.001\n",
      "Accuracy performance on the validation set:  39.63\n",
      "---------------------------------\n",
      "Learning rate: 0.030109825809091724, amount of regularization term: 0.001\n",
      "Accuracy performance on the validation set:  39.55\n",
      "---------------------------------\n",
      "Learning rate: 0.029530150573103025, amount of regularization term: 0.001\n",
      "Accuracy performance on the validation set:  39.13\n",
      "---------------------------------\n",
      "Learning rate: 0.030993215070578305, amount of regularization term: 0.001\n",
      "Accuracy performance on the validation set:  39.31\n",
      "---------------------------------\n",
      "Learning rate: 0.0284060022195386, amount of regularization term: 0.001\n",
      "Accuracy performance on the validation set:  38.47\n",
      "---------------------------------\n",
      "Learning rate: 0.029533859510374412, amount of regularization term: 0.001\n",
      "Accuracy performance on the validation set:  37.76\n",
      "---------------------------------\n",
      "Learning rate: 0.028011698623292457, amount of regularization term: 0.001\n",
      "Accuracy performance on the validation set:  38.4\n",
      "---------------------------------\n",
      "Learning rate: 0.028884316476573718, amount of regularization term: 0.001\n",
      "Accuracy performance on the validation set:  38.04\n",
      "---------------------------------\n",
      "BEST PERFORMANCE:  44.44\n",
      "Best eta:  0.01713848118474131\n",
      "Best lambda:  0.0001\n",
      "---------------------------------\n",
      "SECOND BEST PERFORMANCE:  43.91\n",
      "Second best eta:  0.018394727031491028\n",
      "Second best lambda:  1e-06\n",
      "---------------------------------\n",
      "THIRD BEST PERFORMANCE:  43.71\n",
      "Third best eta:  0.029193158018971287\n",
      "Third best lambda:  0.001\n"
     ]
    }
   ],
   "source": [
    "fine_search()"
   ]
  },
  {
   "cell_type": "markdown",
   "metadata": {},
   "source": [
    "Second run of fine search"
   ]
  },
  {
   "cell_type": "code",
   "execution_count": 90,
   "metadata": {},
   "outputs": [
    {
     "name": "stdout",
     "output_type": "stream",
     "text": [
      "---------------------------------\n",
      "Learning rate: 0.017735018087604103, amount of regularization term: 1e-06\n",
      "Accuracy performance on the validation set:  42.97\n",
      "---------------------------------\n",
      "Learning rate: 0.01746419667496226, amount of regularization term: 1e-06\n",
      "Accuracy performance on the validation set:  43.42\n",
      "---------------------------------\n",
      "Learning rate: 0.018093247549295238, amount of regularization term: 1e-06\n",
      "Accuracy performance on the validation set:  41.48\n",
      "---------------------------------\n",
      "Learning rate: 0.018926477020422043, amount of regularization term: 1e-06\n",
      "Accuracy performance on the validation set:  40.29\n",
      "---------------------------------\n",
      "Learning rate: 0.018826625600027246, amount of regularization term: 1e-06\n",
      "Accuracy performance on the validation set:  38.48\n",
      "---------------------------------\n",
      "Learning rate: 0.018152155213339433, amount of regularization term: 1e-06\n",
      "Accuracy performance on the validation set:  39.51\n",
      "---------------------------------\n",
      "Learning rate: 0.018836422206563137, amount of regularization term: 1e-06\n",
      "Accuracy performance on the validation set:  38.19\n",
      "---------------------------------\n",
      "Learning rate: 0.017318336044510982, amount of regularization term: 1e-06\n",
      "Accuracy performance on the validation set:  37.65\n",
      "---------------------------------\n",
      "Learning rate: 0.01885412675376466, amount of regularization term: 1e-06\n",
      "Accuracy performance on the validation set:  37.88\n",
      "---------------------------------\n",
      "Learning rate: 0.018946688167993896, amount of regularization term: 1e-06\n",
      "Accuracy performance on the validation set:  39.03\n",
      "---------------------------------\n",
      "Learning rate: 0.028960908730851248, amount of regularization term: 1e-06\n",
      "Accuracy performance on the validation set:  42.87\n",
      "---------------------------------\n",
      "Learning rate: 0.0287033408950022, amount of regularization term: 1e-06\n",
      "Accuracy performance on the validation set:  41.32\n",
      "---------------------------------\n",
      "Learning rate: 0.02841414426365495, amount of regularization term: 1e-06\n",
      "Accuracy performance on the validation set:  39.58\n",
      "---------------------------------\n",
      "Learning rate: 0.027022855138298597, amount of regularization term: 1e-06\n",
      "Accuracy performance on the validation set:  38.95\n",
      "---------------------------------\n",
      "Learning rate: 0.028156600897847682, amount of regularization term: 1e-06\n",
      "Accuracy performance on the validation set:  38.03\n",
      "---------------------------------\n",
      "Learning rate: 0.028437042628515177, amount of regularization term: 1e-06\n",
      "Accuracy performance on the validation set:  38.55\n",
      "---------------------------------\n",
      "Learning rate: 0.028820806455506942, amount of regularization term: 1e-06\n",
      "Accuracy performance on the validation set:  38.28\n",
      "---------------------------------\n",
      "Learning rate: 0.0284238099200546, amount of regularization term: 1e-06\n",
      "Accuracy performance on the validation set:  38.53\n",
      "---------------------------------\n",
      "Learning rate: 0.027915506311373562, amount of regularization term: 1e-06\n",
      "Accuracy performance on the validation set:  37.95\n",
      "---------------------------------\n",
      "Learning rate: 0.027003392358550114, amount of regularization term: 1e-06\n",
      "Accuracy performance on the validation set:  37.9\n",
      "---------------------------------\n",
      "Learning rate: 0.026925585997753746, amount of regularization term: 1e-05\n",
      "Accuracy performance on the validation set:  43.73\n",
      "---------------------------------\n",
      "Learning rate: 0.023723641054404398, amount of regularization term: 1e-05\n",
      "Accuracy performance on the validation set:  41.75\n",
      "---------------------------------\n",
      "Learning rate: 0.022483372485230017, amount of regularization term: 1e-05\n",
      "Accuracy performance on the validation set:  40.07\n",
      "---------------------------------\n",
      "Learning rate: 0.025430739862279717, amount of regularization term: 1e-05\n",
      "Accuracy performance on the validation set:  39.79\n",
      "---------------------------------\n",
      "Learning rate: 0.02671165395390538, amount of regularization term: 1e-05\n",
      "Accuracy performance on the validation set:  39.22\n",
      "---------------------------------\n",
      "Learning rate: 0.025250034299789642, amount of regularization term: 1e-05\n",
      "Accuracy performance on the validation set:  39.16\n",
      "---------------------------------\n",
      "Learning rate: 0.025909239708745313, amount of regularization term: 1e-05\n",
      "Accuracy performance on the validation set:  37.67\n",
      "---------------------------------\n",
      "Learning rate: 0.024733656705384535, amount of regularization term: 1e-05\n",
      "Accuracy performance on the validation set:  37.83\n",
      "---------------------------------\n",
      "Learning rate: 0.026431224756495963, amount of regularization term: 1e-05\n",
      "Accuracy performance on the validation set:  38.25\n",
      "---------------------------------\n",
      "Learning rate: 0.02539972801275479, amount of regularization term: 1e-05\n",
      "Accuracy performance on the validation set:  37.55\n",
      "---------------------------------\n",
      "Learning rate: 0.024573734109593313, amount of regularization term: 1e-05\n",
      "Accuracy performance on the validation set:  39.25\n",
      "---------------------------------\n",
      "Learning rate: 0.022930380017020732, amount of regularization term: 1e-05\n",
      "Accuracy performance on the validation set:  39.57\n",
      "---------------------------------\n",
      "Learning rate: 0.024770554882598137, amount of regularization term: 1e-05\n",
      "Accuracy performance on the validation set:  39.44\n",
      "---------------------------------\n",
      "Learning rate: 0.023074642421019833, amount of regularization term: 1e-05\n",
      "Accuracy performance on the validation set:  39.68\n",
      "---------------------------------\n",
      "Learning rate: 0.025248652008698212, amount of regularization term: 1e-05\n",
      "Accuracy performance on the validation set:  38.69\n",
      "---------------------------------\n",
      "Learning rate: 0.026615902418217503, amount of regularization term: 1e-05\n",
      "Accuracy performance on the validation set:  38.79\n",
      "---------------------------------\n",
      "Learning rate: 0.025389880259531226, amount of regularization term: 1e-05\n",
      "Accuracy performance on the validation set:  38.72\n",
      "---------------------------------\n",
      "Learning rate: 0.024788775655680183, amount of regularization term: 1e-05\n",
      "Accuracy performance on the validation set:  37.81\n",
      "---------------------------------\n",
      "Learning rate: 0.02256797035058726, amount of regularization term: 1e-05\n",
      "Accuracy performance on the validation set:  39.55\n",
      "---------------------------------\n",
      "Learning rate: 0.02246710359818993, amount of regularization term: 1e-05\n",
      "Accuracy performance on the validation set:  39.74\n",
      "---------------------------------\n",
      "Learning rate: 0.01716377462060044, amount of regularization term: 0.0001\n",
      "Accuracy performance on the validation set:  43.13\n",
      "---------------------------------\n",
      "Learning rate: 0.018920249916784752, amount of regularization term: 0.0001\n",
      "Accuracy performance on the validation set:  44.16\n",
      "---------------------------------\n",
      "Learning rate: 0.018886526520259746, amount of regularization term: 0.0001\n",
      "Accuracy performance on the validation set:  42.58\n",
      "---------------------------------\n",
      "Learning rate: 0.01895775207484601, amount of regularization term: 0.0001\n",
      "Accuracy performance on the validation set:  41.09\n",
      "---------------------------------\n",
      "Learning rate: 0.017837232132587935, amount of regularization term: 0.0001\n",
      "Accuracy performance on the validation set:  40.02\n",
      "---------------------------------\n",
      "Learning rate: 0.01860508913597894, amount of regularization term: 0.0001\n",
      "Accuracy performance on the validation set:  39.29\n",
      "---------------------------------\n",
      "Learning rate: 0.01757275265658167, amount of regularization term: 0.0001\n",
      "Accuracy performance on the validation set:  39.37\n",
      "---------------------------------\n",
      "Learning rate: 0.01867519552075304, amount of regularization term: 0.0001\n",
      "Accuracy performance on the validation set:  39.14\n",
      "---------------------------------\n",
      "Learning rate: 0.01831889680782945, amount of regularization term: 0.0001\n",
      "Accuracy performance on the validation set:  39.39\n",
      "---------------------------------\n",
      "Learning rate: 0.018383226218418123, amount of regularization term: 0.0001\n",
      "Accuracy performance on the validation set:  38.43\n",
      "---------------------------------\n",
      "Learning rate: 0.02899354379782664, amount of regularization term: 0.001\n",
      "Accuracy performance on the validation set:  43.89\n",
      "---------------------------------\n",
      "Learning rate: 0.029894680133662425, amount of regularization term: 0.001\n",
      "Accuracy performance on the validation set:  42.48\n"
     ]
    },
    {
     "name": "stdout",
     "output_type": "stream",
     "text": [
      "---------------------------------\n",
      "Learning rate: 0.030542572662875224, amount of regularization term: 0.001\n",
      "Accuracy performance on the validation set:  41.44\n",
      "---------------------------------\n",
      "Learning rate: 0.028178856969316702, amount of regularization term: 0.001\n",
      "Accuracy performance on the validation set:  41.38\n",
      "---------------------------------\n",
      "Learning rate: 0.031811813587325564, amount of regularization term: 0.001\n",
      "Accuracy performance on the validation set:  40.56\n",
      "---------------------------------\n",
      "Learning rate: 0.02832450608842571, amount of regularization term: 0.001\n",
      "Accuracy performance on the validation set:  40.64\n",
      "---------------------------------\n",
      "Learning rate: 0.02994829441224851, amount of regularization term: 0.001\n",
      "Accuracy performance on the validation set:  41.01\n",
      "---------------------------------\n",
      "Learning rate: 0.031428034046821915, amount of regularization term: 0.001\n",
      "Accuracy performance on the validation set:  39.92\n",
      "---------------------------------\n",
      "Learning rate: 0.03016526667860561, amount of regularization term: 0.001\n",
      "Accuracy performance on the validation set:  39.63\n",
      "---------------------------------\n",
      "Learning rate: 0.02975534714797813, amount of regularization term: 0.001\n",
      "Accuracy performance on the validation set:  40.13\n",
      "---------------------------------\n",
      "Learning rate: 0.030222389189687105, amount of regularization term: 0.001\n",
      "Accuracy performance on the validation set:  40.03\n",
      "---------------------------------\n",
      "Learning rate: 0.029584548896112912, amount of regularization term: 0.001\n",
      "Accuracy performance on the validation set:  40.42\n",
      "---------------------------------\n",
      "Learning rate: 0.029892750607658072, amount of regularization term: 0.001\n",
      "Accuracy performance on the validation set:  40.49\n",
      "---------------------------------\n",
      "Learning rate: 0.030664184519163303, amount of regularization term: 0.001\n",
      "Accuracy performance on the validation set:  39.88\n",
      "---------------------------------\n",
      "Learning rate: 0.030144105897441688, amount of regularization term: 0.001\n",
      "Accuracy performance on the validation set:  40.23\n",
      "---------------------------------\n",
      "Learning rate: 0.03041364832212037, amount of regularization term: 0.001\n",
      "Accuracy performance on the validation set:  39.95\n",
      "---------------------------------\n",
      "Learning rate: 0.030121784531941816, amount of regularization term: 0.001\n",
      "Accuracy performance on the validation set:  39.47\n",
      "---------------------------------\n",
      "Learning rate: 0.028291959918310614, amount of regularization term: 0.001\n",
      "Accuracy performance on the validation set:  38.0\n",
      "---------------------------------\n",
      "Learning rate: 0.03145057371016616, amount of regularization term: 0.001\n",
      "Accuracy performance on the validation set:  39.21\n",
      "---------------------------------\n",
      "Learning rate: 0.029114666820364458, amount of regularization term: 0.001\n",
      "Accuracy performance on the validation set:  38.4\n",
      "---------------------------------\n",
      "BEST PERFORMANCE:  44.16\n",
      "Best eta:  0.018920249916784752\n",
      "Best lambda:  0.0001\n",
      "---------------------------------\n",
      "SECOND BEST PERFORMANCE:  43.89\n",
      "Second best eta:  0.02899354379782664\n",
      "Second best lambda:  0.001\n",
      "---------------------------------\n",
      "THIRD BEST PERFORMANCE:  43.73\n",
      "Third best eta:  0.026925585997753746\n",
      "Third best lambda:  1e-05\n"
     ]
    },
    {
     "data": {
      "text/plain": [
       "([42.97,\n",
       "  43.42,\n",
       "  41.48,\n",
       "  40.29,\n",
       "  38.48,\n",
       "  39.51,\n",
       "  38.19,\n",
       "  37.65,\n",
       "  37.88,\n",
       "  39.03,\n",
       "  42.87,\n",
       "  41.32,\n",
       "  39.58,\n",
       "  38.95,\n",
       "  38.03,\n",
       "  38.55,\n",
       "  38.28,\n",
       "  38.53,\n",
       "  37.95,\n",
       "  37.9,\n",
       "  43.73,\n",
       "  41.75,\n",
       "  40.07,\n",
       "  39.79,\n",
       "  39.22,\n",
       "  39.16,\n",
       "  37.67,\n",
       "  37.83,\n",
       "  38.25,\n",
       "  37.55,\n",
       "  39.25,\n",
       "  39.57,\n",
       "  39.44,\n",
       "  39.68,\n",
       "  38.69,\n",
       "  38.79,\n",
       "  38.72,\n",
       "  37.81,\n",
       "  39.55,\n",
       "  39.74,\n",
       "  43.13,\n",
       "  44.16,\n",
       "  42.58,\n",
       "  41.09,\n",
       "  40.02,\n",
       "  39.29,\n",
       "  39.37,\n",
       "  39.14,\n",
       "  39.39,\n",
       "  38.43,\n",
       "  43.89,\n",
       "  42.48,\n",
       "  41.44,\n",
       "  41.38,\n",
       "  40.56,\n",
       "  40.64,\n",
       "  41.01,\n",
       "  39.92,\n",
       "  39.63,\n",
       "  40.13,\n",
       "  40.03,\n",
       "  40.42,\n",
       "  40.49,\n",
       "  39.88,\n",
       "  40.23,\n",
       "  39.95,\n",
       "  39.47,\n",
       "  38.0,\n",
       "  39.21,\n",
       "  38.4],\n",
       " [0.017735018087604103,\n",
       "  0.01746419667496226,\n",
       "  0.018093247549295238,\n",
       "  0.018926477020422043,\n",
       "  0.018826625600027246,\n",
       "  0.018152155213339433,\n",
       "  0.018836422206563137,\n",
       "  0.017318336044510982,\n",
       "  0.01885412675376466,\n",
       "  0.018946688167993896,\n",
       "  0.028960908730851248,\n",
       "  0.0287033408950022,\n",
       "  0.02841414426365495,\n",
       "  0.027022855138298597,\n",
       "  0.028156600897847682,\n",
       "  0.028437042628515177,\n",
       "  0.028820806455506942,\n",
       "  0.0284238099200546,\n",
       "  0.027915506311373562,\n",
       "  0.027003392358550114,\n",
       "  0.026925585997753746,\n",
       "  0.023723641054404398,\n",
       "  0.022483372485230017,\n",
       "  0.025430739862279717,\n",
       "  0.02671165395390538,\n",
       "  0.025250034299789642,\n",
       "  0.025909239708745313,\n",
       "  0.024733656705384535,\n",
       "  0.026431224756495963,\n",
       "  0.02539972801275479,\n",
       "  0.024573734109593313,\n",
       "  0.022930380017020732,\n",
       "  0.024770554882598137,\n",
       "  0.023074642421019833,\n",
       "  0.025248652008698212,\n",
       "  0.026615902418217503,\n",
       "  0.025389880259531226,\n",
       "  0.024788775655680183,\n",
       "  0.02256797035058726,\n",
       "  0.02246710359818993,\n",
       "  0.01716377462060044,\n",
       "  0.018920249916784752,\n",
       "  0.018886526520259746,\n",
       "  0.01895775207484601,\n",
       "  0.017837232132587935,\n",
       "  0.01860508913597894,\n",
       "  0.01757275265658167,\n",
       "  0.01867519552075304,\n",
       "  0.01831889680782945,\n",
       "  0.018383226218418123,\n",
       "  0.02899354379782664,\n",
       "  0.029894680133662425,\n",
       "  0.030542572662875224,\n",
       "  0.028178856969316702,\n",
       "  0.031811813587325564,\n",
       "  0.02832450608842571,\n",
       "  0.02994829441224851,\n",
       "  0.031428034046821915,\n",
       "  0.03016526667860561,\n",
       "  0.02975534714797813,\n",
       "  0.030222389189687105,\n",
       "  0.029584548896112912,\n",
       "  0.029892750607658072,\n",
       "  0.030664184519163303,\n",
       "  0.030144105897441688,\n",
       "  0.03041364832212037,\n",
       "  0.030121784531941816,\n",
       "  0.028291959918310614,\n",
       "  0.03145057371016616,\n",
       "  0.029114666820364458],\n",
       " [1e-06,\n",
       "  1e-06,\n",
       "  1e-06,\n",
       "  1e-06,\n",
       "  1e-06,\n",
       "  1e-06,\n",
       "  1e-06,\n",
       "  1e-06,\n",
       "  1e-06,\n",
       "  1e-06,\n",
       "  1e-06,\n",
       "  1e-06,\n",
       "  1e-06,\n",
       "  1e-06,\n",
       "  1e-06,\n",
       "  1e-06,\n",
       "  1e-06,\n",
       "  1e-06,\n",
       "  1e-06,\n",
       "  1e-06,\n",
       "  1e-05,\n",
       "  1e-05,\n",
       "  1e-05,\n",
       "  1e-05,\n",
       "  1e-05,\n",
       "  1e-05,\n",
       "  1e-05,\n",
       "  1e-05,\n",
       "  1e-05,\n",
       "  1e-05,\n",
       "  1e-05,\n",
       "  1e-05,\n",
       "  1e-05,\n",
       "  1e-05,\n",
       "  1e-05,\n",
       "  1e-05,\n",
       "  1e-05,\n",
       "  1e-05,\n",
       "  1e-05,\n",
       "  1e-05,\n",
       "  0.0001,\n",
       "  0.0001,\n",
       "  0.0001,\n",
       "  0.0001,\n",
       "  0.0001,\n",
       "  0.0001,\n",
       "  0.0001,\n",
       "  0.0001,\n",
       "  0.0001,\n",
       "  0.0001,\n",
       "  0.001,\n",
       "  0.001,\n",
       "  0.001,\n",
       "  0.001,\n",
       "  0.001,\n",
       "  0.001,\n",
       "  0.001,\n",
       "  0.001,\n",
       "  0.001,\n",
       "  0.001,\n",
       "  0.001,\n",
       "  0.001,\n",
       "  0.001,\n",
       "  0.001,\n",
       "  0.001,\n",
       "  0.001,\n",
       "  0.001,\n",
       "  0.001,\n",
       "  0.001,\n",
       "  0.001])"
      ]
     },
     "execution_count": 90,
     "metadata": {},
     "output_type": "execute_result"
    }
   ],
   "source": [
    "fine_search()"
   ]
  },
  {
   "cell_type": "markdown",
   "metadata": {},
   "source": [
    "#### Final search"
   ]
  },
  {
   "cell_type": "code",
   "execution_count": 91,
   "metadata": {},
   "outputs": [],
   "source": [
    "def final_search(e_min=np.log(0.017), e_max=np.log(0.019)):\n",
    "    \"\"\"\n",
    "    Final search, optimal value for the learning rate may be found between 0.017 and 0.019\n",
    "\n",
    "    :return: None\n",
    "    \"\"\"\n",
    "\n",
    "    training_data, validation_data, test_data, W1, b1, W2, b2 = exercise_1()\n",
    "    X_training, Y_training, y_training = training_data\n",
    "    X_validation, Y_validation, y_validation = validation_data\n",
    "\n",
    "    accuracies = []\n",
    "    etas = []\n",
    "    lambdas = []\n",
    "\n",
    "    regularization_term = 0.0001\n",
    "\n",
    "    for _ in range(40):\n",
    "        np.random.seed()\n",
    "        eta_term = np.random.rand(1, 1).flatten()[0]\n",
    "        e = e_min + (e_max - e_min) * eta_term\n",
    "        eta = np.exp(e)\n",
    "        etas.append(eta)\n",
    "\n",
    "        lambdas.append(regularization_term)\n",
    "\n",
    "        GD_params = [100, eta, 10]\n",
    "\n",
    "        W1, b1, W2, b2, training_set_loss, validation_set_loss = MiniBatchGDwithMomentum(X_training,\n",
    "                                                                                         Y_training,\n",
    "                                                                                         X_validation,\n",
    "                                                                                         Y_validation,\n",
    "                                                                                         y_validation,\n",
    "                                                                                         GD_params,\n",
    "                                                                                         W1, b1, W2, b2,\n",
    "                                                                                         regularization_term=regularization_term)\n",
    "        print('---------------------------------')\n",
    "        print('Learning rate: ' + str(eta) + ', amount of regularization term: ' + str(regularization_term))\n",
    "        accuracy_on_validation_set = ComputeAccuracy(X_validation, y_validation, W1, b1, W2, b2)\n",
    "        accuracies.append(accuracy_on_validation_set)\n",
    "        print('Accuracy performance on the validation set: ', accuracy_on_validation_set)\n",
    "\n",
    "        W1, b1, W2, b2 = initialize_weights(d=X_training.shape[0], m=50, K=Y_training.shape[0])\n",
    "\n",
    "    sort_them_all = sorted(zip(accuracies, etas, lambdas))\n",
    "\n",
    "    best_accuracies = [x for x, _, _ in sort_them_all]\n",
    "    best_etas = [y for _, y, _ in sort_them_all]\n",
    "    best_lambdas = [z for _, _, z in sort_them_all]\n",
    "\n",
    "    print('---------------------------------')\n",
    "    print('BEST PERFORMANCE: ', str(best_accuracies[-1]))\n",
    "    print('Best eta: ', best_etas[-1])\n",
    "    print('Best lambda: ', best_lambdas[-1])\n",
    "\n",
    "    print('---------------------------------')\n",
    "    print('SECOND BEST PERFORMANCE: ', str(best_accuracies[-2]))\n",
    "    print('Second best eta: ', best_etas[-2])\n",
    "    print('Second best lambda: ', best_lambdas[-2])\n",
    "\n",
    "    print('---------------------------------')\n",
    "    print('THIRD BEST PERFORMANCE: ', str(best_accuracies[-3]))\n",
    "    print('Third best eta: ', best_etas[-3])\n",
    "    print('Third best lambda: ', best_lambdas[-3])"
   ]
  },
  {
   "cell_type": "code",
   "execution_count": 92,
   "metadata": {},
   "outputs": [
    {
     "name": "stdout",
     "output_type": "stream",
     "text": [
      "---------------------------------\n",
      "Learning rate: 0.01807778788365891, amount of regularization term: 0.0001\n",
      "Accuracy performance on the validation set:  44.03\n",
      "---------------------------------\n",
      "Learning rate: 0.01841866665259337, amount of regularization term: 0.0001\n",
      "Accuracy performance on the validation set:  42.92\n",
      "---------------------------------\n",
      "Learning rate: 0.018870547435632684, amount of regularization term: 0.0001\n",
      "Accuracy performance on the validation set:  43.22\n",
      "---------------------------------\n",
      "Learning rate: 0.01739688358362078, amount of regularization term: 0.0001\n",
      "Accuracy performance on the validation set:  43.21\n",
      "---------------------------------\n",
      "Learning rate: 0.018349819029981264, amount of regularization term: 0.0001\n",
      "Accuracy performance on the validation set:  43.66\n",
      "---------------------------------\n",
      "Learning rate: 0.018614612584802317, amount of regularization term: 0.0001\n",
      "Accuracy performance on the validation set:  43.15\n",
      "---------------------------------\n",
      "Learning rate: 0.01724050332547346, amount of regularization term: 0.0001\n",
      "Accuracy performance on the validation set:  43.22\n",
      "---------------------------------\n",
      "Learning rate: 0.018096296777051015, amount of regularization term: 0.0001\n",
      "Accuracy performance on the validation set:  43.03\n",
      "---------------------------------\n",
      "Learning rate: 0.018506292261733805, amount of regularization term: 0.0001\n",
      "Accuracy performance on the validation set:  43.71\n",
      "---------------------------------\n",
      "Learning rate: 0.018069856639751438, amount of regularization term: 0.0001\n",
      "Accuracy performance on the validation set:  42.84\n",
      "---------------------------------\n",
      "Learning rate: 0.017528068652450317, amount of regularization term: 0.0001\n",
      "Accuracy performance on the validation set:  43.13\n",
      "---------------------------------\n",
      "Learning rate: 0.018382327875119828, amount of regularization term: 0.0001\n",
      "Accuracy performance on the validation set:  43.46\n",
      "---------------------------------\n",
      "Learning rate: 0.017178390309476373, amount of regularization term: 0.0001\n",
      "Accuracy performance on the validation set:  42.87\n",
      "---------------------------------\n",
      "Learning rate: 0.0188081986995635, amount of regularization term: 0.0001\n",
      "Accuracy performance on the validation set:  43.32\n",
      "---------------------------------\n",
      "Learning rate: 0.0186842974927458, amount of regularization term: 0.0001\n",
      "Accuracy performance on the validation set:  43.32\n",
      "---------------------------------\n",
      "Learning rate: 0.017931487454850372, amount of regularization term: 0.0001\n",
      "Accuracy performance on the validation set:  43.44\n",
      "---------------------------------\n",
      "Learning rate: 0.017090664204536074, amount of regularization term: 0.0001\n",
      "Accuracy performance on the validation set:  43.3\n",
      "---------------------------------\n",
      "Learning rate: 0.017527890860166075, amount of regularization term: 0.0001\n",
      "Accuracy performance on the validation set:  43.14\n",
      "---------------------------------\n",
      "Learning rate: 0.018136037068560328, amount of regularization term: 0.0001\n",
      "Accuracy performance on the validation set:  43.28\n",
      "---------------------------------\n",
      "Learning rate: 0.017359174886368105, amount of regularization term: 0.0001\n",
      "Accuracy performance on the validation set:  43.07\n",
      "---------------------------------\n",
      "Learning rate: 0.01868040156643904, amount of regularization term: 0.0001\n",
      "Accuracy performance on the validation set:  42.8\n",
      "---------------------------------\n",
      "Learning rate: 0.017924589704608283, amount of regularization term: 0.0001\n",
      "Accuracy performance on the validation set:  43.34\n",
      "---------------------------------\n",
      "Learning rate: 0.01729656405769053, amount of regularization term: 0.0001\n",
      "Accuracy performance on the validation set:  42.89\n",
      "---------------------------------\n",
      "Learning rate: 0.017970168260122585, amount of regularization term: 0.0001\n",
      "Accuracy performance on the validation set:  43.13\n",
      "---------------------------------\n",
      "Learning rate: 0.018274796360141378, amount of regularization term: 0.0001\n",
      "Accuracy performance on the validation set:  43.68\n",
      "---------------------------------\n",
      "Learning rate: 0.0188145540272405, amount of regularization term: 0.0001\n",
      "Accuracy performance on the validation set:  43.94\n",
      "---------------------------------\n",
      "Learning rate: 0.01835280264149484, amount of regularization term: 0.0001\n",
      "Accuracy performance on the validation set:  43.42\n",
      "---------------------------------\n",
      "Learning rate: 0.0173489262822629, amount of regularization term: 0.0001\n",
      "Accuracy performance on the validation set:  43.22\n",
      "---------------------------------\n",
      "Learning rate: 0.018803676443936775, amount of regularization term: 0.0001\n",
      "Accuracy performance on the validation set:  43.34\n",
      "---------------------------------\n",
      "Learning rate: 0.018258020215840633, amount of regularization term: 0.0001\n",
      "Accuracy performance on the validation set:  43.08\n",
      "---------------------------------\n",
      "Learning rate: 0.017424093121188956, amount of regularization term: 0.0001\n",
      "Accuracy performance on the validation set:  43.57\n",
      "---------------------------------\n",
      "Learning rate: 0.018664555107327566, amount of regularization term: 0.0001\n",
      "Accuracy performance on the validation set:  43.23\n",
      "---------------------------------\n",
      "Learning rate: 0.017135783700420595, amount of regularization term: 0.0001\n",
      "Accuracy performance on the validation set:  43.28\n",
      "---------------------------------\n",
      "Learning rate: 0.018114031048503353, amount of regularization term: 0.0001\n",
      "Accuracy performance on the validation set:  43.29\n",
      "---------------------------------\n",
      "Learning rate: 0.017277801340627133, amount of regularization term: 0.0001\n",
      "Accuracy performance on the validation set:  42.95\n",
      "---------------------------------\n",
      "Learning rate: 0.01717609273357587, amount of regularization term: 0.0001\n",
      "Accuracy performance on the validation set:  43.17\n",
      "---------------------------------\n",
      "Learning rate: 0.01782213452408423, amount of regularization term: 0.0001\n",
      "Accuracy performance on the validation set:  43.02\n",
      "---------------------------------\n",
      "Learning rate: 0.01704397022841666, amount of regularization term: 0.0001\n",
      "Accuracy performance on the validation set:  42.81\n",
      "---------------------------------\n",
      "Learning rate: 0.01724735703689069, amount of regularization term: 0.0001\n",
      "Accuracy performance on the validation set:  43.24\n",
      "---------------------------------\n",
      "Learning rate: 0.018616815969639464, amount of regularization term: 0.0001\n",
      "Accuracy performance on the validation set:  43.33\n",
      "---------------------------------\n",
      "BEST PERFORMANCE:  44.03\n",
      "Best eta:  0.01807778788365891\n",
      "Best lambda:  0.0001\n",
      "---------------------------------\n",
      "SECOND BEST PERFORMANCE:  43.94\n",
      "Second best eta:  0.0188145540272405\n",
      "Second best lambda:  0.0001\n",
      "---------------------------------\n",
      "THIRD BEST PERFORMANCE:  43.71\n",
      "Third best eta:  0.018506292261733805\n",
      "Third best lambda:  0.0001\n"
     ]
    }
   ],
   "source": [
    "final_search()"
   ]
  },
  {
   "cell_type": "markdown",
   "metadata": {},
   "source": [
    "#### For your best found hyperparameter settings, train the network on all the training data (all the batch data), except for 1000 examples in a valida- tion set, for ∼30 epochs. Plot the training and validation cost after each epoch of training and then report the learnt network’s performance on the test data.\n"
   ]
  },
  {
   "cell_type": "code",
   "execution_count": 25,
   "metadata": {},
   "outputs": [],
   "source": [
    "def create_sets():\n",
    "\n",
    "    X_training_1, Y_training_1, y_training_1 = LoadBatch('../../cifar-10-batches-py/data_batch_1')\n",
    "    X_training_2, Y_training_2, y_training_2 = LoadBatch('../../cifar-10-batches-py/data_batch_2')\n",
    "    X_training_3, Y_training_3, y_training_3 = LoadBatch('../../cifar-10-batches-py/data_batch_3')\n",
    "    X_training_4, Y_training_4, y_training_4 = LoadBatch('../../cifar-10-batches-py/data_batch_4')\n",
    "    X_training_5, Y_training_5, y_training_5 = LoadBatch('../../cifar-10-batches-py/data_batch_5')\n",
    "\n",
    "    X_training = np.concatenate((X_training_1, X_training_3), axis=1)\n",
    "    X_training = np.copy(np.concatenate((X_training, X_training_4), axis=1))\n",
    "    X_training = np.copy(np.concatenate((X_training, X_training_5), axis=1))\n",
    "\n",
    "    X_training = np.concatenate((X_training, X_training_2[:, :9000]), axis=1)\n",
    "\n",
    "    Y_training = np.concatenate((Y_training_1, Y_training_3), axis=1)\n",
    "    Y_training = np.copy(np.concatenate((Y_training, Y_training_4), axis=1))\n",
    "    Y_training = np.copy(np.concatenate((Y_training, Y_training_5), axis=1))\n",
    "\n",
    "    Y_training = np.concatenate((Y_training, Y_training_2[:, :9000]), axis=1)\n",
    "\n",
    "    y_training = y_training_1 + y_training_3 + y_training_4 + y_training_5 + y_training_2[:9000]\n",
    "\n",
    "    X_validation = np.copy(X_training_2[:, 9000:])\n",
    "    Y_validation = np.copy(Y_training_2[:, 9000:])\n",
    "    y_validation = y_training_2[9000:]\n",
    "\n",
    "    X_test, _, y_test = LoadBatch('../../cifar-10-batches-py/test_batch')\n",
    "\n",
    "    mean = np.mean(X_training)\n",
    "    X_training -= mean\n",
    "    X_validation -= mean\n",
    "    X_test -= mean\n",
    "\n",
    "    return [X_training, Y_training, y_training], [X_validation, Y_validation, y_validation], [X_test, y_test]\n"
   ]
  },
  {
   "cell_type": "code",
   "execution_count": 26,
   "metadata": {},
   "outputs": [],
   "source": [
    "training, validation, test = create_sets()\n",
    "\n",
    "X_training, Y_training, y_training = training\n",
    "X_validation, Y_validation, y_validation = validation\n",
    "X_test, y_test = test"
   ]
  },
  {
   "cell_type": "markdown",
   "metadata": {},
   "source": [
    "Experiment no.1: Eta = 0.018920249916784752, lambda = 0.0001"
   ]
  },
  {
   "cell_type": "code",
   "execution_count": 103,
   "metadata": {},
   "outputs": [],
   "source": [
    "W1, b1, W2, b2 = initialize_weights()\n",
    "\n",
    "GD_params = [100, 0.018920249916784752, 30]\n",
    "\n",
    "W1, b1, W2, b2, training_set_loss, validation_set_loss = MiniBatchGDwithMomentum(X_training,\n",
    "                                                                                 Y_training,\n",
    "                                                                                 X_validation,\n",
    "                                                                                 Y_validation,\n",
    "                                                                                 y_validation,\n",
    "                                                                                 GD_params,\n",
    "                                                                                 W1, b1, W2, b2,\n",
    "                                                                                 regularization_term=0.0001)"
   ]
  },
  {
   "cell_type": "code",
   "execution_count": 104,
   "metadata": {},
   "outputs": [
    {
     "data": {
      "image/png": "[encoded data removed]",
      "text/plain": [
       "<Figure size 432x288 with 1 Axes>"
      ]
     },
     "metadata": {},
     "output_type": "display_data"
    },
    {
     "data": {
      "text/plain": [
       "<Figure size 432x288 with 0 Axes>"
      ]
     },
     "metadata": {},
     "output_type": "display_data"
    }
   ],
   "source": [
    "visualize_costs(training_set_loss,validation_set_loss, display=True, title='Cross Entropy Loss Evolution, $\\eta=0.018920249916784752$', save_name='experiment_1')"
   ]
  },
  {
   "cell_type": "code",
   "execution_count": 105,
   "metadata": {},
   "outputs": [],
   "source": [
    "test_set_accuracy_1 = ComputeAccuracy(X_test, y_test, W1, b1, W2, b2)"
   ]
  },
  {
   "cell_type": "markdown",
   "metadata": {},
   "source": [
    "The accuracy achieved on the test set was $50.23\\%$"
   ]
  },
  {
   "cell_type": "code",
   "execution_count": 106,
   "metadata": {},
   "outputs": [
    {
     "data": {
      "text/plain": [
       "50.23"
      ]
     },
     "execution_count": 106,
     "metadata": {},
     "output_type": "execute_result"
    }
   ],
   "source": [
    "test_set_accuracy_1"
   ]
  },
  {
   "cell_type": "markdown",
   "metadata": {},
   "source": [
    "Experiment no.2: Eta = 0.01713848118474131, lambda = 0.0001"
   ]
  },
  {
   "cell_type": "code",
   "execution_count": 108,
   "metadata": {},
   "outputs": [],
   "source": [
    "GD_params = [100, 0.01713848118474131, 30]\n",
    "\n",
    "W1, b1, W2, b2, training_set_loss, validation_set_loss = MiniBatchGDwithMomentum(X_training,\n",
    "                                                                                 Y_training,\n",
    "                                                                                 X_validation,\n",
    "                                                                                 Y_validation,\n",
    "                                                                                 y_validation,\n",
    "                                                                                 GD_params,\n",
    "                                                                                 W1, b1, W2, b2,\n",
    "                                                                                 regularization_term=0.0001)"
   ]
  },
  {
   "cell_type": "code",
   "execution_count": 111,
   "metadata": {},
   "outputs": [
    {
     "data": {
      "image/png": "[encoded data removed]",
      "text/plain": [
       "<Figure size 432x288 with 1 Axes>"
      ]
     },
     "metadata": {},
     "output_type": "display_data"
    },
    {
     "data": {
      "text/plain": [
       "<Figure size 432x288 with 0 Axes>"
      ]
     },
     "metadata": {},
     "output_type": "display_data"
    }
   ],
   "source": [
    "visualize_costs(training_set_loss,validation_set_loss, display=True, title='Cross Entropy Loss Evolution, $\\eta=0.01713848118474131$', save_name='experiment_2')"
   ]
  },
  {
   "cell_type": "code",
   "execution_count": 112,
   "metadata": {},
   "outputs": [],
   "source": [
    "test_set_accuracy_2 = ComputeAccuracy(X_test, y_test, W1, b1, W2, b2)"
   ]
  },
  {
   "cell_type": "markdown",
   "metadata": {},
   "source": [
    "The accuracy achieved on the test set was $49.14\\%$"
   ]
  },
  {
   "cell_type": "code",
   "execution_count": 113,
   "metadata": {},
   "outputs": [
    {
     "data": {
      "text/plain": [
       "49.14"
      ]
     },
     "execution_count": 113,
     "metadata": {},
     "output_type": "execute_result"
    }
   ],
   "source": [
    "test_set_accuracy_2"
   ]
  },
  {
   "cell_type": "markdown",
   "metadata": {},
   "source": [
    "Experiment no.3: Eta = 0.02878809988519304, lambda = 0.0001\n"
   ]
  },
  {
   "cell_type": "code",
   "execution_count": 114,
   "metadata": {},
   "outputs": [
    {
     "name": "stderr",
     "output_type": "stream",
     "text": [
      "100%|██████████| 30/30 [39:19<00:00, 78.65s/it]\n"
     ]
    }
   ],
   "source": [
    "W1, b1, W2, b2 = initialize_weights()\n",
    "\n",
    "GD_params = [100, 0.02878809988519304, 30]\n",
    "\n",
    "W1, b1, W2, b2, training_set_loss, validation_set_loss = MiniBatchGDwithMomentum(X_training,\n",
    "                                                                                 Y_training,\n",
    "                                                                                 X_validation,\n",
    "                                                                                 Y_validation,\n",
    "                                                                                 y_validation,\n",
    "                                                                                 GD_params,\n",
    "                                                                                 W1, b1, W2, b2,\n",
    "                                                                                 regularization_term=0.001)"
   ]
  },
  {
   "cell_type": "code",
   "execution_count": 115,
   "metadata": {},
   "outputs": [
    {
     "data": {
      "image/png": "[encoded data removed]",
      "text/plain": [
       "<Figure size 432x288 with 1 Axes>"
      ]
     },
     "metadata": {},
     "output_type": "display_data"
    },
    {
     "data": {
      "text/plain": [
       "<Figure size 432x288 with 0 Axes>"
      ]
     },
     "metadata": {},
     "output_type": "display_data"
    }
   ],
   "source": [
    "visualize_costs(training_set_loss,validation_set_loss, display=True, title='Cross Entropy Loss Evolution, $\\eta=0.02878809988519304', save_name='experiment_3')"
   ]
  },
  {
   "cell_type": "code",
   "execution_count": 116,
   "metadata": {},
   "outputs": [],
   "source": [
    "test_set_accuracy_3 = ComputeAccuracy(X_test, y_test, W1, b1, W2, b2)"
   ]
  },
  {
   "cell_type": "markdown",
   "metadata": {},
   "source": [
    "The accuracy achieved on the test set was $51.04\\%$"
   ]
  },
  {
   "cell_type": "code",
   "execution_count": 117,
   "metadata": {},
   "outputs": [
    {
     "data": {
      "text/plain": [
       "51.04"
      ]
     },
     "execution_count": 117,
     "metadata": {},
     "output_type": "execute_result"
    }
   ],
   "source": [
    "test_set_accuracy_3"
   ]
  },
  {
   "cell_type": "markdown",
   "metadata": {},
   "source": [
    "## Bonus point part"
   ]
  },
  {
   "cell_type": "markdown",
   "metadata": {},
   "source": [
    "### Exercise 1: Optimize the performance of the network"
   ]
  },
  {
   "cell_type": "markdown",
   "metadata": {},
   "source": [
    "#### Improvement 1: Keep track of the best model based on validation set performance along with training for more steps"
   ]
  },
  {
   "cell_type": "code",
   "execution_count": 1,
   "metadata": {},
   "outputs": [],
   "source": [
    "def improvement_1(eta, regularization_term):\n",
    "    \"\"\"\n",
    "     Use all the available data from training, train for more update steps and use your validation set to make \n",
    "    sure you don’t overfit or keep a record of the best model before you begin to overfit\n",
    "\n",
    "    :return: Learnt weight matrices, training and validation set loss evolution \n",
    "    \"\"\"\n",
    "\n",
    "    W1, b1, W2, b2 = initialize_weights()\n",
    "\n",
    "    GD_params = [100, eta, 50]\n",
    "\n",
    "    W1, b1, W2, b2, training_set_loss, validation_set_loss = MiniBatchGDwithMomentum(X_training,\n",
    "                                                                                     Y_training,\n",
    "                                                                                     X_validation,\n",
    "                                                                                     Y_validation,\n",
    "                                                                                     y_validation,\n",
    "                                                                                     GD_params,\n",
    "                                                                                     W1, b1, W2, b2,\n",
    "                                                                                     regularization_term)\n",
    "\n",
    "    return W1, b1, W2, b2, training_set_loss, validation_set_loss"
   ]
  },
  {
   "cell_type": "code",
   "execution_count": 125,
   "metadata": {},
   "outputs": [
    {
     "name": "stderr",
     "output_type": "stream",
     "text": [
      "\n",
      "  0%|          | 0/40 [00:00<?, ?it/s]\u001b[A\n",
      "  2%|▎         | 1/40 [01:15<49:02, 75.46s/it]\u001b[A\n",
      "  5%|▌         | 2/40 [02:32<48:11, 76.10s/it]\u001b[A\n",
      "  8%|▊         | 3/40 [03:49<47:16, 76.66s/it]\u001b[A\n",
      " 10%|█         | 4/40 [05:06<46:00, 76.69s/it]\u001b[A\n",
      " 12%|█▎        | 5/40 [06:25<45:00, 77.16s/it]\u001b[A\n",
      " 15%|█▌        | 6/40 [07:45<43:58, 77.61s/it]\u001b[A\n",
      " 18%|█▊        | 7/40 [09:01<42:33, 77.39s/it]\u001b[A\n",
      " 20%|██        | 8/40 [10:16<41:07, 77.10s/it]\u001b[A\n",
      " 22%|██▎       | 9/40 [11:33<39:50, 77.10s/it]\u001b[A\n",
      " 25%|██▌       | 10/40 [12:53<38:41, 77.37s/it]\u001b[A\n",
      " 28%|██▊       | 11/40 [14:11<37:25, 77.43s/it]\u001b[A\n",
      " 30%|███       | 12/40 [15:32<36:15, 77.70s/it]\u001b[A\n",
      " 32%|███▎      | 13/40 [16:51<35:00, 77.80s/it]\u001b[A\n",
      " 35%|███▌      | 14/40 [18:07<33:39, 77.67s/it]\u001b[A\n",
      " 38%|███▊      | 15/40 [19:26<32:24, 77.79s/it]\u001b[A\n",
      " 40%|████      | 16/40 [20:46<31:09, 77.89s/it]\u001b[A\n",
      " 42%|████▎     | 17/40 [22:02<29:49, 77.81s/it]\u001b[A\n",
      " 45%|████▌     | 18/40 [23:20<28:31, 77.79s/it]\u001b[A\n",
      " 48%|████▊     | 19/40 [24:40<27:16, 77.94s/it]\u001b[A\n",
      " 50%|█████     | 20/40 [26:00<26:00, 78.01s/it]\u001b[A\n",
      " 52%|█████▎    | 21/40 [27:18<24:42, 78.03s/it]\u001b[A\n",
      " 55%|█████▌    | 22/40 [28:45<23:31, 78.43s/it]\u001b[A\n",
      " 57%|█████▊    | 23/40 [30:12<22:19, 78.82s/it]\u001b[A\n",
      " 60%|██████    | 24/40 [31:33<21:02, 78.88s/it]\u001b[A\n",
      " 62%|██████▎   | 25/40 [32:54<19:44, 78.97s/it]\u001b[A\n",
      " 65%|██████▌   | 26/40 [34:12<18:25, 78.94s/it]\u001b[A\n",
      " 68%|██████▊   | 27/40 [35:32<17:06, 78.99s/it]\u001b[A\n",
      " 70%|███████   | 28/40 [36:54<15:48, 79.08s/it]\u001b[A\n",
      " 72%|███████▎  | 29/40 [38:14<14:30, 79.12s/it]\u001b[A\n",
      " 75%|███████▌  | 30/40 [39:32<13:10, 79.08s/it]\u001b[A\n",
      " 78%|███████▊  | 31/40 [40:52<11:52, 79.11s/it]\u001b[A\n",
      " 80%|████████  | 32/40 [42:15<10:33, 79.22s/it]\u001b[A\n",
      " 82%|████████▎ | 33/40 [43:36<09:15, 79.29s/it]\u001b[A\n",
      " 85%|████████▌ | 34/40 [44:53<07:55, 79.21s/it]\u001b[A\n",
      " 88%|████████▊ | 35/40 [46:10<06:35, 79.17s/it]\u001b[A\n",
      " 90%|█████████ | 36/40 [47:31<05:16, 79.21s/it]\u001b[A\n",
      " 92%|█████████▎| 37/40 [48:50<03:57, 79.20s/it]\u001b[A\n",
      " 95%|█████████▌| 38/40 [50:08<02:38, 79.17s/it]\u001b[A\n",
      " 98%|█████████▊| 39/40 [51:30<01:19, 79.24s/it]\u001b[A\n",
      "100%|██████████| 40/40 [52:48<00:00, 79.21s/it]\u001b[A\n",
      "\u001b[A"
     ]
    }
   ],
   "source": [
    "W1_improvement_1, b1_improvement_1, W2_improvement_1, b2_improvement_1, training_set_loss_improvement_1, validation_set_loss_improvement_1 = improvement_1(eta=0.02878809988519304, regularization_term=0.001)"
   ]
  },
  {
   "cell_type": "code",
   "execution_count": 126,
   "metadata": {},
   "outputs": [
    {
     "data": {
      "image/png": "[encoded data removed]",
      "text/plain": [
       "<Figure size 432x288 with 1 Axes>"
      ]
     },
     "metadata": {},
     "output_type": "display_data"
    },
    {
     "data": {
      "text/plain": [
       "<Figure size 432x288 with 0 Axes>"
      ]
     },
     "metadata": {},
     "output_type": "display_data"
    }
   ],
   "source": [
    "visualize_costs(training_set_loss_improvement_1, validation_set_loss_improvement_1, display=True,\n",
    "                title='Cross Entropy Loss Evolution, improvement 1', save_name='improvement_1')"
   ]
  },
  {
   "cell_type": "code",
   "execution_count": 29,
   "metadata": {
    "collapsed": true
   },
   "outputs": [
    {
     "ename": "NameError",
     "evalue": "name 'W1_improvement_1' is not defined",
     "output_type": "error",
     "traceback": [
      "\u001b[0;31m---------------------------------------------------------------------------\u001b[0m",
      "\u001b[0;31mNameError\u001b[0m                                 Traceback (most recent call last)",
      "\u001b[0;32m<ipython-input-29-02fcce49b5c4>\u001b[0m in \u001b[0;36m<module>\u001b[0;34m()\u001b[0m\n\u001b[0;32m----> 1\u001b[0;31m \u001b[0maccuracy_improvement_1\u001b[0m \u001b[0;34m=\u001b[0m \u001b[0mComputeAccuracy\u001b[0m\u001b[0;34m(\u001b[0m\u001b[0mX_test\u001b[0m\u001b[0;34m,\u001b[0m \u001b[0my_test\u001b[0m\u001b[0;34m,\u001b[0m \u001b[0mW1_improvement_1\u001b[0m\u001b[0;34m,\u001b[0m \u001b[0mb1_improvement_1\u001b[0m\u001b[0;34m,\u001b[0m \u001b[0mW2_improvement_1\u001b[0m\u001b[0;34m,\u001b[0m \u001b[0mb2_improvement_1\u001b[0m\u001b[0;34m)\u001b[0m\u001b[0;34m\u001b[0m\u001b[0m\n\u001b[0m",
      "\u001b[0;31mNameError\u001b[0m: name 'W1_improvement_1' is not defined"
     ]
    }
   ],
   "source": [
    "accuracy_improvement_1 = ComputeAccuracy(X_test, y_test, W1_improvement_1, b1_improvement_1, W2_improvement_1, b2_improvement_1)"
   ]
  },
  {
   "cell_type": "markdown",
   "metadata": {},
   "source": [
    "The accuracy of the first improvement for $\\eta=0.02878809988519304$ and $\\lambda=0.001$ is $51.53\\%$"
   ]
  },
  {
   "cell_type": "code",
   "execution_count": 128,
   "metadata": {},
   "outputs": [
    {
     "data": {
      "text/plain": [
       "51.53"
      ]
     },
     "execution_count": 128,
     "metadata": {},
     "output_type": "execute_result"
    }
   ],
   "source": [
    "accuracy_improvement_1"
   ]
  },
  {
   "cell_type": "markdown",
   "metadata": {},
   "source": [
    "We will also try the first setting with this improvement so that we can define a pair for $(\\eta, \\lambda)$ that has the best test set accuracy performance and use it for other improvements"
   ]
  },
  {
   "cell_type": "code",
   "execution_count": 27,
   "metadata": {},
   "outputs": [
    {
     "name": "stderr",
     "output_type": "stream",
     "text": [
      "100%|██████████| 50/50 [1:04:20<00:00, 77.21s/it]\n"
     ]
    }
   ],
   "source": [
    "W1_improvement_1_2, b1_improvement_1_2, W2_improvement_1_2, b2_improvement_1_2, training_set_loss_improvement_1_2, validation_set_loss_improvement_1_2 = improvement_1(eta=0.018920249916784752, regularization_term=0.0001)"
   ]
  },
  {
   "cell_type": "code",
   "execution_count": 33,
   "metadata": {},
   "outputs": [
    {
     "data": {
      "image/png": "[encoded data removed]",
      "text/plain": [
       "<Figure size 432x288 with 1 Axes>"
      ]
     },
     "metadata": {},
     "output_type": "display_data"
    },
    {
     "data": {
      "text/plain": [
       "<Figure size 432x288 with 0 Axes>"
      ]
     },
     "metadata": {},
     "output_type": "display_data"
    }
   ],
   "source": [
    "visualize_costs(training_set_loss_improvement_1_2, validation_set_loss_improvement_1_2, display=True, save_name='Improvement_1_2')"
   ]
  },
  {
   "cell_type": "code",
   "execution_count": null,
   "metadata": {},
   "outputs": [],
   "source": [
    "accuracy_improvement_1_2 = ComputeAccuracy(X_test, y_test, W1_improvement_1_2, b1_improvement_1_2, W2_improvement_1_2, b2_improvement_1_2)"
   ]
  },
  {
   "cell_type": "markdown",
   "metadata": {},
   "source": [
    "The accuracy of this setting for the first improvement is $51.94\\%$"
   ]
  },
  {
   "cell_type": "code",
   "execution_count": 31,
   "metadata": {},
   "outputs": [
    {
     "data": {
      "text/plain": [
       "51.94"
      ]
     },
     "execution_count": 31,
     "metadata": {},
     "output_type": "execute_result"
    }
   ],
   "source": [
    "accuracy_improvement_1_2"
   ]
  },
  {
   "cell_type": "markdown",
   "metadata": {},
   "source": [
    "Try no.3: Same settings, smaller amount of regularization"
   ]
  },
  {
   "cell_type": "code",
   "execution_count": 53,
   "metadata": {},
   "outputs": [
    {
     "name": "stderr",
     "output_type": "stream",
     "text": [
      "100%|██████████| 50/50 [1:02:45<00:00, 75.30s/it]\n"
     ]
    }
   ],
   "source": [
    "W1_improvement_1_3, b1_improvement_1_3, W2_improvement_1_3, b2_improvement_1_3, training_set_loss_improvement_1_3, validation_set_loss_improvement_1_3 = improvement_1(eta=0.018920249916784752, regularization_term=0.0001)"
   ]
  },
  {
   "cell_type": "code",
   "execution_count": 58,
   "metadata": {},
   "outputs": [
    {
     "data": {
      "image/png": "[encoded data removed]",
      "text/plain": [
       "<Figure size 432x288 with 1 Axes>"
      ]
     },
     "metadata": {},
     "output_type": "display_data"
    },
    {
     "data": {
      "text/plain": [
       "<Figure size 432x288 with 0 Axes>"
      ]
     },
     "metadata": {},
     "output_type": "display_data"
    }
   ],
   "source": [
    "visualize_costs(training_set_loss_improvement_1_3, validation_set_loss_improvement_1_3, display=True, save_name='Improvement_1_3')"
   ]
  },
  {
   "cell_type": "code",
   "execution_count": 59,
   "metadata": {},
   "outputs": [],
   "source": [
    "accuracy_improvement_1_3 = ComputeAccuracy(X_test, y_test, W1_improvement_1_3, b1_improvement_1_3, W2_improvement_1_3, b2_improvement_1_3)"
   ]
  },
  {
   "cell_type": "markdown",
   "metadata": {},
   "source": [
    "The accuracy performance of this setting is 49.94%"
   ]
  },
  {
   "cell_type": "code",
   "execution_count": 60,
   "metadata": {},
   "outputs": [
    {
     "data": {
      "text/plain": [
       "49.94"
      ]
     },
     "execution_count": 60,
     "metadata": {},
     "output_type": "execute_result"
    }
   ],
   "source": [
    "accuracy_improvement_1_3"
   ]
  },
  {
   "cell_type": "markdown",
   "metadata": {},
   "source": [
    "#### Improvement 2: Switch to He initialization and see the effect it has on training. "
   ]
  },
  {
   "cell_type": "code",
   "execution_count": 44,
   "metadata": {},
   "outputs": [],
   "source": [
    "def improvement_2(eta=0.018920249916784752, regularization_term=0.001):\n",
    "    \"\"\"\n",
    "    Switch to He-initialization\n",
    "    \"\"\"\n",
    "    W1_he, b1_he, W2_he, b2_he = he_initialization()\n",
    "\n",
    "    GD_params = [100, eta, 40]\n",
    "\n",
    "    W1_he, b1_he, W2_he, b2_he, training_set_loss_he, validation_set_loss_he = MiniBatchGDwithMomentum(X_training,\n",
    "                                                                                     Y_training,\n",
    "                                                                                     X_validation,\n",
    "                                                                                     Y_validation,\n",
    "                                                                                     y_validation,\n",
    "                                                                                     GD_params,\n",
    "                                                                                     W1_he, b1_he, W2_he, b2_he,\n",
    "                                                                                     regularization_term)\n",
    "\n",
    "    return W1_he, b1_he, W2_he, b2_he, training_set_loss_he, validation_set_loss_he"
   ]
  },
  {
   "cell_type": "code",
   "execution_count": 45,
   "metadata": {},
   "outputs": [
    {
     "name": "stderr",
     "output_type": "stream",
     "text": [
      "100%|██████████| 40/40 [51:06<00:00, 76.67s/it]\n"
     ]
    }
   ],
   "source": [
    "W1_improvement_2, b1_improvement_2, W2_improvement_2, b2_improvement_2, \\\n",
    "training_set_loss_improvement_2, validation_set_loss_improvement_2 = improvement_2()"
   ]
  },
  {
   "cell_type": "code",
   "execution_count": 48,
   "metadata": {},
   "outputs": [
    {
     "data": {
      "image/png": "[encoded data removed]",
      "text/plain": [
       "<Figure size 432x288 with 1 Axes>"
      ]
     },
     "metadata": {},
     "output_type": "display_data"
    },
    {
     "data": {
      "text/plain": [
       "<Figure size 432x288 with 0 Axes>"
      ]
     },
     "metadata": {},
     "output_type": "display_data"
    }
   ],
   "source": [
    "visualize_costs(training_set_loss_improvement_2, validation_set_loss_improvement_2, display=True, save_name='Improvement_1_2')"
   ]
  },
  {
   "cell_type": "code",
   "execution_count": 49,
   "metadata": {},
   "outputs": [],
   "source": [
    "accuracy_improvement_2 = ComputeAccuracy(X_test, y_test, W1_improvement_2, b1_improvement_2, W2_improvement_2, b2_improvement_2)"
   ]
  },
  {
   "cell_type": "markdown",
   "metadata": {},
   "source": [
    "The accuracy of this setting is 51.44%"
   ]
  },
  {
   "cell_type": "code",
   "execution_count": 50,
   "metadata": {},
   "outputs": [
    {
     "data": {
      "text/plain": [
       "51.44"
      ]
     },
     "execution_count": 50,
     "metadata": {},
     "output_type": "execute_result"
    }
   ],
   "source": [
    "accuracy_improvement_2"
   ]
  },
  {
   "cell_type": "markdown",
   "metadata": {},
   "source": [
    "#### Improvement 3: You could also explore whether having more hidden nodes improves the final classification rate. One would expect that with more hidden nodes then the amount of regularization would have to increase."
   ]
  },
  {
   "cell_type": "code",
   "execution_count": 63,
   "metadata": {},
   "outputs": [],
   "source": [
    "def improvement_3(eta=0.018920249916784752, regularization_term=0.001):\n",
    "    \"\"\"\n",
    "     You could also explore whether having more hidden nodes improves the final classification rate. \n",
    "    One would expect that with more hidden nodes then the amount of regularization would have to increase.\n",
    "    \"\"\"\n",
    "\n",
    "    W1_100, b1_100, W2_100, b2_100 = initialize_weights(m=100)\n",
    "\n",
    "    GD_params = [100, eta, 30]\n",
    "\n",
    "    W1_100, b1_100, W2_100, b2_100, training_set_loss_100, validation_set_loss_100 = MiniBatchGDwithMomentum(X_training,\n",
    "                                                                                     Y_training,\n",
    "                                                                                     X_validation,\n",
    "                                                                                     Y_validation,\n",
    "                                                                                     y_validation,\n",
    "                                                                                     GD_params,\n",
    "                                                                                     W1_100, b1_100, W2_100, b2_100,\n",
    "                                                                                     regularization_term)\n",
    "\n",
    "    return W1_100, b1_100, W2_100, b2_100, training_set_loss_100, validation_set_loss_100"
   ]
  },
  {
   "cell_type": "code",
   "execution_count": 64,
   "metadata": {},
   "outputs": [
    {
     "name": "stderr",
     "output_type": "stream",
     "text": [
      "100%|██████████| 30/30 [37:43<00:00, 75.45s/it]\n"
     ]
    }
   ],
   "source": [
    "W1_improvement_3, b1_improvement_3, W3_improvement_3, b3_improvement_3, \\\n",
    "training_set_loss_improvement_3, validation_set_loss_improvement_3 = improvement_3()"
   ]
  },
  {
   "cell_type": "code",
   "execution_count": 65,
   "metadata": {},
   "outputs": [
    {
     "data": {
      "image/png": "[encoded data removed]",
      "text/plain": [
       "<Figure size 432x288 with 1 Axes>"
      ]
     },
     "metadata": {},
     "output_type": "display_data"
    },
    {
     "data": {
      "text/plain": [
       "<Figure size 432x288 with 0 Axes>"
      ]
     },
     "metadata": {},
     "output_type": "display_data"
    }
   ],
   "source": [
    "visualize_costs(training_set_loss_improvement_3, validation_set_loss_improvement_3, display=True,\n",
    "                title='Cross Entropy Loss Evolution, improvement 3', save_name='improvement_3')"
   ]
  },
  {
   "cell_type": "code",
   "execution_count": 66,
   "metadata": {},
   "outputs": [],
   "source": [
    "accuracy_improvement_3 = ComputeAccuracy(X_test, y_test, W1_improvement_3, b1_improvement_3, W3_improvement_3, b3_improvement_3)"
   ]
  },
  {
   "cell_type": "markdown",
   "metadata": {},
   "source": [
    "The accuracy achieved is %"
   ]
  },
  {
   "cell_type": "code",
   "execution_count": 67,
   "metadata": {},
   "outputs": [
    {
     "data": {
      "text/plain": [
       "53.48"
      ]
     },
     "execution_count": 67,
     "metadata": {},
     "output_type": "execute_result"
    }
   ],
   "source": [
    "accuracy_improvement_3"
   ]
  },
  {
   "cell_type": "markdown",
   "metadata": {},
   "source": [
    "#### Improvement 4: Play around with different approaches to anneal the learning rate. For example you can keep the learning rate fixed over several epochs then decay it by a factor of 10 after n epochs."
   ]
  },
  {
   "cell_type": "code",
   "execution_count": 68,
   "metadata": {},
   "outputs": [],
   "source": [
    "    def improvement_4(eta=0.018920249916784752, regularization_term=0.001):\n",
    "        \"\"\"\n",
    "        ﻿Play around with different approaches to anneal the learning rate.\n",
    "        For example you can keep the learning rate fixed over several epochs then decay it by a factor of 10 after n epochs.\n",
    "        \"\"\"\n",
    "        \n",
    "        W1_annealing, b1_annealing, W2_annealing, b2_annealing = initialize_weights()\n",
    "        \n",
    "        GD_params = [100, eta, 30]\n",
    "\n",
    "        W1_annealing, b1_annealing, W2_annealing, b2_annealing, training_set_loss_annealing, validation_set_loss_annealing = \\\n",
    "            MiniBatchGDwithMomentum( X_training,\n",
    "                                     Y_training,\n",
    "                                     X_validation,\n",
    "                                     Y_validation,\n",
    "                                     y_validation,\n",
    "                                     GD_params,\n",
    "                                     W1_annealing, b1_annealing, W2_annealing, b2_annealing,\n",
    "                                     regularization_term,\n",
    "                                     with_annealing=True)\n",
    "\n",
    "        return W1_annealing, b1_annealing, W2_annealing, b2_annealing, training_set_loss_annealing, validation_set_loss_annealing"
   ]
  },
  {
   "cell_type": "code",
   "execution_count": 69,
   "metadata": {},
   "outputs": [
    {
     "name": "stderr",
     "output_type": "stream",
     "text": [
      "100%|██████████| 30/30 [36:44<00:00, 73.49s/it]\n"
     ]
    }
   ],
   "source": [
    "W1_improvement_4, b1_improvement_4, W4_improvement_4, b4_improvement_4, \\\n",
    "training_set_loss_improvement_4, validation_set_loss_improvement_4 = improvement_4()"
   ]
  },
  {
   "cell_type": "code",
   "execution_count": 70,
   "metadata": {},
   "outputs": [
    {
     "data": {
      "image/png": "[encoded data removed]",
      "text/plain": [
       "<Figure size 432x288 with 1 Axes>"
      ]
     },
     "metadata": {},
     "output_type": "display_data"
    },
    {
     "data": {
      "text/plain": [
       "<Figure size 432x288 with 0 Axes>"
      ]
     },
     "metadata": {},
     "output_type": "display_data"
    }
   ],
   "source": [
    "visualize_costs(training_set_loss_improvement_4, validation_set_loss_improvement_4, display=True,\n",
    "                title='Cross Entropy Loss Evolution, improvement 4', save_name='improvement_4')"
   ]
  },
  {
   "cell_type": "code",
   "execution_count": 71,
   "metadata": {},
   "outputs": [],
   "source": [
    "accuracy_improvement_4 = ComputeAccuracy(X_test, y_test, W1_improvement_4, b1_improvement_4, W4_improvement_4, b4_improvement_4)"
   ]
  },
  {
   "cell_type": "markdown",
   "metadata": {},
   "source": [
    "Test set accuracy performance achieved: %"
   ]
  },
  {
   "cell_type": "code",
   "execution_count": 72,
   "metadata": {},
   "outputs": [
    {
     "data": {
      "text/plain": [
       "51.34"
      ]
     },
     "execution_count": 72,
     "metadata": {},
     "output_type": "execute_result"
    }
   ],
   "source": [
    "accuracy_improvement_4"
   ]
  },
  {
   "cell_type": "markdown",
   "metadata": {},
   "source": [
    "### Exercise 2: Train network using a different activation to ReLu "
   ]
  },
  {
   "cell_type": "markdown",
   "metadata": {},
   "source": [
    "We make use of the leaky ReLu function in order to observe any possible differences in the training process"
   ]
  },
  {
   "cell_type": "code",
   "execution_count": 73,
   "metadata": {},
   "outputs": [],
   "source": [
    "    def try_1(eta=0.018920249916784752, regularization_term=0.001):\n",
    "        \n",
    "        W1_leaky_1, b1_leaky_1, W2_leaky_1, b2_leaky_1 = initialize_weights()\n",
    "\n",
    "        GD_params = [100, eta, 30]\n",
    "\n",
    "        W1_leaky_1, b1_leaky_1, W2_leaky_1, b2_leaky_1, training_set_loss_leaky_1, validation_set_loss_leaky_1 = \\\n",
    "            MiniBatchGDwithMomentum(X_training,\n",
    "                                    Y_training,\n",
    "                                    X_validation,\n",
    "                                    Y_validation,\n",
    "                                    y_validation,\n",
    "                                    GD_params,\n",
    "                                    W1_leaky_1, b1_leaky_1, W2_leaky_1, b2_leaky_1,\n",
    "                                    regularization_term,\n",
    "                                    with_leaky_relu=True)\n",
    "\n",
    "        return W1_leaky_1, b1_leaky_1, W2_leaky_1, b2_leaky_1, training_set_loss_leaky_1, validation_set_loss_leaky_1"
   ]
  },
  {
   "cell_type": "code",
   "execution_count": 74,
   "metadata": {},
   "outputs": [
    {
     "name": "stderr",
     "output_type": "stream",
     "text": [
      "100%|██████████| 30/30 [37:30<00:00, 75.03s/it]\n"
     ]
    }
   ],
   "source": [
    "W1_try_1, b1_try_1, W2_try_1, b2_try_1, \\\n",
    "training_set_loss_try_1, validation_set_loss_try_1 = try_1()"
   ]
  },
  {
   "cell_type": "code",
   "execution_count": 75,
   "metadata": {},
   "outputs": [
    {
     "data": {
      "image/png": "[encoded data removed]",
      "text/plain": [
       "<Figure size 432x288 with 1 Axes>"
      ]
     },
     "metadata": {},
     "output_type": "display_data"
    },
    {
     "data": {
      "text/plain": [
       "<Figure size 432x288 with 0 Axes>"
      ]
     },
     "metadata": {},
     "output_type": "display_data"
    }
   ],
   "source": [
    "visualize_costs(training_set_loss_try_1, validation_set_loss_try_1, display=True,\n",
    "                title='Cross Entropy Loss Evolution, Leaky ReLU, try 1', save_name='try_1')"
   ]
  },
  {
   "cell_type": "code",
   "execution_count": 76,
   "metadata": {},
   "outputs": [],
   "source": [
    "accuracy_try_1 = ComputeAccuracy(X_test, y_test, W1_try_1, b1_try_1, W2_try_1, b2_try_1)"
   ]
  },
  {
   "cell_type": "code",
   "execution_count": 77,
   "metadata": {},
   "outputs": [
    {
     "data": {
      "text/plain": [
       "51.47"
      ]
     },
     "execution_count": 77,
     "metadata": {},
     "output_type": "execute_result"
    }
   ],
   "source": [
    "accuracy_try_1"
   ]
  }
 ],
 "metadata": {
  "kernelspec": {
   "display_name": "Python 3",
   "language": "python",
   "name": "python3"
  },
  "language_info": {
   "codemirror_mode": {
    "name": "ipython",
    "version": 3
   },
   "file_extension": ".py",
   "mimetype": "text/x-python",
   "name": "python",
   "nbconvert_exporter": "python",
   "pygments_lexer": "ipython3",
   "version": "3.6.5"
  }
 },
 "nbformat": 4,
 "nbformat_minor": 2
}
