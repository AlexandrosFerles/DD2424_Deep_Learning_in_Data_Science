{
 "cells": [
  {
   "cell_type": "markdown",
   "metadata": {},
   "source": [
    "### Import everything you may need"
   ]
  },
  {
   "cell_type": "code",
   "execution_count": 1,
   "metadata": {},
   "outputs": [
    {
     "name": "stderr",
     "output_type": "stream",
     "text": [
      "/home/f/e/ferles/.local/lib/python2.7/site-packages/h5py/__init__.py:36: FutureWarning: Conversion of the second argument of issubdtype from `float` to `np.floating` is deprecated. In future, it will be treated as `np.float64 == np.dtype(float).type`.\n",
      "  from ._conv import register_converters as _register_converters\n",
      "Using TensorFlow backend.\n"
     ]
    }
   ],
   "source": [
    "import numpy as np\n",
    "from matplotlib import pyplot as plt\n",
    "from keras.utils import to_categorical as make_class_categorical"
   ]
  },
  {
   "cell_type": "markdown",
   "metadata": {},
   "source": [
    "### Load data"
   ]
  },
  {
   "cell_type": "code",
   "execution_count": 2,
   "metadata": {},
   "outputs": [],
   "source": [
    "def LoadBatch(filename):\n",
    "\n",
    "    # borrowed from https://www.cs.toronto.edu/~kriz/cifar.html\n",
    "    def unpickle(file):\n",
    "        import pickle\n",
    "        with open(file, 'rb') as fo:\n",
    "            dict = pickle.load(fo)\n",
    "        return dict\n",
    "\n",
    "    dictionary = unpickle(filename)\n",
    "    # borrowed from https://stackoverflow.com/questions/16977385/extract-the-nth-key-in-a-python-dictionary?utm_medium=organic&utm_source=google_rich_qa&utm_campaign=google_rich_qa\n",
    "    def ix(dic, n):  # don't use dict as  a variable name\n",
    "        try:\n",
    "            return list(dic)[n]  # or sorted(dic)[n] if you want the keys to be sorted\n",
    "        except IndexError:\n",
    "            print('not enough keys')\n",
    "            \n",
    "    garbage = ix(dictionary,1)\n",
    "    y = dictionary[garbage]\n",
    "    Y = np.transpose(make_class_categorical(y, 10))\n",
    "    garbage = dictionary['data']\n",
    "    X = np.transpose(garbage) / 255.0\n",
    "\n",
    "\n",
    "    return X, Y, y"
   ]
  },
  {
   "cell_type": "markdown",
   "metadata": {},
   "source": [
    "### Initialize weights"
   ]
  },
  {
   "cell_type": "code",
   "execution_count": 3,
   "metadata": {},
   "outputs": [],
   "source": [
    "def initialize_weights(d, K, variance, mode):\n",
    "\n",
    "\n",
    "    np.random.seed(400)\n",
    "\n",
    "    if mode ==\"simple xavier\":\n",
    "        variance = 1.0/float(d)\n",
    "    elif mode == \"xavier\":\n",
    "        variance = 2.0 / float(K+d)\n",
    "\n",
    "    weight_matrix = np.random.normal(0,variance, (K,d))\n",
    "    bias = np.random.normal(0 ,variance, (K,1))\n",
    "\n",
    "    return weight_matrix, bias"
   ]
  },
  {
   "cell_type": "markdown",
   "metadata": {},
   "source": [
    "### Softmax mode to handle overflow occasion"
   ]
  },
  {
   "cell_type": "code",
   "execution_count": 4,
   "metadata": {},
   "outputs": [],
   "source": [
    "\n",
    "def softmax(X, theta=1.0, axis=None):\n",
    "\n",
    "    # Softmax over numpy rows and columns, taking care for overflow cases\n",
    "    # Many thanks to https://nolanbconaway.github.io/blog/2017/softmax-numpy\n",
    "    # Usage: Softmax over rows-> axis =0, softmax over columns ->axis =1\n",
    "\n",
    "    \"\"\"\n",
    "    Compute the softmax of each element along an axis of X.\n",
    "    Parameters\n",
    "    ----------\n",
    "    X: ND-Array. Probably should be floats.\n",
    "    theta (optional): float parameter, used as a multiplier\n",
    "        prior to exponentiation. Default = 1.0\n",
    "    axis (optional): axis to compute values along. Default is the\n",
    "        first non-singleton axis.\n",
    "    Returns an array the same size as X. The result will sum to 1\n",
    "    along the specified axis.\n",
    "    \"\"\"\n",
    "\n",
    "    # make X at least 2d\n",
    "    y = np.atleast_2d(X)\n",
    "\n",
    "    # find axis\n",
    "    if axis is None:\n",
    "        axis = next(j[0] for j in enumerate(y.shape) if j[1] > 1)\n",
    "\n",
    "    # multiply y against the theta parameter,\n",
    "    y = y * float(theta)\n",
    "\n",
    "    # subtract the max for numerical stability\n",
    "    y = y - np.expand_dims(np.max(y, axis=axis), axis)\n",
    "\n",
    "    # exponentiate y\n",
    "    y = np.exp(y)\n",
    "\n",
    "    # take the sum along the specified axis\n",
    "    ax_sum = np.expand_dims(np.sum(y, axis=axis), axis)\n",
    "\n",
    "    # finally: divide elementwise\n",
    "    p = y / ax_sum\n",
    "\n",
    "    # flatten if X was 1D\n",
    "    if len(X.shape) == 1: p = p.flatten()\n",
    "\n",
    "    return p"
   ]
  },
  {
   "cell_type": "markdown",
   "metadata": {},
   "source": [
    "###                                                         ASSIGNMENT INSTRUCTION FUNCTIONS"
   ]
  },
  {
   "cell_type": "markdown",
   "metadata": {},
   "source": [
    "### EvaluateClassifier"
   ]
  },
  {
   "cell_type": "code",
   "execution_count": 5,
   "metadata": {},
   "outputs": [],
   "source": [
    "def EvaluateClassifier(X, W, b):\n",
    "\n",
    "    s = np.dot(W,X) + b\n",
    "    P = softmax(s)\n",
    "    return P"
   ]
  },
  {
   "cell_type": "markdown",
   "metadata": {},
   "source": [
    "### SVM Loss"
   ]
  },
  {
   "cell_type": "code",
   "execution_count": 6,
   "metadata": {},
   "outputs": [],
   "source": [
    "def SVM_loss(s, label):\n",
    "    loss = 0.0\n",
    "    for i in range(len(s)):\n",
    "        if i != label:\n",
    "            loss += np.maximum(0, s[i] - s[label] + 1)\n",
    "    return loss"
   ]
  },
  {
   "cell_type": "markdown",
   "metadata": {},
   "source": [
    "### Compute Cost"
   ]
  },
  {
   "cell_type": "code",
   "execution_count": 7,
   "metadata": {},
   "outputs": [],
   "source": [
    "def ComputeCost(X, Y, y, W, b, regularization_term, loss_mode):\n",
    "\n",
    "    P = EvaluateClassifier(X,W,b)\n",
    "\n",
    "    if loss_mode==\"cross=entropy\":\n",
    "\n",
    "        cross_entropy_loss = 0\n",
    "        for i in range(0, X.shape[1]):\n",
    "            cross_entropy_loss-= np.log(np.dot(Y[:,i].T,P[:,i]))\n",
    "        cross_entropy_loss/=float(X.shape[1])\n",
    "\n",
    "        weight_sum = np.power(W,2).sum()\n",
    "\n",
    "        return cross_entropy_loss + regularization_term*weight_sum\n",
    "\n",
    "    else:\n",
    "\n",
    "        svm_loss = 0\n",
    "        for i in range(0, len(y)):\n",
    "            x = np.expand_dims(X[:,i], axis = 1)\n",
    "            s = np.dot(W, x) + b\n",
    "            svm_loss += SVM_loss(s, y[i])\n",
    "            \n",
    "        svm_loss /= float(X.shape[1])\n",
    "        weight_sum = np.power(W, 2).sum()\n",
    "\n",
    "        return svm_loss + 2*regularization_term * weight_sum"
   ]
  },
  {
   "cell_type": "markdown",
   "metadata": {},
   "source": [
    "### Compute Accuracy"
   ]
  },
  {
   "cell_type": "code",
   "execution_count": 8,
   "metadata": {},
   "outputs": [],
   "source": [
    "def ComputeAccuracy(X, y, W, b):\n",
    "# slightly modified and done through the labels y!\n",
    "\n",
    "    P = EvaluateClassifier(X,W,b)\n",
    "\n",
    "    miss_classified_data=0\n",
    "    for i in range(X.shape[1]):\n",
    "\n",
    "        predicted_class_index = np.argmax(P[:,i])\n",
    "\n",
    "        if (predicted_class_index!=y[i]):\n",
    "            miss_classified_data+=1\n",
    "\n",
    "    return 1 - miss_classified_data/float(X.shape[1])"
   ]
  },
  {
   "cell_type": "markdown",
   "metadata": {},
   "source": [
    "### Compute accuracy when using SVM"
   ]
  },
  {
   "cell_type": "code",
   "execution_count": 9,
   "metadata": {},
   "outputs": [],
   "source": [
    "def ComputeAccuracySVM(X, y, W):\n",
    "# slightly modified and done through the labels y!\n",
    "\n",
    "    P = np.dot(W,X)\n",
    "\n",
    "    miss_classified_data=0\n",
    "    for i in range(X.shape[1]):\n",
    "\n",
    "        predicted_class_index = np.argmax(P[:,i])\n",
    "\n",
    "        if (predicted_class_index!=y[i]):\n",
    "            miss_classified_data+=1\n",
    "\n",
    "    return 1 - miss_classified_data/float(X.shape[1])"
   ]
  },
  {
   "cell_type": "markdown",
   "metadata": {},
   "source": [
    "### Compute gradients"
   ]
  },
  {
   "cell_type": "code",
   "execution_count": 10,
   "metadata": {},
   "outputs": [],
   "source": [
    "def ComputeGradients(X, Y, y, P, W, b, regularization_term, mode):\n",
    "\n",
    "    gradW = np.zeros((W.shape[0],W.shape[1]))\n",
    "    gradb = np.zeros((W.shape[0], 1))\n",
    "\n",
    "    # ---------------CROSS ENTROPY LOSS---------------\n",
    "\n",
    "    for i in range(X.shape[1]):\n",
    "\n",
    "        g = -(Y[:,i] - P[:,i]).T\n",
    "        gradb += g.T.reshape(g.shape[0], 1)\n",
    "        gradW += np.dot(g.T.reshape(g.shape[0], 1), X[:, i].T.reshape(1, X.shape[0]))\n",
    "\n",
    "    # normalize\n",
    "    gradW/=X.shape[1]\n",
    "    gradW+= 2*regularization_term*W\n",
    "    gradb/=X.shape[1]\n",
    "\n",
    "    return gradW, gradb"
   ]
  },
  {
   "cell_type": "markdown",
   "metadata": {},
   "source": [
    "### Compute gradients when using SVM loss"
   ]
  },
  {
   "cell_type": "code",
   "execution_count": 11,
   "metadata": {},
   "outputs": [],
   "source": [
    "def ComputeGradientsSVM(X, y, W, b, regularization_term):\n",
    "\n",
    "    gradW = np.zeros((W.shape[0], W.shape[1]))\n",
    "    gradb = np.zeros((W.shape[0], 1))\n",
    "\n",
    "    for i in range(X.shape[1]):\n",
    "        x = np.expand_dims(X[:, i], axis=1)\n",
    "        s = (np.dot(W, x) + b).clip(0)\n",
    "        g = (s[y[i]] - s - 1 < 0) * 1\n",
    "        g[y[i]] = - (np.sum(g) - 1)\n",
    "        gradb += g\n",
    "        gradW += np.dot(g, x.T)\n",
    "        gradW /= len(y)\n",
    "        gradb /= len(y)\n",
    "\n",
    "    J_grad_W = gradW + regularization_term * W\n",
    "    J_grad_b = gradb\n",
    "    return J_grad_W, J_grad_b"
   ]
  },
  {
   "cell_type": "markdown",
   "metadata": {},
   "source": [
    "### Mini Batch GD"
   ]
  },
  {
   "cell_type": "code",
   "execution_count": 63,
   "metadata": {},
   "outputs": [],
   "source": [
    "def MiniBatchGD( X, Y, validation_X, validation_Y, y, y_validation, GDparams, W, b, regularization_term,\n",
    "                loss_mode, with_early_stopping, with_patience, patience=10):\n",
    "\n",
    "    number_of_mini_batches = GDparams[0]\n",
    "    eta = GDparams[1]\n",
    "    epoches=GDparams[2]\n",
    "\n",
    "    cost=[]\n",
    "    val_cost=[]\n",
    "\n",
    "    if loss_mode==\"cross-entropy\":\n",
    "\n",
    "        early_stopping = 10e8\n",
    "\n",
    "        # uncomment for patience in early stopping\n",
    "        early_stopping_cnt=0\n",
    "\n",
    "        save_W = np.copy(W)\n",
    "        save_b= np.copy(b)\n",
    "\n",
    "        temp_W = np.copy(W)\n",
    "        temp_b = np.copy(b)\n",
    "\n",
    "        for epoch in range(epoches):\n",
    "\n",
    "            for batch in range(1,int(X.shape[1]/number_of_mini_batches)):\n",
    "\n",
    "                start = (batch-1)*number_of_mini_batches+1\n",
    "                end = batch*number_of_mini_batches+1\n",
    "\n",
    "                P = EvaluateClassifier(X[:, start:end], W, b )\n",
    "\n",
    "                gradW, gradb = ComputeGradients(X=X[:, start:end], Y=Y[:, start:end],y=y[start:end], P=P, W=W, b=b, regularization_term=regularization_term, mode=\"Cross-entropy\")\n",
    "\n",
    "                # Compute similarity between analytic and numerical computation\n",
    "                # gradW_num, gradb_num = ComputeGradsNumSlow(X=X[:, start:end], Y=Y[:, start:end], y=y, W=W, b=b, regularization_term=regularization_term)\n",
    "                # check_similarity(gradb, gradW, gradb_num, gradW_num)\n",
    "\n",
    "                temp_W = np.copy(W)\n",
    "                temp_b = np.copy(b)\n",
    "\n",
    "                W-=eta*gradW\n",
    "                b-=eta*gradb\n",
    "\n",
    "            epoch_cost = ComputeCost(X=X, Y=Y, y=y, W=W, b=b, regularization_term=regularization_term, loss_mode=loss_mode)\n",
    "            val_epoch_cost = ComputeCost(X=validation_X, Y=validation_Y,y=y_validation, W=W, b=b, regularization_term=regularization_term, loss_mode=loss_mode)\n",
    "\n",
    "            # ---------EARLY STOPPING----------\n",
    "            if with_early_stopping:\n",
    "                if with_patience:\n",
    "                    if early_stopping - val_epoch_cost > 1e-6:\n",
    "                        early_stopping_cnt= 0\n",
    "                        early_stopping= val_epoch_cost\n",
    "                    else:\n",
    "                        if early_stopping_cnt == patience:\n",
    "                            print(\"Early stopping after \"+str(epoch)+\" epochs\")\n",
    "                            return save_W, save_b, cost, validation_cost\n",
    "                        else:\n",
    "                            if early_stopping_cnt == 0:\n",
    "                                save_W= temp_W\n",
    "                                save_b= temp_b\n",
    "                            early_stopping_cnt+=1\n",
    "                else:\n",
    "                    if early_stopping - val_epoch_cost > 1e-6:\n",
    "                        early_stopping= val_epoch_cost\n",
    "                    else:\n",
    "                        print(\"Early stopping after \" + str(epoch) + \" epochs\")\n",
    "                        return temp_W, temp_b, cost, val_cost\n",
    "\n",
    "            cost.append(epoch_cost)\n",
    "            val_cost.append(val_epoch_cost)\n",
    "\n",
    "        return W, b, cost, val_cost\n",
    "\n",
    "    elif loss_mode==\"SVM\":\n",
    "\n",
    "        for epoch in range(epoches):\n",
    "\n",
    "            for batch in range(1, int(X.shape[1] / number_of_mini_batches)):\n",
    "\n",
    "                start = (batch - 1) * number_of_mini_batches + 1\n",
    "                end = batch * number_of_mini_batches + 1\n",
    "\n",
    "                gradW, gradb = ComputeGradientsSVM(X=X[:, start:end],y=y[start:end], W=W, b=b, regularization_term=regularization_term)\n",
    "\n",
    "                W -= eta * gradW\n",
    "                b -= eta * b\n",
    "\n",
    "            print(epoch)\n",
    "\n",
    "            training_loss = ComputeCost(X=validation_X, Y=validation_Y,y=y_validation, W=W, b=b, regularization_term=regularization_term, loss_mode=loss_mode)\n",
    "            val_epoch_cost = ComputeCost(X=X, Y=Y,y=y_validation, W=W, b=b, regularization_term=regularization_term, loss_mode=loss_mode)\n",
    "\n",
    "            cost.append(training_loss)\n",
    "            val_cost.append(val_epoch_cost)\n",
    "\n",
    "        return W, b, cost, val_cost"
   ]
  },
  {
   "cell_type": "markdown",
   "metadata": {},
   "source": [
    "## Visualizing function"
   ]
  },
  {
   "cell_type": "code",
   "execution_count": 57,
   "metadata": {},
   "outputs": [],
   "source": [
    "def visualize_costs(cost, val_cost, regularization_term, eta, vis):\n",
    "    if vis:\n",
    "        plt.title('Cost function loss per epoch, $\\lambda$=' + str(regularization_term) + ', $\\eta$=' + str(eta))\n",
    "        plt.plot(cost, 'g', label='Training set ')\n",
    "        plt.plot(val_cost, 'r', label='Validation set')\n",
    "        plt.legend(loc='upper right')\n",
    "        plt.show()\n",
    "        plt.clf()\n",
    "\n",
    "def weights_vis(W, GDparams, regularization_term, vis):\n",
    "    if vis:\n",
    "        # weight visualization\n",
    "        images = []\n",
    "        for img in W:\n",
    "            raw_img=np.rot90(img.reshape(3, 32, 32).T, -1)\n",
    "            image = ((raw_img-np.min(raw_img))/(np.max(raw_img)-np.min(raw_img)))\n",
    "            images.append(image)\n",
    "        fig1 = plt.figure(figsize = (20, 5))\n",
    "        for idx in range(len(W)):\n",
    "            ax = fig1.add_subplot(2, 5, idx+1)\n",
    "            ax.set_title('Class %s'%(idx+1))\n",
    "            ax.imshow(images[idx])\n",
    "            ax.axis('off')\n",
    "        plt.show()\n",
    "        plt.clf()"
   ]
  },
  {
   "cell_type": "markdown",
   "metadata": {},
   "source": [
    "## EXTRA FUNCTIONS"
   ]
  },
  {
   "cell_type": "markdown",
   "metadata": {},
   "source": [
    "### Compute accuracy of ensemble learners"
   ]
  },
  {
   "cell_type": "code",
   "execution_count": 14,
   "metadata": {},
   "outputs": [],
   "source": [
    "def ComputeAccuracyEnsemble(X, y, classifiers):\n",
    "\n",
    "    miss_classified_data = 0\n",
    "    solution = dict()\n",
    "    classifier_suggestion = dict()\n",
    "    classifier_performance = dict()\n",
    "\n",
    "    for i in range(X.shape[1]):\n",
    "\n",
    "        for classifier_index in range(len(classifiers)):\n",
    "\n",
    "            classifier = classifiers[classifier_index]\n",
    "            predicted_class_index = np.argmax(classifier[:, i])\n",
    "            classifier_suggestion[classifier_index] = classifier_suggestion.get(classifier_index, 0) + predicted_class_index\n",
    "            solution[predicted_class_index]=solution.get(predicted_class_index, 0) +1\n",
    "\n",
    "        predicted_class_index=-1\n",
    "        count=-1\n",
    "\n",
    "        best = 0\n",
    "        \n",
    "        for elem in solution:\n",
    "            \n",
    "            if solution[elem]>count:\n",
    "                predicted_class_index= elem\n",
    "                count= solution[predicted_class_index]\n",
    "                best = 1\n",
    "\n",
    "            elif solution[elem]==count:\n",
    "                best+=1\n",
    "\n",
    "\n",
    "        # more than one classes are equally likely to happen:\n",
    "        if best>1:\n",
    "\n",
    "            winner = -1\n",
    "            for classifier_index in range(len(classifiers)):\n",
    "\n",
    "                if classifier_suggestion[classifier_index]>winner:\n",
    "\n",
    "                    predicted_class_index = classifier_suggestion[classifier_index]\n",
    "\n",
    "        if (predicted_class_index!=y[i]):\n",
    "            miss_classified_data+=1\n",
    "\n",
    "        # rate the performance of all classifiers for future reference\n",
    "        for classifier_index in range(len(classifiers)):\n",
    "\n",
    "            if classifier_suggestion[classifier_index] == y[i]:\n",
    "                classifier_performance[classifier_index] = classifier_performance.get(classifier_index, 0) +1\n",
    "            else:\n",
    "                classifier_performance[classifier_index] = classifier_performance.get(classifier_index, 0) - 1\n",
    "\n",
    "        solution.clear()\n",
    "        classifier_suggestion.clear()\n",
    "\n",
    "    return 1 - miss_classified_data/float(X.shape[1])"
   ]
  },
  {
   "cell_type": "markdown",
   "metadata": {},
   "source": [
    "## EXPERIMENTS"
   ]
  },
  {
   "cell_type": "markdown",
   "metadata": {},
   "source": [
    "### Part no.1: Try any 3 or more of the suggested improvements"
   ]
  },
  {
   "cell_type": "markdown",
   "metadata": {},
   "source": [
    "#### Improvement no.1: Training for a langer number of epochs and using the validation set for early stopping"
   ]
  },
  {
   "cell_type": "code",
   "execution_count": 15,
   "metadata": {},
   "outputs": [],
   "source": [
    "    X_training_1, Y_training_1, y_training_1 = LoadBatch('../../cifar-10-batches-py/data_batch_1')\n",
    "    X_training_2, Y_training_2, y_training_2 = LoadBatch('../../cifar-10-batches-py/data_batch_2')\n"
   ]
  },
  {
   "cell_type": "code",
   "execution_count": 34,
   "metadata": {},
   "outputs": [],
   "source": [
    "    X_test, _ , y_test= LoadBatch('../../cifar-10-batches-py/test_batch')"
   ]
  },
  {
   "cell_type": "code",
   "execution_count": 17,
   "metadata": {},
   "outputs": [],
   "source": [
    "weight_matrix_early_stopping, bias_early_stopping = initialize_weights(d= 3072, K= 10, variance= 0.01, mode=\"normal\")"
   ]
  },
  {
   "cell_type": "code",
   "execution_count": 18,
   "metadata": {},
   "outputs": [
    {
     "name": "stdout",
     "output_type": "stream",
     "text": [
      "Early stopping after 69 epochs\n"
     ]
    }
   ],
   "source": [
    "    W_early_stopping, b_early_stopping, training_cost_early_stopping, validation_cost_early_stopping = MiniBatchGD(\n",
    "        X=X_training_1,\n",
    "        Y=Y_training_1,\n",
    "        validation_X= X_training_2,\n",
    "        validation_Y= Y_training_2,\n",
    "        y=y_training_1,\n",
    "        y_validation=y_training_2,\n",
    "        GDparams=[100,0.01,100],\n",
    "        W=weight_matrix_early_stopping,\n",
    "        b=bias_early_stopping,\n",
    "        regularization_term=0,\n",
    "        loss_mode=\"cross-entropy\",\n",
    "        with_early_stopping=True,\n",
    "        with_patience=False)"
   ]
  },
  {
   "cell_type": "markdown",
   "metadata": {},
   "source": [
    "The following plot shows the cost evolution over each epoch for the training and validation datasets:"
   ]
  },
  {
   "cell_type": "code",
   "execution_count": 19,
   "metadata": {},
   "outputs": [
    {
     "data": {
      "image/png": "[encoded data removed]",
      "text/plain": [
       "<Figure size 432x288 with 1 Axes>"
      ]
     },
     "metadata": {},
     "output_type": "display_data"
    },
    {
     "data": {
      "text/plain": [
       "<Figure size 432x288 with 0 Axes>"
      ]
     },
     "metadata": {},
     "output_type": "display_data"
    }
   ],
   "source": [
    "visualize_costs(cost=training_cost_early_stopping, \n",
    "                eta=0.01, regularization_term=0, val_cost=validation_cost_early_stopping,vis=True)"
   ]
  },
  {
   "cell_type": "code",
   "execution_count": 35,
   "metadata": {},
   "outputs": [],
   "source": [
    "acc_early_stopping= ComputeAccuracy(X=X_test, y=y_test, W=W_early_stopping, b=b_early_stopping)"
   ]
  },
  {
   "cell_type": "markdown",
   "metadata": {},
   "source": [
    "The accuracy when using early stopping is:"
   ]
  },
  {
   "cell_type": "code",
   "execution_count": 36,
   "metadata": {},
   "outputs": [
    {
     "data": {
      "text/plain": [
       "0.38139999999999996"
      ]
     },
     "execution_count": 36,
     "metadata": {},
     "output_type": "execute_result"
    }
   ],
   "source": [
    "acc_early_stopping"
   ]
  },
  {
   "cell_type": "markdown",
   "metadata": {},
   "source": [
    "Visualizing the weights learned from the usage of early stopping:"
   ]
  },
  {
   "cell_type": "code",
   "execution_count": 58,
   "metadata": {},
   "outputs": [
    {
     "data": {
      "image/png": "[encoded data removed]",
      "text/plain": [
       "<Figure size 1440x360 with 10 Axes>"
      ]
     },
     "metadata": {},
     "output_type": "display_data"
    },
    {
     "data": {
      "text/plain": [
       "<Figure size 432x288 with 0 Axes>"
      ]
     },
     "metadata": {},
     "output_type": "display_data"
    }
   ],
   "source": [
    "weights_vis(W=W_early_stopping, GDparams=[100,0.01,100], regularization_term=0, vis=True)"
   ]
  },
  {
   "cell_type": "markdown",
   "metadata": {},
   "source": [
    "#### Improvement no.2: Using all the available datasets for training, and keeping only the last 1000 data from the second training batch (original training set) as the new validation set"
   ]
  },
  {
   "cell_type": "markdown",
   "metadata": {},
   "source": [
    "Prepare the whole dataset"
   ]
  },
  {
   "cell_type": "code",
   "execution_count": 23,
   "metadata": {},
   "outputs": [],
   "source": [
    "    X_training_3, Y_training_3, y_training_3 = LoadBatch('../../cifar-10-batches-py/data_batch_3')\n",
    "    X_training_4, Y_training_4, y_training_4 = LoadBatch('../../cifar-10-batches-py/data_batch_4')\n",
    "    X_training_5, Y_training_5, y_training_5 = LoadBatch('../../cifar-10-batches-py/data_batch_5')\n",
    "    \n",
    "    X_training = np.concatenate((X_training_1, X_training_3), axis=1)\n",
    "    X_training = np.copy(np.concatenate((X_training, X_training_4), axis=1))\n",
    "    X_training = np.copy(np.concatenate((X_training, X_training_5), axis=1))\n",
    "    \n",
    "    X_training = np.concatenate((X_training, X_training_2[:, :9000]), axis=1)\n",
    "\n",
    "    Y_training = np.concatenate((Y_training_1, Y_training_3), axis=1)\n",
    "    Y_training = np.copy(np.concatenate((Y_training, Y_training_4), axis=1))\n",
    "    Y_training = np.copy(np.concatenate((Y_training, Y_training_5), axis=1))\n",
    "    \n",
    "    Y_training = np.concatenate((Y_training, Y_training_2[:, :9000]), axis=1)\n",
    "    \n",
    "    y_training= y_training_1 + y_training_3+ y_training_4+ y_training_5+ y_training_2[:9000]\n",
    "    \n",
    "    X_validation = np.copy(X_training_2[:, 9000:])\n",
    "    Y_validation = np.copy(Y_training_2[:, 9000:])\n",
    "    y_validation = y_training_2[9000:]\n"
   ]
  },
  {
   "cell_type": "markdown",
   "metadata": {},
   "source": [
    "Train the whole dataset without early_stopping"
   ]
  },
  {
   "cell_type": "code",
   "execution_count": 46,
   "metadata": {},
   "outputs": [],
   "source": [
    "weight_full_dataset, bias_full_dataset = initialize_weights(d= 3072, K= 10, variance= 0.01, mode=\"normal\")"
   ]
  },
  {
   "cell_type": "code",
   "execution_count": 47,
   "metadata": {},
   "outputs": [],
   "source": [
    "    W_full_dataset, b_full_dataset, training_cost_full_dataset, validation_cost_full_dataset = MiniBatchGD(\n",
    "        X=X_training,\n",
    "        Y=Y_training,\n",
    "        validation_X= X_validation,\n",
    "        validation_Y= Y_validation,\n",
    "        y=y_training,\n",
    "        y_validation=y_validation,\n",
    "        GDparams=[100,0.01,40],\n",
    "        W=weight_full_dataset,\n",
    "        b=bias_full_dataset,\n",
    "        regularization_term=0,\n",
    "        loss_mode=\"cross-entropy\",\n",
    "        with_early_stopping=False,\n",
    "        with_patience=False)"
   ]
  },
  {
   "cell_type": "markdown",
   "metadata": {},
   "source": [
    "The evolution of cost when all the data except a small fraction (1000 in particular) is given by the following plot:"
   ]
  },
  {
   "cell_type": "code",
   "execution_count": 48,
   "metadata": {},
   "outputs": [
    {
     "data": {
      "image/png": "[encoded data removed]",
      "text/plain": [
       "<Figure size 432x288 with 1 Axes>"
      ]
     },
     "metadata": {},
     "output_type": "display_data"
    },
    {
     "data": {
      "text/plain": [
       "<Figure size 432x288 with 0 Axes>"
      ]
     },
     "metadata": {},
     "output_type": "display_data"
    }
   ],
   "source": [
    "visualize_costs(cost=training_cost_full_dataset, \n",
    "                eta=0.01, regularization_term=0, val_cost=validation_cost_full_dataset,vis=True)"
   ]
  },
  {
   "cell_type": "code",
   "execution_count": 49,
   "metadata": {},
   "outputs": [],
   "source": [
    "acc_full_dataset= ComputeAccuracy(X=X_test, y=y_test, W=W_full_dataset, b=b_full_dataset)"
   ]
  },
  {
   "cell_type": "markdown",
   "metadata": {},
   "source": [
    "The accuracy when training on the full dataset is:"
   ]
  },
  {
   "cell_type": "code",
   "execution_count": 50,
   "metadata": {},
   "outputs": [
    {
     "data": {
      "text/plain": [
       "0.40990000000000004"
      ]
     },
     "execution_count": 50,
     "metadata": {},
     "output_type": "execute_result"
    }
   ],
   "source": [
    "acc_full_dataset"
   ]
  },
  {
   "cell_type": "markdown",
   "metadata": {},
   "source": [
    "The weights learned from using all the available data in the training set:"
   ]
  },
  {
   "cell_type": "code",
   "execution_count": 59,
   "metadata": {},
   "outputs": [
    {
     "data": {
      "image/png": "[encoded data removed]",
      "text/plain": [
       "<Figure size 1440x360 with 10 Axes>"
      ]
     },
     "metadata": {},
     "output_type": "display_data"
    },
    {
     "data": {
      "text/plain": [
       "<Figure size 432x288 with 0 Axes>"
      ]
     },
     "metadata": {},
     "output_type": "display_data"
    }
   ],
   "source": [
    "weights_vis(W=W_full_dataset, GDparams=[100,0.01,40], regularization_term=0, vis=True)"
   ]
  },
  {
   "cell_type": "markdown",
   "metadata": {},
   "source": [
    "#### Improvement no.3: Training 5 different classifiers (one from each dataset) and predicting the class of each data using the majority vote. \n",
    "During the \"voting\" process, each classifier is rated according to its votes up to this point. When 2 or more classes share equal votes, the best classifier so far decides for the predicted class index."
   ]
  },
  {
   "cell_type": "code",
   "execution_count": 66,
   "metadata": {},
   "outputs": [],
   "source": [
    "    classifiers = []\n"
   ]
  },
  {
   "cell_type": "markdown",
   "metadata": {},
   "source": [
    "Training on the first dataset"
   ]
  },
  {
   "cell_type": "code",
   "execution_count": 73,
   "metadata": {},
   "outputs": [],
   "source": [
    "weight_matrix_1, bias_1 = initialize_weights(d=3072, K=10,variance=0.01, mode=\"normal\")\n",
    "\n",
    "W1, b1, _, _ = MiniBatchGD(\n",
    "    X=X_training_1,\n",
    "    Y=Y_training_1,\n",
    "    validation_X=X_validation,\n",
    "    validation_Y=Y_validation,\n",
    "    y=y_training_1,\n",
    "    y_validation=y_validation,\n",
    "    GDparams=[100, 0.01, 40],\n",
    "    W=weight_matrix_1,\n",
    "    b=bias_1,\n",
    "    regularization_term=0,\n",
    "    loss_mode=\"cross-entropy\",\n",
    "    with_early_stopping=False,\n",
    "    with_patience=False)\n",
    "\n",
    "classifiers.append(EvaluateClassifier(X_test,W1,b1))"
   ]
  },
  {
   "cell_type": "markdown",
   "metadata": {},
   "source": [
    "Training on the second dataset"
   ]
  },
  {
   "cell_type": "code",
   "execution_count": 75,
   "metadata": {},
   "outputs": [],
   "source": [
    "weight_matrix_2, bias_2 = initialize_weights(d=3072, K=10,variance=0.01, mode=\"normal\")\n",
    "\n",
    "W2, b2,  _, _ = MiniBatchGD(\n",
    "    X=X_training_2[:9000],\n",
    "    Y=Y_training_2[:9000],\n",
    "    validation_X=X_validation,\n",
    "    validation_Y=Y_validation,\n",
    "    y=y_training_2,\n",
    "    y_validation=y_validation,\n",
    "    GDparams=[100, 0.01, 40],\n",
    "    W=weight_matrix_2,\n",
    "    b=bias_2,\n",
    "    regularization_term=0,\n",
    "    loss_mode=\"cross-entropy\",\n",
    "    with_early_stopping=False,\n",
    "    with_patience=False)\n",
    "\n",
    "classifiers.append(EvaluateClassifier(X_test,W2,b2))"
   ]
  },
  {
   "cell_type": "markdown",
   "metadata": {},
   "source": [
    "Training on the third dataset"
   ]
  },
  {
   "cell_type": "code",
   "execution_count": 76,
   "metadata": {},
   "outputs": [],
   "source": [
    "weight_matrix_3, bias_3 = initialize_weights(d=3072, K=10,variance=0.01, mode=\"normal\")\n",
    "\n",
    "W3, b3,  _, _ = MiniBatchGD(\n",
    "    X=X_training_3,\n",
    "    Y=Y_training_3,\n",
    "    validation_X=X_validation,\n",
    "    validation_Y=Y_validation,\n",
    "    y=y_training_3,\n",
    "    y_validation=y_validation,\n",
    "    GDparams=[100, 0.01, 40],\n",
    "    W=weight_matrix_3,\n",
    "    b=bias_3,\n",
    "    regularization_term=0,\n",
    "    loss_mode=\"cross-entropy\",\n",
    "    with_early_stopping=False,\n",
    "    with_patience=False)\n",
    "\n",
    "classifiers.append(EvaluateClassifier(X_test,W3,b3))"
   ]
  },
  {
   "cell_type": "markdown",
   "metadata": {},
   "source": [
    "Training on the fourth dataset"
   ]
  },
  {
   "cell_type": "code",
   "execution_count": 78,
   "metadata": {},
   "outputs": [],
   "source": [
    "weight_matrix_4, bias_4 = initialize_weights(d=3072, K=10,variance=0.01, mode=\"normal\")\n",
    "\n",
    "W4, b4,  _, _ = MiniBatchGD(\n",
    "    X=X_training_4,\n",
    "    Y=Y_training_4,\n",
    "    validation_X=X_validation,\n",
    "    validation_Y=Y_validation,\n",
    "    y=y_training_4,\n",
    "    y_validation=y_validation,\n",
    "    GDparams=[100, 0.01, 40],\n",
    "    W=weight_matrix_4,\n",
    "    b=bias_4,\n",
    "    regularization_term=0,\n",
    "    loss_mode=\"cross-entropy\",\n",
    "    with_early_stopping=False,\n",
    "    with_patience=False)\n",
    "\n",
    "classifiers.append(EvaluateClassifier(X_test,W4,b4))"
   ]
  },
  {
   "cell_type": "markdown",
   "metadata": {},
   "source": [
    "Training on the fifth dataset"
   ]
  },
  {
   "cell_type": "code",
   "execution_count": 80,
   "metadata": {},
   "outputs": [],
   "source": [
    "weight_matrix_5, bias_5 = initialize_weights(d=3072, K=10,variance=0.01, mode=\"normal\")\n",
    "\n",
    "W5, b5,  _, _ = MiniBatchGD(\n",
    "    X=X_training_5,\n",
    "    Y=Y_training_5,\n",
    "    validation_X=X_validation,\n",
    "    validation_Y=Y_validation,\n",
    "    y=y_training_5,\n",
    "    y_validation=y_validation,\n",
    "    GDparams=[100, 0.01, 40],\n",
    "    W=weight_matrix_5,\n",
    "    b=bias_5,\n",
    "    regularization_term=0,\n",
    "    loss_mode=\"cross-entropy\",\n",
    "    with_early_stopping=False,\n",
    "    with_patience=False)\n",
    "\n",
    "classifiers.append(EvaluateClassifier(X_test,W5,b5))"
   ]
  },
  {
   "cell_type": "code",
   "execution_count": 81,
   "metadata": {},
   "outputs": [],
   "source": [
    "accuracy_ensembling= ComputeAccuracyEnsemble(X_test, y_test, classifiers)"
   ]
  },
  {
   "cell_type": "markdown",
   "metadata": {},
   "source": [
    "The accuracy of the ensembling method is:"
   ]
  },
  {
   "cell_type": "code",
   "execution_count": 82,
   "metadata": {},
   "outputs": [
    {
     "data": {
      "text/plain": [
       "0.39480000000000004"
      ]
     },
     "execution_count": 82,
     "metadata": {},
     "output_type": "execute_result"
    }
   ],
   "source": [
    "accuracy_ensembling"
   ]
  },
  {
   "cell_type": "markdown",
   "metadata": {},
   "source": [
    "#### Improvement no.4: Running a fine_tuning algorithm to define proper values for $\\eta$ and $\\lambda$"
   ]
  },
  {
   "cell_type": "markdown",
   "metadata": {},
   "source": [
    "We run experiments in a relatively broad space of values for $\\eta$ and $\\lambda$ in order to define a good pair of values for these two hyperparameters"
   ]
  },
  {
   "cell_type": "code",
   "execution_count": 104,
   "metadata": {},
   "outputs": [
    {
     "name": "stdout",
     "output_type": "stream",
     "text": [
      "Lambda: 0, eta: 0.001, accuracy:0.3597, BEST SO FAR\n",
      "Lambda: 0.0001, eta: 0.001, accuracy:0.3714, BEST SO FAR\n",
      "Lambda: 0.001, eta: 0.001, accuracy:0.3786, BEST SO FAR\n",
      "Lambda: 0.01, eta: 0.001, accuracy:0.3819, BEST SO FAR\n",
      "Lambda: 0.1, eta: 0.001, accuracy:0.3781\n",
      "Lambda: 0, eta: 0.002, accuracy:0.3827, BEST SO FAR\n",
      "Lambda: 0.0001, eta: 0.002, accuracy:0.3852, BEST SO FAR\n",
      "Lambda: 0.001, eta: 0.002, accuracy:0.3879, BEST SO FAR\n",
      "Lambda: 0.01, eta: 0.002, accuracy:0.389, BEST SO FAR\n",
      "Lambda: 0.1, eta: 0.002, accuracy:0.3776\n",
      "Lambda: 0, eta: 0.003, accuracy:0.3825\n",
      "Lambda: 0.0001, eta: 0.003, accuracy:0.3878\n",
      "Lambda: 0.001, eta: 0.003, accuracy:0.3898, BEST SO FAR\n",
      "Lambda: 0.01, eta: 0.003, accuracy:0.3909, BEST SO FAR\n",
      "Lambda: 0.1, eta: 0.003, accuracy:0.369\n",
      "Lambda: 0, eta: 0.004, accuracy:0.3847\n",
      "Lambda: 0.0001, eta: 0.004, accuracy:0.3886\n",
      "Lambda: 0.001, eta: 0.004, accuracy:0.3895\n",
      "Lambda: 0.01, eta: 0.004, accuracy:0.3917, BEST SO FAR\n",
      "Lambda: 0.1, eta: 0.004, accuracy:0.3652\n",
      "Lambda: 0, eta: 0.005, accuracy:0.387\n",
      "Lambda: 0.0001, eta: 0.005, accuracy:0.3903\n",
      "Lambda: 0.001, eta: 0.005, accuracy:0.3897\n",
      "Lambda: 0.01, eta: 0.005, accuracy:0.3907\n",
      "Lambda: 0.1, eta: 0.005, accuracy:0.3611\n",
      "Lambda: 0, eta: 0.006, accuracy:0.3876\n",
      "Lambda: 0.0001, eta: 0.006, accuracy:0.3905\n",
      "Lambda: 0.001, eta: 0.006, accuracy:0.3899\n",
      "Lambda: 0.01, eta: 0.006, accuracy:0.3901\n",
      "Lambda: 0.1, eta: 0.006, accuracy:0.357\n",
      "Lambda: 0, eta: 0.007, accuracy:0.3863\n",
      "Lambda: 0.0001, eta: 0.007, accuracy:0.3906\n",
      "Lambda: 0.001, eta: 0.007, accuracy:0.3898\n",
      "Lambda: 0.01, eta: 0.007, accuracy:0.3882\n",
      "Lambda: 0.1, eta: 0.007, accuracy:0.3547\n",
      "Lambda: 0, eta: 0.008, accuracy:0.3848\n",
      "Lambda: 0.0001, eta: 0.008, accuracy:0.3905\n",
      "Lambda: 0.001, eta: 0.008, accuracy:0.3904\n",
      "Lambda: 0.01, eta: 0.008, accuracy:0.3883\n",
      "Lambda: 0.1, eta: 0.008, accuracy:0.3517\n",
      "Lambda: 0, eta: 0.009000000000000001, accuracy:0.3842\n",
      "Lambda: 0.0001, eta: 0.009000000000000001, accuracy:0.3886\n",
      "Lambda: 0.001, eta: 0.009000000000000001, accuracy:0.3865\n",
      "Lambda: 0.01, eta: 0.009000000000000001, accuracy:0.3858\n",
      "Lambda: 0.1, eta: 0.009000000000000001, accuracy:0.3488\n",
      "Lambda: 0, eta: 0.010000000000000002, accuracy:0.3852\n",
      "Lambda: 0.0001, eta: 0.010000000000000002, accuracy:0.3877\n",
      "Lambda: 0.001, eta: 0.010000000000000002, accuracy:0.3864\n",
      "Lambda: 0.01, eta: 0.010000000000000002, accuracy:0.3847\n",
      "Lambda: 0.1, eta: 0.010000000000000002, accuracy:0.3477\n",
      "Lambda: 0, eta: 0.011, accuracy:0.3843\n",
      "Lambda: 0.0001, eta: 0.011, accuracy:0.3875\n",
      "Lambda: 0.001, eta: 0.011, accuracy:0.3853\n",
      "Lambda: 0.01, eta: 0.011, accuracy:0.3831\n",
      "Lambda: 0.1, eta: 0.011, accuracy:0.3456\n",
      "Lambda: 0, eta: 0.012, accuracy:0.3832\n",
      "Lambda: 0.0001, eta: 0.012, accuracy:0.3853\n",
      "Lambda: 0.001, eta: 0.012, accuracy:0.3831\n",
      "Lambda: 0.01, eta: 0.012, accuracy:0.382\n",
      "Lambda: 0.1, eta: 0.012, accuracy:0.3435\n",
      "Lambda: 0, eta: 0.013000000000000001, accuracy:0.3829\n",
      "Lambda: 0.0001, eta: 0.013000000000000001, accuracy:0.3833\n",
      "Lambda: 0.001, eta: 0.013000000000000001, accuracy:0.3817\n",
      "Lambda: 0.01, eta: 0.013000000000000001, accuracy:0.3803\n",
      "Lambda: 0.1, eta: 0.013000000000000001, accuracy:0.3417\n",
      "Lambda: 0, eta: 0.014000000000000002, accuracy:0.3811\n",
      "Lambda: 0.0001, eta: 0.014000000000000002, accuracy:0.3822\n",
      "Lambda: 0.001, eta: 0.014000000000000002, accuracy:0.3804\n",
      "Lambda: 0.01, eta: 0.014000000000000002, accuracy:0.3784\n",
      "Lambda: 0.1, eta: 0.014000000000000002, accuracy:0.3399\n"
     ]
    }
   ],
   "source": [
    "weight_matrix_fine_tuning_1, bias_fine_tuning_1 = initialize_weights(d=3072, K=10, variance=0.01, mode=\"normal\")\n",
    "best_acc = 0\n",
    "\n",
    "for eta in np.arange(0.001,0.015,0.001):\n",
    "\n",
    "    for reg in [0, 0.0001, 0.001, 0.01, 0.1]:\n",
    "        W_temp, b_temp, _, _ = MiniBatchGD(\n",
    "            X=X_training_1,\n",
    "            Y=Y_training_1,\n",
    "            validation_X=X_training_2,\n",
    "            validation_Y=Y_training_2,\n",
    "            y=y_training_1,\n",
    "            y_validation=y_training_2,\n",
    "            GDparams=[100, eta, 40],\n",
    "            W=weight_matrix_fine_tuning_1,\n",
    "            b=bias_fine_tuning_1,\n",
    "            regularization_term=reg,\n",
    "            loss_mode=\"cross-entropy\",\n",
    "            with_early_stopping=False,\n",
    "            with_patience=False)\n",
    "\n",
    "        acc = ComputeAccuracy(X_test, y_test, W_temp, b_temp)\n",
    "        print_string= \"Lambda: \"+str(reg)+\", eta: \"+str(eta)+\", accuracy:\"+str(acc)\n",
    "        if acc > best_acc:\n",
    "            print(print_string+\", BEST SO FAR\")\n",
    "            best_acc = acc\n",
    "        else:\n",
    "            print(print_string)"
   ]
  },
  {
   "cell_type": "markdown",
   "metadata": {},
   "source": [
    "The best accuracy derived for $\\eta$ and $\\lambda$ was 39.17\\% for *($\\eta$, $\\lambda$)= (0.004, 0.01)  "
   ]
  },
  {
   "cell_type": "code",
   "execution_count": null,
   "metadata": {},
   "outputs": [],
   "source": []
  }
 ],
 "metadata": {
  "kernelspec": {
   "display_name": "Python 2",
   "language": "python",
   "name": "python2"
  },
  "language_info": {
   "codemirror_mode": {
    "name": "ipython",
    "version": 2
   },
   "file_extension": ".py",
   "mimetype": "text/x-python",
   "name": "python",
   "nbconvert_exporter": "python",
   "pygments_lexer": "ipython2",
   "version": "2.7.12"
  }
 },
 "nbformat": 4,
 "nbformat_minor": 2
}
