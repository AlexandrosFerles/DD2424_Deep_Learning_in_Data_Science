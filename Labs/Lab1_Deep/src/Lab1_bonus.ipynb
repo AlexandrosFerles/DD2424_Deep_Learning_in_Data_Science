{
 "cells": [
  {
   "cell_type": "markdown",
   "metadata": {},
   "source": [
    "### Import everything you may need"
   ]
  },
  {
   "cell_type": "code",
   "execution_count": 101,
   "metadata": {},
   "outputs": [],
   "source": [
    "import numpy as np\n",
    "from matplotlib import pyplot as plt\n",
    "from keras.utils import to_categorical as make_class_categorical\n",
    "import _pickle as pickle\n",
    "import pdb\n",
    "from tqdm import tqdm\n",
    "import tensorflow as tf"
   ]
  },
  {
   "cell_type": "code",
   "execution_count": 184,
   "metadata": {},
   "outputs": [],
   "source": [
    "from scipy import ndarray\n",
    "\n",
    "# image processing library\n",
    "import skimage as sk\n",
    "from skimage import transform\n",
    "from skimage import util\n",
    "from skimage import io"
   ]
  },
  {
   "cell_type": "markdown",
   "metadata": {},
   "source": [
    "### Load data"
   ]
  },
  {
   "cell_type": "code",
   "execution_count": 2,
   "metadata": {},
   "outputs": [],
   "source": [
    "def LoadBatch(filename):\n",
    "\n",
    "    # borrowed from https://www.cs.toronto.edu/~kriz/cifar.html\n",
    "    def unpickle(file):\n",
    "        with open(file, 'rb') as fo:\n",
    "            dict = pickle.load(fo, encoding='latin1')\n",
    "        return dict\n",
    "\n",
    "    dictionary = unpickle(filename)\n",
    "    # borrowed from https://stackoverflow.com/questions/16977385/extract-the-nth-key-in-a-python-dictionary?utm_medium=organic&utm_source=google_rich_qa&utm_campaign=google_rich_qa\n",
    "    def ix(dic, n):  # don't use dict as  a variable name\n",
    "        try:\n",
    "            return list(dic)[n]  # or sorted(dic)[n] if you want the keys to be sorted\n",
    "        except IndexError:\n",
    "            print('not enough keys')\n",
    "            \n",
    "    garbage = ix(dictionary,1)\n",
    "    y = dictionary[garbage]\n",
    "    Y = np.transpose(make_class_categorical(y, 10))\n",
    "    garbage = dictionary['data']\n",
    "    X = np.transpose(garbage) / 255.0\n",
    "\n",
    "\n",
    "    return X, Y, y"
   ]
  },
  {
   "cell_type": "markdown",
   "metadata": {},
   "source": [
    "### Initialize weights"
   ]
  },
  {
   "cell_type": "code",
   "execution_count": 3,
   "metadata": {},
   "outputs": [],
   "source": [
    "def initialize_weights(d, K, variance, mode):\n",
    "\n",
    "\n",
    "    np.random.seed(400)\n",
    "\n",
    "    if mode ==\"simple xavier\":\n",
    "        variance = 1.0/float(d)\n",
    "    elif mode == \"xavier\":\n",
    "        variance = 2.0 / float(K+d)\n",
    "\n",
    "    weight_matrix = np.random.normal(0,variance, (K,d))\n",
    "    bias = np.random.normal(0 ,variance, (K,1))\n",
    "\n",
    "    return weight_matrix, bias"
   ]
  },
  {
   "cell_type": "markdown",
   "metadata": {},
   "source": [
    "### Softmax mode to handle overflow occasion"
   ]
  },
  {
   "cell_type": "code",
   "execution_count": 4,
   "metadata": {},
   "outputs": [],
   "source": [
    "\n",
    "def softmax(X, theta=1.0, axis=None):\n",
    "\n",
    "    # Softmax over numpy rows and columns, taking care for overflow cases\n",
    "    # Many thanks to https://nolanbconaway.github.io/blog/2017/softmax-numpy\n",
    "    # Usage: Softmax over rows-> axis =0, softmax over columns ->axis =1\n",
    "\n",
    "    \"\"\"\n",
    "    Compute the softmax of each element along an axis of X.\n",
    "    Parameters\n",
    "    ----------\n",
    "    X: ND-Array. Probably should be floats.\n",
    "    theta (optional): float parameter, used as a multiplier\n",
    "        prior to exponentiation. Default = 1.0\n",
    "    axis (optional): axis to compute values along. Default is the\n",
    "        first non-singleton axis.\n",
    "    Returns an array the same size as X. The result will sum to 1\n",
    "    along the specified axis.\n",
    "    \"\"\"\n",
    "\n",
    "    # make X at least 2d\n",
    "    y = np.atleast_2d(X)\n",
    "\n",
    "    # find axis\n",
    "    if axis is None:\n",
    "        axis = next(j[0] for j in enumerate(y.shape) if j[1] > 1)\n",
    "\n",
    "    # multiply y against the theta parameter,\n",
    "    y = y * float(theta)\n",
    "\n",
    "    # subtract the max for numerical stability\n",
    "    y = y - np.expand_dims(np.max(y, axis=axis), axis)\n",
    "\n",
    "    # exponentiate y\n",
    "    y = np.exp(y)\n",
    "\n",
    "    # take the sum along the specified axis\n",
    "    ax_sum = np.expand_dims(np.sum(y, axis=axis), axis)\n",
    "\n",
    "    # finally: divide elementwise\n",
    "    p = y / ax_sum\n",
    "\n",
    "    # flatten if X was 1D\n",
    "    if len(X.shape) == 1: p = p.flatten()\n",
    "\n",
    "    return p"
   ]
  },
  {
   "cell_type": "markdown",
   "metadata": {},
   "source": [
    "###                                                         ASSIGNMENT INSTRUCTION FUNCTIONS"
   ]
  },
  {
   "cell_type": "markdown",
   "metadata": {},
   "source": [
    "### EvaluateClassifier"
   ]
  },
  {
   "cell_type": "code",
   "execution_count": 5,
   "metadata": {},
   "outputs": [],
   "source": [
    "def EvaluateClassifier(X, W, b):\n",
    "\n",
    "    s = np.dot(W,X) + b\n",
    "    P = softmax(s)\n",
    "    return P"
   ]
  },
  {
   "cell_type": "markdown",
   "metadata": {},
   "source": [
    "### Compute Cost"
   ]
  },
  {
   "cell_type": "code",
   "execution_count": 6,
   "metadata": {},
   "outputs": [],
   "source": [
    "def ComputeCost(X, Y, y, W, b, regularization_term, loss_mode):\n",
    "\n",
    "    P = EvaluateClassifier(X,W,b)\n",
    "\n",
    "    if loss_mode==\"cross-entropy\":\n",
    "\n",
    "        cross_entropy_loss = 0\n",
    "        for i in range(0, X.shape[1]):\n",
    "            cross_entropy_loss-= np.log(np.dot(Y[:,i].T,P[:,i]))\n",
    "        cross_entropy_loss/=float(X.shape[1])\n",
    "\n",
    "        weight_sum = np.power(W,2).sum()\n",
    "\n",
    "        return cross_entropy_loss + regularization_term*weight_sum"
   ]
  },
  {
   "cell_type": "markdown",
   "metadata": {},
   "source": [
    "### Compute Accuracy"
   ]
  },
  {
   "cell_type": "code",
   "execution_count": 7,
   "metadata": {},
   "outputs": [],
   "source": [
    "def ComputeAccuracy(X, y, W, b):\n",
    "# slightly modified and done through the labels y!\n",
    "\n",
    "    P = EvaluateClassifier(X,W,b)\n",
    "\n",
    "    miss_classified_data=0\n",
    "    for i in range(X.shape[1]):\n",
    "\n",
    "        predicted_class_index = np.argmax(P[:,i])\n",
    "\n",
    "        if (predicted_class_index!=y[i]):\n",
    "            miss_classified_data+=1\n",
    "\n",
    "    return 1 - miss_classified_data/float(X.shape[1])"
   ]
  },
  {
   "cell_type": "markdown",
   "metadata": {},
   "source": [
    "### Compute gradients"
   ]
  },
  {
   "cell_type": "code",
   "execution_count": 8,
   "metadata": {},
   "outputs": [],
   "source": [
    "def ComputeGradients(X, Y, y, P, W, b, regularization_term, mode):\n",
    "\n",
    "    gradW = np.zeros((W.shape[0],W.shape[1]))\n",
    "    gradb = np.zeros((W.shape[0], 1))\n",
    "\n",
    "    # ---------------CROSS ENTROPY LOSS---------------\n",
    "\n",
    "    for i in range(X.shape[1]):\n",
    "\n",
    "        g = -(Y[:,i] - P[:,i]).T\n",
    "        gradb += g.T.reshape(g.shape[0], 1)\n",
    "        gradW += np.dot(g.T.reshape(g.shape[0], 1), X[:, i].T.reshape(1, X.shape[0]))\n",
    "\n",
    "    # normalize\n",
    "    gradW/=X.shape[1]\n",
    "    gradW+= 2*regularization_term*W\n",
    "    gradb/=X.shape[1]\n",
    "\n",
    "    return gradW, gradb"
   ]
  },
  {
   "cell_type": "markdown",
   "metadata": {},
   "source": [
    "### Mini Batch GD"
   ]
  },
  {
   "cell_type": "code",
   "execution_count": 9,
   "metadata": {},
   "outputs": [],
   "source": [
    "def MiniBatchGD( X, Y, validation_X, validation_Y, y, y_validation, GDparams, W, b, regularization_term,\n",
    "                loss_mode, with_early_stopping, with_patience, patience=10, with_factor_decaying=False):\n",
    "\n",
    "    number_of_mini_batches = GDparams[0]\n",
    "    if with_factor_decaying:\n",
    "        eta= 0.1\n",
    "    else:\n",
    "        eta = GDparams[1]\n",
    "    epoches=GDparams[2]\n",
    "\n",
    "    cost=[]\n",
    "    val_cost=[]\n",
    "\n",
    "    if loss_mode==\"cross-entropy\":\n",
    "\n",
    "        early_stopping = 10e8\n",
    "\n",
    "        # uncomment for patience in early stopping\n",
    "        early_stopping_cnt=0\n",
    "\n",
    "        save_W = np.copy(W)\n",
    "        save_b= np.copy(b)\n",
    "\n",
    "        temp_W = np.copy(W)\n",
    "        temp_b = np.copy(b)\n",
    "\n",
    "        for epoch in range(epoches):\n",
    "\n",
    "            for batch in range(1,int(X.shape[1]/number_of_mini_batches)):\n",
    "\n",
    "                start = (batch-1)*number_of_mini_batches+1\n",
    "                end = batch*number_of_mini_batches+1\n",
    "\n",
    "                P = EvaluateClassifier(X[:, start:end], W, b )\n",
    "\n",
    "                gradW, gradb = ComputeGradients(X=X[:, start:end], Y=Y[:, start:end],y=y[start:end], P=P, W=W, b=b, regularization_term=regularization_term, mode=\"Cross-entropy\")\n",
    "\n",
    "                # Compute similarity between analytic and numerical computation\n",
    "                # gradW_num, gradb_num = ComputeGradsNumSlow(X=X[:, start:end], Y=Y[:, start:end], y=y, W=W, b=b, regularization_term=regularization_term)\n",
    "                # check_similarity(gradb, gradW, gradb_num, gradW_num)\n",
    "\n",
    "                temp_W = np.copy(W)\n",
    "                temp_b = np.copy(b)\n",
    "\n",
    "                W-=eta*gradW\n",
    "                b-=eta*gradb\n",
    "\n",
    "            epoch_cost = ComputeCost(X=X, Y=Y, y=y, W=W, b=b, regularization_term=regularization_term, loss_mode=loss_mode)\n",
    "            val_epoch_cost = ComputeCost(X=validation_X, Y=validation_Y,y=y_validation, W=W, b=b, regularization_term=regularization_term, loss_mode=loss_mode)\n",
    "\n",
    "            # ---------EARLY STOPPING----------\n",
    "            if with_early_stopping:\n",
    "                if with_patience:\n",
    "                    if early_stopping - val_epoch_cost > 1e-6:\n",
    "                        early_stopping_cnt= 0\n",
    "                        early_stopping= val_epoch_cost\n",
    "                    else:\n",
    "                        if early_stopping_cnt == patience:\n",
    "                            print(\"Early stopping after \"+str(epoch)+\" epochs\")\n",
    "                            return save_W, save_b, cost, validation_cost\n",
    "                        else:\n",
    "                            if early_stopping_cnt == 0:\n",
    "                                save_W= temp_W\n",
    "                                save_b= temp_b\n",
    "                            early_stopping_cnt+=1\n",
    "                else:\n",
    "                    if early_stopping - val_epoch_cost > 1e-6:\n",
    "                        early_stopping= val_epoch_cost\n",
    "                    else:\n",
    "                        print(\"Early stopping after \" + str(epoch) + \" epochs\")\n",
    "                        return temp_W, temp_b, cost, val_cost\n",
    "\n",
    "            cost.append(epoch_cost)\n",
    "            val_cost.append(val_epoch_cost)\n",
    "            \n",
    "            if with_factor_decaying:\n",
    "                eta*=0.9\n",
    "\n",
    "        return W, b, cost, val_cost"
   ]
  },
  {
   "cell_type": "markdown",
   "metadata": {},
   "source": [
    "## Visualizing function"
   ]
  },
  {
   "cell_type": "code",
   "execution_count": 10,
   "metadata": {},
   "outputs": [],
   "source": [
    "def visualize_costs(cost, val_cost, regularization_term, eta, vis, name=None):\n",
    "    if vis:\n",
    "        plt.title('Cost function loss per epoch, $\\lambda$=' + str(regularization_term) + ', $\\eta$=' + str(eta))\n",
    "        plt.plot(cost, 'g', label='Training set ')\n",
    "        plt.plot(val_cost, 'r', label='Validation set')\n",
    "        plt.legend(loc='upper right')\n",
    "        plt.show()\n",
    "        if name is not None:\n",
    "            plt.savefig(name+\".png\")\n",
    "        plt.clf()\n",
    "\n",
    "def weights_vis(W, GDparams, regularization_term, vis, name=None):\n",
    "    if vis:\n",
    "        # weight visualization\n",
    "        images = []\n",
    "        for img in W:\n",
    "            raw_img=np.rot90(img.reshape(3, 32, 32).T, -1)\n",
    "            image = ((raw_img-np.min(raw_img))/(np.max(raw_img)-np.min(raw_img)))\n",
    "            images.append(image)\n",
    "        fig1 = plt.figure(figsize = (20, 5))\n",
    "        for idx in range(len(W)):\n",
    "            ax = fig1.add_subplot(2, 5, idx+1)\n",
    "            ax.set_title('Class %s'%(idx+1))\n",
    "            ax.imshow(images[idx])\n",
    "            ax.axis('off')\n",
    "        plt.show()\n",
    "        if name is not None:\n",
    "            plt.savefig(name+\".png\")\n",
    "        plt.clf()"
   ]
  },
  {
   "cell_type": "markdown",
   "metadata": {},
   "source": [
    "Function to display CIFAR-10 images, borrowed from https://www.quora.com/How-can-l-visualize-cifar-10-data-RGB-using-python-matplotlib"
   ]
  },
  {
   "cell_type": "code",
   "execution_count": 144,
   "metadata": {},
   "outputs": [],
   "source": [
    "def visualize_raw_image(image_array, display=True):\n",
    "    img = image_array.reshape(3,32,32).transpose([1, 2, 0])\n",
    "    if display:\n",
    "        plt.imshow(img)"
   ]
  },
  {
   "cell_type": "code",
   "execution_count": 140,
   "metadata": {},
   "outputs": [],
   "source": [
    "def visualize_image(image_array, display=True):\n",
    "    img = image_array.transpose([1, 2, 0])\n",
    "    if display:\n",
    "        plt.imshow(img)"
   ]
  },
  {
   "cell_type": "markdown",
   "metadata": {},
   "source": [
    "## EXTRA FUNCTIONS"
   ]
  },
  {
   "cell_type": "markdown",
   "metadata": {},
   "source": [
    "### Compute accuracy of ensemble learners"
   ]
  },
  {
   "cell_type": "code",
   "execution_count": 11,
   "metadata": {},
   "outputs": [],
   "source": [
    "def ComputeAccuracyEnsemble(X, y, classifiers):\n",
    "\n",
    "    miss_classified_data = 0\n",
    "    solution = dict()\n",
    "    classifier_suggestion = dict()\n",
    "    classifier_performance = dict()\n",
    "\n",
    "    for i in range(X.shape[1]):\n",
    "\n",
    "        for classifier_index in range(len(classifiers)):\n",
    "\n",
    "            classifier = classifiers[classifier_index]\n",
    "            predicted_class_index = np.argmax(classifier[:, i])\n",
    "            classifier_suggestion[classifier_index] = classifier_suggestion.get(classifier_index, 0) + predicted_class_index\n",
    "            solution[predicted_class_index]=solution.get(predicted_class_index, 0) +1\n",
    "\n",
    "        predicted_class_index=-1\n",
    "        count=-1\n",
    "\n",
    "        best = 0\n",
    "        \n",
    "        for elem in solution:\n",
    "            \n",
    "            if solution[elem]>count:\n",
    "                predicted_class_index= elem\n",
    "                count= solution[predicted_class_index]\n",
    "                best = 1\n",
    "\n",
    "            elif solution[elem]==count:\n",
    "                best+=1\n",
    "\n",
    "\n",
    "        # more than one classes are equally likely to happen:\n",
    "        if best>1:\n",
    "\n",
    "            winner = -1\n",
    "            for classifier_index in range(len(classifiers)):\n",
    "\n",
    "                if classifier_suggestion[classifier_index]>winner:\n",
    "\n",
    "                    predicted_class_index = classifier_suggestion[classifier_index]\n",
    "\n",
    "        if (predicted_class_index!=y[i]):\n",
    "            miss_classified_data+=1\n",
    "\n",
    "        # rate the performance of all classifiers for future reference\n",
    "        for classifier_index in range(len(classifiers)):\n",
    "\n",
    "            if classifier_suggestion[classifier_index] == y[i]:\n",
    "                classifier_performance[classifier_index] = classifier_performance.get(classifier_index, 0) +1\n",
    "            else:\n",
    "                classifier_performance[classifier_index] = classifier_performance.get(classifier_index, 0) - 1\n",
    "\n",
    "        solution.clear()\n",
    "        classifier_suggestion.clear()\n",
    "\n",
    "    return 1 - miss_classified_data/float(X.shape[1])"
   ]
  },
  {
   "cell_type": "markdown",
   "metadata": {},
   "source": [
    "# BONUS EXERCISES"
   ]
  },
  {
   "cell_type": "markdown",
   "metadata": {},
   "source": [
    "## Exercise 2.1: Try any 3 or more of the suggested improvements"
   ]
  },
  {
   "cell_type": "markdown",
   "metadata": {},
   "source": [
    "#### Improvement no.1: Training for a langer number of epochs and using the validation set for early stopping"
   ]
  },
  {
   "cell_type": "code",
   "execution_count": 179,
   "metadata": {},
   "outputs": [],
   "source": [
    "X_training_1, Y_training_1, y_training_1 = LoadBatch('../../cifar-10-batches-py/data_batch_1')\n",
    "X_training_2, Y_training_2, y_training_2 = LoadBatch('../../cifar-10-batches-py/data_batch_2')"
   ]
  },
  {
   "cell_type": "code",
   "execution_count": 185,
   "metadata": {
    "scrolled": true
   },
   "outputs": [
    {
     "data": {
      "image/png": "[encoded data removed]",
      "text/plain": [
       "<Figure size 432x288 with 1 Axes>"
      ]
     },
     "metadata": {},
     "output_type": "display_data"
    }
   ],
   "source": [
    "visualize_raw_image(X_training_1[:,87])"
   ]
  },
  {
   "cell_type": "code",
   "execution_count": 188,
   "metadata": {},
   "outputs": [],
   "source": [
    "def random_rotation(image_array: ndarray, degree = 90):\n",
    "    return sk.transform.rotate(image_array, degree)"
   ]
  },
  {
   "cell_type": "code",
   "execution_count": 189,
   "metadata": {},
   "outputs": [],
   "source": [
    "show = random_rotation(X_training_1[:,87].reshape(3,32,32).transpose(1,2,0))"
   ]
  },
  {
   "cell_type": "code",
   "execution_count": 211,
   "metadata": {},
   "outputs": [],
   "source": [
    "a = X_training_1[:,87].reshape(3,32,32).transpose(1,2,0)"
   ]
  },
  {
   "cell_type": "code",
   "execution_count": 213,
   "metadata": {},
   "outputs": [],
   "source": [
    "help_me = a.transpose(2,0,1)"
   ]
  },
  {
   "cell_type": "code",
   "execution_count": 214,
   "metadata": {},
   "outputs": [],
   "source": [
    "b = np.ndarray.flatten(help_me)"
   ]
  },
  {
   "cell_type": "code",
   "execution_count": 215,
   "metadata": {},
   "outputs": [
    {
     "data": {
      "text/plain": [
       "(3072,)"
      ]
     },
     "execution_count": 215,
     "metadata": {},
     "output_type": "execute_result"
    }
   ],
   "source": [
    "b.shape"
   ]
  },
  {
   "cell_type": "code",
   "execution_count": 216,
   "metadata": {},
   "outputs": [
    {
     "data": {
      "text/plain": [
       "array([ True,  True,  True, ...,  True,  True,  True])"
      ]
     },
     "execution_count": 216,
     "metadata": {},
     "output_type": "execute_result"
    }
   ],
   "source": [
    "b == X_training_1[:,87]"
   ]
  },
  {
   "cell_type": "code",
   "execution_count": 204,
   "metadata": {},
   "outputs": [],
   "source": [
    "test = np.ndarray.flatten(temp.reshape(3,32,32).transpose(0,1,2))"
   ]
  },
  {
   "cell_type": "code",
   "execution_count": 205,
   "metadata": {},
   "outputs": [
    {
     "data": {
      "text/plain": [
       "(3072,)"
      ]
     },
     "execution_count": 205,
     "metadata": {},
     "output_type": "execute_result"
    }
   ],
   "source": [
    "test.shape"
   ]
  },
  {
   "cell_type": "code",
   "execution_count": 206,
   "metadata": {},
   "outputs": [
    {
     "data": {
      "text/plain": [
       "array([ True, False, False, ..., False, False,  True])"
      ]
     },
     "execution_count": 206,
     "metadata": {},
     "output_type": "execute_result"
    }
   ],
   "source": [
    "test == X_training_1[:,87]"
   ]
  },
  {
   "cell_type": "code",
   "execution_count": 13,
   "metadata": {},
   "outputs": [],
   "source": [
    "X_test, _ , y_test= LoadBatch('../../cifar-10-batches-py/test_batch')"
   ]
  },
  {
   "cell_type": "code",
   "execution_count": null,
   "metadata": {},
   "outputs": [],
   "source": [
    "weight_matrix_early_stopping, bias_early_stopping = initialize_weights(d= 3072, K= 10, variance= 0.01, mode=\"normal\")"
   ]
  },
  {
   "cell_type": "code",
   "execution_count": null,
   "metadata": {},
   "outputs": [],
   "source": [
    "    W_early_stopping, b_early_stopping, training_cost_early_stopping, validation_cost_early_stopping = MiniBatchGD(\n",
    "        X=X_training_1,\n",
    "        Y=Y_training_1,\n",
    "        validation_X= X_training_2,\n",
    "        validation_Y= Y_training_2,\n",
    "        y=y_training_1,\n",
    "        y_validation=y_training_2,\n",
    "        GDparams=[100,0.01,100],\n",
    "        W=weight_matrix_early_stopping,\n",
    "        b=bias_early_stopping,\n",
    "        regularization_term=0,\n",
    "        loss_mode=\"cross-entropy\",\n",
    "        with_early_stopping=True,\n",
    "        with_patience=False)"
   ]
  },
  {
   "cell_type": "markdown",
   "metadata": {},
   "source": [
    "The following plot shows the cost evolution over each epoch for the training and validation datasets:"
   ]
  },
  {
   "cell_type": "code",
   "execution_count": null,
   "metadata": {},
   "outputs": [],
   "source": [
    "visualize_costs(cost=training_cost_early_stopping, \n",
    "                eta=0.01, regularization_term=0, val_cost=validation_cost_early_stopping,vis=True)"
   ]
  },
  {
   "cell_type": "code",
   "execution_count": null,
   "metadata": {},
   "outputs": [],
   "source": [
    "acc_early_stopping= ComputeAccuracy(X=X_test, y=y_test, W=W_early_stopping, b=b_early_stopping)"
   ]
  },
  {
   "cell_type": "markdown",
   "metadata": {},
   "source": [
    "The accuracy derived when using early stopping is approximately 38.04%:"
   ]
  },
  {
   "cell_type": "code",
   "execution_count": null,
   "metadata": {},
   "outputs": [],
   "source": [
    "acc_early_stopping"
   ]
  },
  {
   "cell_type": "markdown",
   "metadata": {},
   "source": [
    "Visualizing the weights learned from the usage of early stopping:"
   ]
  },
  {
   "cell_type": "code",
   "execution_count": null,
   "metadata": {},
   "outputs": [],
   "source": [
    "weights_vis(W=W_early_stopping, GDparams=[100,0.01,100], regularization_term=0, vis=True)"
   ]
  },
  {
   "cell_type": "markdown",
   "metadata": {},
   "source": [
    "#### Improvement no.2: Using all the available datasets for training, and keeping only the last 1000 data from the second training batch (original training set) as the new validation set"
   ]
  },
  {
   "cell_type": "markdown",
   "metadata": {},
   "source": [
    "Prepare the whole dataset"
   ]
  },
  {
   "cell_type": "code",
   "execution_count": null,
   "metadata": {},
   "outputs": [],
   "source": [
    "    X_training_3, Y_training_3, y_training_3 = LoadBatch('../../cifar-10-batches-py/data_batch_3')\n",
    "    X_training_4, Y_training_4, y_training_4 = LoadBatch('../../cifar-10-batches-py/data_batch_4')\n",
    "    X_training_5, Y_training_5, y_training_5 = LoadBatch('../../cifar-10-batches-py/data_batch_5')\n",
    "    \n",
    "    X_training = np.concatenate((X_training_1, X_training_3), axis=1)\n",
    "    X_training = np.copy(np.concatenate((X_training, X_training_4), axis=1))\n",
    "    X_training = np.copy(np.concatenate((X_training, X_training_5), axis=1))\n",
    "    \n",
    "    X_training = np.concatenate((X_training, X_training_2[:, :9000]), axis=1)\n",
    "\n",
    "    Y_training = np.concatenate((Y_training_1, Y_training_3), axis=1)\n",
    "    Y_training = np.copy(np.concatenate((Y_training, Y_training_4), axis=1))\n",
    "    Y_training = np.copy(np.concatenate((Y_training, Y_training_5), axis=1))\n",
    "    \n",
    "    Y_training = np.concatenate((Y_training, Y_training_2[:, :9000]), axis=1)\n",
    "    \n",
    "    y_training= y_training_1 + y_training_3+ y_training_4+ y_training_5+ y_training_2[:9000]\n",
    "    \n",
    "    X_validation = np.copy(X_training_2[:, 9000:])\n",
    "    Y_validation = np.copy(Y_training_2[:, 9000:])\n",
    "    y_validation = y_training_2[9000:]\n"
   ]
  },
  {
   "cell_type": "markdown",
   "metadata": {},
   "source": [
    "Train in the whole dataset except for a small batch (~1000 data) used for validation set"
   ]
  },
  {
   "cell_type": "code",
   "execution_count": null,
   "metadata": {},
   "outputs": [],
   "source": [
    "weight_full_dataset, bias_full_dataset = initialize_weights(d= 3072, K= 10, variance= 0.01, mode=\"normal\")"
   ]
  },
  {
   "cell_type": "code",
   "execution_count": null,
   "metadata": {},
   "outputs": [],
   "source": [
    "    W_full_dataset, b_full_dataset, training_cost_full_dataset, validation_cost_full_dataset = MiniBatchGD(\n",
    "        X=X_training,\n",
    "        Y=Y_training,\n",
    "        validation_X= X_validation,\n",
    "        validation_Y= Y_validation,\n",
    "        y=y_training,\n",
    "        y_validation=y_validation,\n",
    "        GDparams=[100,0.01,40],\n",
    "        W=weight_full_dataset,\n",
    "        b=bias_full_dataset,\n",
    "        regularization_term=0,\n",
    "        loss_mode=\"cross-entropy\",\n",
    "        with_early_stopping=False,\n",
    "        with_patience=False)"
   ]
  },
  {
   "cell_type": "markdown",
   "metadata": {},
   "source": [
    "The evolution of cost when all the data except a small fraction (1000 in particular) is given by the following plot:"
   ]
  },
  {
   "cell_type": "code",
   "execution_count": null,
   "metadata": {},
   "outputs": [],
   "source": [
    "visualize_costs(cost=training_cost_full_dataset, \n",
    "                eta=0.01, regularization_term=0, val_cost=validation_cost_full_dataset,vis=True)"
   ]
  },
  {
   "cell_type": "code",
   "execution_count": null,
   "metadata": {},
   "outputs": [],
   "source": [
    "acc_full_dataset= ComputeAccuracy(X=X_test, y=y_test, W=W_full_dataset, b=b_full_dataset)"
   ]
  },
  {
   "cell_type": "markdown",
   "metadata": {},
   "source": [
    "The accuracy when training on the full dataset is approximately 41%:"
   ]
  },
  {
   "cell_type": "code",
   "execution_count": null,
   "metadata": {},
   "outputs": [],
   "source": [
    "acc_full_dataset"
   ]
  },
  {
   "cell_type": "markdown",
   "metadata": {},
   "source": [
    "The weights learned from using all the available data in the training set:"
   ]
  },
  {
   "cell_type": "code",
   "execution_count": null,
   "metadata": {},
   "outputs": [],
   "source": [
    "weights_vis(W=W_full_dataset, GDparams=[100,0.01,40], regularization_term=0, vis=True)"
   ]
  },
  {
   "cell_type": "markdown",
   "metadata": {},
   "source": [
    "#### Improvement no.3: Training 5 different classifiers (one from each dataset) and predicting the class of each data using the majority vote. \n",
    "During the \"voting\" process, each classifier is rated according to its votes up to this point. When 2 or more classes share equal votes, the best classifier so far decides for the predicted class index."
   ]
  },
  {
   "cell_type": "code",
   "execution_count": 58,
   "metadata": {},
   "outputs": [],
   "source": [
    "classifiers = []"
   ]
  },
  {
   "cell_type": "markdown",
   "metadata": {},
   "source": [
    "Training on the first dataset"
   ]
  },
  {
   "cell_type": "code",
   "execution_count": null,
   "metadata": {},
   "outputs": [],
   "source": [
    "weight_matrix_1, bias_1 = initialize_weights(d=3072, K=10,variance=0.01, mode=\"normal\")\n",
    "\n",
    "W1, b1, _, _ = MiniBatchGD(\n",
    "    X=X_training_1,\n",
    "    Y=Y_training_1,\n",
    "    validation_X=X_validation,\n",
    "    validation_Y=Y_validation,\n",
    "    y=y_training_1,\n",
    "    y_validation=y_validation,\n",
    "    GDparams=[100, 0.01, 40],\n",
    "    W=weight_matrix_1,\n",
    "    b=bias_1,\n",
    "    regularization_term=0,\n",
    "    loss_mode=\"cross-entropy\",\n",
    "    with_early_stopping=False,\n",
    "    with_patience=False)\n",
    "\n",
    "classifiers.append(EvaluateClassifier(X_test,W1,b1))"
   ]
  },
  {
   "cell_type": "markdown",
   "metadata": {},
   "source": [
    "Training on the second dataset"
   ]
  },
  {
   "cell_type": "code",
   "execution_count": null,
   "metadata": {},
   "outputs": [],
   "source": [
    "weight_matrix_2, bias_2 = initialize_weights(d=3072, K=10,variance=0.01, mode=\"normal\")\n",
    "\n",
    "W2, b2,  _, _ = MiniBatchGD(\n",
    "    X=X_training_2[:9000],\n",
    "    Y=Y_training_2[:9000],\n",
    "    validation_X=X_validation,\n",
    "    validation_Y=Y_validation,\n",
    "    y=y_training_2,\n",
    "    y_validation=y_validation,\n",
    "    GDparams=[100, 0.01, 40],\n",
    "    W=weight_matrix_2,\n",
    "    b=bias_2,\n",
    "    regularization_term=0,\n",
    "    loss_mode=\"cross-entropy\",\n",
    "    with_early_stopping=False,\n",
    "    with_patience=False)\n",
    "\n",
    "classifiers.append(EvaluateClassifier(X_test,W2,b2))"
   ]
  },
  {
   "cell_type": "markdown",
   "metadata": {},
   "source": [
    "Training on the third dataset"
   ]
  },
  {
   "cell_type": "code",
   "execution_count": null,
   "metadata": {},
   "outputs": [],
   "source": [
    "weight_matrix_3, bias_3 = initialize_weights(d=3072, K=10,variance=0.01, mode=\"normal\")\n",
    "\n",
    "W3, b3,  _, _ = MiniBatchGD(\n",
    "    X=X_training_3,\n",
    "    Y=Y_training_3,\n",
    "    validation_X=X_validation,\n",
    "    validation_Y=Y_validation,\n",
    "    y=y_training_3,\n",
    "    y_validation=y_validation,\n",
    "    GDparams=[100, 0.01, 40],\n",
    "    W=weight_matrix_3,\n",
    "    b=bias_3,\n",
    "    regularization_term=0,\n",
    "    loss_mode=\"cross-entropy\",\n",
    "    with_early_stopping=False,\n",
    "    with_patience=False)\n",
    "\n",
    "classifiers.append(EvaluateClassifier(X_test,W3,b3))"
   ]
  },
  {
   "cell_type": "markdown",
   "metadata": {},
   "source": [
    "Training on the fourth dataset"
   ]
  },
  {
   "cell_type": "code",
   "execution_count": null,
   "metadata": {},
   "outputs": [],
   "source": [
    "weight_matrix_4, bias_4 = initialize_weights(d=3072, K=10,variance=0.01, mode=\"normal\")\n",
    "\n",
    "W4, b4,  _, _ = MiniBatchGD(\n",
    "    X=X_training_4,\n",
    "    Y=Y_training_4,\n",
    "    validation_X=X_validation,\n",
    "    validation_Y=Y_validation,\n",
    "    y=y_training_4,\n",
    "    y_validation=y_validation,\n",
    "    GDparams=[100, 0.01, 40],\n",
    "    W=weight_matrix_4,\n",
    "    b=bias_4,\n",
    "    regularization_term=0,\n",
    "    loss_mode=\"cross-entropy\",\n",
    "    with_early_stopping=False,\n",
    "    with_patience=False)\n",
    "\n",
    "classifiers.append(EvaluateClassifier(X_test,W4,b4))"
   ]
  },
  {
   "cell_type": "markdown",
   "metadata": {},
   "source": [
    "Training on the fifth dataset"
   ]
  },
  {
   "cell_type": "code",
   "execution_count": null,
   "metadata": {},
   "outputs": [],
   "source": [
    "weight_matrix_5, bias_5 = initialize_weights(d=3072, K=10,variance=0.01, mode=\"normal\")\n",
    "\n",
    "W5, b5,  _, _ = MiniBatchGD(\n",
    "    X=X_training_5,\n",
    "    Y=Y_training_5,\n",
    "    validation_X=X_validation,\n",
    "    validation_Y=Y_validation,\n",
    "    y=y_training_5,\n",
    "    y_validation=y_validation,\n",
    "    GDparams=[100, 0.01, 40],\n",
    "    W=weight_matrix_5,\n",
    "    b=bias_5,\n",
    "    regularization_term=0,\n",
    "    loss_mode=\"cross-entropy\",\n",
    "    with_early_stopping=False,\n",
    "    with_patience=False)\n",
    "\n",
    "classifiers.append(EvaluateClassifier(X_test,W5,b5))"
   ]
  },
  {
   "cell_type": "code",
   "execution_count": null,
   "metadata": {},
   "outputs": [],
   "source": [
    "accuracy_ensembling= ComputeAccuracyEnsemble(X_test, y_test, classifiers)"
   ]
  },
  {
   "cell_type": "markdown",
   "metadata": {},
   "source": [
    "The accuracy of the ensembling method is 39.48%"
   ]
  },
  {
   "cell_type": "code",
   "execution_count": null,
   "metadata": {},
   "outputs": [],
   "source": [
    "accuracy_ensembling"
   ]
  },
  {
   "cell_type": "markdown",
   "metadata": {},
   "source": [
    "#### Improvement no.4: Running a fine_tuning algorithm to define proper values for $\\eta$ and $\\lambda$"
   ]
  },
  {
   "cell_type": "markdown",
   "metadata": {},
   "source": [
    "We run experiments in a relatively broad space of values for $\\eta$ and $\\lambda$ in order to define a good pair of values for these two hyperparameters"
   ]
  },
  {
   "cell_type": "code",
   "execution_count": null,
   "metadata": {},
   "outputs": [],
   "source": [
    "weight_matrix_fine_tuning_1, bias_fine_tuning_1 = initialize_weights(d=3072, K=10, variance=0.01, mode=\"normal\")\n",
    "best_acc = 0\n",
    "\n",
    "for eta in np.arange(0.001,0.015,0.001):\n",
    "\n",
    "    for reg in [0, 0.0001, 0.001, 0.01, 0.1]:\n",
    "        W_temp, b_temp, _, _ = MiniBatchGD(\n",
    "            X=X_training_1,\n",
    "            Y=Y_training_1,\n",
    "            validation_X=X_training_2,\n",
    "            validation_Y=Y_training_2,\n",
    "            y=y_training_1,\n",
    "            y_validation=y_training_2,\n",
    "            GDparams=[100, eta, 40],\n",
    "            W=weight_matrix_fine_tuning_1,\n",
    "            b=bias_fine_tuning_1,\n",
    "            regularization_term=reg,\n",
    "            loss_mode=\"cross-entropy\",\n",
    "            with_early_stopping=False,\n",
    "            with_patience=False)\n",
    "\n",
    "        acc = ComputeAccuracy(X_test, y_test, W_temp, b_temp)\n",
    "        print_string= \"Lambda: \"+str(reg)+\", eta: \"+str(eta)+\", accuracy:\"+str(acc)\n",
    "        if acc > best_acc:\n",
    "            print(print_string+\", BEST SO FAR\")\n",
    "            best_acc = acc\n",
    "        else:\n",
    "            print(print_string)"
   ]
  },
  {
   "cell_type": "markdown",
   "metadata": {},
   "source": [
    "#### The best accuracy derived for $\\eta$ and $\\lambda$ was 39.17% for ($\\eta$, $\\lambda$)= (0.004, 0.01)  "
   ]
  },
  {
   "cell_type": "markdown",
   "metadata": {},
   "source": [
    "#### Improvement no.5: Decay the learning rate by a factor of 0.9 after each epoch, staring value of $\\eta$ is 0.1 "
   ]
  },
  {
   "cell_type": "code",
   "execution_count": null,
   "metadata": {},
   "outputs": [],
   "source": [
    "weight_factor_decaying, bias_factor_decaying = initialize_weights(d= 3072, K= 10, variance= 0.01, mode=\"normal\")\n",
    "\n",
    "W_factor_decaying, b_factor_decaying, training_factor_decaying, validation_factor_decaying = MiniBatchGD(\n",
    "    X=X_training_1,\n",
    "    Y=Y_training_1,\n",
    "    validation_X= X_training_2,\n",
    "    validation_Y= Y_training_2,\n",
    "    y=y_training_1,\n",
    "    y_validation=y_training_2,\n",
    "    GDparams=[100,0.01,40], #0.01 fir eta is not used at all in this case\n",
    "    W=weight_factor_decaying,\n",
    "    b=bias_factor_decaying,\n",
    "    regularization_term=0,\n",
    "    loss_mode=\"cross-entropy\",\n",
    "    with_early_stopping=False,\n",
    "    with_patience=False,\n",
    "    with_factor_decaying=True)"
   ]
  },
  {
   "cell_type": "markdown",
   "metadata": {},
   "source": [
    "The training and validation cost evolution when decaying $\\eta$ after each epoch are plotted in the following graph"
   ]
  },
  {
   "cell_type": "code",
   "execution_count": null,
   "metadata": {},
   "outputs": [],
   "source": [
    "visualize_costs(cost=training_factor_decaying, val_cost=validation_factor_decaying, regularization_term=0, eta='Decayed', vis=True)"
   ]
  },
  {
   "cell_type": "markdown",
   "metadata": {},
   "source": [
    "The weights learned from this procedure are:"
   ]
  },
  {
   "cell_type": "code",
   "execution_count": null,
   "metadata": {},
   "outputs": [],
   "source": [
    "weights_vis(W=W_factor_decaying, GDparams=[[100,'Decayed',40]], regularization_term=0, vis=True, name=\"w_factor_dec\")"
   ]
  },
  {
   "cell_type": "code",
   "execution_count": null,
   "metadata": {},
   "outputs": [],
   "source": [
    "accuracy_factor_decaying= ComputeAccuracy(X=X_test, y=y_test, W=W_factor_decaying, b=b_factor_decaying) "
   ]
  },
  {
   "cell_type": "markdown",
   "metadata": {},
   "source": [
    "The accuracy of this method is 38.57%"
   ]
  },
  {
   "cell_type": "code",
   "execution_count": null,
   "metadata": {},
   "outputs": [],
   "source": [
    "accuracy_factor_decaying"
   ]
  },
  {
   "cell_type": "markdown",
   "metadata": {},
   "source": [
    "## Exercise 2.2: Train and compute gradients based on the SVM loss"
   ]
  },
  {
   "cell_type": "markdown",
   "metadata": {},
   "source": [
    "### SVM Loss\n",
    "#### Implementing the loss function for multi-class SVM classifier\n",
    "Refer to http://cs231n.stanford.edu/slides/2017/cs231n_2017_lecture3.pdf for the formulas"
   ]
  },
  {
   "cell_type": "code",
   "execution_count": 43,
   "metadata": {},
   "outputs": [],
   "source": [
    "def ComputeLossSVM(X, y, X_validation, y_validation, W, b, regularization_term):\n",
    "       \n",
    "    svm_loss = 0\n",
    "    val_svm_loss = 0\n",
    "    for i in range(X.shape[1]):\n",
    "        \n",
    "        scores = np.dot(W,X[:,i].reshape(X.shape[0], 1)) + b\n",
    "        val_scores = np.dot(W,X_validation[:,i].reshape(X_validation.shape[0], 1)) + b\n",
    "        \n",
    "        true_score = scores[y[i], 0 ]\n",
    "        val_true_score = val_scores[ y_validation[i] , 0]\n",
    "        \n",
    "        for j in range(scores.shape[0]):\n",
    "            \n",
    "            if j!=y[i]:\n",
    "                svm_loss += max(0, scores[j,0] - true_score + 1)\n",
    "            if j!= y_validation[i]:\n",
    "                val_svm_loss += max(0, val_scores[j,0] - val_true_score + 1 )\n",
    "\n",
    "    regularization = 2 * regularization_term *np.sum(W**2)\n",
    "\n",
    "    svm_loss /= float(X.shape[1])\n",
    "    svm_loss += regularization_term\n",
    "    \n",
    "    val_svm_loss /= float(X.shape[1])\n",
    "    val_svm_loss += regularization_term\n",
    "\n",
    "    return svm_loss, val_svm_loss"
   ]
  },
  {
   "cell_type": "markdown",
   "metadata": {},
   "source": [
    "### Compute gradients  when using SVM loss\n",
    "Refer to https://stats.stackexchange.com/questions/155088/gradient-for-hinge-loss-multiclass?utm_medium=organic&utm_source=google_rich_qa&utm_campaign=google_rich_qa for the formulas.\n",
    "\n",
    "We combine this info with the fact that:\n",
    "\n",
    "$\\ \\begin{equation*}\n",
    "    \\frac{\\partial l}{\\partial b} =\n",
    "        \\begin{cases}\n",
    "            -y &, y(w^T x +b) < 1\\\\\n",
    "            0 &, otherwise\n",
    "        \\end{cases}\n",
    "    \\end{equation*}\n",
    "    $\n",
    "    \n",
    "and \n",
    "\n",
    "$\\ \\begin{equation*}\n",
    "    \\nabla w =\n",
    "        \\begin{cases}\n",
    "            \\lambda w - y x &, y(w^Tx +b) < 1\\\\\n",
    "            0 &, otherwise\n",
    "        \\end{cases}\n",
    "    \\end{equation*}\n",
    "    $"
   ]
  },
  {
   "cell_type": "code",
   "execution_count": 15,
   "metadata": {},
   "outputs": [],
   "source": [
    "def ComputeGradientsSVM(X, y , W, b, regularization_term):\n",
    "\n",
    "        grad_b=np.zeros(b.shape)\n",
    "        grad_W=np.zeros(W.shape)\n",
    "        \n",
    "        for i in range(X.shape[1]):\n",
    "\n",
    "            scores = np.dot(W,X[:,i].reshape(X.shape[0], 1)) + b\n",
    "            scores = np.copy( np.asarray([max(0,elem) for elem in scores])).reshape(b.shape)\n",
    "\n",
    "            true_score = scores[y[i], 0]\n",
    "           \n",
    "            for j in range(b.shape[0]):\n",
    "                \n",
    "                if j!=y[i] and true_score - scores[j,0] - 1 < 0:\n",
    "                    grad_b[j, 0] += 1\n",
    "                    grad_b[y[i], 0] -= 1\n",
    "                    grad_W[j,:] += X[:,i]\n",
    "                    grad_W[y[i],:] -= X[:,i]\n",
    "            \n",
    "        grad_W/= float(X.shape[1])\n",
    "        grad_b/= float(X.shape[1])\n",
    "        grad_W += regularization_term*W\n",
    "        \n",
    "        return grad_W, grad_b"
   ]
  },
  {
   "cell_type": "markdown",
   "metadata": {},
   "source": [
    "### Compute the accuracy of SVM training"
   ]
  },
  {
   "cell_type": "code",
   "execution_count": 15,
   "metadata": {},
   "outputs": [],
   "source": [
    "def ComputeAccuracySVM(W, b, X, y):\n",
    "    \n",
    "    scores= np.dot(W,X) + b\n",
    "    predictions= np.argmax(scores, axis=0)\n",
    "    \n",
    "    error= np.count_nonzero(predictions-y)/float(X.shape[1])\n",
    "    \n",
    "    return 1-error"
   ]
  },
  {
   "cell_type": "markdown",
   "metadata": {},
   "source": [
    "#### Re-define MiniBatchGD function in order to compute gradients based on SVM loss  "
   ]
  },
  {
   "cell_type": "code",
   "execution_count": 27,
   "metadata": {},
   "outputs": [],
   "source": [
    "def MiniBatchGDSVM( X, y, validation_X, y_validation, GDparams, W, b, regularization_term, with_early_stopping=False):\n",
    "\n",
    "    number_of_mini_batches = GDparams[0]\n",
    "    eta = GDparams[1]\n",
    "    epoches=GDparams[2]\n",
    "\n",
    "    cost=[]\n",
    "    val_cost=[]\n",
    "        \n",
    "    if with_early_stopping:\n",
    "        check = False\n",
    "\n",
    "    for epoch in range(epoches):\n",
    "\n",
    "        for batch in range(1, int(X.shape[1] / number_of_mini_batches)):\n",
    "\n",
    "            start = (batch - 1) * number_of_mini_batches + 1\n",
    "            end = batch * number_of_mini_batches + 1\n",
    "\n",
    "            gradW, gradb = ComputeGradientsSVM(X=X[:, start:end],y=y[start:end], W=W, b=b, regularization_term=regularization_term)\n",
    "                        \n",
    "            W -= eta * gradW\n",
    "            b -= eta * gradb\n",
    "                            \n",
    "#         training_loss = total_svm_loss(X, y, W, b , regularization_term)\n",
    "#         validation_loss = total_svm_loss(validation_X, y_validation, W, b , regularization_term)\n",
    "\n",
    "        training_loss, validation_loss = ComputeLossSVM(X, y, validation_X, y_validation, W, b , regularization_term)\n",
    "        cost.append(training_loss)\n",
    "        val_cost.append(validation_loss)\n",
    "        \n",
    "        if with_early_stopping and check:\n",
    "            if abs(validation_loss - compare) < 1e-5:\n",
    "                break\n",
    "            else:\n",
    "                compare = validation_loss\n",
    "        else:\n",
    "            check = True\n",
    "            compare = validation_loss\n",
    "\n",
    "    return W, b, cost, val_cost"
   ]
  },
  {
   "cell_type": "markdown",
   "metadata": {},
   "source": [
    "#### Experiments and results"
   ]
  },
  {
   "cell_type": "code",
   "execution_count": 53,
   "metadata": {},
   "outputs": [],
   "source": [
    "weight_svm, bias_svm = initialize_weights(d= 3072, K= 10, variance= 0.01, mode=\"normal\")"
   ]
  },
  {
   "cell_type": "code",
   "execution_count": 54,
   "metadata": {},
   "outputs": [],
   "source": [
    "W1_svm, b1_svm, training_loss_1_svm, validation_loss_1_svm = MiniBatchGDSVM(\n",
    "                                        X=X_training_1, \n",
    "                                        y=y_training_1, \n",
    "                                        validation_X=X_training_2, \n",
    "                                        y_validation=y_training_2, \n",
    "                                        GDparams=[100, 0.01, 40], \n",
    "                                        W=weight_svm,\n",
    "                                        b=bias_svm,\n",
    "                                        regularization_term=0)"
   ]
  },
  {
   "cell_type": "code",
   "execution_count": 55,
   "metadata": {},
   "outputs": [
    {
     "data": {
      "image/png": "[encoded data removed]",
      "text/plain": [
       "<Figure size 432x288 with 1 Axes>"
      ]
     },
     "metadata": {},
     "output_type": "display_data"
    },
    {
     "data": {
      "text/plain": [
       "<Figure size 432x288 with 0 Axes>"
      ]
     },
     "metadata": {},
     "output_type": "display_data"
    }
   ],
   "source": [
    "visualize_costs(cost=training_loss_1_svm, val_cost=validation_loss_1_svm, eta=0.01, regularization_term=0,vis=True, name=\"svm_1\")"
   ]
  },
  {
   "cell_type": "markdown",
   "metadata": {},
   "source": [
    "The following plot visualizes the weights learned:"
   ]
  },
  {
   "cell_type": "code",
   "execution_count": 238,
   "metadata": {},
   "outputs": [
    {
     "data": {
      "image/png": "[encoded data removed]",
      "text/plain": [
       "<Figure size 1440x360 with 10 Axes>"
      ]
     },
     "metadata": {},
     "output_type": "display_data"
    },
    {
     "data": {
      "text/plain": [
       "<Figure size 432x288 with 0 Axes>"
      ]
     },
     "metadata": {},
     "output_type": "display_data"
    }
   ],
   "source": [
    "weights_vis(GDparams=[100,0.01,40], regularization_term=0, W=W1_svm, vis=True)"
   ]
  },
  {
   "cell_type": "code",
   "execution_count": 239,
   "metadata": {},
   "outputs": [],
   "source": [
    "accuracy_svm_1 = ComputeAccuracy(W=W1_svm, b=b1_svm, X=X_test, y=y_test)"
   ]
  },
  {
   "cell_type": "markdown",
   "metadata": {},
   "source": [
    "The estimated test-set accuracy for this setting is $31.11\\%$"
   ]
  },
  {
   "cell_type": "code",
   "execution_count": 240,
   "metadata": {},
   "outputs": [
    {
     "data": {
      "text/plain": [
       "0.31189999999999996"
      ]
     },
     "execution_count": 240,
     "metadata": {},
     "output_type": "execute_result"
    }
   ],
   "source": [
    "accuracy_svm_1"
   ]
  },
  {
   "cell_type": "markdown",
   "metadata": {},
   "source": [
    "We run one more experiment, with a smaller learnig step (0.001) and  little regularization (0.01). To allow for a better model, we choose to apply early stopping instead of running for 40 epochs."
   ]
  },
  {
   "cell_type": "code",
   "execution_count": 47,
   "metadata": {},
   "outputs": [],
   "source": [
    "weight_svm, bias_svm = initialize_weights(d= 3072, K= 10, variance= 0.01, mode=\"normal\")"
   ]
  },
  {
   "cell_type": "code",
   "execution_count": 48,
   "metadata": {},
   "outputs": [],
   "source": [
    "W2_svm, b2_svm, training_loss_2_svm, validation_loss_2_svm = MiniBatchGDSVM(\n",
    "                                        X=X_training_1, \n",
    "                                        y=y_training_1, \n",
    "                                        validation_X=X_training_2, \n",
    "                                        y_validation=y_training_2, \n",
    "                                        GDparams=[100, 0.001, 100], \n",
    "                                        W=weight_svm,\n",
    "                                        b=bias_svm,\n",
    "                                        regularization_term=0.01,\n",
    "                                        with_early_stopping=True)"
   ]
  },
  {
   "cell_type": "code",
   "execution_count": 49,
   "metadata": {},
   "outputs": [
    {
     "data": {
      "image/png": "[encoded data removed]",
      "text/plain": [
       "<Figure size 432x288 with 1 Axes>"
      ]
     },
     "metadata": {},
     "output_type": "display_data"
    },
    {
     "data": {
      "text/plain": [
       "<Figure size 432x288 with 0 Axes>"
      ]
     },
     "metadata": {},
     "output_type": "display_data"
    }
   ],
   "source": [
    "visualize_costs(cost=training_loss_2_svm, val_cost=validation_loss_2_svm, eta=0.001, regularization_term=0,vis=True, name=\"svm_2\")"
   ]
  },
  {
   "cell_type": "markdown",
   "metadata": {},
   "source": [
    "The following plot visualizes the weights learned:"
   ]
  },
  {
   "cell_type": "code",
   "execution_count": 50,
   "metadata": {},
   "outputs": [
    {
     "data": {
      "image/png": "[encoded data removed]",
      "text/plain": [
       "<Figure size 1440x360 with 10 Axes>"
      ]
     },
     "metadata": {},
     "output_type": "display_data"
    },
    {
     "data": {
      "text/plain": [
       "<Figure size 432x288 with 0 Axes>"
      ]
     },
     "metadata": {},
     "output_type": "display_data"
    }
   ],
   "source": [
    "weights_vis(GDparams=[100,0.001,40], regularization_term=0.01, W=W2_svm, vis=True)"
   ]
  },
  {
   "cell_type": "code",
   "execution_count": 51,
   "metadata": {},
   "outputs": [],
   "source": [
    "accuracy_svm_2 = ComputeAccuracy(W=W2_svm, b=b2_svm, X=X_test, y=y_test)"
   ]
  },
  {
   "cell_type": "markdown",
   "metadata": {},
   "source": [
    "The estimated test-set accuracy is 34.34%"
   ]
  },
  {
   "cell_type": "code",
   "execution_count": 52,
   "metadata": {},
   "outputs": [
    {
     "data": {
      "text/plain": [
       "0.34340000000000004"
      ]
     },
     "execution_count": 52,
     "metadata": {},
     "output_type": "execute_result"
    }
   ],
   "source": [
    "accuracy_svm_2"
   ]
  },
  {
   "cell_type": "markdown",
   "metadata": {},
   "source": [
    "### To recapitulate, and comparing SVM loss with the Croos-Entropy loss, the latter has more stable behavior and better performance in terms of test-set accuracy"
   ]
  }
 ],
 "metadata": {
  "kernelspec": {
   "display_name": "Python 3",
   "language": "python",
   "name": "python3"
  },
  "language_info": {
   "codemirror_mode": {
    "name": "ipython",
    "version": 3
   },
   "file_extension": ".py",
   "mimetype": "text/x-python",
   "name": "python",
   "nbconvert_exporter": "python",
   "pygments_lexer": "ipython3",
   "version": "3.6.5"
  }
 },
 "nbformat": 4,
 "nbformat_minor": 2
}
