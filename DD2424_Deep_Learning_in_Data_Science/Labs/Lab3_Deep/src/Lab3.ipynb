{
 "cells": [
  {
   "cell_type": "markdown",
   "metadata": {},
   "source": [
    "#### Import everything you need"
   ]
  },
  {
   "cell_type": "code",
   "execution_count": 128,
   "metadata": {},
   "outputs": [],
   "source": [
    "import numpy as np\n",
    "import matplotlib.pyplot as plt\n",
    "from keras.utils import to_categorical as make_class_categorical\n",
    "import _pickle as pickle\n",
    "from tqdm import tqdm\n",
    "import os"
   ]
  },
  {
   "cell_type": "markdown",
   "metadata": {},
   "source": [
    "#### Ring a bell!"
   ]
  },
  {
   "cell_type": "code",
   "execution_count": 136,
   "metadata": {},
   "outputs": [],
   "source": [
    "def inform_exit():\n",
    "    \n",
    "    os.system('say \"Training process is completed\"')"
   ]
  },
  {
   "cell_type": "code",
   "execution_count": 2,
   "metadata": {},
   "outputs": [],
   "source": [
    "def LoadBatch(filename):\n",
    "    \"\"\"\n",
    "    Loads batch based on the given filename and produces the X, Y, and y arrays\n",
    "\n",
    "    :param filename: Path of the file\n",
    "    :return: X, Y and y arrays\n",
    "    \"\"\"\n",
    "\n",
    "    # borrowed from https://www.cs.toronto.edu/~kriz/cifar.html\n",
    "    def unpickle(file):\n",
    "        with open(file, 'rb') as fo:\n",
    "            dict = pickle.load(fo, encoding='bytes')\n",
    "        return dict\n",
    "\n",
    "    dictionary = unpickle(filename)\n",
    "\n",
    "    # borrowed from https://stackoverflow.com/questions/16977385/extract-the-nth-key-in-a-python-dictionary?utm_medium=organic&utm_source=google_rich_qa&utm_campaign=google_rich_qa\n",
    "    def ix(dic, n):  # don't use dict as  a variable name\n",
    "        try:\n",
    "            return list(dic)[n]  # or sorted(dic)[n] if you want the keys to be sorted\n",
    "        except IndexError:\n",
    "            print('not enough keys')\n",
    "\n",
    "    garbage = ix(dictionary, 1)\n",
    "    y = dictionary[garbage]\n",
    "    Y = np.transpose(make_class_categorical(y, 10))\n",
    "    garbage = ix(dictionary, 2)\n",
    "    X = np.transpose(dictionary[garbage]) / 255\n",
    "\n",
    "    return X, Y, y"
   ]
  },
  {
   "cell_type": "markdown",
   "metadata": {},
   "source": [
    "#### Weight initialization"
   ]
  },
  {
   "cell_type": "code",
   "execution_count": 3,
   "metadata": {},
   "outputs": [],
   "source": [
    "def initialize_weights(shapes_list, std=0.001):\n",
    "    \"\"\"\n",
    "    Initializes the weight and bias arrays for the 2 layers of the network\n",
    "\n",
    "    :param shapes_list: List that contains the shapes of the weight matrices of each layer. The number of layers can be found through\n",
    "                        estimating the length of this list.\n",
    "    :param variance (optional): The variance of the normal distribution that will be used for the initialization of the weights\n",
    "\n",
    "    :return: Weights and bias arrays for each layer of the network stored in lists\n",
    "    \"\"\"\n",
    "\n",
    "    np.random.seed(400)\n",
    "\n",
    "    weights = []\n",
    "    biases = []\n",
    "\n",
    "    for shape in shapes_list:\n",
    "\n",
    "        W = np.random.normal(0, std, size=(shape[0], shape[1]))\n",
    "        b = np.zeros(shape=(shape[0], 1))\n",
    "\n",
    "        weights.append(W)\n",
    "        biases.append(b)\n",
    "\n",
    "    return weights, biases"
   ]
  },
  {
   "cell_type": "code",
   "execution_count": 4,
   "metadata": {},
   "outputs": [],
   "source": [
    "def he_initialization_k_layers(shapes_list):\n",
    "    \"\"\"\n",
    "    He initialization on the weight matrices.\n",
    "\n",
    "    :param shapes_list: List that contains the dimensions of each layer of the network.\n",
    "\n",
    "    :return: Initialized weight and bias matrices based on He initialization of the weights.\n",
    "    \"\"\"\n",
    "\n",
    "    weights = []\n",
    "    biases = []\n",
    "\n",
    "    for pair in shapes_list:\n",
    "\n",
    "        weights.append(np.random.randn(pair[0], pair[1]) * np.sqrt(2 / float(pair[0])))\n",
    "        biases.append(np.zeros(shape=(pair[0], 1)))\n",
    "\n",
    "    return weights, biases\n"
   ]
  },
  {
   "cell_type": "markdown",
   "metadata": {},
   "source": [
    "#### Activation function"
   ]
  },
  {
   "cell_type": "code",
   "execution_count": 5,
   "metadata": {},
   "outputs": [],
   "source": [
    "def ReLU(x):\n",
    "    \"\"\"\n",
    "    Rectified Linear Unit function\n",
    "\n",
    "    :param x: Input to the function\n",
    "\n",
    "    :return: Output of ReLU(x)\n",
    "    \"\"\"\n",
    "\n",
    "    return np.maximum(x, 0)"
   ]
  },
  {
   "cell_type": "markdown",
   "metadata": {},
   "source": [
    "#### Classifier Evaluation"
   ]
  },
  {
   "cell_type": "code",
   "execution_count": 6,
   "metadata": {},
   "outputs": [],
   "source": [
    "def softmax(X, theta=1.0, axis=None):\n",
    "    \"\"\"\n",
    "    Softmax over numpy rows and columns, taking care for overflow cases\n",
    "    Many thanks to https://nolanbconaway.github.io/blog/2017/softmax-numpy\n",
    "    Usage: Softmax over rows-> axis =0, softmax over columns ->axis =1\n",
    "\n",
    "    :param X: ND-Array. Probably should be floats.\n",
    "    :param theta: float parameter, used as a multiplier prior to exponentiation. Default = 1.0\n",
    "    :param axis (optional): axis to compute values along. Default is the first non-singleton axis.\n",
    "\n",
    "    :return: An array the same size as X. The result will sum to 1 along the specified axis\n",
    "    \"\"\"\n",
    "\n",
    "    # make X at least 2d\n",
    "    y = np.atleast_2d(X)\n",
    "\n",
    "    # find axis\n",
    "    if axis is None:\n",
    "        axis = next(j[0] for j in enumerate(y.shape) if j[1] > 1)\n",
    "\n",
    "    # multiply y against the theta parameter,\n",
    "    y = y * float(theta)\n",
    "\n",
    "    # subtract the max for numerical stability\n",
    "    y = y - np.expand_dims(np.max(y, axis=axis), axis)\n",
    "\n",
    "    # exponentiate y\n",
    "    y = np.exp(y)\n",
    "\n",
    "    # take the sum along the specified axis\n",
    "    ax_sum = np.expand_dims(np.sum(y, axis=axis), axis)\n",
    "\n",
    "    # finally: divide elementwise\n",
    "    p = y / ax_sum\n",
    "\n",
    "    # flatten if X was 1D\n",
    "    if len(X.shape) == 1: p = p.flatten()\n",
    "\n",
    "    return p"
   ]
  },
  {
   "cell_type": "code",
   "execution_count": 7,
   "metadata": {},
   "outputs": [],
   "source": [
    "def EvaluateClassifier(X, weights, biases):\n",
    "    \"\"\"\n",
    "    Computes the Softmax output of the k-layer network, based on input data X and trained weight and bias arrays\n",
    "\n",
    "    :param X: Input data\n",
    "    :param weights: Weights arrays of the k layers\n",
    "    :param biases: Bias vectors of the k layers\n",
    "\n",
    "    :return: Softmax output of the trained network, along with the intermediate layer outpouts and activations\n",
    "    \"\"\"\n",
    "\n",
    "    intermediate_outputs = [] # s's\n",
    "    intermediate_activations = [] #h's\n",
    "\n",
    "    s = np.dot(weights[0], X) + biases[0]\n",
    "    intermediate_outputs.append(s)\n",
    "    h = ReLU(s)\n",
    "    intermediate_activations.append(h)\n",
    "\n",
    "    for i in range(1, len(weights) - 1):\n",
    "\n",
    "        s = np.dot(weights[i], intermediate_activations[-1]) + biases[i]\n",
    "        intermediate_outputs.append(s)\n",
    "        h = ReLU(s)\n",
    "        intermediate_activations.append(h)\n",
    "\n",
    "    s = np.dot(weights[-1], intermediate_activations[-1]) + biases[-1]\n",
    "    p = softmax(s, axis=0)\n",
    "\n",
    "    return p, intermediate_activations, intermediate_outputs"
   ]
  },
  {
   "cell_type": "markdown",
   "metadata": {},
   "source": [
    "#### Compute Accuracy"
   ]
  },
  {
   "cell_type": "code",
   "execution_count": 8,
   "metadata": {},
   "outputs": [],
   "source": [
    "def predictClasses(p):\n",
    "    \"\"\"\n",
    "    Predicts classes based on the softmax output of the network\n",
    "\n",
    "    :param p: Softmax output of the network\n",
    "    :return: Predicted classes\n",
    "    \"\"\"\n",
    "\n",
    "    return np.argmax(p, axis=0)"
   ]
  },
  {
   "cell_type": "code",
   "execution_count": 9,
   "metadata": {},
   "outputs": [],
   "source": [
    "def ComputeAccuracy(X, y, weights, biases):\n",
    "    \"\"\"\n",
    "    Computes the accuracy of the feed-forward 2-layer network\n",
    "\n",
    "    :param X: Input data\n",
    "    :param weights: Weights arrays of the k layers\n",
    "    :param biases: Bias vectors of the k layers\n",
    "\n",
    "    :return: Accuracy performance of the neural network.\n",
    "    \"\"\"\n",
    "    p, _, _ = EvaluateClassifier(X, weights, biases)\n",
    "    predictions = predictClasses(p)\n",
    "\n",
    "    accuracy = round(np.sum(np.where(predictions - y == 0, 1, 0)) * 100 / len(y), 2)\n",
    "\n",
    "    return accuracy"
   ]
  },
  {
   "cell_type": "markdown",
   "metadata": {},
   "source": [
    "#### Compute Cost "
   ]
  },
  {
   "cell_type": "code",
   "execution_count": 10,
   "metadata": {},
   "outputs": [],
   "source": [
    "def ComputeCost(X, Y, weights, biases, regularization_term=0):\n",
    "    \"\"\"\n",
    "    Computes the cross-entropy loss on a batch of data.\n",
    "\n",
    "    :param X: Input data\n",
    "    :param y: Labels of the ground truth\n",
    "    :param weights: Weights arrays of the k layers\n",
    "    :param biases: Bias vectors of the k layers\n",
    "    :param regularization_term: Amount of regularization applied.\n",
    "\n",
    "    :return: Cross-entropy loss.\n",
    "    \"\"\"\n",
    "\n",
    "    p, _, _ = EvaluateClassifier(X, weights, biases)\n",
    "\n",
    "    cross_entropy_loss = -np.log(np.diag(np.dot(Y.T, p))).sum() / float(X.shape[1])\n",
    "\n",
    "    weight_sum = 0\n",
    "    for weight in weights:\n",
    "\n",
    "        weight_sum += np.power(weight, 2).sum()\n",
    "\n",
    "    return cross_entropy_loss + regularization_term * weight_sum"
   ]
  },
  {
   "cell_type": "markdown",
   "metadata": {},
   "source": [
    "#### Compute Gradients"
   ]
  },
  {
   "cell_type": "code",
   "execution_count": 11,
   "metadata": {},
   "outputs": [],
   "source": [
    "def ComputeGradsNumSlow(X, Y, weights, biases, start_index=0, h=1e-5):\n",
    "    \"\"\"\n",
    "    Computes gradient descent updates on a batch of data with numerical computations of great precision, thus slower computations.\n",
    "    Contributed by Josephine Sullivan for educational purposes for the DD2424 Deep Learning in Data Science course.\n",
    "\n",
    "    :param X: Input data.\n",
    "    :param Y: One-hot representation of the true labels of input data X.\n",
    "    :param weights: Weights arrays of the k layers.\n",
    "    :param biases: Bias vectors of the k layers.\n",
    "    :param start_index: In case there are already some weights and bias precomputed, we need to compute the numerical gradients for \n",
    "                        those weights and bias that have other shapes (the 2 last layers in fact).\n",
    "\n",
    "    :return: Weight and bias updates of the k layers of our network computed with numerical computations with high precision.\n",
    "    \"\"\"\n",
    "    \n",
    "    grad_weights = []\n",
    "    grad_biases = []\n",
    "    \n",
    "    for layer_index in range(start_index, len(weights)):\n",
    "        \n",
    "        W = weights[layer_index]\n",
    "        b = biases[layer_index]\n",
    "        \n",
    "        grad_W = np.zeros(W.shape)\n",
    "        grad_b = np.zeros(b.shape)\n",
    "\n",
    "        for i in tqdm(range(b.shape[0])):\n",
    "            b_try = np.copy(b)\n",
    "            b_try[i, 0] -= h\n",
    "            temp_biases = biases.copy()\n",
    "            temp_biases[layer_index] = b_try\n",
    "            c1 = ComputeCost(X=X, Y=Y, weights=weights, biases=temp_biases)\n",
    "            b_try = np.copy(b)\n",
    "            b_try[i, 0] += h\n",
    "            temp_biases = biases.copy()\n",
    "            temp_biases[layer_index] = b_try\n",
    "            c2 = ComputeCost(X=X, Y=Y, weights=weights, biases=temp_biases)\n",
    "\n",
    "            grad_b[i, 0] = (c2 - c1) / (2 * h)\n",
    "\n",
    "        grad_biases.append(grad_b)\n",
    "\n",
    "        for i in tqdm(range(W.shape[0])):\n",
    "            for j in range(W.shape[1]):\n",
    "                W_try = np.copy(W)\n",
    "                W_try[i, j] -= h\n",
    "                temp_weights = weights.copy()\n",
    "                temp_weights[layer_index] = W_try\n",
    "                c1 = ComputeCost(X=X, Y=Y, weights=temp_weights, biases=biases)\n",
    "                W_try = np.copy(W)\n",
    "                W_try[i, j] += h\n",
    "                temp_weights = weights.copy()\n",
    "                temp_weights[layer_index] = W_try\n",
    "                c2 = ComputeCost(X=X, Y=Y, weights=temp_weights, biases=biases)\n",
    "\n",
    "                grad_W[i, j] = (c2 - c1) / (2 * h)\n",
    "\n",
    "        grad_weights.append(grad_W)\n",
    "\n",
    "    return grad_weights, grad_biases"
   ]
  },
  {
   "cell_type": "code",
   "execution_count": 12,
   "metadata": {},
   "outputs": [],
   "source": [
    "def ComputeGradsNumSlowBatchNorm(X, Y, weights, biases, start_index=0, h=1e-5):\n",
    "    \"\"\"\n",
    "    Computes gradient descent updates on a batch of data with numerical computations of great precision, thus slower computations.\n",
    "    Contributed by Josephine Sullivan for educational purposes for the DD2424 Deep Learning in Data Science course.\n",
    "\n",
    "    :param X: Input data.\n",
    "    :param Y: One-hot representation of the true labels of input data X.\n",
    "    :param weights: Weights arrays of the k layers.\n",
    "    :param biases: Bias vectors of the k layers.\n",
    "    :param start_index: In case there are already some weights and bias precomputed, we need to compute the numerical gradients for\n",
    "                        those weights and bias that have other shapes (the 2 last layers in fact).\n",
    "\n",
    "    :return: Weight and bias updates of the k layers of our network computed with numerical computations with high precision.\n",
    "    \"\"\"\n",
    "\n",
    "    grad_weights = []\n",
    "    grad_biases = []\n",
    "\n",
    "    for layer_index in range(start_index, len(weights)):\n",
    "\n",
    "        W = weights[layer_index]\n",
    "        b = biases[layer_index]\n",
    "\n",
    "        grad_W = np.zeros(W.shape)\n",
    "        grad_b = np.zeros(b.shape)\n",
    "\n",
    "        for i in tqdm(range(b.shape[0])):\n",
    "            b_try = np.copy(b)\n",
    "            b_try[i, 0] -= h\n",
    "            temp_biases = biases.copy()\n",
    "            temp_biases[layer_index] = b_try\n",
    "            c1 = ComputeCostBatchNormalization(X=X, Y=Y, weights=weights, biases=temp_biases, regularization_term=0)\n",
    "            b_try = np.copy(b)\n",
    "            b_try[i, 0] += h\n",
    "            temp_biases = biases.copy()\n",
    "            temp_biases[layer_index] = b_try\n",
    "            c2 = ComputeCostBatchNormalization(X=X, Y=Y, weights=weights, biases=temp_biases, regularization_term=0)\n",
    "\n",
    "            grad_b[i, 0] = (c2 - c1) / (2 * h)\n",
    "\n",
    "        grad_biases.append(grad_b)\n",
    "\n",
    "        for i in tqdm(range(W.shape[0])):\n",
    "            for j in range(W.shape[1]):\n",
    "                W_try = np.copy(W)\n",
    "                W_try[i, j] -= h\n",
    "                temp_weights = weights.copy()\n",
    "                temp_weights[layer_index] = W_try\n",
    "                c1 = ComputeCostBatchNormalization(X=X, Y=Y, weights=temp_weights, biases=biases, regularization_term=0)\n",
    "                W_try = np.copy(W)\n",
    "                W_try[i, j] += h\n",
    "                temp_weights = weights.copy()\n",
    "                temp_weights[layer_index] = W_try\n",
    "                c2 = ComputeCostBatchNormalization(X=X, Y=Y, weights=temp_weights, biases=biases, regularization_term=0)\n",
    "\n",
    "                grad_W[i, j] = (c2 - c1) / (2 * h)\n",
    "\n",
    "        grad_weights.append(grad_W)\n",
    "\n",
    "    return grad_weights, grad_biases"
   ]
  },
  {
   "cell_type": "code",
   "execution_count": 13,
   "metadata": {},
   "outputs": [],
   "source": [
    "def ComputeGradients(X, Y, weights, biases, p, outputs, activations, regularization_term=0):\n",
    "    \"\"\"\n",
    "    Computes gradient descent updates on a batch of data\n",
    "\n",
    "    :param X: Input data\n",
    "    :param Y: One-hot representation of the true labels of input data X\n",
    "    :param weights: Weight matrices of the k layers\n",
    "    :param biases: Bias vectors of the k layers\n",
    "    :param p: Softmax probabilities (predictions) of the network over classes.\n",
    "    :param outputs: True outputs of the intermediate layers of the network.\n",
    "    :param activations: ReLU activations of the intermediate layers of the network.\n",
    "    :param regularization_term: Contribution of the regularization in the weight updates\n",
    "\n",
    "    :return: Weight and bias updates of the first and second layer of our network\n",
    "    \"\"\"\n",
    "\n",
    "    # Back-propagate output layer at first\n",
    "\n",
    "    weight_updates = []\n",
    "    bias_updates = []\n",
    "\n",
    "    g = p - Y\n",
    "    bias_updates.append(g.sum(axis=1).reshape(biases[-1].shape))\n",
    "    weight_updates.append(np.dot(g, activations[-1].T))\n",
    "\n",
    "    for i in reversed(range(len(weights) -1)):\n",
    "    # Back-propagate the gradient vector g to the layer before\n",
    "\n",
    "        g = np.dot(g.T, weights[i+1])\n",
    "        ind = 1 * (outputs[i] > 0)\n",
    "        g = g.T * ind\n",
    "\n",
    "        if i == 0:\n",
    "            weight_updates.append(np.dot(g, X.T))\n",
    "        else:\n",
    "            weight_updates.append(np.dot(g, activations[i-1].T))\n",
    "\n",
    "        bias_updates.append(np.sum(g, axis=1).reshape(biases[i].shape))\n",
    "\n",
    "    for elem in weight_updates:\n",
    "        elem /= X.shape[1]\n",
    "\n",
    "    for elem in bias_updates:\n",
    "        elem /= X.shape[1]\n",
    "\n",
    "    # Reverse the updates to match the order of the layers\n",
    "    weight_updates = list(reversed(weight_updates)).copy()\n",
    "    bias_updates = list(reversed(bias_updates)).copy()\n",
    "\n",
    "    # Add regularizers\n",
    "    for index in range(len(weight_updates)):\n",
    "        weight_updates[index] += 2*regularization_term * weight_updates[index]\n",
    "\n",
    "    return weight_updates, bias_updates"
   ]
  },
  {
   "cell_type": "code",
   "execution_count": 14,
   "metadata": {},
   "outputs": [],
   "source": [
    "def check_similarity(grad_weights, grad_biases, num_weights, num_biases):\n",
    "    \"\"\"\n",
    "    Compares the gradients of both the analytical and numerical method and prints out a message of result\n",
    "    or failure, depending on how close these gradients are between each other.\n",
    "\n",
    "    :param grad_weights: Analytically computed gradients of the weights\n",
    "    :param grad_biases: Analytically computed gradients of the biases\n",
    "    :param num_weights: Numerically computed gradients of the weights\n",
    "    :param num_biases: Numerically computed gradients of the biases\n",
    "\n",
    "    :return: None\n",
    "    \"\"\"\n",
    "\n",
    "    for layer_index in range(len(grad_weights)):\n",
    "\n",
    "        print('-----------------')\n",
    "        print(f'Layer no. {layer_index+1}:')\n",
    "\n",
    "        weight_abs = np.abs(grad_weights[layer_index] - num_weights[layer_index])\n",
    "        bias_abs = np.abs(grad_biases[layer_index] - num_biases[layer_index])\n",
    "\n",
    "        weight_nominator = np.average(weight_abs)\n",
    "        bias_nominator = np.average(bias_abs)\n",
    "\n",
    "        grad_weight_abs = np.absolute(grad_weights[layer_index])\n",
    "        grad_weight_num_abs = np.absolute(num_weights[layer_index])\n",
    "\n",
    "        grad_bias_abs = np.absolute(grad_biases[layer_index])\n",
    "        grad_bias_num_abs = np.absolute(num_biases[layer_index])\n",
    "\n",
    "        sum_weight = grad_weight_abs + grad_weight_num_abs\n",
    "        sum_bias = grad_bias_abs + grad_bias_num_abs\n",
    "\n",
    "        print(f'Deviation on weight matrix: {weight_nominator / np.amax(sum_weight)}')\n",
    "        print(f'Deviation on bias vector: {bias_nominator / np.amax(sum_bias)}')"
   ]
  },
  {
   "cell_type": "markdown",
   "metadata": {},
   "source": [
    "#### Momentum"
   ]
  },
  {
   "cell_type": "code",
   "execution_count": 15,
   "metadata": {},
   "outputs": [],
   "source": [
    "def initialize_momentum(arrays):\n",
    "    \"\"\"\n",
    "    Initializes the momentum arrays to zero numpy arrays.\n",
    "    \n",
    "    :param matrices: Weights or bias that need corresponding momentum arrays.\n",
    "    :return: Numpy zeros for each layer of the same shape\n",
    "    \"\"\"\n",
    "    momentum_matrices = []\n",
    "    for elem in arrays:\n",
    "        momentum_matrices.append(np.zeros(elem.shape))\n",
    "    return momentum_matrices"
   ]
  },
  {
   "cell_type": "code",
   "execution_count": 16,
   "metadata": {},
   "outputs": [],
   "source": [
    "def add_momentum(weights, grad_weights, momentum_weights, biases, grad_biases, momentum_biases, eta, momentum_term):\n",
    "    \"\"\"\n",
    "    Add momentum to an array (weight or bias) of the network.\n",
    "\n",
    "    :param weights: The weight matrices of the k layers.\n",
    "    :param grad_weights: The gradient updatea of the weights.\n",
    "    :param momentum_weights: Momentum arrays (v) of the weights.\n",
    "    :param biases: The bias vector of the k layers.\n",
    "    :param grad_biases: The gradient updates for the biases.\n",
    "    :param momentum_biases: Momentum vectors (v) of the weights.\n",
    "    :param eta: Learning rate of the network.\n",
    "    :param momentum_term: Amount of momentum to be taken into account in the updates.\n",
    "\n",
    "    :return: Updated weights and biases of the network with momentum contribution, updated momentumm arrays for the\n",
    "             weights and biases of the network.\n",
    "    \"\"\"\n",
    "\n",
    "    updated_weights = []\n",
    "    updated_biases = []\n",
    "\n",
    "    for index in range(len(weights)):\n",
    "\n",
    "        new_momentum_weight = momentum_term * momentum_weights[index] + eta * grad_weights[index]\n",
    "        momentum_weights[index] = new_momentum_weight\n",
    "        updated_weights.append(weights[index] - new_momentum_weight)\n",
    "\n",
    "        new_momentum_bias = momentum_term * momentum_biases[index] + eta * grad_biases[index]\n",
    "        momentum_biases[index] = new_momentum_bias\n",
    "        updated_biases.append(biases[index] - new_momentum_bias)\n",
    "\n",
    "\n",
    "    return updated_weights, updated_biases, momentum_weights, momentum_biases\n"
   ]
  },
  {
   "cell_type": "markdown",
   "metadata": {},
   "source": [
    "#### MiniBatch Gradient Descent"
   ]
  },
  {
   "cell_type": "code",
   "execution_count": 17,
   "metadata": {},
   "outputs": [],
   "source": [
    "def MiniBatchGDwithMomentum(X, Y, X_validation, Y_validation, y_validation, GDparams, weights, biases,\n",
    "                            regularization_term=0, momentum_term=0.9):\n",
    "    \"\"\"\n",
    "    Performs mini batch-gradient descent computations.\n",
    "\n",
    "    :param X: Input batch of data\n",
    "    :param Y: One-hot representation of the true labels of the data.\n",
    "    :param X_validation: Input batch of validation data.\n",
    "    :param Y_validation: One-hot representation of the true labels of the validation data.\n",
    "    :param y_validation: True labels of the validation data.\n",
    "    :param GDparams: Gradient descent parameters (number of mini batches to construct, learning rate, epochs)\n",
    "    :param weights: Weight matrices of the k layers\n",
    "    :param biases: Bias vectors of the k layers\n",
    "    :param regularization_term: Amount of regularization applied.\n",
    "\n",
    "    :return: The weight and bias matrices learnt (trained) from the training process, loss in training and validation set.\n",
    "    \"\"\"\n",
    "    number_of_mini_batches = GDparams[0]\n",
    "    eta = GDparams[1]\n",
    "    epoches = GDparams[2]\n",
    "\n",
    "    cost = []\n",
    "    val_cost = []\n",
    "\n",
    "    momentum_weights = initialize_momentum(weights)\n",
    "    momentum_biases = initialize_momentum(biases)\n",
    "\n",
    "    original_training_cost= ComputeCost(X, Y, weights, biases, regularization_term)\n",
    "    # print('Training set loss before start of training process: '+str(ComputeCost(X, Y, W1, W2, b1, b2, regularization_term)))\n",
    "\n",
    "    best_weights = weights\n",
    "    best_biases = biases\n",
    "\n",
    "    best_validation_set_accuracy = 0\n",
    "\n",
    "    for _ in tqdm(range(epoches)):\n",
    "        # for epoch in range(epoches):\n",
    "\n",
    "        for batch in range(1, int(X.shape[1] / number_of_mini_batches)):\n",
    "            start = (batch - 1) * number_of_mini_batches + 1\n",
    "            end = batch * number_of_mini_batches + 1\n",
    "\n",
    "            p, intermediate_activations, intermediate_outputs = EvaluateClassifier(X[:, start:end], weights, biases)\n",
    "\n",
    "            grad_weights, grad_biases = ComputeGradients(X[:, start:end], Y[:, start:end], weights, biases, p, intermediate_outputs, intermediate_activations, regularization_term)\n",
    "\n",
    "            weights, biases, momentum_weights, momentum_biases = add_momentum(weights, grad_weights, momentum_weights, biases, grad_biases, momentum_biases, eta, momentum_term)\n",
    "\n",
    "        validation_set_accuracy = ComputeAccuracy(X_validation, y_validation, weights, biases)\n",
    "\n",
    "        if validation_set_accuracy > best_validation_set_accuracy:\n",
    "\n",
    "            best_weights = weights\n",
    "            best_biases = biases\n",
    "            best_validation_set_accuracy = validation_set_accuracy\n",
    "\n",
    "        epoch_cost = ComputeCost(X, Y, weights, biases, regularization_term)\n",
    "        # print('Training set loss after epoch number '+str(epoch)+' is: '+str(epoch_cost))\n",
    "        if epoch_cost > 3 * original_training_cost:\n",
    "            break\n",
    "        val_epoch_cost = ComputeCost(X_validation, Y_validation, weights, biases, regularization_term)\n",
    "\n",
    "        cost.append(epoch_cost)\n",
    "        val_cost.append(val_epoch_cost)\n",
    "\n",
    "        # Decay the learning rate\n",
    "        eta *= 0.95\n",
    "\n",
    "    return best_weights, best_biases, cost, val_cost"
   ]
  },
  {
   "cell_type": "markdown",
   "metadata": {},
   "source": [
    "#### Visualization functions"
   ]
  },
  {
   "cell_type": "code",
   "execution_count": 104,
   "metadata": {},
   "outputs": [],
   "source": [
    "def visualize_plots(train, validation, display=False, title=None, save_name=None, save_path='../figures/'):\n",
    "    \"\"\"\n",
    "    Visualization and saving plots (losses and accuracies) of the network.\n",
    "\n",
    "    :param train: Loss of accuracy of the training data.\n",
    "    :param validation: Loss of accuracy of the validation data.\n",
    "    :param display: (Optional) Boolean, set to True for displaying the loss evolution plot.\n",
    "    :param title: (Optional) Title of the plot.\n",
    "    :param save_name: (Optional) name of the file to save the plot.\n",
    "    :param save_path: (Optional) Path of the folder to save the plot in your local computer.\n",
    "\n",
    "    :return: None\n",
    "\n",
    "    \"\"\"\n",
    "\n",
    "    if title is not None:\n",
    "        plt.title(title)\n",
    "\n",
    "    plt.plot(train, 'g', label='Training set ')\n",
    "    plt.plot(validation, 'r', label='Validation set')\n",
    "    plt.legend(loc='upper right')\n",
    "\n",
    "    if save_name is not None:\n",
    "        if save_path[-1] != '/':\n",
    "            save_path += '/'\n",
    "        plt.savefig(save_path + save_name)\n",
    "\n",
    "    if display:\n",
    "        plt.show()\n",
    "\n",
    "    plt.clf()"
   ]
  },
  {
   "cell_type": "markdown",
   "metadata": {},
   "source": [
    "#### Batch normalization"
   ]
  },
  {
   "cell_type": "code",
   "execution_count": 19,
   "metadata": {},
   "outputs": [],
   "source": [
    "def BatchNormalize(s, mean_s, var_s, epsilon=1e-20):\n",
    "    \"\"\"\n",
    "    Normalizes the scores of a batch based on their mean and variance.\n",
    "\n",
    "    :param s: Scores evaluated as output of a layer of the network.\n",
    "    :param mean_s: Mean of the scores.\n",
    "    :param var_s: Variance of the scores.\n",
    "    :param epsilon: A small number that is present to ensure that no division by zero will be performed.\n",
    "\n",
    "    :return: The normalized scores,\n",
    "    \"\"\"\n",
    "\n",
    "    diff = s - mean_s\n",
    "\n",
    "    return diff / (np.sqrt(var_s + epsilon))"
   ]
  },
  {
   "cell_type": "code",
   "execution_count": 20,
   "metadata": {},
   "outputs": [],
   "source": [
    "def ForwardPassBatchNormalization(X, weights, biases, exponentials= None):\n",
    "    \"\"\"\n",
    "    Evaluates the forward pass result of the classifier network using batch normalization.\n",
    "\n",
    "    :param X: Input data.\n",
    "    :param weights: Weight arrays of the k-layer network.\n",
    "    :param biases: Bias vectors of the k-layer network.\n",
    "\n",
    "    :return: Softmax probabilities (predictions) of the true labels of the data.\n",
    "    \"\"\"\n",
    "\n",
    "    s = np.dot(weights[0], X) + biases[0]\n",
    "\n",
    "    intermediate_outputs = [s]\n",
    "\n",
    "    if exponentials is not None:\n",
    "\n",
    "        exponential_means = exponentials[0]\n",
    "        exponential_variances = exponentials[1]\n",
    "\n",
    "        mean_s = exponential_means[0]\n",
    "        var_s = exponential_variances[0]\n",
    "\n",
    "    else:\n",
    "\n",
    "        mean_s = s.mean(axis=1).reshape(s.shape[0], 1)\n",
    "        var_s = s.var(axis=1).reshape(s.shape[0], 1)\n",
    "\n",
    "        means = [mean_s]\n",
    "        variances = [var_s]\n",
    "\n",
    "    normalized_score = BatchNormalize(s, mean_s, var_s)\n",
    "\n",
    "    batch_normalization_outputs = [normalized_score]\n",
    "    batch_normalization_activations = [ReLU(normalized_score)]\n",
    "\n",
    "    for index in range(1, len(weights) - 1):\n",
    "\n",
    "        s = np.dot(weights[index], batch_normalization_activations[-1]) + biases[index]\n",
    "\n",
    "        intermediate_outputs.append(s)\n",
    "\n",
    "        if exponentials is None:\n",
    "            mean_s = s.mean(axis=1).reshape(s.shape[0], 1)\n",
    "            var_s = s.var(axis=1).reshape(s.shape[0], 1)\n",
    "\n",
    "            means.append(mean_s)\n",
    "            variances.append(var_s)\n",
    "\n",
    "        else:\n",
    "\n",
    "            mean_s = exponential_means[index]\n",
    "            var_s = exponential_variances[index]\n",
    "\n",
    "        normalized_score = BatchNormalize(s, mean_s, var_s)\n",
    "\n",
    "        batch_normalization_outputs.append(normalized_score)\n",
    "        batch_normalization_activations.append(ReLU(normalized_score))\n",
    "\n",
    "    s = np.dot(weights[-1], batch_normalization_activations[-1]) + biases[-1]\n",
    "\n",
    "    p = softmax(s, axis=0)\n",
    "\n",
    "    if exponentials is not None:\n",
    "        return p\n",
    "    else:\n",
    "        return p, batch_normalization_activations, batch_normalization_outputs, intermediate_outputs, means, variances"
   ]
  },
  {
   "cell_type": "code",
   "execution_count": 38,
   "metadata": {},
   "outputs": [],
   "source": [
    "def ComputeAccuracyBatchNormalization(X, y, weights, biases, exponentials = None):\n",
    "    \"\"\"\n",
    "    Computes the accuracy of the feed-forward k-layer network\n",
    "\n",
    "    :param X: Input data\n",
    "    :param weights: Weights arrays of the k layers\n",
    "    :param biases: Bias vectors of the k layers\n",
    "    :param exponentials: Contains the exponential means and variances computed, they are used in call after training.\n",
    "\n",
    "    :return: Accuracy performance of the neural network.\n",
    "    \"\"\"\n",
    "    if exponentials is not None:\n",
    "        p = ForwardPassBatchNormalization(X, weights, biases, exponentials)\n",
    "    else:\n",
    "        p = ForwardPassBatchNormalization(X, weights, biases, exponentials)[0]\n",
    "    predictions = predictClasses(p)\n",
    "\n",
    "    accuracy = round(np.sum(np.where(predictions - y == 0, 1, 0)) * 100 / len(y), 2)\n",
    "\n",
    "    return accuracy"
   ]
  },
  {
   "cell_type": "code",
   "execution_count": 22,
   "metadata": {},
   "outputs": [],
   "source": [
    "def ComputeCostBatchNormalization(X, Y, weights, biases, regularization_term, exponentials=None):\n",
    "    \"\"\"\n",
    "    Computes the cross-entropy loss on a batch of data.\n",
    "\n",
    "    :param X: Input data\n",
    "    :param y: Labels of the ground truth\n",
    "    :param weights: Weights arrays of the k layers\n",
    "    :param biases: Bias vectors of the k layers\n",
    "    :param regularization_term: Amount of regularization applied.\n",
    "    :param exponentials: (Optional) Contains the exponential means and variances computed, they are used in call after training.\n",
    "\n",
    "    :return: Cross-entropy loss.\n",
    "    \"\"\"\n",
    "\n",
    "    if exponentials is not None:\n",
    "        p = ForwardPassBatchNormalization(X, weights, biases, exponentials)\n",
    "    else:\n",
    "        p = ForwardPassBatchNormalization(X, weights, biases, exponentials)[0]\n",
    "\n",
    "    cross_entropy_loss = -np.log(np.diag(np.dot(Y.T, p))).sum() / float(X.shape[1])\n",
    "\n",
    "    weight_sum = 0\n",
    "    for weight in weights:\n",
    "\n",
    "        weight_sum += np.power(weight, 2).sum()\n",
    "\n",
    "    return cross_entropy_loss + regularization_term * weight_sum"
   ]
  },
  {
   "cell_type": "code",
   "execution_count": 23,
   "metadata": {},
   "outputs": [],
   "source": [
    "def BatchNormBackPass(g, s, mean_s, var_s, epsilon=1e-20):\n",
    "\n",
    "    # First part of the gradient:\n",
    "    V_b = (var_s+ epsilon) ** (-0.5)\n",
    "    part_1 = g * V_b\n",
    "\n",
    "    # Second part pf the gradient\n",
    "    diff = s - mean_s\n",
    "    grad_J_vb = -0.5 * np.sum(g * (var_s+epsilon) ** (-1.5) * diff, axis=1)\n",
    "    grad_J_vb = np.expand_dims(grad_J_vb, axis=1)\n",
    "    part_2 = (2/float(s.shape[1])) * grad_J_vb * diff\n",
    "\n",
    "    # Third part of the gradient\n",
    "    grad_J_mb = -np.sum(g * V_b, axis=1)\n",
    "    grad_J_mb = np.expand_dims(grad_J_mb, axis=1)\n",
    "    part_3 = grad_J_mb / float(s.shape[1])\n",
    "\n",
    "    return part_1 + part_2 + part_3"
   ]
  },
  {
   "cell_type": "code",
   "execution_count": 24,
   "metadata": {},
   "outputs": [],
   "source": [
    "def BackwardPassBatchNormalization(X, Y, weights, biases, p, bn_outputs, bn_activations, intermediate_outputs, means, variances, regularization_term):\n",
    "\n",
    "    # Back-propagate output layer at first\n",
    "\n",
    "    g = p - Y\n",
    "\n",
    "    bias_updates = [g.sum(axis=1).reshape(biases[-1].shape)]\n",
    "    weight_updates = [np.dot(g, bn_activations[-1].T)]\n",
    "\n",
    "    g = np.dot(g.T, weights[-1])\n",
    "    ind = 1 * (bn_outputs[-1] > 0)\n",
    "    g = g.T * ind\n",
    "\n",
    "    for i in reversed(range(len(weights) -1)):\n",
    "    # Back-propagate the gradient vector g to the layer before\n",
    "\n",
    "        g = BatchNormBackPass(g, intermediate_outputs[i], means[i], variances[i])\n",
    "\n",
    "        if i == 0:\n",
    "            weight_updates.append(np.dot(g, X.T))\n",
    "            bias_updates.append(np.sum(g, axis=1).reshape(biases[i].shape))\n",
    "            break\n",
    "        else:\n",
    "            weight_updates.append(np.dot(g, bn_activations[i-1].T))\n",
    "            bias_updates.append(np.sum(g, axis=1).reshape(biases[i].shape))\n",
    "\n",
    "        g = np.dot(g.T, weights[i])\n",
    "        ind = 1 * (bn_outputs[i-1] > 0)\n",
    "        g = g.T * ind\n",
    "\n",
    "\n",
    "    for elem in weight_updates:\n",
    "        elem /= X.shape[1]\n",
    "\n",
    "    for elem in bias_updates:\n",
    "        elem /= X.shape[1]\n",
    "\n",
    "    # Reverse the updates to match the order of the layers\n",
    "    weight_updates = list(reversed(weight_updates)).copy()\n",
    "    bias_updates = list(reversed(bias_updates)).copy()\n",
    "\n",
    "    for index in range(len(weight_updates)):\n",
    "        weight_updates[index] += 2*regularization_term * weights[index]\n",
    "\n",
    "    return weight_updates, bias_updates"
   ]
  },
  {
   "cell_type": "code",
   "execution_count": 31,
   "metadata": {},
   "outputs": [],
   "source": [
    "def ExponentialMovingAverage(means, exponential_means, variances, exponential_variances, a=0.99):\n",
    "\n",
    "    for index, elem in enumerate(exponential_means):\n",
    "\n",
    "        exponential_means[index] = a * elem + (1-a) * means[index]\n",
    "        exponential_variances[index] = a * exponential_variances[index] + (1-a) * variances[index]\n",
    "\n",
    "    return exponential_means, exponential_variances"
   ]
  },
  {
   "cell_type": "code",
   "execution_count": 152,
   "metadata": {},
   "outputs": [],
   "source": [
    "def MiniBatchGDBatchNormalization(training_set, validation_set, GDparams, weights, biases, momentum_term=0.9):\n",
    "    \"\"\"\n",
    "    Performs mini batch-gradient descent computations with batch normalization.\n",
    "\n",
    "    :param training_set: Training data.\n",
    "    :param validation_set: Validation data.\n",
    "    :param GDparams: Gradient descent parameters (number of mini batches to construct, learning rate, epochs, amount of regularization to be applied)\n",
    "    :param weights: Weight matrices of the k layers\n",
    "    :param biases: Bias vectors of the k layers\n",
    "\n",
    "    :return: The weight and bias matrices learnt (trained) from the training process,\n",
    "             loss in training and validation set, accuracy evolution in training and validation set.\n",
    "    \"\"\"\n",
    "    [number_of_mini_batches, eta, epoches, regularization_term] = GDparams\n",
    "\n",
    "    [X, Y, y], [X_validation, Y_validation, y_validation] = training_set, validation_set\n",
    "\n",
    "    train_loss_evolution, validation_loss_evolution = [], []\n",
    "    train_accuracy_evolution, validation_accuracy_evolution = [], []\n",
    "\n",
    "    momentum_weights, momentum_biases = initialize_momentum(weights), initialize_momentum(biases)\n",
    "\n",
    "    original_training_cost = ComputeCost(X, Y, weights, biases, regularization_term)\n",
    "\n",
    "    best_weights, best_biases, best_validation_set_accuracy = weights, biases, 0\n",
    "    exponentials, best_exponentials = [], []\n",
    "\n",
    "    for epoch in tqdm(range(epoches)):\n",
    "#     for epoch in range(epoches):\n",
    "\n",
    "        for batch in range(1, int(X.shape[1] / number_of_mini_batches)):\n",
    "            start = (batch - 1) * number_of_mini_batches\n",
    "            end = min(batch * number_of_mini_batches + int(X.shape[1] / number_of_mini_batches), X.shape[1] )\n",
    "\n",
    "            p, batch_norm_activations, batch_norm_outputs, intermediate_outputs, means, variances = ForwardPassBatchNormalization(X[:, start:end], weights, biases)\n",
    "\n",
    "            grad_weights, grad_biases = BackwardPassBatchNormalization(X[:, start:end], Y[:, start:end], weights, biases, p, batch_norm_outputs, batch_norm_activations, intermediate_outputs, means, variances, regularization_term)\n",
    "\n",
    "            weights, biases, momentum_weights, momentum_biases = add_momentum(weights, grad_weights, momentum_weights, biases, grad_biases, momentum_biases, eta, momentum_term)\n",
    "\n",
    "            if epoch == 0 and start == 0:\n",
    "                exponential_means = means.copy()\n",
    "                exponential_variances = variances.copy()\n",
    "                exponentials, best_exponentials = [exponential_means, exponential_variances], [exponential_means, exponential_variances]\n",
    "            else:\n",
    "                exponentials = ExponentialMovingAverage(means, exponentials[0], variances, exponentials[1])\n",
    "\n",
    "        epoch_cost = ComputeCostBatchNormalization(X, Y, weights, biases, regularization_term, exponentials)\n",
    "        if epoch_cost > 3 * original_training_cost:\n",
    "            break\n",
    "        val_epoch_cost = ComputeCostBatchNormalization(X_validation, Y_validation, weights, biases, regularization_term, exponentials)\n",
    "\n",
    "        train_loss_evolution.append(epoch_cost)\n",
    "        validation_loss_evolution.append(val_epoch_cost)\n",
    "\n",
    "        train_accuracy_evolution.append(ComputeAccuracyBatchNormalization(X, y, weights, biases, exponentials))\n",
    "        validation_accuracy_evolution.append(ComputeAccuracyBatchNormalization(X_validation, y_validation, weights, biases, exponentials))\n",
    "\n",
    "        if validation_accuracy_evolution[-1] > best_validation_set_accuracy:\n",
    "\n",
    "            best_weights, best_biases, best_validation_set_accuracy = weights, biases, validation_accuracy_evolution[-1]\n",
    "            best_exponentials = exponentials\n",
    "\n",
    "        # Decay the learning rate\n",
    "        eta *= 0.95\n",
    "\n",
    "    return best_weights, best_biases, [train_loss_evolution, validation_loss_evolution], [train_accuracy_evolution, validation_accuracy_evolution], best_exponentials"
   ]
  },
  {
   "cell_type": "markdown",
   "metadata": {},
   "source": [
    "#### Extract all data in the training set "
   ]
  },
  {
   "cell_type": "code",
   "execution_count": 124,
   "metadata": {},
   "outputs": [],
   "source": [
    "def create_sets():\n",
    "    \"\"\"\n",
    "    Creates the full dataset, containing all the available data for training except 1000 images\n",
    "    used for the validation set.\n",
    "\n",
    "    :return: Training, validation and test sets (features, ground-truth labels, and their one-hot representation\n",
    "    \"\"\"\n",
    "\n",
    "    X_training_1, Y_training_1, y_training_1 = LoadBatch('../../cifar-10-batches-py/data_batch_1')\n",
    "    X_training_2, Y_training_2, y_training_2 = LoadBatch('../../cifar-10-batches-py/data_batch_2')\n",
    "    X_training_3, Y_training_3, y_training_3 = LoadBatch('../../cifar-10-batches-py/data_batch_3')\n",
    "    X_training_4, Y_training_4, y_training_4 = LoadBatch('../../cifar-10-batches-py/data_batch_4')\n",
    "    X_training_5, Y_training_5, y_training_5 = LoadBatch('../../cifar-10-batches-py/data_batch_5')\n",
    "\n",
    "    X_training = np.concatenate((X_training_1, X_training_3), axis=1)\n",
    "    X_training = np.copy(np.concatenate((X_training, X_training_4), axis=1))\n",
    "    X_training = np.copy(np.concatenate((X_training, X_training_5), axis=1))\n",
    "\n",
    "    X_training = np.concatenate((X_training, X_training_2[:, :9000]), axis=1)\n",
    "\n",
    "    Y_training = np.concatenate((Y_training_1, Y_training_3), axis=1)\n",
    "    Y_training = np.copy(np.concatenate((Y_training, Y_training_4), axis=1))\n",
    "    Y_training = np.copy(np.concatenate((Y_training, Y_training_5), axis=1))\n",
    "\n",
    "    Y_training = np.concatenate((Y_training, Y_training_2[:, :9000]), axis=1)\n",
    "\n",
    "    y_training = y_training_1 + y_training_3 + y_training_4 + y_training_5 + y_training_2[:9000]\n",
    "\n",
    "    X_validation = np.copy(X_training_2[:, 9000:])\n",
    "    Y_validation = np.copy(Y_training_2[:, 9000:])\n",
    "    y_validation = y_training_2[9000:]\n",
    "\n",
    "    X_test, _, y_test = LoadBatch('../../cifar-10-batches-py/test_batch')\n",
    "\n",
    "    mean = np.mean(X_training)\n",
    "    X_training -= mean\n",
    "    X_validation -= mean\n",
    "    X_test -= mean\n",
    "\n",
    "    return [X_training, Y_training, y_training], [X_validation, Y_validation, y_validation], [X_test, y_test]"
   ]
  },
  {
   "cell_type": "markdown",
   "metadata": {},
   "source": [
    "### EXERCISE 1: Upgrade your code from assignment 2 so that you can train a k-layer network."
   ]
  },
  {
   "cell_type": "markdown",
   "metadata": {},
   "source": [
    "#### Compare with numerically computed gradients of a 2-layer network"
   ]
  },
  {
   "cell_type": "code",
   "execution_count": 27,
   "metadata": {},
   "outputs": [],
   "source": [
    "weights, biases = initialize_weights([[50, 3072], [10, 50]])"
   ]
  },
  {
   "cell_type": "code",
   "execution_count": 101,
   "metadata": {},
   "outputs": [],
   "source": [
    "X_training_1, Y_training_1, y_training_1 = LoadBatch('../../cifar-10-batches-py/data_batch_1')\n",
    "X_training_2, Y_training_2, y_training_2 = LoadBatch('../../cifar-10-batches-py/data_batch_2')\n",
    "X_test, _, y_test = LoadBatch('../../cifar-10-batches-py/test_batch')\n",
    "\n",
    "mean = np.mean(X_training_1)\n",
    "X_training_1 -= mean\n",
    "X_training_2 -= mean\n",
    "X_test -= mean\n",
    "\n",
    "training_set, validation_set = [X_training_1, Y_training_1, y_training_1], [X_training_2, Y_training_2, y_training_2]"
   ]
  },
  {
   "cell_type": "markdown",
   "metadata": {},
   "source": [
    "We have already available the numerical gradients for 2 layers:"
   ]
  },
  {
   "cell_type": "code",
   "execution_count": 56,
   "metadata": {},
   "outputs": [],
   "source": [
    "W1_num = np.load('grad_W1_num.npy')\n",
    "W2_num = np.load('grad_W2_num.npy')\n",
    "\n",
    "b1_num = np.load('grad_b1_num.npy')\n",
    "b2_num = np.load('grad_b2_num.npy')"
   ]
  },
  {
   "cell_type": "code",
   "execution_count": 77,
   "metadata": {},
   "outputs": [],
   "source": [
    "num_weights = [W1_num, W2_num]\n",
    "num_biases = [b1_num, b2_num]\n",
    "\n",
    "p, activations, outputs = EvaluateClassifier(X_training_1[:, 0:2], weights, biases)\n",
    "grad_weights, grad_biases = ComputeGradients(X_training_1[:, 0:2], Y_training_1[:, 0:2], weights, biases, p, outputs, activations)"
   ]
  },
  {
   "cell_type": "code",
   "execution_count": 58,
   "metadata": {},
   "outputs": [
    {
     "name": "stdout",
     "output_type": "stream",
     "text": [
      "-----------------\n",
      "Layer no. 1:\n",
      "Deviation on weight matrix: 7.52283628908819e-09\n",
      "Deviation on bias vector: 4.602426291547493e-09\n",
      "-----------------\n",
      "Layer no. 2:\n",
      "Deviation on weight matrix: 3.0747216543846533e-10\n",
      "Deviation on bias vector: 1.1936382115255306e-11\n"
     ]
    }
   ],
   "source": [
    "check_similarity(grad_weights, grad_biases, num_weights, num_biases)"
   ]
  },
  {
   "cell_type": "markdown",
   "metadata": {},
   "source": [
    "Deviation of at most $10^{-9}$, all good to this point!"
   ]
  },
  {
   "cell_type": "markdown",
   "metadata": {},
   "source": [
    "We proceed with computing gradients for a 3-layer network"
   ]
  },
  {
   "cell_type": "code",
   "execution_count": 63,
   "metadata": {},
   "outputs": [],
   "source": [
    "weights, biases = initialize_weights([[50, 3072], [20, 50], [10, 20]])"
   ]
  },
  {
   "cell_type": "code",
   "execution_count": 71,
   "metadata": {},
   "outputs": [
    {
     "name": "stderr",
     "output_type": "stream",
     "text": [
      "100%|██████████| 50/50 [00:00<00:00, 99.05it/s]\n",
      "100%|██████████| 50/50 [24:35<00:00, 29.50s/it]\n",
      "100%|██████████| 20/20 [00:00<00:00, 112.14it/s]\n",
      "100%|██████████| 20/20 [00:09<00:00,  2.20it/s]\n",
      "100%|██████████| 10/10 [00:00<00:00, 111.00it/s]\n",
      "100%|██████████| 10/10 [00:01<00:00,  5.53it/s]\n"
     ]
    }
   ],
   "source": [
    "grad_weights_3_num, grad_bias_3_num = ComputeGradsNumSlow(X_training_1[:, 0:2], Y_training_1[:, 0:2], weights, biases)"
   ]
  },
  {
   "cell_type": "code",
   "execution_count": 78,
   "metadata": {},
   "outputs": [],
   "source": [
    "for weight_index in range(len(grad_weights_3_num)):\n",
    "    \n",
    "    np.save(f'3_layers_num_weights{weight_index}', grad_weights_3_num[weight_index])\n",
    "    np.save(f'3_layers_num_bias{weight_index}', grad_bias_3_num[weight_index])"
   ]
  },
  {
   "cell_type": "code",
   "execution_count": 90,
   "metadata": {},
   "outputs": [],
   "source": [
    "p, activations, outputs = EvaluateClassifier(X_training_1[:, 0:2], weights, biases)\n",
    "grad_weights, grad_biases = ComputeGradients(X_training_1[:, 0:2], Y_training_1[:, 0:2], weights, biases, p, outputs, activations)"
   ]
  },
  {
   "cell_type": "code",
   "execution_count": 91,
   "metadata": {},
   "outputs": [
    {
     "name": "stdout",
     "output_type": "stream",
     "text": [
      "-----------------\n",
      "Layer no. 1:\n",
      "Deviation on weight matrix: 2.1237177447134792e-06\n",
      "Deviation on bias vector: 1.047827661340416e-06\n",
      "-----------------\n",
      "Layer no. 2:\n",
      "Deviation on weight matrix: 1.197615459525251e-07\n",
      "Deviation on bias vector: 0.0032312506974258464\n",
      "-----------------\n",
      "Layer no. 3:\n",
      "Deviation on weight matrix: 7.368229647407527e-08\n",
      "Deviation on bias vector: 1.677023298915395e-11\n"
     ]
    }
   ],
   "source": [
    "check_similarity(grad_weights, grad_biases, grad_weights_3_num, grad_bias_3_num)"
   ]
  },
  {
   "cell_type": "markdown",
   "metadata": {},
   "source": [
    "So far so good! Let's check 4 layers."
   ]
  },
  {
   "cell_type": "code",
   "execution_count": 121,
   "metadata": {},
   "outputs": [],
   "source": [
    "weights, biases = initialize_weights([[50, 3072], [20, 50], [15, 20], [10,15]])"
   ]
  },
  {
   "cell_type": "markdown",
   "metadata": {},
   "source": [
    "Form the correctly shaped matrices to check"
   ]
  },
  {
   "cell_type": "code",
   "execution_count": 118,
   "metadata": {},
   "outputs": [
    {
     "name": "stderr",
     "output_type": "stream",
     "text": [
      "100%|██████████| 50/50 [00:00<00:00, 97.39it/s]\n",
      "100%|██████████| 50/50 [25:01<00:00, 30.02s/it]\n",
      "100%|██████████| 20/20 [00:00<00:00, 101.33it/s]\n",
      "100%|██████████| 20/20 [00:08<00:00,  2.31it/s]\n",
      "100%|██████████| 15/15 [00:00<00:00, 111.27it/s]\n",
      "100%|██████████| 15/15 [00:02<00:00,  5.65it/s]\n",
      "100%|██████████| 10/10 [00:00<00:00, 110.81it/s]\n",
      "100%|██████████| 10/10 [00:01<00:00,  7.57it/s]\n"
     ]
    }
   ],
   "source": [
    "grad_weights_4_num, grad_bias_4_num = ComputeGradsNumSlow(X_training_1[:, 0:2], Y_training_1[:, 0:2], weights, biases)"
   ]
  },
  {
   "cell_type": "code",
   "execution_count": 127,
   "metadata": {},
   "outputs": [],
   "source": [
    "for weight_index in range(len(grad_weights_4_num)):\n",
    "    \n",
    "    np.save(f'4_layers_num_weights{weight_index}', grad_weights_4_num[weight_index])\n",
    "    np.save(f'4_layers_num_bias{weight_index}', grad_bias_4_num[weight_index])"
   ]
  },
  {
   "cell_type": "code",
   "execution_count": 122,
   "metadata": {},
   "outputs": [],
   "source": [
    "p, activations, outputs = EvaluateClassifier(X_training_1[:, 0:2], weights, biases)\n",
    "grad_weights, grad_biases = ComputeGradients(X_training_1[:, 0:2], Y_training_1[:, 0:2], weights, biases, p, outputs, activations)"
   ]
  },
  {
   "cell_type": "code",
   "execution_count": 123,
   "metadata": {},
   "outputs": [
    {
     "name": "stdout",
     "output_type": "stream",
     "text": [
      "-----------------\n",
      "Layer no. 1:\n",
      "Deviation on weight matrix: 0.0004455622900617491\n",
      "Deviation on bias vector: 0.00021413577255454145\n",
      "-----------------\n",
      "Layer no. 2:\n",
      "Deviation on weight matrix: 2.8193570737353638e-05\n",
      "Deviation on bias vector: 0.014347056990204365\n",
      "-----------------\n",
      "Layer no. 3:\n",
      "Deviation on weight matrix: 8.838559097221378e-06\n",
      "Deviation on bias vector: 0.17027488699016166\n",
      "-----------------\n",
      "Layer no. 4:\n",
      "Deviation on weight matrix: 2.0539890893159423e-05\n",
      "Deviation on bias vector: 9.891207642802771e-12\n"
     ]
    }
   ],
   "source": [
    "check_similarity(grad_weights, grad_biases, grad_weights_4_num, grad_bias_4_num)"
   ]
  },
  {
   "cell_type": "markdown",
   "metadata": {},
   "source": [
    "### EXERCISE 2: Can I train a 3-layer network?"
   ]
  },
  {
   "cell_type": "markdown",
   "metadata": {},
   "source": [
    "#### Test that you are able to replicate the results of a 2-layer network"
   ]
  },
  {
   "cell_type": "code",
   "execution_count": 23,
   "metadata": {},
   "outputs": [],
   "source": [
    "weights, biases = initialize_weights([[50, 3072], [10, 50]])"
   ]
  },
  {
   "cell_type": "markdown",
   "metadata": {},
   "source": [
    "We will try to replicate the performance of 44.44% for 10 epochs of training and $(\\eta, \\lambda) = (0.01713848118474131, 0.0001)$"
   ]
  },
  {
   "cell_type": "code",
   "execution_count": 43,
   "metadata": {},
   "outputs": [
    {
     "name": "stderr",
     "output_type": "stream",
     "text": [
      "100%|██████████| 10/10 [01:03<00:00,  6.33s/it]\n"
     ]
    }
   ],
   "source": [
    "GD_params = [100, 0.0171384811847413, 10]\n",
    "\n",
    "weights, biases, training_cost, validation_cost =  MiniBatchGDwithMomentum(  X_training_1,\n",
    "                                                                             Y_training_1,\n",
    "                                                                             X_training_2,\n",
    "                                                                             Y_training_2,\n",
    "                                                                             y_training_2,\n",
    "                                                                             GD_params,\n",
    "                                                                             weights, biases,\n",
    "                                                                             regularization_term=0.0001)"
   ]
  },
  {
   "cell_type": "code",
   "execution_count": 44,
   "metadata": {},
   "outputs": [],
   "source": [
    "validation_set_accuracy = ComputeAccuracy(X_training_2, y_training_2, weights, biases)"
   ]
  },
  {
   "cell_type": "code",
   "execution_count": 45,
   "metadata": {},
   "outputs": [
    {
     "data": {
      "text/plain": [
       "44.16"
      ]
     },
     "execution_count": 45,
     "metadata": {},
     "output_type": "execute_result"
    }
   ],
   "source": [
    "validation_set_accuracy"
   ]
  },
  {
   "cell_type": "markdown",
   "metadata": {},
   "source": [
    "Due to the randomness of the initialization on the weights, the deviation is well justified"
   ]
  },
  {
   "cell_type": "markdown",
   "metadata": {},
   "source": [
    "#### What happens after a few epochs? Are you learning anything?"
   ]
  },
  {
   "cell_type": "code",
   "execution_count": 129,
   "metadata": {},
   "outputs": [
    {
     "name": "stderr",
     "output_type": "stream",
     "text": [
      "100%|██████████| 15/15 [00:24<00:00,  1.66s/it]"
     ]
    },
    {
     "name": "stdout",
     "output_type": "stream",
     "text": [
      "Cost at training epoch 1 is 2.3022672535670137\n",
      "Cost at training epoch 2 is 2.3022666352616192\n",
      "Cost at training epoch 3 is 2.302262164108896\n",
      "Cost at training epoch 4 is 2.302256330131588\n",
      "Cost at training epoch 5 is 2.3022509063293954\n",
      "Cost at training epoch 6 is 2.302246087045059\n",
      "Cost at training epoch 7 is 2.30224183447161\n",
      "Cost at training epoch 8 is 2.3022380835454994\n",
      "Cost at training epoch 9 is 2.3022347717577407\n",
      "Cost at training epoch 10 is 2.3022318440902114\n",
      "Cost at training epoch 11 is 2.3022292524125856\n",
      "Cost at training epoch 12 is 2.3022269539491447\n",
      "Cost at training epoch 13 is 2.3022249115918183\n",
      "Cost at training epoch 14 is 2.302223092730126\n",
      "Cost at training epoch 15 is 2.3022214685589133\n"
     ]
    },
    {
     "name": "stderr",
     "output_type": "stream",
     "text": [
      "\n"
     ]
    }
   ],
   "source": [
    "weights, biases = initialize_weights([[50, 3072], [30, 50], [10,30]])\n",
    "\n",
    "GD_params = [100, 0.0171384811847413, 15]\n",
    "\n",
    "weights, biases, training_cost, validation_cost = MiniBatchGDwithMomentum(X_training_1,\n",
    "                                                                          Y_training_1,\n",
    "                                                                          X_training_2,\n",
    "                                                                          Y_training_2,\n",
    "                                                                          y_training_2,\n",
    "                                                                          GD_params,\n",
    "                                                                          weights, biases,\n",
    "                                                                          regularization_term=0.0001)\n",
    "\n",
    "for i in range(len(training_cost)):\n",
    "\n",
    "    print(f'Cost at training epoch {i+1} is {training_cost[i]}')"
   ]
  },
  {
   "cell_type": "markdown",
   "metadata": {},
   "source": [
    "The training loss after at each one of the 15 epochs of training is almost stable at 2.3! "
   ]
  },
  {
   "cell_type": "markdown",
   "metadata": {},
   "source": [
    "#### What happens if you play around with the learning rate?"
   ]
  },
  {
   "cell_type": "code",
   "execution_count": 131,
   "metadata": {},
   "outputs": [
    {
     "name": "stdout",
     "output_type": "stream",
     "text": [
      "------------------\n",
      "Eta:  1e-06\n"
     ]
    },
    {
     "name": "stderr",
     "output_type": "stream",
     "text": [
      "100%|██████████| 10/10 [00:18<00:00,  1.89s/it]\n"
     ]
    },
    {
     "name": "stdout",
     "output_type": "stream",
     "text": [
      "Cost at training epoch 1 is 2.30260046125\n",
      "Cost at training epoch 2 is 2.3026003916138555\n",
      "Cost at training epoch 3 is 2.302600325471149\n",
      "Cost at training epoch 4 is 2.3026002626463438\n",
      "Cost at training epoch 5 is 2.3026002029724792\n",
      "Cost at training epoch 6 is 2.3026001462910486\n",
      "Cost at training epoch 7 is 2.3026000924515975\n",
      "Cost at training epoch 8 is 2.302600041311279\n",
      "Cost at training epoch 9 is 2.3025999927344216\n",
      "Cost at training epoch 10 is 2.3025999465922684\n",
      "------------------\n",
      "Eta:  1e-05\n"
     ]
    },
    {
     "name": "stderr",
     "output_type": "stream",
     "text": [
      "100%|██████████| 10/10 [00:17<00:00,  1.73s/it]\n"
     ]
    },
    {
     "name": "stdout",
     "output_type": "stream",
     "text": [
      "Cost at training epoch 1 is 2.3025999005718703\n",
      "Cost at training epoch 2 is 2.302599205749114\n",
      "Cost at training epoch 3 is 2.3025985468529453\n",
      "Cost at training epoch 4 is 2.3025979219724637\n",
      "Cost at training epoch 5 is 2.302597329300965\n",
      "Cost at training epoch 6 is 2.302596767131986\n",
      "Cost at training epoch 7 is 2.3025962338540733\n",
      "Cost at training epoch 8 is 2.302595727947948\n",
      "Cost at training epoch 9 is 2.3025952479739393\n",
      "Cost at training epoch 10 is 2.3025947925707957\n",
      "------------------\n",
      "Eta:  0.0001\n"
     ]
    },
    {
     "name": "stderr",
     "output_type": "stream",
     "text": [
      "100%|██████████| 10/10 [00:17<00:00,  1.72s/it]\n"
     ]
    },
    {
     "name": "stdout",
     "output_type": "stream",
     "text": [
      "Cost at training epoch 1 is 2.3025943342251414\n",
      "Cost at training epoch 2 is 2.30258753778816\n",
      "Cost at training epoch 3 is 2.3025811965366985\n",
      "Cost at training epoch 4 is 2.302575274681294\n",
      "Cost at training epoch 5 is 2.3025697397215943\n",
      "Cost at training epoch 6 is 2.3025645621776087\n",
      "Cost at training epoch 7 is 2.3025597151526602\n",
      "Cost at training epoch 8 is 2.302555174170237\n",
      "Cost at training epoch 9 is 2.302550916949251\n",
      "Cost at training epoch 10 is 2.302546923101441\n",
      "------------------\n",
      "Eta:  0.001\n"
     ]
    },
    {
     "name": "stderr",
     "output_type": "stream",
     "text": [
      "100%|██████████| 10/10 [00:16<00:00,  1.70s/it]\n"
     ]
    },
    {
     "name": "stdout",
     "output_type": "stream",
     "text": [
      "Cost at training epoch 1 is 2.302542530097267\n",
      "Cost at training epoch 2 is 2.3024880377323287\n",
      "Cost at training epoch 3 is 2.302444833211863\n",
      "Cost at training epoch 4 is 2.3024102404890057\n",
      "Cost at training epoch 5 is 2.302382282712888\n",
      "Cost at training epoch 6 is 2.3023594877124416\n",
      "Cost at training epoch 7 is 2.3023407475778948\n",
      "Cost at training epoch 8 is 2.302325219905004\n",
      "Cost at training epoch 9 is 2.3023122586043185\n",
      "Cost at training epoch 10 is 2.3023013637986485\n",
      "------------------\n",
      "Eta:  0.01\n"
     ]
    },
    {
     "name": "stderr",
     "output_type": "stream",
     "text": [
      "100%|██████████| 10/10 [00:17<00:00,  1.73s/it]\n"
     ]
    },
    {
     "name": "stdout",
     "output_type": "stream",
     "text": [
      "Cost at training epoch 1 is 2.3022832235898933\n",
      "Cost at training epoch 2 is 2.3022314934409445\n",
      "Cost at training epoch 3 is 2.3022246500421755\n",
      "Cost at training epoch 4 is 2.302222636213854\n",
      "Cost at training epoch 5 is 2.302221210438927\n",
      "Cost at training epoch 6 is 2.302219944464948\n",
      "Cost at training epoch 7 is 2.3022188047640544\n",
      "Cost at training epoch 8 is 2.3022177857331054\n",
      "Cost at training epoch 9 is 2.3022168786733173\n",
      "Cost at training epoch 10 is 2.3022160723738483\n",
      "------------------\n",
      "Eta:  0.1\n"
     ]
    },
    {
     "name": "stderr",
     "output_type": "stream",
     "text": [
      "100%|██████████| 10/10 [00:18<00:00,  1.90s/it]"
     ]
    },
    {
     "name": "stdout",
     "output_type": "stream",
     "text": [
      "Cost at training epoch 1 is 2.304083147255321\n",
      "Cost at training epoch 2 is 2.3040527762143457\n",
      "Cost at training epoch 3 is 2.3040247984649436\n",
      "Cost at training epoch 4 is 2.303963513926076\n",
      "Cost at training epoch 5 is 2.1974427096362485\n",
      "Cost at training epoch 6 is 2.007216352396664\n",
      "Cost at training epoch 7 is 1.8656019902160936\n",
      "Cost at training epoch 8 is 1.7714920839464587\n",
      "Cost at training epoch 9 is 1.6672864486126826\n",
      "Cost at training epoch 10 is 1.593195430942723\n"
     ]
    },
    {
     "name": "stderr",
     "output_type": "stream",
     "text": [
      "\n"
     ]
    }
   ],
   "source": [
    "for eta in [1e-6, 1e-5, 1e-4, 1e-3, 1e-2, 0.1]:\n",
    "\n",
    "    weights, biases = initialize_weights([[50, 3072], [30, 50], [10,30]])\n",
    "\n",
    "    print('------------------')\n",
    "    print('Eta: ', eta)\n",
    "    GD_params = [100, eta, 10]\n",
    "\n",
    "    weights, biases, training_cost, validation_cost = MiniBatchGDwithMomentum(X_training_1,\n",
    "                                                                              Y_training_1,\n",
    "                                                                              X_training_2,\n",
    "                                                                              Y_training_2,\n",
    "                                                                              y_training_2,\n",
    "                                                                              GD_params,\n",
    "                                                                              weights, biases,\n",
    "                                                                              regularization_term=0.0001)\n",
    "\n",
    "    for i in range(len(training_cost)):\n",
    "        print(f'Cost at training epoch {i+1} is {training_cost[i]}')"
   ]
  },
  {
   "cell_type": "markdown",
   "metadata": {},
   "source": [
    "Again, the loss remains at the same levels no matter how many update steps take part in the training! Only with a fairly big learning rate of 0.1 we can see a small drop in the loss, but again a few epochs in the beginning where the loss remain stable can be observed! We can also suspect that with such a big learning rate, the learning might be unstable. The last experiment is conducted for more epochs:"
   ]
  },
  {
   "cell_type": "code",
   "execution_count": 132,
   "metadata": {},
   "outputs": [
    {
     "name": "stdout",
     "output_type": "stream",
     "text": [
      "------------------\n",
      "Eta:  0.1\n"
     ]
    },
    {
     "name": "stderr",
     "output_type": "stream",
     "text": [
      "100%|██████████| 40/40 [01:09<00:00,  1.74s/it]"
     ]
    },
    {
     "name": "stdout",
     "output_type": "stream",
     "text": [
      "Cost at training epoch 1 is 2.304083147255321\n",
      "Cost at training epoch 2 is 2.3040527762143457\n",
      "Cost at training epoch 3 is 2.3040247984649436\n",
      "Cost at training epoch 4 is 2.303963513926076\n",
      "Cost at training epoch 5 is 2.1974427096362485\n",
      "Cost at training epoch 6 is 2.007216352396664\n",
      "Cost at training epoch 7 is 1.8656019902160936\n",
      "Cost at training epoch 8 is 1.7714920839464587\n",
      "Cost at training epoch 9 is 1.6672864486126826\n",
      "Cost at training epoch 10 is 1.593195430942723\n",
      "Cost at training epoch 11 is 1.5485123476073677\n",
      "Cost at training epoch 12 is 1.4758706564115107\n",
      "Cost at training epoch 13 is 1.4193924744826478\n",
      "Cost at training epoch 14 is 1.3805438066881317\n",
      "Cost at training epoch 15 is 1.368697249854167\n",
      "Cost at training epoch 16 is 1.3265087669239681\n",
      "Cost at training epoch 17 is 1.2723064324945854\n",
      "Cost at training epoch 18 is 1.2625014563672678\n",
      "Cost at training epoch 19 is 1.2666867686005\n",
      "Cost at training epoch 20 is 1.25163518706638\n",
      "Cost at training epoch 21 is 1.1950692780730536\n",
      "Cost at training epoch 22 is 1.1405550951346806\n",
      "Cost at training epoch 23 is 1.0933375948769273\n",
      "Cost at training epoch 24 is 1.0584354555304865\n",
      "Cost at training epoch 25 is 1.0211788369490433\n",
      "Cost at training epoch 26 is 1.0002588070688778\n",
      "Cost at training epoch 27 is 0.9777619847054716\n",
      "Cost at training epoch 28 is 0.9753313784903359\n",
      "Cost at training epoch 29 is 0.9558171620564835\n",
      "Cost at training epoch 30 is 0.9544156273418551\n",
      "Cost at training epoch 31 is 0.9515871093045444\n",
      "Cost at training epoch 32 is 0.93641149448918\n",
      "Cost at training epoch 33 is 0.9511512546042148\n",
      "Cost at training epoch 34 is 0.8900400762553463\n",
      "Cost at training epoch 35 is 0.891207534551131\n",
      "Cost at training epoch 36 is 0.840768908056229\n",
      "Cost at training epoch 37 is 0.8274775595253576\n",
      "Cost at training epoch 38 is 0.799688813021933\n",
      "Cost at training epoch 39 is 0.7950914142037012\n",
      "Cost at training epoch 40 is 0.7716458010015995\n"
     ]
    },
    {
     "name": "stderr",
     "output_type": "stream",
     "text": [
      "\n"
     ]
    }
   ],
   "source": [
    "weights, biases = initialize_weights([[50, 3072], [30, 50], [10,30]])\n",
    "\n",
    "print('------------------')\n",
    "print('Eta: ', 0.1)\n",
    "GD_params = [100, 0.1, 40]\n",
    "\n",
    "weights, biases, training_cost, validation_cost = MiniBatchGDwithMomentum(X_training_1,\n",
    "                                                                          Y_training_1,\n",
    "                                                                          X_training_2,\n",
    "                                                                          Y_training_2,\n",
    "                                                                          y_training_2,\n",
    "                                                                          GD_params,\n",
    "                                                                          weights, biases,\n",
    "                                                                          regularization_term=0.0001)\n",
    "\n",
    "for i in range(len(training_cost)):\n",
    "    print(f'Cost at training epoch {i+1} is {training_cost[i]}')"
   ]
  },
  {
   "cell_type": "code",
   "execution_count": 134,
   "metadata": {},
   "outputs": [
    {
     "data": {
      "image/png": "[encoded data removed]",
      "text/plain": [
       "<Figure size 432x288 with 1 Axes>"
      ]
     },
     "metadata": {},
     "output_type": "display_data"
    },
    {
     "data": {
      "text/plain": [
       "<Figure size 432x288 with 0 Axes>"
      ]
     },
     "metadata": {},
     "output_type": "display_data"
    }
   ],
   "source": [
    "visualize_costs(training_cost, validation_cost, display=True)"
   ]
  },
  {
   "cell_type": "markdown",
   "metadata": {},
   "source": [
    "Overfitting with this setting, and it occurs very fast!"
   ]
  },
  {
   "cell_type": "markdown",
   "metadata": {},
   "source": [
    "#### What happens if you use He initialization?"
   ]
  },
  {
   "cell_type": "code",
   "execution_count": 139,
   "metadata": {},
   "outputs": [
    {
     "name": "stderr",
     "output_type": "stream",
     "text": [
      "100%|██████████| 10/10 [00:16<00:00,  1.66s/it]"
     ]
    },
    {
     "name": "stdout",
     "output_type": "stream",
     "text": [
      "Cost of training with He initialization at epoch 1 is 2.573371144365728\n",
      "Cost of training with He initialization at epoch 2 is 2.4388440346442506\n",
      "Cost of training with He initialization at epoch 3 is 2.3685662732480903\n",
      "Cost of training with He initialization at epoch 4 is 2.3142257340862384\n",
      "Cost of training with He initialization at epoch 5 is 2.272922477058916\n",
      "Cost of training with He initialization at epoch 6 is 2.236912218216597\n",
      "Cost of training with He initialization at epoch 7 is 2.2052890641621268\n",
      "Cost of training with He initialization at epoch 8 is 2.1762496203378463\n",
      "Cost of training with He initialization at epoch 9 is 2.1514607505444694\n",
      "Cost of training with He initialization at epoch 10 is 2.1297865298452456\n"
     ]
    },
    {
     "name": "stderr",
     "output_type": "stream",
     "text": [
      "\n"
     ]
    }
   ],
   "source": [
    "weights_he, biases_he = he_initialization_k_layers([[50, 3072], [30, 50], [10, 30]])\n",
    "\n",
    "GD_params = [100, 0.0171384811847413, 10]\n",
    "\n",
    "weights_he, biases_he, training_cost_he, validation_cost_he = MiniBatchGDwithMomentum(X_training_1,\n",
    "                                                                          Y_training_1,\n",
    "                                                                          X_training_2,\n",
    "                                                                          Y_training_2,\n",
    "                                                                          y_training_2,\n",
    "                                                                          GD_params,\n",
    "                                                                          weights_he, biases_he,\n",
    "                                                                          regularization_term=0.0001)\n",
    "\n",
    "for i in range(len(training_cost_he)):\n",
    "    print(f'Cost of training with He initialization at epoch {i+1} is {training_cost_he[i]}')"
   ]
  },
  {
   "cell_type": "markdown",
   "metadata": {},
   "source": [
    "Although the loss does not remain stable, we don't observe much of a change. Again, we try for some more epochs and now plot the evolution:"
   ]
  },
  {
   "cell_type": "code",
   "execution_count": 140,
   "metadata": {},
   "outputs": [
    {
     "name": "stderr",
     "output_type": "stream",
     "text": [
      "100%|██████████| 40/40 [01:06<00:00,  1.67s/it]\n"
     ]
    }
   ],
   "source": [
    "weights_he, biases_he = he_initialization_k_layers([[50, 3072], [30, 50], [10, 30]])\n",
    "\n",
    "GD_params = [100, 0.0171384811847413, 40]\n",
    "\n",
    "weights_he, biases_he, training_cost_he, validation_cost_he = MiniBatchGDwithMomentum(X_training_1,\n",
    "                                                                          Y_training_1,\n",
    "                                                                          X_training_2,\n",
    "                                                                          Y_training_2,\n",
    "                                                                          y_training_2,\n",
    "                                                                          GD_params,\n",
    "                                                                          weights_he, biases_he,\n",
    "                                                                          regularization_term=0.0001)\n",
    "\n"
   ]
  },
  {
   "cell_type": "code",
   "execution_count": 141,
   "metadata": {},
   "outputs": [
    {
     "data": {
      "image/png": "[encoded data removed]",
      "text/plain": [
       "<Figure size 432x288 with 1 Axes>"
      ]
     },
     "metadata": {},
     "output_type": "display_data"
    },
    {
     "data": {
      "text/plain": [
       "<Figure size 432x288 with 0 Axes>"
      ]
     },
     "metadata": {},
     "output_type": "display_data"
    }
   ],
   "source": [
    "visualize_costs(training_cost_he, validation_cost_he, display=True)"
   ]
  },
  {
   "cell_type": "markdown",
   "metadata": {},
   "source": [
    "Smoother than earlier tries, but still overfitting after few epochs."
   ]
  },
  {
   "cell_type": "markdown",
   "metadata": {},
   "source": [
    "### EXERCISE 3: Implement batch normalization"
   ]
  },
  {
   "cell_type": "markdown",
   "metadata": {},
   "source": [
    "#### Check your analytical gradients computation in comparison with the numerical ones for 2 layers and 50 hidden nodes"
   ]
  },
  {
   "cell_type": "markdown",
   "metadata": {},
   "source": [
    "Compare for 2 layers:"
   ]
  },
  {
   "cell_type": "code",
   "execution_count": 120,
   "metadata": {},
   "outputs": [
    {
     "name": "stdout",
     "output_type": "stream",
     "text": [
      "-----------------\n",
      "Layer no. 1:\n",
      "Deviation on weight matrix: 1.2597928505427309e-08\n",
      "Deviation on bias vector: 0.04489583333333333\n",
      "-----------------\n",
      "Layer no. 2:\n",
      "Deviation on weight matrix: 1.061126355032502e-09\n",
      "Deviation on bias vector: 1.085592909420537e-09\n"
     ]
    }
   ],
   "source": [
    "weights, biases = initialize_weights([[50, 3072], [10, 50]])\n",
    "\n",
    "p, batch_normalization_activations, batch_normalization_outputs, intermediate_outputs, means, variances = ForwardPassBatchNormalization(X_training_1[:, :4], weights, biases)\n",
    "weights_2, biases_2 = BackwardPassBatchNormalization(X_training_1[:, :4], Y_training_1[:, :4], weights, biases, p, batch_normalization_outputs, batch_normalization_activations, intermediate_outputs, means, variances, regularization_term=0)\n",
    "\n",
    "two_layers = np.load('2_layers.npz')\n",
    "\n",
    "check_similarity(weights_2, biases_2, [two_layers['w0'], two_layers['w1'] ], [two_layers['b0'], two_layers['b1']])"
   ]
  },
  {
   "cell_type": "markdown",
   "metadata": {},
   "source": [
    "Compare for 3 layers:"
   ]
  },
  {
   "cell_type": "code",
   "execution_count": 121,
   "metadata": {
    "collapsed": true
   },
   "outputs": [
    {
     "name": "stderr",
     "output_type": "stream",
     "text": [
      "\n",
      "  0%|          | 0/50 [00:00<?, ?it/s]\u001b[A\n",
      " 18%|█▊        | 9/50 [00:00<00:00, 89.05it/s]\u001b[A\n",
      " 38%|███▊      | 19/50 [00:00<00:00, 90.29it/s]\u001b[A\n",
      " 58%|█████▊    | 29/50 [00:00<00:00, 90.56it/s]\u001b[A\n",
      " 76%|███████▌  | 38/50 [00:00<00:00, 89.08it/s]\u001b[A\n",
      " 96%|█████████▌| 48/50 [00:00<00:00, 90.29it/s]\u001b[A\n",
      "100%|██████████| 50/50 [00:00<00:00, 90.52it/s]\u001b[A\n",
      "  0%|          | 0/50 [00:00<?, ?it/s]\u001b[A\n",
      "  2%|▏         | 1/50 [00:29<23:42, 29.03s/it]\u001b[A\n",
      "  4%|▍         | 2/50 [00:57<23:05, 28.86s/it]\u001b[A\n",
      "  6%|▌         | 3/50 [01:26<22:30, 28.73s/it]\u001b[A\n",
      "  8%|▊         | 4/50 [01:54<21:57, 28.65s/it]\u001b[A\n",
      " 10%|█         | 5/50 [02:22<21:26, 28.59s/it]\u001b[A\n",
      " 12%|█▏        | 6/50 [02:51<20:56, 28.57s/it]\u001b[A\n",
      " 14%|█▍        | 7/50 [03:19<20:26, 28.53s/it]\u001b[A\n",
      " 16%|█▌        | 8/50 [03:48<20:00, 28.58s/it]\u001b[A\n",
      " 18%|█▊        | 9/50 [04:18<19:39, 28.77s/it]\u001b[A\n",
      " 20%|██        | 10/50 [04:47<19:11, 28.79s/it]\u001b[A\n",
      " 22%|██▏       | 11/50 [05:16<18:42, 28.77s/it]\u001b[A\n",
      " 24%|██▍       | 12/50 [05:45<18:14, 28.80s/it]\u001b[A\n",
      " 26%|██▌       | 13/50 [06:14<17:45, 28.80s/it]\u001b[A\n",
      " 28%|██▊       | 14/50 [06:43<17:17, 28.82s/it]\u001b[A\n",
      " 30%|███       | 15/50 [07:12<16:48, 28.81s/it]\u001b[A\n",
      " 32%|███▏      | 16/50 [07:40<16:19, 28.80s/it]\u001b[A\n",
      " 34%|███▍      | 17/50 [08:09<15:50, 28.80s/it]\u001b[A\n",
      " 36%|███▌      | 18/50 [08:38<15:22, 28.83s/it]\u001b[A\n",
      " 38%|███▊      | 19/50 [09:05<14:49, 28.71s/it]\u001b[A\n",
      " 40%|████      | 20/50 [09:34<14:21, 28.71s/it]\u001b[A\n",
      " 42%|████▏     | 21/50 [10:01<13:50, 28.64s/it]\u001b[A\n",
      " 44%|████▍     | 22/50 [10:28<13:19, 28.57s/it]\u001b[A\n",
      " 46%|████▌     | 23/50 [10:54<12:48, 28.47s/it]\u001b[A\n",
      " 48%|████▊     | 24/50 [11:21<12:18, 28.39s/it]\u001b[A\n",
      " 50%|█████     | 25/50 [11:47<11:47, 28.30s/it]\u001b[A\n",
      " 52%|█████▏    | 26/50 [12:13<11:17, 28.22s/it]\u001b[A\n",
      " 54%|█████▍    | 27/50 [12:40<10:47, 28.16s/it]\u001b[A\n",
      " 56%|█████▌    | 28/50 [13:06<10:18, 28.10s/it]\u001b[A\n",
      " 58%|█████▊    | 29/50 [13:33<09:49, 28.05s/it]\u001b[A\n",
      " 60%|██████    | 30/50 [14:00<09:20, 28.03s/it]\u001b[A\n",
      " 62%|██████▏   | 31/50 [14:27<08:51, 27.98s/it]\u001b[A\n",
      " 64%|██████▍   | 32/50 [14:54<08:22, 27.94s/it]\u001b[A\n",
      " 66%|██████▌   | 33/50 [15:20<07:54, 27.90s/it]\u001b[A\n",
      " 68%|██████▊   | 34/50 [15:47<07:25, 27.85s/it]\u001b[A\n",
      " 70%|███████   | 35/50 [16:13<06:57, 27.81s/it]\u001b[A\n",
      " 72%|███████▏  | 36/50 [16:39<06:28, 27.76s/it]\u001b[A\n",
      " 74%|███████▍  | 37/50 [17:05<06:00, 27.72s/it]\u001b[A\n",
      " 76%|███████▌  | 38/50 [17:31<05:32, 27.68s/it]\u001b[A\n",
      " 78%|███████▊  | 39/50 [17:58<05:04, 27.64s/it]\u001b[A\n",
      " 80%|████████  | 40/50 [18:24<04:36, 27.61s/it]\u001b[A\n",
      " 82%|████████▏ | 41/50 [18:50<04:08, 27.58s/it]\u001b[A\n",
      " 84%|████████▍ | 42/50 [19:16<03:40, 27.55s/it]\u001b[A\n",
      " 86%|████████▌ | 43/50 [19:43<03:12, 27.52s/it]\u001b[A\n",
      " 88%|████████▊ | 44/50 [20:09<02:44, 27.49s/it]\u001b[A\n",
      " 90%|█████████ | 45/50 [20:35<02:17, 27.46s/it]\u001b[A\n",
      " 92%|█████████▏| 46/50 [21:01<01:49, 27.43s/it]\u001b[A\n",
      " 94%|█████████▍| 47/50 [21:27<01:22, 27.40s/it]\u001b[A\n",
      " 96%|█████████▌| 48/50 [21:55<00:54, 27.40s/it]\u001b[A\n",
      " 98%|█████████▊| 49/50 [22:22<00:27, 27.39s/it]\u001b[A\n",
      "100%|██████████| 50/50 [22:48<00:00, 27.37s/it]\u001b[A\n",
      "\u001b[A\n",
      "  0%|          | 0/30 [00:00<?, ?it/s]\u001b[A\n",
      " 37%|███▋      | 11/30 [00:00<00:00, 106.77it/s]\u001b[A\n",
      " 77%|███████▋  | 23/30 [00:00<00:00, 112.16it/s]\u001b[A\n",
      "100%|██████████| 30/30 [00:00<00:00, 111.57it/s]\u001b[A\n",
      "  0%|          | 0/30 [00:00<?, ?it/s]\u001b[A\n",
      "  3%|▎         | 1/30 [00:00<00:12,  2.38it/s]\u001b[A\n",
      "  7%|▋         | 2/30 [00:00<00:11,  2.38it/s]\u001b[A\n",
      " 10%|█         | 3/30 [00:01<00:11,  2.37it/s]\u001b[A\n",
      " 13%|█▎        | 4/30 [00:01<00:10,  2.37it/s]\u001b[A\n",
      " 17%|█▋        | 5/30 [00:02<00:10,  2.38it/s]\u001b[A\n",
      " 20%|██        | 6/30 [00:02<00:10,  2.37it/s]\u001b[A\n",
      " 23%|██▎       | 7/30 [00:02<00:09,  2.36it/s]\u001b[A\n",
      " 27%|██▋       | 8/30 [00:03<00:09,  2.36it/s]\u001b[A\n",
      " 30%|███       | 9/30 [00:03<00:08,  2.36it/s]\u001b[A\n",
      " 33%|███▎      | 10/30 [00:04<00:08,  2.37it/s]\u001b[A\n",
      " 37%|███▋      | 11/30 [00:04<00:08,  2.37it/s]\u001b[A\n",
      " 40%|████      | 12/30 [00:05<00:07,  2.37it/s]\u001b[A\n",
      " 43%|████▎     | 13/30 [00:05<00:07,  2.37it/s]\u001b[A\n",
      " 47%|████▋     | 14/30 [00:05<00:06,  2.36it/s]\u001b[A\n",
      " 50%|█████     | 15/30 [00:06<00:06,  2.37it/s]\u001b[A\n",
      " 53%|█████▎    | 16/30 [00:06<00:05,  2.37it/s]\u001b[A\n",
      " 57%|█████▋    | 17/30 [00:07<00:05,  2.36it/s]\u001b[A\n",
      " 60%|██████    | 18/30 [00:07<00:05,  2.36it/s]\u001b[A\n",
      " 63%|██████▎   | 19/30 [00:08<00:04,  2.36it/s]\u001b[A\n",
      " 67%|██████▋   | 20/30 [00:08<00:04,  2.36it/s]\u001b[A\n",
      " 70%|███████   | 21/30 [00:08<00:03,  2.36it/s]\u001b[A\n",
      " 73%|███████▎  | 22/30 [00:09<00:03,  2.36it/s]\u001b[A\n",
      " 77%|███████▋  | 23/30 [00:09<00:02,  2.36it/s]\u001b[A\n",
      " 80%|████████  | 24/30 [00:10<00:02,  2.36it/s]\u001b[A\n",
      " 83%|████████▎ | 25/30 [00:10<00:02,  2.36it/s]\u001b[A\n",
      " 87%|████████▋ | 26/30 [00:11<00:01,  2.36it/s]\u001b[A\n",
      " 90%|█████████ | 27/30 [00:11<00:01,  2.36it/s]\u001b[A\n",
      " 93%|█████████▎| 28/30 [00:11<00:00,  2.36it/s]\u001b[A\n",
      " 97%|█████████▋| 29/30 [00:12<00:00,  2.36it/s]\u001b[A\n",
      "100%|██████████| 30/30 [00:12<00:00,  2.36it/s]\u001b[A\n",
      "\u001b[A\n",
      "  0%|          | 0/10 [00:00<?, ?it/s]\u001b[A\n",
      "100%|██████████| 10/10 [00:00<00:00, 108.97it/s]\u001b[A\n",
      "  0%|          | 0/10 [00:00<?, ?it/s]\u001b[A\n",
      " 10%|█         | 1/10 [00:00<00:02,  3.69it/s]\u001b[A\n",
      " 20%|██        | 2/10 [00:00<00:02,  3.69it/s]\u001b[A\n",
      " 30%|███       | 3/10 [00:00<00:01,  3.66it/s]\u001b[A\n",
      " 40%|████      | 4/10 [00:01<00:01,  3.71it/s]\u001b[A\n",
      " 50%|█████     | 5/10 [00:01<00:01,  3.75it/s]\u001b[A\n",
      " 60%|██████    | 6/10 [00:01<00:01,  3.78it/s]\u001b[A\n",
      " 70%|███████   | 7/10 [00:01<00:00,  3.79it/s]\u001b[A\n",
      " 80%|████████  | 8/10 [00:02<00:00,  3.80it/s]\u001b[A\n",
      " 90%|█████████ | 9/10 [00:02<00:00,  3.79it/s]\u001b[A\n",
      "100%|██████████| 10/10 [00:02<00:00,  3.80it/s]\u001b[A\n",
      "\u001b[A"
     ]
    }
   ],
   "source": [
    "weights, biases = initialize_weights([[50, 3072], [30, 50], [10, 30]])\n",
    "w3_num, b3_num = ComputeGradsNumSlowBatchNorm(X_training_1[:, :2], Y_training_1[:, :2], weights, biases)"
   ]
  },
  {
   "cell_type": "code",
   "execution_count": 122,
   "metadata": {},
   "outputs": [],
   "source": [
    "np.savez('3_layers_num', w0=w3_num[0], w1=w3_num[1], w2=w3_num[2], b0=b3_num[0], b1=b3_num[1], b2=b3_num[2] )"
   ]
  },
  {
   "cell_type": "code",
   "execution_count": 124,
   "metadata": {},
   "outputs": [],
   "source": [
    "weights, biases = initialize_weights([[50, 3072], [30, 50], [10, 30]])\n",
    "\n",
    "p, batch_normalization_activations, batch_normalization_outputs, intermediate_outputs, means, variances = ForwardPassBatchNormalization(X_training_1[:, :2], weights, biases)\n",
    "weights_3, biases_3= BackwardPassBatchNormalization(X_training_1[:, :2], Y_training_1[:, :2], weights, biases, p, batch_normalization_outputs, batch_normalization_activations, intermediate_outputs, means, variances, regularization_term=0)"
   ]
  },
  {
   "cell_type": "code",
   "execution_count": 125,
   "metadata": {},
   "outputs": [
    {
     "name": "stdout",
     "output_type": "stream",
     "text": [
      "-----------------\n",
      "Layer no. 1:\n",
      "Deviation on weight matrix: 1.4574774508711658e-05\n",
      "Deviation on bias vector: 0.020078843569924645\n",
      "-----------------\n",
      "Layer no. 2:\n",
      "Deviation on weight matrix: 0.0006714264687067433\n",
      "Deviation on bias vector: 0.1015625\n",
      "-----------------\n",
      "Layer no. 3:\n",
      "Deviation on weight matrix: 1.0708749294639795e-11\n",
      "Deviation on bias vector: 1.2260625257832792e-11\n"
     ]
    }
   ],
   "source": [
    "check_similarity(weights_3, biases_3, w3_num, b3_num)"
   ]
  },
  {
   "cell_type": "markdown",
   "metadata": {},
   "source": [
    "#### Overfitting in a small subset of the data"
   ]
  },
  {
   "cell_type": "code",
   "execution_count": 103,
   "metadata": {},
   "outputs": [],
   "source": [
    "GD_params = [100, 0.005770450018576595, 200, 1e-6]\n",
    "regularization_term = 1e-5\n",
    "\n",
    "weights, biases = initialize_weights([[50, 3072], [30, 50], [10, 30]])\n",
    "\n",
    "sanity_training_set = [training_set[0][:, :1000], training_set[1][:, :1000], training_set[2][:1000]]\n",
    "sanity_validation_set = [validation_set[0][:, :1000], validation_set[1][:, :1000], validation_set[2][:1000]]\n",
    "\n",
    "best_weights, best_biases, losses, accuracies, exponentials = \\\n",
    "    MiniBatchGDBatchNormalization(sanity_training_set, sanity_validation_set, GD_params, weights, biases)"
   ]
  },
  {
   "cell_type": "markdown",
   "metadata": {},
   "source": [
    "Plotting the loss evolution"
   ]
  },
  {
   "cell_type": "code",
   "execution_count": 105,
   "metadata": {},
   "outputs": [
    {
     "data": {
      "image/png": "[encoded data removed]",
      "text/plain": [
       "<Figure size 432x288 with 1 Axes>"
      ]
     },
     "metadata": {},
     "output_type": "display_data"
    },
    {
     "data": {
      "text/plain": [
       "<Figure size 432x288 with 0 Axes>"
      ]
     },
     "metadata": {},
     "output_type": "display_data"
    }
   ],
   "source": [
    "visualize_plots(losses[0], losses[1], display=True, save_name='overfit')"
   ]
  },
  {
   "cell_type": "markdown",
   "metadata": {},
   "source": [
    "Accuracy on the training set:"
   ]
  },
  {
   "cell_type": "code",
   "execution_count": 106,
   "metadata": {},
   "outputs": [
    {
     "data": {
      "text/plain": [
       "87.7"
      ]
     },
     "execution_count": 106,
     "metadata": {},
     "output_type": "execute_result"
    }
   ],
   "source": [
    "accuracies[0][-1]"
   ]
  },
  {
   "cell_type": "markdown",
   "metadata": {},
   "source": [
    "Accuracy on the validation set"
   ]
  },
  {
   "cell_type": "code",
   "execution_count": 107,
   "metadata": {},
   "outputs": [
    {
     "data": {
      "text/plain": [
       "29.1"
      ]
     },
     "execution_count": 107,
     "metadata": {},
     "output_type": "execute_result"
    }
   ],
   "source": [
    "accuracies[1][-1]"
   ]
  },
  {
   "cell_type": "markdown",
   "metadata": {},
   "source": [
    "#### Random search to estimate good search space for the appropriate values of $\\eta$:"
   ]
  },
  {
   "cell_type": "code",
   "execution_count": 109,
   "metadata": {},
   "outputs": [],
   "source": [
    "def random_search():\n",
    "\n",
    "    for eta in [0.00001, 0.00005, 0.0001, 0.0005, 0.001, 0.005, 0.01, 0.05, 0.1]:\n",
    "        print('-----------------------')\n",
    "        print('eta: ', eta)\n",
    "\n",
    "        GD_params = [100, eta, 5, 1e-6]\n",
    "\n",
    "        weights, biases = initialize_weights([[50, 3072], [30, 50], [10, 30]])\n",
    "\n",
    "        best_weights, best_biases, losses, accuracies, exponentials = \\\n",
    "            MiniBatchGDBatchNormalization( training_set, validation_set, GD_params, weights, biases)\n",
    "\n",
    "        for epoch, loss in enumerate(losses[0]):\n",
    "            print(f'Cross-entropy loss at epoch no.{epoch}: {loss}')\n",
    "        print()\n",
    "\n",
    "        print(f'Validation set accuracy: {accuracies[1][-1]}')\n",
    "\n",
    "    for eta in np.arange(0.15, 1.05, 0.05):\n",
    "\n",
    "        print('-----------------------')\n",
    "        print('eta: ', eta)\n",
    "\n",
    "        GD_params = [100, eta, 5, 1e-6]\n",
    "\n",
    "        weights, biases = initialize_weights([[50, 3072], [30, 50], [10, 30]])\n",
    "\n",
    "        best_weights, best_biases, losses, accuracies, exponentials = \\\n",
    "            MiniBatchGDBatchNormalization( training_set, validation_set, GD_params, weights, biases)\n",
    "\n",
    "        for epoch, loss in enumerate(losses[0]):\n",
    "            print(f'Cross-entropy loss at epoch no.{epoch}: {loss}')\n",
    "        print()\n",
    "\n",
    "        print(f'Validation set accuracy: {accuracies[1][-1]}')\n"
   ]
  },
  {
   "cell_type": "code",
   "execution_count": 110,
   "metadata": {},
   "outputs": [
    {
     "name": "stdout",
     "output_type": "stream",
     "text": [
      "-----------------------\n",
      "eta:  1e-05\n",
      "Cross-entropy loss at epoch no.0: 2.300940637827643\n",
      "Cross-entropy loss at epoch no.1: 2.299669290818701\n",
      "Cross-entropy loss at epoch no.2: 2.2983365258719144\n",
      "Cross-entropy loss at epoch no.3: 2.296825573155785\n",
      "Cross-entropy loss at epoch no.4: 2.29514799551169\n",
      "\n",
      "Validation set accuracy: 25.47\n",
      "-----------------------\n",
      "eta:  5e-05\n",
      "Cross-entropy loss at epoch no.0: 2.2940423358444164\n",
      "Cross-entropy loss at epoch no.1: 2.2778462053711976\n",
      "Cross-entropy loss at epoch no.2: 2.2602618359967477\n",
      "Cross-entropy loss at epoch no.3: 2.245066425624888\n",
      "Cross-entropy loss at epoch no.4: 2.2323214647328973\n",
      "\n",
      "Validation set accuracy: 28.86\n",
      "-----------------------\n",
      "eta:  0.0001\n",
      "Cross-entropy loss at epoch no.0: 2.2767157568904524\n",
      "Cross-entropy loss at epoch no.1: 2.232760813084972\n",
      "Cross-entropy loss at epoch no.2: 2.205511844552056\n",
      "Cross-entropy loss at epoch no.3: 2.184144268532671\n",
      "Cross-entropy loss at epoch no.4: 2.154475799919331\n",
      "\n",
      "Validation set accuracy: 30.64\n",
      "-----------------------\n",
      "eta:  0.0005\n",
      "Cross-entropy loss at epoch no.0: 2.042494568211379\n",
      "Cross-entropy loss at epoch no.1: 1.9629265644070875\n",
      "Cross-entropy loss at epoch no.2: 1.9009424281531961\n",
      "Cross-entropy loss at epoch no.3: 1.8308363635129745\n",
      "Cross-entropy loss at epoch no.4: 1.7868787841002982\n",
      "\n",
      "Validation set accuracy: 32.39\n",
      "-----------------------\n",
      "eta:  0.001\n",
      "Cross-entropy loss at epoch no.0: 1.932899851960768\n",
      "Cross-entropy loss at epoch no.1: 1.8687687971635962\n",
      "Cross-entropy loss at epoch no.2: 1.7802339384069434\n",
      "Cross-entropy loss at epoch no.3: 1.7038164747703828\n",
      "Cross-entropy loss at epoch no.4: 1.6487006713872803\n",
      "\n",
      "Validation set accuracy: 36.97\n",
      "-----------------------\n",
      "eta:  0.005\n",
      "Cross-entropy loss at epoch no.0: 1.9483153152751147\n",
      "Cross-entropy loss at epoch no.1: 1.6710447574047944\n",
      "Cross-entropy loss at epoch no.2: 1.5620395463740833\n",
      "Cross-entropy loss at epoch no.3: 1.4851670839877036\n",
      "Cross-entropy loss at epoch no.4: 1.4219918480623808\n",
      "\n",
      "Validation set accuracy: 41.2\n",
      "-----------------------\n",
      "eta:  0.01\n",
      "Cross-entropy loss at epoch no.0: 1.994737750147196\n",
      "Cross-entropy loss at epoch no.1: 1.6793257683605352\n",
      "Cross-entropy loss at epoch no.2: 1.5444665106056084\n",
      "Cross-entropy loss at epoch no.3: 1.4377035423349829\n",
      "Cross-entropy loss at epoch no.4: 1.365752836953463\n",
      "\n",
      "Validation set accuracy: 40.69\n",
      "-----------------------\n",
      "eta:  0.05\n",
      "Cross-entropy loss at epoch no.0: 1.9682986753246798\n",
      "Cross-entropy loss at epoch no.1: 1.6058833391218457\n",
      "Cross-entropy loss at epoch no.2: 1.4699930382479256\n",
      "Cross-entropy loss at epoch no.3: 1.3671548352967158\n",
      "Cross-entropy loss at epoch no.4: 1.2662952851246054\n",
      "\n",
      "Validation set accuracy: 42.95\n",
      "-----------------------\n",
      "eta:  0.1\n",
      "Cross-entropy loss at epoch no.0: 1.9299902393340918\n",
      "Cross-entropy loss at epoch no.1: 1.6405928879246336\n",
      "Cross-entropy loss at epoch no.2: 1.4607238321797935\n",
      "Cross-entropy loss at epoch no.3: 1.3659752040926578\n",
      "Cross-entropy loss at epoch no.4: 1.293284327027495\n",
      "\n",
      "Validation set accuracy: 41.77\n",
      "-----------------------\n",
      "eta:  0.15\n",
      "Cross-entropy loss at epoch no.0: 1.843743677113901\n",
      "Cross-entropy loss at epoch no.1: 1.6152777722210843\n",
      "Cross-entropy loss at epoch no.2: 1.4799598263003277\n",
      "Cross-entropy loss at epoch no.3: 1.3863887321370874\n",
      "Cross-entropy loss at epoch no.4: 1.316463110978535\n",
      "\n",
      "Validation set accuracy: 40.26\n",
      "-----------------------\n",
      "eta:  0.2\n",
      "Cross-entropy loss at epoch no.0: 1.9036433985880226\n",
      "Cross-entropy loss at epoch no.1: 1.5775528005577721\n",
      "Cross-entropy loss at epoch no.2: 1.4794509305751178\n",
      "Cross-entropy loss at epoch no.3: 1.3984196367275337\n",
      "Cross-entropy loss at epoch no.4: 1.3414082193024073\n",
      "\n",
      "Validation set accuracy: 39.81\n",
      "-----------------------\n",
      "eta:  0.25\n",
      "Cross-entropy loss at epoch no.0: 1.9159216474982974\n",
      "Cross-entropy loss at epoch no.1: 1.579991488348946\n",
      "Cross-entropy loss at epoch no.2: 1.4924650412597396\n",
      "Cross-entropy loss at epoch no.3: 1.4307909741310976\n",
      "Cross-entropy loss at epoch no.4: 1.3750541742594256\n",
      "\n",
      "Validation set accuracy: 38.91\n",
      "-----------------------\n",
      "eta:  0.30000000000000004\n",
      "Cross-entropy loss at epoch no.0: 1.8226791613279172\n",
      "Cross-entropy loss at epoch no.1: 1.5643558509218771\n",
      "Cross-entropy loss at epoch no.2: 1.4549180572404248\n",
      "Cross-entropy loss at epoch no.3: 1.398675078606743\n",
      "Cross-entropy loss at epoch no.4: 1.3400458132368962\n",
      "\n",
      "Validation set accuracy: 40.19\n",
      "-----------------------\n",
      "eta:  0.3500000000000001\n",
      "Cross-entropy loss at epoch no.0: 1.811609616435694\n",
      "Cross-entropy loss at epoch no.1: 1.5571273981880762\n",
      "Cross-entropy loss at epoch no.2: 1.4547043025333206\n",
      "Cross-entropy loss at epoch no.3: 1.3552651444543584\n",
      "Cross-entropy loss at epoch no.4: 1.28827541549588\n",
      "\n",
      "Validation set accuracy: 40.52\n",
      "-----------------------\n",
      "eta:  0.40000000000000013\n",
      "Cross-entropy loss at epoch no.0: 1.872837034821454\n",
      "Cross-entropy loss at epoch no.1: 1.5692940813574874\n",
      "Cross-entropy loss at epoch no.2: 1.452920248516156\n",
      "Cross-entropy loss at epoch no.3: 1.3994985453523332\n",
      "Cross-entropy loss at epoch no.4: 1.3535484606885966\n",
      "\n",
      "Validation set accuracy: 39.75\n",
      "-----------------------\n",
      "eta:  0.45000000000000007\n",
      "Cross-entropy loss at epoch no.0: 1.961192328935511\n",
      "Cross-entropy loss at epoch no.1: 1.6143405257435697\n",
      "Cross-entropy loss at epoch no.2: 1.5099909522652724\n",
      "Cross-entropy loss at epoch no.3: 1.46587777418446\n",
      "Cross-entropy loss at epoch no.4: 1.37791597921444\n",
      "\n",
      "Validation set accuracy: 39.59\n",
      "-----------------------\n",
      "eta:  0.5000000000000001\n",
      "Cross-entropy loss at epoch no.0: 2.008141856637977\n",
      "Cross-entropy loss at epoch no.1: 1.6288973087268797\n",
      "Cross-entropy loss at epoch no.2: 1.5467142777608862\n",
      "Cross-entropy loss at epoch no.3: 1.4247857246895381\n",
      "Cross-entropy loss at epoch no.4: 1.355778019918179\n",
      "\n",
      "Validation set accuracy: 39.58\n",
      "-----------------------\n",
      "eta:  0.5500000000000002\n",
      "Cross-entropy loss at epoch no.0: 1.9702510891096467\n",
      "Cross-entropy loss at epoch no.1: 1.6436333327265777\n",
      "Cross-entropy loss at epoch no.2: 1.4832629300868327\n",
      "Cross-entropy loss at epoch no.3: 1.4336702834803314\n",
      "Cross-entropy loss at epoch no.4: 1.4053472692296674\n",
      "\n",
      "Validation set accuracy: 38.74\n",
      "-----------------------\n",
      "eta:  0.6000000000000002\n",
      "Cross-entropy loss at epoch no.0: 2.009223813781141\n",
      "Cross-entropy loss at epoch no.1: 1.6459645180766886\n",
      "Cross-entropy loss at epoch no.2: 1.4705362356947926\n",
      "Cross-entropy loss at epoch no.3: 1.3703912694721088\n",
      "Cross-entropy loss at epoch no.4: 1.3315907160687839\n",
      "\n",
      "Validation set accuracy: 40.52\n",
      "-----------------------\n",
      "eta:  0.6500000000000002\n",
      "Cross-entropy loss at epoch no.0: 2.16563610589264\n",
      "Cross-entropy loss at epoch no.1: 1.6783457307703\n",
      "Cross-entropy loss at epoch no.2: 1.5182506353106433\n",
      "Cross-entropy loss at epoch no.3: 1.421302627174497\n",
      "Cross-entropy loss at epoch no.4: 1.36956902698227\n",
      "\n",
      "Validation set accuracy: 39.41\n",
      "-----------------------\n",
      "eta:  0.7000000000000002\n",
      "Cross-entropy loss at epoch no.0: 2.163270279726048\n",
      "Cross-entropy loss at epoch no.1: 1.6385114252156745\n",
      "Cross-entropy loss at epoch no.2: 1.5059083631797916\n",
      "Cross-entropy loss at epoch no.3: 1.4126446302395776\n",
      "Cross-entropy loss at epoch no.4: 1.3566047887443353\n",
      "\n",
      "Validation set accuracy: 40.07\n",
      "-----------------------\n",
      "eta:  0.7500000000000002\n",
      "Cross-entropy loss at epoch no.0: 2.1120337240936418\n",
      "Cross-entropy loss at epoch no.1: 1.6422545035832716\n",
      "Cross-entropy loss at epoch no.2: 1.5011983952140777\n",
      "Cross-entropy loss at epoch no.3: 1.3949069318032634\n",
      "Cross-entropy loss at epoch no.4: 1.3717283309924477\n",
      "\n",
      "Validation set accuracy: 39.51\n",
      "-----------------------\n",
      "eta:  0.8000000000000003\n",
      "Cross-entropy loss at epoch no.0: 2.131553177109477\n",
      "Cross-entropy loss at epoch no.1: 1.7595138129347132\n",
      "Cross-entropy loss at epoch no.2: 1.5239872407050965\n",
      "Cross-entropy loss at epoch no.3: 1.4437056839630897\n",
      "Cross-entropy loss at epoch no.4: 1.3871794325636528\n",
      "\n",
      "Validation set accuracy: 39.28\n",
      "-----------------------\n",
      "eta:  0.8500000000000002\n",
      "Cross-entropy loss at epoch no.0: 2.158708893790539\n",
      "Cross-entropy loss at epoch no.1: 1.7578683139310105\n",
      "Cross-entropy loss at epoch no.2: 1.5658770779047593\n",
      "Cross-entropy loss at epoch no.3: 1.399026818980427\n",
      "Cross-entropy loss at epoch no.4: 1.32958269477337\n",
      "\n",
      "Validation set accuracy: 40.2\n",
      "-----------------------\n",
      "eta:  0.9000000000000002\n",
      "Cross-entropy loss at epoch no.0: 2.1842933566761293\n",
      "Cross-entropy loss at epoch no.1: 1.96129338985866\n",
      "Cross-entropy loss at epoch no.2: 1.695237724078359\n",
      "Cross-entropy loss at epoch no.3: 1.5150423200256287\n",
      "Cross-entropy loss at epoch no.4: 1.3670398786230258\n",
      "\n",
      "Validation set accuracy: 38.7\n",
      "-----------------------\n",
      "eta:  0.9500000000000003\n"
     ]
    },
    {
     "name": "stdout",
     "output_type": "stream",
     "text": [
      "Cross-entropy loss at epoch no.0: 2.0915352774502596\n",
      "Cross-entropy loss at epoch no.1: 1.8160476790673439\n",
      "Cross-entropy loss at epoch no.2: 1.649882100570904\n",
      "Cross-entropy loss at epoch no.3: 1.4660425503973518\n",
      "Cross-entropy loss at epoch no.4: 1.3493353767229237\n",
      "\n",
      "Validation set accuracy: 40.52\n",
      "-----------------------\n",
      "eta:  1.0000000000000002\n",
      "Cross-entropy loss at epoch no.0: 2.2478320224232\n",
      "Cross-entropy loss at epoch no.1: 1.8811198975399477\n",
      "Cross-entropy loss at epoch no.2: 1.6018171940624504\n",
      "Cross-entropy loss at epoch no.3: 1.5429902913137759\n",
      "Cross-entropy loss at epoch no.4: 1.3975270542415659\n",
      "\n",
      "Validation set accuracy: 40.14\n"
     ]
    }
   ],
   "source": [
    "random_search()"
   ]
  },
  {
   "cell_type": "code",
   "execution_count": 118,
   "metadata": {},
   "outputs": [],
   "source": [
    "def coarse_search():\n",
    "    \"\"\"\n",
    "    First step of coarse search, where good values for eta derived from random_search are tested along\n",
    "    with many tries for the amount of regularization.\n",
    "\n",
    "    :return: None\n",
    "    \"\"\"\n",
    "\n",
    "    best_accuracies = []\n",
    "    etas = []\n",
    "    lambdas = []\n",
    "\n",
    "    for regularization_term in [1e-6, 1e-5, 1e-4, 1e-3, 1e-2]:\n",
    "\n",
    "        e_min = np.log(0.005)\n",
    "        e_max = np.log(0.1)\n",
    "\n",
    "        for _ in range(30):\n",
    "\n",
    "            np.random.seed()\n",
    "            eta_term = np.random.rand(1, 1).flatten()[0]\n",
    "            e = e_min + (e_max - e_min) * eta_term\n",
    "            eta = np.exp(e)\n",
    "            etas.append(eta)\n",
    "\n",
    "            lambdas.append(regularization_term)\n",
    "\n",
    "            GD_params = [100, eta, 10, regularization_term]\n",
    "\n",
    "            weights, biases = initialize_weights([[50, 3072], [30, 50], [10, 30]])\n",
    "\n",
    "            best_weights, best_biases, losses, accuracies, exponentials = \\\n",
    "                MiniBatchGDBatchNormalization( training_set, validation_set, GD_params, weights, biases)\n",
    "\n",
    "            print('---------------------------------')\n",
    "            print(f'Learning rate: {eta}, amount of regularization term: {regularization_term}')\n",
    "            best_accuracies.append(max(accuracies[1]))\n",
    "            print(f'Accuracy performance on the validation set: {best_accuracies[-1]}')\n",
    "\n",
    "    sort_them_all = sorted(zip(best_accuracies, etas, lambdas))\n",
    "\n",
    "    best_accuracies = [x for x, _, _ in sort_them_all]\n",
    "    best_etas = [y for _, y, _ in sort_them_all]\n",
    "    best_lambdas = [z for _, _, z in sort_them_all]\n",
    "\n",
    "    print('---------------------------------')\n",
    "    print('BEST PERFORMANCE: ', str(best_accuracies[-1]))\n",
    "    print('Best eta: ', best_etas[-1])\n",
    "    print('Best lambda: ', best_lambdas[-1])\n",
    "\n",
    "    print('---------------------------------')\n",
    "    print('SECOND BEST PERFORMANCE: ', str(best_accuracies[-2]))\n",
    "    print('Second best eta: ', best_etas[-2])\n",
    "    print('Second best lambda: ', best_lambdas[-2])\n",
    "\n",
    "    print('---------------------------------')\n",
    "    print('THIRD BEST PERFORMANCE: ', str(best_accuracies[-3]))\n",
    "    print('Third best eta: ', best_etas[-3])\n",
    "    print('Third best lambda: ', best_lambdas[-3])\n"
   ]
  },
  {
   "cell_type": "code",
   "execution_count": 119,
   "metadata": {},
   "outputs": [
    {
     "name": "stdout",
     "output_type": "stream",
     "text": [
      "---------------------------------\n",
      "Learning rate: 0.05982748823780254, amount of regularization term: 1e-06\n",
      "Accuracy performance on the validation set: 42.31\n",
      "---------------------------------\n",
      "Learning rate: 0.015102145949521008, amount of regularization term: 1e-06\n",
      "Accuracy performance on the validation set: 41.91\n",
      "---------------------------------\n",
      "Learning rate: 0.011490735096773008, amount of regularization term: 1e-06\n",
      "Accuracy performance on the validation set: 42.97\n",
      "---------------------------------\n",
      "Learning rate: 0.0262177494622312, amount of regularization term: 1e-06\n",
      "Accuracy performance on the validation set: 41.58\n",
      "---------------------------------\n",
      "Learning rate: 0.007270638186588639, amount of regularization term: 1e-06\n",
      "Accuracy performance on the validation set: 41.89\n",
      "---------------------------------\n",
      "Learning rate: 0.06061783714841051, amount of regularization term: 1e-06\n",
      "Accuracy performance on the validation set: 42.57\n",
      "---------------------------------\n",
      "Learning rate: 0.08376162068929585, amount of regularization term: 1e-06\n",
      "Accuracy performance on the validation set: 42.38\n",
      "---------------------------------\n",
      "Learning rate: 0.09327775552236366, amount of regularization term: 1e-06\n",
      "Accuracy performance on the validation set: 42.28\n",
      "---------------------------------\n",
      "Learning rate: 0.06789388007520714, amount of regularization term: 1e-06\n",
      "Accuracy performance on the validation set: 41.59\n",
      "---------------------------------\n",
      "Learning rate: 0.030086479539500513, amount of regularization term: 1e-06\n",
      "Accuracy performance on the validation set: 42.63\n",
      "---------------------------------\n",
      "Learning rate: 0.09881267517426827, amount of regularization term: 1e-06\n",
      "Accuracy performance on the validation set: 41.86\n",
      "---------------------------------\n",
      "Learning rate: 0.022679643965888775, amount of regularization term: 1e-06\n",
      "Accuracy performance on the validation set: 42.35\n",
      "---------------------------------\n",
      "Learning rate: 0.006906686575458726, amount of regularization term: 1e-06\n",
      "Accuracy performance on the validation set: 42.4\n",
      "---------------------------------\n",
      "Learning rate: 0.010878162197186927, amount of regularization term: 1e-06\n",
      "Accuracy performance on the validation set: 42.81\n",
      "---------------------------------\n",
      "Learning rate: 0.006306505843486534, amount of regularization term: 1e-06\n",
      "Accuracy performance on the validation set: 42.24\n",
      "---------------------------------\n",
      "Learning rate: 0.0989625501898266, amount of regularization term: 1e-06\n",
      "Accuracy performance on the validation set: 41.89\n",
      "---------------------------------\n",
      "Learning rate: 0.06815067370534511, amount of regularization term: 1e-06\n",
      "Accuracy performance on the validation set: 41.56\n",
      "---------------------------------\n",
      "Learning rate: 0.01580864005430191, amount of regularization term: 1e-06\n",
      "Accuracy performance on the validation set: 41.88\n",
      "---------------------------------\n",
      "Learning rate: 0.07649044851483877, amount of regularization term: 1e-06\n",
      "Accuracy performance on the validation set: 40.4\n",
      "---------------------------------\n",
      "Learning rate: 0.013868609252317294, amount of regularization term: 1e-06\n",
      "Accuracy performance on the validation set: 41.45\n",
      "---------------------------------\n",
      "Learning rate: 0.042818481084360184, amount of regularization term: 1e-06\n",
      "Accuracy performance on the validation set: 41.97\n",
      "---------------------------------\n",
      "Learning rate: 0.00501738828250297, amount of regularization term: 1e-06\n",
      "Accuracy performance on the validation set: 41.39\n",
      "---------------------------------\n",
      "Learning rate: 0.020830590653131666, amount of regularization term: 1e-06\n",
      "Accuracy performance on the validation set: 42.49\n",
      "---------------------------------\n",
      "Learning rate: 0.013479971288109727, amount of regularization term: 1e-06\n",
      "Accuracy performance on the validation set: 42.23\n",
      "---------------------------------\n",
      "Learning rate: 0.0065267558428490965, amount of regularization term: 1e-06\n",
      "Accuracy performance on the validation set: 42.08\n",
      "---------------------------------\n",
      "Learning rate: 0.005344134489262707, amount of regularization term: 1e-06\n",
      "Accuracy performance on the validation set: 42.54\n",
      "---------------------------------\n",
      "Learning rate: 0.0914282147567586, amount of regularization term: 1e-06\n",
      "Accuracy performance on the validation set: 41.07\n",
      "---------------------------------\n",
      "Learning rate: 0.08675611719212596, amount of regularization term: 1e-06\n",
      "Accuracy performance on the validation set: 42.11\n",
      "---------------------------------\n",
      "Learning rate: 0.01331721931590098, amount of regularization term: 1e-06\n",
      "Accuracy performance on the validation set: 42.83\n",
      "---------------------------------\n",
      "Learning rate: 0.00666335726266101, amount of regularization term: 1e-06\n",
      "Accuracy performance on the validation set: 41.26\n",
      "---------------------------------\n",
      "Learning rate: 0.013124061388800672, amount of regularization term: 1e-05\n",
      "Accuracy performance on the validation set: 41.39\n",
      "---------------------------------\n",
      "Learning rate: 0.037533693483019576, amount of regularization term: 1e-05\n",
      "Accuracy performance on the validation set: 42.0\n",
      "---------------------------------\n",
      "Learning rate: 0.008847096850196499, amount of regularization term: 1e-05\n",
      "Accuracy performance on the validation set: 40.77\n",
      "---------------------------------\n",
      "Learning rate: 0.07352326221356385, amount of regularization term: 1e-05\n",
      "Accuracy performance on the validation set: 41.73\n",
      "---------------------------------\n",
      "Learning rate: 0.01146906032736148, amount of regularization term: 1e-05\n",
      "Accuracy performance on the validation set: 42.42\n",
      "---------------------------------\n",
      "Learning rate: 0.01609963136865913, amount of regularization term: 1e-05\n",
      "Accuracy performance on the validation set: 42.72\n",
      "---------------------------------\n",
      "Learning rate: 0.012716754326996005, amount of regularization term: 1e-05\n",
      "Accuracy performance on the validation set: 42.14\n",
      "---------------------------------\n",
      "Learning rate: 0.0075576121389702355, amount of regularization term: 1e-05\n",
      "Accuracy performance on the validation set: 41.43\n",
      "---------------------------------\n",
      "Learning rate: 0.00939006823960787, amount of regularization term: 1e-05\n",
      "Accuracy performance on the validation set: 41.85\n",
      "---------------------------------\n",
      "Learning rate: 0.005776046789987918, amount of regularization term: 1e-05\n",
      "Accuracy performance on the validation set: 42.26\n",
      "---------------------------------\n",
      "Learning rate: 0.017082044506447614, amount of regularization term: 1e-05\n",
      "Accuracy performance on the validation set: 42.54\n",
      "---------------------------------\n",
      "Learning rate: 0.08041283758459634, amount of regularization term: 1e-05\n",
      "Accuracy performance on the validation set: 41.75\n",
      "---------------------------------\n",
      "Learning rate: 0.03333353824047487, amount of regularization term: 1e-05\n",
      "Accuracy performance on the validation set: 41.76\n",
      "---------------------------------\n",
      "Learning rate: 0.03330672560408979, amount of regularization term: 1e-05\n",
      "Accuracy performance on the validation set: 41.22\n",
      "---------------------------------\n",
      "Learning rate: 0.006578196955576494, amount of regularization term: 1e-05\n",
      "Accuracy performance on the validation set: 42.11\n",
      "---------------------------------\n",
      "Learning rate: 0.028677081465457083, amount of regularization term: 1e-05\n",
      "Accuracy performance on the validation set: 42.31\n",
      "---------------------------------\n",
      "Learning rate: 0.005355299950836038, amount of regularization term: 1e-05\n",
      "Accuracy performance on the validation set: 41.33\n",
      "---------------------------------\n",
      "Learning rate: 0.024985566600458933, amount of regularization term: 1e-05\n",
      "Accuracy performance on the validation set: 42.9\n",
      "---------------------------------\n",
      "Learning rate: 0.04342579914531037, amount of regularization term: 1e-05\n",
      "Accuracy performance on the validation set: 41.41\n",
      "---------------------------------\n",
      "Learning rate: 0.008847656773488272, amount of regularization term: 1e-05\n",
      "Accuracy performance on the validation set: 41.9\n",
      "---------------------------------\n",
      "Learning rate: 0.012292857024147012, amount of regularization term: 1e-05\n",
      "Accuracy performance on the validation set: 41.46\n",
      "---------------------------------\n",
      "Learning rate: 0.034875895633392565, amount of regularization term: 1e-05\n",
      "Accuracy performance on the validation set: 43.1\n",
      "---------------------------------\n",
      "Learning rate: 0.024985058435652126, amount of regularization term: 1e-05\n",
      "Accuracy performance on the validation set: 42.46\n"
     ]
    },
    {
     "name": "stdout",
     "output_type": "stream",
     "text": [
      "---------------------------------\n",
      "Learning rate: 0.021027422071292837, amount of regularization term: 1e-05\n",
      "Accuracy performance on the validation set: 41.43\n",
      "---------------------------------\n",
      "Learning rate: 0.0059841995801593745, amount of regularization term: 1e-05\n",
      "Accuracy performance on the validation set: 41.57\n",
      "---------------------------------\n",
      "Learning rate: 0.035192431614735356, amount of regularization term: 1e-05\n",
      "Accuracy performance on the validation set: 41.45\n",
      "---------------------------------\n",
      "Learning rate: 0.09976404824487346, amount of regularization term: 1e-05\n",
      "Accuracy performance on the validation set: 41.64\n",
      "---------------------------------\n",
      "Learning rate: 0.007840419575603812, amount of regularization term: 1e-05\n",
      "Accuracy performance on the validation set: 42.07\n",
      "---------------------------------\n",
      "Learning rate: 0.01779708304762742, amount of regularization term: 1e-05\n",
      "Accuracy performance on the validation set: 42.17\n",
      "---------------------------------\n",
      "Learning rate: 0.008195537511100555, amount of regularization term: 1e-05\n",
      "Accuracy performance on the validation set: 41.89\n",
      "---------------------------------\n",
      "Learning rate: 0.03965927618917236, amount of regularization term: 0.0001\n",
      "Accuracy performance on the validation set: 42.34\n",
      "---------------------------------\n",
      "Learning rate: 0.04191466593432867, amount of regularization term: 0.0001\n",
      "Accuracy performance on the validation set: 42.73\n",
      "---------------------------------\n",
      "Learning rate: 0.0673882633673438, amount of regularization term: 0.0001\n",
      "Accuracy performance on the validation set: 41.88\n",
      "---------------------------------\n",
      "Learning rate: 0.02503067140986037, amount of regularization term: 0.0001\n",
      "Accuracy performance on the validation set: 42.28\n",
      "---------------------------------\n",
      "Learning rate: 0.0511151176472761, amount of regularization term: 0.0001\n",
      "Accuracy performance on the validation set: 41.57\n",
      "---------------------------------\n",
      "Learning rate: 0.03543732020644031, amount of regularization term: 0.0001\n",
      "Accuracy performance on the validation set: 41.89\n",
      "---------------------------------\n",
      "Learning rate: 0.01922788668763558, amount of regularization term: 0.0001\n",
      "Accuracy performance on the validation set: 41.9\n",
      "---------------------------------\n",
      "Learning rate: 0.012913581489067944, amount of regularization term: 0.0001\n",
      "Accuracy performance on the validation set: 43.09\n",
      "---------------------------------\n",
      "Learning rate: 0.03560934583679233, amount of regularization term: 0.0001\n",
      "Accuracy performance on the validation set: 41.97\n",
      "---------------------------------\n",
      "Learning rate: 0.05259059388394631, amount of regularization term: 0.0001\n",
      "Accuracy performance on the validation set: 41.92\n",
      "---------------------------------\n",
      "Learning rate: 0.03300370926714605, amount of regularization term: 0.0001\n",
      "Accuracy performance on the validation set: 42.46\n",
      "---------------------------------\n",
      "Learning rate: 0.029006963598330673, amount of regularization term: 0.0001\n",
      "Accuracy performance on the validation set: 41.41\n",
      "---------------------------------\n",
      "Learning rate: 0.029293542135498677, amount of regularization term: 0.0001\n",
      "Accuracy performance on the validation set: 42.21\n",
      "---------------------------------\n",
      "Learning rate: 0.04305284374062805, amount of regularization term: 0.0001\n",
      "Accuracy performance on the validation set: 42.09\n",
      "---------------------------------\n",
      "Learning rate: 0.014862783990520946, amount of regularization term: 0.0001\n",
      "Accuracy performance on the validation set: 42.24\n",
      "---------------------------------\n",
      "Learning rate: 0.009942144168539217, amount of regularization term: 0.0001\n",
      "Accuracy performance on the validation set: 42.56\n",
      "---------------------------------\n",
      "Learning rate: 0.030886100355119156, amount of regularization term: 0.0001\n",
      "Accuracy performance on the validation set: 42.77\n",
      "---------------------------------\n",
      "Learning rate: 0.010184676609428558, amount of regularization term: 0.0001\n",
      "Accuracy performance on the validation set: 42.44\n",
      "---------------------------------\n",
      "Learning rate: 0.044123453426779716, amount of regularization term: 0.0001\n",
      "Accuracy performance on the validation set: 42.65\n",
      "---------------------------------\n",
      "Learning rate: 0.021585063440005867, amount of regularization term: 0.0001\n",
      "Accuracy performance on the validation set: 40.98\n",
      "---------------------------------\n",
      "Learning rate: 0.08441312301530517, amount of regularization term: 0.0001\n",
      "Accuracy performance on the validation set: 41.38\n",
      "---------------------------------\n",
      "Learning rate: 0.008386918601433197, amount of regularization term: 0.0001\n",
      "Accuracy performance on the validation set: 42.33\n",
      "---------------------------------\n",
      "Learning rate: 0.00796717634047279, amount of regularization term: 0.0001\n",
      "Accuracy performance on the validation set: 42.66\n",
      "---------------------------------\n",
      "Learning rate: 0.006823488070228857, amount of regularization term: 0.0001\n",
      "Accuracy performance on the validation set: 42.13\n",
      "---------------------------------\n",
      "Learning rate: 0.03568923134991972, amount of regularization term: 0.0001\n",
      "Accuracy performance on the validation set: 42.68\n",
      "---------------------------------\n",
      "Learning rate: 0.014161026456956029, amount of regularization term: 0.0001\n",
      "Accuracy performance on the validation set: 42.06\n",
      "---------------------------------\n",
      "Learning rate: 0.005853126638768224, amount of regularization term: 0.0001\n",
      "Accuracy performance on the validation set: 42.04\n",
      "---------------------------------\n",
      "Learning rate: 0.03583515584934083, amount of regularization term: 0.0001\n",
      "Accuracy performance on the validation set: 41.67\n",
      "---------------------------------\n",
      "Learning rate: 0.032059069728489306, amount of regularization term: 0.0001\n",
      "Accuracy performance on the validation set: 42.45\n",
      "---------------------------------\n",
      "Learning rate: 0.08374319315696495, amount of regularization term: 0.0001\n",
      "Accuracy performance on the validation set: 41.33\n",
      "---------------------------------\n",
      "Learning rate: 0.006232058118483851, amount of regularization term: 0.001\n",
      "Accuracy performance on the validation set: 41.1\n",
      "---------------------------------\n",
      "Learning rate: 0.04505602446011078, amount of regularization term: 0.001\n",
      "Accuracy performance on the validation set: 42.06\n",
      "---------------------------------\n",
      "Learning rate: 0.024485209464529752, amount of regularization term: 0.001\n",
      "Accuracy performance on the validation set: 41.4\n",
      "---------------------------------\n",
      "Learning rate: 0.027742806011385512, amount of regularization term: 0.001\n",
      "Accuracy performance on the validation set: 42.24\n",
      "---------------------------------\n",
      "Learning rate: 0.022165344489253024, amount of regularization term: 0.001\n",
      "Accuracy performance on the validation set: 42.31\n",
      "---------------------------------\n",
      "Learning rate: 0.019327505048966624, amount of regularization term: 0.001\n",
      "Accuracy performance on the validation set: 41.54\n",
      "---------------------------------\n",
      "Learning rate: 0.023025995856234355, amount of regularization term: 0.001\n",
      "Accuracy performance on the validation set: 41.94\n",
      "---------------------------------\n",
      "Learning rate: 0.02707204878928901, amount of regularization term: 0.001\n",
      "Accuracy performance on the validation set: 41.38\n",
      "---------------------------------\n",
      "Learning rate: 0.04006852542581087, amount of regularization term: 0.001\n",
      "Accuracy performance on the validation set: 42.04\n",
      "---------------------------------\n",
      "Learning rate: 0.049782853515831484, amount of regularization term: 0.001\n",
      "Accuracy performance on the validation set: 41.46\n",
      "---------------------------------\n",
      "Learning rate: 0.06148994516054871, amount of regularization term: 0.001\n",
      "Accuracy performance on the validation set: 41.97\n",
      "---------------------------------\n",
      "Learning rate: 0.06649933344889598, amount of regularization term: 0.001\n",
      "Accuracy performance on the validation set: 41.89\n",
      "---------------------------------\n",
      "Learning rate: 0.015725373474479096, amount of regularization term: 0.001\n",
      "Accuracy performance on the validation set: 42.11\n",
      "---------------------------------\n",
      "Learning rate: 0.021404054921939263, amount of regularization term: 0.001\n",
      "Accuracy performance on the validation set: 41.18\n",
      "---------------------------------\n",
      "Learning rate: 0.010873614257185998, amount of regularization term: 0.001\n",
      "Accuracy performance on the validation set: 42.3\n"
     ]
    },
    {
     "name": "stdout",
     "output_type": "stream",
     "text": [
      "---------------------------------\n",
      "Learning rate: 0.046667025798770675, amount of regularization term: 0.001\n",
      "Accuracy performance on the validation set: 41.41\n",
      "---------------------------------\n",
      "Learning rate: 0.04686665136119487, amount of regularization term: 0.001\n",
      "Accuracy performance on the validation set: 41.56\n",
      "---------------------------------\n",
      "Learning rate: 0.04800228165794358, amount of regularization term: 0.001\n",
      "Accuracy performance on the validation set: 42.29\n",
      "---------------------------------\n",
      "Learning rate: 0.02691388666010051, amount of regularization term: 0.001\n",
      "Accuracy performance on the validation set: 40.38\n",
      "---------------------------------\n",
      "Learning rate: 0.019780434367635873, amount of regularization term: 0.001\n",
      "Accuracy performance on the validation set: 42.09\n",
      "---------------------------------\n",
      "Learning rate: 0.00717674895622907, amount of regularization term: 0.001\n",
      "Accuracy performance on the validation set: 41.65\n",
      "---------------------------------\n",
      "Learning rate: 0.01605738586756226, amount of regularization term: 0.001\n",
      "Accuracy performance on the validation set: 41.96\n",
      "---------------------------------\n",
      "Learning rate: 0.03120352289555215, amount of regularization term: 0.001\n",
      "Accuracy performance on the validation set: 41.97\n",
      "---------------------------------\n",
      "Learning rate: 0.005166672947298477, amount of regularization term: 0.001\n",
      "Accuracy performance on the validation set: 42.12\n",
      "---------------------------------\n",
      "Learning rate: 0.07375402695543487, amount of regularization term: 0.001\n",
      "Accuracy performance on the validation set: 41.51\n",
      "---------------------------------\n",
      "Learning rate: 0.0562576684449726, amount of regularization term: 0.001\n",
      "Accuracy performance on the validation set: 41.7\n",
      "---------------------------------\n",
      "Learning rate: 0.032730416516925494, amount of regularization term: 0.001\n",
      "Accuracy performance on the validation set: 40.6\n",
      "---------------------------------\n",
      "Learning rate: 0.009543563986617537, amount of regularization term: 0.001\n",
      "Accuracy performance on the validation set: 41.5\n",
      "---------------------------------\n",
      "Learning rate: 0.013650487597520631, amount of regularization term: 0.001\n",
      "Accuracy performance on the validation set: 41.52\n",
      "---------------------------------\n",
      "Learning rate: 0.013735200412094946, amount of regularization term: 0.001\n",
      "Accuracy performance on the validation set: 42.0\n",
      "---------------------------------\n",
      "Learning rate: 0.007282452403294034, amount of regularization term: 0.01\n",
      "Accuracy performance on the validation set: 41.51\n",
      "---------------------------------\n",
      "Learning rate: 0.03566667911505463, amount of regularization term: 0.01\n",
      "Accuracy performance on the validation set: 40.13\n",
      "---------------------------------\n",
      "Learning rate: 0.05195964536761231, amount of regularization term: 0.01\n",
      "Accuracy performance on the validation set: 39.55\n",
      "---------------------------------\n",
      "Learning rate: 0.013205299083224655, amount of regularization term: 0.01\n",
      "Accuracy performance on the validation set: 40.71\n",
      "---------------------------------\n",
      "Learning rate: 0.008255444396983102, amount of regularization term: 0.01\n",
      "Accuracy performance on the validation set: 41.17\n",
      "---------------------------------\n",
      "Learning rate: 0.02322542666829188, amount of regularization term: 0.01\n",
      "Accuracy performance on the validation set: 41.44\n",
      "---------------------------------\n",
      "Learning rate: 0.08345107492786166, amount of regularization term: 0.01\n",
      "Accuracy performance on the validation set: 37.79\n",
      "---------------------------------\n",
      "Learning rate: 0.04336320729598386, amount of regularization term: 0.01\n",
      "Accuracy performance on the validation set: 39.85\n",
      "---------------------------------\n",
      "Learning rate: 0.017143096927998227, amount of regularization term: 0.01\n",
      "Accuracy performance on the validation set: 40.25\n",
      "---------------------------------\n",
      "Learning rate: 0.00939096639182737, amount of regularization term: 0.01\n",
      "Accuracy performance on the validation set: 40.83\n",
      "---------------------------------\n",
      "Learning rate: 0.037141842164228715, amount of regularization term: 0.01\n",
      "Accuracy performance on the validation set: 40.11\n",
      "---------------------------------\n",
      "Learning rate: 0.05240184487621609, amount of regularization term: 0.01\n",
      "Accuracy performance on the validation set: 39.68\n",
      "---------------------------------\n",
      "Learning rate: 0.007035126069360633, amount of regularization term: 0.01\n",
      "Accuracy performance on the validation set: 41.37\n",
      "---------------------------------\n",
      "Learning rate: 0.014453185981339505, amount of regularization term: 0.01\n",
      "Accuracy performance on the validation set: 42.83\n",
      "---------------------------------\n",
      "Learning rate: 0.04226675830115646, amount of regularization term: 0.01\n",
      "Accuracy performance on the validation set: 39.08\n",
      "---------------------------------\n",
      "Learning rate: 0.046617155687307635, amount of regularization term: 0.01\n",
      "Accuracy performance on the validation set: 38.75\n",
      "---------------------------------\n",
      "Learning rate: 0.013994397769046051, amount of regularization term: 0.01\n",
      "Accuracy performance on the validation set: 40.91\n",
      "---------------------------------\n",
      "Learning rate: 0.019218001406664027, amount of regularization term: 0.01\n",
      "Accuracy performance on the validation set: 41.64\n",
      "---------------------------------\n",
      "Learning rate: 0.08526758801655096, amount of regularization term: 0.01\n",
      "Accuracy performance on the validation set: 36.79\n",
      "---------------------------------\n",
      "Learning rate: 0.02968801899409779, amount of regularization term: 0.01\n",
      "Accuracy performance on the validation set: 40.66\n",
      "---------------------------------\n",
      "Learning rate: 0.0444644243813165, amount of regularization term: 0.01\n",
      "Accuracy performance on the validation set: 39.26\n",
      "---------------------------------\n",
      "Learning rate: 0.010316639229686075, amount of regularization term: 0.01\n",
      "Accuracy performance on the validation set: 40.59\n",
      "---------------------------------\n",
      "Learning rate: 0.005052497701497475, amount of regularization term: 0.01\n",
      "Accuracy performance on the validation set: 42.65\n",
      "---------------------------------\n",
      "Learning rate: 0.008982739097638423, amount of regularization term: 0.01\n",
      "Accuracy performance on the validation set: 41.69\n",
      "---------------------------------\n",
      "Learning rate: 0.007372122864087794, amount of regularization term: 0.01\n",
      "Accuracy performance on the validation set: 40.71\n",
      "---------------------------------\n",
      "Learning rate: 0.01827861638401007, amount of regularization term: 0.01\n",
      "Accuracy performance on the validation set: 40.9\n",
      "---------------------------------\n",
      "Learning rate: 0.025068672493438613, amount of regularization term: 0.01\n",
      "Accuracy performance on the validation set: 39.85\n",
      "---------------------------------\n",
      "Learning rate: 0.01267331389340213, amount of regularization term: 0.01\n",
      "Accuracy performance on the validation set: 40.34\n",
      "---------------------------------\n",
      "Learning rate: 0.006259314099619709, amount of regularization term: 0.01\n",
      "Accuracy performance on the validation set: 41.49\n",
      "---------------------------------\n",
      "Learning rate: 0.08537480130543311, amount of regularization term: 0.01\n",
      "Accuracy performance on the validation set: 36.87\n",
      "---------------------------------\n",
      "BEST PERFORMANCE:  43.1\n",
      "Best eta:  0.034875895633392565\n",
      "Best lambda:  1e-05\n",
      "---------------------------------\n",
      "SECOND BEST PERFORMANCE:  43.09\n",
      "Second best eta:  0.012913581489067944\n",
      "Second best lambda:  0.0001\n",
      "---------------------------------\n",
      "THIRD BEST PERFORMANCE:  42.97\n",
      "Third best eta:  0.011490735096773008\n",
      "Third best lambda:  1e-06\n"
     ]
    }
   ],
   "source": [
    "coarse_search()"
   ]
  },
  {
   "cell_type": "markdown",
   "metadata": {},
   "source": [
    "#### Fine search"
   ]
  },
  {
   "cell_type": "code",
   "execution_count": 120,
   "metadata": {},
   "outputs": [],
   "source": [
    "def fine_search():\n",
    "    \"\"\"\n",
    "    Testing some combinations of lambda and eta's derived from short spaces that performed well\n",
    "            during the coarse search.\n",
    "\n",
    "    :return: None\n",
    "    \"\"\"\n",
    "\n",
    "    best_accuracies = []\n",
    "    etas = []\n",
    "    lambdas = []\n",
    "\n",
    "    # Regularization 10^{-6}\n",
    "    regularization_term = 1e-6\n",
    "\n",
    "    e_min = np.log(0.0057)\n",
    "    e_max = np.log(0.019)\n",
    "\n",
    "    for _ in range(20):\n",
    "        np.random.seed()\n",
    "        eta_term = np.random.rand(1, 1).flatten()[0]\n",
    "        e = e_min + (e_max - e_min) * eta_term\n",
    "        eta = np.exp(e)\n",
    "        etas.append(eta)\n",
    "\n",
    "        lambdas.append(regularization_term)\n",
    "\n",
    "        GD_params = [100, eta, 10, regularization_term]\n",
    "\n",
    "        weights, biases = initialize_weights([[50, 3072], [30, 50], [10, 30]])\n",
    "\n",
    "        best_weights, best_biases, losses, accuracies, exponentials = \\\n",
    "            MiniBatchGDBatchNormalization(training_set, validation_set, GD_params, weights, biases)\n",
    "\n",
    "        print('---------------------------------')\n",
    "        print(f'Learning rate: {eta}, amount of regularization term: {regularization_term}')\n",
    "        best_accuracies.append(max(accuracies[1]))\n",
    "        print(f'Accuracy performance on the validation set: {best_accuracies[-1]}')\n",
    "\n",
    "    # Regularization 10^{-5}\n",
    "    regularization_term = 1e-5\n",
    "\n",
    "    e_min = np.log(0.007)\n",
    "    e_max = np.log(0.015)\n",
    "\n",
    "    for _ in range(20):\n",
    "        np.random.seed()\n",
    "        eta_term = np.random.rand(1, 1).flatten()[0]\n",
    "        e = e_min + (e_max - e_min) * eta_term\n",
    "        eta = np.exp(e)\n",
    "        etas.append(eta)\n",
    "\n",
    "        lambdas.append(regularization_term)\n",
    "\n",
    "        GD_params = [100, eta, 10, regularization_term]\n",
    "\n",
    "        weights, biases = initialize_weights([[50, 3072], [30, 50], [10, 30]])\n",
    "\n",
    "        best_weights, best_biases, losses, accuracies, exponentials = \\\n",
    "            MiniBatchGDBatchNormalization(training_set, validation_set, GD_params, weights, biases)\n",
    "\n",
    "        print('---------------------------------')\n",
    "        print(f'Learning rate: {eta}, amount of regularization term: {regularization_term}')\n",
    "        best_accuracies.append(max(accuracies[1]))\n",
    "        print(f'Accuracy performance on the validation set: {best_accuracies[-1]}')\n",
    "\n",
    "    # Regularization 10^{-4}\n",
    "    regularization_term = 1e-4\n",
    "\n",
    "    e_min = np.log(0.03)\n",
    "    e_max = np.log(0.06)\n",
    "\n",
    "    for _ in range(10):\n",
    "        np.random.seed()\n",
    "        eta_term = np.random.rand(1, 1).flatten()[0]\n",
    "        e = e_min + (e_max - e_min) * eta_term\n",
    "        eta = np.exp(e)\n",
    "        etas.append(eta)\n",
    "\n",
    "        lambdas.append(regularization_term)\n",
    "\n",
    "        GD_params = [100, eta, 10, regularization_term]\n",
    "\n",
    "        weights, biases = initialize_weights([[50, 3072], [30, 50], [10, 30]])\n",
    "\n",
    "        best_weights, best_biases, losses, accuracies, exponentials = \\\n",
    "            MiniBatchGDBatchNormalization(training_set, validation_set, GD_params, weights, biases)\n",
    "\n",
    "        print('---------------------------------')\n",
    "        print(f'Learning rate: {eta}, amount of regularization term: {regularization_term}')\n",
    "        best_accuracies.append(max(accuracies[1]))\n",
    "        print(f'Accuracy performance on the validation set: {best_accuracies[-1]}')\n",
    "\n",
    "    e_min = np.log(0.01)\n",
    "    e_max = np.log(0.015)\n",
    "\n",
    "    for _ in range(10):\n",
    "        np.random.seed()\n",
    "        eta_term = np.random.rand(1, 1).flatten()[0]\n",
    "        e = e_min + (e_max - e_min) * eta_term\n",
    "        eta = np.exp(e)\n",
    "        etas.append(eta)\n",
    "\n",
    "        lambdas.append(regularization_term)\n",
    "\n",
    "        GD_params = [100, eta, 10, regularization_term]\n",
    "\n",
    "        weights, biases = initialize_weights([[50, 3072], [30, 50], [10, 30]])\n",
    "\n",
    "        best_weights, best_biases, losses, accuracies, exponentials = \\\n",
    "            MiniBatchGDBatchNormalization(training_set, validation_set, GD_params, weights, biases)\n",
    "\n",
    "        print('---------------------------------')\n",
    "        print(f'Learning rate: {eta}, amount of regularization term: {regularization_term}')\n",
    "        best_accuracies.append(max(accuracies[1]))\n",
    "        print(f'Accuracy performance on the validation set: {best_accuracies[-1]}')\n",
    "\n",
    "    # Regularization 10^{-3}\n",
    "    regularization_term = 1e-3\n",
    "\n",
    "    e_min = np.log(0.008)\n",
    "    e_max = np.log(0.012)\n",
    "\n",
    "    for _ in range(10):\n",
    "        np.random.seed()\n",
    "        eta_term = np.random.rand(1, 1).flatten()[0]\n",
    "        e = e_min + (e_max - e_min) * eta_term\n",
    "        eta = np.exp(e)\n",
    "        etas.append(eta)\n",
    "\n",
    "        lambdas.append(regularization_term)\n",
    "\n",
    "        GD_params = [100, eta, 10, regularization_term]\n",
    "\n",
    "        weights, biases = initialize_weights([[50, 3072], [30, 50], [10, 30]])\n",
    "\n",
    "        best_weights, best_biases, losses, accuracies, exponentials = \\\n",
    "            MiniBatchGDBatchNormalization(training_set, validation_set, GD_params, weights, biases)\n",
    "\n",
    "        print('---------------------------------')\n",
    "        print(f'Learning rate: {eta}, amount of regularization term: {regularization_term}')\n",
    "        best_accuracies.append(max(accuracies[1]))\n",
    "        print(f'Accuracy performance on the validation set: {best_accuracies[-1]}')\n",
    "\n",
    "    # Regularization 10^{-2}\n",
    "    regularization_term = 1e-2\n",
    "\n",
    "    e_min = np.log(0.005)\n",
    "    e_max = np.log(0.007)\n",
    "\n",
    "    for _ in range(10):\n",
    "        np.random.seed()\n",
    "        eta_term = np.random.rand(1, 1).flatten()[0]\n",
    "        e = e_min + (e_max - e_min) * eta_term\n",
    "        eta = np.exp(e)\n",
    "        etas.append(eta)\n",
    "\n",
    "        lambdas.append(regularization_term)\n",
    "\n",
    "        GD_params = [100, eta, 10, regularization_term]\n",
    "\n",
    "        weights, biases = initialize_weights([[50, 3072], [30, 50], [10, 30]])\n",
    "\n",
    "        best_weights, best_biases, losses, accuracies, exponentials = \\\n",
    "            MiniBatchGDBatchNormalization(training_set, validation_set, GD_params, weights, biases)\n",
    "\n",
    "        print('---------------------------------')\n",
    "        print(f'Learning rate: {eta}, amount of regularization term: {regularization_term}')\n",
    "        best_accuracies.append(max(accuracies[1]))\n",
    "        print(f'Accuracy performance on the validation set: {best_accuracies[-1]}')\n",
    "\n",
    "    sort_them_all = sorted(zip(best_accuracies, etas, lambdas))\n",
    "\n",
    "    best_accuracies = [x for x, _, _ in sort_them_all]\n",
    "    best_etas = [y for _, y, _ in sort_them_all]\n",
    "    best_lambdas = [z for _, _, z in sort_them_all]\n",
    "\n",
    "    print('---------------------------------')\n",
    "    print('BEST PERFORMANCE: ', str(best_accuracies[-1]))\n",
    "    print('Best eta: ', best_etas[-1])\n",
    "    print('Best lambda: ', best_lambdas[-1])\n",
    "\n",
    "    print('---------------------------------')\n",
    "    print('SECOND BEST PERFORMANCE: ', str(best_accuracies[-2]))\n",
    "    print('Second best eta: ', best_etas[-2])\n",
    "    print('Second best lambda: ', best_lambdas[-2])\n",
    "\n",
    "    print('---------------------------------')\n",
    "    print('THIRD BEST PERFORMANCE: ', str(best_accuracies[-3]))\n",
    "    print('Third best eta: ', best_etas[-3])\n",
    "    print('Third best lambda: ', best_lambdas[-3])\n"
   ]
  },
  {
   "cell_type": "code",
   "execution_count": 121,
   "metadata": {},
   "outputs": [
    {
     "name": "stdout",
     "output_type": "stream",
     "text": [
      "---------------------------------\n",
      "Learning rate: 0.00918897391921139, amount of regularization term: 1e-06\n",
      "Accuracy performance on the validation set: 41.84\n",
      "---------------------------------\n",
      "Learning rate: 0.006194891381320732, amount of regularization term: 1e-06\n",
      "Accuracy performance on the validation set: 42.11\n",
      "---------------------------------\n",
      "Learning rate: 0.009159953404154587, amount of regularization term: 1e-06\n",
      "Accuracy performance on the validation set: 42.8\n",
      "---------------------------------\n",
      "Learning rate: 0.01536372801831916, amount of regularization term: 1e-06\n",
      "Accuracy performance on the validation set: 42.89\n",
      "---------------------------------\n",
      "Learning rate: 0.013316192410574676, amount of regularization term: 1e-06\n",
      "Accuracy performance on the validation set: 41.85\n",
      "---------------------------------\n",
      "Learning rate: 0.007316564535739264, amount of regularization term: 1e-06\n",
      "Accuracy performance on the validation set: 42.02\n",
      "---------------------------------\n",
      "Learning rate: 0.006490649915600179, amount of regularization term: 1e-06\n",
      "Accuracy performance on the validation set: 41.74\n",
      "---------------------------------\n",
      "Learning rate: 0.009109799404066398, amount of regularization term: 1e-06\n",
      "Accuracy performance on the validation set: 42.38\n",
      "---------------------------------\n",
      "Learning rate: 0.01533330739755461, amount of regularization term: 1e-06\n",
      "Accuracy performance on the validation set: 42.51\n",
      "---------------------------------\n",
      "Learning rate: 0.011698375641280128, amount of regularization term: 1e-06\n",
      "Accuracy performance on the validation set: 42.36\n",
      "---------------------------------\n",
      "Learning rate: 0.008528088835009013, amount of regularization term: 1e-06\n",
      "Accuracy performance on the validation set: 41.19\n",
      "---------------------------------\n",
      "Learning rate: 0.018475545458703786, amount of regularization term: 1e-06\n",
      "Accuracy performance on the validation set: 41.95\n",
      "---------------------------------\n",
      "Learning rate: 0.012057187026758545, amount of regularization term: 1e-06\n",
      "Accuracy performance on the validation set: 41.78\n",
      "---------------------------------\n",
      "Learning rate: 0.008300101191150405, amount of regularization term: 1e-06\n",
      "Accuracy performance on the validation set: 41.59\n",
      "---------------------------------\n",
      "Learning rate: 0.016122634100317838, amount of regularization term: 1e-06\n",
      "Accuracy performance on the validation set: 42.46\n",
      "---------------------------------\n",
      "Learning rate: 0.009082857712910553, amount of regularization term: 1e-06\n",
      "Accuracy performance on the validation set: 42.45\n",
      "---------------------------------\n",
      "Learning rate: 0.009885711198568108, amount of regularization term: 1e-06\n",
      "Accuracy performance on the validation set: 42.23\n",
      "---------------------------------\n",
      "Learning rate: 0.015327603061859419, amount of regularization term: 1e-06\n",
      "Accuracy performance on the validation set: 42.18\n",
      "---------------------------------\n",
      "Learning rate: 0.014117827665053552, amount of regularization term: 1e-06\n",
      "Accuracy performance on the validation set: 42.24\n",
      "---------------------------------\n",
      "Learning rate: 0.007986719995840757, amount of regularization term: 1e-06\n",
      "Accuracy performance on the validation set: 43.1\n",
      "---------------------------------\n",
      "Learning rate: 0.01401238084260695, amount of regularization term: 1e-05\n",
      "Accuracy performance on the validation set: 41.71\n",
      "---------------------------------\n",
      "Learning rate: 0.007770373762573245, amount of regularization term: 1e-05\n",
      "Accuracy performance on the validation set: 42.27\n",
      "---------------------------------\n",
      "Learning rate: 0.010433864452813713, amount of regularization term: 1e-05\n",
      "Accuracy performance on the validation set: 42.34\n",
      "---------------------------------\n",
      "Learning rate: 0.012216944606124703, amount of regularization term: 1e-05\n",
      "Accuracy performance on the validation set: 42.87\n",
      "---------------------------------\n",
      "Learning rate: 0.007418460245047576, amount of regularization term: 1e-05\n",
      "Accuracy performance on the validation set: 41.93\n",
      "---------------------------------\n",
      "Learning rate: 0.011376505137378508, amount of regularization term: 1e-05\n",
      "Accuracy performance on the validation set: 41.8\n",
      "---------------------------------\n",
      "Learning rate: 0.009161610299008633, amount of regularization term: 1e-05\n",
      "Accuracy performance on the validation set: 41.96\n",
      "---------------------------------\n",
      "Learning rate: 0.009514088783353854, amount of regularization term: 1e-05\n",
      "Accuracy performance on the validation set: 41.98\n",
      "---------------------------------\n",
      "Learning rate: 0.01003136866780354, amount of regularization term: 1e-05\n",
      "Accuracy performance on the validation set: 42.1\n",
      "---------------------------------\n",
      "Learning rate: 0.010019180405048744, amount of regularization term: 1e-05\n",
      "Accuracy performance on the validation set: 43.03\n",
      "---------------------------------\n",
      "Learning rate: 0.00966169442842042, amount of regularization term: 1e-05\n",
      "Accuracy performance on the validation set: 43.04\n",
      "---------------------------------\n",
      "Learning rate: 0.00865062553341733, amount of regularization term: 1e-05\n",
      "Accuracy performance on the validation set: 42.7\n",
      "---------------------------------\n",
      "Learning rate: 0.01427992314105841, amount of regularization term: 1e-05\n",
      "Accuracy performance on the validation set: 42.14\n",
      "---------------------------------\n",
      "Learning rate: 0.008123461376050517, amount of regularization term: 1e-05\n",
      "Accuracy performance on the validation set: 41.38\n",
      "---------------------------------\n",
      "Learning rate: 0.010460136255477448, amount of regularization term: 1e-05\n",
      "Accuracy performance on the validation set: 42.52\n",
      "---------------------------------\n",
      "Learning rate: 0.014327188082981841, amount of regularization term: 1e-05\n",
      "Accuracy performance on the validation set: 42.36\n",
      "---------------------------------\n",
      "Learning rate: 0.009662686305996416, amount of regularization term: 1e-05\n",
      "Accuracy performance on the validation set: 41.73\n",
      "---------------------------------\n",
      "Learning rate: 0.009322013665102232, amount of regularization term: 1e-05\n",
      "Accuracy performance on the validation set: 42.31\n",
      "---------------------------------\n",
      "Learning rate: 0.009110513978123489, amount of regularization term: 1e-05\n",
      "Accuracy performance on the validation set: 41.95\n",
      "---------------------------------\n",
      "Learning rate: 0.0070055199633695005, amount of regularization term: 1e-05\n",
      "Accuracy performance on the validation set: 41.52\n",
      "---------------------------------\n",
      "Learning rate: 0.04784379091913537, amount of regularization term: 0.0001\n",
      "Accuracy performance on the validation set: 42.41\n",
      "---------------------------------\n",
      "Learning rate: 0.05046911807719653, amount of regularization term: 0.0001\n",
      "Accuracy performance on the validation set: 42.8\n",
      "---------------------------------\n",
      "Learning rate: 0.047501417673513555, amount of regularization term: 0.0001\n",
      "Accuracy performance on the validation set: 42.22\n",
      "---------------------------------\n",
      "Learning rate: 0.0338880012540002, amount of regularization term: 0.0001\n",
      "Accuracy performance on the validation set: 42.72\n",
      "---------------------------------\n",
      "Learning rate: 0.054579981997252294, amount of regularization term: 0.0001\n",
      "Accuracy performance on the validation set: 41.52\n",
      "---------------------------------\n",
      "Learning rate: 0.037609713613162433, amount of regularization term: 0.0001\n",
      "Accuracy performance on the validation set: 42.02\n",
      "---------------------------------\n",
      "Learning rate: 0.04250493600995562, amount of regularization term: 0.0001\n",
      "Accuracy performance on the validation set: 41.79\n",
      "---------------------------------\n",
      "Learning rate: 0.03206209636356699, amount of regularization term: 0.0001\n",
      "Accuracy performance on the validation set: 40.62\n",
      "---------------------------------\n",
      "Learning rate: 0.049496179243314634, amount of regularization term: 0.0001\n",
      "Accuracy performance on the validation set: 42.69\n",
      "---------------------------------\n",
      "Learning rate: 0.04018594729340269, amount of regularization term: 0.0001\n",
      "Accuracy performance on the validation set: 41.9\n",
      "---------------------------------\n",
      "Learning rate: 0.01496835963893558, amount of regularization term: 0.0001\n",
      "Accuracy performance on the validation set: 41.5\n",
      "---------------------------------\n",
      "Learning rate: 0.01006035137388162, amount of regularization term: 0.0001\n",
      "Accuracy performance on the validation set: 42.67\n"
     ]
    },
    {
     "name": "stdout",
     "output_type": "stream",
     "text": [
      "---------------------------------\n",
      "Learning rate: 0.01482703351713184, amount of regularization term: 0.0001\n",
      "Accuracy performance on the validation set: 42.07\n",
      "---------------------------------\n",
      "Learning rate: 0.013689452804693046, amount of regularization term: 0.0001\n",
      "Accuracy performance on the validation set: 41.79\n",
      "---------------------------------\n",
      "Learning rate: 0.011074930184717209, amount of regularization term: 0.0001\n",
      "Accuracy performance on the validation set: 41.79\n",
      "---------------------------------\n",
      "Learning rate: 0.010291906095535031, amount of regularization term: 0.0001\n",
      "Accuracy performance on the validation set: 40.91\n",
      "---------------------------------\n",
      "Learning rate: 0.011750766768492365, amount of regularization term: 0.0001\n",
      "Accuracy performance on the validation set: 41.55\n",
      "---------------------------------\n",
      "Learning rate: 0.013369878395972992, amount of regularization term: 0.0001\n",
      "Accuracy performance on the validation set: 41.95\n",
      "---------------------------------\n",
      "Learning rate: 0.011408139397568025, amount of regularization term: 0.0001\n",
      "Accuracy performance on the validation set: 41.88\n",
      "---------------------------------\n",
      "Learning rate: 0.011437967300904163, amount of regularization term: 0.0001\n",
      "Accuracy performance on the validation set: 41.86\n",
      "---------------------------------\n",
      "Learning rate: 0.008201114074082857, amount of regularization term: 0.001\n",
      "Accuracy performance on the validation set: 41.88\n",
      "---------------------------------\n",
      "Learning rate: 0.011589959044156894, amount of regularization term: 0.001\n",
      "Accuracy performance on the validation set: 42.16\n",
      "---------------------------------\n",
      "Learning rate: 0.009541773739569565, amount of regularization term: 0.001\n",
      "Accuracy performance on the validation set: 41.91\n",
      "---------------------------------\n",
      "Learning rate: 0.01115579568780083, amount of regularization term: 0.001\n",
      "Accuracy performance on the validation set: 41.9\n",
      "---------------------------------\n",
      "Learning rate: 0.01159369677644773, amount of regularization term: 0.001\n",
      "Accuracy performance on the validation set: 42.76\n",
      "---------------------------------\n",
      "Learning rate: 0.008680691201560018, amount of regularization term: 0.001\n",
      "Accuracy performance on the validation set: 42.03\n",
      "---------------------------------\n",
      "Learning rate: 0.008041096139441886, amount of regularization term: 0.001\n",
      "Accuracy performance on the validation set: 41.58\n",
      "---------------------------------\n",
      "Learning rate: 0.008329689036439688, amount of regularization term: 0.001\n",
      "Accuracy performance on the validation set: 41.95\n",
      "---------------------------------\n",
      "Learning rate: 0.008735517731098345, amount of regularization term: 0.001\n",
      "Accuracy performance on the validation set: 41.97\n",
      "---------------------------------\n",
      "Learning rate: 0.009189746249732423, amount of regularization term: 0.001\n",
      "Accuracy performance on the validation set: 41.74\n",
      "---------------------------------\n",
      "Learning rate: 0.006962859419878181, amount of regularization term: 0.01\n",
      "Accuracy performance on the validation set: 41.81\n",
      "---------------------------------\n",
      "Learning rate: 0.00602080785791372, amount of regularization term: 0.01\n",
      "Accuracy performance on the validation set: 40.15\n",
      "---------------------------------\n",
      "Learning rate: 0.006037852333781302, amount of regularization term: 0.01\n",
      "Accuracy performance on the validation set: 42.14\n",
      "---------------------------------\n",
      "Learning rate: 0.006593946365507811, amount of regularization term: 0.01\n",
      "Accuracy performance on the validation set: 41.33\n",
      "---------------------------------\n",
      "Learning rate: 0.005983404831312757, amount of regularization term: 0.01\n",
      "Accuracy performance on the validation set: 41.06\n",
      "---------------------------------\n",
      "Learning rate: 0.005063170686759682, amount of regularization term: 0.01\n",
      "Accuracy performance on the validation set: 41.09\n",
      "---------------------------------\n",
      "Learning rate: 0.0052426256584287454, amount of regularization term: 0.01\n",
      "Accuracy performance on the validation set: 40.4\n",
      "---------------------------------\n",
      "Learning rate: 0.006031348321806681, amount of regularization term: 0.01\n",
      "Accuracy performance on the validation set: 40.98\n",
      "---------------------------------\n",
      "Learning rate: 0.006000640902878819, amount of regularization term: 0.01\n",
      "Accuracy performance on the validation set: 41.59\n",
      "---------------------------------\n",
      "Learning rate: 0.005708829406032124, amount of regularization term: 0.01\n",
      "Accuracy performance on the validation set: 41.68\n",
      "---------------------------------\n",
      "BEST PERFORMANCE:  43.1\n",
      "Best eta:  0.007986719995840757\n",
      "Best lambda:  1e-06\n",
      "---------------------------------\n",
      "SECOND BEST PERFORMANCE:  43.04\n",
      "Second best eta:  0.00966169442842042\n",
      "Second best lambda:  1e-05\n",
      "---------------------------------\n",
      "THIRD BEST PERFORMANCE:  43.03\n",
      "Third best eta:  0.010019180405048744\n",
      "Third best lambda:  1e-05\n"
     ]
    }
   ],
   "source": [
    "fine_search()"
   ]
  },
  {
   "cell_type": "markdown",
   "metadata": {},
   "source": [
    "#### Experiments with the best pairs of ($\\eta$, $lambda$) using all of the data in training"
   ]
  },
  {
   "cell_type": "code",
   "execution_count": 138,
   "metadata": {},
   "outputs": [],
   "source": [
    "training_set, validation_set, test_set = create_sets()"
   ]
  },
  {
   "cell_type": "markdown",
   "metadata": {},
   "source": [
    "Setting 1: $\\eta$ = 0.034875895633392565, $\\lambda = 10^{-5}$"
   ]
  },
  {
   "cell_type": "code",
   "execution_count": 139,
   "metadata": {},
   "outputs": [],
   "source": [
    "cnt=0\n",
    "\n",
    "eta, regularization_term = 0.034875895633392565, 1e-05\n",
    "\n",
    "GD_params = [100, eta, 10, regularization_term]\n",
    "\n",
    "weights, biases = initialize_weights([[50, 3072], [30, 50], [10, 30]])\n",
    "\n",
    "best_weights, best_biases, losses, accuracies, exponentials = \\\n",
    "    MiniBatchGDBatchNormalization(training_set, validation_set, GD_params, weights, biases)\n",
    "inform_exit()"
   ]
  },
  {
   "cell_type": "markdown",
   "metadata": {},
   "source": [
    "The cross-entropy loss evolution:"
   ]
  },
  {
   "cell_type": "code",
   "execution_count": 141,
   "metadata": {},
   "outputs": [
    {
     "data": {
      "image/png": "[encoded data removed]",
      "text/plain": [
       "<Figure size 432x288 with 1 Axes>"
      ]
     },
     "metadata": {},
     "output_type": "display_data"
    },
    {
     "data": {
      "text/plain": [
       "<Figure size 432x288 with 0 Axes>"
      ]
     },
     "metadata": {},
     "output_type": "display_data"
    }
   ],
   "source": [
    "visualize_plots(losses[0], losses[1], display=True, save_name=f'{cnt}_loss.png')"
   ]
  },
  {
   "cell_type": "markdown",
   "metadata": {},
   "source": [
    "Accuracy performance evolution:"
   ]
  },
  {
   "cell_type": "code",
   "execution_count": 142,
   "metadata": {},
   "outputs": [
    {
     "data": {
      "image/png": "[encoded data removed]",
      "text/plain": [
       "<Figure size 432x288 with 1 Axes>"
      ]
     },
     "metadata": {},
     "output_type": "display_data"
    },
    {
     "data": {
      "text/plain": [
       "<Figure size 432x288 with 0 Axes>"
      ]
     },
     "metadata": {},
     "output_type": "display_data"
    }
   ],
   "source": [
    "visualize_plots(accuracies[0], accuracies[1], display=True, save_name=f'{cnt}_acc.png')"
   ]
  },
  {
   "cell_type": "markdown",
   "metadata": {},
   "source": [
    "Test-set accuracy performance:"
   ]
  },
  {
   "cell_type": "code",
   "execution_count": 143,
   "metadata": {},
   "outputs": [
    {
     "data": {
      "text/plain": [
       "48.83"
      ]
     },
     "execution_count": 143,
     "metadata": {},
     "output_type": "execute_result"
    }
   ],
   "source": [
    "ComputeAccuracyBatchNormalization(X_test, y_test, best_weights, best_biases)"
   ]
  },
  {
   "cell_type": "markdown",
   "metadata": {},
   "source": [
    "Setting 2: $\\eta=0.007986719995840757 , \\lambda= 10^{-6}$"
   ]
  },
  {
   "cell_type": "code",
   "execution_count": 144,
   "metadata": {},
   "outputs": [],
   "source": [
    "cnt=1\n",
    "\n",
    "eta, regularization_term = 0.007986719995840757, 1e-06\n",
    "\n",
    "GD_params = [100, eta, 10, regularization_term]\n",
    "\n",
    "weights, biases = initialize_weights([[50, 3072], [30, 50], [10, 30]])\n",
    "\n",
    "best_weights, best_biases, losses, accuracies, exponentials = \\\n",
    "    MiniBatchGDBatchNormalization(training_set, validation_set, GD_params, weights, biases)\n",
    "inform_exit()"
   ]
  },
  {
   "cell_type": "markdown",
   "metadata": {},
   "source": [
    "Cross-entropy loss evolution:"
   ]
  },
  {
   "cell_type": "code",
   "execution_count": 145,
   "metadata": {},
   "outputs": [
    {
     "data": {
      "image/png": "[encoded data removed]",
      "text/plain": [
       "<Figure size 432x288 with 1 Axes>"
      ]
     },
     "metadata": {},
     "output_type": "display_data"
    },
    {
     "data": {
      "text/plain": [
       "<Figure size 432x288 with 0 Axes>"
      ]
     },
     "metadata": {},
     "output_type": "display_data"
    }
   ],
   "source": [
    "visualize_plots(losses[0], losses[1], display=True, save_name=f'{cnt}_loss.png')"
   ]
  },
  {
   "cell_type": "markdown",
   "metadata": {},
   "source": [
    "Accuracy performance evolution:"
   ]
  },
  {
   "cell_type": "markdown",
   "metadata": {},
   "source": [
    "visualize_plots(accuracies[0], accuracies[1], display=True, save_name=f'{cnt}_loss.png')"
   ]
  },
  {
   "cell_type": "markdown",
   "metadata": {},
   "source": [
    "Test set accuracy_performance:"
   ]
  },
  {
   "cell_type": "code",
   "execution_count": 147,
   "metadata": {},
   "outputs": [
    {
     "data": {
      "text/plain": [
       "50.71"
      ]
     },
     "execution_count": 147,
     "metadata": {},
     "output_type": "execute_result"
    }
   ],
   "source": [
    "ComputeAccuracyBatchNormalization(X_test, y_test, best_weights, best_biases)"
   ]
  },
  {
   "cell_type": "markdown",
   "metadata": {},
   "source": [
    "Setting 3: $\\eta=.012913581489067944 , \\lambda= 10^{-4}$"
   ]
  },
  {
   "cell_type": "code",
   "execution_count": 148,
   "metadata": {},
   "outputs": [],
   "source": [
    "cnt=2\n",
    "\n",
    "eta, regularization_term = 0.012913581489067944, 1e-04\n",
    "\n",
    "GD_params = [100, eta, 10, regularization_term]\n",
    "\n",
    "weights, biases = initialize_weights([[50, 3072], [30, 50], [10, 30]])\n",
    "\n",
    "best_weights, best_biases, losses, accuracies, exponentials = \\\n",
    "    MiniBatchGDBatchNormalization(training_set, validation_set, GD_params, weights, biases)\n",
    "inform_exit()"
   ]
  },
  {
   "cell_type": "markdown",
   "metadata": {},
   "source": [
    "Cross-entropy loss evolution:"
   ]
  },
  {
   "cell_type": "code",
   "execution_count": 149,
   "metadata": {},
   "outputs": [
    {
     "data": {
      "image/png": "[encoded data removed]",
      "text/plain": [
       "<Figure size 432x288 with 1 Axes>"
      ]
     },
     "metadata": {},
     "output_type": "display_data"
    },
    {
     "data": {
      "text/plain": [
       "<Figure size 432x288 with 0 Axes>"
      ]
     },
     "metadata": {},
     "output_type": "display_data"
    }
   ],
   "source": [
    "visualize_plots(losses[0], losses[1], display=True, save_name=f'{cnt}_loss.png')"
   ]
  },
  {
   "cell_type": "markdown",
   "metadata": {},
   "source": [
    "Accuracy performance evolution:"
   ]
  },
  {
   "cell_type": "code",
   "execution_count": 150,
   "metadata": {},
   "outputs": [
    {
     "data": {
      "image/png": "[encoded data removed]",
      "text/plain": [
       "<Figure size 432x288 with 1 Axes>"
      ]
     },
     "metadata": {},
     "output_type": "display_data"
    },
    {
     "data": {
      "text/plain": [
       "<Figure size 432x288 with 0 Axes>"
      ]
     },
     "metadata": {},
     "output_type": "display_data"
    }
   ],
   "source": [
    "visualize_plots(accuracies[0], accuracies[1], display=True, save_name=f'{cnt}_loss.png')"
   ]
  },
  {
   "cell_type": "markdown",
   "metadata": {},
   "source": [
    "Test set accuracy_performance:"
   ]
  },
  {
   "cell_type": "code",
   "execution_count": 151,
   "metadata": {},
   "outputs": [
    {
     "data": {
      "text/plain": [
       "50.84"
      ]
     },
     "execution_count": 151,
     "metadata": {},
     "output_type": "execute_result"
    }
   ],
   "source": [
    "ComputeAccuracyBatchNormalization(X_test, y_test, best_weights, best_biases)"
   ]
  },
  {
   "cell_type": "markdown",
   "metadata": {},
   "source": [
    "#### Compare a 2-layer network without batch normalization with a 2-layer network with batch normalization using a higher learning rate"
   ]
  },
  {
   "cell_type": "markdown",
   "metadata": {},
   "source": [
    "We will make use of the pair $(\\eta, \\lambda)= (0.0018920249916784752, 10^{-4})$ that led to test set accuracy perfomance of 50.23% after 30 epochs of training"
   ]
  },
  {
   "cell_type": "markdown",
   "metadata": {},
   "source": [
    "Comparing with $\\eta=0.1$ and 10 training epochs"
   ]
  },
  {
   "cell_type": "code",
   "execution_count": 154,
   "metadata": {},
   "outputs": [
    {
     "name": "stderr",
     "output_type": "stream",
     "text": [
      "100%|██████████| 10/10 [12:12<00:00, 73.27s/it]\n"
     ]
    }
   ],
   "source": [
    "eta, regularization_term = 0.1, 1e-04\n",
    "\n",
    "GD_params = [100, eta, 10, regularization_term]\n",
    "\n",
    "weights, biases = initialize_weights([[50, 3072], [10, 50] ])\n",
    "\n",
    "best_weights, best_biases, losses, accuracies, exponentials = \\\n",
    "    MiniBatchGDBatchNormalization(training_set, validation_set, GD_params, weights, biases)\n",
    "inform_exit()"
   ]
  },
  {
   "cell_type": "code",
   "execution_count": 155,
   "metadata": {},
   "outputs": [
    {
     "data": {
      "image/png": "[encoded data removed]",
      "text/plain": [
       "<Figure size 432x288 with 1 Axes>"
      ]
     },
     "metadata": {},
     "output_type": "display_data"
    },
    {
     "data": {
      "text/plain": [
       "<Figure size 432x288 with 0 Axes>"
      ]
     },
     "metadata": {},
     "output_type": "display_data"
    }
   ],
   "source": [
    "visualize_plots(losses[0], losses[1], display=True, save_name=f'00_loss.png')"
   ]
  },
  {
   "cell_type": "code",
   "execution_count": 156,
   "metadata": {},
   "outputs": [
    {
     "data": {
      "image/png": "[encoded data removed]",
      "text/plain": [
       "<Figure size 432x288 with 1 Axes>"
      ]
     },
     "metadata": {},
     "output_type": "display_data"
    },
    {
     "data": {
      "text/plain": [
       "<Figure size 432x288 with 0 Axes>"
      ]
     },
     "metadata": {},
     "output_type": "display_data"
    }
   ],
   "source": [
    "visualize_plots(accuracies[0], accuracies[1], display=True, save_name=f'00_acc.png')"
   ]
  },
  {
   "cell_type": "code",
   "execution_count": 157,
   "metadata": {},
   "outputs": [
    {
     "data": {
      "text/plain": [
       "48.28"
      ]
     },
     "execution_count": 157,
     "metadata": {},
     "output_type": "execute_result"
    }
   ],
   "source": [
    "ComputeAccuracyBatchNormalization(X_test, y_test, best_weights, best_biases)"
   ]
  },
  {
   "cell_type": "code",
   "execution_count": 158,
   "metadata": {},
   "outputs": [
    {
     "name": "stderr",
     "output_type": "stream",
     "text": [
      "100%|██████████| 10/10 [12:16<00:00, 73.63s/it]\n"
     ]
    }
   ],
   "source": [
    "eta, regularization = 0.0018920249916784752, 1e-4\n",
    "\n",
    "GD_params = [100, eta, 10, regularization_term]\n",
    "\n",
    "weights, biases = initialize_weights([[50, 3072], [10, 50] ])\n",
    "\n",
    "best_weights, best_biases, losses, accuracies, exponentials = \\\n",
    "    MiniBatchGDBatchNormalization(training_set, validation_set, GD_params, weights, biases)\n",
    "inform_exit()"
   ]
  },
  {
   "cell_type": "code",
   "execution_count": 159,
   "metadata": {},
   "outputs": [
    {
     "data": {
      "image/png": "[encoded data removed]",
      "text/plain": [
       "<Figure size 432x288 with 1 Axes>"
      ]
     },
     "metadata": {},
     "output_type": "display_data"
    },
    {
     "data": {
      "text/plain": [
       "<Figure size 432x288 with 0 Axes>"
      ]
     },
     "metadata": {},
     "output_type": "display_data"
    }
   ],
   "source": [
    "visualize_plots(losses[0], losses[1], display=True, save_name=f'01_loss.png')"
   ]
  },
  {
   "cell_type": "code",
   "execution_count": 160,
   "metadata": {},
   "outputs": [
    {
     "data": {
      "image/png": "[encoded data removed]",
      "text/plain": [
       "<Figure size 432x288 with 1 Axes>"
      ]
     },
     "metadata": {},
     "output_type": "display_data"
    },
    {
     "data": {
      "text/plain": [
       "<Figure size 432x288 with 0 Axes>"
      ]
     },
     "metadata": {},
     "output_type": "display_data"
    }
   ],
   "source": [
    "visualize_plots(accuracies[0], accuracies[1], display=True, save_name=f'01_acc.png')"
   ]
  },
  {
   "cell_type": "code",
   "execution_count": 161,
   "metadata": {},
   "outputs": [
    {
     "data": {
      "text/plain": [
       "48.5"
      ]
     },
     "execution_count": 161,
     "metadata": {},
     "output_type": "execute_result"
    }
   ],
   "source": [
    "ComputeAccuracyBatchNormalization(X_test, y_test, best_weights, best_biases)"
   ]
  },
  {
   "cell_type": "markdown",
   "metadata": {},
   "source": [
    "Setting $\\eta$ as high as 0.6:"
   ]
  },
  {
   "cell_type": "code",
   "execution_count": 162,
   "metadata": {},
   "outputs": [
    {
     "name": "stderr",
     "output_type": "stream",
     "text": [
      "100%|██████████| 10/10 [12:27<00:00, 74.73s/it]\n"
     ]
    }
   ],
   "source": [
    "eta, regularization = 0.6, 1e-6\n",
    "\n",
    "GD_params = [100, eta, 10, regularization_term]\n",
    "\n",
    "weights, biases = initialize_weights([[50, 3072], [10, 50] ])\n",
    "\n",
    "best_weights, best_biases, losses, accuracies, exponentials = \\\n",
    "    MiniBatchGDBatchNormalization(training_set, validation_set, GD_params, weights, biases)\n",
    "inform_exit()"
   ]
  },
  {
   "cell_type": "code",
   "execution_count": 163,
   "metadata": {},
   "outputs": [
    {
     "data": {
      "image/png": "[encoded data removed]",
      "text/plain": [
       "<Figure size 432x288 with 1 Axes>"
      ]
     },
     "metadata": {},
     "output_type": "display_data"
    },
    {
     "data": {
      "text/plain": [
       "<Figure size 432x288 with 0 Axes>"
      ]
     },
     "metadata": {},
     "output_type": "display_data"
    }
   ],
   "source": [
    "visualize_plots(losses[0], losses[1], display=True, save_name=f'{cnt}_loss.png')"
   ]
  },
  {
   "cell_type": "code",
   "execution_count": 164,
   "metadata": {},
   "outputs": [
    {
     "data": {
      "image/png": "[encoded data removed]",
      "text/plain": [
       "<Figure size 432x288 with 1 Axes>"
      ]
     },
     "metadata": {},
     "output_type": "display_data"
    },
    {
     "data": {
      "text/plain": [
       "<Figure size 432x288 with 0 Axes>"
      ]
     },
     "metadata": {},
     "output_type": "display_data"
    }
   ],
   "source": [
    "visualize_plots(accuracies[0], accuracies[1], display=True, save_name=f'{cnt}_loss.png')"
   ]
  },
  {
   "cell_type": "code",
   "execution_count": 165,
   "metadata": {},
   "outputs": [
    {
     "data": {
      "text/plain": [
       "45.68"
      ]
     },
     "execution_count": 165,
     "metadata": {},
     "output_type": "execute_result"
    }
   ],
   "source": [
    "ComputeAccuracyBatchNormalization(X_test, y_test, best_weights, best_biases)"
   ]
  },
  {
   "cell_type": "markdown",
   "metadata": {},
   "source": [
    "Comparing with $\\eta = 0.057$"
   ]
  },
  {
   "cell_type": "code",
   "execution_count": 166,
   "metadata": {},
   "outputs": [
    {
     "name": "stderr",
     "output_type": "stream",
     "text": [
      "100%|██████████| 10/10 [12:31<00:00, 75.18s/it]\n"
     ]
    }
   ],
   "source": [
    "eta, regularization = 0.057, 1e-5\n",
    "\n",
    "GD_params = [100, eta, 10, regularization_term]\n",
    "\n",
    "weights, biases = initialize_weights([[50, 3072], [10, 50] ])\n",
    "\n",
    "best_weights, best_biases, losses, accuracies, exponentials = \\\n",
    "    MiniBatchGDBatchNormalization(training_set, validation_set, GD_params, weights, biases)\n",
    "inform_exit()"
   ]
  },
  {
   "cell_type": "code",
   "execution_count": 167,
   "metadata": {},
   "outputs": [
    {
     "data": {
      "image/png": "[encoded data removed]",
      "text/plain": [
       "<Figure size 432x288 with 1 Axes>"
      ]
     },
     "metadata": {},
     "output_type": "display_data"
    },
    {
     "data": {
      "text/plain": [
       "<Figure size 432x288 with 0 Axes>"
      ]
     },
     "metadata": {},
     "output_type": "display_data"
    }
   ],
   "source": [
    "visualize_plots(losses[0], losses[1], display=True, save_name=f'{cnt}_loss.png')"
   ]
  },
  {
   "cell_type": "code",
   "execution_count": 168,
   "metadata": {},
   "outputs": [
    {
     "data": {
      "image/png": "[encoded data removed]",
      "text/plain": [
       "<Figure size 432x288 with 1 Axes>"
      ]
     },
     "metadata": {},
     "output_type": "display_data"
    },
    {
     "data": {
      "text/plain": [
       "<Figure size 432x288 with 0 Axes>"
      ]
     },
     "metadata": {},
     "output_type": "display_data"
    }
   ],
   "source": [
    "visualize_plots(accuracies[0], accuracies[1], display=True, save_name=f'{cnt}_loss.png')"
   ]
  },
  {
   "cell_type": "code",
   "execution_count": 169,
   "metadata": {},
   "outputs": [
    {
     "data": {
      "text/plain": [
       "49.94"
      ]
     },
     "execution_count": 169,
     "metadata": {},
     "output_type": "execute_result"
    }
   ],
   "source": [
    "ComputeAccuracyBatchNormalization(X_test, y_test, best_weights, best_biases)"
   ]
  },
  {
   "cell_type": "markdown",
   "metadata": {},
   "source": [
    "### Report assignments"
   ]
  },
  {
   "cell_type": "markdown",
   "metadata": {},
   "source": [
    "#### Question 1: State how you checked your analytic gradient computations (with some accompanying numbers) and whether you think that your gradient computations are bug free for your k-layer network with batch normalization."
   ]
  },
  {
   "cell_type": "markdown",
   "metadata": {},
   "source": [
    "Already reported in the first part of Exercise 3!"
   ]
  },
  {
   "cell_type": "markdown",
   "metadata": {},
   "source": [
    "#### Question 2: Include graphs of the evolution of the loss function when you tried to train your 3-layer network without batch normalization and with batch normalization."
   ]
  },
  {
   "cell_type": "markdown",
   "metadata": {},
   "source": [
    "Let's train a 3-layer network with the exact same settings that led to the best test-set accuracy performance with batch normalization"
   ]
  },
  {
   "cell_type": "code",
   "execution_count": null,
   "metadata": {},
   "outputs": [],
   "source": []
  }
 ],
 "metadata": {
  "kernelspec": {
   "display_name": "Python 3",
   "language": "python",
   "name": "python3"
  },
  "language_info": {
   "codemirror_mode": {
    "name": "ipython",
    "version": 3
   },
   "file_extension": ".py",
   "mimetype": "text/x-python",
   "name": "python",
   "nbconvert_exporter": "python",
   "pygments_lexer": "ipython3",
   "version": "3.6.5"
  }
 },
 "nbformat": 4,
 "nbformat_minor": 2
}
